{
 "cells": [
  {
   "cell_type": "code",
   "execution_count": 1,
   "id": "1a80c10b",
   "metadata": {},
   "outputs": [],
   "source": [
    "def test():\n",
    "    print(\"This is function\")"
   ]
  },
  {
   "cell_type": "code",
   "execution_count": 2,
   "id": "4dff39c2",
   "metadata": {},
   "outputs": [
    {
     "name": "stdout",
     "output_type": "stream",
     "text": [
      "This is function\n"
     ]
    }
   ],
   "source": [
    "test()"
   ]
  },
  {
   "cell_type": "code",
   "execution_count": 3,
   "id": "9b7f4140",
   "metadata": {},
   "outputs": [
    {
     "name": "stdout",
     "output_type": "stream",
     "text": [
      "This is function\n"
     ]
    },
    {
     "ename": "TypeError",
     "evalue": "unsupported operand type(s) for +: 'NoneType' and 'str'",
     "output_type": "error",
     "traceback": [
      "\u001b[1;31m---------------------------------------------------------------------------\u001b[0m",
      "\u001b[1;31mTypeError\u001b[0m                                 Traceback (most recent call last)",
      "\u001b[1;32m~\\AppData\\Local\\Temp/ipykernel_1096/2163964379.py\u001b[0m in \u001b[0;36m<module>\u001b[1;34m\u001b[0m\n\u001b[1;32m----> 1\u001b[1;33m \u001b[0mtest\u001b[0m\u001b[1;33m(\u001b[0m\u001b[1;33m)\u001b[0m\u001b[1;33m+\u001b[0m\u001b[1;34m\"pooja\"\u001b[0m\u001b[1;33m\u001b[0m\u001b[1;33m\u001b[0m\u001b[0m\n\u001b[0m",
      "\u001b[1;31mTypeError\u001b[0m: unsupported operand type(s) for +: 'NoneType' and 'str'"
     ]
    }
   ],
   "source": [
    "test()+\"pooja\""
   ]
  },
  {
   "cell_type": "code",
   "execution_count": 4,
   "id": "bff208e2",
   "metadata": {},
   "outputs": [],
   "source": [
    "def test1():\n",
    "    return \"This is function\""
   ]
  },
  {
   "cell_type": "code",
   "execution_count": 6,
   "id": "3b5a065f",
   "metadata": {},
   "outputs": [
    {
     "data": {
      "text/plain": [
       "'This is function'"
      ]
     },
     "execution_count": 6,
     "metadata": {},
     "output_type": "execute_result"
    }
   ],
   "source": [
    "test1()"
   ]
  },
  {
   "cell_type": "code",
   "execution_count": 8,
   "id": "47e9c78c",
   "metadata": {},
   "outputs": [
    {
     "data": {
      "text/plain": [
       "'This is function pooja'"
      ]
     },
     "execution_count": 8,
     "metadata": {},
     "output_type": "execute_result"
    }
   ],
   "source": [
    "test1()+\" pooja\""
   ]
  },
  {
   "cell_type": "code",
   "execution_count": 9,
   "id": "95ce51f4",
   "metadata": {},
   "outputs": [
    {
     "data": {
      "text/plain": [
       "str"
      ]
     },
     "execution_count": 9,
     "metadata": {},
     "output_type": "execute_result"
    }
   ],
   "source": [
    "type(test1())"
   ]
  },
  {
   "cell_type": "code",
   "execution_count": 10,
   "id": "077f7694",
   "metadata": {},
   "outputs": [
    {
     "name": "stdout",
     "output_type": "stream",
     "text": [
      "This is function\n"
     ]
    },
    {
     "data": {
      "text/plain": [
       "NoneType"
      ]
     },
     "execution_count": 10,
     "metadata": {},
     "output_type": "execute_result"
    }
   ],
   "source": [
    "type(test())"
   ]
  },
  {
   "cell_type": "code",
   "execution_count": 12,
   "id": "9ba63ff1",
   "metadata": {},
   "outputs": [],
   "source": [
    "def test2():\n",
    "    pass"
   ]
  },
  {
   "cell_type": "code",
   "execution_count": 13,
   "id": "ad584664",
   "metadata": {},
   "outputs": [],
   "source": [
    "def test3():\n",
    "    return 1,3,4,[1,5,6]"
   ]
  },
  {
   "cell_type": "code",
   "execution_count": 14,
   "id": "ca912330",
   "metadata": {},
   "outputs": [
    {
     "data": {
      "text/plain": [
       "(1, 3, 4, [1, 5, 6])"
      ]
     },
     "execution_count": 14,
     "metadata": {},
     "output_type": "execute_result"
    }
   ],
   "source": [
    "test3()"
   ]
  },
  {
   "cell_type": "code",
   "execution_count": 15,
   "id": "eff136de",
   "metadata": {},
   "outputs": [
    {
     "data": {
      "text/plain": [
       "tuple"
      ]
     },
     "execution_count": 15,
     "metadata": {},
     "output_type": "execute_result"
    }
   ],
   "source": [
    "type(test3())"
   ]
  },
  {
   "cell_type": "code",
   "execution_count": 16,
   "id": "717e0d2b",
   "metadata": {},
   "outputs": [],
   "source": [
    "a=test3()"
   ]
  },
  {
   "cell_type": "code",
   "execution_count": 17,
   "id": "d593a2ef",
   "metadata": {},
   "outputs": [
    {
     "data": {
      "text/plain": [
       "(1, 3, 4, [1, 5, 6])"
      ]
     },
     "execution_count": 17,
     "metadata": {},
     "output_type": "execute_result"
    }
   ],
   "source": [
    "a"
   ]
  },
  {
   "cell_type": "code",
   "execution_count": 18,
   "id": "e10f0e11",
   "metadata": {},
   "outputs": [],
   "source": [
    "a,b,c,d=test3()"
   ]
  },
  {
   "cell_type": "code",
   "execution_count": 19,
   "id": "b8122859",
   "metadata": {},
   "outputs": [
    {
     "data": {
      "text/plain": [
       "1"
      ]
     },
     "execution_count": 19,
     "metadata": {},
     "output_type": "execute_result"
    }
   ],
   "source": [
    "a"
   ]
  },
  {
   "cell_type": "code",
   "execution_count": 20,
   "id": "9463f33d",
   "metadata": {},
   "outputs": [
    {
     "data": {
      "text/plain": [
       "3"
      ]
     },
     "execution_count": 20,
     "metadata": {},
     "output_type": "execute_result"
    }
   ],
   "source": [
    "b"
   ]
  },
  {
   "cell_type": "code",
   "execution_count": 21,
   "id": "4d1cd28a",
   "metadata": {},
   "outputs": [
    {
     "data": {
      "text/plain": [
       "4"
      ]
     },
     "execution_count": 21,
     "metadata": {},
     "output_type": "execute_result"
    }
   ],
   "source": [
    "c"
   ]
  },
  {
   "cell_type": "code",
   "execution_count": 22,
   "id": "4cc82f4a",
   "metadata": {},
   "outputs": [
    {
     "data": {
      "text/plain": [
       "[1, 5, 6]"
      ]
     },
     "execution_count": 22,
     "metadata": {},
     "output_type": "execute_result"
    }
   ],
   "source": [
    "d"
   ]
  },
  {
   "cell_type": "code",
   "execution_count": 23,
   "id": "fb279d60",
   "metadata": {},
   "outputs": [],
   "source": [
    "def test4():\n",
    "    a=4*5\n",
    "    b=8+5\n",
    "    return a,b"
   ]
  },
  {
   "cell_type": "code",
   "execution_count": 24,
   "id": "715785f9",
   "metadata": {},
   "outputs": [
    {
     "data": {
      "text/plain": [
       "(20, 13)"
      ]
     },
     "execution_count": 24,
     "metadata": {},
     "output_type": "execute_result"
    }
   ],
   "source": [
    "test4()"
   ]
  },
  {
   "cell_type": "code",
   "execution_count": 28,
   "id": "12a1da41",
   "metadata": {},
   "outputs": [],
   "source": [
    "g,k=test4()"
   ]
  },
  {
   "cell_type": "code",
   "execution_count": 29,
   "id": "742cf96a",
   "metadata": {},
   "outputs": [
    {
     "data": {
      "text/plain": [
       "20"
      ]
     },
     "execution_count": 29,
     "metadata": {},
     "output_type": "execute_result"
    }
   ],
   "source": [
    "g"
   ]
  },
  {
   "cell_type": "code",
   "execution_count": 30,
   "id": "d7972227",
   "metadata": {},
   "outputs": [
    {
     "data": {
      "text/plain": [
       "13"
      ]
     },
     "execution_count": 30,
     "metadata": {},
     "output_type": "execute_result"
    }
   ],
   "source": [
    "k"
   ]
  },
  {
   "cell_type": "code",
   "execution_count": 36,
   "id": "e1d1a50c",
   "metadata": {},
   "outputs": [],
   "source": [
    "d,_=test4()"
   ]
  },
  {
   "cell_type": "code",
   "execution_count": 37,
   "id": "0fe2d438",
   "metadata": {},
   "outputs": [
    {
     "data": {
      "text/plain": [
       "20"
      ]
     },
     "execution_count": 37,
     "metadata": {},
     "output_type": "execute_result"
    }
   ],
   "source": [
    "d"
   ]
  },
  {
   "cell_type": "code",
   "execution_count": 38,
   "id": "baa9a13e",
   "metadata": {},
   "outputs": [
    {
     "data": {
      "text/plain": [
       "13"
      ]
     },
     "execution_count": 38,
     "metadata": {},
     "output_type": "execute_result"
    }
   ],
   "source": [
    "_"
   ]
  },
  {
   "cell_type": "code",
   "execution_count": 39,
   "id": "e843da0b",
   "metadata": {},
   "outputs": [],
   "source": [
    "_,k=test4()"
   ]
  },
  {
   "cell_type": "code",
   "execution_count": 40,
   "id": "be34ce10",
   "metadata": {},
   "outputs": [
    {
     "data": {
      "text/plain": [
       "20"
      ]
     },
     "execution_count": 40,
     "metadata": {},
     "output_type": "execute_result"
    }
   ],
   "source": [
    "_"
   ]
  },
  {
   "cell_type": "code",
   "execution_count": 41,
   "id": "38e81735",
   "metadata": {},
   "outputs": [
    {
     "data": {
      "text/plain": [
       "13"
      ]
     },
     "execution_count": 41,
     "metadata": {},
     "output_type": "execute_result"
    }
   ],
   "source": [
    "k"
   ]
  },
  {
   "cell_type": "code",
   "execution_count": 62,
   "id": "068930a2",
   "metadata": {},
   "outputs": [
    {
     "name": "stdout",
     "output_type": "stream",
     "text": [
      "260\n"
     ]
    }
   ],
   "source": [
    "def test4():\n",
    "    a=4*5\n",
    "    b=8+5\n",
    "    print(a*b)\n",
    "#     return a+b\n",
    "p=test4()\n",
    "# test4()"
   ]
  },
  {
   "cell_type": "code",
   "execution_count": 63,
   "id": "4740a119",
   "metadata": {},
   "outputs": [
    {
     "name": "stdout",
     "output_type": "stream",
     "text": [
      "None\n"
     ]
    }
   ],
   "source": [
    "print(p)"
   ]
  },
  {
   "cell_type": "code",
   "execution_count": 56,
   "id": "e9e87e7d",
   "metadata": {},
   "outputs": [],
   "source": [
    "def test5():\n",
    "    a,b=1,10\n",
    "    while a<=b:\n",
    "        print(a)\n",
    "        a+=1"
   ]
  },
  {
   "cell_type": "code",
   "execution_count": 57,
   "id": "e5aebd33",
   "metadata": {},
   "outputs": [
    {
     "name": "stdout",
     "output_type": "stream",
     "text": [
      "1\n",
      "2\n",
      "3\n",
      "4\n",
      "5\n",
      "6\n",
      "7\n",
      "8\n",
      "9\n",
      "10\n"
     ]
    }
   ],
   "source": [
    "test5()"
   ]
  },
  {
   "cell_type": "code",
   "execution_count": 65,
   "id": "c11e8195",
   "metadata": {},
   "outputs": [],
   "source": [
    "def test6(a,b):\n",
    " \n",
    "    while a<=b:\n",
    "        print(a)\n",
    "        a+=1"
   ]
  },
  {
   "cell_type": "code",
   "execution_count": 66,
   "id": "7fe2e2c3",
   "metadata": {},
   "outputs": [
    {
     "name": "stdout",
     "output_type": "stream",
     "text": [
      "1\n",
      "2\n",
      "3\n",
      "4\n",
      "5\n",
      "6\n",
      "7\n",
      "8\n",
      "9\n",
      "10\n"
     ]
    }
   ],
   "source": [
    "test6(1,10)"
   ]
  },
  {
   "cell_type": "code",
   "execution_count": 67,
   "id": "91e1d854",
   "metadata": {},
   "outputs": [
    {
     "name": "stdout",
     "output_type": "stream",
     "text": [
      "7\n",
      "8\n",
      "9\n",
      "10\n",
      "11\n",
      "12\n",
      "13\n",
      "14\n",
      "15\n"
     ]
    }
   ],
   "source": [
    "test6(7,15)"
   ]
  },
  {
   "cell_type": "code",
   "execution_count": 69,
   "id": "22d4f8c4",
   "metadata": {},
   "outputs": [
    {
     "data": {
      "text/plain": [
       "NoneType"
      ]
     },
     "execution_count": 69,
     "metadata": {},
     "output_type": "execute_result"
    }
   ],
   "source": [
    "type(test6(7,6))"
   ]
  },
  {
   "cell_type": "code",
   "execution_count": 77,
   "id": "9e712722",
   "metadata": {},
   "outputs": [],
   "source": [
    "def test7(a,b):\n",
    "    l=[]\n",
    "    while a<=b:\n",
    "        l.append(a)  \n",
    "        a+=1\n",
    "    return (l)    "
   ]
  },
  {
   "cell_type": "code",
   "execution_count": 79,
   "id": "6143a93e",
   "metadata": {},
   "outputs": [
    {
     "data": {
      "text/plain": [
       "[7, 8, 9, 10, 11, 12, 13, 14, 15]"
      ]
     },
     "execution_count": 79,
     "metadata": {},
     "output_type": "execute_result"
    }
   ],
   "source": [
    "test7(7,15)"
   ]
  },
  {
   "cell_type": "code",
   "execution_count": 80,
   "id": "34e46cc7",
   "metadata": {},
   "outputs": [],
   "source": [
    "l=[4,5,6,67,7,8,9,[2,4,6,8,7,7],\"pooja\"]"
   ]
  },
  {
   "cell_type": "code",
   "execution_count": 92,
   "id": "718d0841",
   "metadata": {},
   "outputs": [],
   "source": [
    "def test8(l):\n",
    "    lst_int=[]\n",
    "    for i in l:\n",
    "        if type(i)==int:\n",
    "            lst_int.append(i)\n",
    "    return lst_int        "
   ]
  },
  {
   "cell_type": "code",
   "execution_count": 93,
   "id": "c622bf77",
   "metadata": {},
   "outputs": [
    {
     "data": {
      "text/plain": [
       "[4, 5, 6, 67, 7, 8, 9]"
      ]
     },
     "execution_count": 93,
     "metadata": {},
     "output_type": "execute_result"
    }
   ],
   "source": [
    "test8(l)"
   ]
  },
  {
   "cell_type": "code",
   "execution_count": 90,
   "id": "1dc54494",
   "metadata": {},
   "outputs": [],
   "source": [
    "l2=[4,6,7,9,5]"
   ]
  },
  {
   "cell_type": "code",
   "execution_count": 94,
   "id": "4142a114",
   "metadata": {},
   "outputs": [
    {
     "data": {
      "text/plain": [
       "[4, 6, 7, 9, 5]"
      ]
     },
     "execution_count": 94,
     "metadata": {},
     "output_type": "execute_result"
    }
   ],
   "source": [
    "test8(l2)"
   ]
  },
  {
   "cell_type": "code",
   "execution_count": 95,
   "id": "a621413a",
   "metadata": {},
   "outputs": [],
   "source": [
    "def test9(t):\n",
    "    a=0\n",
    "    while a<len(t):\n",
    "        if t[a]==7 or t[a]==6:\n",
    "            print(a,\":\",t[a])\n",
    "        a+=1"
   ]
  },
  {
   "cell_type": "code",
   "execution_count": 98,
   "id": "e7cac08c",
   "metadata": {},
   "outputs": [
    {
     "name": "stdout",
     "output_type": "stream",
     "text": [
      "1 : 6\n",
      "2 : 7\n",
      "3 : 7\n",
      "4 : 6\n",
      "7 : 6\n",
      "8 : 7\n",
      "9 : 7\n"
     ]
    }
   ],
   "source": [
    "test9((4, 6, 7,7,6,8,9,6,7,7,2, 9, 5))"
   ]
  },
  {
   "cell_type": "code",
   "execution_count": 99,
   "id": "b9ec4714",
   "metadata": {},
   "outputs": [
    {
     "name": "stdout",
     "output_type": "stream",
     "text": [
      "1 : 6\n",
      "2 : 7\n"
     ]
    }
   ],
   "source": [
    "test9([4,6,7,9,5])"
   ]
  },
  {
   "cell_type": "code",
   "execution_count": 104,
   "id": "455a6201",
   "metadata": {},
   "outputs": [],
   "source": [
    "def test9(t):\n",
    "    a=0\n",
    "    l,l1=[],[]\n",
    "    while a<len(t):\n",
    "        if t[a]==7 or t[a]==6:\n",
    "            l.append(a)\n",
    "            l1.append(t[a])\n",
    "            print(a,\":\",t[a])\n",
    "        a+=1\n",
    "    return ll1    \n",
    "    "
   ]
  },
  {
   "cell_type": "code",
   "execution_count": 105,
   "id": "0e39bdbb",
   "metadata": {},
   "outputs": [
    {
     "name": "stdout",
     "output_type": "stream",
     "text": [
      "1 : 6\n",
      "2 : 7\n"
     ]
    },
    {
     "data": {
      "text/plain": [
       "([1, 2], [6, 7])"
      ]
     },
     "execution_count": 105,
     "metadata": {},
     "output_type": "execute_result"
    }
   ],
   "source": [
    "test9([4,6,7,9,5])"
   ]
  },
  {
   "cell_type": "code",
   "execution_count": 1,
   "id": "5a35a48f",
   "metadata": {},
   "outputs": [
    {
     "name": "stdout",
     "output_type": "stream",
     "text": [
      "2 : 2\n",
      "3. : 1\n",
      "3? : 1\n",
      "New : 1\n",
      "Python : 5\n",
      "Read : 1\n",
      "and : 1\n",
      "between : 1\n",
      "choosing : 1\n",
      "or : 2\n",
      "to : 1\n"
     ]
    }
   ],
   "source": [
    "s=\"New to Python or choosing between Python 2 and Python 3? Read Python 2 or Python 3.\"\n",
    "for i in sorted(set(s.split())):\n",
    "    print(i,\":\",s.count(i))"
   ]
  },
  {
   "cell_type": "code",
   "execution_count": 25,
   "id": "9ad34e59",
   "metadata": {},
   "outputs": [],
   "source": [
    "def  test(a, b):\n",
    "    \"\"\"It add two arugament\"\"\"\n",
    "#     print(b)\n",
    "    return a+b"
   ]
  },
  {
   "cell_type": "code",
   "execution_count": 26,
   "id": "eafe985e",
   "metadata": {},
   "outputs": [
    {
     "data": {
      "text/plain": [
       "10"
      ]
     },
     "execution_count": 26,
     "metadata": {},
     "output_type": "execute_result"
    }
   ],
   "source": [
    "test(4,6)"
   ]
  },
  {
   "cell_type": "code",
   "execution_count": 27,
   "id": "8991b72d",
   "metadata": {},
   "outputs": [
    {
     "data": {
      "text/plain": [
       "'poojadas'"
      ]
     },
     "execution_count": 27,
     "metadata": {},
     "output_type": "execute_result"
    }
   ],
   "source": [
    "test(\"pooja\",\"das\")"
   ]
  },
  {
   "cell_type": "code",
   "execution_count": 28,
   "id": "b6f35683",
   "metadata": {},
   "outputs": [
    {
     "data": {
      "text/plain": [
       "15"
      ]
     },
     "execution_count": 28,
     "metadata": {},
     "output_type": "execute_result"
    }
   ],
   "source": [
    "test(b=7,a=8)"
   ]
  },
  {
   "cell_type": "code",
   "execution_count": 29,
   "id": "d81077fd",
   "metadata": {},
   "outputs": [],
   "source": [
    "test?"
   ]
  },
  {
   "cell_type": "code",
   "execution_count": 30,
   "id": "97780d4c",
   "metadata": {},
   "outputs": [],
   "source": [
    "def test1(a,b,c,d,e):\n",
    "    return a,b,c,d,e"
   ]
  },
  {
   "cell_type": "code",
   "execution_count": 31,
   "id": "7dd28f23",
   "metadata": {},
   "outputs": [
    {
     "ename": "TypeError",
     "evalue": "test1() takes 5 positional arguments but 6 were given",
     "output_type": "error",
     "traceback": [
      "\u001b[1;31m---------------------------------------------------------------------------\u001b[0m",
      "\u001b[1;31mTypeError\u001b[0m                                 Traceback (most recent call last)",
      "\u001b[1;32m~\\AppData\\Local\\Temp/ipykernel_9524/3491964467.py\u001b[0m in \u001b[0;36m<module>\u001b[1;34m\u001b[0m\n\u001b[1;32m----> 1\u001b[1;33m \u001b[0mtest1\u001b[0m\u001b[1;33m(\u001b[0m\u001b[1;36m4\u001b[0m\u001b[1;33m,\u001b[0m\u001b[1;36m8\u001b[0m\u001b[1;33m,\u001b[0m\u001b[1;36m9\u001b[0m\u001b[1;33m,\u001b[0m\u001b[1;36m7\u001b[0m\u001b[1;33m,\u001b[0m\u001b[1;36m6\u001b[0m\u001b[1;33m,\u001b[0m\u001b[1;36m3\u001b[0m\u001b[1;33m)\u001b[0m\u001b[1;33m\u001b[0m\u001b[1;33m\u001b[0m\u001b[0m\n\u001b[0m",
      "\u001b[1;31mTypeError\u001b[0m: test1() takes 5 positional arguments but 6 were given"
     ]
    }
   ],
   "source": [
    "test1(4,8,9,7,6,3)"
   ]
  },
  {
   "cell_type": "code",
   "execution_count": 32,
   "id": "9587b21b",
   "metadata": {},
   "outputs": [
    {
     "name": "stdout",
     "output_type": "stream",
     "text": [
      "It add two arugament\n"
     ]
    }
   ],
   "source": [
    "print(test.__doc__)"
   ]
  },
  {
   "cell_type": "code",
   "execution_count": 45,
   "id": "033a4c2c",
   "metadata": {},
   "outputs": [],
   "source": [
    "def test1(*lst):\n",
    "    print(sum(lst))\n",
    "    s=0\n",
    "    for i in lst:\n",
    "        s=s+i\n",
    "    return s"
   ]
  },
  {
   "cell_type": "code",
   "execution_count": 46,
   "id": "51f32cef",
   "metadata": {},
   "outputs": [
    {
     "name": "stdout",
     "output_type": "stream",
     "text": [
      "37\n"
     ]
    },
    {
     "data": {
      "text/plain": [
       "37"
      ]
     },
     "execution_count": 46,
     "metadata": {},
     "output_type": "execute_result"
    }
   ],
   "source": [
    "test1(4,8,9,7,6,3)"
   ]
  },
  {
   "cell_type": "code",
   "execution_count": 47,
   "id": "3a146bf5",
   "metadata": {},
   "outputs": [],
   "source": [
    "def test2(*a):\n",
    "    l=[]\n",
    "    for i in a:\n",
    "        l.append(i)\n",
    "    return l    "
   ]
  },
  {
   "cell_type": "code",
   "execution_count": 48,
   "id": "646c5079",
   "metadata": {},
   "outputs": [
    {
     "data": {
      "text/plain": [
       "[4, 8, 9, 7, [8.9, 6, 3, 1, 7], 6, 3]"
      ]
     },
     "execution_count": 48,
     "metadata": {},
     "output_type": "execute_result"
    }
   ],
   "source": [
    "test2(4,8,9,7,[8.9,6,3,1,7],6,3)"
   ]
  },
  {
   "cell_type": "code",
   "execution_count": 49,
   "id": "693c6999",
   "metadata": {},
   "outputs": [
    {
     "data": {
      "text/plain": [
       "['pooja', 7, 6]"
      ]
     },
     "execution_count": 49,
     "metadata": {},
     "output_type": "execute_result"
    }
   ],
   "source": [
    "test2(\"pooja\",7,6)"
   ]
  },
  {
   "cell_type": "code",
   "execution_count": 50,
   "id": "f95a8866",
   "metadata": {},
   "outputs": [],
   "source": [
    "def test3(a,b,c,d,*args):\n",
    "    return a,b,c,d,args"
   ]
  },
  {
   "cell_type": "code",
   "execution_count": 53,
   "id": "fdbacbae",
   "metadata": {},
   "outputs": [
    {
     "data": {
      "text/plain": [
       "(4, 8, 9, 7, (['pooja', 8.9, 6, 3, 1, 7], 6, 3, 'das'))"
      ]
     },
     "execution_count": 53,
     "metadata": {},
     "output_type": "execute_result"
    }
   ],
   "source": [
    "test3(4,8,9,7,[\"pooja\",8.9,6,3,1,7],6,3,\"das\")"
   ]
  },
  {
   "cell_type": "code",
   "execution_count": 60,
   "id": "7db81446",
   "metadata": {},
   "outputs": [],
   "source": [
    "def test4(*args,a,b,c,d,):\n",
    "    return a,b,c,d,args"
   ]
  },
  {
   "cell_type": "code",
   "execution_count": 61,
   "id": "d8b80c22",
   "metadata": {},
   "outputs": [
    {
     "ename": "TypeError",
     "evalue": "test4() missing 4 required keyword-only arguments: 'a', 'b', 'c', and 'd'",
     "output_type": "error",
     "traceback": [
      "\u001b[1;31m---------------------------------------------------------------------------\u001b[0m",
      "\u001b[1;31mTypeError\u001b[0m                                 Traceback (most recent call last)",
      "\u001b[1;32m~\\AppData\\Local\\Temp/ipykernel_9524/457528342.py\u001b[0m in \u001b[0;36m<module>\u001b[1;34m\u001b[0m\n\u001b[1;32m----> 1\u001b[1;33m \u001b[0mtest4\u001b[0m\u001b[1;33m(\u001b[0m\u001b[1;36m4\u001b[0m\u001b[1;33m,\u001b[0m\u001b[1;36m8\u001b[0m\u001b[1;33m,\u001b[0m\u001b[1;36m9\u001b[0m\u001b[1;33m,\u001b[0m\u001b[1;36m7\u001b[0m\u001b[1;33m,\u001b[0m\u001b[1;33m[\u001b[0m\u001b[1;34m\"pooja\"\u001b[0m\u001b[1;33m,\u001b[0m\u001b[1;36m8.9\u001b[0m\u001b[1;33m,\u001b[0m\u001b[1;36m6\u001b[0m\u001b[1;33m,\u001b[0m\u001b[1;36m3\u001b[0m\u001b[1;33m,\u001b[0m\u001b[1;36m1\u001b[0m\u001b[1;33m,\u001b[0m\u001b[1;36m7\u001b[0m\u001b[1;33m]\u001b[0m\u001b[1;33m,\u001b[0m\u001b[1;36m6\u001b[0m\u001b[1;33m,\u001b[0m\u001b[1;36m3\u001b[0m\u001b[1;33m,\u001b[0m\u001b[1;34m\"das\"\u001b[0m\u001b[1;33m)\u001b[0m\u001b[1;33m\u001b[0m\u001b[1;33m\u001b[0m\u001b[0m\n\u001b[0m",
      "\u001b[1;31mTypeError\u001b[0m: test4() missing 4 required keyword-only arguments: 'a', 'b', 'c', and 'd'"
     ]
    }
   ],
   "source": [
    "test4(4,8,9,7,[\"pooja\",8.9,6,3,1,7],6,3,\"das\")"
   ]
  },
  {
   "cell_type": "code",
   "execution_count": 62,
   "id": "3fd1cf4a",
   "metadata": {},
   "outputs": [
    {
     "data": {
      "text/plain": [
       "(['pooja', 8.9, 6, 3, 1, 7], 6, 3, 'das', (4, 8, 9, 7))"
      ]
     },
     "execution_count": 62,
     "metadata": {},
     "output_type": "execute_result"
    }
   ],
   "source": [
    "test4(4,8,9,7,a=[\"pooja\",8.9,6,3,1,7],b=6,c=3,d=\"das\")"
   ]
  },
  {
   "cell_type": "code",
   "execution_count": 63,
   "id": "fed15982",
   "metadata": {},
   "outputs": [],
   "source": [
    "def test5(**kwags):\n",
    "    return kwags\n",
    "    "
   ]
  },
  {
   "cell_type": "code",
   "execution_count": 64,
   "id": "0b733c68",
   "metadata": {},
   "outputs": [
    {
     "ename": "TypeError",
     "evalue": "test5() takes 0 positional arguments but 3 were given",
     "output_type": "error",
     "traceback": [
      "\u001b[1;31m---------------------------------------------------------------------------\u001b[0m",
      "\u001b[1;31mTypeError\u001b[0m                                 Traceback (most recent call last)",
      "\u001b[1;32m~\\AppData\\Local\\Temp/ipykernel_9524/3632909480.py\u001b[0m in \u001b[0;36m<module>\u001b[1;34m\u001b[0m\n\u001b[1;32m----> 1\u001b[1;33m \u001b[0mtest5\u001b[0m\u001b[1;33m(\u001b[0m\u001b[1;36m4\u001b[0m\u001b[1;33m,\u001b[0m\u001b[1;36m6\u001b[0m\u001b[1;33m,\u001b[0m\u001b[1;36m8\u001b[0m\u001b[1;33m)\u001b[0m\u001b[1;33m\u001b[0m\u001b[1;33m\u001b[0m\u001b[0m\n\u001b[0m",
      "\u001b[1;31mTypeError\u001b[0m: test5() takes 0 positional arguments but 3 were given"
     ]
    }
   ],
   "source": [
    "test5(4,6,8)"
   ]
  },
  {
   "cell_type": "code",
   "execution_count": 65,
   "id": "93e32ce5",
   "metadata": {},
   "outputs": [
    {
     "ename": "TypeError",
     "evalue": "test5() takes 0 positional arguments but 2 were given",
     "output_type": "error",
     "traceback": [
      "\u001b[1;31m---------------------------------------------------------------------------\u001b[0m",
      "\u001b[1;31mTypeError\u001b[0m                                 Traceback (most recent call last)",
      "\u001b[1;32m~\\AppData\\Local\\Temp/ipykernel_9524/1876945309.py\u001b[0m in \u001b[0;36m<module>\u001b[1;34m\u001b[0m\n\u001b[1;32m----> 1\u001b[1;33m \u001b[0mtest5\u001b[0m\u001b[1;33m(\u001b[0m\u001b[1;33m(\u001b[0m\u001b[1;36m4\u001b[0m\u001b[1;33m,\u001b[0m\u001b[1;36m2\u001b[0m\u001b[1;33m)\u001b[0m\u001b[1;33m,\u001b[0m\u001b[1;33m(\u001b[0m\u001b[1;36m7\u001b[0m\u001b[1;33m,\u001b[0m\u001b[1;36m8\u001b[0m\u001b[1;33m)\u001b[0m\u001b[1;33m)\u001b[0m\u001b[1;33m\u001b[0m\u001b[1;33m\u001b[0m\u001b[0m\n\u001b[0m",
      "\u001b[1;31mTypeError\u001b[0m: test5() takes 0 positional arguments but 2 were given"
     ]
    }
   ],
   "source": [
    "test5((4,2),(7,8))"
   ]
  },
  {
   "cell_type": "code",
   "execution_count": 68,
   "id": "d7cf7137",
   "metadata": {},
   "outputs": [
    {
     "data": {
      "text/plain": [
       "{'b': 8, 'a': 6, 'p': 'pooja'}"
      ]
     },
     "execution_count": 68,
     "metadata": {},
     "output_type": "execute_result"
    }
   ],
   "source": [
    "test5(b=8,a=6,p=\"pooja\")"
   ]
  },
  {
   "cell_type": "code",
   "execution_count": 70,
   "id": "e9dd6603",
   "metadata": {},
   "outputs": [],
   "source": [
    "d={\"l\":5,\"p\":5}"
   ]
  },
  {
   "cell_type": "code",
   "execution_count": 71,
   "id": "1c1cccc8",
   "metadata": {},
   "outputs": [
    {
     "ename": "TypeError",
     "evalue": "test5() takes 0 positional arguments but 1 was given",
     "output_type": "error",
     "traceback": [
      "\u001b[1;31m---------------------------------------------------------------------------\u001b[0m",
      "\u001b[1;31mTypeError\u001b[0m                                 Traceback (most recent call last)",
      "\u001b[1;32m~\\AppData\\Local\\Temp/ipykernel_9524/2891053954.py\u001b[0m in \u001b[0;36m<module>\u001b[1;34m\u001b[0m\n\u001b[1;32m----> 1\u001b[1;33m \u001b[0mtest5\u001b[0m\u001b[1;33m(\u001b[0m\u001b[0md\u001b[0m\u001b[1;33m)\u001b[0m\u001b[1;33m\u001b[0m\u001b[1;33m\u001b[0m\u001b[0m\n\u001b[0m",
      "\u001b[1;31mTypeError\u001b[0m: test5() takes 0 positional arguments but 1 was given"
     ]
    }
   ],
   "source": [
    "test5(d)"
   ]
  },
  {
   "cell_type": "code",
   "execution_count": 73,
   "id": "af8ed599",
   "metadata": {},
   "outputs": [
    {
     "data": {
      "text/plain": [
       "{'b': 8, 'a': 6, 'p': 'pooja', 'n': [4, 8, 9]}"
      ]
     },
     "execution_count": 73,
     "metadata": {},
     "output_type": "execute_result"
    }
   ],
   "source": [
    "test5(b=8,a=6,p=\"pooja\",n=[4,8,9])"
   ]
  },
  {
   "cell_type": "code",
   "execution_count": 74,
   "id": "840831ce",
   "metadata": {},
   "outputs": [],
   "source": [
    "def test6(*a,**s):\n",
    "    return a,s"
   ]
  },
  {
   "cell_type": "code",
   "execution_count": 76,
   "id": "6732d941",
   "metadata": {},
   "outputs": [
    {
     "data": {
      "text/plain": [
       "((4, 6, 9, 'pooja', 8.9), {'b': 8, 'a': 6, 'p': 'pooja', 'n': [4, 8, 9]})"
      ]
     },
     "execution_count": 76,
     "metadata": {},
     "output_type": "execute_result"
    }
   ],
   "source": [
    "test6(4,6,9,\"pooja\",8.9,b=8,a=6,p=\"pooja\",n=[4,8,9])"
   ]
  },
  {
   "cell_type": "code",
   "execution_count": 80,
   "id": "3f75272a",
   "metadata": {},
   "outputs": [],
   "source": [
    "def Summ(*n):\n",
    "    s=0\n",
    "    for i in n:\n",
    "        if type(i)==int:\n",
    "            s=s+i\n",
    "    return s        "
   ]
  },
  {
   "cell_type": "code",
   "execution_count": 81,
   "id": "36e789d8",
   "metadata": {},
   "outputs": [
    {
     "data": {
      "text/plain": [
       "19"
      ]
     },
     "execution_count": 81,
     "metadata": {},
     "output_type": "execute_result"
    }
   ],
   "source": [
    "Summ(2,8,9,\"p\",7.5,9.6)"
   ]
  },
  {
   "cell_type": "code",
   "execution_count": 82,
   "id": "fc2c6700",
   "metadata": {},
   "outputs": [],
   "source": [
    "def mul(*n):\n",
    "    s=1\n",
    "    for i in n:\n",
    "        if type(i)==int:\n",
    "            s=s*i\n",
    "    return s "
   ]
  },
  {
   "cell_type": "code",
   "execution_count": 83,
   "id": "dd3fc7d7",
   "metadata": {},
   "outputs": [
    {
     "data": {
      "text/plain": [
       "144"
      ]
     },
     "execution_count": 83,
     "metadata": {},
     "output_type": "execute_result"
    }
   ],
   "source": [
    "mul(2,8,9,\"p\",7.5,9.6)"
   ]
  },
  {
   "cell_type": "code",
   "execution_count": 84,
   "id": "f2df1daa",
   "metadata": {},
   "outputs": [
    {
     "data": {
      "text/plain": [
       "144"
      ]
     },
     "execution_count": 84,
     "metadata": {},
     "output_type": "execute_result"
    }
   ],
   "source": [
    "2*8*9"
   ]
  },
  {
   "cell_type": "code",
   "execution_count": 89,
   "id": "184493e5",
   "metadata": {},
   "outputs": [
    {
     "data": {
      "text/plain": [
       "18"
      ]
     },
     "execution_count": 89,
     "metadata": {},
     "output_type": "execute_result"
    }
   ],
   "source": [
    "Sum=lambda x:x+x\n",
    "Sum(9)"
   ]
  },
  {
   "cell_type": "code",
   "execution_count": 100,
   "id": "c223597c",
   "metadata": {},
   "outputs": [
    {
     "data": {
      "text/plain": [
       "10"
      ]
     },
     "execution_count": 100,
     "metadata": {},
     "output_type": "execute_result"
    }
   ],
   "source": [
    "n=lambda x,y:x+y   # lambda argument : logic\n",
    "n(9,1)"
   ]
  },
  {
   "cell_type": "code",
   "execution_count": 96,
   "id": "d78070f0",
   "metadata": {},
   "outputs": [],
   "source": [
    "def n(a,b,c):\n",
    "    return a+b+c"
   ]
  },
  {
   "cell_type": "code",
   "execution_count": 98,
   "id": "cf88a583",
   "metadata": {},
   "outputs": [
    {
     "data": {
      "text/plain": [
       "19"
      ]
     },
     "execution_count": 98,
     "metadata": {},
     "output_type": "execute_result"
    }
   ],
   "source": [
    "n(5,6,8)"
   ]
  },
  {
   "cell_type": "code",
   "execution_count": 116,
   "id": "f49ad8a3",
   "metadata": {},
   "outputs": [],
   "source": [
    "s=lambda *pooja : pooja"
   ]
  },
  {
   "cell_type": "code",
   "execution_count": 117,
   "id": "d3eba972",
   "metadata": {},
   "outputs": [
    {
     "data": {
      "text/plain": [
       "(7, 8, 9, 6, 3)"
      ]
     },
     "execution_count": 117,
     "metadata": {},
     "output_type": "execute_result"
    }
   ],
   "source": [
    "s(7,8,9,6,3)"
   ]
  },
  {
   "cell_type": "code",
   "execution_count": 118,
   "id": "0d6c3b69",
   "metadata": {},
   "outputs": [],
   "source": [
    "t=(3,4,4,5,5,67,7)"
   ]
  },
  {
   "cell_type": "code",
   "execution_count": 119,
   "id": "63293aa4",
   "metadata": {},
   "outputs": [
    {
     "data": {
      "text/plain": [
       "[3, 4, 4, 5, 5, 67, 7]"
      ]
     },
     "execution_count": 119,
     "metadata": {},
     "output_type": "execute_result"
    }
   ],
   "source": [
    "[i for i in t]"
   ]
  },
  {
   "cell_type": "code",
   "execution_count": 120,
   "id": "1bb7b350",
   "metadata": {},
   "outputs": [],
   "source": [
    "s=lambda *pooja :  [i for i in pooja] "
   ]
  },
  {
   "cell_type": "code",
   "execution_count": 121,
   "id": "2cb38463",
   "metadata": {},
   "outputs": [
    {
     "data": {
      "text/plain": [
       "[3, 4, 4, 5, 5, 67, 7]"
      ]
     },
     "execution_count": 121,
     "metadata": {},
     "output_type": "execute_result"
    }
   ],
   "source": [
    "s(3,4,4,5,5,67,7)"
   ]
  },
  {
   "cell_type": "code",
   "execution_count": 123,
   "id": "97c54ce3",
   "metadata": {},
   "outputs": [
    {
     "name": "stdout",
     "output_type": "stream",
     "text": [
      "[3, 4, 4, 5, 5, 67, 7]\n"
     ]
    }
   ],
   "source": [
    "l=[]\n",
    "for i in t:\n",
    "    l.append(i)\n",
    "print(l)    "
   ]
  },
  {
   "cell_type": "code",
   "execution_count": 125,
   "id": "9877a5ae",
   "metadata": {},
   "outputs": [
    {
     "data": {
      "text/plain": [
       "['p', 'o', 'o', 'j', 'a']"
      ]
     },
     "execution_count": 125,
     "metadata": {},
     "output_type": "execute_result"
    }
   ],
   "source": [
    "s=\"pooja\"\n",
    "[i for i in s]"
   ]
  },
  {
   "cell_type": "code",
   "execution_count": 127,
   "id": "c224c6d4",
   "metadata": {},
   "outputs": [
    {
     "data": {
      "text/plain": [
       "[1, 4, 9, 16, 25, 36, 49, 64, 81, 100]"
      ]
     },
     "execution_count": 127,
     "metadata": {},
     "output_type": "execute_result"
    }
   ],
   "source": [
    "[l*l for l in range(1,10+1)]"
   ]
  },
  {
   "cell_type": "code",
   "execution_count": 128,
   "id": "5417c93c",
   "metadata": {},
   "outputs": [
    {
     "name": "stdout",
     "output_type": "stream",
     "text": [
      "[1, 4, 9, 16, 25, 36, 49, 64, 81, 100]\n"
     ]
    }
   ],
   "source": [
    "l=[]\n",
    "for i in range(1,10+1):\n",
    "    l.append(i*i)\n",
    "print(l)    "
   ]
  },
  {
   "cell_type": "code",
   "execution_count": 136,
   "id": "23b52d9e",
   "metadata": {},
   "outputs": [],
   "source": [
    "s=lambda *pooja : list ((i**2 for i in pooja))"
   ]
  },
  {
   "cell_type": "code",
   "execution_count": 137,
   "id": "58acc805",
   "metadata": {},
   "outputs": [
    {
     "data": {
      "text/plain": [
       "[9, 16, 16, 25, 25, 4489, 49]"
      ]
     },
     "execution_count": 137,
     "metadata": {},
     "output_type": "execute_result"
    }
   ],
   "source": [
    "s(3,4,4,5,5,67,7)"
   ]
  },
  {
   "cell_type": "code",
   "execution_count": 138,
   "id": "187901a2",
   "metadata": {},
   "outputs": [],
   "source": [
    "s=lambda *pooja : {i**2 for i in pooja}"
   ]
  },
  {
   "cell_type": "code",
   "execution_count": 139,
   "id": "7157c033",
   "metadata": {},
   "outputs": [
    {
     "data": {
      "text/plain": [
       "{9, 16, 25, 49, 4489}"
      ]
     },
     "execution_count": 139,
     "metadata": {},
     "output_type": "execute_result"
    }
   ],
   "source": [
    "s(3,4,4,5,5,67,7)"
   ]
  },
  {
   "cell_type": "code",
   "execution_count": 140,
   "id": "b756085a",
   "metadata": {},
   "outputs": [],
   "source": [
    "lis = [1, 3, 5, 6, 2, ]"
   ]
  },
  {
   "cell_type": "code",
   "execution_count": 142,
   "id": "8374eada",
   "metadata": {},
   "outputs": [
    {
     "data": {
      "text/plain": [
       "17"
      ]
     },
     "execution_count": 142,
     "metadata": {},
     "output_type": "execute_result"
    }
   ],
   "source": [
    "1+3+5+6+2"
   ]
  },
  {
   "cell_type": "code",
   "execution_count": 148,
   "id": "3ee35ceb",
   "metadata": {},
   "outputs": [],
   "source": [
    "s=lambda *x:sum(x)"
   ]
  },
  {
   "cell_type": "code",
   "execution_count": 150,
   "id": "6501b85b",
   "metadata": {},
   "outputs": [
    {
     "data": {
      "text/plain": [
       "1248"
      ]
     },
     "execution_count": 150,
     "metadata": {},
     "output_type": "execute_result"
    }
   ],
   "source": [
    "s(154, 200, 128, 144, 158, 88, 96, 82, 198)"
   ]
  },
  {
   "cell_type": "code",
   "execution_count": 162,
   "id": "2b0a1d14",
   "metadata": {},
   "outputs": [
    {
     "data": {
      "text/plain": [
       "2"
      ]
     },
     "execution_count": 162,
     "metadata": {},
     "output_type": "execute_result"
    }
   ],
   "source": []
  },
  {
   "cell_type": "code",
   "execution_count": 177,
   "id": "fe10bcce",
   "metadata": {},
   "outputs": [],
   "source": [
    "def test(**k):\n",
    "    c=0\n",
    "    for v in k.values():\n",
    "        if type(v)==str :\n",
    "            c=c+1\n",
    "        if type(v)==list or type(v)==tuple or type(v)==set:\n",
    "            for i in v:\n",
    "                if type(i)==str:\n",
    "                    c=c+1\n",
    "    return c        "
   ]
  },
  {
   "cell_type": "code",
   "execution_count": 179,
   "id": "faccb28c",
   "metadata": {},
   "outputs": [
    {
     "data": {
      "text/plain": [
       "5"
      ]
     },
     "execution_count": 179,
     "metadata": {},
     "output_type": "execute_result"
    }
   ],
   "source": [
    "test(a=7,b=\"pooja\",c=96,d=\"das\",j=[7,8,6,\"pooja\"],k=(\"p\",7,\"s\"))"
   ]
  },
  {
   "cell_type": "code",
   "execution_count": 174,
   "id": "45b79514",
   "metadata": {},
   "outputs": [],
   "source": [
    "def test(**k):\n",
    "    return list(k.values())"
   ]
  },
  {
   "cell_type": "code",
   "execution_count": 175,
   "id": "085319c9",
   "metadata": {},
   "outputs": [
    {
     "data": {
      "text/plain": [
       "[7, 'pooja', 96, 'das', [7, 8, 6]]"
      ]
     },
     "execution_count": 175,
     "metadata": {},
     "output_type": "execute_result"
    }
   ],
   "source": [
    "test(a=7,b=\"pooja\",c=96,d=\"das\",j=[7,8,6])"
   ]
  },
  {
   "attachments": {
    "Capture.PNG": {
     "image/png": "[encoded data removed]"
    }
   },
   "cell_type": "markdown",
   "id": "e39629eb",
   "metadata": {},
   "source": [
    "![Capture.PNG](attachment:Capture.PNG)\n",
    "        "
   ]
  },
  {
   "cell_type": "raw",
   "id": "6404067f",
   "metadata": {},
   "source": [
    "Todays task :\n",
    "    q1 : Try to print a prime number in between 1 to 1000\n",
    "    q2 : Try to write a function which  is equivalent  to print function in python\n",
    "    q3 : Try to write a function which is a replica of list append , extend and pop function \n",
    "    q4 : Try to write a lambda function which can return a concatination of all the string that we will pass\n",
    "    q5 : Try to write a lambda function which can return list of square of all the data between 1-100 \n",
    "    q6 : Try to write a 10 Different different example of lambda function with a choice of your taks \n",
    "    q7 : Try to wwrite a funtion whihc can perform a read operation from .txt file \n",
    "        \n",
    "        shivan@ineuron.ai\n",
    "        sudhashu@ineuron.ai"
   ]
  },
  {
   "cell_type": "code",
   "execution_count": null,
   "id": "952f6433",
   "metadata": {},
   "outputs": [],
   "source": []
  }
 ],
 "metadata": {
  "kernelspec": {
   "display_name": "Python 3 (ipykernel)",
   "language": "python",
   "name": "python3"
  },
  "language_info": {
   "codemirror_mode": {
    "name": "ipython",
    "version": 3
   },
   "file_extension": ".py",
   "mimetype": "text/x-python",
   "name": "python",
   "nbconvert_exporter": "python",
   "pygments_lexer": "ipython3",
   "version": "3.9.7"
  }
 },
 "nbformat": 4,
 "nbformat_minor": 5
}
