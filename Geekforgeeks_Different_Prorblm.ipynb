{
 "cells": [
  {
   "cell_type": "markdown",
   "id": "77828a08",
   "metadata": {},
   "source": [
    "## 1.Count unique domains from given List of Emails\n",
    "\n",
    "Given an array<b> arr[]</b> containing<b> N </b>email addresses with different domains, the task is to find the unique domains and their frequencies from the list of emails.\n",
    "\n",
    "<b>Note:</b>  The occurrence of the domain must be printed in the lexicographical order of domain names.\n",
    "\n",
    "<b>Examples:</b>\n",
    "\n",
    "<b>Input:</b> arr[] = { “rupesh@gmail.com”, “akole@yahoo.com”, “rupesh.21910879@viit.ac.in”,  \n",
    "                         “faculty.surname@viit.ac.in”, “Shyam@gmail.com”, “examcell@viit.ac.in”} \n",
    "<b>Output:</b> gmail.com 2 \n",
    "               viit.ac.in 3\n",
    "               yahoo.com 1\n",
    "              \n",
    "<b>Explanation: </b> Here the unique domains in lexicographical order from the list of emails are: \n",
    "gmail.com, viit.ac.in, yahoo.com.\n",
    "And their respective frequecy in the list is 2, 3 and 1.\n",
    "\n",
    "<b>Input:</b> arr[] = {“geeks@geeksforgeeks.org”, “google@gmail.com”}\n",
    "<b>Output:</b> geeksforgeeks.org 1\n",
    "            gmail.com 1\n",
    "            \n",
    "            \n",
    "<b>Approach:</b> The solution to the problem is based on the following idea:\n",
    "\n",
    "  <B>The domains of an email are mentioned after the ‘@’ symbol. So, find all the domains and store their frequencies.</B>\n",
    "\n",
    "Follow the steps mentioned below to implement the idea:\n",
    "\n",
    "    *Initialize a map to store the frequencies of each unique domain in the lexicographical order of domain names. \n",
    "    *Transverse each of the email entries:\n",
    "    *For each entry find the index (say idx) of the ‘@’ symbol.\n",
    "    *The substring starting from idx+1 till the end of the string is the domain name.\n",
    "    *Store this domain in the map and increase its frequency by 1.\n",
    "    *Iterate the map from start (as the key are already in sorted order) and print the domain names and their frequencies.            "
   ]
  },
  {
   "cell_type": "code",
   "execution_count": 70,
   "id": "a9da44c3",
   "metadata": {},
   "outputs": [
    {
     "name": "stdout",
     "output_type": "stream",
     "text": [
      "3\n",
      "abc@gmail.com,abc@fgi.co,khh@gmail.com\n",
      "[('gmail.com', 2), ('fgi.co', 1)]\n"
     ]
    }
   ],
   "source": [
    "from collections import Counter\n",
    "class Unique_emails:\n",
    "    \n",
    "    def emails(self,S):\n",
    "        #print(S)\n",
    "        domains = []\n",
    "\n",
    "        for i in S:\n",
    "            i=i.split('@')\n",
    "            #print(i.split('@'))\n",
    "                                                                    #['“rupesh', 'gmail.com”']\n",
    "                                                                    #[' “akole', 'yahoo.com”']\n",
    "                                                                    #[' “rupesh.21910879', 'viit.ac.in”']\n",
    "            if i[-1] != \"\":\n",
    "                domains.append(i[-1])\n",
    "        #print(domains)                                            #['gmail.com', 'fgi.co', 'gmail.com']\n",
    "        \n",
    "        \n",
    "        #mails= Counter(domains)                                   #Counter({'gmail.com': 2, 'fgi.co': 1}) \n",
    "        \n",
    "        #mails=list(Counter(domains).elements())                    #['gmail.com', 'gmail.com', 'fgi.co']\n",
    "       \n",
    "        mails= Counter(domains).most_common()                      #[('gmail.com', 2), ('fgi.co', 1)]\n",
    "        return (mails)  \n",
    "  \n",
    " #cheacking main here   \n",
    "if __name__ == \"__main__\":\n",
    "    \n",
    "    #Asking User to how many Email id want to Enter\n",
    "    T=int(input())                    #3\n",
    "    \n",
    "    #Asking User to input the Different Email ids\n",
    "    S = list(input().split(\",\"))       #abc@gmail.com,abc@fgi.co,khh@gmail.com\n",
    "    for i in range(T):\n",
    "        S[i] = S[i]\n",
    "        \n",
    "    #object is initiliazed for class   \n",
    "    obj= Unique_emails()\n",
    "    \n",
    "    #method calling\n",
    "    print(obj.emails(S))\n",
    "    \n",
    "    \n",
    "    \n",
    "    "
   ]
  },
  {
   "cell_type": "markdown",
   "id": "78489138",
   "metadata": {},
   "source": [
    "## 2.Nth item through sum \n",
    "\n",
    "Given two sorted arrays 'A' and 'B' of length 'L1' and 'L2', we can get a set of sums(add one element from the first and one from second). Find the Nth element in the set considered in sorted order.\n",
    "Note: Set of sums should have unique elements.\n",
    "\n",
    "\n",
    "<b>Example 1:</b>\n",
    "\n",
    "<b>Input:</b> L1 = 2, L2 = 2<br>\n",
    "A = {1, 2}<br>\n",
    "B = {3, 4}<br>\n",
    "N = 3<br>\n",
    "<b>Output:</b> 6<br>\n",
    "<b>Explaination:</b> The set of sums are in <br>\n",
    "the order 4, 5, 6.<br>\n",
    "\n",
    "<b>Example 2:</b><br>\n",
    "\n",
    "<b>Input:</b> L1 = 5, L2 = 4<br>\n",
    "A = {1, 3, 4, 8, 10}<br>\n",
    "B = {20, 22, 30, 40}<br>\n",
    "N = 4<br>\n",
    "<b>Output:</b> 25<br>\n",
    "<b>Explaination:</b> The numbers before it \n",
    "are 21, 23 and 24.\n",
    "\n",
    "<b>Your Task:</b><br>\n",
    "You do not need to read input or print anything. Your task is to complete the function nthItem() which takes L1, L2, A, B, and the value N as input parameters and returns the Nth value of the set. If N is greater than the size of the set then it returns -1.\n",
    "\n",
    "<b>Expected Time Complexity:</b> O((L1*L2)*log(L1*L2))<br>\n",
    "<b>Expected Auxiliary Space: </b>O(L1*L2)<br>\n",
    "\n",
    "<b>Constraints:</b><br>\n",
    "1 ≤ L1, L2 ≤ 500\n",
    "1 ≤ A[i], B[i] ≤ 10000\n",
    "1 ≤ N ≤ L1*L2"
   ]
  },
  {
   "cell_type": "code",
   "execution_count": 71,
   "id": "7c8f1773",
   "metadata": {},
   "outputs": [
    {
     "name": "stdout",
     "output_type": "stream",
     "text": [
      "1\n",
      "2 2\n",
      "1 2\n",
      "3 4\n",
      "2\n",
      "5\n"
     ]
    }
   ],
   "source": [
    "#Define a class called Solution\n",
    "class Solution:\n",
    "    \n",
    "    # define a method in solution class as nthItem\n",
    "    def nthItem(self, L1, L2, A, B, N):\n",
    "        \n",
    "        #empty list\n",
    "        ans = []\n",
    "         \n",
    "        # l1 and l2 iterate and its value added and than added value store in ans[]    \n",
    "        ans=[(A[i] + B[j]) for i in range(L1) for j in range(L2) ]\n",
    "        \n",
    "        # removing duplicate value in ans[] by set() than make it list() than sorted() that list\n",
    "        ans=sorted(list(set(ans)))\n",
    "        \n",
    "        # checking  nth greater than  length of list ans than return -1 else return ans[N-1]    \n",
    "        if N> len(ans):\n",
    "            return -1\n",
    "        else:\n",
    "             return ans[N-1]\n",
    "\n",
    "if __name__ == '__main__':\n",
    "    \n",
    "    # Asking user to how many times want to enter like 2 times than two times  machine aske to put input\n",
    "    t = int(input())\n",
    "    \n",
    "    # Asking user to define l1 & l2 (2 2) means lists only contain that much value\n",
    "    for _ in range(t):\n",
    "        L1, L2 = [int(x) for x in input().split()]\n",
    "        \n",
    "        # asking input  value in  list A\n",
    "        A = input().split()\n",
    "        for itr in range(L1):\n",
    "            A[itr] = int(A[itr])\n",
    "            \n",
    "        # asking input  value in  list B    \n",
    "        B = input().split()\n",
    "        for it in range(L2):\n",
    "            B[it] = int(B[it])\n",
    "            \n",
    "        #asking which term(position) value want after adding    \n",
    "        N = int(input())\n",
    "        \n",
    "        #object is initiliazed for class Solution\n",
    "        ob = Solution()\n",
    "        \n",
    "        #calling mathod of class\n",
    "        print(ob.nthItem(L1, L2, A, B, N))\n"
   ]
  },
  {
   "cell_type": "code",
   "execution_count": 72,
   "id": "83e1c71d",
   "metadata": {},
   "outputs": [
    {
     "data": {
      "text/plain": [
       "range(3, 13)"
      ]
     },
     "execution_count": 72,
     "metadata": {},
     "output_type": "execute_result"
    }
   ],
   "source": [
    "S=\"abc@gmail.com\"\n",
    "range(S.find(\"@\"),len(S))"
   ]
  },
  {
   "cell_type": "code",
   "execution_count": 73,
   "id": "608c2d0c",
   "metadata": {},
   "outputs": [
    {
     "name": "stdout",
     "output_type": "stream",
     "text": [
      "['g', 'm', 'a', 'i', 'l', '.', 'c', 'o', 'm']\n"
     ]
    }
   ],
   "source": [
    "a=[]\n",
    "a=[S[i] for i in range(S.find(\"@\")+1,len(S))]\n",
    "print(a)\n",
    "    \n",
    "     "
   ]
  },
  {
   "cell_type": "code",
   "execution_count": 74,
   "id": "39765565",
   "metadata": {},
   "outputs": [
    {
     "name": "stdout",
     "output_type": "stream",
     "text": [
      "gmail.com\n",
      "gmail.com\n",
      "[('gmail.com', 2)]\n"
     ]
    }
   ],
   "source": [
    "from collections import Counter\n",
    "S=[\"abc@gmail.com\",\"avxc@gmail.com\"]\n",
    "domains = []\n",
    "\n",
    "for i in S:\n",
    "    i = i.split('@')\n",
    "    print(i[-1])\n",
    "    if i[-1] != \"\":\n",
    "        domains.append(i[-1])\n",
    "\n",
    "mails_value = Counter(domains).most_common()\n",
    "\n",
    "print(mails_value) "
   ]
  },
  {
   "cell_type": "code",
   "execution_count": 75,
   "id": "1d0a5c6b",
   "metadata": {},
   "outputs": [
    {
     "name": "stdout",
     "output_type": "stream",
     "text": [
      "Counter({'c': 3, 'b': 2, 'a': 1})\n",
      "<itertools.chain object at 0x000001E7873F5EE0>\n",
      "['a', 'b', 'b', 'c', 'c', 'c']\n"
     ]
    }
   ],
   "source": [
    "# Python example to demonstrate elements() on\n",
    "# Counter (gives back list)\n",
    "from collections import Counter\n",
    "\n",
    "coun = Counter(a=1, b=2, c=3)\n",
    "print(coun)\n",
    "\n",
    "print(coun.elements()) #<itertools.chain object at 0x000001E78705B9D0>\n",
    "print(list(coun.elements()))\n"
   ]
  },
  {
   "cell_type": "code",
   "execution_count": null,
   "id": "5b293c54",
   "metadata": {},
   "outputs": [],
   "source": []
  },
  {
   "cell_type": "code",
   "execution_count": null,
   "id": "6c2fb9e3",
   "metadata": {},
   "outputs": [],
   "source": []
  }
 ],
 "metadata": {
  "kernelspec": {
   "display_name": "Python 3 (ipykernel)",
   "language": "python",
   "name": "python3"
  },
  "language_info": {
   "codemirror_mode": {
    "name": "ipython",
    "version": 3
   },
   "file_extension": ".py",
   "mimetype": "text/x-python",
   "name": "python",
   "nbconvert_exporter": "python",
   "pygments_lexer": "ipython3",
   "version": "3.9.7"
  }
 },
 "nbformat": 4,
 "nbformat_minor": 5
}
