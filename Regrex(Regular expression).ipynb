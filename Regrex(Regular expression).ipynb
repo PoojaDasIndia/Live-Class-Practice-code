{
 "cells": [
  {
   "cell_type": "markdown",
   "id": "81aca082",
   "metadata": {},
   "source": [
    "**Regular expressions** are used to perform search-related tasks in Python. In this tutorial, our primary focus should be on understanding because we are going to cover a concept that has a wide range of uses. To work with regular expressions, we have to import a built-in module in Python called ‘re’. \n",
    "\n",
    "`import re`\n",
    "\n",
    "The module defines several functions and constants to work with RegEx. \n",
    "\n",
    "**The “re” module is composed of five functions known as:**\n",
    "\n",
    "**findall:** It finds all searches for matches and prints resultant in the form of a list.\n",
    "\n",
    "**search:** It works the same as a findall, but the resultant is a matched object if any is found.\n",
    "\n",
    "**split:** The split function splits the string from every matched into two new strings.\n",
    "\n",
    "**sub:** The sub-function works exactly like a replace function in notepad or MS Word. It replaces the original word with a word of our choice.\n",
    "\n",
    "**finditer:** The finditer yields an iterator as a resultant with all the objects that match the one we sent it) finditer supports more attributes than any other function defined above. It also provides more details related to the matched object. So, most of the examples we are going to see next will contain a finditer function in them."
   ]
  },
  {
   "cell_type": "code",
   "execution_count": 1,
   "id": "9b9dbab6",
   "metadata": {},
   "outputs": [],
   "source": [
    "import re\n",
    "mystr = '''Tata Limited\n",
    "Dr. David Landsman, executive director\n",
    "18, Grosvenor Place\n",
    "London SW1X 7HSc\n",
    "Phone: +44 (20) 7235 8281\n",
    "Fax: +44 (20) 7235 8727\n",
    "Email: tata@tata.co.uk\n",
    "Website: www.europe.tata.com\n",
    "Directions: View map\n",
    "\n",
    "Tata Sons, North America\n",
    "1700 North Moore St, Suite 1520\n",
    "Arlington, VA 22209-1911\n",
    "USA\n",
    "Phone: +1 (703) 243 9787\n",
    "Fax: +1 (703) 243 9791\n",
    "66-66\n",
    "455-4545\n",
    "Email: northamerica@tata.com \n",
    "Website: www.northamerica.tata.com\n",
    "Directions: View map fass\n",
    "harry bhai lekin\n",
    "bahut hi badia aadmi haiaiinaiiiiiiiiiiii'''\n"
   ]
  },
  {
   "cell_type": "markdown",
   "id": "d27a65cd",
   "metadata": {},
   "source": [
    "    **findall\n",
    "    **search\n",
    "    **split\n",
    "    **sub\n",
    "    **finditer"
   ]
  },
  {
   "cell_type": "code",
   "execution_count": 4,
   "id": "9e1fbf46",
   "metadata": {},
   "outputs": [
    {
     "data": {
      "text/plain": [
       "['Tata', 'Tata']"
      ]
     },
     "execution_count": 4,
     "metadata": {},
     "output_type": "execute_result"
    }
   ],
   "source": [
    "re.findall(\"Tata\",mystr)"
   ]
  },
  {
   "cell_type": "code",
   "execution_count": 25,
   "id": "0dfcadc8",
   "metadata": {},
   "outputs": [
    {
     "data": {
      "text/plain": [
       "<re.Match object; span=(0, 4), match='Tata'>"
      ]
     },
     "execution_count": 25,
     "metadata": {},
     "output_type": "execute_result"
    }
   ],
   "source": [
    "re.search(\"Tata\",mystr)"
   ]
  },
  {
   "cell_type": "code",
   "execution_count": 27,
   "id": "ed2b2f76",
   "metadata": {},
   "outputs": [
    {
     "name": "stdout",
     "output_type": "stream",
     "text": [
      "Tata\n"
     ]
    },
    {
     "data": {
      "text/plain": [
       "<re.Match object; span=(0, 4), match='Tata'>"
      ]
     },
     "execution_count": 27,
     "metadata": {},
     "output_type": "execute_result"
    }
   ],
   "source": [
    "print(mystr[0:4])\n",
    "re.search(\"Tata\",mystr)"
   ]
  },
  {
   "cell_type": "code",
   "execution_count": 14,
   "id": "e9f10366",
   "metadata": {},
   "outputs": [
    {
     "data": {
      "text/plain": [
       "['Tata Limited\\nDr. David Landsman, executive director\\n18, Grosvenor Place\\nLondon SW1X 7HSc\\nPhone: +44 (20) 7235 8281\\nFax: +44 (20) 7235 8727\\nEmail: tata@tata.co.uk\\nWebsite: www.europe.tata.com\\nDirections: View map\\n\\nTata Sons, North America\\n1700 North Moore St, Suite 1520\\nArlington, VA 22209-1911\\nUSA\\nPhone: +1 (703) 243 9787\\nFax: +1 (703) 243 9791\\n66-66\\n455-4545\\nEmail: northamerica@tata.com \\nWebsite: www.northamerica.tata.com\\nDirections: View map fass\\nharry bhai lekin\\nbahut hi badia aadmi haiaiinaiiiiiiiiiiii']"
      ]
     },
     "execution_count": 14,
     "metadata": {},
     "output_type": "execute_result"
    }
   ],
   "source": [
    "re.split(\"place\",mystr,maxsplit=2)"
   ]
  },
  {
   "cell_type": "code",
   "execution_count": 15,
   "id": "0bab4cbc",
   "metadata": {},
   "outputs": [],
   "source": [
    "m=\"pooja is good\""
   ]
  },
  {
   "cell_type": "code",
   "execution_count": 18,
   "id": "948fb56b",
   "metadata": {},
   "outputs": [
    {
     "data": {
      "text/plain": [
       "['p', '', 'ja is g', '', 'd']"
      ]
     },
     "execution_count": 18,
     "metadata": {},
     "output_type": "execute_result"
    }
   ],
   "source": [
    "re.split(\"o\",m)"
   ]
  },
  {
   "cell_type": "code",
   "execution_count": 20,
   "id": "5cce3eb2",
   "metadata": {},
   "outputs": [
    {
     "data": {
      "text/plain": [
       "'Tata Limited\\nDr. David Landsman, executive director\\n18, Grosvenor Place\\nLondon SW1X 7HSc\\nPhone: +44 (20) 7235 8281\\nFax: +44 (20) 7235 8727\\nEmail: tata@tata.co.uk\\nWebsite: www.europe.tata.com\\nDirections: View map\\n\\nTata Sons, North America\\n1700 North Moore St, Suite 1520\\nArlington, VA 22209-1911\\nUSA\\nPhone: +1 (703) 243 9787\\nFax: +1 (703) 243 9791\\n66-66\\n455-4545\\nEmail: northamerica@tata.com \\nWebsite: www.northamerica.tata.com\\nDirections: View map fass\\nharry bhai lekin\\nbahut hi badia aadmi haiaiinaiiiiiiiiiiii'"
      ]
     },
     "execution_count": 20,
     "metadata": {},
     "output_type": "execute_result"
    }
   ],
   "source": [
    "mystr"
   ]
  },
  {
   "cell_type": "code",
   "execution_count": 22,
   "id": "c889ea10",
   "metadata": {},
   "outputs": [
    {
     "name": "stdout",
     "output_type": "stream",
     "text": [
      "<re.Match object; span=(448, 452), match='fass'>\n",
      "fass\n"
     ]
    }
   ],
   "source": [
    "patt=re.compile(r'fass')\n",
    "\n",
    "matchs=patt.finditer(mystr)\n",
    "for i in matchs:\n",
    "    print(i)\n",
    "    \n"
   ]
  },
  {
   "cell_type": "code",
   "execution_count": 23,
   "id": "8c05d5f4",
   "metadata": {},
   "outputs": [
    {
     "name": "stdout",
     "output_type": "stream",
     "text": [
      "fass\n"
     ]
    }
   ],
   "source": [
    "print(mystr[448:452])"
   ]
  },
  {
   "cell_type": "code",
   "execution_count": 29,
   "id": "5517b16f",
   "metadata": {},
   "outputs": [
    {
     "name": "stdout",
     "output_type": "stream",
     "text": [
      "<re.Match object; span=(485, 489), match='aadm'>\n"
     ]
    }
   ],
   "source": [
    "patt=re.compile(r'.adm')\n",
    "\n",
    "matchs=patt.finditer(mystr)\n",
    "for i in matchs:\n",
    "    print(i)"
   ]
  },
  {
   "cell_type": "code",
   "execution_count": 30,
   "id": "e662e9f5",
   "metadata": {},
   "outputs": [
    {
     "name": "stdout",
     "output_type": "stream",
     "text": [
      "<re.Match object; span=(0, 4), match='Tata'>\n"
     ]
    }
   ],
   "source": [
    "patt=re.compile(r'^Tata')\n",
    "\n",
    "matchs=patt.finditer(mystr)\n",
    "for i in matchs:\n",
    "    print(i)"
   ]
  },
  {
   "cell_type": "code",
   "execution_count": 38,
   "id": "e63a6f8f",
   "metadata": {},
   "outputs": [],
   "source": [
    "patt=re.compile(r'.om$')\n",
    "\n",
    "matchs=patt.finditer(mystr)\n",
    "for i in matchs:\n",
    "    print(i)"
   ]
  },
  {
   "cell_type": "code",
   "execution_count": 40,
   "id": "00ac43ab",
   "metadata": {},
   "outputs": [
    {
     "name": "stdout",
     "output_type": "stream",
     "text": [
      "<re.Match object; span=(0, 0), match=''>\n",
      "<re.Match object; span=(1, 2), match='a'>\n",
      "<re.Match object; span=(2, 2), match=''>\n",
      "<re.Match object; span=(3, 4), match='a'>\n",
      "<re.Match object; span=(4, 4), match=''>\n",
      "<re.Match object; span=(5, 5), match=''>\n",
      "<re.Match object; span=(6, 7), match='i'>\n",
      "<re.Match object; span=(7, 7), match=''>\n",
      "<re.Match object; span=(8, 9), match='i'>\n",
      "<re.Match object; span=(9, 9), match=''>\n",
      "<re.Match object; span=(10, 10), match=''>\n",
      "<re.Match object; span=(11, 11), match=''>\n",
      "<re.Match object; span=(12, 12), match=''>\n",
      "<re.Match object; span=(13, 13), match=''>\n",
      "<re.Match object; span=(14, 14), match=''>\n",
      "<re.Match object; span=(15, 15), match=''>\n",
      "<re.Match object; span=(16, 16), match=''>\n",
      "<re.Match object; span=(17, 17), match=''>\n",
      "<re.Match object; span=(18, 19), match='a'>\n",
      "<re.Match object; span=(19, 19), match=''>\n",
      "<re.Match object; span=(20, 21), match='i'>\n",
      "<re.Match object; span=(21, 21), match=''>\n",
      "<re.Match object; span=(22, 22), match=''>\n",
      "<re.Match object; span=(23, 23), match=''>\n",
      "<re.Match object; span=(24, 25), match='a'>\n",
      "<re.Match object; span=(25, 25), match=''>\n",
      "<re.Match object; span=(26, 26), match=''>\n",
      "<re.Match object; span=(27, 27), match=''>\n",
      "<re.Match object; span=(28, 28), match=''>\n",
      "<re.Match object; span=(29, 30), match='a'>\n",
      "<re.Match object; span=(30, 30), match=''>\n",
      "<re.Match object; span=(31, 31), match=''>\n",
      "<re.Match object; span=(32, 32), match=''>\n",
      "<re.Match object; span=(33, 33), match=''>\n",
      "<re.Match object; span=(34, 34), match=''>\n",
      "<re.Match object; span=(35, 35), match=''>\n",
      "<re.Match object; span=(36, 36), match=''>\n",
      "<re.Match object; span=(37, 37), match=''>\n",
      "<re.Match object; span=(38, 38), match=''>\n",
      "<re.Match object; span=(39, 40), match='i'>\n",
      "<re.Match object; span=(40, 40), match=''>\n",
      "<re.Match object; span=(41, 41), match=''>\n",
      "<re.Match object; span=(42, 42), match=''>\n",
      "<re.Match object; span=(43, 43), match=''>\n",
      "<re.Match object; span=(44, 45), match='i'>\n",
      "<re.Match object; span=(45, 45), match=''>\n",
      "<re.Match object; span=(46, 46), match=''>\n",
      "<re.Match object; span=(47, 47), match=''>\n",
      "<re.Match object; span=(48, 48), match=''>\n",
      "<re.Match object; span=(49, 49), match=''>\n",
      "<re.Match object; span=(50, 50), match=''>\n",
      "<re.Match object; span=(51, 51), match=''>\n",
      "<re.Match object; span=(52, 52), match=''>\n",
      "<re.Match object; span=(53, 53), match=''>\n",
      "<re.Match object; span=(54, 54), match=''>\n",
      "<re.Match object; span=(55, 55), match=''>\n",
      "<re.Match object; span=(56, 56), match=''>\n",
      "<re.Match object; span=(57, 57), match=''>\n",
      "<re.Match object; span=(58, 58), match=''>\n",
      "<re.Match object; span=(59, 59), match=''>\n",
      "<re.Match object; span=(60, 60), match=''>\n",
      "<re.Match object; span=(61, 61), match=''>\n",
      "<re.Match object; span=(62, 62), match=''>\n",
      "<re.Match object; span=(63, 63), match=''>\n",
      "<re.Match object; span=(64, 64), match=''>\n",
      "<re.Match object; span=(65, 65), match=''>\n",
      "<re.Match object; span=(66, 66), match=''>\n",
      "<re.Match object; span=(67, 67), match=''>\n",
      "<re.Match object; span=(68, 69), match='a'>\n",
      "<re.Match object; span=(69, 69), match=''>\n",
      "<re.Match object; span=(70, 70), match=''>\n",
      "<re.Match object; span=(71, 71), match=''>\n",
      "<re.Match object; span=(72, 72), match=''>\n",
      "<re.Match object; span=(73, 73), match=''>\n",
      "<re.Match object; span=(74, 74), match=''>\n",
      "<re.Match object; span=(75, 75), match=''>\n",
      "<re.Match object; span=(76, 76), match=''>\n",
      "<re.Match object; span=(77, 77), match=''>\n",
      "<re.Match object; span=(78, 78), match=''>\n",
      "<re.Match object; span=(79, 79), match=''>\n",
      "<re.Match object; span=(80, 80), match=''>\n",
      "<re.Match object; span=(81, 81), match=''>\n",
      "<re.Match object; span=(82, 82), match=''>\n",
      "<re.Match object; span=(83, 83), match=''>\n",
      "<re.Match object; span=(84, 84), match=''>\n",
      "<re.Match object; span=(85, 85), match=''>\n",
      "<re.Match object; span=(86, 86), match=''>\n",
      "<re.Match object; span=(87, 87), match=''>\n",
      "<re.Match object; span=(88, 88), match=''>\n",
      "<re.Match object; span=(89, 89), match=''>\n",
      "<re.Match object; span=(90, 90), match=''>\n",
      "<re.Match object; span=(91, 91), match=''>\n",
      "<re.Match object; span=(92, 92), match=''>\n",
      "<re.Match object; span=(93, 93), match=''>\n",
      "<re.Match object; span=(94, 94), match=''>\n",
      "<re.Match object; span=(95, 95), match=''>\n",
      "<re.Match object; span=(96, 96), match=''>\n",
      "<re.Match object; span=(97, 97), match=''>\n",
      "<re.Match object; span=(98, 98), match=''>\n",
      "<re.Match object; span=(99, 99), match=''>\n",
      "<re.Match object; span=(100, 100), match=''>\n",
      "<re.Match object; span=(101, 101), match=''>\n",
      "<re.Match object; span=(102, 102), match=''>\n",
      "<re.Match object; span=(103, 103), match=''>\n",
      "<re.Match object; span=(104, 104), match=''>\n",
      "<re.Match object; span=(105, 105), match=''>\n",
      "<re.Match object; span=(106, 106), match=''>\n",
      "<re.Match object; span=(107, 107), match=''>\n",
      "<re.Match object; span=(108, 108), match=''>\n",
      "<re.Match object; span=(109, 109), match=''>\n",
      "<re.Match object; span=(110, 110), match=''>\n",
      "<re.Match object; span=(111, 111), match=''>\n",
      "<re.Match object; span=(112, 112), match=''>\n",
      "<re.Match object; span=(113, 113), match=''>\n",
      "<re.Match object; span=(114, 114), match=''>\n",
      "<re.Match object; span=(115, 115), match=''>\n",
      "<re.Match object; span=(116, 117), match='a'>\n",
      "<re.Match object; span=(117, 117), match=''>\n",
      "<re.Match object; span=(118, 118), match=''>\n",
      "<re.Match object; span=(119, 119), match=''>\n",
      "<re.Match object; span=(120, 120), match=''>\n",
      "<re.Match object; span=(121, 121), match=''>\n",
      "<re.Match object; span=(122, 122), match=''>\n",
      "<re.Match object; span=(123, 123), match=''>\n",
      "<re.Match object; span=(124, 124), match=''>\n",
      "<re.Match object; span=(125, 125), match=''>\n",
      "<re.Match object; span=(126, 126), match=''>\n",
      "<re.Match object; span=(127, 127), match=''>\n",
      "<re.Match object; span=(128, 128), match=''>\n",
      "<re.Match object; span=(129, 129), match=''>\n",
      "<re.Match object; span=(130, 130), match=''>\n",
      "<re.Match object; span=(131, 131), match=''>\n",
      "<re.Match object; span=(132, 132), match=''>\n",
      "<re.Match object; span=(133, 133), match=''>\n",
      "<re.Match object; span=(134, 134), match=''>\n",
      "<re.Match object; span=(135, 135), match=''>\n",
      "<re.Match object; span=(136, 136), match=''>\n",
      "<re.Match object; span=(137, 137), match=''>\n",
      "<re.Match object; span=(138, 138), match=''>\n",
      "<re.Match object; span=(139, 139), match=''>\n",
      "<re.Match object; span=(140, 140), match=''>\n",
      "<re.Match object; span=(141, 143), match='ai'>\n",
      "<re.Match object; span=(143, 143), match=''>\n",
      "<re.Match object; span=(144, 144), match=''>\n",
      "<re.Match object; span=(145, 145), match=''>\n",
      "<re.Match object; span=(146, 146), match=''>\n",
      "<re.Match object; span=(147, 148), match='a'>\n",
      "<re.Match object; span=(148, 148), match=''>\n",
      "<re.Match object; span=(149, 150), match='a'>\n",
      "<re.Match object; span=(150, 150), match=''>\n",
      "<re.Match object; span=(151, 151), match=''>\n",
      "<re.Match object; span=(152, 153), match='a'>\n",
      "<re.Match object; span=(153, 153), match=''>\n",
      "<re.Match object; span=(154, 155), match='a'>\n",
      "<re.Match object; span=(155, 155), match=''>\n",
      "<re.Match object; span=(156, 156), match=''>\n",
      "<re.Match object; span=(157, 157), match=''>\n",
      "<re.Match object; span=(158, 158), match=''>\n",
      "<re.Match object; span=(159, 159), match=''>\n",
      "<re.Match object; span=(160, 160), match=''>\n",
      "<re.Match object; span=(161, 161), match=''>\n",
      "<re.Match object; span=(162, 162), match=''>\n",
      "<re.Match object; span=(163, 163), match=''>\n",
      "<re.Match object; span=(164, 164), match=''>\n",
      "<re.Match object; span=(165, 165), match=''>\n",
      "<re.Match object; span=(166, 167), match='i'>\n",
      "<re.Match object; span=(167, 167), match=''>\n",
      "<re.Match object; span=(168, 168), match=''>\n",
      "<re.Match object; span=(169, 169), match=''>\n",
      "<re.Match object; span=(170, 170), match=''>\n",
      "<re.Match object; span=(171, 171), match=''>\n",
      "<re.Match object; span=(172, 172), match=''>\n",
      "<re.Match object; span=(173, 173), match=''>\n",
      "<re.Match object; span=(174, 174), match=''>\n",
      "<re.Match object; span=(175, 175), match=''>\n",
      "<re.Match object; span=(176, 176), match=''>\n",
      "<re.Match object; span=(177, 177), match=''>\n",
      "<re.Match object; span=(178, 178), match=''>\n",
      "<re.Match object; span=(179, 179), match=''>\n",
      "<re.Match object; span=(180, 180), match=''>\n",
      "<re.Match object; span=(181, 181), match=''>\n",
      "<re.Match object; span=(182, 182), match=''>\n",
      "<re.Match object; span=(183, 184), match='a'>\n",
      "<re.Match object; span=(184, 184), match=''>\n",
      "<re.Match object; span=(185, 186), match='a'>\n",
      "<re.Match object; span=(186, 186), match=''>\n",
      "<re.Match object; span=(187, 187), match=''>\n",
      "<re.Match object; span=(188, 188), match=''>\n",
      "<re.Match object; span=(189, 189), match=''>\n",
      "<re.Match object; span=(190, 190), match=''>\n",
      "<re.Match object; span=(191, 191), match=''>\n",
      "<re.Match object; span=(192, 193), match='i'>\n",
      "<re.Match object; span=(193, 193), match=''>\n",
      "<re.Match object; span=(194, 194), match=''>\n",
      "<re.Match object; span=(195, 195), match=''>\n",
      "<re.Match object; span=(196, 196), match=''>\n",
      "<re.Match object; span=(197, 198), match='i'>\n",
      "<re.Match object; span=(198, 198), match=''>\n",
      "<re.Match object; span=(199, 199), match=''>\n",
      "<re.Match object; span=(200, 200), match=''>\n",
      "<re.Match object; span=(201, 201), match=''>\n",
      "<re.Match object; span=(202, 202), match=''>\n",
      "<re.Match object; span=(203, 203), match=''>\n",
      "<re.Match object; span=(204, 205), match='i'>\n",
      "<re.Match object; span=(205, 205), match=''>\n",
      "<re.Match object; span=(206, 206), match=''>\n",
      "<re.Match object; span=(207, 207), match=''>\n",
      "<re.Match object; span=(208, 208), match=''>\n",
      "<re.Match object; span=(209, 210), match='a'>\n",
      "<re.Match object; span=(210, 210), match=''>\n",
      "<re.Match object; span=(211, 211), match=''>\n",
      "<re.Match object; span=(212, 212), match=''>\n",
      "<re.Match object; span=(213, 213), match=''>\n",
      "<re.Match object; span=(214, 215), match='a'>\n",
      "<re.Match object; span=(215, 215), match=''>\n",
      "<re.Match object; span=(216, 217), match='a'>\n",
      "<re.Match object; span=(217, 217), match=''>\n",
      "<re.Match object; span=(218, 218), match=''>\n",
      "<re.Match object; span=(219, 219), match=''>\n",
      "<re.Match object; span=(220, 220), match=''>\n",
      "<re.Match object; span=(221, 221), match=''>\n",
      "<re.Match object; span=(222, 222), match=''>\n",
      "<re.Match object; span=(223, 223), match=''>\n",
      "<re.Match object; span=(224, 224), match=''>\n",
      "<re.Match object; span=(225, 225), match=''>\n",
      "<re.Match object; span=(226, 226), match=''>\n",
      "<re.Match object; span=(227, 227), match=''>\n",
      "<re.Match object; span=(228, 228), match=''>\n",
      "<re.Match object; span=(229, 229), match=''>\n",
      "<re.Match object; span=(230, 230), match=''>\n",
      "<re.Match object; span=(231, 231), match=''>\n",
      "<re.Match object; span=(232, 232), match=''>\n",
      "<re.Match object; span=(233, 233), match=''>\n",
      "<re.Match object; span=(234, 235), match='i'>\n",
      "<re.Match object; span=(235, 235), match=''>\n",
      "<re.Match object; span=(236, 237), match='a'>\n",
      "<re.Match object; span=(237, 237), match=''>\n",
      "<re.Match object; span=(238, 238), match=''>\n",
      "<re.Match object; span=(239, 239), match=''>\n",
      "<re.Match object; span=(240, 240), match=''>\n",
      "<re.Match object; span=(241, 241), match=''>\n",
      "<re.Match object; span=(242, 242), match=''>\n",
      "<re.Match object; span=(243, 243), match=''>\n",
      "<re.Match object; span=(244, 244), match=''>\n",
      "<re.Match object; span=(245, 245), match=''>\n",
      "<re.Match object; span=(246, 246), match=''>\n",
      "<re.Match object; span=(247, 247), match=''>\n",
      "<re.Match object; span=(248, 248), match=''>\n",
      "<re.Match object; span=(249, 249), match=''>\n",
      "<re.Match object; span=(250, 250), match=''>\n",
      "<re.Match object; span=(251, 251), match=''>\n",
      "<re.Match object; span=(252, 252), match=''>\n",
      "<re.Match object; span=(253, 253), match=''>\n",
      "<re.Match object; span=(254, 254), match=''>\n",
      "<re.Match object; span=(255, 255), match=''>\n",
      "<re.Match object; span=(256, 256), match=''>\n",
      "<re.Match object; span=(257, 257), match=''>\n",
      "<re.Match object; span=(258, 258), match=''>\n",
      "<re.Match object; span=(259, 259), match=''>\n",
      "<re.Match object; span=(260, 260), match=''>\n",
      "<re.Match object; span=(261, 262), match='i'>\n",
      "<re.Match object; span=(262, 262), match=''>\n",
      "<re.Match object; span=(263, 263), match=''>\n",
      "<re.Match object; span=(264, 264), match=''>\n",
      "<re.Match object; span=(265, 265), match=''>\n",
      "<re.Match object; span=(266, 266), match=''>\n",
      "<re.Match object; span=(267, 267), match=''>\n",
      "<re.Match object; span=(268, 268), match=''>\n",
      "<re.Match object; span=(269, 269), match=''>\n",
      "<re.Match object; span=(270, 270), match=''>\n",
      "<re.Match object; span=(271, 271), match=''>\n",
      "<re.Match object; span=(272, 272), match=''>\n",
      "<re.Match object; span=(273, 274), match='i'>\n",
      "<re.Match object; span=(274, 274), match=''>\n",
      "<re.Match object; span=(275, 275), match=''>\n",
      "<re.Match object; span=(276, 276), match=''>\n",
      "<re.Match object; span=(277, 277), match=''>\n",
      "<re.Match object; span=(278, 278), match=''>\n",
      "<re.Match object; span=(279, 279), match=''>\n",
      "<re.Match object; span=(280, 280), match=''>\n",
      "<re.Match object; span=(281, 281), match=''>\n",
      "<re.Match object; span=(282, 282), match=''>\n",
      "<re.Match object; span=(283, 283), match=''>\n",
      "<re.Match object; span=(284, 284), match=''>\n",
      "<re.Match object; span=(285, 285), match=''>\n",
      "<re.Match object; span=(286, 286), match=''>\n",
      "<re.Match object; span=(287, 287), match=''>\n",
      "<re.Match object; span=(288, 288), match=''>\n",
      "<re.Match object; span=(289, 289), match=''>\n",
      "<re.Match object; span=(290, 290), match=''>\n",
      "<re.Match object; span=(291, 291), match=''>\n",
      "<re.Match object; span=(292, 292), match=''>\n",
      "<re.Match object; span=(293, 293), match=''>\n",
      "<re.Match object; span=(294, 294), match=''>\n",
      "<re.Match object; span=(295, 295), match=''>\n",
      "<re.Match object; span=(296, 296), match=''>\n",
      "<re.Match object; span=(297, 297), match=''>\n",
      "<re.Match object; span=(298, 298), match=''>\n",
      "<re.Match object; span=(299, 299), match=''>\n",
      "<re.Match object; span=(300, 300), match=''>\n",
      "<re.Match object; span=(301, 301), match=''>\n",
      "<re.Match object; span=(302, 302), match=''>\n",
      "<re.Match object; span=(303, 303), match=''>\n",
      "<re.Match object; span=(304, 304), match=''>\n",
      "<re.Match object; span=(305, 305), match=''>\n",
      "<re.Match object; span=(306, 306), match=''>\n",
      "<re.Match object; span=(307, 307), match=''>\n",
      "<re.Match object; span=(308, 308), match=''>\n",
      "<re.Match object; span=(309, 309), match=''>\n",
      "<re.Match object; span=(310, 310), match=''>\n",
      "<re.Match object; span=(311, 311), match=''>\n",
      "<re.Match object; span=(312, 312), match=''>\n",
      "<re.Match object; span=(313, 313), match=''>\n",
      "<re.Match object; span=(314, 314), match=''>\n",
      "<re.Match object; span=(315, 315), match=''>\n",
      "<re.Match object; span=(316, 316), match=''>\n",
      "<re.Match object; span=(317, 317), match=''>\n",
      "<re.Match object; span=(318, 318), match=''>\n",
      "<re.Match object; span=(319, 319), match=''>\n",
      "<re.Match object; span=(320, 320), match=''>\n",
      "<re.Match object; span=(321, 321), match=''>\n",
      "<re.Match object; span=(322, 322), match=''>\n",
      "<re.Match object; span=(323, 323), match=''>\n",
      "<re.Match object; span=(324, 324), match=''>\n",
      "<re.Match object; span=(325, 326), match='a'>\n",
      "<re.Match object; span=(326, 326), match=''>\n",
      "<re.Match object; span=(327, 327), match=''>\n",
      "<re.Match object; span=(328, 328), match=''>\n",
      "<re.Match object; span=(329, 329), match=''>\n",
      "<re.Match object; span=(330, 330), match=''>\n",
      "<re.Match object; span=(331, 331), match=''>\n",
      "<re.Match object; span=(332, 332), match=''>\n",
      "<re.Match object; span=(333, 333), match=''>\n",
      "<re.Match object; span=(334, 334), match=''>\n",
      "<re.Match object; span=(335, 335), match=''>\n",
      "<re.Match object; span=(336, 336), match=''>\n",
      "<re.Match object; span=(337, 337), match=''>\n",
      "<re.Match object; span=(338, 338), match=''>\n",
      "<re.Match object; span=(339, 339), match=''>\n",
      "<re.Match object; span=(340, 340), match=''>\n",
      "<re.Match object; span=(341, 341), match=''>\n",
      "<re.Match object; span=(342, 342), match=''>\n",
      "<re.Match object; span=(343, 343), match=''>\n",
      "<re.Match object; span=(344, 344), match=''>\n",
      "<re.Match object; span=(345, 345), match=''>\n",
      "<re.Match object; span=(346, 346), match=''>\n",
      "<re.Match object; span=(347, 347), match=''>\n",
      "<re.Match object; span=(348, 348), match=''>\n",
      "<re.Match object; span=(349, 349), match=''>\n",
      "<re.Match object; span=(350, 350), match=''>\n",
      "<re.Match object; span=(351, 351), match=''>\n",
      "<re.Match object; span=(352, 352), match=''>\n",
      "<re.Match object; span=(353, 353), match=''>\n",
      "<re.Match object; span=(354, 354), match=''>\n",
      "<re.Match object; span=(355, 355), match=''>\n",
      "<re.Match object; span=(356, 356), match=''>\n",
      "<re.Match object; span=(357, 357), match=''>\n",
      "<re.Match object; span=(358, 358), match=''>\n",
      "<re.Match object; span=(359, 359), match=''>\n",
      "<re.Match object; span=(360, 360), match=''>\n",
      "<re.Match object; span=(361, 361), match=''>\n",
      "<re.Match object; span=(362, 362), match=''>\n",
      "<re.Match object; span=(363, 363), match=''>\n",
      "<re.Match object; span=(364, 366), match='ai'>\n",
      "<re.Match object; span=(366, 366), match=''>\n",
      "<re.Match object; span=(367, 367), match=''>\n",
      "<re.Match object; span=(368, 368), match=''>\n",
      "<re.Match object; span=(369, 369), match=''>\n",
      "<re.Match object; span=(370, 370), match=''>\n",
      "<re.Match object; span=(371, 371), match=''>\n",
      "<re.Match object; span=(372, 372), match=''>\n",
      "<re.Match object; span=(373, 373), match=''>\n",
      "<re.Match object; span=(374, 375), match='a'>\n",
      "<re.Match object; span=(375, 375), match=''>\n",
      "<re.Match object; span=(376, 376), match=''>\n",
      "<re.Match object; span=(377, 377), match=''>\n",
      "<re.Match object; span=(378, 379), match='i'>\n",
      "<re.Match object; span=(379, 379), match=''>\n",
      "<re.Match object; span=(380, 381), match='a'>\n",
      "<re.Match object; span=(381, 381), match=''>\n",
      "<re.Match object; span=(382, 382), match=''>\n",
      "<re.Match object; span=(383, 384), match='a'>\n",
      "<re.Match object; span=(384, 384), match=''>\n",
      "<re.Match object; span=(385, 386), match='a'>\n",
      "<re.Match object; span=(386, 386), match=''>\n",
      "<re.Match object; span=(387, 387), match=''>\n",
      "<re.Match object; span=(388, 388), match=''>\n",
      "<re.Match object; span=(389, 389), match=''>\n",
      "<re.Match object; span=(390, 390), match=''>\n",
      "<re.Match object; span=(391, 391), match=''>\n",
      "<re.Match object; span=(392, 392), match=''>\n",
      "<re.Match object; span=(393, 393), match=''>\n",
      "<re.Match object; span=(394, 394), match=''>\n",
      "<re.Match object; span=(395, 395), match=''>\n",
      "<re.Match object; span=(396, 397), match='i'>\n",
      "<re.Match object; span=(397, 397), match=''>\n",
      "<re.Match object; span=(398, 398), match=''>\n",
      "<re.Match object; span=(399, 399), match=''>\n",
      "<re.Match object; span=(400, 400), match=''>\n",
      "<re.Match object; span=(401, 401), match=''>\n",
      "<re.Match object; span=(402, 402), match=''>\n",
      "<re.Match object; span=(403, 403), match=''>\n",
      "<re.Match object; span=(404, 404), match=''>\n",
      "<re.Match object; span=(405, 405), match=''>\n",
      "<re.Match object; span=(406, 406), match=''>\n",
      "<re.Match object; span=(407, 407), match=''>\n",
      "<re.Match object; span=(408, 408), match=''>\n",
      "<re.Match object; span=(409, 409), match=''>\n",
      "<re.Match object; span=(410, 411), match='a'>\n",
      "<re.Match object; span=(411, 411), match=''>\n",
      "<re.Match object; span=(412, 412), match=''>\n",
      "<re.Match object; span=(413, 413), match=''>\n",
      "<re.Match object; span=(414, 415), match='i'>\n",
      "<re.Match object; span=(415, 415), match=''>\n",
      "<re.Match object; span=(416, 417), match='a'>\n",
      "<re.Match object; span=(417, 417), match=''>\n",
      "<re.Match object; span=(418, 418), match=''>\n",
      "<re.Match object; span=(419, 420), match='a'>\n",
      "<re.Match object; span=(420, 420), match=''>\n",
      "<re.Match object; span=(421, 422), match='a'>\n",
      "<re.Match object; span=(422, 422), match=''>\n",
      "<re.Match object; span=(423, 423), match=''>\n",
      "<re.Match object; span=(424, 424), match=''>\n",
      "<re.Match object; span=(425, 425), match=''>\n",
      "<re.Match object; span=(426, 426), match=''>\n",
      "<re.Match object; span=(427, 427), match=''>\n",
      "<re.Match object; span=(428, 429), match='i'>\n",
      "<re.Match object; span=(429, 429), match=''>\n",
      "<re.Match object; span=(430, 430), match=''>\n",
      "<re.Match object; span=(431, 431), match=''>\n",
      "<re.Match object; span=(432, 432), match=''>\n",
      "<re.Match object; span=(433, 434), match='i'>\n",
      "<re.Match object; span=(434, 434), match=''>\n",
      "<re.Match object; span=(435, 435), match=''>\n",
      "<re.Match object; span=(436, 436), match=''>\n",
      "<re.Match object; span=(437, 437), match=''>\n",
      "<re.Match object; span=(438, 438), match=''>\n",
      "<re.Match object; span=(439, 439), match=''>\n",
      "<re.Match object; span=(440, 441), match='i'>\n",
      "<re.Match object; span=(441, 441), match=''>\n",
      "<re.Match object; span=(442, 442), match=''>\n",
      "<re.Match object; span=(443, 443), match=''>\n",
      "<re.Match object; span=(444, 444), match=''>\n",
      "<re.Match object; span=(445, 446), match='a'>\n",
      "<re.Match object; span=(446, 446), match=''>\n",
      "<re.Match object; span=(447, 447), match=''>\n",
      "<re.Match object; span=(448, 448), match=''>\n",
      "<re.Match object; span=(449, 450), match='a'>\n",
      "<re.Match object; span=(450, 450), match=''>\n",
      "<re.Match object; span=(451, 451), match=''>\n",
      "<re.Match object; span=(452, 452), match=''>\n",
      "<re.Match object; span=(453, 453), match=''>\n",
      "<re.Match object; span=(454, 455), match='a'>\n",
      "<re.Match object; span=(455, 455), match=''>\n",
      "<re.Match object; span=(456, 456), match=''>\n",
      "<re.Match object; span=(457, 457), match=''>\n",
      "<re.Match object; span=(458, 458), match=''>\n",
      "<re.Match object; span=(459, 459), match=''>\n",
      "<re.Match object; span=(460, 460), match=''>\n",
      "<re.Match object; span=(461, 463), match='ai'>\n",
      "<re.Match object; span=(463, 463), match=''>\n",
      "<re.Match object; span=(464, 464), match=''>\n",
      "<re.Match object; span=(465, 465), match=''>\n",
      "<re.Match object; span=(466, 466), match=''>\n",
      "<re.Match object; span=(467, 468), match='i'>\n",
      "<re.Match object; span=(468, 468), match=''>\n",
      "<re.Match object; span=(469, 469), match=''>\n",
      "<re.Match object; span=(470, 470), match=''>\n",
      "<re.Match object; span=(471, 472), match='a'>\n",
      "<re.Match object; span=(472, 472), match=''>\n",
      "<re.Match object; span=(473, 473), match=''>\n",
      "<re.Match object; span=(474, 474), match=''>\n",
      "<re.Match object; span=(475, 475), match=''>\n",
      "<re.Match object; span=(476, 476), match=''>\n",
      "<re.Match object; span=(477, 478), match='i'>\n",
      "<re.Match object; span=(478, 478), match=''>\n",
      "<re.Match object; span=(479, 479), match=''>\n",
      "<re.Match object; span=(480, 481), match='a'>\n",
      "<re.Match object; span=(481, 481), match=''>\n",
      "<re.Match object; span=(482, 483), match='i'>\n",
      "<re.Match object; span=(483, 484), match='a'>\n",
      "<re.Match object; span=(484, 484), match=''>\n",
      "<re.Match object; span=(485, 487), match='aa'>\n",
      "<re.Match object; span=(487, 487), match=''>\n",
      "<re.Match object; span=(488, 488), match=''>\n",
      "<re.Match object; span=(489, 490), match='i'>\n",
      "<re.Match object; span=(490, 490), match=''>\n",
      "<re.Match object; span=(491, 491), match=''>\n",
      "<re.Match object; span=(492, 494), match='ai'>\n",
      "<re.Match object; span=(494, 497), match='aii'>\n",
      "<re.Match object; span=(497, 497), match=''>\n",
      "<re.Match object; span=(498, 511), match='aiiiiiiiiiiii'>\n",
      "<re.Match object; span=(511, 511), match=''>\n"
     ]
    }
   ],
   "source": [
    "patt=re.compile(r'a*i*')\n",
    "\n",
    "matchs=patt.finditer(mystr)\n",
    "for i in matchs:\n",
    "    print(i)"
   ]
  },
  {
   "cell_type": "code",
   "execution_count": 42,
   "id": "ecd38650",
   "metadata": {},
   "outputs": [
    {
     "name": "stdout",
     "output_type": "stream",
     "text": [
      "<re.Match object; span=(6, 7), match='i'>\n",
      "<re.Match object; span=(8, 9), match='i'>\n",
      "<re.Match object; span=(20, 21), match='i'>\n",
      "<re.Match object; span=(39, 40), match='i'>\n",
      "<re.Match object; span=(44, 45), match='i'>\n",
      "<re.Match object; span=(141, 143), match='ai'>\n",
      "<re.Match object; span=(166, 167), match='i'>\n",
      "<re.Match object; span=(192, 193), match='i'>\n",
      "<re.Match object; span=(197, 198), match='i'>\n",
      "<re.Match object; span=(204, 205), match='i'>\n",
      "<re.Match object; span=(234, 235), match='i'>\n",
      "<re.Match object; span=(261, 262), match='i'>\n",
      "<re.Match object; span=(273, 274), match='i'>\n",
      "<re.Match object; span=(364, 366), match='ai'>\n",
      "<re.Match object; span=(378, 379), match='i'>\n",
      "<re.Match object; span=(396, 397), match='i'>\n",
      "<re.Match object; span=(414, 415), match='i'>\n",
      "<re.Match object; span=(428, 429), match='i'>\n",
      "<re.Match object; span=(433, 434), match='i'>\n",
      "<re.Match object; span=(440, 441), match='i'>\n",
      "<re.Match object; span=(461, 463), match='ai'>\n",
      "<re.Match object; span=(467, 468), match='i'>\n",
      "<re.Match object; span=(477, 478), match='i'>\n",
      "<re.Match object; span=(482, 483), match='i'>\n",
      "<re.Match object; span=(489, 490), match='i'>\n",
      "<re.Match object; span=(492, 494), match='ai'>\n",
      "<re.Match object; span=(494, 497), match='aii'>\n",
      "<re.Match object; span=(498, 511), match='aiiiiiiiiiiii'>\n"
     ]
    }
   ],
   "source": [
    "patt=re.compile(r'a*i+')\n",
    "\n",
    "matchs=patt.finditer(mystr)\n",
    "for i in matchs:\n",
    "    print(i)"
   ]
  },
  {
   "cell_type": "code",
   "execution_count": 43,
   "id": "fc1fb919",
   "metadata": {},
   "outputs": [
    {
     "name": "stdout",
     "output_type": "stream",
     "text": [
      "<re.Match object; span=(494, 497), match='aii'>\n",
      "<re.Match object; span=(498, 501), match='aii'>\n"
     ]
    }
   ],
   "source": [
    "patt=re.compile(r'ai{2}')\n",
    "\n",
    "matchs=patt.finditer(mystr)\n",
    "for i in matchs:\n",
    "    print(i)"
   ]
  },
  {
   "cell_type": "code",
   "execution_count": 44,
   "id": "882e8750",
   "metadata": {},
   "outputs": [
    {
     "name": "stdout",
     "output_type": "stream",
     "text": [
      "<re.Match object; span=(141, 143), match='ai'>\n",
      "<re.Match object; span=(364, 366), match='ai'>\n",
      "<re.Match object; span=(461, 463), match='ai'>\n",
      "<re.Match object; span=(492, 494), match='ai'>\n",
      "<re.Match object; span=(494, 496), match='ai'>\n",
      "<re.Match object; span=(498, 500), match='ai'>\n"
     ]
    }
   ],
   "source": [
    "patt=re.compile(r'ai{2}')\n",
    "patt=re.compile(r'ai{1}')\n",
    "matchs=patt.finditer(mystr)\n",
    "for i in matchs:\n",
    "    print(i)"
   ]
  },
  {
   "cell_type": "code",
   "execution_count": 45,
   "id": "fdeb9071",
   "metadata": {},
   "outputs": [
    {
     "name": "stdout",
     "output_type": "stream",
     "text": [
      "<re.Match object; span=(115, 118), match='Fax'>\n",
      "<re.Match object; span=(141, 143), match='ai'>\n",
      "<re.Match object; span=(324, 327), match='Fax'>\n",
      "<re.Match object; span=(364, 366), match='ai'>\n",
      "<re.Match object; span=(461, 463), match='ai'>\n",
      "<re.Match object; span=(492, 494), match='ai'>\n",
      "<re.Match object; span=(494, 496), match='ai'>\n",
      "<re.Match object; span=(498, 500), match='ai'>\n"
     ]
    }
   ],
   "source": [
    "patt = re.compile(r'ai{1}|Fax')\n",
    "matchs=patt.finditer(mystr)\n",
    "for i in matchs:\n",
    "    print(i)"
   ]
  },
  {
   "cell_type": "code",
   "execution_count": 46,
   "id": "1ef500b4",
   "metadata": {},
   "outputs": [
    {
     "name": "stdout",
     "output_type": "stream",
     "text": [
      "<re.Match object; span=(115, 118), match='Fax'>\n",
      "<re.Match object; span=(324, 327), match='Fax'>\n"
     ]
    }
   ],
   "source": [
    "patt = re.compile(r'Fax\\b')\n",
    "matchs=patt.finditer(mystr)\n",
    "for i in matchs:\n",
    "    print(i)"
   ]
  },
  {
   "cell_type": "code",
   "execution_count": 49,
   "id": "f3d4aa86",
   "metadata": {},
   "outputs": [
    {
     "name": "stdout",
     "output_type": "stream",
     "text": [
      "Fax\n"
     ]
    }
   ],
   "source": [
    "print(mystr[324:327])"
   ]
  },
  {
   "cell_type": "code",
   "execution_count": 51,
   "id": "cd994aa7",
   "metadata": {},
   "outputs": [
    {
     "name": "stdout",
     "output_type": "stream",
     "text": [
      "<re.Match object; span=(136, 138), match='27'>\n"
     ]
    }
   ],
   "source": [
    "patt = re.compile(r'27\\b')\n",
    "matchs=patt.finditer(mystr)\n",
    "for i in matchs:\n",
    "    print(i)"
   ]
  },
  {
   "cell_type": "code",
   "execution_count": 66,
   "id": "f7188385",
   "metadata": {},
   "outputs": [],
   "source": [
    "crick_score=\"\"\" Sachin scores 766 and \\n David scores 40 and Rohit score 88\n",
    "and Dhoni scores 99\"\"\""
   ]
  },
  {
   "cell_type": "code",
   "execution_count": 67,
   "id": "42802067",
   "metadata": {},
   "outputs": [
    {
     "name": "stdout",
     "output_type": "stream",
     "text": [
      " Sachin scores 766 and \n",
      " David scores 40 and Rohit score 88\n",
      "and Dhoni scores 99\n"
     ]
    }
   ],
   "source": [
    "print(crick_score)"
   ]
  },
  {
   "cell_type": "markdown",
   "id": "f7328225",
   "metadata": {},
   "source": [
    "### findall() return list copntaining all matches"
   ]
  },
  {
   "cell_type": "code",
   "execution_count": 68,
   "id": "f83b380a",
   "metadata": {},
   "outputs": [
    {
     "name": "stdout",
     "output_type": "stream",
     "text": [
      "['Sachin', 'David', 'Rohit', 'Dhoni']\n"
     ]
    }
   ],
   "source": [
    "name=re.findall(r\"[A-Z][a-z]*\",crick_score)\n",
    "print(name)"
   ]
  },
  {
   "cell_type": "code",
   "execution_count": 81,
   "id": "66aa2eb9",
   "metadata": {},
   "outputs": [
    {
     "name": "stdout",
     "output_type": "stream",
     "text": [
      "['76', '40', '88', '99']\n"
     ]
    }
   ],
   "source": [
    "age=re.findall(r\"\\d{2}\",crick_score)\n",
    "print(age)               "
   ]
  },
  {
   "cell_type": "code",
   "execution_count": 82,
   "id": "013f2514",
   "metadata": {},
   "outputs": [
    {
     "name": "stdout",
     "output_type": "stream",
     "text": [
      "['76', '40', '88', '99']\n"
     ]
    }
   ],
   "source": [
    "age1=re.findall(r\"[0-9]\",crick_score)\n",
    "print(age) "
   ]
  },
  {
   "cell_type": "code",
   "execution_count": 83,
   "id": "299c8a9c",
   "metadata": {},
   "outputs": [
    {
     "name": "stdout",
     "output_type": "stream",
     "text": [
      "{'Sachin': '76', 'David': '40', 'Rohit': '88', 'Dhoni': '99'}\n"
     ]
    }
   ],
   "source": [
    "cric_dash={}\n",
    "i=0\n",
    "for  x in name:\n",
    "    cric_dash[x]=age[i]\n",
    "    i+=1\n",
    "print(cric_dash)    "
   ]
  },
  {
   "cell_type": "code",
   "execution_count": 93,
   "id": "e22f0f37",
   "metadata": {},
   "outputs": [
    {
     "name": "stdout",
     "output_type": "stream",
     "text": [
      "{'Sachin': '76', 'David': '76', 'Rohit': '76', 'Dhoni': '76'}\n"
     ]
    }
   ],
   "source": [
    "i=0\n",
    "while i<len(age):\n",
    "    p=dict.fromkeys(name,age[0])\n",
    "    i+=1\n",
    "print(p)    "
   ]
  },
  {
   "cell_type": "code",
   "execution_count": 85,
   "id": "51f0cb8c",
   "metadata": {},
   "outputs": [
    {
     "name": "stdout",
     "output_type": "stream",
     "text": [
      "{'Sachin': '99', 'David': '99', 'Rohit': '99', 'Dhoni': '99'}\n"
     ]
    }
   ],
   "source": [
    "print(p)"
   ]
  },
  {
   "cell_type": "code",
   "execution_count": 94,
   "id": "12323aaa",
   "metadata": {},
   "outputs": [],
   "source": [
    "s=\"Her name is Tammana and Tammana is good girl\""
   ]
  },
  {
   "cell_type": "markdown",
   "id": "58da4b73",
   "metadata": {},
   "source": [
    "### search() returns a match  object if there is a match then it give."
   ]
  },
  {
   "cell_type": "code",
   "execution_count": 97,
   "id": "b57a7e66",
   "metadata": {},
   "outputs": [
    {
     "name": "stdout",
     "output_type": "stream",
     "text": [
      "item found\n",
      "['Tammana', 'Tammana']\n",
      "Tammana\n",
      "Tammana\n"
     ]
    }
   ],
   "source": [
    "if re.search(\"Tammana\",s):\n",
    "    print(\"item found\")\n",
    "    match=re.findall(\"Tammana\",s)\n",
    "    print(match)\n",
    "    for i in match:\n",
    "        print(i)\n",
    "else:\n",
    "    print(\"no found\")"
   ]
  },
  {
   "cell_type": "markdown",
   "id": "7ae80082",
   "metadata": {},
   "source": [
    "\n",
    "### finditer()"
   ]
  },
  {
   "cell_type": "code",
   "execution_count": 101,
   "id": "48fd3691",
   "metadata": {},
   "outputs": [
    {
     "name": "stdout",
     "output_type": "stream",
     "text": [
      "(12, 19)\n",
      "(24, 31)\n"
     ]
    }
   ],
   "source": [
    "for i in re.finditer(\"Tammana\",s):\n",
    "    index=i.span() # where start and end\n",
    "    print(index)"
   ]
  },
  {
   "cell_type": "code",
   "execution_count": 130,
   "id": "638d613a",
   "metadata": {},
   "outputs": [],
   "source": [
    "s2=\"Rat Cat Mat Hat Sat Pat Qat\""
   ]
  },
  {
   "cell_type": "code",
   "execution_count": 131,
   "id": "5c2bb595",
   "metadata": {},
   "outputs": [
    {
     "name": "stdout",
     "output_type": "stream",
     "text": [
      "['Rat', 'Cat', 'Mat']\n"
     ]
    }
   ],
   "source": [
    "data=re.findall(r\"[RCM]at\",s2)\n",
    "print(data)"
   ]
  },
  {
   "cell_type": "code",
   "execution_count": 132,
   "id": "e15cf588",
   "metadata": {},
   "outputs": [
    {
     "name": "stdout",
     "output_type": "stream",
     "text": [
      "['Hat', 'Sat', 'Pat', 'Qat']\n"
     ]
    }
   ],
   "source": [
    "data1=re.findall(r\"[^RCM]at\",s2)\n",
    "print(data1)"
   ]
  },
  {
   "cell_type": "code",
   "execution_count": 133,
   "id": "fc2cc5e6",
   "metadata": {},
   "outputs": [
    {
     "name": "stdout",
     "output_type": "stream",
     "text": [
      "['Rat', 'Cat', 'Sat', 'Pat', 'Qat']\n"
     ]
    }
   ],
   "source": [
    "data2=re.findall(r\"[^H-M]at\",s2)\n",
    "print(data2)"
   ]
  },
  {
   "cell_type": "code",
   "execution_count": 134,
   "id": "e22e4a7c",
   "metadata": {},
   "outputs": [
    {
     "name": "stdout",
     "output_type": "stream",
     "text": [
      "Lion... Cat Mat Hat Sat Lion... Qat\n"
     ]
    }
   ],
   "source": [
    "reg=re.compile(r\"[RP]at\")\n",
    "s2=reg.sub(\"Lion...\",s2)\n",
    "print(s2)"
   ]
  },
  {
   "cell_type": "code",
   "execution_count": 139,
   "id": "2480365f",
   "metadata": {},
   "outputs": [],
   "source": [
    "s=\"\"\" how r you\n",
    "I am fine\n",
    "thank you\"\"\""
   ]
  },
  {
   "cell_type": "code",
   "execution_count": 140,
   "id": "d67f7efa",
   "metadata": {},
   "outputs": [
    {
     "name": "stdout",
     "output_type": "stream",
     "text": [
      " how r you\n",
      "I am fine\n",
      "thank you\n"
     ]
    }
   ],
   "source": [
    "print(s)"
   ]
  },
  {
   "cell_type": "code",
   "execution_count": 141,
   "id": "0abed12b",
   "metadata": {},
   "outputs": [
    {
     "name": "stdout",
     "output_type": "stream",
     "text": [
      " how r you I am fine thank you\n"
     ]
    }
   ],
   "source": [
    "reg=re.compile(r\"\\n\")\n",
    "s3=reg.sub(\" \",s)\n",
    "print(s3)"
   ]
  },
  {
   "cell_type": "code",
   "execution_count": 150,
   "id": "99d954e5",
   "metadata": {},
   "outputs": [
    {
     "name": "stdout",
     "output_type": "stream",
     "text": [
      "no of digit 9\n",
      "no of  6 digit 0\n",
      "no of  alphabet 8\n"
     ]
    }
   ],
   "source": [
    "pattern=\"12345aaaaajuu6789\"\n",
    "print(\"no of digit\",len(re.findall(r\"\\d\",pattern)))\n",
    "print(\"no of  6 digit\",len(re.findall(r\"\\d{6}\",pattern)))\n",
    "print(\"no of  alphabet\",len(re.findall(r\"\\D\",pattern)))"
   ]
  },
  {
   "cell_type": "code",
   "execution_count": 149,
   "id": "c0aaaac3",
   "metadata": {},
   "outputs": [
    {
     "data": {
      "text/plain": [
       "17"
      ]
     },
     "execution_count": 149,
     "metadata": {},
     "output_type": "execute_result"
    }
   ],
   "source": [
    "len(pattern)"
   ]
  },
  {
   "cell_type": "code",
   "execution_count": 155,
   "id": "9d8b06f7",
   "metadata": {},
   "outputs": [],
   "source": [
    "multinum=\"12 123 1234 12345 123456 1234567\""
   ]
  },
  {
   "cell_type": "code",
   "execution_count": 157,
   "id": "fd2268c9",
   "metadata": {},
   "outputs": [
    {
     "name": "stdout",
     "output_type": "stream",
     "text": [
      "no of digit 3\n"
     ]
    }
   ],
   "source": [
    "print(\"no of digit\",len(re.findall(r\"\\d{5,7}\",multinum)))"
   ]
  },
  {
   "cell_type": "code",
   "execution_count": 166,
   "id": "1314d2b5",
   "metadata": {},
   "outputs": [],
   "source": [
    "usa_phone='404-h4000-7878'"
   ]
  },
  {
   "cell_type": "code",
   "execution_count": 168,
   "id": "9da39ae5",
   "metadata": {},
   "outputs": [
    {
     "name": "stdout",
     "output_type": "stream",
     "text": [
      "invalid\n"
     ]
    }
   ],
   "source": [
    "if re.search(\"\\d{3}-\\d{4}-\\d{4}\",usa_phone):\n",
    "    print(\"valid\")\n",
    "else :\n",
    "    print(\"invalid\")"
   ]
  },
  {
   "cell_type": "code",
   "execution_count": 172,
   "id": "67c82430",
   "metadata": {},
   "outputs": [
    {
     "name": "stdout",
     "output_type": "stream",
     "text": [
      "invalid\n"
     ]
    }
   ],
   "source": [
    "name=\"ashwanikumar\"\n",
    "if re.search(\"\\w{2,20}\\s\\w{2,20}\",name):\n",
    "    print(\"valid\")\n",
    "else :\n",
    "    print(\"invalid\")    "
   ]
  },
  {
   "cell_type": "code",
   "execution_count": 175,
   "id": "879d62e8",
   "metadata": {},
   "outputs": [
    {
     "name": "stdout",
     "output_type": "stream",
     "text": [
      "invalid\n"
     ]
    }
   ],
   "source": [
    "email=\"ashwanikumar89@gamil.com\"\n",
    "if re.search(\"\\w{A-Za-z}*\\d{0-9}*@\\w\\w{.com}$\",email):\n",
    "    print(\"valid\")\n",
    "else :\n",
    "    print(\"invalid\")"
   ]
  },
  {
   "cell_type": "markdown",
   "id": "1213db8c",
   "metadata": {},
   "source": [
    "The recipient name may be a maximum of 64 characters long and consist of:\n",
    "\n",
    "Uppercase and lowercase letters in English (A-Z, a-z)\n",
    "Digits from 0 to 9\n",
    "Special characters such as ! # $ % & ' * + - / = ? ^ _ ` { |\n",
    "A special character cannot appear as the first or last character in an email address or appear consecutively two or more times. The most commonly used special characters are the period (.), underscore(_), hyphen (-) and plus sign (+).\n",
    "\n",
    "Alternative special characters such as  \" ( ) , : ; < > @ [ \\ ] \n",
    "These alternative special characters may be used with certain restrictions but are generally avoided since they may be prohibited by a sending or receiving server.\n",
    "\n",
    "Because an organization or mailbox provider may restrict the use of special characters even though they are technically valid, it is best to minimize the use of special characters in recipient names. \n",
    "\n",
    "Although recipient names are technically case sensitive, most mailbox providers and organizations accept upper and lower case letters to indicate the same user (for example, JOHNDOE@domainsample.com is the same as johndoe@domainsample.com).\n",
    "\n",
    "Domain name\n",
    "The domain name is a string of letters and digits that defines a space on the Internet owned and controlled by a specific mailbox provider or organization.\n",
    "\n",
    "Domain names may be a maximum of 253 characters and consist of:\n",
    "\n",
    "Uppercase and lowercase letters in English (A-Z, a-z)\n",
    "Digits from 0 to 9 \n",
    "A hyphen (-)\n",
    "A period (.)  (used to identify a sub-domain; for example,  email.domainsample)\n",
    "Top-level domain\n",
    "Top-level domains are the highest level of the domain name system for the Internet and is placed after the domain name in an email address.\n",
    "\n",
    "Common top-level domains are:\n",
    "\n",
    ".com\n",
    ".net\n",
    ".org\n",
    "Examples\n",
    "Examples of valid email addresses include:\n",
    "\n",
    "johndoe@domainsample.com\n",
    "john.doe@domainsample.net\n",
    "john.doe43@domainsample.co.uk\n",
    "Examples of invalid email addresses include:\n",
    " \n",
    "\n",
    "Email address\n",
    "\n",
    "What makes it invalid\n",
    "\n",
    "@domainsample.com\n",
    "\n",
    "The recipient name is missing.\n",
    "\n",
    "johndoedomainsample.com\n",
    "\n",
    "The @ symbol is missing between johndoe and domainsample.com.\n",
    "\n",
    "john.doe@.net\n",
    "\n",
    "The domain name (domainsample) is missing after the @ symbol and before the top level domain (.net).\n",
    "\n",
    "john.doe43@domainsample\n",
    "\n",
    "The top level domain (.co.uk) is missing.\n",
    "\n",
    "\n"
   ]
  },
  {
   "cell_type": "code",
   "execution_count": 1,
   "id": "9b924d9a",
   "metadata": {},
   "outputs": [
    {
     "name": "stdout",
     "output_type": "stream",
     "text": [
      "Enter your  Email :\n",
      "poojadas2014.pd@gmail.com\n",
      "valid\n"
     ]
    }
   ],
   "source": [
    "#poojadas2014.pd@gmail.com\n",
    "#a-z\n",
    "#0-9\n",
    "#. _ time 1\n",
    "# @ time 1\n",
    "#. 2,3\n",
    "import re\n",
    "email_condition=\"([a-zA-Z0-9 .+*/-_])+@+([a-zA-Z0-9])+.+[.+]\"\n",
    "#r\"\\b[a-zA-Z0-9._+*/-]+[@]+[A-Z a-z 0-9]+\\.[A-Z|a-z]{2,}\\b\"\n",
    "#  ! # $ % & ' * + - / = ? ^ _ ` { |\n",
    "#r'\\b[A-Za-z0-9._%+-]+@[A-Za-z0-9.-]+\\.[]{2,}\\b'#\"^[a-z]+[\\._]?[a-z 0-9]+[@]\\w+[.]\\w{2,3}$\" ! # $ % & ' * + - / = ? ^ _ ` { |\n",
    "#r'\\b[A-Za-z0-9._%+-]+@[A-Za-z0-9.-]+\\.[A-Z|a-z]{2,}\\b'#\"^[a-z]+[\\._]?[a-z 0-9]+[@]\\w+[.]\\w{2,3}$\"\n",
    "user_email=input(\"Enter your  Email :\\n\")\n",
    "\n",
    "if re.search(email_condition,user_email):\n",
    "    print(\"valid\")\n",
    "else :\n",
    "    print(\"invalid\")"
   ]
  },
  {
   "cell_type": "raw",
   "id": "b1eb1811",
   "metadata": {},
   "source": [
    "Characters\n",
    "\n",
    "Escape character: \\\n",
    "Any character: .\n",
    "Digit: \\d\n",
    "Not a digit: \\D\n",
    "Word character: \\w\n",
    "Not a word character: \\W\n",
    "Whitespace: \\s\n",
    "Not whitespace: \\S\n",
    "Word boundary: \\b\n",
    "Not a word boundary: \\B\n",
    "Beginning of a string: ^\n",
    "End of a string: $"
   ]
  },
  {
   "cell_type": "code",
   "execution_count": null,
   "id": "b4dccdf3",
   "metadata": {},
   "outputs": [],
   "source": []
  }
 ],
 "metadata": {
  "kernelspec": {
   "display_name": "Python 3 (ipykernel)",
   "language": "python",
   "name": "python3"
  },
  "language_info": {
   "codemirror_mode": {
    "name": "ipython",
    "version": 3
   },
   "file_extension": ".py",
   "mimetype": "text/x-python",
   "name": "python",
   "nbconvert_exporter": "python",
   "pygments_lexer": "ipython3",
   "version": "3.9.7"
  }
 },
 "nbformat": 4,
 "nbformat_minor": 5
}
