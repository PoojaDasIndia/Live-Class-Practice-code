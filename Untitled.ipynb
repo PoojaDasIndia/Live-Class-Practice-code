{
 "cells": [
  {
   "cell_type": "code",
   "execution_count": 73,
   "id": "b98feb2d",
   "metadata": {},
   "outputs": [
    {
     "name": "stdout",
     "output_type": "stream",
     "text": [
      "3\n",
      "5\n",
      "10\n",
      "10\n",
      "1\n",
      "3\n",
      "1 2 5\n"
     ]
    },
    {
     "ename": "IndexError",
     "evalue": "list index out of range",
     "output_type": "error",
     "traceback": [
      "\u001b[1;31m---------------------------------------------------------------------------\u001b[0m",
      "\u001b[1;31mIndexError\u001b[0m                                Traceback (most recent call last)",
      "\u001b[1;32m~\\AppData\\Local\\Temp/ipykernel_8780/3570485323.py\u001b[0m in \u001b[0;36m<module>\u001b[1;34m\u001b[0m\n\u001b[0;32m     27\u001b[0m         \u001b[0mqueries\u001b[0m\u001b[1;33m.\u001b[0m\u001b[0mappend\u001b[0m\u001b[1;33m(\u001b[0m\u001b[0mmap\u001b[0m\u001b[1;33m(\u001b[0m\u001b[0mint\u001b[0m\u001b[1;33m,\u001b[0m \u001b[0minput\u001b[0m\u001b[1;33m(\u001b[0m\u001b[1;33m)\u001b[0m\u001b[1;33m.\u001b[0m\u001b[0mrstrip\u001b[0m\u001b[1;33m(\u001b[0m\u001b[1;33m)\u001b[0m\u001b[1;33m.\u001b[0m\u001b[0msplit\u001b[0m\u001b[1;33m(\u001b[0m\u001b[1;33m)\u001b[0m\u001b[1;33m)\u001b[0m\u001b[1;33m)\u001b[0m\u001b[1;33m\u001b[0m\u001b[1;33m\u001b[0m\u001b[0m\n\u001b[0;32m     28\u001b[0m \u001b[1;33m\u001b[0m\u001b[0m\n\u001b[1;32m---> 29\u001b[1;33m     \u001b[0mresult\u001b[0m \u001b[1;33m=\u001b[0m \u001b[0mfindSum\u001b[0m\u001b[1;33m(\u001b[0m\u001b[0mnumbers\u001b[0m\u001b[1;33m,\u001b[0m \u001b[0mqueries\u001b[0m\u001b[1;33m)\u001b[0m\u001b[1;33m\u001b[0m\u001b[1;33m\u001b[0m\u001b[0m\n\u001b[0m\u001b[0;32m     30\u001b[0m \u001b[1;33m\u001b[0m\u001b[0m\n\u001b[0;32m     31\u001b[0m     \u001b[0mprint\u001b[0m\u001b[1;33m(\u001b[0m\u001b[0mresult\u001b[0m\u001b[1;33m)\u001b[0m\u001b[1;33m\u001b[0m\u001b[1;33m\u001b[0m\u001b[0m\n",
      "\u001b[1;32m~\\AppData\\Local\\Temp/ipykernel_8780/3570485323.py\u001b[0m in \u001b[0;36mfindSum\u001b[1;34m(numbers, queries)\u001b[0m\n\u001b[0;32m      2\u001b[0m     \u001b[1;31m# Write your code here\u001b[0m\u001b[1;33m\u001b[0m\u001b[1;33m\u001b[0m\u001b[0m\n\u001b[0;32m      3\u001b[0m     \u001b[0mr\u001b[0m\u001b[1;33m=\u001b[0m\u001b[1;36m0\u001b[0m\u001b[1;33m\u001b[0m\u001b[1;33m\u001b[0m\u001b[0m\n\u001b[1;32m----> 4\u001b[1;33m     \u001b[1;32mfor\u001b[0m \u001b[0mi\u001b[0m \u001b[1;32min\u001b[0m \u001b[0mrange\u001b[0m\u001b[1;33m(\u001b[0m\u001b[0mqueries\u001b[0m\u001b[1;33m[\u001b[0m\u001b[1;36m0\u001b[0m\u001b[1;33m]\u001b[0m\u001b[1;33m,\u001b[0m\u001b[0mqueries\u001b[0m\u001b[1;33m[\u001b[0m\u001b[1;36m1\u001b[0m\u001b[1;33m]\u001b[0m\u001b[1;33m+\u001b[0m\u001b[1;36m1\u001b[0m\u001b[1;33m)\u001b[0m\u001b[1;33m:\u001b[0m\u001b[1;33m\u001b[0m\u001b[1;33m\u001b[0m\u001b[0m\n\u001b[0m\u001b[0;32m      5\u001b[0m \u001b[1;31m#         print(i)\u001b[0m\u001b[1;33m\u001b[0m\u001b[1;33m\u001b[0m\u001b[0m\n\u001b[0;32m      6\u001b[0m         \u001b[0mr\u001b[0m\u001b[1;33m=\u001b[0m\u001b[0mr\u001b[0m\u001b[1;33m+\u001b[0m\u001b[0mnumbers\u001b[0m\u001b[1;33m[\u001b[0m\u001b[0mi\u001b[0m\u001b[1;33m-\u001b[0m\u001b[1;36m1\u001b[0m\u001b[1;33m]\u001b[0m\u001b[1;33m\u001b[0m\u001b[1;33m\u001b[0m\u001b[0m\n",
      "\u001b[1;31mIndexError\u001b[0m: list index out of range"
     ]
    }
   ],
   "source": [
    "def findSum(numbers, queries):\n",
    "    # Write your code here\n",
    "    r=0\n",
    "    for i in range(queries[0],queries[1]+1):\n",
    "#         print(i)\n",
    "        r=r+numbers[i-1]\n",
    "    return r+queries[-1]\n",
    "\n",
    "if __name__ == '__main__':\n",
    "   \n",
    "\n",
    "    numbers_count = int(input().strip())\n",
    "\n",
    "    numbers = []\n",
    "\n",
    "    for _ in range(numbers_count):\n",
    "        numbers_item = int(input().strip())\n",
    "        numbers.append(numbers_item)\n",
    "    \n",
    "\n",
    "    queries_rows = int(input().strip())\n",
    "    queries_columns = int(input().strip())\n",
    "\n",
    "    queries = []\n",
    "\n",
    "    for _ in range(queries_rows):\n",
    "        queries.append(map(int, input().rstrip().split()))\n",
    "\n",
    "    result = findSum(numbers, queries)\n",
    "\n",
    "    print(result)\n",
    "    \n",
    "\"\"\"  \n",
    "3\n",
    "5\n",
    "10\n",
    "10\n",
    "1\n",
    "3\n",
    "1 2 5\"\"\"\n"
   ]
  },
  {
   "cell_type": "code",
   "execution_count": 21,
   "id": "f45a01de",
   "metadata": {},
   "outputs": [
    {
     "name": "stdout",
     "output_type": "stream",
     "text": [
      "45\n",
      "40\n",
      "50\n",
      "20\n",
      "[45, 40, 50, 20]\n"
     ]
    }
   ],
   "source": [
    "numbers=[]\n",
    "for _ in range(4):\n",
    "    numbers_item = int(input().strip())\n",
    "    numbers.append(numbers_item)\n",
    "    \n",
    "print(numbers)    "
   ]
  },
  {
   "cell_type": "code",
   "execution_count": 25,
   "id": "b8d3daad",
   "metadata": {},
   "outputs": [
    {
     "data": {
      "text/plain": [
       "1"
      ]
     },
     "execution_count": 25,
     "metadata": {},
     "output_type": "execute_result"
    }
   ],
   "source": [
    "q=[1,3,10]\n",
    "q[0]"
   ]
  },
  {
   "cell_type": "code",
   "execution_count": 19,
   "id": "a69bfdc0",
   "metadata": {},
   "outputs": [
    {
     "data": {
      "text/plain": [
       "62"
      ]
     },
     "execution_count": 19,
     "metadata": {},
     "output_type": "execute_result"
    }
   ],
   "source": [
    "4\n",
    "20\n",
    "30\n",
    "0\n",
    "10\n",
    "3\n",
    "1\n",
    "1\n",
    "1\n",
    "3"
   ]
  },
  {
   "cell_type": "code",
   "execution_count": 87,
   "id": "c19c0d68",
   "metadata": {},
   "outputs": [
    {
     "data": {
      "text/plain": [
       "10"
      ]
     },
     "execution_count": 87,
     "metadata": {},
     "output_type": "execute_result"
    }
   ],
   "source": [
    "def findSum(numbers, queries):\n",
    "    r=0\n",
    "    for i in range(queries[0],queries[1]+1):\n",
    "#         print(i)\n",
    "        if numbers[i-1]!=0:\n",
    "            r=r+numbers[i-1]\n",
    "#             print(r)\n",
    "            #r+queries[-1]\n",
    "            \n",
    "        else:\n",
    "            return r+numbers[i-1]+queries[-1]\n",
    "        \n",
    "    return r   \n",
    "            \n",
    "numbers=[5,0,10]\n",
    "queries=[1, 2 ,5]\n",
    "findSum(numbers, queries)\n",
    "          \n"
   ]
  },
  {
   "cell_type": "code",
   "execution_count": 39,
   "id": "3692de15",
   "metadata": {},
   "outputs": [
    {
     "data": {
      "text/plain": [
       "1"
      ]
     },
     "execution_count": 39,
     "metadata": {},
     "output_type": "execute_result"
    }
   ],
   "source": []
  },
  {
   "cell_type": "code",
   "execution_count": 40,
   "id": "fc65d4f6",
   "metadata": {},
   "outputs": [
    {
     "data": {
      "text/plain": [
       "10"
      ]
     },
     "execution_count": 40,
     "metadata": {},
     "output_type": "execute_result"
    }
   ],
   "source": [
    "queries[3-1]"
   ]
  },
  {
   "cell_type": "code",
   "execution_count": null,
   "id": "0a10726d",
   "metadata": {},
   "outputs": [],
   "source": []
  }
 ],
 "metadata": {
  "kernelspec": {
   "display_name": "Python 3 (ipykernel)",
   "language": "python",
   "name": "python3"
  },
  "language_info": {
   "codemirror_mode": {
    "name": "ipython",
    "version": 3
   },
   "file_extension": ".py",
   "mimetype": "text/x-python",
   "name": "python",
   "nbconvert_exporter": "python",
   "pygments_lexer": "ipython3",
   "version": "3.9.7"
  }
 },
 "nbformat": 4,
 "nbformat_minor": 5
}
