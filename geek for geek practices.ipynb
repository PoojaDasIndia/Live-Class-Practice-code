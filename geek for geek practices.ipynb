{
 "cells": [
  {
   "cell_type": "code",
   "execution_count": null,
   "id": "03b5dbc0",
   "metadata": {},
   "outputs": [],
   "source": [
    "def Func(n):\n",
    "    for i in range(1,n):\n",
    "        j=i\n",
    "#         print(j,\" \",i,\" \",n)\n",
    "        while j<i*i:\n",
    "#             print(\"*  \",i*i,j)\n",
    "            j=j+1\n",
    "#             print(\"+ \",j,i)\n",
    "            if j%i==0:\n",
    "#                 print(\"% \",j,i,j%i)\n",
    "                for k in range(0,j):\n",
    "#                     print(j)\n",
    "#                     print(k)\n",
    "                    print(k,\"Krish\")\n",
    "Func(4)                    "
   ]
  },
  {
   "cell_type": "code",
   "execution_count": null,
   "id": "f5e29e28",
   "metadata": {},
   "outputs": [],
   "source": [
    "3%2\n"
   ]
  },
  {
   "cell_type": "code",
   "execution_count": null,
   "id": "63a57af0",
   "metadata": {},
   "outputs": [],
   "source": [
    "arr=[0,3,1,2,2,3]\n",
    "class Solution:\n",
    "    def duplicates(arr): \n",
    "        new =[]\n",
    "        new1=[]\n",
    "        for i in arr:\n",
    "            if i not in new:\n",
    "                new.append(i)\n",
    "            else:\n",
    "                new1.append(i)    \n",
    "        \n",
    "        if new1 == []:\n",
    "            return -1\n",
    "        else:\n",
    "            s = [str(i) for i in new1]\n",
    "            print(s)\n",
    "            a_string = \" \".join(s)\n",
    "            print(a_string)\n",
    "#             res =a_string)\n",
    "           \n",
    "            \n",
    "            return a_string            \n",
    "Solution.duplicates(arr)"
   ]
  },
  {
   "cell_type": "code",
   "execution_count": null,
   "id": "ff1c4a93",
   "metadata": {},
   "outputs": [],
   "source": [
    "a[1]==k[1]\n",
    "print"
   ]
  },
  {
   "cell_type": "code",
   "execution_count": null,
   "id": "1b40e08a",
   "metadata": {},
   "outputs": [],
   "source": [
    "def print_alpha_nums(abc_list, num_list):\n",
    "    for char in abc_list:\n",
    "        for num in num_list: \n",
    "            print(char, num) \n",
    "    return\n",
    "print_alpha_nums(['a', 'b', 'c'], [1, 2, 3]) "
   ]
  },
  {
   "cell_type": "code",
   "execution_count": null,
   "id": "5562df00",
   "metadata": {},
   "outputs": [],
   "source": [
    "my_list = [2, 'apple', 3.5].to_list()\n",
    "my_list"
   ]
  },
  {
   "cell_type": "code",
   "execution_count": null,
   "id": "39d643b8",
   "metadata": {},
   "outputs": [],
   "source": [
    "num_list = [21,13,19,3,11,5,18] \n",
    "num_list.sort()\n",
    "num_list[len(num_list) // 2] \n"
   ]
  },
  {
   "cell_type": "code",
   "execution_count": null,
   "id": "69114d5f",
   "metadata": {},
   "outputs": [],
   "source": [
    "len(num_list)// 2"
   ]
  },
  {
   "cell_type": "code",
   "execution_count": null,
   "id": "2adb9fee",
   "metadata": {},
   "outputs": [],
   "source": [
    "sorted(num_list)"
   ]
  },
  {
   "cell_type": "code",
   "execution_count": null,
   "id": "c79d6222",
   "metadata": {},
   "outputs": [],
   "source": [
    "num_list = [1,2,3,4,5]\n",
    "num_list.remove(2)\n",
    "print(num_list) "
   ]
  },
  {
   "cell_type": "code",
   "execution_count": null,
   "id": "77559d00",
   "metadata": {},
   "outputs": [],
   "source": [
    "fruit_info = { 'fruit': 'apple', 'count': 2, 'price': 3.5 } \n",
    "my_keys = fruit_info.keys()\n",
    "    \n",
    "\n",
    " "
   ]
  },
  {
   "cell_type": "code",
   "execution_count": null,
   "id": "d8f35a5d",
   "metadata": {},
   "outputs": [],
   "source": [
    "list(range(10,1,-1))"
   ]
  },
  {
   "cell_type": "code",
   "execution_count": null,
   "id": "9e4e7afb",
   "metadata": {},
   "outputs": [],
   "source": [
    "list(reversed(range(1,11)))"
   ]
  },
  {
   "cell_type": "code",
   "execution_count": null,
   "id": "91ff0a97",
   "metadata": {},
   "outputs": [],
   "source": [
    "12/100*20"
   ]
  },
  {
   "cell_type": "code",
   "execution_count": null,
   "id": "dbc55b49",
   "metadata": {
    "scrolled": true
   },
   "outputs": [],
   "source": [
    "def solve(meal_cost, tip_percent, tax_percent):\n",
    "    # Write your code here\n",
    "    tip=(meal_cost*tip_percent)/100\n",
    "    print(tip)\n",
    "    tax=(tax_percent*meal_cost)/100\n",
    "    print(tax)\n",
    "    tolal_cost=meal_cost+tip+tax\n",
    "    \n",
    "    return round(tolal_cost)\n",
    "solve(12.00,20,8)"
   ]
  },
  {
   "cell_type": "code",
   "execution_count": null,
   "id": "aa6d262c",
   "metadata": {},
   "outputs": [],
   "source": [
    "tax=(8*12.00)/100\n",
    "tax"
   ]
  },
  {
   "cell_type": "code",
   "execution_count": null,
   "id": "72769a93",
   "metadata": {},
   "outputs": [],
   "source": [
    "def solve(meal_cost, tip_percent, tax_percent):\n",
    "\n",
    "    if __name__ == '__main__':\n",
    "        meal_cost = float(input())\n",
    "\n",
    "        tip_percent = int(input())\n",
    "\n",
    "        tax_percent = int(input())\n",
    "\n",
    "        tip = (meal_cost * tip_percent) / 100\n",
    "        tax = (meal_cost * tax_percent) / 100\n",
    "        totalCost = int(round(meal_cost + tip + tax))\n",
    "        print(totalCost)\n",
    "\n",
    "\n",
    "solve(20, tip_percent, tax_percent)"
   ]
  },
  {
   "cell_type": "code",
   "execution_count": null,
   "id": "a1db95b1",
   "metadata": {},
   "outputs": [],
   "source": [
    "y = \"stuff;thing;junk;\""
   ]
  },
  {
   "cell_type": "code",
   "execution_count": null,
   "id": "4b268d6c",
   "metadata": {},
   "outputs": [],
   "source": [
    "z = y.split(';') \n",
    "len(z)"
   ]
  },
  {
   "cell_type": "code",
   "execution_count": null,
   "id": "20152277",
   "metadata": {},
   "outputs": [],
   "source": [
    "# n this code fragment, what will the values of c and d be equivalent to? In this code fragment, what will the values of c and d be equivalent to? \n",
    "import numpy as np \n",
    "a = np.array([1,2,3])\n",
    "b = np.array([4,5,6])\n",
    "c = a*b\n",
    "d = np.dot(a,b) "
   ]
  },
  {
   "cell_type": "code",
   "execution_count": null,
   "id": "51f61e59",
   "metadata": {},
   "outputs": [],
   "source": [
    "a=[\"a\",20,\"b\",30,\"c\",60,\"l\",30]\n",
    "dic={a[i]: a[i + 1] for i in range(0, len(a), 2)}\n",
    "dicmax = min(dic, key= lambda x: dic[x])\n",
    "sor={k: v for k, v in sorted(dic.items(), key=lambda item: item[1])}\n",
    "print(sor)\n",
    "for i in sor:\n",
    "    if sor[i]==sor[i+1] :\n",
    "        print(i)\n",
    "\n",
    "# if sor[i+1]==sor[i+1]:\n",
    "        \n"
   ]
  },
  {
   "cell_type": "code",
   "execution_count": null,
   "id": "fe3d2db1",
   "metadata": {},
   "outputs": [],
   "source": [
    "arr = []\n",
    "for _ in range(int(input(\"no.\"))):\n",
    "    name = input(\"enter name\")\n",
    "    score = float(input(\"enteer marks\"))       \n",
    "    arr.append([score,name])\n",
    "a=arr.sort()\n",
    "print(arr)\n",
    "for i in range(len(arr)):\n",
    "    if arr[i][0]> arr[0][0]:\n",
    "        print(arr[i][1])\n",
    "            \n",
    "        if i+1 >= len(arr) or arr[i+1][0] > arr[i][0]:\n",
    "#             print(arr[i+1][1])\n",
    "            break\n",
    "#             print (arr[1][1])\n",
    "#             print (arr)\n",
    "#             print (x)"
   ]
  },
  {
   "cell_type": "code",
   "execution_count": null,
   "id": "0e0c18b2",
   "metadata": {},
   "outputs": [],
   "source": [
    "if __name__ == '__main__':\n",
    "    N = int(input())\n",
    "    empty = []\n",
    "    conv = []\n",
    "\n",
    "    for i in range(N):\n",
    "        x = input().split()\n",
    "        empty.append(x)\n",
    "\n",
    "    for i in range(len(empty)):\n",
    "        if empty[i][0] == 'insert':\n",
    "            x = int(empty[i][1])\n",
    "            y = int(empty[i][2])\n",
    "            conv.insert(x,y)\n",
    "        elif empty[i][0] == 'print':\n",
    "            print(conv)\n",
    "        elif empty[i][0] == 'remove':\n",
    "            conv.remove(int(empty[i][1]))\n",
    "        elif empty[i][0] == 'append':\n",
    "            conv.append(int(empty[i][1]))\n",
    "        elif empty[i][0] == 'sort':\n",
    "            conv.sort()\n",
    "        elif empty[i][0] == 'pop':\n",
    "            conv.pop()\n",
    "        elif empty[i][0] == 'reverse':\n",
    "            conv.reverse()"
   ]
  },
  {
   "cell_type": "code",
   "execution_count": 2,
   "id": "33ea291a",
   "metadata": {},
   "outputs": [
    {
     "name": "stdout",
     "output_type": "stream",
     "text": [
      "original list [[2, 5], 'str', [4, 9]]\n",
      "\n",
      "After Append  list our list is [[2, 5], [(5+6j)], ['j', 56, 'jk'], 'str', [4, 9], [8, 'abh']]\n",
      "\n",
      "index of j is at position 0\n",
      "\n",
      "Removal of j \n",
      " \n",
      "After remove string  [[2, 5], [(5+6j)], [56, 'jk'], 'str', [4, 9], [8, 'abh']] \n",
      "\n",
      "index of jk is at position 1\n",
      "\n",
      "Removal of jk \n",
      " \n",
      "After remove string  [[2, 5], [(5+6j)], [56], 'str', [4, 9], [8, 'abh']] \n",
      "\n",
      "index of abh is at position 1\n",
      "\n",
      "Removal of abh \n",
      " \n",
      "After remove string  [[2, 5], [(5+6j)], [56], 'str', [4, 9], [8]] \n",
      "\n",
      "Nest list in the list are [[2, 5], [(5+6j)], [56], [4, 9], [8]]\n",
      "Nested list [2, 5] and its 2 index element is 5\n",
      "Nested list [4, 9] and its 2 index element is 9\n"
     ]
    }
   ],
   "source": [
    "l=[[2,5],\"str\",[4,9]]\n",
    "print(f\"original list {l}\\n\")\n",
    "l.insert(1,[\"j\",56,\"jk\"])\n",
    "# print(\"after first insert in position 1 list\",l)\n",
    "l.insert(1,[5+6j])\n",
    "# print(\"after second insert in position 1 list\",l)\n",
    "l.append([8,\"abh\"])\n",
    "print(f\"After Append  list our list is {l}\\n\")\n",
    "\n",
    "for i in l:\n",
    "    if type(i)==list:\n",
    "        for j in i:\n",
    "            \n",
    "            if type(j)==str:\n",
    "                print(f\"index of {j} is at position {i.index(j)}\\n\")\n",
    "#                 \n",
    "#                 i.remove(j)\n",
    "                print(f\"Removal of {j} \\n \")\n",
    "                i.remove(j)\n",
    "                print(\"After remove string \",l,\"\\n\")\n",
    "                \n",
    "l=[i for i in l if type(i)==list]\n",
    "print(f\"Nest list in the list are {l}\")    \n",
    "\n",
    "\n",
    "        \n",
    "for i in l:        \n",
    "    if type(i)==list and len(i)>=2: \n",
    "#         print(f\"Nested list which contain  2 or more than 2 element are {i}\")\n",
    "        print(f\"Nested list {i} and its 2 index element is {i[1]}\")\n",
    "            "
   ]
  },
  {
   "cell_type": "code",
   "execution_count": 4,
   "id": "1a0c50fe",
   "metadata": {},
   "outputs": [
    {
     "data": {
      "text/plain": [
       "(45, 8, 'l')"
      ]
     },
     "execution_count": 4,
     "metadata": {},
     "output_type": "execute_result"
    }
   ],
   "source": [
    "t=(45,8,\"l\")\n",
    "t"
   ]
  },
  {
   "cell_type": "code",
   "execution_count": 6,
   "id": "30150b4a",
   "metadata": {},
   "outputs": [
    {
     "data": {
      "text/plain": [
       "'l'"
      ]
     },
     "execution_count": 6,
     "metadata": {},
     "output_type": "execute_result"
    }
   ],
   "source": [
    "t[2]"
   ]
  },
  {
   "cell_type": "code",
   "execution_count": 7,
   "id": "e5a0f2b3",
   "metadata": {},
   "outputs": [
    {
     "ename": "TypeError",
     "evalue": "'tuple' object does not support item assignment",
     "output_type": "error",
     "traceback": [
      "\u001b[1;31m---------------------------------------------------------------------------\u001b[0m",
      "\u001b[1;31mTypeError\u001b[0m                                 Traceback (most recent call last)",
      "\u001b[1;32m~\\AppData\\Local\\Temp/ipykernel_6380/2440658952.py\u001b[0m in \u001b[0;36m<module>\u001b[1;34m\u001b[0m\n\u001b[1;32m----> 1\u001b[1;33m \u001b[0mt\u001b[0m\u001b[1;33m[\u001b[0m\u001b[1;36m2\u001b[0m\u001b[1;33m]\u001b[0m\u001b[1;33m=\u001b[0m\u001b[1;36m8\u001b[0m\u001b[1;33m\u001b[0m\u001b[1;33m\u001b[0m\u001b[0m\n\u001b[0m",
      "\u001b[1;31mTypeError\u001b[0m: 'tuple' object does not support item assignment"
     ]
    }
   ],
   "source": [
    "t[2]=8"
   ]
  },
  {
   "cell_type": "code",
   "execution_count": 9,
   "id": "3127aeb2",
   "metadata": {},
   "outputs": [
    {
     "ename": "TypeError",
     "evalue": "'tuple' object does not support item assignment",
     "output_type": "error",
     "traceback": [
      "\u001b[1;31m---------------------------------------------------------------------------\u001b[0m",
      "\u001b[1;31mTypeError\u001b[0m                                 Traceback (most recent call last)",
      "\u001b[1;32m~\\AppData\\Local\\Temp/ipykernel_6380/2320531589.py\u001b[0m in \u001b[0;36m<module>\u001b[1;34m\u001b[0m\n\u001b[1;32m----> 1\u001b[1;33m \u001b[0mt\u001b[0m\u001b[1;33m[\u001b[0m\u001b[1;36m3\u001b[0m\u001b[1;33m]\u001b[0m\u001b[1;33m=\u001b[0m\u001b[1;36m96\u001b[0m\u001b[1;33m\u001b[0m\u001b[1;33m\u001b[0m\u001b[0m\n\u001b[0m",
      "\u001b[1;31mTypeError\u001b[0m: 'tuple' object does not support item assignment"
     ]
    }
   ],
   "source": [
    "t[3]=96"
   ]
  },
  {
   "cell_type": "code",
   "execution_count": 12,
   "id": "bd74d719",
   "metadata": {},
   "outputs": [
    {
     "data": {
      "text/plain": [
       "(45, 8, 'l', 8, 9)"
      ]
     },
     "execution_count": 12,
     "metadata": {},
     "output_type": "execute_result"
    }
   ],
   "source": [
    "ti=(8,9)\n",
    "t+ti"
   ]
  },
  {
   "cell_type": "code",
   "execution_count": null,
   "id": "cf27e2e4",
   "metadata": {},
   "outputs": [],
   "source": []
  }
 ],
 "metadata": {
  "kernelspec": {
   "display_name": "Python 3 (ipykernel)",
   "language": "python",
   "name": "python3"
  },
  "language_info": {
   "codemirror_mode": {
    "name": "ipython",
    "version": 3
   },
   "file_extension": ".py",
   "mimetype": "text/x-python",
   "name": "python",
   "nbconvert_exporter": "python",
   "pygments_lexer": "ipython3",
   "version": "3.9.7"
  }
 },
 "nbformat": 4,
 "nbformat_minor": 5
}
