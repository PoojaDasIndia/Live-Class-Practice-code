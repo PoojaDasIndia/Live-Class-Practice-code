{
 "cells": [
  {
   "cell_type": "code",
   "execution_count": 1,
   "id": "45778cf9",
   "metadata": {},
   "outputs": [],
   "source": [
    "def equal(a,b,c):\n",
    "    List=[a,b,c]\n",
    "    ls=[]\n",
    "    for i in set(List):\n",
    "        if i in List :\n",
    "            ls.append(List.count(i))\n",
    "    \n",
    "    if max(ls)==1:\n",
    "        return 0\n",
    "    else:\n",
    "        return max(ls)"
   ]
  },
  {
   "cell_type": "code",
   "execution_count": 2,
   "id": "7b7024b0",
   "metadata": {},
   "outputs": [],
   "source": [
    "a=10\n",
    "if a==11: # if condition true only it come inside \n",
    "    print(\"This is my first condition\")"
   ]
  },
  {
   "cell_type": "code",
   "execution_count": 3,
   "id": "1afeaec2",
   "metadata": {},
   "outputs": [],
   "source": [
    "a=10\n",
    "if a>5:\n",
    "    pass"
   ]
  },
  {
   "cell_type": "code",
   "execution_count": 4,
   "id": "d67f6c18",
   "metadata": {},
   "outputs": [],
   "source": [
    "a=10\n",
    "if a<8:\n",
    "    print(\"print this if condition is true\")"
   ]
  },
  {
   "cell_type": "code",
   "execution_count": 5,
   "id": "064bee60",
   "metadata": {},
   "outputs": [
    {
     "name": "stdout",
     "output_type": "stream",
     "text": [
      "print this \n"
     ]
    }
   ],
   "source": [
    "a=10\n",
    "if a==11:\n",
    "    print(\"mu condition is false\")\n",
    "else:\n",
    "    print(\"print this \")"
   ]
  },
  {
   "cell_type": "code",
   "execution_count": 6,
   "id": "2f77a5bf",
   "metadata": {},
   "outputs": [
    {
     "name": "stdout",
     "output_type": "stream",
     "text": [
      "we are trying to compare 10 with 11\n"
     ]
    }
   ],
   "source": [
    "a=10\n",
    "if a==12:\n",
    "    print(\"here we are trying to compare 10 with 12\")\n",
    "elif a==10:\n",
    "    print(\"we are trying to compare 10 with 11\")\n",
    "else:\n",
    "    print(\"if all blocks wil fail then do this\")"
   ]
  },
  {
   "cell_type": "code",
   "execution_count": 7,
   "id": "f8b0c340",
   "metadata": {},
   "outputs": [
    {
     "name": "stdout",
     "output_type": "stream",
     "text": [
      "for sure i will be able to buy \n"
     ]
    }
   ],
   "source": [
    "price = 500\n",
    "if price > 500:\n",
    "    print(\"may be i won't be able to buy jacket\")\n",
    "elif price < 500:\n",
    "    print(\"i will be able to buy jacket\")\n",
    "elif price ==500:\n",
    "    print(\"for sure i will be able to buy \")\n",
    "#else price== 500: # condition with else \n",
    "else:\n",
    "    print(\"i dont knw\")"
   ]
  },
  {
   "cell_type": "code",
   "execution_count": 8,
   "id": "bbab7cc6",
   "metadata": {},
   "outputs": [
    {
     "data": {
      "text/plain": [
       "False"
      ]
     },
     "execution_count": 8,
     "metadata": {},
     "output_type": "execute_result"
    }
   ],
   "source": [
    "price > 500"
   ]
  },
  {
   "cell_type": "code",
   "execution_count": 9,
   "id": "140ae877",
   "metadata": {},
   "outputs": [
    {
     "data": {
      "text/plain": [
       "True"
      ]
     },
     "execution_count": 9,
     "metadata": {},
     "output_type": "execute_result"
    }
   ],
   "source": [
    "price ==500"
   ]
  },
  {
   "cell_type": "code",
   "execution_count": 10,
   "id": "6f8e05b4",
   "metadata": {},
   "outputs": [
    {
     "data": {
      "text/plain": [
       "True"
      ]
     },
     "execution_count": 10,
     "metadata": {},
     "output_type": "execute_result"
    }
   ],
   "source": [
    "l=[1,2,3,4,5,6]\n",
    "2 in l"
   ]
  },
  {
   "cell_type": "code",
   "execution_count": 11,
   "id": "c44e2ad3",
   "metadata": {},
   "outputs": [
    {
     "name": "stdout",
     "output_type": "stream",
     "text": [
      "do not perform this task\n"
     ]
    }
   ],
   "source": [
    "if  60 in l:\n",
    "    print(\"try to perfrom task\")\n",
    "else:\n",
    "    print(\"do not perform this task\")"
   ]
  },
  {
   "cell_type": "code",
   "execution_count": 12,
   "id": "d73b3ce8",
   "metadata": {},
   "outputs": [
    {
     "data": {
      "text/plain": [
       "[1, 2, 3, 4, 5, 6]"
      ]
     },
     "execution_count": 12,
     "metadata": {},
     "output_type": "execute_result"
    }
   ],
   "source": [
    "l"
   ]
  },
  {
   "cell_type": "code",
   "execution_count": 13,
   "id": "97aa6ddd",
   "metadata": {},
   "outputs": [
    {
     "name": "stdout",
     "output_type": "stream",
     "text": [
      "try to do substraction\n",
      "this is new statement\n"
     ]
    }
   ],
   "source": [
    "if 10 in l:\n",
    "    print(\"try to do a addition\")\n",
    "elif 2 in l:\n",
    "    print(\"try to do substraction\")\n",
    "elif 3 in l:\n",
    "    print(\"try to do multiplication\")\n",
    "    \n",
    "# different if block    \n",
    "if 4 in l:\n",
    "    print(\"this is new statement\")    "
   ]
  },
  {
   "cell_type": "code",
   "execution_count": 14,
   "id": "1734fc27",
   "metadata": {},
   "outputs": [],
   "source": [
    "a=400\n"
   ]
  },
  {
   "cell_type": "code",
   "execution_count": 15,
   "id": "8f8e93c6",
   "metadata": {},
   "outputs": [
    {
     "name": "stdout",
     "output_type": "stream",
     "text": [
      "566\n"
     ]
    }
   ],
   "source": [
    "b=int(input())"
   ]
  },
  {
   "cell_type": "code",
   "execution_count": 16,
   "id": "f5c96aaf",
   "metadata": {},
   "outputs": [
    {
     "data": {
      "text/plain": [
       "566"
      ]
     },
     "execution_count": 16,
     "metadata": {},
     "output_type": "execute_result"
    }
   ],
   "source": [
    "b"
   ]
  },
  {
   "cell_type": "code",
   "execution_count": 17,
   "id": "3bffc174",
   "metadata": {},
   "outputs": [
    {
     "data": {
      "text/plain": [
       "int"
      ]
     },
     "execution_count": 17,
     "metadata": {},
     "output_type": "execute_result"
    }
   ],
   "source": [
    "type(b)"
   ]
  },
  {
   "cell_type": "code",
   "execution_count": 18,
   "id": "d7533a75",
   "metadata": {},
   "outputs": [
    {
     "name": "stdout",
     "output_type": "stream",
     "text": [
      "55\n"
     ]
    }
   ],
   "source": [
    "c=tuple(input())"
   ]
  },
  {
   "cell_type": "code",
   "execution_count": 19,
   "id": "d02a0d91",
   "metadata": {},
   "outputs": [
    {
     "data": {
      "text/plain": [
       "('5', '5')"
      ]
     },
     "execution_count": 19,
     "metadata": {},
     "output_type": "execute_result"
    }
   ],
   "source": [
    "c"
   ]
  },
  {
   "cell_type": "code",
   "execution_count": 20,
   "id": "e91d98d1",
   "metadata": {},
   "outputs": [
    {
     "name": "stdout",
     "output_type": "stream",
     "text": [
      "400\n",
      "i will be able to buy something\n",
      "I won't be able to buy anything\n"
     ]
    }
   ],
   "source": [
    "price=int(input())\n",
    "if price<500:\n",
    "    print(\"i will be able to buy something\")\n",
    "    if price <400:\n",
    "        print(\"I will be able to buy jacket\")\n",
    "        if price<300:\n",
    "            print(\"I will be able to buy shirt\")\n",
    "    else:\n",
    "        print(\"I won't be able to buy anything\")\n",
    "else:\n",
    "    print(\"I won't be able to buy anything with this price  tag\")\n",
    "    if price>500:\n",
    "        print(\"lets try somethig else\")"
   ]
  },
  {
   "cell_type": "code",
   "execution_count": 21,
   "id": "0d0f0767",
   "metadata": {},
   "outputs": [
    {
     "name": "stdout",
     "output_type": "stream",
     "text": [
      "600\n",
      "done gre\n"
     ]
    }
   ],
   "source": [
    "marks=int(input())\n",
    "if  marks >600:\n",
    "    print(\"Clear GRE\")\n",
    "elif marks<600:\n",
    "    print(\" NO GRE\")\n",
    "    if  marks<500:\n",
    "        print(\"TOFFEL\")\n",
    "        if marks< 400:\n",
    "            print(\"try to something dont knw what\")\n",
    "    else: \n",
    "        print(\"you got tofel\")\n",
    "else:\n",
    "    print(\"done gre\")"
   ]
  },
  {
   "cell_type": "code",
   "execution_count": 22,
   "id": "e94c4acc",
   "metadata": {},
   "outputs": [
    {
     "name": "stdout",
     "output_type": "stream",
     "text": [
      "Enter a floating point number 56\n",
      "Enter value is positive number\n"
     ]
    }
   ],
   "source": [
    "val=float(input(\"Enter a floating point number \"))\n",
    "if val >=0:\n",
    "    if val==0:\n",
    "        print(\"Enter value is zero\")\n",
    "    else:\n",
    "        print(\"Enter value is positive number\")\n",
    "else:\n",
    "    print(\"Enter number is negative number\")\n",
    "    "
   ]
  },
  {
   "cell_type": "code",
   "execution_count": 23,
   "id": "34812d33",
   "metadata": {},
   "outputs": [
    {
     "data": {
      "text/plain": [
       "{1: None, 2: None, 3: None, 4: None, 5: None}"
      ]
     },
     "execution_count": 23,
     "metadata": {},
     "output_type": "execute_result"
    }
   ],
   "source": [
    "l=[1,2,3,4,5]\n",
    "\n",
    "dict.fromkeys(l)"
   ]
  },
  {
   "cell_type": "code",
   "execution_count": 24,
   "id": "29f9ce0f",
   "metadata": {},
   "outputs": [
    {
     "data": {
      "text/plain": [
       "{1: 10, 2: 10, 3: 10, 4: 10, 5: 10, 6: 10}"
      ]
     },
     "execution_count": 24,
     "metadata": {},
     "output_type": "execute_result"
    }
   ],
   "source": [
    "{}.fromkeys(range(1,7),10)"
   ]
  },
  {
   "cell_type": "code",
   "execution_count": 25,
   "id": "5ae771a4",
   "metadata": {},
   "outputs": [
    {
     "name": "stdout",
     "output_type": "stream",
     "text": [
      "5\n",
      "dict_keys(['5'])\n",
      "('Pooja',)\n"
     ]
    }
   ],
   "source": [
    "#input as paragraph\n",
    "s=input()\n",
    "l=s.split(\" \")\n",
    "t=set(l)\n",
    "d={}.fromkeys(t,\"Pooja\")\n",
    "l=d.keys()\n",
    "# l=[i for i in d.keys()]\n",
    "print(l)\n",
    "l1=tuple(d.values())\n",
    "# l1=[d[i] for i in d.keys()]\n",
    "print(l1)"
   ]
  },
  {
   "cell_type": "markdown",
   "id": "af5f9b84",
   "metadata": {},
   "source": [
    "So, you know the basics of individual instructions and that a program is just a series of instructions. But programming’s real strength isn’t just running one instruction after another like a weekend errand list. Based on how expressions evaluate, a program can decide to skip instructions, repeat them, or choose one of several instructions to run. In fact, you almost never want your programs to start from the first line of code and simply execute every line, straight to the end. Flow control statements can decide which Python instructions to execute under which conditions.\n",
    "\n",
    "These flow control statements directly correspond to the symbols in a flowchart, so I’ll provide flowchart versions of the code discussed in this chapter. Figure 2-1 shows a flowchart for what to do if it’s raining. Follow the path made by the arrows from Start to End."
   ]
  },
  {
   "cell_type": "code",
   "execution_count": 26,
   "id": "29792db1",
   "metadata": {},
   "outputs": [
    {
     "name": "stdout",
     "output_type": "stream",
     "text": [
      "try to do somethiong\n"
     ]
    }
   ],
   "source": [
    "a=10\n",
    "if a<11 :\n",
    "    print(\"try to do somethiong\")"
   ]
  },
  {
   "cell_type": "code",
   "execution_count": 27,
   "id": "6f0a489b",
   "metadata": {},
   "outputs": [
    {
     "name": "stdout",
     "output_type": "stream",
     "text": [
      "try to do somethiong\n"
     ]
    }
   ],
   "source": [
    "a=10\n",
    "if a==10 and a==10 :\n",
    "    print(\"try to do somethiong\")"
   ]
  },
  {
   "cell_type": "code",
   "execution_count": 28,
   "id": "dd3824bd",
   "metadata": {},
   "outputs": [],
   "source": [
    "a=\"pooja\"\n",
    "if a==\"pooja\" and a==\"Pooja\":\n",
    "    print(\"this is pooja\")\n"
   ]
  },
  {
   "cell_type": "code",
   "execution_count": 29,
   "id": "6e703b40",
   "metadata": {},
   "outputs": [
    {
     "name": "stdout",
     "output_type": "stream",
     "text": [
      "this is pooja\n"
     ]
    }
   ],
   "source": [
    "a=\"pooja\"\n",
    "if a==\"pooja\" or a==\"Pooja\":\n",
    "    print(\"this is pooja\")"
   ]
  },
  {
   "cell_type": "code",
   "execution_count": 30,
   "id": "1b5db0dc",
   "metadata": {},
   "outputs": [],
   "source": [
    "a=10\n",
    "b=11\n",
    "c=12\n",
    "d=13\n",
    "if a==9 and b==11 and c==12 and d==13:\n",
    "    print(\"try to do somethiong\")"
   ]
  },
  {
   "cell_type": "code",
   "execution_count": 31,
   "id": "3d49f22a",
   "metadata": {},
   "outputs": [
    {
     "name": "stdout",
     "output_type": "stream",
     "text": [
      "try to do somethiong\n"
     ]
    }
   ],
   "source": [
    "if a==9 or b==11 and c==12 and d==13:\n",
    "    print(\"try to do somethiong\")"
   ]
  },
  {
   "cell_type": "code",
   "execution_count": 32,
   "id": "98da9e7b",
   "metadata": {},
   "outputs": [],
   "source": [
    "d={\"key1\":\"value\",\"key2\":\"pooja\",\"key3\":\"iNeuron\"}"
   ]
  },
  {
   "cell_type": "code",
   "execution_count": 33,
   "id": "f723e1ea",
   "metadata": {},
   "outputs": [
    {
     "name": "stdout",
     "output_type": "stream",
     "text": [
      "All the value are not  verified\n"
     ]
    }
   ],
   "source": [
    "if d[\"key1\"]==\"value\" and d[\"key2\"]==\"Pooja\" and d[\"key3\"]==\"iNeuron\":\n",
    "    print(\"all the value are verified\")\n",
    "    print(d.values())\n",
    "else: \n",
    "    print(\"All the value are not  verified\")"
   ]
  },
  {
   "cell_type": "code",
   "execution_count": 34,
   "id": "fb4c1aa5",
   "metadata": {},
   "outputs": [
    {
     "data": {
      "text/plain": [
       "'value'"
      ]
     },
     "execution_count": 34,
     "metadata": {},
     "output_type": "execute_result"
    }
   ],
   "source": [
    "d[\"key1\"]"
   ]
  },
  {
   "cell_type": "code",
   "execution_count": 35,
   "id": "403c1077",
   "metadata": {},
   "outputs": [],
   "source": [
    "l=[1,2,3,4,\"pooja\",5.45,True]"
   ]
  },
  {
   "cell_type": "code",
   "execution_count": 36,
   "id": "db80c198",
   "metadata": {},
   "outputs": [
    {
     "data": {
      "text/plain": [
       "[4, 'pooja']"
      ]
     },
     "execution_count": 36,
     "metadata": {},
     "output_type": "execute_result"
    }
   ],
   "source": [
    "l[3:5]"
   ]
  },
  {
   "cell_type": "code",
   "execution_count": 37,
   "id": "5e40fa0e",
   "metadata": {},
   "outputs": [
    {
     "name": "stdout",
     "output_type": "stream",
     "text": [
      "1\n",
      "2\n",
      "3\n",
      "4\n",
      "pooja\n",
      "5.45\n",
      "True\n"
     ]
    }
   ],
   "source": [
    "for i in l:\n",
    "    print(i)"
   ]
  },
  {
   "cell_type": "code",
   "execution_count": 38,
   "id": "a2670cb9",
   "metadata": {},
   "outputs": [
    {
     "name": "stdout",
     "output_type": "stream",
     "text": [
      "2\n",
      "3\n",
      "4\n",
      "5\n"
     ]
    },
    {
     "ename": "TypeError",
     "evalue": "can only concatenate str (not \"int\") to str",
     "output_type": "error",
     "traceback": [
      "\u001b[1;31m---------------------------------------------------------------------------\u001b[0m",
      "\u001b[1;31mTypeError\u001b[0m                                 Traceback (most recent call last)",
      "\u001b[1;32m~\\AppData\\Local\\Temp/ipykernel_5148/949430040.py\u001b[0m in \u001b[0;36m<module>\u001b[1;34m\u001b[0m\n\u001b[0;32m      1\u001b[0m \u001b[1;32mfor\u001b[0m \u001b[0mi\u001b[0m \u001b[1;32min\u001b[0m \u001b[0ml\u001b[0m\u001b[1;33m:\u001b[0m\u001b[1;33m\u001b[0m\u001b[1;33m\u001b[0m\u001b[0m\n\u001b[1;32m----> 2\u001b[1;33m     \u001b[0mprint\u001b[0m\u001b[1;33m(\u001b[0m\u001b[0mi\u001b[0m\u001b[1;33m+\u001b[0m\u001b[1;36m1\u001b[0m\u001b[1;33m)\u001b[0m\u001b[1;33m\u001b[0m\u001b[1;33m\u001b[0m\u001b[0m\n\u001b[0m",
      "\u001b[1;31mTypeError\u001b[0m: can only concatenate str (not \"int\") to str"
     ]
    }
   ],
   "source": [
    "for i in l:\n",
    "    print(i+1)"
   ]
  },
  {
   "cell_type": "code",
   "execution_count": 39,
   "id": "eeec7e75",
   "metadata": {},
   "outputs": [
    {
     "name": "stdout",
     "output_type": "stream",
     "text": [
      "2\n",
      "3\n",
      "4\n",
      "5\n",
      "pooja1\n",
      "6.45\n",
      "2\n"
     ]
    }
   ],
   "source": [
    "l=[1,2,3,4,\"pooja\",5.45,True]\n",
    "for i in l:\n",
    "    if type(i)!= str:\n",
    "        print(i+1)\n",
    "    elif type(i)== str:\n",
    "        print(i+str(1))"
   ]
  },
  {
   "cell_type": "code",
   "execution_count": 40,
   "id": "8b266161",
   "metadata": {},
   "outputs": [
    {
     "name": "stdout",
     "output_type": "stream",
     "text": [
      "2\n",
      "3\n",
      "4\n",
      "5\n",
      "pooja1\n",
      "6.45\n",
      "2\n"
     ]
    }
   ],
   "source": [
    "for i in l:\n",
    "    if type(i)== int or type(i)==float or type(i)== bool:\n",
    "        print(i+1)\n",
    "    elif type(i)== str:\n",
    "        print(i+str(1))"
   ]
  },
  {
   "cell_type": "code",
   "execution_count": 41,
   "id": "22278bea",
   "metadata": {},
   "outputs": [],
   "source": [
    "l1=[i for i in l if type(i)==int]"
   ]
  },
  {
   "cell_type": "code",
   "execution_count": 42,
   "id": "befc3f11",
   "metadata": {},
   "outputs": [
    {
     "data": {
      "text/plain": [
       "[1, 2, 3, 4]"
      ]
     },
     "execution_count": 42,
     "metadata": {},
     "output_type": "execute_result"
    }
   ],
   "source": [
    "l1"
   ]
  },
  {
   "cell_type": "code",
   "execution_count": 43,
   "id": "4e13ce8e",
   "metadata": {},
   "outputs": [
    {
     "name": "stdout",
     "output_type": "stream",
     "text": [
      "{0: 0, 3: 9, 6: 36, 9: 81}\n",
      "<class 'dict'>\n"
     ]
    }
   ],
   "source": [
    "d={i:i*i for i in range(0,10,3)}\n",
    "print(d)\n",
    "print(type(d))"
   ]
  },
  {
   "cell_type": "code",
   "execution_count": 44,
   "id": "4bc9b4d2",
   "metadata": {},
   "outputs": [
    {
     "name": "stdout",
     "output_type": "stream",
     "text": [
      "{0, 9, 3, 6}\n",
      "<class 'set'>\n"
     ]
    }
   ],
   "source": [
    "s={i for i in range(0,10,3)}\n",
    "print(s)\n",
    "print(type(s))"
   ]
  },
  {
   "cell_type": "code",
   "execution_count": 45,
   "id": "b6fefe4e",
   "metadata": {},
   "outputs": [
    {
     "name": "stdout",
     "output_type": "stream",
     "text": [
      "<generator object <genexpr> at 0x000001D579531430>\n",
      "<class 'generator'>\n",
      "(0, 3, 6, 9)\n",
      "<class 'tuple'>\n"
     ]
    }
   ],
   "source": [
    "t=(i for i in range(0,10,3))\n",
    "print(t)\n",
    "print(type(t))\n",
    "t=tuple(t)\n",
    "print(t)\n",
    "print(type(t))"
   ]
  },
  {
   "cell_type": "code",
   "execution_count": 46,
   "id": "c43b9f4c",
   "metadata": {},
   "outputs": [
    {
     "data": {
      "text/plain": [
       "{1: 'a', 2: 'b', 3: 'k'}"
      ]
     },
     "execution_count": 46,
     "metadata": {},
     "output_type": "execute_result"
    }
   ],
   "source": [
    "{i:j for i, j in {1: 'a', 2: 'b',3:\"k\"}.items()}"
   ]
  },
  {
   "cell_type": "code",
   "execution_count": 47,
   "id": "f01603f0",
   "metadata": {},
   "outputs": [
    {
     "name": "stdout",
     "output_type": "stream",
     "text": [
      "(<generator object <genexpr> at 0x000001D579531A50>,)\n",
      "<class 'tuple'>\n"
     ]
    }
   ],
   "source": [
    "t1=(i for i in range(0,10,3)),\n",
    "print(t1)\n",
    "print(type(t1))"
   ]
  },
  {
   "cell_type": "code",
   "execution_count": 48,
   "id": "eb23e395",
   "metadata": {},
   "outputs": [
    {
     "name": "stdout",
     "output_type": "stream",
     "text": [
      "Type exit to exit.\n",
      "\n",
      "You typed .\n",
      "Type exit to exit.\n",
      "\n",
      "You typed .\n",
      "Type exit to exit.\n",
      "\n",
      "\n",
      "You typed .\n",
      "Type exit to exit.\n",
      "You typed .\n",
      "Type exit to exit.\n",
      "\n",
      "You typed .\n",
      "Type exit to exit.\n",
      "exit\n"
     ]
    },
    {
     "ename": "SystemExit",
     "evalue": "",
     "output_type": "error",
     "traceback": [
      "An exception has occurred, use %tb to see the full traceback.\n",
      "\u001b[1;31mSystemExit\u001b[0m\n"
     ]
    },
    {
     "name": "stderr",
     "output_type": "stream",
     "text": [
      "C:\\ProgramData\\Anaconda3\\lib\\site-packages\\IPython\\core\\interactiveshell.py:3452: UserWarning: To exit: use 'exit', 'quit', or Ctrl-D.\n",
      "  warn(\"To exit: use 'exit', 'quit', or Ctrl-D.\", stacklevel=1)\n"
     ]
    }
   ],
   "source": [
    "import sys\n",
    "\n",
    "while True:\n",
    "    print('Type exit to exit.')\n",
    "    response = input()\n",
    "    if response == 'exit':\n",
    "        sys.exit()\n",
    "    print('You typed ' + response + '.')"
   ]
  },
  {
   "cell_type": "code",
   "execution_count": null,
   "id": "380864a1",
   "metadata": {},
   "outputs": [],
   "source": [
    "# This is a guess the number game.\n",
    "import random\n",
    "secretNumber = random.randint(1, 20)\n",
    "print('I am thinking of a number between 1 and 20.')\n",
    "\n",
    "# Ask the player to guess 6 times.\n",
    "for guessesTaken in range(1, 7):\n",
    "    print('Take a guess.')\n",
    "    guess = int(input())\n",
    "\n",
    "    if guess < secretNumber:\n",
    "        print('Your guess is too low.')\n",
    "    elif guess > secretNumber:\n",
    "        print('Your guess is too high.')\n",
    "    else:\n",
    "        break    # This condition is the correct guess!\n",
    "\n",
    "if guess == secretNumber:\n",
    "    print('Good job! You guessed my number in ' + str(guessesTaken) +  ' guesses!')\n",
    "else:\n",
    "    print('Nope. The number I was thinking of was ' + str(secretNumber))"
   ]
  },
  {
   "cell_type": "code",
   "execution_count": null,
   "id": "3b348465",
   "metadata": {},
   "outputs": [],
   "source": [
    "import random, sys\n",
    "\n",
    "print('ROCK, PAPER, SCISSORS')\n",
    "\n",
    "# These variables keep track of the number of wins, losses, and ties.\n",
    "wins = 0\n",
    "losses = 0\n",
    "ties = 0\n",
    "\n",
    "while True: # The main game loop.\n",
    "    print('%s Wins, %s Losses, %s Ties' % (wins, losses, ties))\n",
    "    while True: # The player input loop.\n",
    "        print('Enter your move: (r)ock (p)aper (s)cissors or (q)uit')\n",
    "        playerMove = input()\n",
    "        if playerMove == 'q':\n",
    "            sys.exit() # Quit the program.\n",
    "        if playerMove == 'r' or playerMove == 'p' or playerMove == 's':\n",
    "            break # Break out of the player input loop.\n",
    "        print('Type one of r, p, s, or q.')\n",
    "\n",
    "    # Display what the player chose:\n",
    "    if playerMove == 'r':\n",
    "        print('ROCK versus...')\n",
    "    elif playerMove == 'p':\n",
    "        print('PAPER versus...')\n",
    "    elif playerMove == 's':\n",
    "        print('SCISSORS versus...')\n",
    "\n",
    "    # Display what the computer chose:\n",
    "    randomNumber = random.randint(1, 3)\n",
    "    if randomNumber == 1:\n",
    "        computerMove = 'r'\n",
    "        print('ROCK')\n",
    "    elif randomNumber == 2:\n",
    "        computerMove = 'p'\n",
    "        print('PAPER')\n",
    "    elif randomNumber == 3:\n",
    "        computerMove = 's'\n",
    "        print('SCISSORS')\n",
    "\n",
    "    # Display and record the win/loss/tie:\n",
    "    if playerMove == computerMove:\n",
    "        print('It is a tie!')\n",
    "        ties = ties + 1\n",
    "    elif playerMove == 'r' and computerMove == 's':\n",
    "        print('You win!')\n",
    "        wins = wins + 1\n",
    "    elif playerMove == 'p' and computerMove == 'r':\n",
    "        print('You win!')\n",
    "        wins = wins + 1\n",
    "    elif playerMove == 's' and computerMove == 'p':\n",
    "        print('You win!')\n",
    "        wins = wins + 1\n",
    "        \n",
    "        \n",
    "    elif playerMove == 'r' and computerMove == 'p':\n",
    "        print('You lose!')\n",
    "        losses = losses + 1\n",
    "    elif playerMove == 'p' and computerMove == 's':\n",
    "        print('You lose!')\n",
    "        losses = losses + 1\n",
    "    elif playerMove == 's' and computerMove == 'r':\n",
    "        print('You lose!')\n",
    "        losses = losses + 1\n",
    "\n"
   ]
  },
  {
   "cell_type": "code",
   "execution_count": null,
   "id": "169d21e1",
   "metadata": {},
   "outputs": [],
   "source": [
    "l=[1,2,3,4,\"sudh\",\"kumar\",45.65]\n"
   ]
  },
  {
   "cell_type": "code",
   "execution_count": null,
   "id": "f63a3cd1",
   "metadata": {},
   "outputs": [],
   "source": [
    "for i in l:\n",
    "    print(i)"
   ]
  },
  {
   "cell_type": "code",
   "execution_count": null,
   "id": "7620a844",
   "metadata": {},
   "outputs": [],
   "source": [
    "for i in l:\n",
    "    print(l)"
   ]
  },
  {
   "cell_type": "code",
   "execution_count": null,
   "id": "4ee356d2",
   "metadata": {},
   "outputs": [],
   "source": [
    "s=\"Pooja\""
   ]
  },
  {
   "cell_type": "code",
   "execution_count": null,
   "id": "9130b6b4",
   "metadata": {},
   "outputs": [],
   "source": [
    "for i in s:\n",
    "    print(i)"
   ]
  },
  {
   "cell_type": "code",
   "execution_count": null,
   "id": "bc745055",
   "metadata": {},
   "outputs": [],
   "source": [
    "for i in s:\n",
    "    print(s)"
   ]
  },
  {
   "cell_type": "code",
   "execution_count": null,
   "id": "6f61859a",
   "metadata": {},
   "outputs": [],
   "source": [
    "for i in l:\n",
    "    print(i)\n",
    "else:\n",
    "    print(\"If for loop is going to complete itself than it will execute else\")"
   ]
  },
  {
   "cell_type": "code",
   "execution_count": null,
   "id": "6c60aed5",
   "metadata": {},
   "outputs": [],
   "source": [
    "l"
   ]
  },
  {
   "cell_type": "code",
   "execution_count": null,
   "id": "642f9474",
   "metadata": {},
   "outputs": [],
   "source": [
    "for i in l:\n",
    "    if i==4:\n",
    "        break\n",
    "\n",
    "    print(i)\n",
    "else:\n",
    "    print(\"This will execute only if for is going to complete itself\")"
   ]
  },
  {
   "cell_type": "code",
   "execution_count": null,
   "id": "4c0c47b2",
   "metadata": {},
   "outputs": [],
   "source": [
    "s=\"pooja\"\n",
    "for i  in s:\n",
    "    if i==\"j\":\n",
    "        break\n",
    "    print(i)\n",
    "else:\n",
    "    print(\"Print string\",s)"
   ]
  },
  {
   "cell_type": "code",
   "execution_count": null,
   "id": "f15083cd",
   "metadata": {},
   "outputs": [],
   "source": [
    "s=\"pooja\"\n",
    "for i  in s:\n",
    "    if i==\"n\":\n",
    "        break\n",
    "    print(i,end=\" \")\n",
    "else:\n",
    "    print(\"Print string\",s)"
   ]
  },
  {
   "cell_type": "code",
   "execution_count": null,
   "id": "e1661153",
   "metadata": {},
   "outputs": [],
   "source": [
    "t=(4,8,9,6,7,5,\"pooja\")"
   ]
  },
  {
   "cell_type": "code",
   "execution_count": null,
   "id": "f5d34ae1",
   "metadata": {},
   "outputs": [],
   "source": [
    "for i in t:\n",
    "    print(i,end=\" \")"
   ]
  },
  {
   "cell_type": "code",
   "execution_count": null,
   "id": "6eb42289",
   "metadata": {},
   "outputs": [],
   "source": [
    "s={1,2,3,4,5,7,7,7,5,5,6,6,8,4,3,2,\"pooja\"}\n",
    "for i in s:\n",
    "    print(i,end=\" \")"
   ]
  },
  {
   "cell_type": "code",
   "execution_count": null,
   "id": "fa4f3f0d",
   "metadata": {},
   "outputs": [],
   "source": [
    "d={\"key1\":\"pooja\",\"contact\":\"abc@gmail.com\",\"position\":\"xyz\"}"
   ]
  },
  {
   "cell_type": "code",
   "execution_count": null,
   "id": "b14038ef",
   "metadata": {},
   "outputs": [],
   "source": [
    "for i in d:\n",
    "    print(i)"
   ]
  },
  {
   "cell_type": "code",
   "execution_count": null,
   "id": "6993f44f",
   "metadata": {},
   "outputs": [],
   "source": [
    "for i in d:\n",
    "    print(d[i])"
   ]
  },
  {
   "cell_type": "code",
   "execution_count": null,
   "id": "d9526cf2",
   "metadata": {},
   "outputs": [],
   "source": [
    "d.values()"
   ]
  },
  {
   "cell_type": "code",
   "execution_count": null,
   "id": "149d888a",
   "metadata": {},
   "outputs": [],
   "source": [
    "for i in d:\n",
    "    print(i,\":\",d[i])"
   ]
  },
  {
   "cell_type": "code",
   "execution_count": null,
   "id": "30ee9f28",
   "metadata": {},
   "outputs": [],
   "source": [
    "for i in d:\n",
    "    print(d.values())"
   ]
  },
  {
   "cell_type": "code",
   "execution_count": null,
   "id": "0c83df23",
   "metadata": {},
   "outputs": [],
   "source": [
    "n=4\n",
    "for i in range(n):\n",
    "    for j in range(i+1):\n",
    "        print(\"sudh\",end=\" \")\n",
    "    print()   "
   ]
  },
  {
   "cell_type": "code",
   "execution_count": null,
   "id": "ba43308e",
   "metadata": {},
   "outputs": [],
   "source": [
    "p=range(9)\n",
    "p"
   ]
  },
  {
   "cell_type": "code",
   "execution_count": null,
   "id": "8594694a",
   "metadata": {},
   "outputs": [],
   "source": [
    "print(type(p))"
   ]
  },
  {
   "cell_type": "code",
   "execution_count": null,
   "id": "cbe97f9c",
   "metadata": {},
   "outputs": [],
   "source": [
    "list(p)"
   ]
  },
  {
   "cell_type": "code",
   "execution_count": null,
   "id": "46447bda",
   "metadata": {},
   "outputs": [],
   "source": [
    "n=4\n",
    "for i in range(n):\n",
    "    for j in range(i,n-1):\n",
    "        print(\" \" * len(\"sudh\"),end=\" \")\n",
    "    for j in range(i+1):\n",
    "        print(\"sudh\",end=\" \")\n",
    "    print() "
   ]
  },
  {
   "cell_type": "code",
   "execution_count": null,
   "id": "a2286903",
   "metadata": {},
   "outputs": [],
   "source": [
    "list(range(0,9,-1))"
   ]
  },
  {
   "cell_type": "code",
   "execution_count": null,
   "id": "f4df39c3",
   "metadata": {},
   "outputs": [],
   "source": [
    "n=3\n",
    "for i in range(n):\n",
    "    for j in range(i,n-1):\n",
    "        print(\" \" * len(\"sudh\"),end=\" \")\n",
    "    for j in range(i+1):\n",
    "        print(\"sudh\",end=\" \" )\n",
    "    for j in range(i): \n",
    "        print(\"sudh\",end=\" \")\n",
    "    print()"
   ]
  },
  {
   "cell_type": "code",
   "execution_count": null,
   "id": "80db31f6",
   "metadata": {},
   "outputs": [],
   "source": [
    "n=3\n",
    "for i in range(n):\n",
    "    for j in range(i,n-1):\n",
    "        print(\" \" * len(\"sudh\"),end=\" \"*len(\"sudh\"))\n",
    "    for j in range(i+1):\n",
    "        print(\"sudh\",end=\" \"*len(\"sudh\") )\n",
    "    print()    "
   ]
  },
  {
   "cell_type": "code",
   "execution_count": null,
   "id": "04f38ca3",
   "metadata": {},
   "outputs": [],
   "source": [
    "n = 3\n",
    "for i in range(n):\n",
    "    for j in range(n-i+1): \n",
    "        print(\" \" * len(\"sudh\"),end=\"\")\n",
    "    for j in range(i+1):\n",
    "        print(\"sudh\", end=\" \"* len(\"sudh\"))\n",
    "    print()"
   ]
  },
  {
   "cell_type": "code",
   "execution_count": null,
   "id": "023c42d1",
   "metadata": {},
   "outputs": [],
   "source": [
    "list(range(3-0+1))"
   ]
  },
  {
   "cell_type": "code",
   "execution_count": null,
   "id": "747f9459",
   "metadata": {},
   "outputs": [],
   "source": [
    "t=(3,23,45,89,8,96)\n",
    "print(tuple(enumerate(t)))"
   ]
  },
  {
   "cell_type": "code",
   "execution_count": null,
   "id": "3a810fad",
   "metadata": {},
   "outputs": [],
   "source": []
  },
  {
   "cell_type": "code",
   "execution_count": null,
   "id": "bdae8617",
   "metadata": {},
   "outputs": [],
   "source": [
    "for i in range(len(t)):\n",
    "    print(i,t[i])"
   ]
  },
  {
   "cell_type": "code",
   "execution_count": null,
   "id": "e7584a5d",
   "metadata": {},
   "outputs": [],
   "source": [
    "s=\"Ineuron\"\n",
    "for i in range(len(s)):\n",
    "    print(len(s)-i-1,s[len(s)-i-1])"
   ]
  },
  {
   "cell_type": "code",
   "execution_count": null,
   "id": "e9804ba6",
   "metadata": {},
   "outputs": [],
   "source": [
    "s=\"Ineuron\"\n",
    "for i in range(len(s)-1,-1,-1):\n",
    "    print(i,s[i])"
   ]
  },
  {
   "cell_type": "code",
   "execution_count": null,
   "id": "177a3da0",
   "metadata": {},
   "outputs": [],
   "source": [
    "len(s)"
   ]
  },
  {
   "cell_type": "code",
   "execution_count": null,
   "id": "9639ac3b",
   "metadata": {},
   "outputs": [],
   "source": [
    "d"
   ]
  },
  {
   "cell_type": "code",
   "execution_count": null,
   "id": "4b5fdae4",
   "metadata": {},
   "outputs": [],
   "source": [
    "tuple(d.items())"
   ]
  },
  {
   "cell_type": "code",
   "execution_count": null,
   "id": "12e9afe1",
   "metadata": {},
   "outputs": [],
   "source": [
    "for i in d.items():\n",
    "    print(i,type(i), type(i[1]))"
   ]
  },
  {
   "cell_type": "code",
   "execution_count": null,
   "id": "5dfc4d62",
   "metadata": {},
   "outputs": [],
   "source": []
  },
  {
   "cell_type": "code",
   "execution_count": null,
   "id": "ecddbc1b",
   "metadata": {},
   "outputs": [],
   "source": [
    "l=[\"Sudh\",\"kumar\",4878632,\"abc@gmail.com\",354,786952]\n",
    "lst=[]\n",
    "for i in l:\n",
    "    if type(i)==int:\n",
    "        lst.append(i)\n",
    "print(lst)        \n",
    "    "
   ]
  },
  {
   "cell_type": "code",
   "execution_count": null,
   "id": "465b2ad7",
   "metadata": {},
   "outputs": [],
   "source": [
    "lt=[i for i in l if type(i)==int ]\n",
    "print(lt)"
   ]
  },
  {
   "cell_type": "code",
   "execution_count": null,
   "id": "76cead13",
   "metadata": {},
   "outputs": [],
   "source": [
    "d={1:48866,\"name\":\"sudh\",\"email_id\":\"abc@gmail.com\",556:\"drtt\",\"44\":\"ffgg\",5555:\"755\"}\n",
    "\n",
    "\n",
    "for i in d:\n",
    "    if type(i)== int:\n",
    "        print(i ,\":\", d[i])"
   ]
  },
  {
   "cell_type": "code",
   "execution_count": null,
   "id": "d358bdbb",
   "metadata": {},
   "outputs": [],
   "source": [
    "s=\"aaaabbbccd\""
   ]
  },
  {
   "cell_type": "code",
   "execution_count": null,
   "id": "08ec2d31",
   "metadata": {},
   "outputs": [],
   "source": [
    "\n",
    "s1=set(s)\n",
    "print(s1)\n",
    "for i in s1:\n",
    "    print(i,s.count(i))"
   ]
  },
  {
   "cell_type": "code",
   "execution_count": null,
   "id": "2cf48a5a",
   "metadata": {},
   "outputs": [],
   "source": [
    "l"
   ]
  },
  {
   "cell_type": "code",
   "execution_count": null,
   "id": "98186513",
   "metadata": {},
   "outputs": [],
   "source": [
    "for i in set(s):\n",
    "    print(i,\":\",s.count(i))"
   ]
  },
  {
   "cell_type": "code",
   "execution_count": null,
   "id": "3dca4c87",
   "metadata": {},
   "outputs": [],
   "source": [
    "i=244555554\n"
   ]
  },
  {
   "cell_type": "code",
   "execution_count": null,
   "id": "b0573f05",
   "metadata": {},
   "outputs": [],
   "source": [
    "num=str(i)\n",
    "for i in num:\n",
    "    print(i)"
   ]
  },
  {
   "cell_type": "code",
   "execution_count": null,
   "id": "0e7eada5",
   "metadata": {},
   "outputs": [],
   "source": [
    "for num in str(i):\n",
    "    print(int(num),type(int(num)))"
   ]
  },
  {
   "cell_type": "code",
   "execution_count": null,
   "id": "935f064b",
   "metadata": {},
   "outputs": [],
   "source": [
    "t=(\"pooja\",\"das\",[1,2,3,4],(4,5,3,60),{3:3,\"key2\":3})"
   ]
  },
  {
   "cell_type": "code",
   "execution_count": null,
   "id": "02ee5b73",
   "metadata": {},
   "outputs": [],
   "source": [
    "for i in t:\n",
    "    for j in i:\n",
    "        if type(j)==int :\n",
    "            if j==3:\n",
    "                print(j)\n",
    "    if type(i)==dict:\n",
    "        for k in i:\n",
    "            if k==3 or i[k]==3:\n",
    "                print(k)\n",
    "                print(i[k])            "
   ]
  },
  {
   "cell_type": "code",
   "execution_count": null,
   "id": "d39d5e9b",
   "metadata": {},
   "outputs": [],
   "source": [
    "for i in t:\n",
    "    if type(i)==list or type(i)==tuple:\n",
    "        for j in i:\n",
    "            if j==3:\n",
    "                print(j)\n",
    "    if type(i)==dict:\n",
    "        for k in i:\n",
    "            if k==3 or i[k]==3:\n",
    "                print(k)\n",
    "                print(i[k])"
   ]
  },
  {
   "cell_type": "code",
   "execution_count": null,
   "id": "0d75b87b",
   "metadata": {},
   "outputs": [],
   "source": [
    "d={4:\"jjj\",889:4}"
   ]
  },
  {
   "cell_type": "code",
   "execution_count": null,
   "id": "b847b6a6",
   "metadata": {},
   "outputs": [],
   "source": [
    "for i,v in d.items():\n",
    "    if i==4 or v==4:\n",
    "        print(i)\n",
    "        print(v)"
   ]
  },
  {
   "cell_type": "code",
   "execution_count": null,
   "id": "ca2644bc",
   "metadata": {},
   "outputs": [],
   "source": [
    "Q1 :Print :\n",
    "ineruon\n",
    "ineruon  ineruon \n",
    "ineruon  ineruon  ineruon \n",
    "ineruon  ineruon  ineruon \n",
    "\n",
    "\n",
    "Q2.\n",
    "             ineruon\n",
    "      ineruon       ineruon \n",
    "ineruon      ineruon      ineruon \n",
    "      ineruon       ineruon \n",
    "             ineruon\n",
    "\n",
    "        \n",
    "l=[[1,2,3,4],(2,3,4,5,6),()]        \n",
    "Q3.Try to extract all         "
   ]
  },
  {
   "cell_type": "code",
   "execution_count": null,
   "id": "d81d6ad5",
   "metadata": {},
   "outputs": [],
   "source": [
    "n=4\n",
    "for i in range(n-1):\n",
    "    for j in range(i+1):\n",
    "        print(\"ineruon\",end=\" \")\n",
    "    print()\n",
    "for j in range(n-1):\n",
    "    print(\"ineruon\",end=\" \")    \n",
    "\n",
    "\n"
   ]
  },
  {
   "cell_type": "code",
   "execution_count": null,
   "id": "ba5136a8",
   "metadata": {},
   "outputs": [],
   "source": [
    "n = 4\n",
    "for i in range(n):\n",
    "    for j in range(i,n-1): \n",
    "        print(\" \" * len(\"ineruon\"),end=\"\")\n",
    "    for j in range(i+1):\n",
    "        print(\"ineruon\", end=\" \"* len(\"ineruon\"))\n",
    "    print()\n",
    "for i in range(n):\n",
    "    for j in range(i+1): \n",
    "        print(\" \" * len(\"ineruon\"),end=\"\")\n",
    "    for j in range(i,n-1):\n",
    "        print(\"ineruon\", end=\" \"* len(\"ineruon\"))\n",
    "    print()    \n"
   ]
  },
  {
   "cell_type": "code",
   "execution_count": null,
   "id": "adb272f8",
   "metadata": {},
   "outputs": [],
   "source": [
    "a=1\n",
    "b=10\n",
    "\n",
    "while  a<=b:\n",
    "    print(a)\n",
    "    a+=1"
   ]
  },
  {
   "cell_type": "code",
   "execution_count": null,
   "id": "7170613d",
   "metadata": {},
   "outputs": [],
   "source": [
    "a=1\n",
    "b=10\n",
    "while a<=b:\n",
    "    print(a)\n",
    "    a+=2\n",
    "else:\n",
    "    print(\"Print else block\")"
   ]
  },
  {
   "cell_type": "code",
   "execution_count": null,
   "id": "65a57d11",
   "metadata": {},
   "outputs": [],
   "source": [
    "a"
   ]
  },
  {
   "cell_type": "code",
   "execution_count": null,
   "id": "273a6afa",
   "metadata": {},
   "outputs": [],
   "source": [
    "a=1\n",
    "b=10\n",
    "while a<b:\n",
    "    print(a)\n",
    "    if a==5:\n",
    "        break\n",
    "    a+=1    \n",
    "else:\n",
    "    print(\"Print else block\")"
   ]
  },
  {
   "cell_type": "code",
   "execution_count": null,
   "id": "486abc19",
   "metadata": {},
   "outputs": [],
   "source": [
    "a=1\n",
    "b=10\n",
    "while a<b:\n",
    "    print(a)\n",
    "    if a==3:\n",
    "        continue\n",
    "    a+=1    "
   ]
  },
  {
   "cell_type": "code",
   "execution_count": null,
   "id": "0c0b3d18",
   "metadata": {},
   "outputs": [],
   "source": [
    "a=1\n",
    "b=10\n",
    "while a<b:\n",
    "    a+=1\n",
    "    if a==3:\n",
    "        continue\n",
    "    print(a)\n",
    "        "
   ]
  },
  {
   "cell_type": "code",
   "execution_count": null,
   "id": "6185d5de",
   "metadata": {},
   "outputs": [],
   "source": [
    "a=1\n",
    "b=10\n",
    "while a<b:\n",
    "    print(a)\n",
    "    a+=1\n",
    "    if a==3:\n",
    "        continue\n",
    "    "
   ]
  },
  {
   "cell_type": "code",
   "execution_count": null,
   "id": "b3e6850a",
   "metadata": {},
   "outputs": [],
   "source": [
    "l=[1,2,3,4,65]\n",
    "\n",
    "len(l)"
   ]
  },
  {
   "cell_type": "code",
   "execution_count": null,
   "id": "ebdf7bf0",
   "metadata": {},
   "outputs": [],
   "source": [
    "for i in l:\n",
    "    print(i)"
   ]
  },
  {
   "cell_type": "code",
   "execution_count": null,
   "id": "048dc410",
   "metadata": {},
   "outputs": [],
   "source": [
    "a=0\n",
    "while a<len(l):\n",
    "    print(l[a])\n",
    "    a+=1"
   ]
  },
  {
   "cell_type": "code",
   "execution_count": null,
   "id": "abe0f379",
   "metadata": {},
   "outputs": [],
   "source": [
    "t=(6,7,3,4,5,6,7,8,9,6)"
   ]
  },
  {
   "cell_type": "code",
   "execution_count": null,
   "id": "de098f1f",
   "metadata": {},
   "outputs": [],
   "source": [
    "a=0\n",
    "while a<len(t):\n",
    "    if t[a]==7 or t[a]==6:\n",
    "        print(a,\":\",t[a])\n",
    "    a+=1"
   ]
  },
  {
   "cell_type": "code",
   "execution_count": null,
   "id": "3fe42069",
   "metadata": {},
   "outputs": [],
   "source": [
    "a=-1\n",
    "while a>=-len(t):\n",
    "    if t[a]==7 or t[a]==6:\n",
    "        print(a,\":\",t[a])\n",
    "    a-=1"
   ]
  },
  {
   "cell_type": "code",
   "execution_count": null,
   "id": "3b876a32",
   "metadata": {},
   "outputs": [],
   "source": [
    "t"
   ]
  },
  {
   "cell_type": "code",
   "execution_count": null,
   "id": "9705db2b",
   "metadata": {},
   "outputs": [],
   "source": [
    "a=-1\n",
    "while a>=-len(t):\n",
    "    \n",
    "    print(a,\":\",t[a])\n",
    "    a-=1\n",
    "len(t)"
   ]
  },
  {
   "cell_type": "code",
   "execution_count": null,
   "id": "74a82ea1",
   "metadata": {},
   "outputs": [],
   "source": [
    "a=len(t)-1\n",
    "while a>0:\n",
    "    if t[a]==7 or t[a]==6:\n",
    "        print(a,\":\",t[a])\n",
    "    a-=1"
   ]
  },
  {
   "cell_type": "code",
   "execution_count": null,
   "id": "967e5054",
   "metadata": {},
   "outputs": [],
   "source": [
    "a=len(t)-1\n",
    "while a>=0:\n",
    "   \n",
    "    print(a,\":\",t[a])\n",
    "    a-=1"
   ]
  },
  {
   "cell_type": "code",
   "execution_count": null,
   "id": "77f30811",
   "metadata": {},
   "outputs": [],
   "source": [
    "t"
   ]
  },
  {
   "cell_type": "code",
   "execution_count": null,
   "id": "a57cb39d",
   "metadata": {},
   "outputs": [],
   "source": [
    "d={\"k1\":\"pooja\",\"k2\":[78,9,2,7],\"k3\":(4,8,3)}"
   ]
  },
  {
   "cell_type": "code",
   "execution_count": null,
   "id": "9fd5cd2f",
   "metadata": {},
   "outputs": [],
   "source": [
    "a=0\n",
    "b=list(d.keys())\n",
    "print(b)\n",
    "print()\n",
    "while a<len(d):\n",
    "    print(d[b[a]])\n",
    "    a+=1"
   ]
  },
  {
   "cell_type": "code",
   "execution_count": null,
   "id": "af8b2917",
   "metadata": {},
   "outputs": [],
   "source": [
    "Q1: Try to print this by using while loop.\n",
    "\n",
    "* \n",
    "* * \n",
    "* * * \n",
    "* * * * \n",
    "* * * * * \n",
    "* * * * * * \n",
    "* * * * * * * \n",
    "\n",
    "Q2: Try to print below by using while loop.\n",
    "    \n",
    "    A\n",
    "    B H\n",
    "    C I N\n",
    "    D J O S\n",
    "    E K P T W\n",
    "    F L Q U X Z\n",
    "    G M R V Y\n",
    "\n",
    "Q3:Try to print all the  number divisible by 3 in between  a range of 40 to 400\n",
    "    \n",
    "Q4: Try to filter out all the vowels from  below test by using while loop.\n",
    "    \n",
    "    \n",
    "Q5: Try to generate all the even no, between 1-1000\n",
    "    \n",
    "Q6: Define a function for  all thje above problem statement\n",
    "        \n",
    "Q7: Write a code to get a time of your system\n",
    "    \n",
    "Q8: write a code to fetch date from from your system\n",
    "    \n",
    "Q9 Write a code to send  a mail to your friend.\n",
    "    \n",
    "Q10.Write a code to trigger  alarm for you at scheduled time.\n",
    "     \n",
    "Q11. write a code to check \n",
    "\n",
    "\n",
    "\n",
    "\n",
    "\n",
    "\n",
    "\n",
    "\n",
    "\n",
    "\n",
    "Q14.You have to write afun which will take string ab=nd return \n",
    "        "
   ]
  },
  {
   "cell_type": "code",
   "execution_count": null,
   "id": "3b0a6ee3",
   "metadata": {},
   "outputs": [],
   "source": [
    "n= int(input(\"Enter any value \")) #ask user to input no.\n",
    "print()\n",
    "\n",
    "i=0\n",
    "while i<=n:\n",
    "    j=0\n",
    "    while j<i:\n",
    "        print(\"*\",end=\" \")\n",
    "        j+=1\n",
    "    i+=1    \n",
    "    print()     \n",
    "        \n"
   ]
  },
  {
   "cell_type": "code",
   "execution_count": null,
   "id": "1d391edd",
   "metadata": {},
   "outputs": [],
   "source": [
    "Your First Challenge : \n",
    "    \n",
    "\n",
    "\n",
    "q1 : Try to print this by using while loop \n",
    "* \n",
    "* * \n",
    "* * * \n",
    "* * * * \n",
    "* * * * * \n",
    "* * * * * * \n",
    "* * * * * * * \n",
    "* * * * * * * * \n",
    "* * * * * * * * * \n",
    "\n",
    "q2 : try to print below by using while loop : \n",
    "        \n",
    "A\n",
    "B H \n",
    "C I N\n",
    "D J o S\n",
    "E K p T W\n",
    "F L Q U X z\n",
    "G M R V Y \n",
    "\n",
    "q3 : Try to print all the number divisible by 3 in between a range of 40 - 400\n",
    "    \n",
    "q4 : Try to filter out all the vowels form below text by using while loop : \n",
    " \"\"\"Python is a high-level, interpreted, general-purpose programming language. Its design philosophy emphasizes code readability with the use of significant indentation.[32]\n",
    "\n",
    "Python is dynamically-typed and garbage-collected. It supports multiple programming paradigms, including structured (particularly procedural), object-oriented and functional programming. It is often described as a \"batteries included\" language due to its comprehensive standard library.[33][34]\n",
    "\n",
    "Guido van Rossum began working on Python in the late 1980s as a successor to the ABC programming language and first released it in 1991 as Python 0.9.0.[35] Python 2.0 was released in 2000 and introduced new features such as list comprehensions, cycle-detecting garbage collection, reference counting, and Unicode support. Python 3.0, released in 2008, was a major revision that is not completely backward-compatible with earlier versions. Python 2 was discontinued with version 2.7.18 in 2020.[36]\n",
    "\n",
    "Python consistently ranks as one of the most popular programming languagesc\"\"\" \n",
    "\n",
    "\n",
    "q5 : Try to generate all the even number between 1- 1000\n",
    "\n",
    "q6 : Define a function for all the above problem statememnt  . \n",
    "    \n",
    "q7 : write a code to get a time of your system \n",
    "\n",
    "q8 : Write a code to fetch date form your system \n",
    "\n",
    "q9 : Write a code to send a mail to your friend \n",
    "\n",
    "q10 : write a code to trigger alarm for you at scheduled time \n",
    "\n",
    "q11 : write a code to check ip address of your system \n",
    "\n",
    "q12 : Write a code to check a perticular installation in your system\n",
    "\n",
    "q13 : Write a code to convert any text in to voice \n",
    "\n",
    "q14 : you have to write a fun which will take string and return a len of \n",
    "it without using a inbuilt fun len\n",
    "\n",
    "q15 :write a fun which will be able to print an index of all premitive element which you will pass \n",
    "\n",
    "q16 : Write a fun which will take input as a dict and give me out as a list of all the values \n",
    "even in case of 2 level nesting it should work . \n",
    "\n",
    "q17 : write a function whihc will take multiple list as a input and give me concatnation of all the element as \n",
    "and output\n",
    "\n",
    "q18 : Write a function which will whould return list of all the file name from a directory . \n",
    "\n",
    "q19 : write a function whihc will be able to read a image file and show it to you .\n",
    "    \n",
    "q20 : write a function by which you will be able to append two PDF files . \n",
    "    \n",
    "q21 : write a function which can help you to filter only word file from a directory . \n",
    "    \n",
    "q22 : write a function which can read video file and play for you . \n",
    "    \n",
    "q23 : write a function which will be able to shutdonw your system . \n",
    "\n",
    "q24 : Write a function which will whould return list of all the file name from a directory . \n",
    "\n",
    "q25 : write a function whihc will be able to access your mail . \n",
    "        "
   ]
  }
 ],
 "metadata": {
  "kernelspec": {
   "display_name": "Python 3 (ipykernel)",
   "language": "python",
   "name": "python3"
  },
  "language_info": {
   "codemirror_mode": {
    "name": "ipython",
    "version": 3
   },
   "file_extension": ".py",
   "mimetype": "text/x-python",
   "name": "python",
   "nbconvert_exporter": "python",
   "pygments_lexer": "ipython3",
   "version": "3.9.7"
  }
 },
 "nbformat": 4,
 "nbformat_minor": 5
}
