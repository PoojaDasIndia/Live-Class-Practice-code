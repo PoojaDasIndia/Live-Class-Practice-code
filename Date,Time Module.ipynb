{
 "cells": [
  {
   "cell_type": "markdown",
   "id": "a6f0e8ef",
   "metadata": {},
   "source": [
    "### Python datetime module"
   ]
  },
  {
   "cell_type": "code",
   "execution_count": 1,
   "id": "ec69a956",
   "metadata": {},
   "outputs": [],
   "source": [
    "import datetime"
   ]
  },
  {
   "cell_type": "code",
   "execution_count": 2,
   "id": "5baf52e2",
   "metadata": {},
   "outputs": [
    {
     "name": "stdout",
     "output_type": "stream",
     "text": [
      "['MAXYEAR', 'MINYEAR', 'date', 'datetime', 'datetime_CAPI', 'sys', 'time', 'timedelta', 'timezone', 'tzinfo']\n"
     ]
    }
   ],
   "source": [
    "print([i for i in dir(datetime) if \"__\" not in i])"
   ]
  },
  {
   "cell_type": "code",
   "execution_count": 5,
   "id": "2d6dcb94",
   "metadata": {},
   "outputs": [],
   "source": [
    "currentDateTime=datetime.datetime.now()"
   ]
  },
  {
   "cell_type": "code",
   "execution_count": 4,
   "id": "3d130c44",
   "metadata": {},
   "outputs": [
    {
     "name": "stdout",
     "output_type": "stream",
     "text": [
      "2022-05-27 13:30:46.668708\n"
     ]
    }
   ],
   "source": [
    "print(currentDateTime)"
   ]
  },
  {
   "cell_type": "code",
   "execution_count": 7,
   "id": "f7b31e9c",
   "metadata": {},
   "outputs": [
    {
     "name": "stdout",
     "output_type": "stream",
     "text": [
      "2022\n",
      "5\n",
      "2022-05-27\n",
      "27\n",
      "13\n",
      "0001-01-01 00:00:00\n",
      "4\n"
     ]
    }
   ],
   "source": [
    "print(currentDateTime.year)\n",
    "print(currentDateTime.month)\n",
    "print(currentDateTime.date())\n",
    "print(currentDateTime.day)\n",
    "print(currentDateTime.hour)\n",
    "print(currentDateTime.min)\n",
    "print(currentDateTime.weekday())"
   ]
  },
  {
   "cell_type": "code",
   "execution_count": 10,
   "id": "8314342c",
   "metadata": {},
   "outputs": [
    {
     "name": "stdout",
     "output_type": "stream",
     "text": [
      "13:32:41.952952\n",
      "13\n",
      "0001-01-01 00:00:00\n",
      "41\n",
      "952952\n"
     ]
    }
   ],
   "source": [
    "print(currentDateTime.time())\n",
    "print(currentDateTime.hour)\n",
    "print(currentDateTime.min)\n",
    "print(currentDateTime.second)\n",
    "print(currentDateTime.microsecond)"
   ]
  },
  {
   "cell_type": "code",
   "execution_count": 11,
   "id": "5a114459",
   "metadata": {},
   "outputs": [
    {
     "name": "stdout",
     "output_type": "stream",
     "text": [
      "Fri May 27 13:32:41 2022\n"
     ]
    }
   ],
   "source": [
    "print(currentDateTime.ctime())"
   ]
  },
  {
   "cell_type": "code",
   "execution_count": 12,
   "id": "33182792",
   "metadata": {},
   "outputs": [
    {
     "name": "stdout",
     "output_type": "stream",
     "text": [
      "2022-05-27 13:38:18.922488\n"
     ]
    }
   ],
   "source": [
    "print(currentDateTime.now())"
   ]
  },
  {
   "cell_type": "code",
   "execution_count": 86,
   "id": "e8f2b4a0",
   "metadata": {},
   "outputs": [
    {
     "name": "stdout",
     "output_type": "stream",
     "text": [
      "2022-05-27 14:34:52.695291\n"
     ]
    }
   ],
   "source": [
    "print(currentDateTime.today())"
   ]
  },
  {
   "cell_type": "code",
   "execution_count": 87,
   "id": "442cd09f",
   "metadata": {},
   "outputs": [
    {
     "data": {
      "text/plain": [
       "time.struct_time(tm_year=2022, tm_mon=5, tm_mday=27, tm_hour=13, tm_min=32, tm_sec=41, tm_wday=4, tm_yday=147, tm_isdst=-1)"
      ]
     },
     "execution_count": 87,
     "metadata": {},
     "output_type": "execute_result"
    }
   ],
   "source": [
    "currentDateTime.timetuple()"
   ]
  },
  {
   "cell_type": "code",
   "execution_count": 91,
   "id": "61b0202c",
   "metadata": {},
   "outputs": [
    {
     "name": "stdout",
     "output_type": "stream",
     "text": [
      "2020-12-25\n"
     ]
    }
   ],
   "source": [
    "dt=datetime.date(2020,12,25)\n",
    "print(dt)"
   ]
  },
  {
   "cell_type": "code",
   "execution_count": 92,
   "id": "55e16b40",
   "metadata": {},
   "outputs": [
    {
     "name": "stdout",
     "output_type": "stream",
     "text": [
      "25\n"
     ]
    }
   ],
   "source": [
    "print(dt.day)"
   ]
  },
  {
   "cell_type": "code",
   "execution_count": 93,
   "id": "96cd3158",
   "metadata": {},
   "outputs": [
    {
     "name": "stdout",
     "output_type": "stream",
     "text": [
      "2020\n"
     ]
    }
   ],
   "source": [
    "print(dt.year)"
   ]
  },
  {
   "cell_type": "code",
   "execution_count": 94,
   "id": "edbd16a9",
   "metadata": {},
   "outputs": [
    {
     "name": "stdout",
     "output_type": "stream",
     "text": [
      "12\n"
     ]
    }
   ],
   "source": [
    "print(dt.month)"
   ]
  },
  {
   "cell_type": "code",
   "execution_count": 95,
   "id": "f02933e1",
   "metadata": {},
   "outputs": [
    {
     "name": "stdout",
     "output_type": "stream",
     "text": [
      "4\n"
     ]
    }
   ],
   "source": [
    "print(dt.weekday())"
   ]
  },
  {
   "cell_type": "code",
   "execution_count": 97,
   "id": "febf1af7",
   "metadata": {},
   "outputs": [
    {
     "name": "stdout",
     "output_type": "stream",
     "text": [
      "5\n"
     ]
    }
   ],
   "source": [
    "print(dt.isoweekday())  #1 mnth 7 sunday"
   ]
  },
  {
   "cell_type": "markdown",
   "id": "10f74755",
   "metadata": {},
   "source": [
    "### Handing date and time strings with strptime and strftime()"
   ]
  },
  {
   "cell_type": "code",
   "execution_count": 99,
   "id": "0c36282d",
   "metadata": {},
   "outputs": [],
   "source": [
    "import time"
   ]
  },
  {
   "cell_type": "code",
   "execution_count": 100,
   "id": "f352e439",
   "metadata": {},
   "outputs": [
    {
     "name": "stdout",
     "output_type": "stream",
     "text": [
      "['_STRUCT_TM_ITEMS', '__doc__', '__loader__', '__name__', '__package__', '__spec__', 'altzone', 'asctime', 'ctime', 'daylight', 'get_clock_info', 'gmtime', 'localtime', 'mktime', 'monotonic', 'monotonic_ns', 'perf_counter', 'perf_counter_ns', 'process_time', 'process_time_ns', 'sleep', 'strftime', 'strptime', 'struct_time', 'thread_time', 'thread_time_ns', 'time', 'time_ns', 'timezone', 'tzname']\n"
     ]
    }
   ],
   "source": [
    "print(dir(time))"
   ]
  },
  {
   "cell_type": "code",
   "execution_count": 101,
   "id": "45a30e5d",
   "metadata": {},
   "outputs": [],
   "source": [
    "myDateString=\"2020-12-25\""
   ]
  },
  {
   "cell_type": "code",
   "execution_count": 102,
   "id": "56a0f118",
   "metadata": {},
   "outputs": [
    {
     "data": {
      "text/plain": [
       "str"
      ]
     },
     "execution_count": 102,
     "metadata": {},
     "output_type": "execute_result"
    }
   ],
   "source": [
    "type(myDateString)"
   ]
  },
  {
   "cell_type": "code",
   "execution_count": 104,
   "id": "8a6558a7",
   "metadata": {},
   "outputs": [],
   "source": [
    "dateTimeObject=datetime.datetime.strptime(myDateString,\"%Y-%m-%d\")"
   ]
  },
  {
   "cell_type": "code",
   "execution_count": 105,
   "id": "18dc31f1",
   "metadata": {},
   "outputs": [
    {
     "data": {
      "text/plain": [
       "datetime.datetime(2020, 12, 25, 0, 0)"
      ]
     },
     "execution_count": 105,
     "metadata": {},
     "output_type": "execute_result"
    }
   ],
   "source": [
    "dateTimeObject"
   ]
  },
  {
   "cell_type": "code",
   "execution_count": 106,
   "id": "b5bd6c15",
   "metadata": {},
   "outputs": [
    {
     "name": "stdout",
     "output_type": "stream",
     "text": [
      "2020-12-25 00:00:00\n"
     ]
    }
   ],
   "source": [
    "print(dateTimeObject)"
   ]
  },
  {
   "cell_type": "markdown",
   "id": "aa213272",
   "metadata": {},
   "source": [
    "https://strftime.org"
   ]
  },
  {
   "cell_type": "code",
   "execution_count": 107,
   "id": "1cad58c6",
   "metadata": {},
   "outputs": [],
   "source": [
    "import calendar"
   ]
  },
  {
   "cell_type": "code",
   "execution_count": 111,
   "id": "b48cfd54",
   "metadata": {},
   "outputs": [
    {
     "data": {
      "text/plain": [
       "'Friday'"
      ]
     },
     "execution_count": 111,
     "metadata": {},
     "output_type": "execute_result"
    }
   ],
   "source": [
    "calendar.day_name[dateTimeObject.weekday()]"
   ]
  },
  {
   "cell_type": "code",
   "execution_count": null,
   "id": "0387fce0",
   "metadata": {},
   "outputs": [],
   "source": []
  }
 ],
 "metadata": {
  "kernelspec": {
   "display_name": "Python 3 (ipykernel)",
   "language": "python",
   "name": "python3"
  },
  "language_info": {
   "codemirror_mode": {
    "name": "ipython",
    "version": 3
   },
   "file_extension": ".py",
   "mimetype": "text/x-python",
   "name": "python",
   "nbconvert_exporter": "python",
   "pygments_lexer": "ipython3",
   "version": "3.9.7"
  }
 },
 "nbformat": 4,
 "nbformat_minor": 5
}
