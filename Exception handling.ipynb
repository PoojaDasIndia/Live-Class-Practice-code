{
 "cells": [
  {
   "cell_type": "markdown",
   "id": "670d488a",
   "metadata": {},
   "source": [
    "### Most Common Execeptions in python\n",
    "\n",
    "* Syntax Error\n",
    "* Type Error\n",
    "* Value Error\n",
    "* Name Error\n",
    "* Index Error\n",
    "* Memory Error\n",
    "* Import Error\n",
    "* Key Error\n",
    "* File Not found Error"
   ]
  },
  {
   "cell_type": "code",
   "execution_count": 1,
   "id": "b14782b8",
   "metadata": {},
   "outputs": [
    {
     "ename": "ZeroDivisionError",
     "evalue": "division by zero",
     "output_type": "error",
     "traceback": [
      "\u001b[1;31m---------------------------------------------------------------------------\u001b[0m",
      "\u001b[1;31mZeroDivisionError\u001b[0m                         Traceback (most recent call last)",
      "\u001b[1;32m~\\AppData\\Local\\Temp/ipykernel_11804/2354412189.py\u001b[0m in \u001b[0;36m<module>\u001b[1;34m\u001b[0m\n\u001b[1;32m----> 1\u001b[1;33m \u001b[1;36m1\u001b[0m\u001b[1;33m/\u001b[0m\u001b[1;36m0\u001b[0m\u001b[1;33m\u001b[0m\u001b[1;33m\u001b[0m\u001b[0m\n\u001b[0m",
      "\u001b[1;31mZeroDivisionError\u001b[0m: division by zero"
     ]
    }
   ],
   "source": [
    "1/0"
   ]
  },
  {
   "cell_type": "code",
   "execution_count": 2,
   "id": "e1afdde7",
   "metadata": {},
   "outputs": [
    {
     "ename": "SyntaxError",
     "evalue": "EOL while scanning string literal (Temp/ipykernel_11804/3194601621.py, line 1)",
     "output_type": "error",
     "traceback": [
      "\u001b[1;36m  File \u001b[1;32m\"C:\\Users\\HP\\AppData\\Local\\Temp/ipykernel_11804/3194601621.py\"\u001b[1;36m, line \u001b[1;32m1\u001b[0m\n\u001b[1;33m    print(\"thank you)\u001b[0m\n\u001b[1;37m                     ^\u001b[0m\n\u001b[1;31mSyntaxError\u001b[0m\u001b[1;31m:\u001b[0m EOL while scanning string literal\n"
     ]
    }
   ],
   "source": [
    "print(\"thank you)"
   ]
  },
  {
   "cell_type": "code",
   "execution_count": 3,
   "id": "4309f10d",
   "metadata": {},
   "outputs": [
    {
     "ename": "TypeError",
     "evalue": "unsupported operand type(s) for +: 'int' and 'str'",
     "output_type": "error",
     "traceback": [
      "\u001b[1;31m---------------------------------------------------------------------------\u001b[0m",
      "\u001b[1;31mTypeError\u001b[0m                                 Traceback (most recent call last)",
      "\u001b[1;32m~\\AppData\\Local\\Temp/ipykernel_11804/2417696744.py\u001b[0m in \u001b[0;36m<module>\u001b[1;34m\u001b[0m\n\u001b[0;32m      1\u001b[0m \u001b[0ma\u001b[0m\u001b[1;33m=\u001b[0m\u001b[1;34m\"10\"\u001b[0m\u001b[1;33m\u001b[0m\u001b[1;33m\u001b[0m\u001b[0m\n\u001b[1;32m----> 2\u001b[1;33m \u001b[1;36m5\u001b[0m\u001b[1;33m+\u001b[0m\u001b[0ma\u001b[0m\u001b[1;33m\u001b[0m\u001b[1;33m\u001b[0m\u001b[0m\n\u001b[0m",
      "\u001b[1;31mTypeError\u001b[0m: unsupported operand type(s) for +: 'int' and 'str'"
     ]
    }
   ],
   "source": [
    "a=\"10\"\n",
    "5+a"
   ]
  },
  {
   "cell_type": "code",
   "execution_count": 4,
   "id": "de4bab32",
   "metadata": {},
   "outputs": [
    {
     "ename": "ModuleNotFoundError",
     "evalue": "No module named 'pdf2pdf'",
     "output_type": "error",
     "traceback": [
      "\u001b[1;31m---------------------------------------------------------------------------\u001b[0m",
      "\u001b[1;31mModuleNotFoundError\u001b[0m                       Traceback (most recent call last)",
      "\u001b[1;32m~\\AppData\\Local\\Temp/ipykernel_11804/3773434821.py\u001b[0m in \u001b[0;36m<module>\u001b[1;34m\u001b[0m\n\u001b[1;32m----> 1\u001b[1;33m \u001b[1;32mimport\u001b[0m \u001b[0mpdf2pdf\u001b[0m\u001b[1;33m\u001b[0m\u001b[1;33m\u001b[0m\u001b[0m\n\u001b[0m",
      "\u001b[1;31mModuleNotFoundError\u001b[0m: No module named 'pdf2pdf'"
     ]
    }
   ],
   "source": [
    "import pdf2pdf"
   ]
  },
  {
   "cell_type": "code",
   "execution_count": 5,
   "id": "8ea18a53",
   "metadata": {},
   "outputs": [
    {
     "ename": "ValueError",
     "evalue": "invalid literal for int() with base 10: 'test'",
     "output_type": "error",
     "traceback": [
      "\u001b[1;31m---------------------------------------------------------------------------\u001b[0m",
      "\u001b[1;31mValueError\u001b[0m                                Traceback (most recent call last)",
      "\u001b[1;32m~\\AppData\\Local\\Temp/ipykernel_11804/2473892008.py\u001b[0m in \u001b[0;36m<module>\u001b[1;34m\u001b[0m\n\u001b[0;32m      1\u001b[0m \u001b[0ma\u001b[0m\u001b[1;33m=\u001b[0m\u001b[1;34m\"test\"\u001b[0m\u001b[1;33m\u001b[0m\u001b[1;33m\u001b[0m\u001b[0m\n\u001b[1;32m----> 2\u001b[1;33m \u001b[0mint\u001b[0m\u001b[1;33m(\u001b[0m\u001b[0ma\u001b[0m\u001b[1;33m)\u001b[0m\u001b[1;33m\u001b[0m\u001b[1;33m\u001b[0m\u001b[0m\n\u001b[0m",
      "\u001b[1;31mValueError\u001b[0m: invalid literal for int() with base 10: 'test'"
     ]
    }
   ],
   "source": [
    "a=\"test\"\n",
    "int(a)"
   ]
  },
  {
   "cell_type": "code",
   "execution_count": 6,
   "id": "89126ff7",
   "metadata": {},
   "outputs": [
    {
     "name": "stdout",
     "output_type": "stream",
     "text": [
      "['p', 'y', 't', 'h', 'o', 'n']\n"
     ]
    }
   ],
   "source": [
    "lst=list(\"python\")\n",
    "print(lst)"
   ]
  },
  {
   "cell_type": "code",
   "execution_count": 7,
   "id": "449764ca",
   "metadata": {},
   "outputs": [
    {
     "ename": "IndexError",
     "evalue": "list index out of range",
     "output_type": "error",
     "traceback": [
      "\u001b[1;31m---------------------------------------------------------------------------\u001b[0m",
      "\u001b[1;31mIndexError\u001b[0m                                Traceback (most recent call last)",
      "\u001b[1;32m~\\AppData\\Local\\Temp/ipykernel_11804/1609262209.py\u001b[0m in \u001b[0;36m<module>\u001b[1;34m\u001b[0m\n\u001b[1;32m----> 1\u001b[1;33m \u001b[0mlst\u001b[0m\u001b[1;33m[\u001b[0m\u001b[1;36m7\u001b[0m\u001b[1;33m]\u001b[0m\u001b[1;33m\u001b[0m\u001b[1;33m\u001b[0m\u001b[0m\n\u001b[0m",
      "\u001b[1;31mIndexError\u001b[0m: list index out of range"
     ]
    }
   ],
   "source": [
    "lst[7]"
   ]
  },
  {
   "cell_type": "code",
   "execution_count": 8,
   "id": "6f34a38e",
   "metadata": {},
   "outputs": [],
   "source": [
    "d={1:\"A\",2:\"b\"}"
   ]
  },
  {
   "cell_type": "code",
   "execution_count": 9,
   "id": "c6c57791",
   "metadata": {},
   "outputs": [
    {
     "name": "stdout",
     "output_type": "stream",
     "text": [
      "{1: 'A', 2: 'b'}\n"
     ]
    }
   ],
   "source": [
    "print(d)"
   ]
  },
  {
   "cell_type": "code",
   "execution_count": 10,
   "id": "5658ae63",
   "metadata": {},
   "outputs": [
    {
     "ename": "KeyError",
     "evalue": "'1'",
     "output_type": "error",
     "traceback": [
      "\u001b[1;31m---------------------------------------------------------------------------\u001b[0m",
      "\u001b[1;31mKeyError\u001b[0m                                  Traceback (most recent call last)",
      "\u001b[1;32m~\\AppData\\Local\\Temp/ipykernel_11804/4217548103.py\u001b[0m in \u001b[0;36m<module>\u001b[1;34m\u001b[0m\n\u001b[1;32m----> 1\u001b[1;33m \u001b[0mprint\u001b[0m\u001b[1;33m(\u001b[0m\u001b[0md\u001b[0m\u001b[1;33m[\u001b[0m\u001b[1;34m\"1\"\u001b[0m\u001b[1;33m]\u001b[0m\u001b[1;33m)\u001b[0m\u001b[1;33m\u001b[0m\u001b[1;33m\u001b[0m\u001b[0m\n\u001b[0m",
      "\u001b[1;31mKeyError\u001b[0m: '1'"
     ]
    }
   ],
   "source": [
    "print(d[\"1\"])"
   ]
  },
  {
   "cell_type": "code",
   "execution_count": 11,
   "id": "327174cf",
   "metadata": {},
   "outputs": [
    {
     "ename": "NameError",
     "evalue": "name 'Print' is not defined",
     "output_type": "error",
     "traceback": [
      "\u001b[1;31m---------------------------------------------------------------------------\u001b[0m",
      "\u001b[1;31mNameError\u001b[0m                                 Traceback (most recent call last)",
      "\u001b[1;32m~\\AppData\\Local\\Temp/ipykernel_11804/2346574144.py\u001b[0m in \u001b[0;36m<module>\u001b[1;34m\u001b[0m\n\u001b[1;32m----> 1\u001b[1;33m \u001b[0mPrint\u001b[0m\u001b[1;33m(\u001b[0m\u001b[1;36m4\u001b[0m\u001b[1;33m+\u001b[0m\u001b[1;36m5\u001b[0m\u001b[1;33m)\u001b[0m\u001b[1;33m\u001b[0m\u001b[1;33m\u001b[0m\u001b[0m\n\u001b[0m",
      "\u001b[1;31mNameError\u001b[0m: name 'Print' is not defined"
     ]
    }
   ],
   "source": [
    "Print(4+5)"
   ]
  },
  {
   "cell_type": "code",
   "execution_count": 12,
   "id": "e0855ecb",
   "metadata": {},
   "outputs": [
    {
     "name": "stdout",
     "output_type": "stream",
     "text": [
      "['ArithmeticError', 'AssertionError', 'AttributeError', 'BaseException', 'BlockingIOError', 'BrokenPipeError', 'BufferError', 'BytesWarning', 'ChildProcessError', 'ConnectionAbortedError', 'ConnectionError', 'ConnectionRefusedError', 'ConnectionResetError', 'DeprecationWarning', 'EOFError', 'Ellipsis', 'EnvironmentError', 'Exception', 'False', 'FileExistsError', 'FileNotFoundError', 'FloatingPointError', 'FutureWarning', 'GeneratorExit', 'IOError', 'ImportError', 'ImportWarning', 'IndentationError', 'IndexError', 'InterruptedError', 'IsADirectoryError', 'KeyError', 'KeyboardInterrupt', 'LookupError', 'MemoryError', 'ModuleNotFoundError', 'NameError', 'None', 'NotADirectoryError', 'NotImplemented', 'NotImplementedError', 'OSError', 'OverflowError', 'PendingDeprecationWarning', 'PermissionError', 'ProcessLookupError', 'RecursionError', 'ReferenceError', 'ResourceWarning', 'RuntimeError', 'RuntimeWarning', 'StopAsyncIteration', 'StopIteration', 'SyntaxError', 'SyntaxWarning', 'SystemError', 'SystemExit', 'TabError', 'TimeoutError', 'True', 'TypeError', 'UnboundLocalError', 'UnicodeDecodeError', 'UnicodeEncodeError', 'UnicodeError', 'UnicodeTranslateError', 'UnicodeWarning', 'UserWarning', 'ValueError', 'Warning', 'WindowsError', 'ZeroDivisionError', '__IPYTHON__', '__build_class__', '__debug__', '__doc__', '__import__', '__loader__', '__name__', '__package__', '__spec__', 'abs', 'all', 'any', 'ascii', 'bin', 'bool', 'breakpoint', 'bytearray', 'bytes', 'callable', 'chr', 'classmethod', 'compile', 'complex', 'copyright', 'credits', 'delattr', 'dict', 'dir', 'display', 'divmod', 'enumerate', 'eval', 'exec', 'execfile', 'filter', 'float', 'format', 'frozenset', 'get_ipython', 'getattr', 'globals', 'hasattr', 'hash', 'help', 'hex', 'id', 'input', 'int', 'isinstance', 'issubclass', 'iter', 'len', 'license', 'list', 'locals', 'map', 'max', 'memoryview', 'min', 'next', 'object', 'oct', 'open', 'ord', 'pow', 'print', 'property', 'range', 'repr', 'reversed', 'round', 'runfile', 'set', 'setattr', 'slice', 'sorted', 'staticmethod', 'str', 'sum', 'super', 'tuple', 'type', 'vars', 'zip']\n"
     ]
    }
   ],
   "source": [
    "print(dir(__builtins__))"
   ]
  },
  {
   "cell_type": "code",
   "execution_count": 19,
   "id": "3c5d063a",
   "metadata": {},
   "outputs": [
    {
     "name": "stdout",
     "output_type": "stream",
     "text": [
      "ArithmeticError\n",
      "AssertionError\n",
      "AttributeError\n",
      "BlockingIOError\n",
      "BrokenPipeError\n",
      "BufferError\n",
      "ChildProcessError\n",
      "ConnectionAbortedError\n",
      "ConnectionError\n",
      "ConnectionRefusedError\n",
      "ConnectionResetError\n",
      "EOFError\n",
      "EnvironmentError\n",
      "FileExistsError\n",
      "FileNotFoundError\n",
      "FloatingPointError\n",
      "IOError\n",
      "ImportError\n",
      "IndentationError\n",
      "IndexError\n",
      "InterruptedError\n",
      "IsADirectoryError\n",
      "KeyError\n",
      "LookupError\n",
      "MemoryError\n",
      "ModuleNotFoundError\n",
      "NameError\n",
      "NotADirectoryError\n",
      "NotImplementedError\n",
      "OSError\n",
      "OverflowError\n",
      "PermissionError\n",
      "ProcessLookupError\n",
      "RecursionError\n",
      "ReferenceError\n",
      "RuntimeError\n",
      "SyntaxError\n",
      "SystemError\n",
      "TabError\n",
      "TimeoutError\n",
      "TypeError\n",
      "UnboundLocalError\n",
      "UnicodeDecodeError\n",
      "UnicodeEncodeError\n",
      "UnicodeError\n",
      "UnicodeTranslateError\n",
      "ValueError\n",
      "WindowsError\n",
      "ZeroDivisionError\n",
      "total:  49\n"
     ]
    }
   ],
   "source": [
    "c=0\n",
    "for i in dir(__builtins__):\n",
    "    if i.endswith(\"Error\"):\n",
    "        print (i)\n",
    "        c=c+1\n",
    "print(\"total: \",c)        "
   ]
  },
  {
   "cell_type": "code",
   "execution_count": 22,
   "id": "ddefe144",
   "metadata": {},
   "outputs": [],
   "source": [
    "import sys\n",
    "lst=[10,\"5\",86,\"f\",5.5,0.5]"
   ]
  },
  {
   "cell_type": "code",
   "execution_count": 25,
   "id": "16c6a6ff",
   "metadata": {},
   "outputs": [
    {
     "name": "stdout",
     "output_type": "stream",
     "text": [
      "The entry is 10\n",
      "The entry is 5\n",
      "The entry is 86\n",
      "The entry is f\n",
      "Oops! <class 'ValueError'> occured\n",
      "Next entry\n",
      "****************************************\n",
      "The entry is 5.5\n",
      "The entry is 0.5\n",
      "Oops! <class 'ZeroDivisionError'> occured\n",
      "Next entry\n",
      "****************************************\n",
      "The reciprocal of  0.5 is 0.2\n"
     ]
    }
   ],
   "source": [
    "for entry in lst:\n",
    "    try:\n",
    "        print(\"The entry is\",entry)\n",
    "        r=1/int(entry)\n",
    "    except:\n",
    "        print(\"Oops!\",sys.exc_info()[0],\"occured\")\n",
    "        print(\"Next entry\")\n",
    "        print(\"****************************************\")\n",
    "print(\"The reciprocal of \",entry,\"is\",r)        "
   ]
  },
  {
   "cell_type": "code",
   "execution_count": 29,
   "id": "a5b4127f",
   "metadata": {},
   "outputs": [
    {
     "name": "stdout",
     "output_type": "stream",
     "text": [
      "****************************************\n",
      "The entry is 10 \n",
      "\n",
      "****************************************\n",
      "The entry is 5 \n",
      "\n",
      "****************************************\n",
      "The entry is 86 \n",
      "\n",
      "****************************************\n",
      "The entry is f \n",
      "\n",
      "This is value error\n",
      "\n",
      "****************************************\n",
      "The entry is 5.5 \n",
      "\n",
      "****************************************\n",
      "The entry is 0.5 \n",
      "\n",
      "This is Zero division  error\n",
      "\n",
      "The reciprocal of  0.5 is 0.2\n"
     ]
    }
   ],
   "source": [
    "for entry in lst:\n",
    "    try:\n",
    "        print(\"****************************************\")\n",
    "        print(\"The entry is\",entry,\"\\n\")\n",
    "        r=1/int(entry)\n",
    "    except (ValueError):\n",
    "        print(\"This is value error\\n\")\n",
    "    except(ZeroDivisionError):  \n",
    "        print(\"This is Zero division  error\\n\")\n",
    "    except : \n",
    "        print(\"Something wronge\")    \n",
    "print(\"The reciprocal of \",entry,\"is\",r)  "
   ]
  },
  {
   "cell_type": "markdown",
   "id": "132bb8ee",
   "metadata": {},
   "source": [
    "### Rasining Exception"
   ]
  },
  {
   "cell_type": "code",
   "execution_count": 33,
   "id": "04be0e36",
   "metadata": {},
   "outputs": [
    {
     "ename": "KeyboardInterrupt",
     "evalue": "",
     "output_type": "error",
     "traceback": [
      "\u001b[1;31m---------------------------------------------------------------------------\u001b[0m",
      "\u001b[1;31mKeyboardInterrupt\u001b[0m                         Traceback (most recent call last)",
      "\u001b[1;32m~\\AppData\\Local\\Temp/ipykernel_11804/2006531705.py\u001b[0m in \u001b[0;36m<module>\u001b[1;34m\u001b[0m\n\u001b[1;32m----> 1\u001b[1;33m \u001b[1;32mraise\u001b[0m \u001b[0mKeyboardInterrupt\u001b[0m\u001b[1;33m\u001b[0m\u001b[1;33m\u001b[0m\u001b[0m\n\u001b[0m",
      "\u001b[1;31mKeyboardInterrupt\u001b[0m: "
     ]
    }
   ],
   "source": [
    "raise KeyboardInterrupt"
   ]
  },
  {
   "cell_type": "code",
   "execution_count": 38,
   "id": "696f0dc2",
   "metadata": {},
   "outputs": [
    {
     "name": "stdout",
     "output_type": "stream",
     "text": [
      "Enter a positive No.-5\n",
      "Error: Enter Positive no\n"
     ]
    }
   ],
   "source": [
    "try:\n",
    "    num=int(input(\"Enter a positive No.\"))\n",
    "    if  num<0:\n",
    "        raise ValueError(\"Error: Enter Positive no\")\n",
    "except ValueError as e:\n",
    "    print(e)\n",
    "        \n",
    "            "
   ]
  },
  {
   "cell_type": "raw",
   "id": "e445a9ef",
   "metadata": {},
   "source": [
    "try: this is the block of code to attempted (may lead to an error)\n",
    "\n",
    "except: Block of code will exceute in case there is an  error in try block\n",
    "\n",
    "finally : A finally block of code to be excuted regardless of an error      \n",
    "    "
   ]
  },
  {
   "cell_type": "code",
   "execution_count": 6,
   "id": "90019b68",
   "metadata": {},
   "outputs": [],
   "source": [
    "def enter_num():\n",
    "    while True:\n",
    "        try:\n",
    "            result=int(input(\"Enter a positive No.\"))\n",
    "   \n",
    "        except :\n",
    "            print(\"Opps! this is  not number\")\n",
    "            continue\n",
    "        else:\n",
    "            print(\"yes thank you\")\n",
    "            break\n",
    "        finally:\n",
    "            print(\"End Try/except/ finally\")\n",
    "            print(\"i always run\\n\")\n",
    "        "
   ]
  },
  {
   "cell_type": "code",
   "execution_count": 7,
   "id": "749202c6",
   "metadata": {},
   "outputs": [
    {
     "name": "stdout",
     "output_type": "stream",
     "text": [
      "Enter a positive No.l\n",
      "Opps! this is  not number\n",
      "End Try/except/ finally\n",
      "i always run\n",
      "\n",
      "Enter a positive No.4\n",
      "yes thank you\n",
      "End Try/except/ finally\n",
      "i always run\n",
      "\n"
     ]
    }
   ],
   "source": [
    "enter_num()"
   ]
  },
  {
   "cell_type": "code",
   "execution_count": 8,
   "id": "666edd46",
   "metadata": {},
   "outputs": [],
   "source": [
    "import os ,socket\n",
    "from datetime import  datetime\n"
   ]
  },
  {
   "cell_type": "code",
   "execution_count": 49,
   "id": "b677d871",
   "metadata": {},
   "outputs": [],
   "source": [
    "list_of_error=[]\n",
    "username=[]\n",
    "Time=[]\n",
    "\n",
    "def enterage(age):\n",
    "    if age <0:\n",
    "        \n",
    "\n",
    "        raise ValueError(\"only positivre number\")\n",
    "        \n",
    "    \n",
    "    if age % 2 == 0:\n",
    "        print(\"Age is Even\")\n",
    "    else: \n",
    "        print(\"Age is old\")\n",
    "   "
   ]
  },
  {
   "cell_type": "code",
   "execution_count": 58,
   "id": "9b0fc072",
   "metadata": {},
   "outputs": [
    {
     "name": "stdout",
     "output_type": "stream",
     "text": [
      "Enter age: 5\n",
      "Something wronge \n"
     ]
    }
   ],
   "source": [
    "try:\n",
    "    num=int(input(\"Enter age: \"))\n",
    "    print(num+\"10\")\n",
    "    enterage(num)\n",
    "except ValueError:\n",
    "    print(\"Only Positive........... no.\")\n",
    "    list_of_error.append(ValueError(\"only positive number\"))\n",
    "    username.append(os.getlogin())\n",
    "    Time.append(datetime.now().strftime(\"%D/%m/%y  %H:%M:%S %p|%A\"))\n",
    "except:\n",
    "    print(\"Something wronge \")\n",
    "    list_of_error.append(TypeError(\"Type error\"))\n",
    "    username.append(os.getlogin())\n",
    "    Time.append(datetime.now().strftime(\"%D/%m/%y  %H:%M:%S %p|%A\"))\n",
    "    \n",
    "    \n",
    "hostname=socket.gethostname()\n",
    "ip_address=socket.gethostbyname(hostname)\n",
    "\n",
    "    "
   ]
  },
  {
   "cell_type": "code",
   "execution_count": 59,
   "id": "89f59ffa",
   "metadata": {},
   "outputs": [
    {
     "name": "stdout",
     "output_type": "stream",
     "text": [
      "User Name :  ['HP', 'HP', 'HP'] \n",
      "\n",
      "list of error :  [ValueError('only positive number'), ValueError('only positive number'), TypeError('Type error')] \n",
      "\n",
      "Time :  ['06/06/22/06/22  20:10:31 PM|Monday', '06/06/22/06/22  20:56:54 PM|Monday', '06/06/22/06/22  20:58:01 PM|Monday'] \n",
      "\n",
      "IP-address: 192.168.29.95 \n",
      "\n",
      "Hostname: DESKTOP-SUSRH67 \n",
      "\n"
     ]
    }
   ],
   "source": [
    "print(\"User Name : \",username,\"\\n\")\n",
    "print(\"list of error : \",list_of_error,\"\\n\")\n",
    "print(\"Time : \",Time,\"\\n\")\n",
    "print(\"IP-address:\",ip_address,\"\\n\")  \n",
    "print(\"Hostname:\",hostname,\"\\n\")"
   ]
  },
  {
   "cell_type": "code",
   "execution_count": null,
   "id": "71faaba9",
   "metadata": {},
   "outputs": [],
   "source": []
  }
 ],
 "metadata": {
  "kernelspec": {
   "display_name": "Python 3 (ipykernel)",
   "language": "python",
   "name": "python3"
  },
  "language_info": {
   "codemirror_mode": {
    "name": "ipython",
    "version": 3
   },
   "file_extension": ".py",
   "mimetype": "text/x-python",
   "name": "python",
   "nbconvert_exporter": "python",
   "pygments_lexer": "ipython3",
   "version": "3.9.7"
  }
 },
 "nbformat": 4,
 "nbformat_minor": 5
}
