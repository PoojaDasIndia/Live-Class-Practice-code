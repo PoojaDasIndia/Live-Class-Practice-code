{
 "cells": [
  {
   "cell_type": "code",
   "execution_count": 1,
   "id": "6fbd2487",
   "metadata": {},
   "outputs": [],
   "source": [
    "import os"
   ]
  },
  {
   "cell_type": "code",
   "execution_count": 2,
   "id": "7d3ba1eb",
   "metadata": {},
   "outputs": [],
   "source": [
    "os.mkdir(\"Operating System\")"
   ]
  },
  {
   "cell_type": "code",
   "execution_count": 3,
   "id": "8d20f176",
   "metadata": {},
   "outputs": [
    {
     "data": {
      "text/plain": [
       "'C:\\\\Users\\\\HP\\\\Desktop\\\\Python'"
      ]
     },
     "execution_count": 3,
     "metadata": {},
     "output_type": "execute_result"
    }
   ],
   "source": [
    "pwd"
   ]
  },
  {
   "cell_type": "code",
   "execution_count": 7,
   "id": "9303d328",
   "metadata": {},
   "outputs": [
    {
     "data": {
      "text/plain": [
       "'C:\\\\Users\\\\HP\\\\Desktop\\\\Python'"
      ]
     },
     "execution_count": 7,
     "metadata": {},
     "output_type": "execute_result"
    }
   ],
   "source": [
    "os.getcwd()"
   ]
  },
  {
   "cell_type": "code",
   "execution_count": 8,
   "id": "31abde4e",
   "metadata": {},
   "outputs": [],
   "source": [
    "os.chdir(\"C:\\\\Users\\\\HP\\\\Desktop\\\\Python\\\\Operating System\")"
   ]
  },
  {
   "cell_type": "code",
   "execution_count": 9,
   "id": "02c3ac43",
   "metadata": {},
   "outputs": [
    {
     "data": {
      "text/plain": [
       "'C:\\\\Users\\\\HP\\\\Desktop\\\\Python\\\\Operating System'"
      ]
     },
     "execution_count": 9,
     "metadata": {},
     "output_type": "execute_result"
    }
   ],
   "source": [
    "pwd"
   ]
  },
  {
   "cell_type": "code",
   "execution_count": 16,
   "id": "8d6484dd",
   "metadata": {},
   "outputs": [],
   "source": [
    "for i in range(1,11):\n",
    "    f=open(f\"Text{i}.text\",\"w\")\n",
    "    f.write(\"Hello Python Hahaha \\n I am Pooja \\ Again create this file\")\n",
    "    \n",
    "    f.close()\n",
    "    "
   ]
  },
  {
   "cell_type": "code",
   "execution_count": 36,
   "id": "541076ac",
   "metadata": {},
   "outputs": [
    {
     "name": "stdout",
     "output_type": "stream",
     "text": [
      "Hello Python Hahaha \n",
      "\n",
      " I am Pooja \\ Again create this file\n",
      "Hello Python Hahaha \n",
      "\n",
      " I am Pooja \\ Again create this file\n",
      "Hello Python Hahaha \n",
      "\n",
      " I am Pooja \\ Again create this file\n",
      "Hello Python Hahaha \n",
      "\n",
      " I am Pooja \\ Again create this file\n",
      "Hello Python Hahaha \n",
      "\n",
      " I am Pooja \\ Again create this file\n",
      "Hello Python Hahaha \n",
      "\n",
      " I am Pooja \\ Again create this file\n",
      "Hello Python Hahaha \n",
      "\n",
      " I am Pooja \\ Again create this file\n",
      "Hello Python Hahaha \n",
      "\n",
      " I am Pooja \\ Again create this file\n",
      "Hello Python Hahaha \n",
      "\n",
      " I am Pooja \\ Again create this file\n",
      "Hello Python Hahaha \n",
      "\n",
      " I am Pooja \\ Again create this file\n"
     ]
    }
   ],
   "source": [
    "for i in range(1,11):\n",
    "    \n",
    "    for j in  open(f\"Text{i}.text\",\"r\"):\n",
    "        print(j)\n",
    "\n",
    "    "
   ]
  },
  {
   "cell_type": "code",
   "execution_count": 50,
   "id": "156b09d5",
   "metadata": {},
   "outputs": [
    {
     "ename": "SyntaxError",
     "evalue": "unexpected EOF while parsing (Temp/ipykernel_11740/1647132973.py, line 6)",
     "output_type": "error",
     "traceback": [
      "\u001b[1;36m  File \u001b[1;32m\"C:\\Users\\HP\\AppData\\Local\\Temp/ipykernel_11740/1647132973.py\"\u001b[1;36m, line \u001b[1;32m6\u001b[0m\n\u001b[1;33m    \u001b[0m\n\u001b[1;37m    ^\u001b[0m\n\u001b[1;31mSyntaxError\u001b[0m\u001b[1;31m:\u001b[0m unexpected EOF while parsing\n"
     ]
    }
   ],
   "source": [
    "for i in range(1,11):\n",
    "    l=[f=open(f\"Text{i}.text\",\"r\")\n",
    "    print(list(f)\n",
    "    \n",
    "        \n",
    "        "
   ]
  },
  {
   "cell_type": "code",
   "execution_count": 1,
   "id": "09e92f08",
   "metadata": {},
   "outputs": [
    {
     "data": {
      "text/plain": [
       "'C:\\\\Users\\\\HP\\\\Desktop\\\\Python'"
      ]
     },
     "execution_count": 1,
     "metadata": {},
     "output_type": "execute_result"
    }
   ],
   "source": [
    "pwd"
   ]
  },
  {
   "cell_type": "code",
   "execution_count": 6,
   "id": "eb4b8e3d",
   "metadata": {
    "scrolled": true
   },
   "outputs": [
    {
     "ename": "FileExistsError",
     "evalue": "[WinError 183] Cannot create a file when that file already exists: 'Operating System'",
     "output_type": "error",
     "traceback": [
      "\u001b[1;31m---------------------------------------------------------------------------\u001b[0m",
      "\u001b[1;31mFileExistsError\u001b[0m                           Traceback (most recent call last)",
      "\u001b[1;32m~\\AppData\\Local\\Temp/ipykernel_12320/1004283990.py\u001b[0m in \u001b[0;36m<module>\u001b[1;34m\u001b[0m\n\u001b[1;32m----> 1\u001b[1;33m \u001b[0mos\u001b[0m\u001b[1;33m.\u001b[0m\u001b[0mmkdir\u001b[0m\u001b[1;33m(\u001b[0m\u001b[1;34m\"Operating System\"\u001b[0m\u001b[1;33m)\u001b[0m\u001b[1;33m\u001b[0m\u001b[1;33m\u001b[0m\u001b[0m\n\u001b[0m\u001b[0;32m      2\u001b[0m \u001b[0mos\u001b[0m\u001b[1;33m.\u001b[0m\u001b[0mchdir\u001b[0m\u001b[1;33m(\u001b[0m\u001b[0mos\u001b[0m\u001b[1;33m.\u001b[0m\u001b[0mgetcwd\u001b[0m\u001b[1;33m(\u001b[0m\u001b[1;33m)\u001b[0m\u001b[1;33m+\u001b[0m\u001b[1;34m\"\\Operating System\"\u001b[0m\u001b[1;33m)\u001b[0m\u001b[1;33m\u001b[0m\u001b[1;33m\u001b[0m\u001b[0m\n",
      "\u001b[1;31mFileExistsError\u001b[0m: [WinError 183] Cannot create a file when that file already exists: 'Operating System'"
     ]
    }
   ],
   "source": [
    "os.mkdir(\"Operating System\")\n"
   ]
  },
  {
   "cell_type": "code",
   "execution_count": 7,
   "id": "31997e56",
   "metadata": {},
   "outputs": [],
   "source": [
    "os.chdir(os.getcwd()+\"\\Operating System\")"
   ]
  },
  {
   "cell_type": "code",
   "execution_count": 58,
   "id": "45548c91",
   "metadata": {},
   "outputs": [],
   "source": [
    "def createFile(n):\n",
    "    for i in range(1,n+1):\n",
    "        f=open(f\"Text{i}.text\",\"w\")\n",
    "        f.write(\"Heello This is Pooja .\\n I love Python\")\n",
    "        f.close()\n",
    "    print(\"File created\")    \n",
    "    readAllFile(n)\n",
    "    print()\n",
    "    listFile(n)\n",
    "    \n",
    "    \n",
    "def readAllFile(n):\n",
    "    for i in range(1,n+1):        \n",
    "            for j in  open(f\"Text{i}.text\",\"r\"):\n",
    "                print (j)\n",
    "        \n",
    "def listFile(n): \n",
    "    l=[]\n",
    "    for i in range(1,n+1):\n",
    "        f=open(f\"Text{i}.text\",\"r\")\n",
    "        l.append(list(f))\n",
    "    print(l)\n",
    "    \n",
    " "
   ]
  },
  {
   "cell_type": "code",
   "execution_count": 59,
   "id": "335c3590",
   "metadata": {},
   "outputs": [
    {
     "name": "stdout",
     "output_type": "stream",
     "text": [
      "File created\n",
      "Heello This is Pooja .\n",
      "\n",
      " I love Python\n",
      "Heello This is Pooja .\n",
      "\n",
      " I love Python\n",
      "Heello This is Pooja .\n",
      "\n",
      " I love Python\n",
      "Heello This is Pooja .\n",
      "\n",
      " I love Python\n",
      "Heello This is Pooja .\n",
      "\n",
      " I love Python\n",
      "Heello This is Pooja .\n",
      "\n",
      " I love Python\n",
      "Heello This is Pooja .\n",
      "\n",
      " I love Python\n",
      "Heello This is Pooja .\n",
      "\n",
      " I love Python\n",
      "Heello This is Pooja .\n",
      "\n",
      " I love Python\n",
      "Heello This is Pooja .\n",
      "\n",
      " I love Python\n",
      "\n",
      "[['Heello This is Pooja .\\n', ' I love Python'], ['Heello This is Pooja .\\n', ' I love Python'], ['Heello This is Pooja .\\n', ' I love Python'], ['Heello This is Pooja .\\n', ' I love Python'], ['Heello This is Pooja .\\n', ' I love Python'], ['Heello This is Pooja .\\n', ' I love Python'], ['Heello This is Pooja .\\n', ' I love Python'], ['Heello This is Pooja .\\n', ' I love Python'], ['Heello This is Pooja .\\n', ' I love Python'], ['Heello This is Pooja .\\n', ' I love Python']]\n"
     ]
    }
   ],
   "source": [
    "n=10    \n",
    "createFile(n)\n",
    "    "
   ]
  },
  {
   "cell_type": "code",
   "execution_count": 56,
   "id": "f5ee6d26",
   "metadata": {},
   "outputs": [],
   "source": [
    "readAllFile(10)"
   ]
  },
  {
   "cell_type": "code",
   "execution_count": 53,
   "id": "5256fb91",
   "metadata": {},
   "outputs": [
    {
     "name": "stdout",
     "output_type": "stream",
     "text": [
      "[['Heello This is Pooja .\\n', ' I love Python'], ['Heello This is Pooja .\\n', ' I love Python'], ['Heello This is Pooja .\\n', ' I love Python'], ['Heello This is Pooja .\\n', ' I love Python'], ['Heello This is Pooja .\\n', ' I love Python'], ['Heello This is Pooja .\\n', ' I love Python'], ['Heello This is Pooja .\\n', ' I love Python'], ['Heello This is Pooja .\\n', ' I love Python'], ['Heello This is Pooja .\\n', ' I love Python'], ['Heello This is Pooja .\\n', ' I love Python']]\n"
     ]
    }
   ],
   "source": [
    "l=[]\n",
    "for i in range(1,n+1):\n",
    "    f=open(f\"Text{i}.text\",\"r\")\n",
    "    l.append(list(f))\n",
    "print(l)\n",
    "f=open(f\"New FIle.text\",\"w\")\n",
    "\n",
    "f.write(str(l) )\n",
    "f.close() "
   ]
  },
  {
   "cell_type": "code",
   "execution_count": 54,
   "id": "12716abb",
   "metadata": {},
   "outputs": [
    {
     "name": "stdout",
     "output_type": "stream",
     "text": [
      "[['Heello This is Pooja .\\n', ' I love Python'], ['Heello This is Pooja .\\n', ' I love Python'], ['Heello This is Pooja .\\n', ' I love Python'], ['Heello This is Pooja .\\n', ' I love Python'], ['Heello This is Pooja .\\n', ' I love Python'], ['Heello This is Pooja .\\n', ' I love Python'], ['Heello This is Pooja .\\n', ' I love Python'], ['Heello This is Pooja .\\n', ' I love Python'], ['Heello This is Pooja .\\n', ' I love Python'], ['Heello This is Pooja .\\n', ' I love Python']]\n"
     ]
    }
   ],
   "source": [
    "for i in open(f\"New FIle.text\",\"r\"):\n",
    "    print(i)"
   ]
  },
  {
   "cell_type": "code",
   "execution_count": 60,
   "id": "64dd6798",
   "metadata": {},
   "outputs": [],
   "source": [
    "import shutil"
   ]
  },
  {
   "cell_type": "code",
   "execution_count": 61,
   "id": "ade72342",
   "metadata": {},
   "outputs": [
    {
     "data": {
      "text/plain": [
       "'C:\\\\Users\\\\HP\\\\Desktop\\\\Python\\\\Operating System'"
      ]
     },
     "execution_count": 61,
     "metadata": {},
     "output_type": "execute_result"
    }
   ],
   "source": [
    "pwd"
   ]
  },
  {
   "cell_type": "code",
   "execution_count": 67,
   "id": "37dff379",
   "metadata": {},
   "outputs": [],
   "source": [
    "os.chdir(\"C:\\\\Users\\\\HP\\\\Desktop\\\\Python\")"
   ]
  },
  {
   "cell_type": "code",
   "execution_count": 68,
   "id": "7e10c81d",
   "metadata": {},
   "outputs": [
    {
     "data": {
      "text/plain": [
       "'C:\\\\Users\\\\HP\\\\Desktop\\\\Python'"
      ]
     },
     "execution_count": 68,
     "metadata": {},
     "output_type": "execute_result"
    }
   ],
   "source": [
    "pwd"
   ]
  },
  {
   "cell_type": "code",
   "execution_count": 69,
   "id": "aae157e4",
   "metadata": {},
   "outputs": [],
   "source": [
    "os.mkdir(\"newOs\")"
   ]
  },
  {
   "cell_type": "code",
   "execution_count": 71,
   "id": "4e0a1b2e",
   "metadata": {},
   "outputs": [
    {
     "data": {
      "text/plain": [
       "'C:\\\\Users\\\\HP\\\\Desktop\\\\Python\\\\newOs\\\\New FIle.text'"
      ]
     },
     "execution_count": 71,
     "metadata": {},
     "output_type": "execute_result"
    }
   ],
   "source": [
    "shutil.move(\"C:\\\\Users\\\\HP\\\\Desktop\\\\Python\\\\Operating System\\\\New FIle.text\",'C:\\\\Users\\\\HP\\\\Desktop\\\\Python\\\\newOs')"
   ]
  },
  {
   "cell_type": "code",
   "execution_count": 72,
   "id": "1b769506",
   "metadata": {},
   "outputs": [
    {
     "data": {
      "text/plain": [
       "'C:\\\\Users\\\\HP\\\\Desktop\\\\Python'"
      ]
     },
     "execution_count": 72,
     "metadata": {},
     "output_type": "execute_result"
    }
   ],
   "source": [
    "pwd"
   ]
  },
  {
   "cell_type": "code",
   "execution_count": 75,
   "id": "fb037a7b",
   "metadata": {},
   "outputs": [],
   "source": [
    "os.chdir('C:\\\\Users\\\\HP\\\\Desktop\\\\Python\\\\newOs')"
   ]
  },
  {
   "cell_type": "code",
   "execution_count": 74,
   "id": "9144e828",
   "metadata": {},
   "outputs": [
    {
     "data": {
      "text/plain": [
       "['.ipynb_checkpoints',\n",
       " 'Class Task and challengs',\n",
       " 'Complete Python Module',\n",
       " 'Live Class Practice code',\n",
       " 'My_Python_Practices_Notes',\n",
       " 'newOs',\n",
       " 'Operating System',\n",
       " 'OS(Operating  System).ipynb',\n",
       " 'Pycharm_Python_Basic',\n",
       " 'Python Basic Assignments',\n",
       " 'Python Basic Programming Assignments',\n",
       " 'Python_Game_Package',\n",
       " 'README.md']"
      ]
     },
     "execution_count": 74,
     "metadata": {},
     "output_type": "execute_result"
    }
   ],
   "source": [
    "os.listdir()"
   ]
  },
  {
   "cell_type": "code",
   "execution_count": 76,
   "id": "1a81320d",
   "metadata": {},
   "outputs": [
    {
     "data": {
      "text/plain": [
       "'C:\\\\Users\\\\HP\\\\Desktop\\\\Python\\\\newOs'"
      ]
     },
     "execution_count": 76,
     "metadata": {},
     "output_type": "execute_result"
    }
   ],
   "source": [
    "pwd"
   ]
  },
  {
   "cell_type": "code",
   "execution_count": 77,
   "id": "ee3b597d",
   "metadata": {
    "scrolled": true
   },
   "outputs": [
    {
     "data": {
      "text/plain": [
       "['New FIle.text']"
      ]
     },
     "execution_count": 77,
     "metadata": {},
     "output_type": "execute_result"
    }
   ],
   "source": [
    "os.listdir()"
   ]
  },
  {
   "cell_type": "code",
   "execution_count": 79,
   "id": "03025d52",
   "metadata": {},
   "outputs": [],
   "source": [
    "os.chdir('C:\\\\Users\\\\HP\\\\Desktop\\\\Python')"
   ]
  },
  {
   "cell_type": "code",
   "execution_count": 80,
   "id": "b1ea002c",
   "metadata": {},
   "outputs": [
    {
     "data": {
      "text/plain": [
       "'C:\\\\Users\\\\HP\\\\Desktop\\\\Python'"
      ]
     },
     "execution_count": 80,
     "metadata": {},
     "output_type": "execute_result"
    }
   ],
   "source": [
    "pwd"
   ]
  },
  {
   "cell_type": "code",
   "execution_count": 81,
   "id": "6d9b0f0e",
   "metadata": {},
   "outputs": [
    {
     "name": "stdout",
     "output_type": "stream",
     "text": [
      "C:\\Users\\HP\\Desktop\\Python\n",
      "C:\\Users\\HP\\Desktop\\Python\\.ipynb_checkpoints\n",
      "C:\\Users\\HP\\Desktop\\Python\\Class Task and challengs\n",
      "C:\\Users\\HP\\Desktop\\Python\\Class Task and challengs\\.ipynb_checkpoints\n",
      "C:\\Users\\HP\\Desktop\\Python\\Complete Python Module\n",
      "C:\\Users\\HP\\Desktop\\Python\\Complete Python Module\\.ipynb_checkpoints\n",
      "C:\\Users\\HP\\Desktop\\Python\\Complete Python Module\\1.Python Overview\n",
      "C:\\Users\\HP\\Desktop\\Python\\Complete Python Module\\1.Python Overview\\.ipynb_checkpoints\n",
      "C:\\Users\\HP\\Desktop\\Python\\Complete Python Module\\10.OS and Shutil\n",
      "C:\\Users\\HP\\Desktop\\Python\\Complete Python Module\\10.OS and Shutil\\.ipynb_checkpoints\n",
      "C:\\Users\\HP\\Desktop\\Python\\Complete Python Module\\11.1 Logging\n",
      "C:\\Users\\HP\\Desktop\\Python\\Complete Python Module\\11.1 Logging\\.ipynb_checkpoints\n",
      "C:\\Users\\HP\\Desktop\\Python\\Complete Python Module\\11.1 Logging\\img\n",
      "C:\\Users\\HP\\Desktop\\Python\\Complete Python Module\\11.2 Debugger\n",
      "C:\\Users\\HP\\Desktop\\Python\\Complete Python Module\\11.2 Debugger\\.ipynb_checkpoints\n",
      "C:\\Users\\HP\\Desktop\\Python\\Complete Python Module\\11.2 Debugger\\img\n",
      "C:\\Users\\HP\\Desktop\\Python\\Complete Python Module\\12. Module and import\n",
      "C:\\Users\\HP\\Desktop\\Python\\Complete Python Module\\12. Module and import\\.ipynb_checkpoints\n",
      "C:\\Users\\HP\\Desktop\\Python\\Complete Python Module\\13. OOPS\n",
      "C:\\Users\\HP\\Desktop\\Python\\Complete Python Module\\13. OOPS\\.ipynb_checkpoints\n",
      "C:\\Users\\HP\\Desktop\\Python\\Complete Python Module\\14. Exception\n",
      "C:\\Users\\HP\\Desktop\\Python\\Complete Python Module\\14. Exception\\.ipynb_checkpoints\n",
      "C:\\Users\\HP\\Desktop\\Python\\Complete Python Module\\14. Exception\\img\n",
      "C:\\Users\\HP\\Desktop\\Python\\Complete Python Module\\15.1 Merge multiple jupyter notebooks Project\n",
      "C:\\Users\\HP\\Desktop\\Python\\Complete Python Module\\15.1 Merge multiple jupyter notebooks Project\\CODE\n",
      "C:\\Users\\HP\\Desktop\\Python\\Complete Python Module\\15.1 Merge multiple jupyter notebooks Project\\CODE\\.ipynb_checkpoints\n",
      "C:\\Users\\HP\\Desktop\\Python\\Complete Python Module\\15.1 Merge multiple jupyter notebooks Project\\jupyter_docs\n",
      "C:\\Users\\HP\\Desktop\\Python\\Complete Python Module\\15.1 Merge multiple jupyter notebooks Project\\jupyter_docs\\merge_IPYNB_img\n",
      "C:\\Users\\HP\\Desktop\\Python\\Complete Python Module\\15.1 Merge multiple jupyter notebooks Project\\screeenshots\n",
      "C:\\Users\\HP\\Desktop\\Python\\Complete Python Module\\15.2 Send Email Project\n",
      "C:\\Users\\HP\\Desktop\\Python\\Complete Python Module\\15.2 Send Email Project\\CODE\n",
      "C:\\Users\\HP\\Desktop\\Python\\Complete Python Module\\15.2 Send Email Project\\CODE\\getCredentials\n",
      "C:\\Users\\HP\\Desktop\\Python\\Complete Python Module\\15.2 Send Email Project\\CODE\\getCredentials\\__pycache__\n",
      "C:\\Users\\HP\\Desktop\\Python\\Complete Python Module\\15.2 Send Email Project\\CODE\\sendDetailedEmail\n",
      "C:\\Users\\HP\\Desktop\\Python\\Complete Python Module\\15.2 Send Email Project\\CODE\\sendDetailedEmail\\__pycache__\n",
      "C:\\Users\\HP\\Desktop\\Python\\Complete Python Module\\15.2 Send Email Project\\INSTRUCTION\n",
      "C:\\Users\\HP\\Desktop\\Python\\Complete Python Module\\15.2 Send Email Project\\INSTRUCTION\\email_pro_img\n",
      "C:\\Users\\HP\\Desktop\\Python\\Complete Python Module\\15.3.Image Resize Project\n",
      "C:\\Users\\HP\\Desktop\\Python\\Complete Python Module\\15.3.Image Resize Project\\.ipynb_checkpoints\n",
      "C:\\Users\\HP\\Desktop\\Python\\Complete Python Module\\15.3.Image Resize Project\\Images\n",
      "C:\\Users\\HP\\Desktop\\Python\\Complete Python Module\\15.3.Image Resize Project\\ResizedImages\n",
      "C:\\Users\\HP\\Desktop\\Python\\Complete Python Module\\16-17. Pandas-Numpy\n",
      "C:\\Users\\HP\\Desktop\\Python\\Complete Python Module\\16-17. Pandas-Numpy\\.ipynb_checkpoints\n",
      "C:\\Users\\HP\\Desktop\\Python\\Complete Python Module\\16-17. Pandas-Numpy\\example_files\n",
      "C:\\Users\\HP\\Desktop\\Python\\Complete Python Module\\18.1 MATPLOTLIB\n",
      "C:\\Users\\HP\\Desktop\\Python\\Complete Python Module\\18.1 MATPLOTLIB\\.ipynb_checkpoints\n",
      "C:\\Users\\HP\\Desktop\\Python\\Complete Python Module\\18.2 SEABORN\n",
      "C:\\Users\\HP\\Desktop\\Python\\Complete Python Module\\18.2 SEABORN\\.ipynb_checkpoints\n",
      "C:\\Users\\HP\\Desktop\\Python\\Complete Python Module\\18.3.Plotly\n",
      "C:\\Users\\HP\\Desktop\\Python\\Complete Python Module\\18.3.Plotly\\.ipynb_checkpoints\n",
      "C:\\Users\\HP\\Desktop\\Python\\Complete Python Module\\18.4.Cufflinks\n",
      "C:\\Users\\HP\\Desktop\\Python\\Complete Python Module\\18.4.Cufflinks\\.ipynb_checkpoints\n",
      "C:\\Users\\HP\\Desktop\\Python\\Complete Python Module\\19.1.SqLite\n",
      "C:\\Users\\HP\\Desktop\\Python\\Complete Python Module\\19.1.SqLite\\.ipynb_checkpoints\n",
      "C:\\Users\\HP\\Desktop\\Python\\Complete Python Module\\19.2.MySQL\n",
      "C:\\Users\\HP\\Desktop\\Python\\Complete Python Module\\19.2.MySQL\\.ipynb_checkpoints\n",
      "C:\\Users\\HP\\Desktop\\Python\\Complete Python Module\\19.2.MySQL\\imgs\n",
      "C:\\Users\\HP\\Desktop\\Python\\Complete Python Module\\19.2.MySQL\\Imp files\n",
      "C:\\Users\\HP\\Desktop\\Python\\Complete Python Module\\19.2.MySQL\\Imp files\\.ipynb_checkpoints\n",
      "C:\\Users\\HP\\Desktop\\Python\\Complete Python Module\\19.3 MongoDB\n",
      "C:\\Users\\HP\\Desktop\\Python\\Complete Python Module\\19.3 MongoDB\\.ipynb_checkpoints\n",
      "C:\\Users\\HP\\Desktop\\Python\\Complete Python Module\\19.3 MongoDB\\mongo_img\n",
      "C:\\Users\\HP\\Desktop\\Python\\Complete Python Module\\19.3 MongoDB\\mongo_img\\.ipynb_checkpoints\n",
      "C:\\Users\\HP\\Desktop\\Python\\Complete Python Module\\19.3 MongoDB\\mongo_img\\atlas\n",
      "C:\\Users\\HP\\Desktop\\Python\\Complete Python Module\\19.3 MongoDB\\mongo_img\\compass\n",
      "C:\\Users\\HP\\Desktop\\Python\\Complete Python Module\\19.4.Cassandra\n",
      "C:\\Users\\HP\\Desktop\\Python\\Complete Python Module\\19.4.Cassandra\\.ipynb_checkpoints\n",
      "C:\\Users\\HP\\Desktop\\Python\\Complete Python Module\\19.4.Cassandra\\imgs\n",
      "C:\\Users\\HP\\Desktop\\Python\\Complete Python Module\\2.Installation\n",
      "C:\\Users\\HP\\Desktop\\Python\\Complete Python Module\\2.Installation\\.ipynb_checkpoints\n",
      "C:\\Users\\HP\\Desktop\\Python\\Complete Python Module\\2.Installation\\Atoms\n",
      "C:\\Users\\HP\\Desktop\\Python\\Complete Python Module\\2.Installation\\imgs\n",
      "C:\\Users\\HP\\Desktop\\Python\\Complete Python Module\\2.Installation\\Spyder\n",
      "C:\\Users\\HP\\Desktop\\Python\\Complete Python Module\\2.Installation\\Sublime\n",
      "C:\\Users\\HP\\Desktop\\Python\\Complete Python Module\\20.Memory Management\n",
      "C:\\Users\\HP\\Desktop\\Python\\Complete Python Module\\20.Memory Management\\.ipynb_checkpoints\n",
      "C:\\Users\\HP\\Desktop\\Python\\Complete Python Module\\20.Memory Management\\DownloadImages\n",
      "C:\\Users\\HP\\Desktop\\Python\\Complete Python Module\\20.Memory Management\\imgs\n",
      "C:\\Users\\HP\\Desktop\\Python\\Complete Python Module\\20.Memory Management\\ModifiedImages\n",
      "C:\\Users\\HP\\Desktop\\Python\\Complete Python Module\\20.Memory Management\\__pycache__\n",
      "C:\\Users\\HP\\Desktop\\Python\\Complete Python Module\\21.Flask\n",
      "C:\\Users\\HP\\Desktop\\Python\\Complete Python Module\\21.Flask\\.ipynb_checkpoints\n",
      "C:\\Users\\HP\\Desktop\\Python\\Complete Python Module\\21.Flask\\flask_demo\n",
      "C:\\Users\\HP\\Desktop\\Python\\Complete Python Module\\21.Flask\\flask_demo\\.idea\n",
      "C:\\Users\\HP\\Desktop\\Python\\Complete Python Module\\21.Flask\\flask_demo\\.idea\\inspectionProfiles\n",
      "C:\\Users\\HP\\Desktop\\Python\\Complete Python Module\\21.Flask\\flask_demo\\static\n",
      "C:\\Users\\HP\\Desktop\\Python\\Complete Python Module\\21.Flask\\flask_demo\\static\\css\n",
      "C:\\Users\\HP\\Desktop\\Python\\Complete Python Module\\21.Flask\\flask_demo\\templates\n",
      "C:\\Users\\HP\\Desktop\\Python\\Complete Python Module\\21.Flask\\imgs\n",
      "C:\\Users\\HP\\Desktop\\Python\\Complete Python Module\\22.Food App\n",
      "C:\\Users\\HP\\Desktop\\Python\\Complete Python Module\\22.Food App\\.ipynb_checkpoints\n",
      "C:\\Users\\HP\\Desktop\\Python\\Complete Python Module\\22.Food App\\food-app\n",
      "C:\\Users\\HP\\Desktop\\Python\\Complete Python Module\\22.Food App\\food-app\\food\n",
      "C:\\Users\\HP\\Desktop\\Python\\Complete Python Module\\22.Food App\\food-app\\food\\migrations\n",
      "C:\\Users\\HP\\Desktop\\Python\\Complete Python Module\\22.Food App\\food-app\\food\\migrations\\__pycache__\n",
      "C:\\Users\\HP\\Desktop\\Python\\Complete Python Module\\22.Food App\\food-app\\food\\templates\n",
      "C:\\Users\\HP\\Desktop\\Python\\Complete Python Module\\22.Food App\\food-app\\food\\__pycache__\n",
      "C:\\Users\\HP\\Desktop\\Python\\Complete Python Module\\22.Food App\\food-app\\food_app\n",
      "C:\\Users\\HP\\Desktop\\Python\\Complete Python Module\\22.Food App\\food-app\\food_app\\__pycache__\n",
      "C:\\Users\\HP\\Desktop\\Python\\Complete Python Module\\22.Food App\\imgs\n",
      "C:\\Users\\HP\\Desktop\\Python\\Complete Python Module\\23. Django\n",
      "C:\\Users\\HP\\Desktop\\Python\\Complete Python Module\\23. Django\\.ipynb_checkpoints\n",
      "C:\\Users\\HP\\Desktop\\Python\\Complete Python Module\\23. Django\\hello_world\n",
      "C:\\Users\\HP\\Desktop\\Python\\Complete Python Module\\23. Django\\hello_world\\.idea\n",
      "C:\\Users\\HP\\Desktop\\Python\\Complete Python Module\\23. Django\\hello_world\\.idea\\inspectionProfiles\n",
      "C:\\Users\\HP\\Desktop\\Python\\Complete Python Module\\23. Django\\hello_world\\hello_app\n",
      "C:\\Users\\HP\\Desktop\\Python\\Complete Python Module\\23. Django\\hello_world\\hello_app\\migrations\n",
      "C:\\Users\\HP\\Desktop\\Python\\Complete Python Module\\23. Django\\hello_world\\hello_app\\migrations\\__pycache__\n",
      "C:\\Users\\HP\\Desktop\\Python\\Complete Python Module\\23. Django\\hello_world\\hello_app\\__pycache__\n",
      "C:\\Users\\HP\\Desktop\\Python\\Complete Python Module\\23. Django\\hello_world\\hello_world\n",
      "C:\\Users\\HP\\Desktop\\Python\\Complete Python Module\\23. Django\\hello_world\\hello_world\\__pycache__\n",
      "C:\\Users\\HP\\Desktop\\Python\\Complete Python Module\\23. Django\\img\n",
      "C:\\Users\\HP\\Desktop\\Python\\Complete Python Module\\24.Weather App\n",
      "C:\\Users\\HP\\Desktop\\Python\\Complete Python Module\\24.Weather App\\.ipynb_checkpoints\n",
      "C:\\Users\\HP\\Desktop\\Python\\Complete Python Module\\24.Weather App\\imgs\n",
      "C:\\Users\\HP\\Desktop\\Python\\Complete Python Module\\24.Weather App\\weather-app\n",
      "C:\\Users\\HP\\Desktop\\Python\\Complete Python Module\\24.Weather App\\weather-app\\the_weather\n"
     ]
    },
    {
     "name": "stdout",
     "output_type": "stream",
     "text": [
      "C:\\Users\\HP\\Desktop\\Python\\Complete Python Module\\24.Weather App\\weather-app\\the_weather\\__pycache__\n",
      "C:\\Users\\HP\\Desktop\\Python\\Complete Python Module\\24.Weather App\\weather-app\\weather\n",
      "C:\\Users\\HP\\Desktop\\Python\\Complete Python Module\\24.Weather App\\weather-app\\weather\\migrations\n",
      "C:\\Users\\HP\\Desktop\\Python\\Complete Python Module\\24.Weather App\\weather-app\\weather\\migrations\\__pycache__\n",
      "C:\\Users\\HP\\Desktop\\Python\\Complete Python Module\\24.Weather App\\weather-app\\weather\\templates\n",
      "C:\\Users\\HP\\Desktop\\Python\\Complete Python Module\\24.Weather App\\weather-app\\weather\\templates\\weather\n",
      "C:\\Users\\HP\\Desktop\\Python\\Complete Python Module\\24.Weather App\\weather-app\\weather\\__pycache__\n",
      "C:\\Users\\HP\\Desktop\\Python\\Complete Python Module\\25.MemesGenerator App\n",
      "C:\\Users\\HP\\Desktop\\Python\\Complete Python Module\\25.MemesGenerator App\\.ipynb_checkpoints\n",
      "C:\\Users\\HP\\Desktop\\Python\\Complete Python Module\\25.MemesGenerator App\\imgs\n",
      "C:\\Users\\HP\\Desktop\\Python\\Complete Python Module\\25.MemesGenerator App\\memegenerator\n",
      "C:\\Users\\HP\\Desktop\\Python\\Complete Python Module\\25.MemesGenerator App\\memegenerator\\static\n",
      "C:\\Users\\HP\\Desktop\\Python\\Complete Python Module\\25.MemesGenerator App\\memegenerator\\static\\fonts\n",
      "C:\\Users\\HP\\Desktop\\Python\\Complete Python Module\\25.MemesGenerator App\\memegenerator\\static\\images\n",
      "C:\\Users\\HP\\Desktop\\Python\\Complete Python Module\\25.MemesGenerator App\\memegenerator\\static\\memes\n",
      "C:\\Users\\HP\\Desktop\\Python\\Complete Python Module\\25.MemesGenerator App\\memegenerator\\templates\n",
      "C:\\Users\\HP\\Desktop\\Python\\Complete Python Module\\26. Django-blog app\n",
      "C:\\Users\\HP\\Desktop\\Python\\Complete Python Module\\26. Django-blog app\\img_doc\n",
      "C:\\Users\\HP\\Desktop\\Python\\Complete Python Module\\3. Basic variables\n",
      "C:\\Users\\HP\\Desktop\\Python\\Complete Python Module\\3. Basic variables\\.ipynb_checkpoints\n",
      "C:\\Users\\HP\\Desktop\\Python\\Complete Python Module\\3. Basic variables\\img\n",
      "C:\\Users\\HP\\Desktop\\Python\\Complete Python Module\\4.Control Flow\n",
      "C:\\Users\\HP\\Desktop\\Python\\Complete Python Module\\4.Control Flow\\.ipynb_checkpoints\n",
      "C:\\Users\\HP\\Desktop\\Python\\Complete Python Module\\4.Expressions Operators and Precedence\n",
      "C:\\Users\\HP\\Desktop\\Python\\Complete Python Module\\6. Variable-containers\n",
      "C:\\Users\\HP\\Desktop\\Python\\Complete Python Module\\6. Variable-containers\\.ipynb_checkpoints\n",
      "C:\\Users\\HP\\Desktop\\Python\\Complete Python Module\\7.Functions\n",
      "C:\\Users\\HP\\Desktop\\Python\\Complete Python Module\\7.Functions\\.ipynb_checkpoints\n",
      "C:\\Users\\HP\\Desktop\\Python\\Complete Python Module\\8.Iterators Generators\n",
      "C:\\Users\\HP\\Desktop\\Python\\Complete Python Module\\8.Iterators Generators\\.ipynb_checkpoints\n",
      "C:\\Users\\HP\\Desktop\\Python\\Complete Python Module\\8.Iterators Generators\\imgs\n",
      "C:\\Users\\HP\\Desktop\\Python\\Complete Python Module\\9.File I-O\n",
      "C:\\Users\\HP\\Desktop\\Python\\Complete Python Module\\9.File I-O\\.ipynb_checkpoints\n",
      "C:\\Users\\HP\\Desktop\\Python\\Complete Python Module\\AutoViz_Library_Shivan\n",
      "C:\\Users\\HP\\Desktop\\Python\\Complete Python Module\\AutoViz_Library_Shivan\\autoviz_main\n",
      "C:\\Users\\HP\\Desktop\\Python\\Complete Python Module\\AutoViz_Library_Shivan\\autoviz_test-master\n",
      "C:\\Users\\HP\\Desktop\\Python\\Complete Python Module\\AutoViz_Library_Shivan\\autoviz_test-master\\.ipynb_checkpoints\n",
      "C:\\Users\\HP\\Desktop\\Python\\Complete Python Module\\AutoViz_Library_Shivan\\autoviz_test-master\\data\n",
      "C:\\Users\\HP\\Desktop\\Python\\Complete Python Module\\Bokeh-20210806T093644Z-001\n",
      "C:\\Users\\HP\\Desktop\\Python\\Complete Python Module\\Bokeh-20210806T093644Z-001\\Bokeh\n",
      "C:\\Users\\HP\\Desktop\\Python\\Complete Python Module\\Dask (3)\n",
      "C:\\Users\\HP\\Desktop\\Python\\Complete Python Module\\Dask (3)\\Dask\n",
      "C:\\Users\\HP\\Desktop\\Python\\Complete Python Module\\Dask (3)\\Dask\\.ipynb_checkpoints\n",
      "C:\\Users\\HP\\Desktop\\Python\\Complete Python Module\\Dask (3)\\Dask\\dask-worker-space\n",
      "C:\\Users\\HP\\Desktop\\Python\\Complete Python Module\\Dask (3)\\Dask\\dask-worker-space\\worker-ta0gtefo\n",
      "C:\\Users\\HP\\Desktop\\Python\\Complete Python Module\\Dask (3)\\Dask\\dask-worker-space\\worker-ta0gtefo\\storage\n",
      "C:\\Users\\HP\\Desktop\\Python\\Complete Python Module\\Dask (3)\\Dask\\data\n",
      "C:\\Users\\HP\\Desktop\\Python\\Complete Python Module\\Dask (3)\\Dask\\Images\n",
      "C:\\Users\\HP\\Desktop\\Python\\Complete Python Module\\FIFA (1)\n",
      "C:\\Users\\HP\\Desktop\\Python\\Complete Python Module\\FIFA (1)\\FIFA\n",
      "C:\\Users\\HP\\Desktop\\Python\\Complete Python Module\\FIFA (1)\\FIFA\\.ipynb_checkpoints\n",
      "C:\\Users\\HP\\Desktop\\Python\\Complete Python Module\\FIFA (1)\\__MACOSX\n",
      "C:\\Users\\HP\\Desktop\\Python\\Complete Python Module\\FIFA (1)\\__MACOSX\\FIFA\n",
      "C:\\Users\\HP\\Desktop\\Python\\Complete Python Module\\FitBit (3)\n",
      "C:\\Users\\HP\\Desktop\\Python\\Complete Python Module\\FitBit (3)\\FitBit\n",
      "C:\\Users\\HP\\Desktop\\Python\\Complete Python Module\\FitBit (3)\\FitBit\\.ipynb_checkpoints\n",
      "C:\\Users\\HP\\Desktop\\Python\\Complete Python Module\\FitBit (3)\\__MACOSX\n",
      "C:\\Users\\HP\\Desktop\\Python\\Complete Python Module\\FitBit (3)\\__MACOSX\\FitBit\n",
      "C:\\Users\\HP\\Desktop\\Python\\Complete Python Module\\flask_demo\n",
      "C:\\Users\\HP\\Desktop\\Python\\Complete Python Module\\flask_demo\\.idea\n",
      "C:\\Users\\HP\\Desktop\\Python\\Complete Python Module\\flask_demo\\.idea\\inspectionProfiles\n",
      "C:\\Users\\HP\\Desktop\\Python\\Complete Python Module\\flask_demo\\static\n",
      "C:\\Users\\HP\\Desktop\\Python\\Complete Python Module\\flask_demo\\static\\css\n",
      "C:\\Users\\HP\\Desktop\\Python\\Complete Python Module\\flask_demo\\templates\n",
      "C:\\Users\\HP\\Desktop\\Python\\Complete Python Module\\Flight_Price\n",
      "C:\\Users\\HP\\Desktop\\Python\\Complete Python Module\\Flight_Price\\Flight_Price\n",
      "C:\\Users\\HP\\Desktop\\Python\\Complete Python Module\\Flight_Price\\Flight_Price\\.ipynb_checkpoints\n",
      "C:\\Users\\HP\\Desktop\\Python\\Complete Python Module\\Flight_Price\\Flight_Price\\Flight_Ticket_Participant_Datasets-20190305T100527Z-001\n",
      "C:\\Users\\HP\\Desktop\\Python\\Complete Python Module\\Flight_Price\\Flight_Price\\Flight_Ticket_Participant_Datasets-20190305T100527Z-001\\Flight_Ticket_Participant_Datasets\n",
      "C:\\Users\\HP\\Desktop\\Python\\Complete Python Module\\Flight_Price\\__MACOSX\n",
      "C:\\Users\\HP\\Desktop\\Python\\Complete Python Module\\Flight_Price\\__MACOSX\\Flight_Price\n",
      "C:\\Users\\HP\\Desktop\\Python\\Complete Python Module\\Flight_Price\\__MACOSX\\Flight_Price\\Flight_Ticket_Participant_Datasets-20190305T100527Z-001\n",
      "C:\\Users\\HP\\Desktop\\Python\\Complete Python Module\\Flight_Price\\__MACOSX\\Flight_Price\\Flight_Ticket_Participant_Datasets-20190305T100527Z-001\\Flight_Ticket_Participant_Datasets\n",
      "C:\\Users\\HP\\Desktop\\Python\\Complete Python Module\\HRPrediction\n",
      "C:\\Users\\HP\\Desktop\\Python\\Complete Python Module\\HRPrediction\\HRPrediction\n",
      "C:\\Users\\HP\\Desktop\\Python\\Complete Python Module\\HRPrediction\\HRPrediction\\.ipynb_checkpoints\n",
      "C:\\Users\\HP\\Desktop\\Python\\Complete Python Module\\HRPrediction\\__MACOSX\n",
      "C:\\Users\\HP\\Desktop\\Python\\Complete Python Module\\HRPrediction\\__MACOSX\\HRPrediction\n",
      "C:\\Users\\HP\\Desktop\\Python\\Complete Python Module\\QnA\n",
      "C:\\Users\\HP\\Desktop\\Python\\Complete Python Module\\QnA\\ppt\n",
      "C:\\Users\\HP\\Desktop\\Python\\Complete Python Module\\zomato (4)\n",
      "C:\\Users\\HP\\Desktop\\Python\\Complete Python Module\\zomato (4)\\zomato\n",
      "C:\\Users\\HP\\Desktop\\Python\\Complete Python Module\\zomato (4)\\zomato\\.ipynb_checkpoints\n",
      "C:\\Users\\HP\\Desktop\\Python\\Complete Python Module\\zomato (4)\\__MACOSX\n",
      "C:\\Users\\HP\\Desktop\\Python\\Complete Python Module\\zomato (4)\\__MACOSX\\zomato\n",
      "C:\\Users\\HP\\Desktop\\Python\\Live Class Practice code\n",
      "C:\\Users\\HP\\Desktop\\Python\\Live Class Practice code\\.ipynb_checkpoints\n",
      "C:\\Users\\HP\\Desktop\\Python\\My_Python_Practices_Notes\n",
      "C:\\Users\\HP\\Desktop\\Python\\My_Python_Practices_Notes\\.ipynb_checkpoints\n",
      "C:\\Users\\HP\\Desktop\\Python\\newOs\n",
      "C:\\Users\\HP\\Desktop\\Python\\Operating System\n",
      "C:\\Users\\HP\\Desktop\\Python\\Operating System\\.ipynb_checkpoints\n",
      "C:\\Users\\HP\\Desktop\\Python\\Pycharm_Python_Basic\n",
      "C:\\Users\\HP\\Desktop\\Python\\Pycharm_Python_Basic\\.idea\n",
      "C:\\Users\\HP\\Desktop\\Python\\Pycharm_Python_Basic\\.idea\\inspectionProfiles\n",
      "C:\\Users\\HP\\Desktop\\Python\\Pycharm_Python_Basic\\venv\n",
      "C:\\Users\\HP\\Desktop\\Python\\Pycharm_Python_Basic\\venv\\Include\n",
      "C:\\Users\\HP\\Desktop\\Python\\Pycharm_Python_Basic\\venv\\Lib\n",
      "C:\\Users\\HP\\Desktop\\Python\\Pycharm_Python_Basic\\venv\\Lib\\site-packages\n",
      "C:\\Users\\HP\\Desktop\\Python\\Pycharm_Python_Basic\\venv\\Lib\\site-packages\\pip\n",
      "C:\\Users\\HP\\Desktop\\Python\\Pycharm_Python_Basic\\venv\\Lib\\site-packages\\pip\\_internal\n",
      "C:\\Users\\HP\\Desktop\\Python\\Pycharm_Python_Basic\\venv\\Lib\\site-packages\\pip\\_internal\\cli\n",
      "C:\\Users\\HP\\Desktop\\Python\\Pycharm_Python_Basic\\venv\\Lib\\site-packages\\pip\\_internal\\commands\n",
      "C:\\Users\\HP\\Desktop\\Python\\Pycharm_Python_Basic\\venv\\Lib\\site-packages\\pip\\_internal\\distributions\n",
      "C:\\Users\\HP\\Desktop\\Python\\Pycharm_Python_Basic\\venv\\Lib\\site-packages\\pip\\_internal\\index\n",
      "C:\\Users\\HP\\Desktop\\Python\\Pycharm_Python_Basic\\venv\\Lib\\site-packages\\pip\\_internal\\locations\n",
      "C:\\Users\\HP\\Desktop\\Python\\Pycharm_Python_Basic\\venv\\Lib\\site-packages\\pip\\_internal\\metadata\n",
      "C:\\Users\\HP\\Desktop\\Python\\Pycharm_Python_Basic\\venv\\Lib\\site-packages\\pip\\_internal\\models\n",
      "C:\\Users\\HP\\Desktop\\Python\\Pycharm_Python_Basic\\venv\\Lib\\site-packages\\pip\\_internal\\network\n",
      "C:\\Users\\HP\\Desktop\\Python\\Pycharm_Python_Basic\\venv\\Lib\\site-packages\\pip\\_internal\\operations\n",
      "C:\\Users\\HP\\Desktop\\Python\\Pycharm_Python_Basic\\venv\\Lib\\site-packages\\pip\\_internal\\operations\\build\n"
     ]
    },
    {
     "name": "stdout",
     "output_type": "stream",
     "text": [
      "C:\\Users\\HP\\Desktop\\Python\\Pycharm_Python_Basic\\venv\\Lib\\site-packages\\pip\\_internal\\operations\\install\n",
      "C:\\Users\\HP\\Desktop\\Python\\Pycharm_Python_Basic\\venv\\Lib\\site-packages\\pip\\_internal\\req\n",
      "C:\\Users\\HP\\Desktop\\Python\\Pycharm_Python_Basic\\venv\\Lib\\site-packages\\pip\\_internal\\resolution\n",
      "C:\\Users\\HP\\Desktop\\Python\\Pycharm_Python_Basic\\venv\\Lib\\site-packages\\pip\\_internal\\resolution\\legacy\n",
      "C:\\Users\\HP\\Desktop\\Python\\Pycharm_Python_Basic\\venv\\Lib\\site-packages\\pip\\_internal\\resolution\\resolvelib\n",
      "C:\\Users\\HP\\Desktop\\Python\\Pycharm_Python_Basic\\venv\\Lib\\site-packages\\pip\\_internal\\utils\n",
      "C:\\Users\\HP\\Desktop\\Python\\Pycharm_Python_Basic\\venv\\Lib\\site-packages\\pip\\_internal\\vcs\n",
      "C:\\Users\\HP\\Desktop\\Python\\Pycharm_Python_Basic\\venv\\Lib\\site-packages\\pip\\_vendor\n",
      "C:\\Users\\HP\\Desktop\\Python\\Pycharm_Python_Basic\\venv\\Lib\\site-packages\\pip\\_vendor\\cachecontrol\n",
      "C:\\Users\\HP\\Desktop\\Python\\Pycharm_Python_Basic\\venv\\Lib\\site-packages\\pip\\_vendor\\cachecontrol\\caches\n",
      "C:\\Users\\HP\\Desktop\\Python\\Pycharm_Python_Basic\\venv\\Lib\\site-packages\\pip\\_vendor\\certifi\n",
      "C:\\Users\\HP\\Desktop\\Python\\Pycharm_Python_Basic\\venv\\Lib\\site-packages\\pip\\_vendor\\chardet\n",
      "C:\\Users\\HP\\Desktop\\Python\\Pycharm_Python_Basic\\venv\\Lib\\site-packages\\pip\\_vendor\\chardet\\cli\n",
      "C:\\Users\\HP\\Desktop\\Python\\Pycharm_Python_Basic\\venv\\Lib\\site-packages\\pip\\_vendor\\chardet\\metadata\n",
      "C:\\Users\\HP\\Desktop\\Python\\Pycharm_Python_Basic\\venv\\Lib\\site-packages\\pip\\_vendor\\colorama\n",
      "C:\\Users\\HP\\Desktop\\Python\\Pycharm_Python_Basic\\venv\\Lib\\site-packages\\pip\\_vendor\\distlib\n",
      "C:\\Users\\HP\\Desktop\\Python\\Pycharm_Python_Basic\\venv\\Lib\\site-packages\\pip\\_vendor\\distlib\\_backport\n",
      "C:\\Users\\HP\\Desktop\\Python\\Pycharm_Python_Basic\\venv\\Lib\\site-packages\\pip\\_vendor\\html5lib\n",
      "C:\\Users\\HP\\Desktop\\Python\\Pycharm_Python_Basic\\venv\\Lib\\site-packages\\pip\\_vendor\\html5lib\\filters\n",
      "C:\\Users\\HP\\Desktop\\Python\\Pycharm_Python_Basic\\venv\\Lib\\site-packages\\pip\\_vendor\\html5lib\\treeadapters\n",
      "C:\\Users\\HP\\Desktop\\Python\\Pycharm_Python_Basic\\venv\\Lib\\site-packages\\pip\\_vendor\\html5lib\\treebuilders\n",
      "C:\\Users\\HP\\Desktop\\Python\\Pycharm_Python_Basic\\venv\\Lib\\site-packages\\pip\\_vendor\\html5lib\\treewalkers\n",
      "C:\\Users\\HP\\Desktop\\Python\\Pycharm_Python_Basic\\venv\\Lib\\site-packages\\pip\\_vendor\\html5lib\\_trie\n",
      "C:\\Users\\HP\\Desktop\\Python\\Pycharm_Python_Basic\\venv\\Lib\\site-packages\\pip\\_vendor\\idna\n",
      "C:\\Users\\HP\\Desktop\\Python\\Pycharm_Python_Basic\\venv\\Lib\\site-packages\\pip\\_vendor\\msgpack\n",
      "C:\\Users\\HP\\Desktop\\Python\\Pycharm_Python_Basic\\venv\\Lib\\site-packages\\pip\\_vendor\\packaging\n",
      "C:\\Users\\HP\\Desktop\\Python\\Pycharm_Python_Basic\\venv\\Lib\\site-packages\\pip\\_vendor\\pep517\n",
      "C:\\Users\\HP\\Desktop\\Python\\Pycharm_Python_Basic\\venv\\Lib\\site-packages\\pip\\_vendor\\pep517\\in_process\n",
      "C:\\Users\\HP\\Desktop\\Python\\Pycharm_Python_Basic\\venv\\Lib\\site-packages\\pip\\_vendor\\pkg_resources\n",
      "C:\\Users\\HP\\Desktop\\Python\\Pycharm_Python_Basic\\venv\\Lib\\site-packages\\pip\\_vendor\\platformdirs\n",
      "C:\\Users\\HP\\Desktop\\Python\\Pycharm_Python_Basic\\venv\\Lib\\site-packages\\pip\\_vendor\\progress\n",
      "C:\\Users\\HP\\Desktop\\Python\\Pycharm_Python_Basic\\venv\\Lib\\site-packages\\pip\\_vendor\\requests\n",
      "C:\\Users\\HP\\Desktop\\Python\\Pycharm_Python_Basic\\venv\\Lib\\site-packages\\pip\\_vendor\\resolvelib\n",
      "C:\\Users\\HP\\Desktop\\Python\\Pycharm_Python_Basic\\venv\\Lib\\site-packages\\pip\\_vendor\\resolvelib\\compat\n",
      "C:\\Users\\HP\\Desktop\\Python\\Pycharm_Python_Basic\\venv\\Lib\\site-packages\\pip\\_vendor\\tenacity\n",
      "C:\\Users\\HP\\Desktop\\Python\\Pycharm_Python_Basic\\venv\\Lib\\site-packages\\pip\\_vendor\\tomli\n",
      "C:\\Users\\HP\\Desktop\\Python\\Pycharm_Python_Basic\\venv\\Lib\\site-packages\\pip\\_vendor\\urllib3\n",
      "C:\\Users\\HP\\Desktop\\Python\\Pycharm_Python_Basic\\venv\\Lib\\site-packages\\pip\\_vendor\\urllib3\\contrib\n",
      "C:\\Users\\HP\\Desktop\\Python\\Pycharm_Python_Basic\\venv\\Lib\\site-packages\\pip\\_vendor\\urllib3\\contrib\\_securetransport\n",
      "C:\\Users\\HP\\Desktop\\Python\\Pycharm_Python_Basic\\venv\\Lib\\site-packages\\pip\\_vendor\\urllib3\\packages\n",
      "C:\\Users\\HP\\Desktop\\Python\\Pycharm_Python_Basic\\venv\\Lib\\site-packages\\pip\\_vendor\\urllib3\\packages\\backports\n",
      "C:\\Users\\HP\\Desktop\\Python\\Pycharm_Python_Basic\\venv\\Lib\\site-packages\\pip\\_vendor\\urllib3\\packages\\ssl_match_hostname\n",
      "C:\\Users\\HP\\Desktop\\Python\\Pycharm_Python_Basic\\venv\\Lib\\site-packages\\pip\\_vendor\\urllib3\\util\n",
      "C:\\Users\\HP\\Desktop\\Python\\Pycharm_Python_Basic\\venv\\Lib\\site-packages\\pip\\_vendor\\webencodings\n",
      "C:\\Users\\HP\\Desktop\\Python\\Pycharm_Python_Basic\\venv\\Lib\\site-packages\\pip-21.3.1.dist-info\n",
      "C:\\Users\\HP\\Desktop\\Python\\Pycharm_Python_Basic\\venv\\Lib\\site-packages\\pkg_resources\n",
      "C:\\Users\\HP\\Desktop\\Python\\Pycharm_Python_Basic\\venv\\Lib\\site-packages\\pkg_resources\\extern\n",
      "C:\\Users\\HP\\Desktop\\Python\\Pycharm_Python_Basic\\venv\\Lib\\site-packages\\pkg_resources\\extern\\__pycache__\n",
      "C:\\Users\\HP\\Desktop\\Python\\Pycharm_Python_Basic\\venv\\Lib\\site-packages\\pkg_resources\\tests\n",
      "C:\\Users\\HP\\Desktop\\Python\\Pycharm_Python_Basic\\venv\\Lib\\site-packages\\pkg_resources\\tests\\data\n",
      "C:\\Users\\HP\\Desktop\\Python\\Pycharm_Python_Basic\\venv\\Lib\\site-packages\\pkg_resources\\tests\\data\\my-test-package-source\n",
      "C:\\Users\\HP\\Desktop\\Python\\Pycharm_Python_Basic\\venv\\Lib\\site-packages\\pkg_resources\\_vendor\n",
      "C:\\Users\\HP\\Desktop\\Python\\Pycharm_Python_Basic\\venv\\Lib\\site-packages\\pkg_resources\\_vendor\\packaging\n",
      "C:\\Users\\HP\\Desktop\\Python\\Pycharm_Python_Basic\\venv\\Lib\\site-packages\\pkg_resources\\_vendor\\packaging\\__pycache__\n",
      "C:\\Users\\HP\\Desktop\\Python\\Pycharm_Python_Basic\\venv\\Lib\\site-packages\\pkg_resources\\_vendor\\__pycache__\n",
      "C:\\Users\\HP\\Desktop\\Python\\Pycharm_Python_Basic\\venv\\Lib\\site-packages\\pkg_resources\\__pycache__\n",
      "C:\\Users\\HP\\Desktop\\Python\\Pycharm_Python_Basic\\venv\\Lib\\site-packages\\setuptools\n",
      "C:\\Users\\HP\\Desktop\\Python\\Pycharm_Python_Basic\\venv\\Lib\\site-packages\\setuptools\\command\n",
      "C:\\Users\\HP\\Desktop\\Python\\Pycharm_Python_Basic\\venv\\Lib\\site-packages\\setuptools\\extern\n",
      "C:\\Users\\HP\\Desktop\\Python\\Pycharm_Python_Basic\\venv\\Lib\\site-packages\\setuptools\\_distutils\n",
      "C:\\Users\\HP\\Desktop\\Python\\Pycharm_Python_Basic\\venv\\Lib\\site-packages\\setuptools\\_distutils\\command\n",
      "C:\\Users\\HP\\Desktop\\Python\\Pycharm_Python_Basic\\venv\\Lib\\site-packages\\setuptools\\_vendor\n",
      "C:\\Users\\HP\\Desktop\\Python\\Pycharm_Python_Basic\\venv\\Lib\\site-packages\\setuptools\\_vendor\\more_itertools\n",
      "C:\\Users\\HP\\Desktop\\Python\\Pycharm_Python_Basic\\venv\\Lib\\site-packages\\setuptools\\_vendor\\packaging\n",
      "C:\\Users\\HP\\Desktop\\Python\\Pycharm_Python_Basic\\venv\\Lib\\site-packages\\setuptools-60.2.0.dist-info\n",
      "C:\\Users\\HP\\Desktop\\Python\\Pycharm_Python_Basic\\venv\\Lib\\site-packages\\wheel\n",
      "C:\\Users\\HP\\Desktop\\Python\\Pycharm_Python_Basic\\venv\\Lib\\site-packages\\wheel\\cli\n",
      "C:\\Users\\HP\\Desktop\\Python\\Pycharm_Python_Basic\\venv\\Lib\\site-packages\\wheel\\vendored\n",
      "C:\\Users\\HP\\Desktop\\Python\\Pycharm_Python_Basic\\venv\\Lib\\site-packages\\wheel\\vendored\\packaging\n",
      "C:\\Users\\HP\\Desktop\\Python\\Pycharm_Python_Basic\\venv\\Lib\\site-packages\\wheel-0.37.1.dist-info\n",
      "C:\\Users\\HP\\Desktop\\Python\\Pycharm_Python_Basic\\venv\\Lib\\site-packages\\_distutils_hack\n",
      "C:\\Users\\HP\\Desktop\\Python\\Pycharm_Python_Basic\\venv\\Lib\\site-packages\\_distutils_hack\\__pycache__\n",
      "C:\\Users\\HP\\Desktop\\Python\\Pycharm_Python_Basic\\venv\\Lib\\site-packages\\__pycache__\n",
      "C:\\Users\\HP\\Desktop\\Python\\Pycharm_Python_Basic\\venv\\Scripts\n",
      "C:\\Users\\HP\\Desktop\\Python\\Python Basic Assignments\n",
      "C:\\Users\\HP\\Desktop\\Python\\Python Basic Assignments\\.ipynb_checkpoints\n",
      "C:\\Users\\HP\\Desktop\\Python\\Python Basic Programming Assignments\n",
      "C:\\Users\\HP\\Desktop\\Python\\Python Basic Programming Assignments\\.ipynb_checkpoints\n",
      "C:\\Users\\HP\\Desktop\\Python\\Python_Game_Package\n",
      "C:\\Users\\HP\\Desktop\\Python\\Python_Game_Package\\Desktop\n",
      "C:\\Users\\HP\\Desktop\\Python\\Python_Game_Package\\file\n",
      "C:\\Users\\HP\\Desktop\\Python\\Python_Game_Package\\Game\n",
      "C:\\Users\\HP\\Desktop\\Python\\Python_Game_Package\\Game\\Character\n",
      "C:\\Users\\HP\\Desktop\\Python\\Python_Game_Package\\Game\\Character\\__pycache__\n",
      "C:\\Users\\HP\\Desktop\\Python\\Python_Game_Package\\Game\\Weapons\n",
      "C:\\Users\\HP\\Desktop\\Python\\Python_Game_Package\\Game\\Weapons\\__pycache__\n",
      "C:\\Users\\HP\\Desktop\\Python\\Python_Game_Package\\Game\\__pycache__\n"
     ]
    }
   ],
   "source": [
    "for root,directory,file in os.walk(os.getcwd()):\n",
    "    print(root)"
   ]
  },
  {
   "cell_type": "code",
   "execution_count": 82,
   "id": "f25df464",
   "metadata": {},
   "outputs": [
    {
     "name": "stdout",
     "output_type": "stream",
     "text": [
      "['.ipynb_checkpoints', 'Class Task and challengs', 'Complete Python Module', 'Live Class Practice code', 'My_Python_Practices_Notes', 'newOs', 'Operating System', 'Pycharm_Python_Basic', 'Python Basic Assignments', 'Python Basic Programming Assignments', 'Python_Game_Package']\n",
      "[]\n",
      "['.ipynb_checkpoints']\n",
      "[]\n",
      "['.ipynb_checkpoints', '1.Python Overview', '10.OS and Shutil', '11.1 Logging', '11.2 Debugger', '12. Module and import', '13. OOPS', '14. Exception', '15.1 Merge multiple jupyter notebooks Project', '15.2 Send Email Project', '15.3.Image Resize Project', '16-17. Pandas-Numpy', '18.1 MATPLOTLIB', '18.2 SEABORN', '18.3.Plotly', '18.4.Cufflinks', '19.1.SqLite', '19.2.MySQL', '19.3 MongoDB', '19.4.Cassandra', '2.Installation', '20.Memory Management', '21.Flask', '22.Food App', '23. Django', '24.Weather App', '25.MemesGenerator App', '26. Django-blog app', '3. Basic variables', '4.Control Flow', '4.Expressions Operators and Precedence', '6. Variable-containers', '7.Functions', '8.Iterators Generators', '9.File I-O', 'AutoViz_Library_Shivan', 'Bokeh-20210806T093644Z-001', 'Dask (3)', 'FIFA (1)', 'FitBit (3)', 'flask_demo', 'Flight_Price', 'HRPrediction', 'QnA', 'zomato (4)']\n",
      "[]\n",
      "['.ipynb_checkpoints']\n",
      "[]\n",
      "['.ipynb_checkpoints']\n",
      "[]\n",
      "['.ipynb_checkpoints', 'img']\n",
      "[]\n",
      "[]\n",
      "['.ipynb_checkpoints', 'img']\n",
      "[]\n",
      "[]\n",
      "['.ipynb_checkpoints']\n",
      "[]\n",
      "['.ipynb_checkpoints']\n",
      "[]\n",
      "['.ipynb_checkpoints', 'img']\n",
      "[]\n",
      "[]\n",
      "['CODE', 'jupyter_docs', 'screeenshots']\n",
      "['.ipynb_checkpoints']\n",
      "[]\n",
      "['merge_IPYNB_img']\n",
      "[]\n",
      "[]\n",
      "['CODE', 'INSTRUCTION']\n",
      "['getCredentials', 'sendDetailedEmail']\n",
      "['__pycache__']\n",
      "[]\n",
      "['__pycache__']\n",
      "[]\n",
      "['email_pro_img']\n",
      "[]\n",
      "['.ipynb_checkpoints', 'Images', 'ResizedImages']\n",
      "[]\n",
      "[]\n",
      "[]\n",
      "['.ipynb_checkpoints', 'example_files']\n",
      "[]\n",
      "[]\n",
      "['.ipynb_checkpoints']\n",
      "[]\n",
      "['.ipynb_checkpoints']\n",
      "[]\n",
      "['.ipynb_checkpoints']\n",
      "[]\n",
      "['.ipynb_checkpoints']\n",
      "[]\n",
      "['.ipynb_checkpoints']\n",
      "[]\n",
      "['.ipynb_checkpoints', 'imgs', 'Imp files']\n",
      "[]\n",
      "[]\n",
      "['.ipynb_checkpoints']\n",
      "[]\n",
      "['.ipynb_checkpoints', 'mongo_img']\n",
      "[]\n",
      "['.ipynb_checkpoints', 'atlas', 'compass']\n",
      "[]\n",
      "[]\n",
      "[]\n",
      "['.ipynb_checkpoints', 'imgs']\n",
      "[]\n",
      "[]\n",
      "['.ipynb_checkpoints', 'Atoms', 'imgs', 'Spyder', 'Sublime']\n",
      "[]\n",
      "[]\n",
      "[]\n",
      "[]\n",
      "[]\n",
      "['.ipynb_checkpoints', 'DownloadImages', 'imgs', 'ModifiedImages', '__pycache__']\n",
      "[]\n",
      "[]\n",
      "[]\n",
      "[]\n",
      "[]\n",
      "['.ipynb_checkpoints', 'flask_demo', 'imgs']\n",
      "[]\n",
      "['.idea', 'static', 'templates']\n",
      "['inspectionProfiles']\n",
      "[]\n",
      "['css']\n",
      "[]\n",
      "[]\n",
      "[]\n",
      "['.ipynb_checkpoints', 'food-app', 'imgs']\n",
      "[]\n",
      "['food', 'food_app']\n",
      "['migrations', 'templates', '__pycache__']\n",
      "['__pycache__']\n",
      "[]\n",
      "[]\n",
      "[]\n",
      "['__pycache__']\n",
      "[]\n",
      "[]\n",
      "['.ipynb_checkpoints', 'hello_world', 'img']\n",
      "[]\n",
      "['.idea', 'hello_app', 'hello_world']\n",
      "['inspectionProfiles']\n",
      "[]\n",
      "['migrations', '__pycache__']\n",
      "['__pycache__']\n",
      "[]\n",
      "[]\n",
      "['__pycache__']\n",
      "[]\n",
      "[]\n",
      "['.ipynb_checkpoints', 'imgs', 'weather-app']\n",
      "[]\n",
      "[]\n",
      "['the_weather', 'weather']\n",
      "['__pycache__']\n",
      "[]\n",
      "['migrations', 'templates', '__pycache__']\n",
      "['__pycache__']\n",
      "[]\n",
      "['weather']\n",
      "[]\n",
      "[]\n",
      "['.ipynb_checkpoints', 'imgs', 'memegenerator']\n",
      "[]\n",
      "[]\n",
      "['static', 'templates']\n",
      "['fonts', 'images', 'memes']\n",
      "[]\n",
      "[]\n",
      "[]\n",
      "[]\n",
      "['img_doc']\n",
      "[]\n",
      "['.ipynb_checkpoints', 'img']\n",
      "[]\n",
      "[]\n",
      "['.ipynb_checkpoints']\n",
      "[]\n",
      "[]\n",
      "['.ipynb_checkpoints']\n",
      "[]\n",
      "['.ipynb_checkpoints']\n",
      "[]\n",
      "['.ipynb_checkpoints', 'imgs']\n",
      "[]\n",
      "[]\n",
      "['.ipynb_checkpoints']\n",
      "[]\n",
      "['autoviz_main', 'autoviz_test-master']\n",
      "[]\n",
      "['.ipynb_checkpoints', 'data']\n",
      "[]\n",
      "[]\n",
      "['Bokeh']\n",
      "[]\n",
      "['Dask']\n",
      "['.ipynb_checkpoints', 'dask-worker-space', 'data', 'Images']\n",
      "[]\n",
      "['worker-ta0gtefo']\n",
      "['storage']\n",
      "[]\n",
      "[]\n",
      "[]\n",
      "['FIFA', '__MACOSX']\n",
      "['.ipynb_checkpoints']\n",
      "[]\n",
      "['FIFA']\n",
      "[]\n",
      "['FitBit', '__MACOSX']\n",
      "['.ipynb_checkpoints']\n",
      "[]\n",
      "['FitBit']\n",
      "[]\n",
      "['.idea', 'static', 'templates']\n",
      "['inspectionProfiles']\n",
      "[]\n",
      "['css']\n",
      "[]\n",
      "[]\n",
      "['Flight_Price', '__MACOSX']\n",
      "['.ipynb_checkpoints', 'Flight_Ticket_Participant_Datasets-20190305T100527Z-001']\n",
      "[]\n",
      "['Flight_Ticket_Participant_Datasets']\n",
      "[]\n",
      "['Flight_Price']\n",
      "['Flight_Ticket_Participant_Datasets-20190305T100527Z-001']\n",
      "['Flight_Ticket_Participant_Datasets']\n",
      "[]\n",
      "['HRPrediction', '__MACOSX']\n",
      "['.ipynb_checkpoints']\n",
      "[]\n",
      "['HRPrediction']\n",
      "[]\n",
      "['ppt']\n",
      "[]\n",
      "['zomato', '__MACOSX']\n",
      "['.ipynb_checkpoints']\n",
      "[]\n",
      "['zomato']\n",
      "[]\n",
      "['.ipynb_checkpoints']\n",
      "[]\n",
      "['.ipynb_checkpoints']\n",
      "[]\n",
      "[]\n",
      "['.ipynb_checkpoints']\n",
      "[]\n",
      "['.idea', 'venv']\n",
      "['inspectionProfiles']\n",
      "[]\n",
      "['Include', 'Lib', 'Scripts']\n",
      "[]\n",
      "['site-packages']\n",
      "['pip', 'pip-21.3.1.dist-info', 'pkg_resources', 'setuptools', 'setuptools-60.2.0.dist-info', 'wheel', 'wheel-0.37.1.dist-info', '_distutils_hack', '__pycache__']\n",
      "['_internal', '_vendor']\n",
      "['cli', 'commands', 'distributions', 'index', 'locations', 'metadata', 'models', 'network', 'operations', 'req', 'resolution', 'utils', 'vcs']\n",
      "[]\n",
      "[]\n",
      "[]\n",
      "[]\n",
      "[]\n",
      "[]\n",
      "[]\n",
      "[]\n",
      "['build', 'install']\n",
      "[]\n",
      "[]\n",
      "[]\n",
      "['legacy', 'resolvelib']\n",
      "[]\n",
      "[]\n",
      "[]\n",
      "[]\n",
      "['cachecontrol', 'certifi', 'chardet', 'colorama', 'distlib', 'html5lib', 'idna', 'msgpack', 'packaging', 'pep517', 'pkg_resources', 'platformdirs', 'progress', 'requests', 'resolvelib', 'tenacity', 'tomli', 'urllib3', 'webencodings']\n",
      "['caches']\n",
      "[]\n",
      "[]\n",
      "['cli', 'metadata']\n",
      "[]\n",
      "[]\n",
      "[]\n",
      "['_backport']\n",
      "[]\n",
      "['filters', 'treeadapters', 'treebuilders', 'treewalkers', '_trie']\n",
      "[]\n",
      "[]\n",
      "[]\n",
      "[]\n",
      "[]\n",
      "[]\n",
      "[]\n",
      "[]\n",
      "['in_process']\n",
      "[]\n",
      "[]\n",
      "[]\n",
      "[]\n",
      "[]\n",
      "['compat']\n",
      "[]\n",
      "[]\n",
      "[]\n",
      "['contrib', 'packages', 'util']\n",
      "['_securetransport']\n",
      "[]\n",
      "['backports', 'ssl_match_hostname']\n",
      "[]\n",
      "[]\n",
      "[]\n",
      "[]\n",
      "[]\n",
      "['extern', 'tests', '_vendor', '__pycache__']\n",
      "['__pycache__']\n",
      "[]\n",
      "['data']\n",
      "['my-test-package-source']\n",
      "[]\n",
      "['packaging', '__pycache__']\n",
      "['__pycache__']\n",
      "[]\n",
      "[]\n",
      "[]\n",
      "['command', 'extern', '_distutils', '_vendor']\n",
      "[]\n",
      "[]\n",
      "['command']\n",
      "[]\n",
      "['more_itertools', 'packaging']\n",
      "[]\n",
      "[]\n",
      "[]\n",
      "['cli', 'vendored']\n",
      "[]\n",
      "['packaging']\n",
      "[]\n",
      "[]\n",
      "['__pycache__']\n",
      "[]\n",
      "[]\n",
      "[]\n",
      "['.ipynb_checkpoints']\n",
      "[]\n",
      "['.ipynb_checkpoints']\n",
      "[]\n",
      "['Desktop', 'file', 'Game']\n",
      "[]\n",
      "[]\n",
      "['Character', 'Weapons', '__pycache__']\n",
      "['__pycache__']\n",
      "[]\n",
      "['__pycache__']\n",
      "[]\n",
      "[]\n"
     ]
    }
   ],
   "source": [
    "for root,directory,file in os.walk(os.getcwd()):\n",
    "    print(directory)"
   ]
  },
  {
   "cell_type": "code",
   "execution_count": 83,
   "id": "72b96247",
   "metadata": {},
   "outputs": [
    {
     "name": "stdout",
     "output_type": "stream",
     "text": [
      "['.ipynb_checkpoints', 'Class Task and challengs', 'Complete Python Module', 'Live Class Practice code', 'My_Python_Practices_Notes', 'newOs', 'Operating System', 'Pycharm_Python_Basic', 'Python Basic Assignments', 'Python Basic Programming Assignments', 'Python_Game_Package']\n",
      "['.ipynb_checkpoints']\n",
      "['.ipynb_checkpoints', '1.Python Overview', '10.OS and Shutil', '11.1 Logging', '11.2 Debugger', '12. Module and import', '13. OOPS', '14. Exception', '15.1 Merge multiple jupyter notebooks Project', '15.2 Send Email Project', '15.3.Image Resize Project', '16-17. Pandas-Numpy', '18.1 MATPLOTLIB', '18.2 SEABORN', '18.3.Plotly', '18.4.Cufflinks', '19.1.SqLite', '19.2.MySQL', '19.3 MongoDB', '19.4.Cassandra', '2.Installation', '20.Memory Management', '21.Flask', '22.Food App', '23. Django', '24.Weather App', '25.MemesGenerator App', '26. Django-blog app', '3. Basic variables', '4.Control Flow', '4.Expressions Operators and Precedence', '6. Variable-containers', '7.Functions', '8.Iterators Generators', '9.File I-O', 'AutoViz_Library_Shivan', 'Bokeh-20210806T093644Z-001', 'Dask (3)', 'FIFA (1)', 'FitBit (3)', 'flask_demo', 'Flight_Price', 'HRPrediction', 'QnA', 'zomato (4)']\n",
      "['.ipynb_checkpoints']\n",
      "['.ipynb_checkpoints']\n",
      "['.ipynb_checkpoints', 'img']\n",
      "['.ipynb_checkpoints', 'img']\n",
      "['.ipynb_checkpoints']\n",
      "['.ipynb_checkpoints']\n",
      "['.ipynb_checkpoints', 'img']\n",
      "['CODE', 'jupyter_docs', 'screeenshots']\n",
      "['.ipynb_checkpoints']\n",
      "['merge_IPYNB_img']\n",
      "['CODE', 'INSTRUCTION']\n",
      "['getCredentials', 'sendDetailedEmail']\n",
      "['__pycache__']\n",
      "['__pycache__']\n",
      "['email_pro_img']\n",
      "['.ipynb_checkpoints', 'Images', 'ResizedImages']\n",
      "['.ipynb_checkpoints', 'example_files']\n",
      "['.ipynb_checkpoints']\n",
      "['.ipynb_checkpoints']\n",
      "['.ipynb_checkpoints']\n",
      "['.ipynb_checkpoints']\n",
      "['.ipynb_checkpoints']\n",
      "['.ipynb_checkpoints', 'imgs', 'Imp files']\n",
      "['.ipynb_checkpoints']\n",
      "['.ipynb_checkpoints', 'mongo_img']\n",
      "['.ipynb_checkpoints', 'atlas', 'compass']\n",
      "['.ipynb_checkpoints', 'imgs']\n",
      "['.ipynb_checkpoints', 'Atoms', 'imgs', 'Spyder', 'Sublime']\n",
      "['.ipynb_checkpoints', 'DownloadImages', 'imgs', 'ModifiedImages', '__pycache__']\n",
      "['.ipynb_checkpoints', 'flask_demo', 'imgs']\n",
      "['.idea', 'static', 'templates']\n",
      "['inspectionProfiles']\n",
      "['css']\n",
      "['.ipynb_checkpoints', 'food-app', 'imgs']\n",
      "['food', 'food_app']\n",
      "['migrations', 'templates', '__pycache__']\n",
      "['__pycache__']\n",
      "['__pycache__']\n",
      "['.ipynb_checkpoints', 'hello_world', 'img']\n",
      "['.idea', 'hello_app', 'hello_world']\n",
      "['inspectionProfiles']\n",
      "['migrations', '__pycache__']\n",
      "['__pycache__']\n",
      "['__pycache__']\n",
      "['.ipynb_checkpoints', 'imgs', 'weather-app']\n",
      "['the_weather', 'weather']\n",
      "['__pycache__']\n",
      "['migrations', 'templates', '__pycache__']\n",
      "['__pycache__']\n",
      "['weather']\n",
      "['.ipynb_checkpoints', 'imgs', 'memegenerator']\n",
      "['static', 'templates']\n",
      "['fonts', 'images', 'memes']\n",
      "['img_doc']\n",
      "['.ipynb_checkpoints', 'img']\n",
      "['.ipynb_checkpoints']\n",
      "['.ipynb_checkpoints']\n",
      "['.ipynb_checkpoints']\n",
      "['.ipynb_checkpoints', 'imgs']\n",
      "['.ipynb_checkpoints']\n",
      "['autoviz_main', 'autoviz_test-master']\n",
      "['.ipynb_checkpoints', 'data']\n",
      "['Bokeh']\n",
      "['Dask']\n",
      "['.ipynb_checkpoints', 'dask-worker-space', 'data', 'Images']\n",
      "['worker-ta0gtefo']\n",
      "['storage']\n",
      "['FIFA', '__MACOSX']\n",
      "['.ipynb_checkpoints']\n",
      "['FIFA']\n",
      "['FitBit', '__MACOSX']\n",
      "['.ipynb_checkpoints']\n",
      "['FitBit']\n",
      "['.idea', 'static', 'templates']\n",
      "['inspectionProfiles']\n",
      "['css']\n",
      "['Flight_Price', '__MACOSX']\n",
      "['.ipynb_checkpoints', 'Flight_Ticket_Participant_Datasets-20190305T100527Z-001']\n",
      "['Flight_Ticket_Participant_Datasets']\n",
      "['Flight_Price']\n",
      "['Flight_Ticket_Participant_Datasets-20190305T100527Z-001']\n",
      "['Flight_Ticket_Participant_Datasets']\n",
      "['HRPrediction', '__MACOSX']\n",
      "['.ipynb_checkpoints']\n",
      "['HRPrediction']\n",
      "['ppt']\n",
      "['zomato', '__MACOSX']\n",
      "['.ipynb_checkpoints']\n",
      "['zomato']\n",
      "['.ipynb_checkpoints']\n",
      "['.ipynb_checkpoints']\n",
      "['.ipynb_checkpoints']\n",
      "['.idea', 'venv']\n",
      "['inspectionProfiles']\n",
      "['Include', 'Lib', 'Scripts']\n",
      "['site-packages']\n",
      "['pip', 'pip-21.3.1.dist-info', 'pkg_resources', 'setuptools', 'setuptools-60.2.0.dist-info', 'wheel', 'wheel-0.37.1.dist-info', '_distutils_hack', '__pycache__']\n",
      "['_internal', '_vendor']\n",
      "['cli', 'commands', 'distributions', 'index', 'locations', 'metadata', 'models', 'network', 'operations', 'req', 'resolution', 'utils', 'vcs']\n",
      "['build', 'install']\n",
      "['legacy', 'resolvelib']\n",
      "['cachecontrol', 'certifi', 'chardet', 'colorama', 'distlib', 'html5lib', 'idna', 'msgpack', 'packaging', 'pep517', 'pkg_resources', 'platformdirs', 'progress', 'requests', 'resolvelib', 'tenacity', 'tomli', 'urllib3', 'webencodings']\n",
      "['caches']\n",
      "['cli', 'metadata']\n",
      "['_backport']\n",
      "['filters', 'treeadapters', 'treebuilders', 'treewalkers', '_trie']\n",
      "['in_process']\n",
      "['compat']\n",
      "['contrib', 'packages', 'util']\n",
      "['_securetransport']\n",
      "['backports', 'ssl_match_hostname']\n",
      "['extern', 'tests', '_vendor', '__pycache__']\n",
      "['__pycache__']\n",
      "['data']\n",
      "['my-test-package-source']\n",
      "['packaging', '__pycache__']\n",
      "['__pycache__']\n",
      "['command', 'extern', '_distutils', '_vendor']\n",
      "['command']\n",
      "['more_itertools', 'packaging']\n",
      "['cli', 'vendored']\n",
      "['packaging']\n",
      "['__pycache__']\n",
      "['.ipynb_checkpoints']\n",
      "['.ipynb_checkpoints']\n",
      "['Desktop', 'file', 'Game']\n",
      "['Character', 'Weapons', '__pycache__']\n",
      "['__pycache__']\n",
      "['__pycache__']\n"
     ]
    }
   ],
   "source": [
    "for root,directory,file in os.walk(os.getcwd()):\n",
    "    if len(directory)!=0:\n",
    "        print(directory)"
   ]
  },
  {
   "cell_type": "code",
   "execution_count": 84,
   "id": "12e706a3",
   "metadata": {},
   "outputs": [
    {
     "name": "stdout",
     "output_type": "stream",
     "text": [
      "['OS(Operating  System).ipynb', 'README.md']\n",
      "['OS(Operating  System)-checkpoint.ipynb', 'PYRAMID_PATTERN-checkpoint.ipynb']\n",
      "['INeuron Task1.ipynb', 'INeuron Task2.ipynb']\n",
      "['INeuron Task1-checkpoint.ipynb', 'INeuron Task2-checkpoint.ipynb']\n",
      "['18.3.Plotly.7z', '19.2.MySQL.7z', '19.3 MongoDB.7z', '19.4.Cassandra.7z', '23. Django.7z', 'Advanced-House-Price-Prediction--master.zip', 'AutoViz_Library_Shivan.zip', 'Bokeh-20210806T093644Z-001.zip', 'Dask (3).zip', 'Django (1).docx', 'Feature Engineering Part 1.ipynb', 'FIFA (1).zip', 'FitBit (3).zip', 'Flight_Price.zip', 'HRPrediction.zip', 'Python Table of Content.xlsx', 'Streamlit-20210805T124211Z-001.zip', 'Tkinter.ipynb', 'zomato (4).zip']\n",
      "['Feature Engineering Part 1-checkpoint.ipynb', 'Tkinter-checkpoint.ipynb']\n",
      "['1. Programming Language Overview.ipynb']\n",
      "['1. Programming Language Overview-checkpoint.ipynb']\n",
      "['10. OS and shutil module.ipynb', 'python interview 2.ipynb']\n",
      "['10. OS and shutil module-checkpoint.ipynb', 'python interview 2-checkpoint.ipynb']\n",
      "['11.1 Logger.ipynb']\n",
      "['11.1 Logger-checkpoint.ipynb']\n",
      "['log.PNG', 'logger.PNG', 'logger2.PNG', 'mainLog.PNG']\n",
      "['11.2 DebuggingNotebook.ipynb', 'debugging.py', 'pycharm_debugger.docx']\n",
      "['11.2 DebuggingNotebook-checkpoint.ipynb']\n",
      "['1.PNG', '10.PNG', '11.PNG', '2.PNG', '3.PNG', '4.PNG', '5.PNG', '6.PNG', '7.PNG', '8.PNG', '9.PNG', 'debugger-code.png', 'process1.png', 'process2.png', 'process3.png', 'process4.png']\n",
      "['12. Modules and import statement.ipynb', 'addition.py', 'example_module.py', 'importing.py']\n",
      "['12. Modules and import statement-checkpoint.ipynb']\n",
      "['13. OOPS_latest.ipynb', 'private_method.PNG', 'StudentDetails', 'test', 'test1']\n",
      "['13. OOPS_latest-checkpoint.ipynb']\n",
      "['14. Error handling.ipynb']\n",
      "['14. Error handling-checkpoint.ipynb']\n",
      "['assertion.png']\n",
      "['LICENSE']\n",
      "['mergeJupyterFiles.ipynb', 'mergeJupyterFiles.py', 'README.md']\n",
      "['mergeJupyterFiles-checkpoint.ipynb']\n",
      "['15.1 how to run.ipynb']\n",
      "['workflow_mergeIPYNB', 'workflow_mergeIPYNB.png']\n",
      "['command.png', 'error.png', 'mergedNotebook.png']\n",
      "[]\n",
      "['main.py']\n",
      "['config.ini', 'read.py']\n",
      "['read.cpython-37.pyc']\n",
      "['email.py', 'FAQ1.pdf', 'Template_corona_info.html']\n",
      "['email.cpython-37.pyc']\n",
      "['15.2 send email documentation.ipynb']\n",
      "['00HLD.png', '01accSetting.png', '02securitySetting.png', '03TwoStepVar.png', '04AppPass.png', '05SelectApp.png', '06nameApp.png', '07generatePass.png', '08Final.png', '08setPassEmail.png', 'High_level_daigram', 'Screenshot from 2020-08-13 15-10-57.png']\n",
      "['ImageResize.ipynb', 'ImageResize.py']\n",
      "['ImageResize-checkpoint.ipynb']\n",
      "['photo-1484053801020-3a74ca659b03.jpg', 'photo-1493976040374-85c8e12f0c0e.jpg', 'photo-1507143550189-fed454f93097.jpg', 'photo-1513938709626-033611b8cc03.jpg', 'photo-1542281286-9e0a16bb7366.jpg', 'photo-1542397284385-6010376c5337.jpg', 'photo-1542640244-7e672d6cef4e.jpg', 'photo-1543739970-9f00688c2285.jpg', 'photo-1543868100-d3b62207712e.jpg', 'photo-1547185942-2b5661136b1b.jpg']\n",
      "['Image_1.png', 'Image_10.png', 'Image_2.png', 'Image_3.png', 'Image_4.png', 'Image_5.png', 'Image_6.png', 'Image_7.png', 'Image_8.png', 'Image_9.png']\n",
      "['16.1 Pandas file read and write operation.ipynb', '16.2 Pandas data manipulation .ipynb', '16.3 Pandas data manipulation_continue .ipynb', '17. Numpy in details.ipynb', 'mydata.h5', 'mydata2.sqlite', 'my_database4.db', 'my_database5.db']\n",
      "['16.1 Pandas file read and write operation-checkpoint.ipynb', '16.2 Pandas data manipulation -checkpoint.ipynb', '16.3 Pandas data manipulation_continue -checkpoint.ipynb', '17. Numpy in details-checkpoint.ipynb']\n",
      "['csv_mindex.csv', 'employee.xlsx', 'ex1.csv', 'ex1.xlsx', 'ex2.csv', 'ex3.csv', 'ex3.txt', 'ex4.csv', 'ex5.csv', 'ex6.csv', 'ex7.csv', 'example.json', 'fdic_failed_bank_list.html', 'frame_pickle', 'out.csv', 'out1.csv', 'out2.csv', 'out3.csv', 'stock_px.csv', 'Store_Sales_Data.xlsx', 'test.tsv', 'test_file.csv', 'tseries.csv']\n",
      "['18.1.1 data visualization Introduction.ipynb', '18.1.2 matplotlib boxplot.ipynb', '18.1.3 matplotlib area and scatter plot.ipynb', '18.1.4 matplotlib pi plot.ipynb', '18.1.5 matplotlib 3D plot.ipynb', '18.1.6 matplotlib styling.ipynb', 'my_figure.png', 'my_figure_dpi_300.png']\n",
      "['18.1.1 data visualization Introduction-checkpoint.ipynb', '18.1.2 matplotlib boxplot-checkpoint.ipynb', '18.1.3 matplotlib area and scatter plot-checkpoint.ipynb', '18.1.4 matplotlib pi plot-checkpoint.ipynb', '18.1.5 matplotlib 3D plot-checkpoint.ipynb', '18.1.6 matplotlib styling-checkpoint.ipynb']\n",
      "['18.2.1 seaborn visualization .ipynb', '18.2.2 seaborn Numerical data plot.ipynb', '18.2.3 seaborn categorical data plot .ipynb', '18.2.4 seaborn distribution data plot.ipynb', '18.2.5 seaborn regression plot.ipynb', '18.2.6 seaborn styling.ipynb']\n",
      "['18.2.1 seaborn visualization -checkpoint.ipynb', '18.2.2 seaborn Numerical data plot-checkpoint.ipynb', '18.2.3 seaborn categorical data plot -checkpoint.ipynb', '18.2.4 seaborn distribution data plot-checkpoint.ipynb', '18.2.5 seaborn regression plot-checkpoint.ipynb', '18.2.6 seaborn styling-checkpoint.ipynb', 'session 9.1 seaborn visualization -checkpoint.ipynb']\n",
      "['18.3.Plotly.ipynb', 'first_figure.html']\n",
      "['18.3.Plotly-checkpoint.ipynb', '18.4.Cufflinks-checkpoint.ipynb']\n",
      "['18.4.Cufflinks.ipynb']\n",
      "['18.3.Plotly-checkpoint.ipynb', '18.4.Cufflinks-checkpoint.ipynb']\n",
      "['19.1.SQLite.ipynb', 'company_database.db', 'company_database1.db', 'company_database1.db-journal', 'food_database.db']\n",
      "['19.1.SQLite-checkpoint.ipynb']\n",
      "['19.2.MySQL.ipynb', 'glass.data', 'mydata.csv', 'MYSQL application.docx', 'MYSQL application.pdf', 'mysql_final.ipynb']\n",
      "['19.2.MySQL-checkpoint.ipynb', 'mysql_final-checkpoint.ipynb']\n",
      "['mysql1.jpg', 'mysql10.jpg', 'mysql11.jpg', 'mysql12.jpg', 'mysql13.jpg', 'mysql14.jpg', 'mysql15.jpg', 'mysql16.jpg', 'mysql17.jpg', 'mysql18.jpg', 'mysql19.jpg', 'mysql2.jpg', 'mysql20.jpg', 'mysql21.jpg', 'mysql22.jpg', 'mysql23.jpg', 'mysql24.jpg', 'mysql25.jpg', 'mysql26.jpg', 'mysql27.jpg', 'mysql28.jpg', 'mysql29.jpg', 'mysql3.jpg', 'mysql30.jpg', 'mysql31.jpg', 'mysql32.jpg', 'mysql33.jpg', 'mysql4.jpg', 'mysql5.jpg', 'mysql6.jpg', 'mysql7.jpg', 'mysql8.jpg', 'mysql9.jpg']\n",
      "['checkListOfDatabases.py', 'connectToMysql.py', 'createDatabase.py', 'createTableInDB.py', 'deleteFromTable.py', 'glass.data', 'groupByOrderBy.py', 'insertFromFile.py', 'insertToTable.py', 'selectFromDb.py', 'selectIntoDataframe.py', 'Untitled.ipynb', 'updateTable.py']\n",
      "['Untitled-checkpoint.ipynb']\n",
      "['19.3.1 mongoDB introduction.ipynb', '19.3.2 pyMongo.ipynb', '19.3.3 Atlas.ipynb']\n",
      "['19.3.1 mongoDB introduction-checkpoint.ipynb', '19.3.2 pyMongo-checkpoint.ipynb', '19.3.3 Atlas-checkpoint.ipynb']\n",
      "['comp1.JPG', 'comp2.JPG', 'comp3.JPG', 'comp4.JPG', 'compass1.JPG', 'installed1.JPG', 'mDBCommServer.JPG', 'msi1.JPG', 'msi2.JPG', 'msi3.JPG', 'msi4.JPG', 'msi5.JPG', 'msi6.JPG', 'Screen Shot 16-08-2020 at 11.41.png', 'Screen Shot 16-08-2020 at 11.42.png', 'Screen Shot 16-08-2020 at 11.51.png', 'Screen Shot 16-08-2020 at 11.56.png', 'Screen Shot 16-08-2020 at 11.57.png']\n",
      "[]\n",
      "['01.login.png', '02.CreateOrg.png', '03NameOrg.png', '04.AddMemberCreateOrg.png', '05CreatePro.png', '06CreatePro2.png', '07CreateProAddMember.png', '08BuildCluseter.png', '09CreateFreeCluster.png', '10CreateFreeStarterCluster.png', '11Click.png', '12WhitelistIP.png', '13CreatemongoDBUSER.png', '14Connect.png', '15SelectPyDriver_version.png', '16CopyConnectionString.png', '17AddUser.png', '18CreatePWDCopy.png', '19USERS_withRWaccess.png', '20FinalVerification.png', 'Screenshot from 2020-08-18 14-27-31.png']\n",
      "['c1.JPG', 'c2.JPG', 'c3.JPG', 'c4.JPG', 'c5.JPG', 'c6.JPG', 'c7.JPG', 'c8.JPG', 'c9.JPG']\n",
      "['casandra command.txt', 'Cassandra.ipynb', 'cassandratest.py', 'Cassndra Challanage.ipynb', 'secure-connect-ineuron.zip']\n",
      "['Cassandra-checkpoint.ipynb']\n",
      "['ApacheThrift1.jpg', 'ApacheThrift2.jpg', 'cassandra1.jpg', 'cassandra10.jpg', 'cassandra11.jpg', 'cassandra11_keyspace.jpg', 'cassandra11_table.jpg', 'cassandra12.jpg', 'cassandra12_insertINtable.jpg', 'cassandra13.jpg', 'cassandra14.jpg', 'cassandra15.jpg', 'cassandra16.jpg', 'cassandra17.jpg', 'cassandra2.jpg', 'cassandra3.jpg', 'cassandra4.jpg', 'cassandra5.jpg', 'cassandra6.jpg', 'cassandra7.jpg', 'cassandra8.jpg', 'cassandra9.jpg', 'environmentVariable.jpg', 'environmentVariable2.jpg', 'environmentVariable3.jpg', 'oracle_jre.jpg', 'oracle_jre2.jpg', 'oracle_jre3.jpg', 'oracle_jre4.jpg', 'oracle_jre5.jpg', 'python2.jpg', 'systeminfo.jpg']\n",
      "['2.Installation.ipynb', 'hello_jupyter.ipynb']\n",
      "['2.Installation-checkpoint.ipynb', 'hello_jupyter-checkpoint.ipynb']\n",
      "['addNumber.py']\n",
      "['atom01.jpg', 'atom02.jpg', 'atom03.jpg', 'atom04.jpg', 'install01.jpg', 'install02.jpg', 'install03.jpg', 'install04.jpg', 'install05.jpg', 'install06.jpg', 'install07.jpg', 'install08.jpg', 'install09.jpg', 'install10.jpg', 'install11.jpg', 'install12.jpg', 'install13.jpg', 'install14.jpg', 'open1.jpg', 'open1_2.jpg', 'open1_3.jpg', 'open2.jpg', 'open2_2.jpg', 'open2_3.jpg', 'open2_4.jpg', 'open3.jpg', 'open3_2.jpg', 'sublime01.jpg', 'sublime02.jpg', 'sublime03.jpg']\n",
      "['hello_spyder.py']\n",
      "['addNumber.py']\n",
      "['20.Memory Management.ipynb', 'Image_Processing.py', 'MultiProcessing.py', 'threading.py']\n",
      "['20.Memory Management-checkpoint.ipynb', 'Untitled-checkpoint.ipynb']\n",
      "['photo-1484053801020-3a74ca659b03.jpg', 'photo-1493976040374-85c8e12f0c0e.jpg', 'photo-1507143550189-fed454f93097.jpg', 'photo-1513938709626-033611b8cc03.jpg', 'photo-1542281286-9e0a16bb7366.jpg', 'photo-1542397284385-6010376c5337.jpg', 'photo-1542640244-7e672d6cef4e.jpg', 'photo-1543739970-9f00688c2285.jpg', 'photo-1543868100-d3b62207712e.jpg', 'photo-1547185942-2b5661136b1b.jpg']\n",
      "['MultiProcessing_Diagram.png', 'MultiProcessing_Diagram2.png', 'MultiProcessing_Diagram3.png', 'MultiProcessing_Diagram4.png', 'Thread_Diagram.png', 'Thread_Diagram2.png', 'Thread_Diagram3.png']\n",
      "['photo-1484053801020-3a74ca659b03.jpg', 'photo-1493976040374-85c8e12f0c0e.jpg', 'photo-1507143550189-fed454f93097.jpg', 'photo-1513938709626-033611b8cc03.jpg', 'photo-1542281286-9e0a16bb7366.jpg', 'photo-1542397284385-6010376c5337.jpg', 'photo-1542640244-7e672d6cef4e.jpg', 'photo-1543739970-9f00688c2285.jpg', 'photo-1543868100-d3b62207712e.jpg', 'photo-1547185942-2b5661136b1b.jpg']\n",
      "['threading.cpython-38.pyc']\n",
      "['21.Flask.ipynb', 'Flask.docx', 'flask_demo.7z']\n",
      "['21.Flask-checkpoint.ipynb']\n",
      "['app.py', 'app1.py']\n",
      "['.gitignore', 'flask_demo.iml', 'misc.xml', 'modules.xml', 'workspace.xml']\n",
      "['profiles_settings.xml', 'Project_Default.xml']\n",
      "[]\n",
      "['main.css', 'style.css']\n",
      "['index.html', 'results.html']\n",
      "['flask1.png', 'flask2.png', 'flask3.png', 'flask4.png', 'flask5.png', 'flask6.png']\n",
      "['22.FoodApp.ipynb', 'Food.docx']\n",
      "['22.FoodApp-checkpoint.ipynb']\n",
      "['db.sqlite3', 'manage.py', 'requirements.txt']\n",
      "['admin.py', 'apps.py', 'forms.py', 'models.py', 'tests.py', 'urls.py', 'views.py', '__init__.py']\n",
      "['0001_initial.py', '0002_remove_food_calories.py', '0003_food_calories.py', '__init__.py']\n",
      "['0001_initial.cpython-37.pyc', '0001_initial.cpython-38.pyc', '0002_remove_food_calories.cpython-37.pyc', '0003_food_calories.cpython-37.pyc', '__init__.cpython-37.pyc', '__init__.cpython-38.pyc']\n",
      "['base.html', 'home.html']\n",
      "['admin.cpython-37.pyc', 'admin.cpython-38.pyc', 'forms.cpython-37.pyc', 'models.cpython-37.pyc', 'models.cpython-38.pyc', 'urls.cpython-37.pyc', 'urls.cpython-38.pyc', 'views.cpython-37.pyc', 'views.cpython-38.pyc', '__init__.cpython-37.pyc', '__init__.cpython-38.pyc']\n",
      "['asgi.py', 'settings.py', 'urls.py', 'wsgi.py', '__init__.py']\n",
      "['settings.cpython-37.pyc', 'settings.cpython-38.pyc', 'urls.cpython-37.pyc', 'urls.cpython-38.pyc', 'wsgi.cpython-37.pyc', 'wsgi.cpython-38.pyc', '__init__.cpython-37.pyc', '__init__.cpython-38.pyc']\n",
      "['architecture.PNG', 'display.PNG', 'folder_structure.PNG', 'libraries.PNG', 'model.PNG', 'output1.PNG', 'output2.PNG']\n",
      "['23 Django.ipynb', 'hello_world.zip']\n",
      "['23 Django-checkpoint.ipynb']\n",
      "['db.sqlite3', 'manage.py']\n",
      "['.gitignore', 'hello_world.iml', 'misc.xml', 'modules.xml', 'workspace.xml']\n",
      "['profiles_settings.xml', 'Project_Default.xml']\n",
      "['admin.py', 'apps.py', 'models.py', 'tests.py', 'urls.py', 'views.py', '__init__.py']\n",
      "['__init__.py']\n",
      "['__init__.cpython-38.pyc']\n",
      "['admin.cpython-38.pyc', 'models.cpython-38.pyc', 'urls.cpython-38.pyc', 'views.cpython-38.pyc', '__init__.cpython-38.pyc']\n",
      "['asgi.py', 'settings.py', 'urls.py', 'wsgi.py', '__init__.py']\n",
      "['settings.cpython-38.pyc', 'urls.cpython-38.pyc', 'wsgi.cpython-38.pyc', '__init__.cpython-38.pyc']\n",
      "['django_flow.png', 'django_install.png', 'manage.png', 'step1.png', 'step2.png', 'step3.png', 'step4.png', 'step5.png', 'step6.png', 'step7.png', 'step8.png', 'step9.png', 'url.png']\n",
      "['24.WeatherApp.ipynb', 'WeatherApp.docx']\n",
      "['24.WeatherApp-checkpoint.ipynb']\n",
      "['architecture.PNG', 'folder_structure.PNG', 'form_class.PNG', 'images.zip', 'libraries.PNG', 'output1.PNG', 'output2.PNG', 'result1.PNG', 'result2.PNG']\n",
      "['db.sqlite3', 'manage.py']\n",
      "['settings.py', 'urls.py', 'wsgi.py', '__init__.py']\n",
      "['settings.cpython-35.pyc', 'settings.cpython-37.pyc', 'settings.cpython-38.pyc', 'urls.cpython-35.pyc', 'urls.cpython-37.pyc', 'urls.cpython-38.pyc', 'wsgi.cpython-35.pyc', 'wsgi.cpython-37.pyc', 'wsgi.cpython-38.pyc', '__init__.cpython-35.pyc', '__init__.cpython-37.pyc', '__init__.cpython-38.pyc']\n",
      "['admin.py', 'apps.py', 'forms.py', 'models.py', 'tests.py', 'urls.py', 'views.py', '__init__.py']\n",
      "['0001_initial.py', '__init__.py']\n",
      "['0001_initial.cpython-35.pyc', '0001_initial.cpython-37.pyc', '0001_initial.cpython-38.pyc', '__init__.cpython-35.pyc', '__init__.cpython-37.pyc', '__init__.cpython-38.pyc']\n",
      "[]\n",
      "['index.html']\n",
      "['admin.cpython-35.pyc', 'admin.cpython-37.pyc', 'admin.cpython-38.pyc', 'forms.cpython-35.pyc', 'forms.cpython-37.pyc', 'forms.cpython-38.pyc', 'models.cpython-35.pyc', 'models.cpython-37.pyc', 'models.cpython-38.pyc', 'urls.cpython-35.pyc', 'urls.cpython-37.pyc', 'urls.cpython-38.pyc', 'views.cpython-35.pyc', 'views.cpython-37.pyc', 'views.cpython-38.pyc', '__init__.cpython-35.pyc', '__init__.cpython-37.pyc', '__init__.cpython-38.pyc']\n",
      "['25.Memes Generator.ipynb', 'MemesGenerator.docx']\n",
      "['25.Memes Generator-checkpoint.ipynb']\n",
      "['architecture.png', 'folder_structure.png', 'home.png', 'images.zip', 'image_upload.png', 'init_flask.png', 'input_texts.png', 'libraries.png', 'memegenerate.png', 'output.png', 'route.png', 'text_input.png']\n",
      "['dao.py', 'memegen.db', 'memegen.py', 'memegenerator.py']\n",
      "[]\n",
      "['Impact.ttf']\n",
      "['aliens.jpg', 'awkwardpenguin.jpg', 'bill-lumbergh.jpg', 'blb.png', 'confessionbear.jpg', 'download (1).jpg', 'download.jpg', 'successkid.jpg']\n",
      "['10.png', '11.png', '13.png', '14.png', '15.png', '8.png', '9.png']\n",
      "['grid.html', 'image_upload.html', 'make_meme.html']\n",
      "['Django_blog_documentation.ipynb', 'first_django_project.zip']\n",
      "['admin.png', 'blogview1.png', 'blogview2.png', 'blog_flowchart.png', 'blog_post.png', 'form.png', 'login.png', 'media.png', 'media_path.png', 'profile_model.png', 'registration.png', 'result1.png', 'result2.png', 'result3.png', 'result4.png', 'settings.png', 'signal.png', 'static_structure.png', 'user_view1.png', 'venv.png']\n",
      "['3. Python basic variables.ipynb']\n",
      "['3. Python basic variables-checkpoint.ipynb']\n",
      "['pythonVar.png']\n",
      "['4.Control Flow.ipynb']\n",
      "['4.Control Flow-checkpoint.ipynb']\n",
      "['4 Expressions, Operators, and Precedence.ipynb']\n",
      "['6.1 Number methods.ipynb', '6.2 String manipulation and methods.ipynb', '6.3 python list.ipynb', '6.4 python tuple and sets.ipynb', '6.5 Dictionary.ipynb']\n",
      "['6.1 Number methods-checkpoint.ipynb', '6.2 String manipulation and methods-checkpoint.ipynb', '6.3 python list-checkpoint.ipynb', '6.4 python tuple and sets-checkpoint.ipynb', '6.5 Dictionary-checkpoint.ipynb']\n",
      "['07 Functions.ipynb']\n",
      "['07 Functions-checkpoint.ipynb']\n",
      "['8.Iterators and Generators.ipynb']\n",
      "['8.Iterators and Generators-checkpoint.ipynb']\n",
      "['800px-PascalTriangleFibanacci.png', 'Fibonacci_Number.jpg']\n",
      "['9.File Input and Output.ipynb', 'newfile.txt', 'test.txt', 'test2']\n",
      "['9.File Input and Output-checkpoint.ipynb']\n",
      "['steps follow.txt']\n",
      "['AutoViz_1.ipynb', 'AutoVIz_2.ipynb', 'AutoViz_doc.docx']\n",
      "['AutoViz_test.ipynb']\n",
      "['AutoViz_test-checkpoint.ipynb', 'AutoViz_test-Copy1-checkpoint.ipynb']\n",
      "['appstore_games.csv', 'books.csv', 'border_cross.csv', 'BRAZIL_CITIES.csv', 'census-income.data.txt', 'census-income.names.txt', 'census-income.test', 'communities.data.txt', 'communities.names.txt', 'heart.csv', 'listings_detailed.csv', 'online_shoppers_intention.csv', 'winemag-data-130k-v2.csv', 'winemag-data_first150k.csv']\n",
      "[]\n",
      "['Basic Plotting.ipynb', 'images.png', 'Models and Primitives.ipynb', 'Presentation Layouts.ipynb']\n",
      "[]\n",
      "['ACC.csv', 'ACC2.csv', 'dask-array-black-text.svg', 'Dask.ipynb']\n",
      "['Dask-checkpoint.ipynb']\n",
      "['global.lock', 'purge.lock', 'worker-ta0gtefo.dirlock']\n",
      "[]\n",
      "[]\n",
      "['2000-01-01.csv', '2000-01-02.csv', '2000-01-03.csv', '2000-01-04.csv', '2000-01-05.csv', '2000-01-06.csv', '2000-01-07.csv', '2000-01-08.csv', '2000-01-09.csv', '2000-01-10.csv', '2000-01-11.csv', '2000-01-12.csv', '2000-01-13.csv', '2000-01-14.csv', '2000-01-15.csv', '2000-01-16.csv', '2000-01-17.csv', '2000-01-18.csv', '2000-01-19.csv', '2000-01-20.csv', '2000-01-21.csv', '2000-01-22.csv', '2000-01-23.csv', '2000-01-24.csv', '2000-01-25.csv', '2000-01-26.csv', '2000-01-27.csv', '2000-01-28.csv', '2000-01-29.csv', '2000-01-30.csv']\n",
      "['1.png', '2.png', '3.png', 'dask_array.png', 'download.png', 'pandas.png']\n",
      "[]\n",
      "['FIFA 2019.ipynb', 'FIFA_data.csv', 'graph.png', 'img_club_logo.jpg', 'img_flag.jpg', 'img_player.jpg', 'players.png']\n",
      "['FIFA 2019-checkpoint.ipynb']\n",
      "['._FIFA']\n",
      "['._FIFA 2019.ipynb', '._FIFA_data.csv', '._graph.png', '._img_club_logo.jpg', '._img_flag.jpg', '._img_player.jpg', '._players.png']\n",
      "[]\n",
      "['FitBit data.csv', 'FitBit EDA.ipynb', 'Untitled.ipynb']\n",
      "['FitBit EDA-checkpoint.ipynb', 'Untitled-checkpoint.ipynb']\n",
      "['._FitBit']\n",
      "['._FitBit data.csv', '._FitBit EDA.ipynb']\n",
      "['app.py']\n",
      "['.gitignore', 'flask_demo.iml', 'misc.xml', 'modules.xml', 'workspace.xml']\n",
      "['profiles_settings.xml', 'Project_Default.xml']\n",
      "[]\n",
      "['main.css', 'style.css']\n",
      "['index.html', 'results.html']\n",
      "[]\n",
      "['Data_Train.xlsx', 'Final_Pred.xlsx', 'Flight Price Prediction.ipynb', 'Sample_submission.xlsx', 'Test_set.xlsx']\n",
      "[]\n",
      "[]\n",
      "['Data_Train.xlsx', 'Sample_submission.xlsx', 'Test_set.xlsx']\n",
      "['._Flight_Price']\n",
      "['._Data_Train.xlsx', '._Final_Pred.xlsx', '._Flight Price Prediction.ipynb', '._Flight_Ticket_Participant_Datasets-20190305T100527Z-001', '._Sample_submission.xlsx', '._Test_set.xlsx']\n",
      "['._Flight_Ticket_Participant_Datasets']\n",
      "['._Data_Train.xlsx', '._Sample_submission.xlsx', '._Test_set.xlsx']\n",
      "[]\n",
      "['hr-analysis-prediction-and-visualisation.ipynb', 'Income Prediction.ipynb', 'WA_Fn-UseC_-HR-Employee-Attrition.csv']\n",
      "[]\n",
      "['._HRPrediction']\n",
      "['._hr-analysis-prediction-and-visualisation.ipynb', '._Income Prediction.ipynb', '._WA_Fn-UseC_-HR-Employee-Attrition.csv']\n",
      "['Basic_var_datatype.pptx', 'Built-in_modules.pptx', 'classes.pptx', 'Control_flow.pptx', 'database.pptx', 'Dictionary-manipulation.pptx', 'Exception_handling.pptx', 'File_Input_output.pptx', 'functions.pptx', 'List-manipulation.pptx', 'logging_debugging.pptx', 'multithreading.pptx', 'operator_precedence.pptx', 'pandas_numpy.pptx', 'sets_tuples.pptx', 'visulization.pptx']\n",
      "['Indonesia Truck Entry Project Proposal (1) [Autosaved].pptx', 'sample 2 [Autosaved].pptx', 'sample [Autosaved].pptx', '~$sample [Autosaved].pptx']\n",
      "[]\n",
      "['zomato EDA.ipynb']\n",
      "[]\n",
      "['._zomato']\n",
      "['._zomato EDA.ipynb']\n",
      "['conditional(if-elif-else),loop(while, for).ipynb', 'Function,Iterator,Generator,File handling.ipynb', 'geek for geek practices.ipynb', 'geek practices.ipynb', 'List,tuple,dictionary.ipynb', 'PYRAMID_PATTERN.ipynb', 'Python Enumerate and Zip Function.ipynb', 'python_basic_day0.ipynb', 'python_basic_day1.ipynb']\n",
      "['conditional(if-elif-else),loop(while, for)-checkpoint.ipynb', 'Function,Iterator,Generator,File handling-checkpoint.ipynb', 'geek for geek practices-checkpoint.ipynb', 'geek practices-checkpoint.ipynb', 'List,tuple,dictionary-checkpoint.ipynb', 'Python Enumerate and Zip Function-checkpoint.ipynb', 'python_basic_day0-checkpoint.ipynb', 'python_basic_day1-checkpoint.ipynb']\n",
      "['function.ipynb', 'normal.ipynb', 'Untitled.ipynb', 'Untitled1.ipynb']\n",
      "['function-checkpoint.ipynb', 'normal-checkpoint.ipynb', 'Untitled-checkpoint.ipynb', 'Untitled1-checkpoint.ipynb']\n",
      "['New FIle.text']\n",
      "['Text1.text', 'Text10.text', 'Text2.text', 'Text3.text', 'Text4.text', 'Text5.text', 'Text6.text', 'Text7.text', 'Text8.text', 'Text9.text']\n",
      "[]\n",
      "['Function.py', 'main.py']\n",
      "['.gitignore', 'misc.xml', 'modules.xml', 'Pycharm_Python_Basic.iml', 'workspace.xml']\n",
      "['profiles_settings.xml']\n",
      "['.gitignore', 'pyvenv.cfg']\n",
      "[]\n",
      "[]\n",
      "['distutils-precedence.pth', 'pip-21.3.1.virtualenv', 'setuptools-60.2.0.virtualenv', 'wheel-0.37.1.virtualenv', '_virtualenv.pth', '_virtualenv.py']\n",
      "['py.typed', '__init__.py', '__main__.py']\n",
      "['build_env.py', 'cache.py', 'configuration.py', 'exceptions.py', 'main.py', 'pyproject.py', 'self_outdated_check.py', 'wheel_builder.py', '__init__.py']\n",
      "['autocompletion.py', 'base_command.py', 'cmdoptions.py', 'command_context.py', 'main.py', 'main_parser.py', 'parser.py', 'progress_bars.py', 'req_command.py', 'spinners.py', 'status_codes.py', '__init__.py']\n",
      "['cache.py', 'check.py', 'completion.py', 'configuration.py', 'debug.py', 'download.py', 'freeze.py', 'hash.py', 'help.py', 'index.py', 'install.py', 'list.py', 'search.py', 'show.py', 'uninstall.py', 'wheel.py', '__init__.py']\n",
      "['base.py', 'installed.py', 'sdist.py', 'wheel.py', '__init__.py']\n",
      "['collector.py', 'package_finder.py', 'sources.py', '__init__.py']\n",
      "['base.py', '_distutils.py', '_sysconfig.py', '__init__.py']\n",
      "['base.py', 'pkg_resources.py', '__init__.py']\n",
      "['candidate.py', 'direct_url.py', 'format_control.py', 'index.py', 'link.py', 'scheme.py', 'search_scope.py', 'selection_prefs.py', 'target_python.py', 'wheel.py', '__init__.py']\n",
      "['auth.py', 'cache.py', 'download.py', 'lazy_wheel.py', 'session.py', 'utils.py', 'xmlrpc.py', '__init__.py']\n",
      "['check.py', 'freeze.py', 'prepare.py', '__init__.py']\n",
      "['metadata.py', 'metadata_editable.py', 'metadata_legacy.py', 'wheel.py', 'wheel_editable.py', 'wheel_legacy.py', '__init__.py']\n",
      "['editable_legacy.py', 'legacy.py', 'wheel.py', '__init__.py']\n",
      "['constructors.py', 'req_file.py', 'req_install.py', 'req_set.py', 'req_tracker.py', 'req_uninstall.py', '__init__.py']\n",
      "['base.py', '__init__.py']\n",
      "['resolver.py', '__init__.py']\n",
      "['base.py', 'candidates.py', 'factory.py', 'found_candidates.py', 'provider.py', 'reporter.py', 'requirements.py', 'resolver.py', '__init__.py']\n",
      "['appdirs.py', 'compat.py', 'compatibility_tags.py', 'datetime.py', 'deprecation.py', 'direct_url_helpers.py', 'distutils_args.py', 'egg_link.py', 'encoding.py', 'entrypoints.py', 'filesystem.py', 'filetypes.py', 'glibc.py', 'hashes.py', 'inject_securetransport.py', 'logging.py', 'misc.py', 'models.py', 'packaging.py', 'parallel.py', 'pkg_resources.py', 'setuptools_build.py', 'subprocess.py', 'temp_dir.py', 'unpacking.py', 'urls.py', 'virtualenv.py', 'wheel.py', '_log.py', '__init__.py']\n",
      "['bazaar.py', 'git.py', 'mercurial.py', 'subversion.py', 'versioncontrol.py', '__init__.py']\n",
      "['distro.py', 'pyparsing.py', 'six.py', 'vendor.txt', '__init__.py']\n",
      "['adapter.py', 'cache.py', 'compat.py', 'controller.py', 'filewrapper.py', 'heuristics.py', 'serialize.py', 'wrapper.py', '_cmd.py', '__init__.py']\n",
      "['file_cache.py', 'redis_cache.py', '__init__.py']\n",
      "['cacert.pem', 'core.py', '__init__.py', '__main__.py']\n",
      "['big5freq.py', 'big5prober.py', 'chardistribution.py', 'charsetgroupprober.py', 'charsetprober.py', 'codingstatemachine.py', 'compat.py', 'cp949prober.py', 'enums.py', 'escprober.py', 'escsm.py', 'eucjpprober.py', 'euckrfreq.py', 'euckrprober.py', 'euctwfreq.py', 'euctwprober.py', 'gb2312freq.py', 'gb2312prober.py', 'hebrewprober.py', 'jisfreq.py', 'jpcntx.py', 'langbulgarianmodel.py', 'langgreekmodel.py', 'langhebrewmodel.py', 'langhungarianmodel.py', 'langrussianmodel.py', 'langthaimodel.py', 'langturkishmodel.py', 'latin1prober.py', 'mbcharsetprober.py', 'mbcsgroupprober.py', 'mbcssm.py', 'sbcharsetprober.py', 'sbcsgroupprober.py', 'sjisprober.py', 'universaldetector.py', 'utf8prober.py', 'version.py', '__init__.py']\n",
      "['chardetect.py', '__init__.py']\n",
      "['languages.py', '__init__.py']\n",
      "['ansi.py', 'ansitowin32.py', 'initialise.py', 'win32.py', 'winterm.py', '__init__.py']\n",
      "['compat.py', 'database.py', 'index.py', 'locators.py', 'manifest.py', 'markers.py', 'metadata.py', 'resources.py', 'scripts.py', 't32.exe', 't64-arm.exe', 't64.exe', 'util.py', 'version.py', 'w32.exe', 'w64-arm.exe', 'w64.exe', 'wheel.py', '__init__.py']\n",
      "['misc.py', 'shutil.py', 'sysconfig.cfg', 'sysconfig.py', 'tarfile.py', '__init__.py']\n",
      "['constants.py', 'html5parser.py', 'serializer.py', '_ihatexml.py', '_inputstream.py', '_tokenizer.py', '_utils.py', '__init__.py']\n",
      "['alphabeticalattributes.py', 'base.py', 'inject_meta_charset.py', 'lint.py', 'optionaltags.py', 'sanitizer.py', 'whitespace.py', '__init__.py']\n",
      "['genshi.py', 'sax.py', '__init__.py']\n",
      "['base.py', 'dom.py', 'etree.py', 'etree_lxml.py', '__init__.py']\n",
      "['base.py', 'dom.py', 'etree.py', 'etree_lxml.py', 'genshi.py', '__init__.py']\n",
      "['py.py', '_base.py', '__init__.py']\n",
      "['codec.py', 'compat.py', 'core.py', 'idnadata.py', 'intranges.py', 'package_data.py', 'uts46data.py', '__init__.py']\n",
      "['exceptions.py', 'ext.py', 'fallback.py', '_version.py', '__init__.py']\n",
      "['markers.py', 'requirements.py', 'specifiers.py', 'tags.py', 'utils.py', 'version.py', '_manylinux.py', '_musllinux.py', '_structures.py', '__about__.py', '__init__.py']\n",
      "['build.py', 'check.py', 'colorlog.py', 'compat.py', 'dirtools.py', 'envbuild.py', 'meta.py', 'wrappers.py', '__init__.py']\n",
      "['_in_process.py', '__init__.py']\n",
      "['py31compat.py', '__init__.py']\n",
      "['android.py', 'api.py', 'macos.py', 'unix.py', 'version.py', 'windows.py', '__init__.py', '__main__.py']\n",
      "['bar.py', 'colors.py', 'counter.py', 'spinner.py', '__init__.py']\n",
      "['adapters.py', 'api.py', 'auth.py', 'certs.py', 'compat.py', 'cookies.py', 'exceptions.py', 'help.py', 'hooks.py', 'models.py', 'packages.py', 'sessions.py', 'status_codes.py', 'structures.py', 'utils.py', '_internal_utils.py', '__init__.py', '__version__.py']\n",
      "['providers.py', 'reporters.py', 'resolvers.py', 'structs.py', '__init__.py']\n",
      "['collections_abc.py', '__init__.py']\n",
      "['after.py', 'before.py', 'before_sleep.py', 'nap.py', 'retry.py', 'stop.py', 'tornadoweb.py', 'wait.py', '_asyncio.py', '_utils.py', '__init__.py']\n",
      "['_parser.py', '_re.py', '__init__.py']\n",
      "['connection.py', 'connectionpool.py', 'exceptions.py', 'fields.py', 'filepost.py', 'poolmanager.py', 'request.py', 'response.py', '_collections.py', '_version.py', '__init__.py']\n",
      "['appengine.py', 'ntlmpool.py', 'pyopenssl.py', 'securetransport.py', 'socks.py', '_appengine_environ.py', '__init__.py']\n",
      "['bindings.py', 'low_level.py', '__init__.py']\n",
      "['six.py', '__init__.py']\n",
      "['makefile.py', '__init__.py']\n",
      "['_implementation.py', '__init__.py']\n",
      "['connection.py', 'proxy.py', 'queue.py', 'request.py', 'response.py', 'retry.py', 'ssltransport.py', 'ssl_.py', 'timeout.py', 'url.py', 'wait.py', '__init__.py']\n",
      "['labels.py', 'mklabels.py', 'tests.py', 'x_user_defined.py', '__init__.py']\n",
      "['entry_points.txt', 'INSTALLER', 'LICENSE.txt', 'METADATA', 'RECORD', 'top_level.txt', 'WHEEL']\n",
      "['__init__.py']\n",
      "['__init__.py']\n",
      "['__init__.cpython-37.pyc']\n",
      "[]\n",
      "[]\n",
      "['setup.py']\n",
      "['appdirs.py', 'pyparsing.py', '__init__.py']\n",
      "['markers.py', 'requirements.py', 'specifiers.py', 'tags.py', 'utils.py', 'version.py', '_manylinux.py', '_musllinux.py', '_structures.py', '__about__.py', '__init__.py']\n",
      "['markers.cpython-37.pyc', 'requirements.cpython-37.pyc', 'specifiers.cpython-37.pyc', 'tags.cpython-37.pyc', 'utils.cpython-37.pyc', 'version.cpython-37.pyc', '_manylinux.cpython-37.pyc', '_musllinux.cpython-37.pyc', '_structures.cpython-37.pyc', '__about__.cpython-37.pyc', '__init__.cpython-37.pyc']\n",
      "['appdirs.cpython-37.pyc', 'pyparsing.cpython-37.pyc', '__init__.cpython-37.pyc']\n",
      "['__init__.cpython-37.pyc']\n",
      "['archive_util.py', 'build_meta.py', 'cli-32.exe', 'cli-64.exe', 'cli-arm64.exe', 'cli.exe', 'config.py', 'depends.py', 'dep_util.py', 'dist.py', 'errors.py', 'extension.py', 'glob.py', 'gui-32.exe', 'gui-64.exe', 'gui-arm64.exe', 'gui.exe', 'installer.py', 'launch.py', 'logging.py', 'monkey.py', 'msvc.py', 'namespaces.py', 'package_index.py', 'py34compat.py', 'sandbox.py', 'script (dev).tmpl', 'script.tmpl', 'unicode_utils.py', 'version.py', 'wheel.py', 'windows_support.py', '_deprecation_warning.py', '_imp.py', '__init__.py']\n",
      "['alias.py', 'bdist_egg.py', 'bdist_rpm.py', 'build_clib.py', 'build_ext.py', 'build_py.py', 'develop.py', 'dist_info.py', 'easy_install.py', 'egg_info.py', 'install.py', 'install_egg_info.py', 'install_lib.py', 'install_scripts.py', 'launcher manifest.xml', 'py36compat.py', 'register.py', 'rotate.py', 'saveopts.py', 'sdist.py', 'setopt.py', 'test.py', 'upload.py', 'upload_docs.py', '__init__.py']\n",
      "['__init__.py']\n",
      "['archive_util.py', 'bcppcompiler.py', 'ccompiler.py', 'cmd.py', 'config.py', 'core.py', 'cygwinccompiler.py', 'debug.py', 'dep_util.py', 'dir_util.py', 'dist.py', 'errors.py', 'extension.py', 'fancy_getopt.py', 'filelist.py', 'file_util.py', 'log.py', 'msvc9compiler.py', 'msvccompiler.py', 'py35compat.py', 'py38compat.py', 'spawn.py', 'sysconfig.py', 'text_file.py', 'unixccompiler.py', 'util.py', 'version.py', 'versionpredicate.py', '_msvccompiler.py', '__init__.py']\n",
      "['bdist.py', 'bdist_dumb.py', 'bdist_msi.py', 'bdist_rpm.py', 'bdist_wininst.py', 'build.py', 'build_clib.py', 'build_ext.py', 'build_py.py', 'build_scripts.py', 'check.py', 'clean.py', 'config.py', 'install.py', 'install_data.py', 'install_egg_info.py', 'install_headers.py', 'install_lib.py', 'install_scripts.py', 'py37compat.py', 'register.py', 'sdist.py', 'upload.py', '__init__.py']\n",
      "['ordered_set.py', 'pyparsing.py', '__init__.py']\n",
      "['more.py', 'recipes.py', '__init__.py']\n",
      "['markers.py', 'requirements.py', 'specifiers.py', 'tags.py', 'utils.py', 'version.py', '_manylinux.py', '_musllinux.py', '_structures.py', '__about__.py', '__init__.py']\n",
      "['entry_points.txt', 'INSTALLER', 'LICENSE', 'METADATA', 'RECORD', 'top_level.txt', 'WHEEL']\n",
      "['bdist_wheel.py', 'macosx_libfile.py', 'metadata.py', 'pkginfo.py', 'util.py', 'wheelfile.py', '__init__.py', '__main__.py']\n",
      "['convert.py', 'pack.py', 'unpack.py', '__init__.py']\n",
      "['__init__.py']\n",
      "['tags.py', '_typing.py', '__init__.py']\n",
      "['entry_points.txt', 'INSTALLER', 'LICENSE.txt', 'METADATA', 'RECORD', 'top_level.txt', 'WHEEL']\n",
      "['override.py', '__init__.py']\n",
      "['__init__.cpython-37.pyc']\n",
      "['_virtualenv.cpython-37.pyc']\n",
      "['activate', 'activate.bat', 'activate.fish', 'activate.nu', 'Activate.ps1', 'activate_this.py', 'deactivate.bat', 'deactivate.nu', 'pip-3.7.exe', 'pip.exe', 'pip3.7.exe', 'pip3.exe', 'pydoc.bat', 'python.exe', 'pythonw.exe', 'wheel-3.7.exe', 'wheel.exe', 'wheel3.7.exe', 'wheel3.exe']\n",
      "['Python_Basic_Assignments_2.ipynb', 'Python_Basic_Assignments_3.ipynb', 'Python_Basic_Assignments_4.ipynb', 'Python_Basic_Assignment_1 .ipynb']\n",
      "['Python_Basic_Assignments_2-checkpoint.ipynb', 'Python_Basic_Assignments_3-checkpoint.ipynb', 'Python_Basic_Assignments_4-checkpoint.ipynb', 'Python_Basic_Assignment_1 -checkpoint.ipynb', 'Python_Basic_Programming_Assignment_1-checkpoint.ipynb']\n",
      "['Python_Basic_Programming_Assignment_1.ipynb', 'Python_Basic_Programming_Assignment_2.ipynb', 'Python_Basic_Programming_Assignment_3.ipynb', 'Python_Basic_Programming_Assignment_4.ipynb']\n",
      "['Python_Basic_Programming_Assignment_1-checkpoint.ipynb', 'Python_Basic_Programming_Assignment_2-checkpoint.ipynb', 'Python_Basic_Programming_Assignment_3-checkpoint.ipynb', 'Python_Basic_Programming_Assignment_4-checkpoint.ipynb']\n",
      "['main.py']\n"
     ]
    },
    {
     "name": "stdout",
     "output_type": "stream",
     "text": [
      "[]\n",
      "['excpt.py', 'main.py', 'message.txt', 'python.txt']\n",
      "['__init__.py']\n",
      "['Boss.py', 'Player.py', '__init__.py']\n",
      "['Boss.cpython-37.pyc', 'Player.cpython-37.pyc', '__init__.cpython-37.pyc']\n",
      "['Gun.py', 'Knife.py', '__init__.py']\n",
      "['Gun.cpython-37.pyc', '__init__.cpython-37.pyc']\n",
      "['__init__.cpython-37.pyc']\n"
     ]
    }
   ],
   "source": [
    "for root,directory,file in os.walk(os.getcwd()):\n",
    "    print(file)"
   ]
  },
  {
   "cell_type": "code",
   "execution_count": 85,
   "id": "a21d4e5b",
   "metadata": {},
   "outputs": [
    {
     "name": "stdout",
     "output_type": "stream",
     "text": [
      "debugger-code.png\n",
      "process1.png\n",
      "process2.png\n",
      "process3.png\n",
      "process4.png\n",
      "assertion.png\n",
      "workflow_mergeIPYNB.png\n",
      "command.png\n",
      "error.png\n",
      "mergedNotebook.png\n",
      "00HLD.png\n",
      "01accSetting.png\n",
      "02securitySetting.png\n",
      "03TwoStepVar.png\n",
      "04AppPass.png\n",
      "05SelectApp.png\n",
      "06nameApp.png\n",
      "07generatePass.png\n",
      "08Final.png\n",
      "08setPassEmail.png\n",
      "Screenshot from 2020-08-13 15-10-57.png\n",
      "Image_1.png\n",
      "Image_10.png\n",
      "Image_2.png\n",
      "Image_3.png\n",
      "Image_4.png\n",
      "Image_5.png\n",
      "Image_6.png\n",
      "Image_7.png\n",
      "Image_8.png\n",
      "Image_9.png\n",
      "my_figure.png\n",
      "my_figure_dpi_300.png\n",
      "Screen Shot 16-08-2020 at 11.41.png\n",
      "Screen Shot 16-08-2020 at 11.42.png\n",
      "Screen Shot 16-08-2020 at 11.51.png\n",
      "Screen Shot 16-08-2020 at 11.56.png\n",
      "Screen Shot 16-08-2020 at 11.57.png\n",
      "01.login.png\n",
      "02.CreateOrg.png\n",
      "03NameOrg.png\n",
      "04.AddMemberCreateOrg.png\n",
      "05CreatePro.png\n",
      "06CreatePro2.png\n",
      "07CreateProAddMember.png\n",
      "08BuildCluseter.png\n",
      "09CreateFreeCluster.png\n",
      "10CreateFreeStarterCluster.png\n",
      "11Click.png\n",
      "12WhitelistIP.png\n",
      "13CreatemongoDBUSER.png\n",
      "14Connect.png\n",
      "15SelectPyDriver_version.png\n",
      "16CopyConnectionString.png\n",
      "17AddUser.png\n",
      "18CreatePWDCopy.png\n",
      "19USERS_withRWaccess.png\n",
      "20FinalVerification.png\n",
      "Screenshot from 2020-08-18 14-27-31.png\n",
      "MultiProcessing_Diagram.png\n",
      "MultiProcessing_Diagram2.png\n",
      "MultiProcessing_Diagram3.png\n",
      "MultiProcessing_Diagram4.png\n",
      "Thread_Diagram.png\n",
      "Thread_Diagram2.png\n",
      "Thread_Diagram3.png\n",
      "flask1.png\n",
      "flask2.png\n",
      "flask3.png\n",
      "flask4.png\n",
      "flask5.png\n",
      "flask6.png\n",
      "django_flow.png\n",
      "django_install.png\n",
      "manage.png\n",
      "step1.png\n",
      "step2.png\n",
      "step3.png\n",
      "step4.png\n",
      "step5.png\n",
      "step6.png\n",
      "step7.png\n",
      "step8.png\n",
      "step9.png\n",
      "url.png\n",
      "architecture.png\n",
      "folder_structure.png\n",
      "home.png\n",
      "image_upload.png\n",
      "init_flask.png\n",
      "input_texts.png\n",
      "libraries.png\n",
      "memegenerate.png\n",
      "output.png\n",
      "route.png\n",
      "text_input.png\n",
      "blb.png\n",
      "10.png\n",
      "11.png\n",
      "13.png\n",
      "14.png\n",
      "15.png\n",
      "8.png\n",
      "9.png\n",
      "admin.png\n",
      "blogview1.png\n",
      "blogview2.png\n",
      "blog_flowchart.png\n",
      "blog_post.png\n",
      "form.png\n",
      "login.png\n",
      "media.png\n",
      "media_path.png\n",
      "profile_model.png\n",
      "registration.png\n",
      "result1.png\n",
      "result2.png\n",
      "result3.png\n",
      "result4.png\n",
      "settings.png\n",
      "signal.png\n",
      "static_structure.png\n",
      "user_view1.png\n",
      "venv.png\n",
      "pythonVar.png\n",
      "800px-PascalTriangleFibanacci.png\n",
      "images.png\n",
      "1.png\n",
      "2.png\n",
      "3.png\n",
      "dask_array.png\n",
      "download.png\n",
      "pandas.png\n",
      "graph.png\n",
      "players.png\n",
      "._graph.png\n",
      "._players.png\n"
     ]
    }
   ],
   "source": [
    "for root,directory,file in os.walk(os.getcwd()): \n",
    "    for f in file:\n",
    "        if \".png\" in f:\n",
    "            print(f)"
   ]
  },
  {
   "cell_type": "code",
   "execution_count": 87,
   "id": "2e5816d8",
   "metadata": {},
   "outputs": [
    {
     "ename": "FileNotFoundError",
     "evalue": "[WinError 2] The system cannot find the file specified: 'process4'",
     "output_type": "error",
     "traceback": [
      "\u001b[1;31m---------------------------------------------------------------------------\u001b[0m",
      "\u001b[1;31mFileNotFoundError\u001b[0m                         Traceback (most recent call last)",
      "\u001b[1;32m~\\AppData\\Local\\Temp/ipykernel_12320/1876174901.py\u001b[0m in \u001b[0;36m<module>\u001b[1;34m\u001b[0m\n\u001b[1;32m----> 1\u001b[1;33m \u001b[0mos\u001b[0m\u001b[1;33m.\u001b[0m\u001b[0mstat\u001b[0m\u001b[1;33m(\u001b[0m\u001b[1;34m\"process4\"\u001b[0m\u001b[1;33m)\u001b[0m\u001b[1;33m.\u001b[0m\u001b[0mst_size\u001b[0m\u001b[1;33m\u001b[0m\u001b[1;33m\u001b[0m\u001b[0m\n\u001b[0m",
      "\u001b[1;31mFileNotFoundError\u001b[0m: [WinError 2] The system cannot find the file specified: 'process4'"
     ]
    }
   ],
   "source": [
    "os.stat(\"process4\").st_size"
   ]
  },
  {
   "cell_type": "code",
   "execution_count": 88,
   "id": "d7470147",
   "metadata": {},
   "outputs": [
    {
     "data": {
      "text/plain": [
       "['.ipynb_checkpoints',\n",
       " 'Class Task and challengs',\n",
       " 'Complete Python Module',\n",
       " 'Live Class Practice code',\n",
       " 'My_Python_Practices_Notes',\n",
       " 'newOs',\n",
       " 'Operating System',\n",
       " 'OS(Operating  System).ipynb',\n",
       " 'Pycharm_Python_Basic',\n",
       " 'Python Basic Assignments',\n",
       " 'Python Basic Programming Assignments',\n",
       " 'Python_Game_Package',\n",
       " 'README.md']"
      ]
     },
     "execution_count": 88,
     "metadata": {},
     "output_type": "execute_result"
    }
   ],
   "source": [
    "os.listdir()"
   ]
  },
  {
   "cell_type": "code",
   "execution_count": 89,
   "id": "32183bd1",
   "metadata": {},
   "outputs": [
    {
     "data": {
      "text/plain": [
       "28672"
      ]
     },
     "execution_count": 89,
     "metadata": {},
     "output_type": "execute_result"
    }
   ],
   "source": [
    "os.stat('Complete Python Module').st_size"
   ]
  },
  {
   "cell_type": "code",
   "execution_count": 90,
   "id": "4398e257",
   "metadata": {},
   "outputs": [
    {
     "data": {
      "text/plain": [
       "28.0"
      ]
     },
     "execution_count": 90,
     "metadata": {},
     "output_type": "execute_result"
    }
   ],
   "source": [
    "os.stat('Complete Python Module').st_size/1024"
   ]
  },
  {
   "cell_type": "code",
   "execution_count": 92,
   "id": "f3da00b7",
   "metadata": {},
   "outputs": [
    {
     "data": {
      "text/plain": [
       "0.02734375"
      ]
     },
     "execution_count": 92,
     "metadata": {},
     "output_type": "execute_result"
    }
   ],
   "source": [
    "os.stat('Complete Python Module').st_size/pow(1024,2) #1024*1204"
   ]
  },
  {
   "cell_type": "code",
   "execution_count": 93,
   "id": "63afa86f",
   "metadata": {},
   "outputs": [
    {
     "data": {
      "text/plain": [
       "2.6702880859375e-05"
      ]
     },
     "execution_count": 93,
     "metadata": {},
     "output_type": "execute_result"
    }
   ],
   "source": [
    "os.stat('Complete Python Module').st_size/pow(1024,3) #1024*1204*1024"
   ]
  },
  {
   "cell_type": "code",
   "execution_count": 99,
   "id": "37da1673",
   "metadata": {},
   "outputs": [
    {
     "data": {
      "text/plain": [
       "'C:\\\\Users\\\\HP\\\\Desktop'"
      ]
     },
     "execution_count": 99,
     "metadata": {},
     "output_type": "execute_result"
    }
   ],
   "source": [
    "os.environ[\"UserProfile\"]+\"\\\\Desktop\" # how we got desktop folder path"
   ]
  },
  {
   "cell_type": "code",
   "execution_count": 3,
   "id": "c0bdd03d",
   "metadata": {},
   "outputs": [
    {
     "data": {
      "text/plain": [
       "'C:\\\\Desktop'"
      ]
     },
     "execution_count": 3,
     "metadata": {},
     "output_type": "execute_result"
    }
   ],
   "source": [
    "os.path.join(os.path.join(os.environ[\"UserProfile\"],\"\\\\Desktop\"))"
   ]
  },
  {
   "cell_type": "code",
   "execution_count": null,
   "id": "b447e517",
   "metadata": {},
   "outputs": [],
   "source": []
  },
  {
   "cell_type": "code",
   "execution_count": 103,
   "id": "9df1151f",
   "metadata": {},
   "outputs": [
    {
     "data": {
      "text/plain": [
       "'C:\\\\Users\\\\HP\\\\desktop'"
      ]
     },
     "execution_count": 103,
     "metadata": {},
     "output_type": "execute_result"
    }
   ],
   "source": [
    "os.path.normpath(os.path.expanduser(\"~/desktop\"))"
   ]
  },
  {
   "cell_type": "markdown",
   "id": "ad740ba1",
   "metadata": {},
   "source": []
  },
  {
   "cell_type": "code",
   "execution_count": 2,
   "id": "1279421e",
   "metadata": {},
   "outputs": [
    {
     "data": {
      "text/plain": [
       "'C:\\\\Desktop'"
      ]
     },
     "execution_count": 2,
     "metadata": {},
     "output_type": "execute_result"
    }
   ],
   "source": [
    "os.path.join(os.environ[\"UserProfile\"],\"\\\\Desktop\")"
   ]
  },
  {
   "cell_type": "code",
   "execution_count": null,
   "id": "ac6c1d06",
   "metadata": {},
   "outputs": [],
   "source": []
  }
 ],
 "metadata": {
  "kernelspec": {
   "display_name": "Python 3 (ipykernel)",
   "language": "python",
   "name": "python3"
  },
  "language_info": {
   "codemirror_mode": {
    "name": "ipython",
    "version": 3
   },
   "file_extension": ".py",
   "mimetype": "text/x-python",
   "name": "python",
   "nbconvert_exporter": "python",
   "pygments_lexer": "ipython3",
   "version": "3.9.7"
  }
 },
 "nbformat": 4,
 "nbformat_minor": 5
}
