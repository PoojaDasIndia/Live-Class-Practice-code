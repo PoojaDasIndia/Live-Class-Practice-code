{
 "cells": [
  {
   "cell_type": "markdown",
   "id": "11eab4db",
   "metadata": {},
   "source": [
    "1)DeBug<br>\n",
    "2)Info<br>\n",
    "3)Warning<br>\n",
    "4)Error<br>\n",
    "5)Crtitical"
   ]
  },
  {
   "cell_type": "code",
   "execution_count": 1,
   "id": "e80550d1",
   "metadata": {},
   "outputs": [],
   "source": [
    "from logging import *"
   ]
  },
  {
   "cell_type": "code",
   "execution_count": 2,
   "id": "d10ecb97",
   "metadata": {},
   "outputs": [],
   "source": [
    "import logging as lg"
   ]
  },
  {
   "cell_type": "code",
   "execution_count": 3,
   "id": "76439395",
   "metadata": {},
   "outputs": [],
   "source": [
    "info(\"This is info\") # not working coz by default it in warning 30 not in info nd debug"
   ]
  },
  {
   "cell_type": "code",
   "execution_count": 4,
   "id": "e9c96f8b",
   "metadata": {},
   "outputs": [],
   "source": [
    "debug(\"This is debug\") "
   ]
  },
  {
   "cell_type": "code",
   "execution_count": 5,
   "id": "bb889a49",
   "metadata": {},
   "outputs": [
    {
     "name": "stderr",
     "output_type": "stream",
     "text": [
      "WARNING:root:This is warning\n",
      "ERROR:root:This is error\n",
      "CRITICAL:root:This is critical\n"
     ]
    }
   ],
   "source": [
    "info(\"This is info\")\n",
    "debug(\"This is debug\") \n",
    "warning(\"This is warning\")\n",
    "error(\"This is error\") \n",
    "critical(\"This is critical\") "
   ]
  },
  {
   "cell_type": "code",
   "execution_count": 6,
   "id": "11d43c70",
   "metadata": {},
   "outputs": [
    {
     "name": "stderr",
     "output_type": "stream",
     "text": [
      "ERROR:root:This is error\n"
     ]
    }
   ],
   "source": [
    "error(\"This is error\") "
   ]
  },
  {
   "cell_type": "code",
   "execution_count": 7,
   "id": "db764205",
   "metadata": {},
   "outputs": [
    {
     "name": "stderr",
     "output_type": "stream",
     "text": [
      "CRITICAL:root:This is critical\n"
     ]
    }
   ],
   "source": [
    "critical(\"This is critical\") "
   ]
  },
  {
   "cell_type": "code",
   "execution_count": 8,
   "id": "f5765798",
   "metadata": {},
   "outputs": [],
   "source": [
    "basicConfig(filename=\"Logfile.log\")"
   ]
  },
  {
   "cell_type": "code",
   "execution_count": 9,
   "id": "bd6b9598",
   "metadata": {},
   "outputs": [
    {
     "data": {
      "text/plain": [
       "'C:\\\\Users\\\\HP\\\\Desktop\\\\Python\\\\Live Class Practice code'"
      ]
     },
     "execution_count": 9,
     "metadata": {},
     "output_type": "execute_result"
    }
   ],
   "source": [
    "pwd"
   ]
  },
  {
   "cell_type": "code",
   "execution_count": 10,
   "id": "f0e87e5d",
   "metadata": {},
   "outputs": [],
   "source": [
    "import os"
   ]
  },
  {
   "cell_type": "code",
   "execution_count": 11,
   "id": "716f8862",
   "metadata": {},
   "outputs": [],
   "source": [
    "#os.mkdir(\"LOGGING\")"
   ]
  },
  {
   "cell_type": "code",
   "execution_count": 12,
   "id": "3ac0ad05",
   "metadata": {},
   "outputs": [],
   "source": [
    "os.chdir(os.getcwd()+\"/\"+\"LOGGING\")"
   ]
  },
  {
   "cell_type": "code",
   "execution_count": 13,
   "id": "11a045cd",
   "metadata": {},
   "outputs": [
    {
     "data": {
      "text/plain": [
       "'C:\\\\Users\\\\HP\\\\Desktop\\\\Python\\\\Live Class Practice code\\\\LOGGING'"
      ]
     },
     "execution_count": 13,
     "metadata": {},
     "output_type": "execute_result"
    }
   ],
   "source": [
    "os.getcwd()"
   ]
  },
  {
   "cell_type": "code",
   "execution_count": 14,
   "id": "69183c76",
   "metadata": {},
   "outputs": [],
   "source": [
    "basicConfig(filename=\"Logfile.log\")"
   ]
  },
  {
   "cell_type": "code",
   "execution_count": 15,
   "id": "64adf4a4",
   "metadata": {},
   "outputs": [
    {
     "data": {
      "text/plain": [
       "'C:\\\\Users\\\\HP\\\\Desktop\\\\Python\\\\Live Class Practice code\\\\LOGGING'"
      ]
     },
     "execution_count": 15,
     "metadata": {},
     "output_type": "execute_result"
    }
   ],
   "source": [
    "pwd"
   ]
  },
  {
   "cell_type": "code",
   "execution_count": 16,
   "id": "8b0cfd02",
   "metadata": {},
   "outputs": [],
   "source": [
    "lg.basicConfig(filename=\"C:\\\\Users\\\\HP\\\\Desktop\\\\Python\\\\Live Class Practice code\\\\LOGGING\\\\logfile.log\")"
   ]
  },
  {
   "cell_type": "code",
   "execution_count": 17,
   "id": "c95687ce",
   "metadata": {},
   "outputs": [
    {
     "name": "stderr",
     "output_type": "stream",
     "text": [
      "WARNING:root:This is warning\n",
      "ERROR:root:This is error\n",
      "CRITICAL:root:This is critical\n"
     ]
    }
   ],
   "source": [
    "warning(\"This is warning\")\n",
    "error(\"This is error\") \n",
    "critical(\"This is critical\") "
   ]
  },
  {
   "cell_type": "code",
   "execution_count": 18,
   "id": "7218d952",
   "metadata": {},
   "outputs": [],
   "source": [
    "info(\"This is info\")\n",
    "debug(\"This is debug\") "
   ]
  },
  {
   "cell_type": "code",
   "execution_count": 19,
   "id": "d66724f7",
   "metadata": {},
   "outputs": [],
   "source": [
    "basicConfig(filename=\"Logfile.log\",level=DEBUG)"
   ]
  },
  {
   "cell_type": "code",
   "execution_count": 20,
   "id": "418a9ff8",
   "metadata": {},
   "outputs": [],
   "source": [
    "info(\"This is info\")\n",
    "debug(\"This is debug\") \n"
   ]
  },
  {
   "cell_type": "code",
   "execution_count": 21,
   "id": "c3f4c361",
   "metadata": {},
   "outputs": [],
   "source": [
    "basicConfig(filename=\"Logfile.log\",level=DEBUG , filemode=\"w\")"
   ]
  },
  {
   "cell_type": "code",
   "execution_count": 22,
   "id": "75d0dca6",
   "metadata": {},
   "outputs": [
    {
     "name": "stderr",
     "output_type": "stream",
     "text": [
      "WARNING:root:This is warning\n",
      "ERROR:root:This is error\n",
      "CRITICAL:root:This is critical\n"
     ]
    }
   ],
   "source": [
    "info(\"This is info in 'w' mode\")\n",
    "debug(\"This is debug\") \n",
    "warning(\"This is warning\")\n",
    "error(\"This is error\") \n",
    "critical(\"This is critical\") \n"
   ]
  },
  {
   "cell_type": "code",
   "execution_count": 23,
   "id": "7c2c9ab7",
   "metadata": {},
   "outputs": [],
   "source": [
    "#LOG_FORMAT=\"%(asctime)s // %(message)s  //%(lineno)d \""
   ]
  },
  {
   "cell_type": "code",
   "execution_count": 1,
   "id": "9fb1eaba",
   "metadata": {},
   "outputs": [],
   "source": [
    "from logging import *"
   ]
  },
  {
   "cell_type": "code",
   "execution_count": 2,
   "id": "7533e646",
   "metadata": {},
   "outputs": [],
   "source": [
    "LOG_FORMAT=\"{asctime}-*-{name}-*-{message}-*-{lineno}\""
   ]
  },
  {
   "cell_type": "code",
   "execution_count": 3,
   "id": "eea56fd5",
   "metadata": {},
   "outputs": [],
   "source": [
    "basicConfig(filename=\"Logfile.log\",level=DEBUG , filemode=\"w\",style=\"{\",format=LOG_FORMAT)"
   ]
  },
  {
   "cell_type": "code",
   "execution_count": 4,
   "id": "d0f612d1",
   "metadata": {},
   "outputs": [],
   "source": [
    "Logger=getLogger(\"Pooja\")"
   ]
  },
  {
   "cell_type": "code",
   "execution_count": 5,
   "id": "ce3713f1",
   "metadata": {},
   "outputs": [],
   "source": [
    "Logger.info(\"This is info in 'w' mode\")\n",
    "Logger.debug(\"This is debug\") \n",
    "Logger.warning(\"This is warning\")\n",
    "Logger.error(\"This is error\") \n",
    "Logger.critical(\"This is critical\") "
   ]
  },
  {
   "cell_type": "code",
   "execution_count": 29,
   "id": "74a60902",
   "metadata": {},
   "outputs": [],
   "source": [
    "lg.basicConfig(filename=\"Logfile.log\",level=DEBUG , filemode=\"w\",style=\"{\",format=LOG_FORMAT)"
   ]
  },
  {
   "cell_type": "code",
   "execution_count": 30,
   "id": "e1226154",
   "metadata": {},
   "outputs": [],
   "source": [
    "info(\"hii\")"
   ]
  },
  {
   "cell_type": "code",
   "execution_count": 31,
   "id": "1bf8a467",
   "metadata": {},
   "outputs": [],
   "source": [
    "basicConfig(filename=\"Logfile.log\")"
   ]
  },
  {
   "cell_type": "code",
   "execution_count": 32,
   "id": "b0d745b6",
   "metadata": {},
   "outputs": [],
   "source": [
    "info(\"hii\")"
   ]
  },
  {
   "cell_type": "code",
   "execution_count": 33,
   "id": "41cedffc",
   "metadata": {},
   "outputs": [
    {
     "name": "stdout",
     "output_type": "stream",
     "text": [
      "\n"
     ]
    }
   ],
   "source": [
    "print()"
   ]
  },
  {
   "cell_type": "code",
   "execution_count": 34,
   "id": "3d03f3e6",
   "metadata": {},
   "outputs": [],
   "source": [
    "import logging as lg"
   ]
  },
  {
   "cell_type": "code",
   "execution_count": 35,
   "id": "44570a10",
   "metadata": {},
   "outputs": [],
   "source": [
    "lg.basicConfig(filename=\"Logfile.log\")"
   ]
  },
  {
   "cell_type": "code",
   "execution_count": 36,
   "id": "60fed09e",
   "metadata": {},
   "outputs": [],
   "source": [
    "logger=lg.getLogger()"
   ]
  },
  {
   "cell_type": "code",
   "execution_count": 37,
   "id": "3f85782b",
   "metadata": {},
   "outputs": [],
   "source": [
    "logger.info(\"test info\")"
   ]
  },
  {
   "cell_type": "code",
   "execution_count": 38,
   "id": "0442a624",
   "metadata": {},
   "outputs": [
    {
     "name": "stdout",
     "output_type": "stream",
     "text": [
      "30\n"
     ]
    }
   ],
   "source": [
    "print(logger.level)"
   ]
  },
  {
   "cell_type": "code",
   "execution_count": 43,
   "id": "e0c4dabf",
   "metadata": {},
   "outputs": [],
   "source": [
    "lg.basicConfig(filename=\"Logfile.log\",level=lg.DEBUG)"
   ]
  },
  {
   "cell_type": "code",
   "execution_count": 40,
   "id": "58d96335",
   "metadata": {},
   "outputs": [],
   "source": [
    "logger.info(\"test info\")"
   ]
  },
  {
   "cell_type": "code",
   "execution_count": 6,
   "id": "a6d4ffd7",
   "metadata": {},
   "outputs": [
    {
     "ename": "TypeError",
     "evalue": "can only concatenate str (not \"int\") to str",
     "output_type": "error",
     "traceback": [
      "\u001b[1;31m---------------------------------------------------------------------------\u001b[0m",
      "\u001b[1;31mTypeError\u001b[0m                                 Traceback (most recent call last)",
      "\u001b[1;32m~\\AppData\\Local\\Temp/ipykernel_5712/3054867832.py\u001b[0m in \u001b[0;36m<module>\u001b[1;34m\u001b[0m\n\u001b[1;32m----> 1\u001b[1;33m \u001b[1;34m\"pooja\"\u001b[0m\u001b[1;33m+\u001b[0m\u001b[1;36m354\u001b[0m\u001b[1;33m\u001b[0m\u001b[1;33m\u001b[0m\u001b[0m\n\u001b[0m",
      "\u001b[1;31mTypeError\u001b[0m: can only concatenate str (not \"int\") to str"
     ]
    }
   ],
   "source": [
    "\"pooja\"+354"
   ]
  },
  {
   "cell_type": "code",
   "execution_count": 35,
   "id": "26022687",
   "metadata": {},
   "outputs": [],
   "source": [
    "def test(a,b):\n",
    "    try:\n",
    "        div=a/b\n",
    "        return div\n",
    "    except Exception as e:\n",
    "        print(\"You can check you log for more info if your code will fail\")\n",
    "        Logger.error(\"Error has occured\")\n",
    "        Logger.exception(str(e))"
   ]
  },
  {
   "cell_type": "code",
   "execution_count": 36,
   "id": "ecdea031",
   "metadata": {},
   "outputs": [
    {
     "name": "stdout",
     "output_type": "stream",
     "text": [
      "You can check you log for more info if your code will fail\n"
     ]
    }
   ],
   "source": [
    "test(4,0)"
   ]
  },
  {
   "cell_type": "code",
   "execution_count": 12,
   "id": "85ad2282",
   "metadata": {},
   "outputs": [],
   "source": [
    "def test(a,b):\n",
    "    try:\n",
    "        Logger.info(str(a)+str(b))\n",
    "        div=a/b\n",
    "        return div\n",
    "    except Exception as e:\n",
    "        print(\"You can check you log for more info if your code will fail\")\n",
    "        Logger.error(\"Error has occured\")\n",
    "        Logger.exception(str(e))"
   ]
  },
  {
   "cell_type": "code",
   "execution_count": 13,
   "id": "d5e78919",
   "metadata": {},
   "outputs": [
    {
     "name": "stdout",
     "output_type": "stream",
     "text": [
      "You can check you log for more info if your code will fail\n"
     ]
    }
   ],
   "source": [
    "test(4,0)"
   ]
  },
  {
   "cell_type": "code",
   "execution_count": 7,
   "id": "d5abd254",
   "metadata": {},
   "outputs": [],
   "source": [
    "from logging import *\n",
    "basicConfig(filename=\"C:\\\\Users\\\\HP\\\\Desktop\\\\Python\\\\Live Class Practice code\\\\LOGGING\\\\testloggin.log\",level=DEBUG,filemode=\"w\",style=\"{\",format=\"{asctime}-*-{name}-*-{message}-*-{lineno}\")\n",
    "def test(a,b) :   \n",
    "    info(f\"This is a start of Function {a},{b},{a+b}\")\n",
    "    return a+b"
   ]
  },
  {
   "cell_type": "code",
   "execution_count": 8,
   "id": "51dda42f",
   "metadata": {},
   "outputs": [
    {
     "data": {
      "text/plain": [
       "11"
      ]
     },
     "execution_count": 8,
     "metadata": {},
     "output_type": "execute_result"
    }
   ],
   "source": [
    "test(5,6)"
   ]
  },
  {
   "cell_type": "code",
   "execution_count": 9,
   "id": "7990401d",
   "metadata": {},
   "outputs": [
    {
     "data": {
      "text/plain": [
       "21"
      ]
     },
     "execution_count": 9,
     "metadata": {},
     "output_type": "execute_result"
    }
   ],
   "source": [
    "test(15,6)"
   ]
  },
  {
   "cell_type": "code",
   "execution_count": 10,
   "id": "51d05a9c",
   "metadata": {},
   "outputs": [],
   "source": [
    "shutdown()"
   ]
  },
  {
   "cell_type": "code",
   "execution_count": 4,
   "id": "3cbde4b9",
   "metadata": {},
   "outputs": [],
   "source": [
    "from loguru import logger\n",
    "import os"
   ]
  },
  {
   "cell_type": "code",
   "execution_count": 5,
   "id": "ff55b130",
   "metadata": {},
   "outputs": [
    {
     "data": {
      "text/plain": [
       "'C:\\\\Users\\\\HP\\\\Desktop\\\\Python\\\\Live Class Practice code'"
      ]
     },
     "execution_count": 5,
     "metadata": {},
     "output_type": "execute_result"
    }
   ],
   "source": [
    "pwd"
   ]
  },
  {
   "cell_type": "code",
   "execution_count": 13,
   "id": "768e2d7c",
   "metadata": {},
   "outputs": [
    {
     "data": {
      "text/plain": [
       "2"
      ]
     },
     "execution_count": 13,
     "metadata": {},
     "output_type": "execute_result"
    }
   ],
   "source": [
    "logger.add(\"Task{time}.log\",level=\"DEBUG\",rotation=\"500 MB\")"
   ]
  },
  {
   "cell_type": "code",
   "execution_count": 8,
   "id": "8c1189b8",
   "metadata": {},
   "outputs": [
    {
     "ename": "SyntaxError",
     "evalue": "EOL while scanning string literal (Temp/ipykernel_8592/3800089503.py, line 7)",
     "output_type": "error",
     "traceback": [
      "\u001b[1;36m  File \u001b[1;32m\"C:\\Users\\HP\\AppData\\Local\\Temp/ipykernel_8592/3800089503.py\"\u001b[1;36m, line \u001b[1;32m7\u001b[0m\n\u001b[1;33m    f=open((os.chdir(os.getcwd+\"Task{time}.log)),\"r\")\u001b[0m\n\u001b[1;37m                                                     ^\u001b[0m\n\u001b[1;31mSyntaxError\u001b[0m\u001b[1;31m:\u001b[0m EOL while scanning string literal\n"
     ]
    }
   ],
   "source": [
    "@logger.catch\n",
    "def add_agr(*args):\n",
    "    Sum_of_nos=sum(args)\n",
    "    logger.info(f\"Your try to Computerize {len(args)} input  For Sum and value is {args}\")\n",
    "    return Sum_of_nos\n",
    "\n"
   ]
  },
  {
   "cell_type": "code",
   "execution_count": 14,
   "id": "ce4c5c04",
   "metadata": {},
   "outputs": [
    {
     "ename": "FileNotFoundError",
     "evalue": "[WinError 2] The system cannot find the file specified: 'C:\\\\Users\\\\HP\\\\Desktop\\\\Python\\\\Live Class Practice code//Task{time}.log'",
     "output_type": "error",
     "traceback": [
      "\u001b[1;31m---------------------------------------------------------------------------\u001b[0m",
      "\u001b[1;31mFileNotFoundError\u001b[0m                         Traceback (most recent call last)",
      "\u001b[1;32m~\\AppData\\Local\\Temp/ipykernel_8592/2924958841.py\u001b[0m in \u001b[0;36m<module>\u001b[1;34m\u001b[0m\n\u001b[1;32m----> 1\u001b[1;33m \u001b[0mos\u001b[0m\u001b[1;33m.\u001b[0m\u001b[0mchdir\u001b[0m\u001b[1;33m(\u001b[0m\u001b[1;34m'C:\\\\Users\\\\HP\\\\Desktop\\\\Python\\\\Live Class Practice code'\u001b[0m\u001b[1;33m+\u001b[0m\u001b[1;34m\"//Task{time}.log\"\u001b[0m\u001b[1;33m)\u001b[0m\u001b[1;33m\u001b[0m\u001b[1;33m\u001b[0m\u001b[0m\n\u001b[0m",
      "\u001b[1;31mFileNotFoundError\u001b[0m: [WinError 2] The system cannot find the file specified: 'C:\\\\Users\\\\HP\\\\Desktop\\\\Python\\\\Live Class Practice code//Task{time}.log'"
     ]
    }
   ],
   "source": [
    "# os.chdir('C:\\\\Users\\\\HP\\\\Desktop\\\\Python\\\\Live Class Practice code'+\"//Task{time}.log\")"
   ]
  },
  {
   "cell_type": "code",
   "execution_count": 67,
   "id": "70943a4b",
   "metadata": {},
   "outputs": [
    {
     "name": "stderr",
     "output_type": "stream",
     "text": [
      "2022-05-28 14:44:16.938 | INFO     | __main__:add_agr:4 - Your try to Computerize 8 input  For Sum and value is (45, 86, 76, 96, 23, 20, -89, 4.5)\n"
     ]
    },
    {
     "data": {
      "text/plain": [
       "261.5"
      ]
     },
     "execution_count": 67,
     "metadata": {},
     "output_type": "execute_result"
    }
   ],
   "source": [
    "num=45,86,76,96,23,20,-89,4.5\n",
    "add_agr(*num)"
   ]
  },
  {
   "cell_type": "code",
   "execution_count": 68,
   "id": "d00eb071",
   "metadata": {},
   "outputs": [
    {
     "name": "stderr",
     "output_type": "stream",
     "text": [
      "2022-05-28 14:44:17.320 | ERROR    | __main__:<module>:2 - An error has been caught in function '<module>', process 'MainProcess' (3240), thread 'MainThread' (6364):\n",
      "Traceback (most recent call last):\n",
      "\n",
      "  File \"C:\\ProgramData\\Anaconda3\\lib\\runpy.py\", line 197, in _run_module_as_main\n",
      "    return _run_code(code, main_globals, None,\n",
      "           │         │     └ {'__name__': '__main__', '__doc__': 'Entry point for launching an IPython kernel.\\n\\nThis is separate from the ipykernel pack...\n",
      "           │         └ <code object <module> at 0x0000014EA1CC8C90, file \"C:\\ProgramData\\Anaconda3\\lib\\site-packages\\ipykernel_launcher.py\", line 1>\n",
      "           └ <function _run_code at 0x0000014EA1FB99D0>\n",
      "\n",
      "  File \"C:\\ProgramData\\Anaconda3\\lib\\runpy.py\", line 87, in _run_code\n",
      "    exec(code, run_globals)\n",
      "         │     └ {'__name__': '__main__', '__doc__': 'Entry point for launching an IPython kernel.\\n\\nThis is separate from the ipykernel pack...\n",
      "         └ <code object <module> at 0x0000014EA1CC8C90, file \"C:\\ProgramData\\Anaconda3\\lib\\site-packages\\ipykernel_launcher.py\", line 1>\n",
      "\n",
      "  File \"C:\\ProgramData\\Anaconda3\\lib\\site-packages\\ipykernel_launcher.py\", line 16, in <module>\n",
      "    app.launch_new_instance()\n",
      "    │   └ <bound method Application.launch_instance of <class 'ipykernel.kernelapp.IPKernelApp'>>\n",
      "    └ <module 'ipykernel.kernelapp' from 'C:\\\\ProgramData\\\\Anaconda3\\\\lib\\\\site-packages\\\\ipykernel\\\\kernelapp.py'>\n",
      "\n",
      "  File \"C:\\ProgramData\\Anaconda3\\lib\\site-packages\\traitlets\\config\\application.py\", line 846, in launch_instance\n",
      "    app.start()\n",
      "    │   └ <function IPKernelApp.start at 0x0000014EA62F2DC0>\n",
      "    └ <ipykernel.kernelapp.IPKernelApp object at 0x0000014EA17990A0>\n",
      "\n",
      "  File \"C:\\ProgramData\\Anaconda3\\lib\\site-packages\\ipykernel\\kernelapp.py\", line 677, in start\n",
      "    self.io_loop.start()\n",
      "    │    │       └ <function BaseAsyncIOLoop.start at 0x0000014EA4547C10>\n",
      "    │    └ <tornado.platform.asyncio.AsyncIOMainLoop object at 0x0000014EA62FF850>\n",
      "    └ <ipykernel.kernelapp.IPKernelApp object at 0x0000014EA17990A0>\n",
      "\n",
      "  File \"C:\\ProgramData\\Anaconda3\\lib\\site-packages\\tornado\\platform\\asyncio.py\", line 199, in start\n",
      "    self.asyncio_loop.run_forever()\n",
      "    │    │            └ <function BaseEventLoop.run_forever at 0x0000014EA3F14160>\n",
      "    │    └ <_WindowsSelectorEventLoop running=True closed=False debug=False>\n",
      "    └ <tornado.platform.asyncio.AsyncIOMainLoop object at 0x0000014EA62FF850>\n",
      "\n",
      "  File \"C:\\ProgramData\\Anaconda3\\lib\\asyncio\\base_events.py\", line 596, in run_forever\n",
      "    self._run_once()\n",
      "    │    └ <function BaseEventLoop._run_once at 0x0000014EA3F15CA0>\n",
      "    └ <_WindowsSelectorEventLoop running=True closed=False debug=False>\n",
      "\n",
      "  File \"C:\\ProgramData\\Anaconda3\\lib\\asyncio\\base_events.py\", line 1890, in _run_once\n",
      "    handle._run()\n",
      "    │      └ <function Handle._run at 0x0000014EA3EA7940>\n",
      "    └ <Handle <TaskWakeupMethWrapper object at 0x0000014EA7ED6700>(<Future finis...880>, ...],))>)>\n",
      "\n",
      "  File \"C:\\ProgramData\\Anaconda3\\lib\\asyncio\\events.py\", line 80, in _run\n",
      "    self._context.run(self._callback, *self._args)\n",
      "    │    │            │    │           │    └ <member '_args' of 'Handle' objects>\n",
      "    │    │            │    │           └ <Handle <TaskWakeupMethWrapper object at 0x0000014EA7ED6700>(<Future finis...880>, ...],))>)>\n",
      "    │    │            │    └ <member '_callback' of 'Handle' objects>\n",
      "    │    │            └ <Handle <TaskWakeupMethWrapper object at 0x0000014EA7ED6700>(<Future finis...880>, ...],))>)>\n",
      "    │    └ <member '_context' of 'Handle' objects>\n",
      "    └ <Handle <TaskWakeupMethWrapper object at 0x0000014EA7ED6700>(<Future finis...880>, ...],))>)>\n",
      "\n",
      "  File \"C:\\ProgramData\\Anaconda3\\lib\\site-packages\\ipykernel\\kernelbase.py\", line 457, in dispatch_queue\n",
      "    await self.process_one()\n",
      "          │    └ <function Kernel.process_one at 0x0000014EA5BC31F0>\n",
      "          └ <ipykernel.ipkernel.IPythonKernel object at 0x0000014EA631CAC0>\n",
      "\n",
      "  File \"C:\\ProgramData\\Anaconda3\\lib\\site-packages\\ipykernel\\kernelbase.py\", line 446, in process_one\n",
      "    await dispatch(*args)\n",
      "          │         └ ([<zmq.sugar.frame.Frame object at 0x0000014EA6314A90>, <zmq.sugar.frame.Frame object at 0x0000014EA63129E0>, <zmq.sugar.fram...\n",
      "          └ <bound method Kernel.dispatch_shell of <ipykernel.ipkernel.IPythonKernel object at 0x0000014EA631CAC0>>\n",
      "\n",
      "  File \"C:\\ProgramData\\Anaconda3\\lib\\site-packages\\ipykernel\\kernelbase.py\", line 353, in dispatch_shell\n",
      "    await result\n",
      "          └ <coroutine object Kernel.execute_request at 0x0000014EA789CDC0>\n",
      "\n",
      "  File \"C:\\ProgramData\\Anaconda3\\lib\\site-packages\\ipykernel\\kernelbase.py\", line 648, in execute_request\n",
      "    reply_content = await reply_content\n",
      "                          └ <coroutine object IPythonKernel.do_execute at 0x0000014EA7941640>\n",
      "\n",
      "  File \"C:\\ProgramData\\Anaconda3\\lib\\site-packages\\ipykernel\\ipkernel.py\", line 353, in do_execute\n",
      "    res = shell.run_cell(code, store_history=store_history, silent=silent)\n",
      "          │     │        │                   │                     └ False\n",
      "          │     │        │                   └ True\n",
      "          │     │        └ 'num=45,86,76,96,23,20,-89,4.5,789,\"str\"\\nadd_agr(*num)'\n",
      "          │     └ <function ZMQInteractiveShell.run_cell at 0x0000014EA5BED790>\n",
      "          └ <ipykernel.zmqshell.ZMQInteractiveShell object at 0x0000014EA6335190>\n",
      "\n",
      "  File \"C:\\ProgramData\\Anaconda3\\lib\\site-packages\\ipykernel\\zmqshell.py\", line 533, in run_cell\n",
      "    return super(ZMQInteractiveShell, self).run_cell(*args, **kwargs)\n",
      "                 │                    │               │       └ {'store_history': True, 'silent': False}\n",
      "                 │                    │               └ ('num=45,86,76,96,23,20,-89,4.5,789,\"str\"\\nadd_agr(*num)',)\n",
      "                 │                    └ <ipykernel.zmqshell.ZMQInteractiveShell object at 0x0000014EA6335190>\n",
      "                 └ <class 'ipykernel.zmqshell.ZMQInteractiveShell'>\n",
      "\n",
      "  File \"C:\\ProgramData\\Anaconda3\\lib\\site-packages\\IPython\\core\\interactiveshell.py\", line 2901, in run_cell\n",
      "    result = self._run_cell(\n",
      "             │    └ <function InteractiveShell._run_cell at 0x0000014EA48E1820>\n",
      "             └ <ipykernel.zmqshell.ZMQInteractiveShell object at 0x0000014EA6335190>\n",
      "\n",
      "  File \"C:\\ProgramData\\Anaconda3\\lib\\site-packages\\IPython\\core\\interactiveshell.py\", line 2947, in _run_cell\n",
      "    return runner(coro)\n",
      "           │      └ <coroutine object InteractiveShell.run_cell_async at 0x0000014EA794D540>\n",
      "           └ <function _pseudo_sync_runner at 0x0000014EA48C8E50>\n",
      "\n",
      "  File \"C:\\ProgramData\\Anaconda3\\lib\\site-packages\\IPython\\core\\async_helpers.py\", line 68, in _pseudo_sync_runner\n",
      "    coro.send(None)\n",
      "    │    └ <method 'send' of 'coroutine' objects>\n",
      "    └ <coroutine object InteractiveShell.run_cell_async at 0x0000014EA794D540>\n",
      "\n",
      "  File \"C:\\ProgramData\\Anaconda3\\lib\\site-packages\\IPython\\core\\interactiveshell.py\", line 3172, in run_cell_async\n",
      "    has_raised = await self.run_ast_nodes(code_ast.body, cell_name,\n",
      "                       │    │             │        │     └ 'C:\\\\Users\\\\HP\\\\AppData\\\\Local\\\\Temp/ipykernel_3240/2226938700.py'\n",
      "                       │    │             │        └ [<ast.Assign object at 0x0000014EA7EB8370>, <ast.Expr object at 0x0000014EA7EB8D60>]\n",
      "                       │    │             └ <ast.Module object at 0x0000014EA7EB8E20>\n",
      "                       │    └ <function InteractiveShell.run_ast_nodes at 0x0000014EA48E1AF0>\n",
      "                       └ <ipykernel.zmqshell.ZMQInteractiveShell object at 0x0000014EA6335190>\n",
      "\n",
      "  File \"C:\\ProgramData\\Anaconda3\\lib\\site-packages\\IPython\\core\\interactiveshell.py\", line 3364, in run_ast_nodes\n",
      "    if (await self.run_code(code, result,  async_=asy)):\n",
      "              │    │        │     │               └ False\n",
      "              │    │        │     └ <ExecutionResult object at 14ea7eb85e0, execution_count=68 error_before_exec=None error_in_exec=None info=<ExecutionInfo obje...\n",
      "              │    │        └ <code object <module> at 0x0000014EA8250190, file \"C:\\Users\\HP\\AppData\\Local\\Temp/ipykernel_3240/2226938700.py\", line 2>\n",
      "              │    └ <function InteractiveShell.run_code at 0x0000014EA48E1C10>\n",
      "              └ <ipykernel.zmqshell.ZMQInteractiveShell object at 0x0000014EA6335190>\n",
      "\n",
      "  File \"C:\\ProgramData\\Anaconda3\\lib\\site-packages\\IPython\\core\\interactiveshell.py\", line 3444, in run_code\n",
      "    exec(code_obj, self.user_global_ns, self.user_ns)\n",
      "         │         │    │               │    └ {'__name__': '__main__', '__doc__': 'Automatically created module for IPython interactive environment', '__package__': None, ...\n",
      "         │         │    │               └ <ipykernel.zmqshell.ZMQInteractiveShell object at 0x0000014EA6335190>\n",
      "         │         │    └ <property object at 0x0000014EA48D3680>\n",
      "         │         └ <ipykernel.zmqshell.ZMQInteractiveShell object at 0x0000014EA6335190>\n",
      "         └ <code object <module> at 0x0000014EA8250190, file \"C:\\Users\\HP\\AppData\\Local\\Temp/ipykernel_3240/2226938700.py\", line 2>\n",
      "\n",
      "> File \"C:\\Users\\HP\\AppData\\Local\\Temp/ipykernel_3240/2226938700.py\", line 2, in <module>\n",
      "    add_agr(*num)\n",
      "    │        └ (45, 86, 76, 96, 23, 20, -89, 4.5, 789, 'str')\n",
      "    └ <function add_agr at 0x0000014EA78B1040>\n",
      "\n",
      "  File \"C:\\Users\\HP\\AppData\\Local\\Temp/ipykernel_3240/486497072.py\", line 3, in add_agr\n",
      "    Sum_of_nos=sum(args)\n",
      "                   └ (45, 86, 76, 96, 23, 20, -89, 4.5, 789, 'str')\n",
      "\n",
      "TypeError: unsupported operand type(s) for +: 'float' and 'str'\n"
     ]
    }
   ],
   "source": [
    "num=45,86,76,96,23,20,-89,4.5,789,\"str\"\n",
    "add_agr(*num)"
   ]
  },
  {
   "cell_type": "code",
   "execution_count": null,
   "id": "2510f0e6",
   "metadata": {},
   "outputs": [],
   "source": []
  },
  {
   "cell_type": "code",
   "execution_count": null,
   "id": "457ff4f5",
   "metadata": {},
   "outputs": [],
   "source": []
  },
  {
   "cell_type": "code",
   "execution_count": 69,
   "id": "99301648",
   "metadata": {},
   "outputs": [
    {
     "name": "stderr",
     "output_type": "stream",
     "text": [
      "2022-05-28 14:44:19.407 | ERROR    | __main__:<module>:2 - An error has been caught in function '<module>', process 'MainProcess' (3240), thread 'MainThread' (6364):\n",
      "Traceback (most recent call last):\n",
      "\n",
      "  File \"C:\\ProgramData\\Anaconda3\\lib\\runpy.py\", line 197, in _run_module_as_main\n",
      "    return _run_code(code, main_globals, None,\n",
      "           │         │     └ {'__name__': '__main__', '__doc__': 'Entry point for launching an IPython kernel.\\n\\nThis is separate from the ipykernel pack...\n",
      "           │         └ <code object <module> at 0x0000014EA1CC8C90, file \"C:\\ProgramData\\Anaconda3\\lib\\site-packages\\ipykernel_launcher.py\", line 1>\n",
      "           └ <function _run_code at 0x0000014EA1FB99D0>\n",
      "\n",
      "  File \"C:\\ProgramData\\Anaconda3\\lib\\runpy.py\", line 87, in _run_code\n",
      "    exec(code, run_globals)\n",
      "         │     └ {'__name__': '__main__', '__doc__': 'Entry point for launching an IPython kernel.\\n\\nThis is separate from the ipykernel pack...\n",
      "         └ <code object <module> at 0x0000014EA1CC8C90, file \"C:\\ProgramData\\Anaconda3\\lib\\site-packages\\ipykernel_launcher.py\", line 1>\n",
      "\n",
      "  File \"C:\\ProgramData\\Anaconda3\\lib\\site-packages\\ipykernel_launcher.py\", line 16, in <module>\n",
      "    app.launch_new_instance()\n",
      "    │   └ <bound method Application.launch_instance of <class 'ipykernel.kernelapp.IPKernelApp'>>\n",
      "    └ <module 'ipykernel.kernelapp' from 'C:\\\\ProgramData\\\\Anaconda3\\\\lib\\\\site-packages\\\\ipykernel\\\\kernelapp.py'>\n",
      "\n",
      "  File \"C:\\ProgramData\\Anaconda3\\lib\\site-packages\\traitlets\\config\\application.py\", line 846, in launch_instance\n",
      "    app.start()\n",
      "    │   └ <function IPKernelApp.start at 0x0000014EA62F2DC0>\n",
      "    └ <ipykernel.kernelapp.IPKernelApp object at 0x0000014EA17990A0>\n",
      "\n",
      "  File \"C:\\ProgramData\\Anaconda3\\lib\\site-packages\\ipykernel\\kernelapp.py\", line 677, in start\n",
      "    self.io_loop.start()\n",
      "    │    │       └ <function BaseAsyncIOLoop.start at 0x0000014EA4547C10>\n",
      "    │    └ <tornado.platform.asyncio.AsyncIOMainLoop object at 0x0000014EA62FF850>\n",
      "    └ <ipykernel.kernelapp.IPKernelApp object at 0x0000014EA17990A0>\n",
      "\n",
      "  File \"C:\\ProgramData\\Anaconda3\\lib\\site-packages\\tornado\\platform\\asyncio.py\", line 199, in start\n",
      "    self.asyncio_loop.run_forever()\n",
      "    │    │            └ <function BaseEventLoop.run_forever at 0x0000014EA3F14160>\n",
      "    │    └ <_WindowsSelectorEventLoop running=True closed=False debug=False>\n",
      "    └ <tornado.platform.asyncio.AsyncIOMainLoop object at 0x0000014EA62FF850>\n",
      "\n",
      "  File \"C:\\ProgramData\\Anaconda3\\lib\\asyncio\\base_events.py\", line 596, in run_forever\n",
      "    self._run_once()\n",
      "    │    └ <function BaseEventLoop._run_once at 0x0000014EA3F15CA0>\n",
      "    └ <_WindowsSelectorEventLoop running=True closed=False debug=False>\n",
      "\n",
      "  File \"C:\\ProgramData\\Anaconda3\\lib\\asyncio\\base_events.py\", line 1890, in _run_once\n",
      "    handle._run()\n",
      "    │      └ <function Handle._run at 0x0000014EA3EA7940>\n",
      "    └ <Handle <TaskWakeupMethWrapper object at 0x0000014EA7EB8100>(<Future finis...880>, ...],))>)>\n",
      "\n",
      "  File \"C:\\ProgramData\\Anaconda3\\lib\\asyncio\\events.py\", line 80, in _run\n",
      "    self._context.run(self._callback, *self._args)\n",
      "    │    │            │    │           │    └ <member '_args' of 'Handle' objects>\n",
      "    │    │            │    │           └ <Handle <TaskWakeupMethWrapper object at 0x0000014EA7EB8100>(<Future finis...880>, ...],))>)>\n",
      "    │    │            │    └ <member '_callback' of 'Handle' objects>\n",
      "    │    │            └ <Handle <TaskWakeupMethWrapper object at 0x0000014EA7EB8100>(<Future finis...880>, ...],))>)>\n",
      "    │    └ <member '_context' of 'Handle' objects>\n",
      "    └ <Handle <TaskWakeupMethWrapper object at 0x0000014EA7EB8100>(<Future finis...880>, ...],))>)>\n",
      "\n",
      "  File \"C:\\ProgramData\\Anaconda3\\lib\\site-packages\\ipykernel\\kernelbase.py\", line 457, in dispatch_queue\n",
      "    await self.process_one()\n",
      "          │    └ <function Kernel.process_one at 0x0000014EA5BC31F0>\n",
      "          └ <ipykernel.ipkernel.IPythonKernel object at 0x0000014EA631CAC0>\n",
      "\n",
      "  File \"C:\\ProgramData\\Anaconda3\\lib\\site-packages\\ipykernel\\kernelbase.py\", line 446, in process_one\n",
      "    await dispatch(*args)\n",
      "          │         └ ([<zmq.sugar.frame.Frame object at 0x0000014EA6314A90>, <zmq.sugar.frame.Frame object at 0x0000014EA63129E0>, <zmq.sugar.fram...\n",
      "          └ <bound method Kernel.dispatch_shell of <ipykernel.ipkernel.IPythonKernel object at 0x0000014EA631CAC0>>\n",
      "\n",
      "  File \"C:\\ProgramData\\Anaconda3\\lib\\site-packages\\ipykernel\\kernelbase.py\", line 353, in dispatch_shell\n",
      "    await result\n",
      "          └ <coroutine object Kernel.execute_request at 0x0000014EA76A0C40>\n",
      "\n",
      "  File \"C:\\ProgramData\\Anaconda3\\lib\\site-packages\\ipykernel\\kernelbase.py\", line 648, in execute_request\n",
      "    reply_content = await reply_content\n",
      "                          └ <coroutine object IPythonKernel.do_execute at 0x0000014EA789CAC0>\n",
      "\n",
      "  File \"C:\\ProgramData\\Anaconda3\\lib\\site-packages\\ipykernel\\ipkernel.py\", line 353, in do_execute\n",
      "    res = shell.run_cell(code, store_history=store_history, silent=silent)\n",
      "          │     │        │                   │                     └ False\n",
      "          │     │        │                   └ True\n",
      "          │     │        └ 'num=45,86,76,96,23,20,-89,4.5\\nadd_agr(num)'\n",
      "          │     └ <function ZMQInteractiveShell.run_cell at 0x0000014EA5BED790>\n",
      "          └ <ipykernel.zmqshell.ZMQInteractiveShell object at 0x0000014EA6335190>\n",
      "\n",
      "  File \"C:\\ProgramData\\Anaconda3\\lib\\site-packages\\ipykernel\\zmqshell.py\", line 533, in run_cell\n",
      "    return super(ZMQInteractiveShell, self).run_cell(*args, **kwargs)\n",
      "                 │                    │               │       └ {'store_history': True, 'silent': False}\n",
      "                 │                    │               └ ('num=45,86,76,96,23,20,-89,4.5\\nadd_agr(num)',)\n",
      "                 │                    └ <ipykernel.zmqshell.ZMQInteractiveShell object at 0x0000014EA6335190>\n",
      "                 └ <class 'ipykernel.zmqshell.ZMQInteractiveShell'>\n",
      "\n",
      "  File \"C:\\ProgramData\\Anaconda3\\lib\\site-packages\\IPython\\core\\interactiveshell.py\", line 2901, in run_cell\n",
      "    result = self._run_cell(\n",
      "             │    └ <function InteractiveShell._run_cell at 0x0000014EA48E1820>\n",
      "             └ <ipykernel.zmqshell.ZMQInteractiveShell object at 0x0000014EA6335190>\n",
      "\n",
      "  File \"C:\\ProgramData\\Anaconda3\\lib\\site-packages\\IPython\\core\\interactiveshell.py\", line 2947, in _run_cell\n",
      "    return runner(coro)\n",
      "           │      └ <coroutine object InteractiveShell.run_cell_async at 0x0000014EA789CDC0>\n",
      "           └ <function _pseudo_sync_runner at 0x0000014EA48C8E50>\n",
      "\n",
      "  File \"C:\\ProgramData\\Anaconda3\\lib\\site-packages\\IPython\\core\\async_helpers.py\", line 68, in _pseudo_sync_runner\n",
      "    coro.send(None)\n",
      "    │    └ <method 'send' of 'coroutine' objects>\n",
      "    └ <coroutine object InteractiveShell.run_cell_async at 0x0000014EA789CDC0>\n",
      "\n",
      "  File \"C:\\ProgramData\\Anaconda3\\lib\\site-packages\\IPython\\core\\interactiveshell.py\", line 3172, in run_cell_async\n",
      "    has_raised = await self.run_ast_nodes(code_ast.body, cell_name,\n",
      "                       │    │             │        │     └ 'C:\\\\Users\\\\HP\\\\AppData\\\\Local\\\\Temp/ipykernel_3240/2196785984.py'\n",
      "                       │    │             │        └ [<ast.Assign object at 0x0000014EA7ED6790>, <ast.Expr object at 0x0000014EA7ED87F0>]\n",
      "                       │    │             └ <ast.Module object at 0x0000014EA7ED6A60>\n",
      "                       │    └ <function InteractiveShell.run_ast_nodes at 0x0000014EA48E1AF0>\n",
      "                       └ <ipykernel.zmqshell.ZMQInteractiveShell object at 0x0000014EA6335190>\n",
      "\n",
      "  File \"C:\\ProgramData\\Anaconda3\\lib\\site-packages\\IPython\\core\\interactiveshell.py\", line 3364, in run_ast_nodes\n",
      "    if (await self.run_code(code, result,  async_=asy)):\n",
      "              │    │        │     │               └ False\n",
      "              │    │        │     └ <ExecutionResult object at 14ea7eb8a30, execution_count=69 error_before_exec=None error_in_exec=None info=<ExecutionInfo obje...\n",
      "              │    │        └ <code object <module> at 0x0000014EA7A98030, file \"C:\\Users\\HP\\AppData\\Local\\Temp/ipykernel_3240/2196785984.py\", line 2>\n",
      "              │    └ <function InteractiveShell.run_code at 0x0000014EA48E1C10>\n",
      "              └ <ipykernel.zmqshell.ZMQInteractiveShell object at 0x0000014EA6335190>\n",
      "\n",
      "  File \"C:\\ProgramData\\Anaconda3\\lib\\site-packages\\IPython\\core\\interactiveshell.py\", line 3444, in run_code\n",
      "    exec(code_obj, self.user_global_ns, self.user_ns)\n",
      "         │         │    │               │    └ {'__name__': '__main__', '__doc__': 'Automatically created module for IPython interactive environment', '__package__': None, ...\n",
      "         │         │    │               └ <ipykernel.zmqshell.ZMQInteractiveShell object at 0x0000014EA6335190>\n",
      "         │         │    └ <property object at 0x0000014EA48D3680>\n",
      "         │         └ <ipykernel.zmqshell.ZMQInteractiveShell object at 0x0000014EA6335190>\n",
      "         └ <code object <module> at 0x0000014EA7A98030, file \"C:\\Users\\HP\\AppData\\Local\\Temp/ipykernel_3240/2196785984.py\", line 2>\n",
      "\n",
      "> File \"C:\\Users\\HP\\AppData\\Local\\Temp/ipykernel_3240/2196785984.py\", line 2, in <module>\n",
      "    add_agr(num)\n",
      "    │       └ (45, 86, 76, 96, 23, 20, -89, 4.5)\n",
      "    └ <function add_agr at 0x0000014EA78B1040>\n",
      "\n",
      "  File \"C:\\Users\\HP\\AppData\\Local\\Temp/ipykernel_3240/486497072.py\", line 3, in add_agr\n",
      "    Sum_of_nos=sum(args)\n",
      "                   └ ((45, 86, 76, 96, 23, 20, -89, 4.5),)\n",
      "\n",
      "TypeError: unsupported operand type(s) for +: 'int' and 'tuple'\n"
     ]
    }
   ],
   "source": [
    "num=45,86,76,96,23,20,-89,4.5\n",
    "add_agr(num)"
   ]
  },
  {
   "cell_type": "code",
   "execution_count": 70,
   "id": "cfaea574",
   "metadata": {},
   "outputs": [
    {
     "data": {
      "text/plain": [
       "15"
      ]
     },
     "execution_count": 70,
     "metadata": {},
     "output_type": "execute_result"
    }
   ],
   "source": [
    "t=(4,5,6)\n",
    "sum(t)"
   ]
  },
  {
   "cell_type": "code",
   "execution_count": 71,
   "id": "2b676cc9",
   "metadata": {},
   "outputs": [
    {
     "name": "stderr",
     "output_type": "stream",
     "text": [
      "2022-05-28 14:44:20.721 | INFO     | __main__:add_agr:4 - Your try to Computerize 10 input  For Sum and value is (45, 86, 76, 96, 23, 20, -89, 4.5, 789, 896)\n"
     ]
    },
    {
     "data": {
      "text/plain": [
       "1946.5"
      ]
     },
     "execution_count": 71,
     "metadata": {},
     "output_type": "execute_result"
    }
   ],
   "source": [
    "num=45,86,76,96,23,20,-89,4.5,789,896\n",
    "add_agr(*num)"
   ]
  },
  {
   "cell_type": "code",
   "execution_count": 1,
   "id": "5d10c596",
   "metadata": {},
   "outputs": [],
   "source": [
    "import logging"
   ]
  },
  {
   "cell_type": "code",
   "execution_count": 2,
   "id": "12c8dd81",
   "metadata": {},
   "outputs": [],
   "source": [
    "LOG_FORMAT=\"{asctime}-*-{name}-*-{message}-*-{lineno}\"\n",
    "# basicConfig(filename=\"Task.log\",level=DEBUG,filemode=\"w\",style=\"{\",format=LOG_FORMAT)\n",
    "logging.basicConfig(filename=\"C:\\\\Users\\\\HP\\\\Desktop\\\\Python\\\\Live Class Practice code\\\\Task.log\",level=logging.DEBUG,filemode=\"w\",style=\"{\",format=\"{asctime}-*-{name}-*-{message}-*-{lineno}\")\n",
    "\n"
   ]
  },
  {
   "cell_type": "code",
   "execution_count": 3,
   "id": "0ca2d436",
   "metadata": {},
   "outputs": [],
   "source": [
    "logging.info(\"Testing\")"
   ]
  },
  {
   "cell_type": "code",
   "execution_count": 4,
   "id": "530791b6",
   "metadata": {},
   "outputs": [
    {
     "name": "stdout",
     "output_type": "stream",
     "text": [
      "2022-05-28 23:13:16,850-*-root-*-Your try to Computerize 10 input  For Sum and value is (45, 86, 76, 96, 23, 20, -89, 4.5, 789, 'str')-*-14\n",
      "2022-05-28 23:13:16,851-*-root-*-You can check you log for more info if your code will fail-*-19\n",
      "2022-05-28 23:13:16,851-*-root-*-Error has occured-*-20\n",
      "2022-05-28 23:13:16,852-*-root-*-unsupported operand type(s) for +: 'float' and 'str'-*-21\n",
      "Traceback (most recent call last):\n",
      "  File \"C:\\Users\\HP\\AppData\\Local\\Temp/ipykernel_8544/2909884606.py\", line 15, in add_agrs\n",
      "    Sum_of_nos=sum(args)\n",
      "TypeError: unsupported operand type(s) for +: 'float' and 'str'\n",
      "2022-05-28 23:13:16,853-*-root-*-Your try to Computerize 8 input  For Sum and value is (45, 86, 76, 96, 23, 20, -89, 4.5)-*-14\n",
      "2022-05-28 23:16:10,805-*-parso.cache-*-pickle loaded: C:\\ProgramData\\Anaconda3\\lib\\site-packages\\jedi\\third_party\\typeshed\\stdlib\\2and3\\builtins.pyi-*-152\n",
      "2022-05-28 23:16:10,858-*-parso.cache-*-pickle loaded: C:\\ProgramData\\Anaconda3\\lib\\site-packages\\jedi\\third_party\\typeshed\\stdlib\\3\\sys.pyi-*-152\n",
      "2022-05-28 23:16:16,646-*-root-*-Your try to Computerize 10 input  For Sum and value is (45, 86, 76, 96, 23, 20, -89, 4.5, 789, 'str')-*-14\n",
      "2022-05-28 23:16:16,647-*-root-*-You can check you log for more info if your code will fail-*-20\n",
      "2022-05-28 23:16:16,647-*-root-*-Error has occured-*-21\n",
      "2022-05-28 23:16:16,647-*-root-*-unsupported operand type(s) for +: 'float' and 'str'-*-22\n",
      "Traceback (most recent call last):\n",
      "  File \"C:\\Users\\HP\\AppData\\Local\\Temp/ipykernel_8544/2854868666.py\", line 15, in add_agrs\n",
      "    Sum_of_nos=sum(args)\n",
      "TypeError: unsupported operand type(s) for +: 'float' and 'str'\n",
      "2022-05-28 23:16:16,648-*-root-*-Your try to Computerize 8 input  For Sum and value is (45, 86, 76, 96, 23, 20, -89, 4.5)-*-14\n",
      "2022-05-28 23:16:16,649-*-root-*-Sum is261.5-*-16\n",
      "\n"
     ]
    },
    {
     "data": {
      "text/plain": [
       "261.5"
      ]
     },
     "execution_count": 4,
     "metadata": {},
     "output_type": "execute_result"
    }
   ],
   "source": [
    "LOG_FORMAT=\"{asctime}-*-{name}-*-{message}-*-{lineno}\"\n",
    "# basicConfig(filename=\"Task.log\",level=DEBUG,filemode=\"w\",style=\"{\",format=LOG_FORMAT)\n",
    "logging.basicConfig(filename=\"C:\\\\Users\\\\HP\\\\Desktop\\\\Python\\\\Live Class Practice code\\\\Task2.log\",\n",
    "                    level=logging.DEBUG,\n",
    "                    filemode=\"w\",\n",
    "                    style=\"{\",\n",
    "                    format=LOG_FORMAT)\n",
    "\n",
    "\n",
    "logger=logging.getLogger()\n",
    "\n",
    "def add_agrs(*args):\n",
    "    try:\n",
    "        logger.info(f\"Your try to Computerize {len(args)} input  For Sum and value is {args}\")\n",
    "        Sum_of_nos=sum(args) \n",
    "        logger.info(f\"Sum is {Sum_of_nos}\")\n",
    "        return Sum_of_nos\n",
    "    except Exception as e:\n",
    "        print(\"You can check you log for more info if your code will fail\")\n",
    "        logger.info(\"You can check you log for more info if your code will fail\")\n",
    "        logger.error(\"Error has occured\")\n",
    "        logger.exception(str(e))\n",
    "\n",
    "f=open(\"C:\\\\Users\\\\HP\\\\Desktop\\\\Python\\\\Live Class Practice code\\\\Task2.log\",\"r\")\n",
    "print(f.read())           \n",
    "\n",
    "\n",
    "# num=45,86,76,96,23,20,-89,4.5,789,\"str\"\n",
    "# add_agrs(*num)\n",
    "\n",
    "num=45,86,76,96,23,20,-89,4.5\n",
    "add_agrs(*num)\n",
    "\n",
    "\n",
    "\n",
    "\n"
   ]
  },
  {
   "cell_type": "code",
   "execution_count": 8,
   "id": "55c5c43a",
   "metadata": {},
   "outputs": [
    {
     "data": {
      "text/plain": [
       "261.5"
      ]
     },
     "execution_count": 8,
     "metadata": {},
     "output_type": "execute_result"
    }
   ],
   "source": [
    "num=45,86,76,96,23,20,-89,4.5\n",
    "add_agrs(*num)"
   ]
  },
  {
   "cell_type": "code",
   "execution_count": 11,
   "id": "bf014336",
   "metadata": {},
   "outputs": [
    {
     "name": "stdout",
     "output_type": "stream",
     "text": [
      "You can check you log for more info if your code will fail\n"
     ]
    }
   ],
   "source": [
    "num=45,86,76,96,23,20,-89,4.5,789,\"str\"\n",
    "add_agrs(*num)"
   ]
  },
  {
   "cell_type": "code",
   "execution_count": 1,
   "id": "69b91342",
   "metadata": {},
   "outputs": [],
   "source": [
    "import logging\n",
    "\n",
    "LOG_FORMAT=\"{asctime}-*-{name}-*-{message}-*-{lineno}\"\n",
    "# basicConfig(filename=\"Task.log\",level=DEBUG,filemode=\"w\",style=\"{\",format=LOG_FORMAT)\n",
    "logging.basicConfig(level=logging.DEBUG,\n",
    "                    filemode=\"w\",\n",
    "                    style=\"{\",\n",
    "                    format=LOG_FORMAT)\n",
    "\n",
    "\n",
    "\n",
    "\n",
    "\n"
   ]
  },
  {
   "cell_type": "code",
   "execution_count": 2,
   "id": "b4e2bc00",
   "metadata": {},
   "outputs": [],
   "source": [
    "console_log=logging.StreamHandler()\n",
    "console_log.setLevel(logging.INFO)"
   ]
  },
  {
   "cell_type": "code",
   "execution_count": 3,
   "id": "54e93a1d",
   "metadata": {},
   "outputs": [],
   "source": [
    "format=\"%(asctime)s %(name)s %(message)s %(lineno)d\""
   ]
  },
  {
   "cell_type": "code",
   "execution_count": 4,
   "id": "2057f3ab",
   "metadata": {},
   "outputs": [],
   "source": [
    "console_log.setFormatter(format)"
   ]
  },
  {
   "cell_type": "code",
   "execution_count": 5,
   "id": "572c9d4b",
   "metadata": {},
   "outputs": [],
   "source": [
    "logging.getLogger('').addHandler(console_log)"
   ]
  },
  {
   "cell_type": "code",
   "execution_count": 6,
   "id": "47614f95",
   "metadata": {},
   "outputs": [
    {
     "name": "stderr",
     "output_type": "stream",
     "text": [
      "2022-05-29 00:47:28,517-*-root-*-This is my  first test code for log-*-1\n",
      "%(asctime)s %(name)s %(message)s %(lineno)d\n"
     ]
    }
   ],
   "source": [
    "logging.info(\"This is my  first test code for log\")"
   ]
  },
  {
   "cell_type": "code",
   "execution_count": 7,
   "id": "5038c8cd",
   "metadata": {},
   "outputs": [],
   "source": [
    "logger1=logging.getLogger(\"logger1.area1\")\n",
    "logger2=logging.getLogger(\"logger2.area2\")"
   ]
  },
  {
   "cell_type": "code",
   "execution_count": 8,
   "id": "a4486293",
   "metadata": {},
   "outputs": [
    {
     "name": "stderr",
     "output_type": "stream",
     "text": [
      "2022-05-29 00:47:29,386-*-logger1.area1-*-this is info for looger one-*-1\n",
      "%(asctime)s %(name)s %(message)s %(lineno)d\n",
      "2022-05-29 00:47:29,389-*-logger2.area2-*-this is a debug for logger two-*-2\n",
      "2022-05-29 00:47:29,390-*-logger2.area2-*-this is info for looger one-*-3\n",
      "%(asctime)s %(name)s %(message)s %(lineno)d\n"
     ]
    }
   ],
   "source": [
    "logger1.info(\"this is info for looger one\")\n",
    "logger2.debug(\"this is a debug for logger two\")\n",
    "logger2.info(\"this is info for looger one\")"
   ]
  },
  {
   "cell_type": "code",
   "execution_count": null,
   "id": "53f84e7c",
   "metadata": {},
   "outputs": [],
   "source": []
  },
  {
   "cell_type": "code",
   "execution_count": null,
   "id": "30019778",
   "metadata": {},
   "outputs": [],
   "source": []
  }
 ],
 "metadata": {
  "kernelspec": {
   "display_name": "Python 3 (ipykernel)",
   "language": "python",
   "name": "python3"
  },
  "language_info": {
   "codemirror_mode": {
    "name": "ipython",
    "version": 3
   },
   "file_extension": ".py",
   "mimetype": "text/x-python",
   "name": "python",
   "nbconvert_exporter": "python",
   "pygments_lexer": "ipython3",
   "version": "3.9.7"
  }
 },
 "nbformat": 4,
 "nbformat_minor": 5
}
