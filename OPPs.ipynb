{
 "cells": [
  {
   "cell_type": "code",
   "execution_count": 1,
   "id": "252240b0",
   "metadata": {},
   "outputs": [
    {
     "name": "stdout",
     "output_type": "stream",
     "text": [
      "<class 'str'>\n"
     ]
    }
   ],
   "source": [
    "print(type(\"hello\"))"
   ]
  },
  {
   "cell_type": "code",
   "execution_count": 2,
   "id": "7566bad9",
   "metadata": {},
   "outputs": [
    {
     "name": "stdout",
     "output_type": "stream",
     "text": [
      "<class 'function'>\n"
     ]
    }
   ],
   "source": [
    "def test():\n",
    "    print(\"I am an object\")\n",
    "print(type(test))    "
   ]
  },
  {
   "cell_type": "markdown",
   "id": "33410a62",
   "metadata": {},
   "source": [
    "### \\__str__ is a special method, like \\__init__ , that is supposed to return a string representation of an object.\n",
    "\n",
    "**Without \\__str__**\n",
    "\n",
    "       s=student(\"pooja\",28,41)\n",
    "       print(s)\n",
    "       <__main__.student object at 0x000001EAA9C83040> \n",
    "       \n",
    "**With \\__str__**  \n",
    "\n",
    "        s=student(\"pooja\",28,41)\n",
    "        print(s)\n",
    "        This is object of class and Student Name ispooja ,Age is 28 and Studend Roll no. is 41\n"
   ]
  },
  {
   "cell_type": "code",
   "execution_count": 13,
   "id": "75bd6f74",
   "metadata": {},
   "outputs": [],
   "source": [
    "class student:\n",
    "    def __init__(self,name,age,Roll_no):\n",
    "        self.name=name\n",
    "        self.age=age\n",
    "        self.Roll_no=Roll_no\n",
    "        \n",
    "    def __str__(self):\n",
    "        return f\"This is object of class and Student Name is{self.name} ,Age is {self.age} and Studend Roll no. is {self.Roll_no}\"\n",
    "    "
   ]
  },
  {
   "cell_type": "code",
   "execution_count": 14,
   "id": "9514dc79",
   "metadata": {},
   "outputs": [],
   "source": [
    "s=student(\"pooja\",28,41)"
   ]
  },
  {
   "cell_type": "code",
   "execution_count": 15,
   "id": "222df1f3",
   "metadata": {},
   "outputs": [
    {
     "name": "stdout",
     "output_type": "stream",
     "text": [
      "This is object of class and Student Name ispooja ,Age is 28 and Studend Roll no. is 41\n"
     ]
    }
   ],
   "source": [
    "print(s)"
   ]
  },
  {
   "cell_type": "code",
   "execution_count": null,
   "id": "945f717b",
   "metadata": {},
   "outputs": [],
   "source": []
  },
  {
   "cell_type": "markdown",
   "id": "655c3818",
   "metadata": {},
   "source": [
    "## Major Concept of OOP in Python:\n",
    "\n",
    "**Class**\n",
    "\n",
    "**Object**\n",
    "\n",
    "**Method**\n",
    "\n",
    "**Inheritance**\n",
    "\n",
    "**Encapusaltion**\n",
    "\n",
    "**Polymorphism**\n",
    "\n",
    "**Data Abstraction**"
   ]
  },
  {
   "cell_type": "code",
   "execution_count": 4,
   "id": "ca157259",
   "metadata": {},
   "outputs": [],
   "source": [
    "class car(): # () opitional\n",
    "    pass"
   ]
  },
  {
   "cell_type": "code",
   "execution_count": 5,
   "id": "8d5a5cab",
   "metadata": {},
   "outputs": [
    {
     "name": "stdout",
     "output_type": "stream",
     "text": [
      "<class '__main__.car'>\n"
     ]
    }
   ],
   "source": [
    "print(car)"
   ]
  },
  {
   "cell_type": "code",
   "execution_count": 6,
   "id": "a1886229",
   "metadata": {},
   "outputs": [
    {
     "name": "stdout",
     "output_type": "stream",
     "text": [
      "<class 'type'>\n"
     ]
    }
   ],
   "source": [
    "print(type(car))"
   ]
  },
  {
   "cell_type": "code",
   "execution_count": 7,
   "id": "d6fa724d",
   "metadata": {},
   "outputs": [
    {
     "name": "stdout",
     "output_type": "stream",
     "text": [
      "car\n"
     ]
    }
   ],
   "source": [
    "print(car.__name__)"
   ]
  },
  {
   "cell_type": "code",
   "execution_count": 8,
   "id": "fdbd7b49",
   "metadata": {},
   "outputs": [],
   "source": [
    "class car:\n",
    "    \"\"\"This is my docstring , this explain breief about the class\"\"\""
   ]
  },
  {
   "cell_type": "code",
   "execution_count": 9,
   "id": "894eb34b",
   "metadata": {},
   "outputs": [
    {
     "name": "stdout",
     "output_type": "stream",
     "text": [
      "This is my docstring , this explain breief about the class\n"
     ]
    }
   ],
   "source": [
    "print(car.__doc__)"
   ]
  },
  {
   "cell_type": "code",
   "execution_count": 11,
   "id": "69d9d375",
   "metadata": {},
   "outputs": [],
   "source": [
    "a=car()"
   ]
  },
  {
   "cell_type": "code",
   "execution_count": 12,
   "id": "eeea9220",
   "metadata": {},
   "outputs": [
    {
     "name": "stdout",
     "output_type": "stream",
     "text": [
      "<__main__.car object at 0x0000013C678C69A0>\n",
      "<class '__main__.car'>\n",
      "True\n"
     ]
    }
   ],
   "source": [
    "print(a)\n",
    "print(type(a))\n",
    "print(isinstance(a,car))"
   ]
  },
  {
   "cell_type": "code",
   "execution_count": 13,
   "id": "c8ceaa97",
   "metadata": {},
   "outputs": [],
   "source": [
    "class car:\n",
    "    brand=\"Toyota\"\n",
    "    name=\"Inova\"\n",
    "    version=\"2.Ov\""
   ]
  },
  {
   "cell_type": "code",
   "execution_count": 15,
   "id": "98e79855",
   "metadata": {},
   "outputs": [
    {
     "name": "stdout",
     "output_type": "stream",
     "text": [
      "Inova\n",
      "2.Ov\n"
     ]
    }
   ],
   "source": [
    "print(getattr(car,\"name\"))\n",
    "print(getattr(car,\"version\"))"
   ]
  },
  {
   "cell_type": "code",
   "execution_count": 17,
   "id": "6dd03d10",
   "metadata": {},
   "outputs": [
    {
     "data": {
      "text/plain": [
       "'Toyota'"
      ]
     },
     "execution_count": 17,
     "metadata": {},
     "output_type": "execute_result"
    }
   ],
   "source": [
    "car.brand # another way to differ"
   ]
  },
  {
   "cell_type": "code",
   "execution_count": 18,
   "id": "dca15ed1",
   "metadata": {},
   "outputs": [
    {
     "name": "stdout",
     "output_type": "stream",
     "text": [
      "100\n"
     ]
    },
    {
     "ename": "TypeError",
     "evalue": "ExampleOfMethod() takes 0 positional arguments but 1 was given",
     "output_type": "error",
     "traceback": [
      "\u001b[1;31m---------------------------------------------------------------------------\u001b[0m",
      "\u001b[1;31mTypeError\u001b[0m                                 Traceback (most recent call last)",
      "\u001b[1;32m~\\AppData\\Local\\Temp/ipykernel_10552/1214822217.py\u001b[0m in \u001b[0;36m<module>\u001b[1;34m\u001b[0m\n\u001b[0;32m     15\u001b[0m \u001b[1;31m#calling method\u001b[0m\u001b[1;33m\u001b[0m\u001b[1;33m\u001b[0m\u001b[0m\n\u001b[0;32m     16\u001b[0m \u001b[1;33m\u001b[0m\u001b[0m\n\u001b[1;32m---> 17\u001b[1;33m \u001b[0mobj\u001b[0m\u001b[1;33m.\u001b[0m\u001b[0mExampleOfMethod\u001b[0m\u001b[1;33m(\u001b[0m\u001b[1;33m)\u001b[0m\u001b[1;33m\u001b[0m\u001b[1;33m\u001b[0m\u001b[0m\n\u001b[0m\u001b[0;32m     18\u001b[0m \u001b[1;33m\u001b[0m\u001b[0m\n\u001b[0;32m     19\u001b[0m \u001b[1;31m#printing docstring\u001b[0m\u001b[1;33m\u001b[0m\u001b[1;33m\u001b[0m\u001b[0m\n",
      "\u001b[1;31mTypeError\u001b[0m: ExampleOfMethod() takes 0 positional arguments but 1 was given"
     ]
    }
   ],
   "source": [
    "class Human:\n",
    "    \"\"\"This class demonstrate the creation of objects\"\"\"\n",
    "    #instance attribute\n",
    "    num=100\n",
    "    \n",
    "    #instance Method\n",
    "    def ExampleOfMethod():\n",
    "        print(\"Iam just  a function or a class\")\n",
    "        \n",
    "# creating object of Human class   \n",
    "obj=Human()\n",
    "print(obj.num)\n",
    "\n",
    "\n",
    "#calling method\n",
    "\n",
    "obj.ExampleOfMethod()\n",
    "\n",
    "#printing docstring\n",
    "\n",
    "print(Human.__doc__)\n",
    "    "
   ]
  },
  {
   "cell_type": "code",
   "execution_count": 19,
   "id": "c924736b",
   "metadata": {},
   "outputs": [
    {
     "name": "stdout",
     "output_type": "stream",
     "text": [
      "100\n",
      "Iam just  a function or a class\n",
      "This class demonstrate the creation of objects\n"
     ]
    }
   ],
   "source": [
    "class Human:\n",
    "    \"\"\"This class demonstrate the creation of objects\"\"\"\n",
    "    #instance attribute\n",
    "    num=100\n",
    "    \n",
    "    #instance Method\n",
    "    def ExampleOfMethod(self): # self\n",
    "        print(\"Iam just  a function or a class\")\n",
    "        \n",
    "# creating object of Human class   \n",
    "obj=Human()\n",
    "print(obj.num)\n",
    "\n",
    "\n",
    "#calling method\n",
    "\n",
    "obj.ExampleOfMethod()\n",
    "\n",
    "#printing docstring\n",
    "\n",
    "print(Human.__doc__)"
   ]
  },
  {
   "cell_type": "markdown",
   "id": "cbf38869",
   "metadata": {},
   "source": [
    "## self & __init__()(Constructors)"
   ]
  },
  {
   "cell_type": "code",
   "execution_count": 23,
   "id": "d4a24ad5",
   "metadata": {},
   "outputs": [
    {
     "name": "stdout",
     "output_type": "stream",
     "text": [
      "Water and Air\n",
      "Height of Ram is 6\n",
      "Weight of Ram is 70\n",
      "Ram is eating pizza\n",
      "Height of Pooja is 5.3\n",
      "Weight of Pooja is 72\n",
      "Pooja is eating Big Burger\n"
     ]
    }
   ],
   "source": [
    "class Human:\n",
    "    #class varible\n",
    "    life=\"Water and Air\" #global varible\n",
    "    \n",
    "    #instance attributes\n",
    "    def __init__(self,name, height,weight):\n",
    "        self.name=name\n",
    "        self.height=height\n",
    "        self.weight=weight\n",
    "        \n",
    "     #instance method   \n",
    "    def eating(self,food):\n",
    "        return f\"{self.name} is eating {food}\"\n",
    "    \n",
    "#creating obj of class human\n",
    "\n",
    "ram=Human(\"Ram\",6,70)\n",
    "pooja=Human(\"Pooja\",5.3,72)\n",
    "\n",
    "#varible\n",
    "print(Human.life)\n",
    "\n",
    "#calling ram\n",
    "print(f\"Height of {ram.name} is {ram.height}\")\n",
    "print(f\"Weight of {ram.name} is {ram.weight}\")\n",
    "print(ram.eating(\"pizza\"))\n",
    "\n",
    "#calling pooja\n",
    "print(f\"Height of {pooja.name} is {pooja.height}\")\n",
    "print(f\"Weight of {pooja.name} is {pooja.weight}\")\n",
    "print(pooja.eating(\"Big Burger\"))"
   ]
  },
  {
   "cell_type": "code",
   "execution_count": 24,
   "id": "c449856c",
   "metadata": {},
   "outputs": [],
   "source": [
    "class Basket():\n",
    "    \n",
    "    #instance attritube\n",
    "    def __init__(self):\n",
    "        self.basket=[]\n",
    "    \n",
    "    def fill(self,fruit):\n",
    "        self.basket.append(fruit)\n",
    "        \n",
    "    def delete(self, fruit):\n",
    "        if fruit in self.basket:\n",
    "            self.basket.remove(fruit)\n",
    "            \n",
    "    def show(self):\n",
    "        for fruit in self.basket:\n",
    "            print(fruit)      "
   ]
  },
  {
   "cell_type": "code",
   "execution_count": 25,
   "id": "bf7a1e01",
   "metadata": {},
   "outputs": [],
   "source": [
    "obj=Basket()\n",
    "\n",
    "obj.fill(\"Apple\")\n",
    "obj.fill(\"Mango\")\n",
    "obj.fill(\"Papaya\")\n",
    "obj.fill(\"Orange\")\n",
    "obj.fill(\"Graphes\")\n"
   ]
  },
  {
   "cell_type": "code",
   "execution_count": 26,
   "id": "ad548006",
   "metadata": {},
   "outputs": [
    {
     "name": "stdout",
     "output_type": "stream",
     "text": [
      "Apple\n",
      "Mango\n",
      "Papaya\n",
      "Orange\n",
      "Graphes\n"
     ]
    }
   ],
   "source": [
    "obj.show()"
   ]
  },
  {
   "cell_type": "code",
   "execution_count": 27,
   "id": "0a5aa02f",
   "metadata": {},
   "outputs": [
    {
     "name": "stdout",
     "output_type": "stream",
     "text": [
      "Apple\n",
      "Mango\n",
      "Papaya\n",
      "Graphes\n"
     ]
    }
   ],
   "source": [
    "obj.delete(\"Orange\")\n",
    "obj.show()"
   ]
  },
  {
   "cell_type": "markdown",
   "id": "ab831ef4",
   "metadata": {},
   "source": [
    "# Python Inheritance\n",
    "\n",
    "one class devired the property of other."
   ]
  },
  {
   "cell_type": "code",
   "execution_count": 1,
   "id": "21020aa9",
   "metadata": {},
   "outputs": [],
   "source": [
    "class Vechile:\n",
    "    def __init__(self,mileage,price):\n",
    "        self.mileage=mileage  \n",
    "        self.price=price\n",
    "        \n",
    "        \n",
    "    def Details_of_Vehicle(self):\n",
    "        print(\"Mileage of Vehicle is \",self.mileage)\n",
    "        print(\"Price of Vehicle is\",self.price)\n",
    "        print()\n",
    "        print(\"There details are for Vehicle \".center(50,\"*\"))\n",
    "        \n",
    "            "
   ]
  },
  {
   "cell_type": "code",
   "execution_count": 2,
   "id": "37003b49",
   "metadata": {},
   "outputs": [],
   "source": [
    "v=Vechile(400,100000)"
   ]
  },
  {
   "cell_type": "code",
   "execution_count": 3,
   "id": "37c39d2a",
   "metadata": {},
   "outputs": [
    {
     "name": "stdout",
     "output_type": "stream",
     "text": [
      "Mileage of Vehicle is  400\n",
      "Price of Vehicle is 100000\n",
      "\n",
      "**********There details are for Vehicle **********\n"
     ]
    }
   ],
   "source": [
    "v.Details_of_Vehicle()"
   ]
  },
  {
   "cell_type": "code",
   "execution_count": 4,
   "id": "89e91e45",
   "metadata": {},
   "outputs": [],
   "source": [
    "class Car(Vechile): # vechile is super class car is child class\n",
    "    def show_car_Deatils(self):\n",
    "        print(\"I am an Extra ordinary car \".center(50,\"-\"))\n",
    "        print(\"I am a method of child class(car) \")"
   ]
  },
  {
   "cell_type": "code",
   "execution_count": 32,
   "id": "ea7a64e3",
   "metadata": {},
   "outputs": [
    {
     "ename": "TypeError",
     "evalue": "__init__() missing 2 required positional arguments: 'mileage' and 'price'",
     "output_type": "error",
     "traceback": [
      "\u001b[1;31m---------------------------------------------------------------------------\u001b[0m",
      "\u001b[1;31mTypeError\u001b[0m                                 Traceback (most recent call last)",
      "\u001b[1;32m~\\AppData\\Local\\Temp/ipykernel_10552/2964589753.py\u001b[0m in \u001b[0;36m<module>\u001b[1;34m\u001b[0m\n\u001b[1;32m----> 1\u001b[1;33m \u001b[0mc\u001b[0m\u001b[1;33m=\u001b[0m\u001b[0mCar\u001b[0m\u001b[1;33m(\u001b[0m\u001b[1;33m)\u001b[0m\u001b[1;33m\u001b[0m\u001b[1;33m\u001b[0m\u001b[0m\n\u001b[0m",
      "\u001b[1;31mTypeError\u001b[0m: __init__() missing 2 required positional arguments: 'mileage' and 'price'"
     ]
    }
   ],
   "source": [
    "c=Car()"
   ]
  },
  {
   "cell_type": "code",
   "execution_count": 39,
   "id": "235b4575",
   "metadata": {},
   "outputs": [],
   "source": [
    "c=Car(300,40000)"
   ]
  },
  {
   "cell_type": "code",
   "execution_count": 41,
   "id": "0db7f3b6",
   "metadata": {},
   "outputs": [
    {
     "name": "stdout",
     "output_type": "stream",
     "text": [
      "Mileage of Vehicle is  300\n",
      "Price of Vehicle is 40000\n",
      "\n",
      "**********There details are for Vehicle **********\n"
     ]
    }
   ],
   "source": [
    "c.Details_of_Vehicle()"
   ]
  },
  {
   "cell_type": "code",
   "execution_count": 35,
   "id": "4e444fb6",
   "metadata": {},
   "outputs": [
    {
     "name": "stdout",
     "output_type": "stream",
     "text": [
      "-----------I am an Extra ordinary car ------------\n",
      "I am a method of child class(car) \n"
     ]
    }
   ],
   "source": [
    "c.show_car_Deatils()"
   ]
  },
  {
   "cell_type": "code",
   "execution_count": 37,
   "id": "6e60b366",
   "metadata": {},
   "outputs": [
    {
     "data": {
      "text/plain": [
       "300"
      ]
     },
     "execution_count": 37,
     "metadata": {},
     "output_type": "execute_result"
    }
   ],
   "source": [
    "c.mileage"
   ]
  },
  {
   "cell_type": "code",
   "execution_count": 38,
   "id": "a1e2cf9e",
   "metadata": {},
   "outputs": [
    {
     "data": {
      "text/plain": [
       "40000"
      ]
     },
     "execution_count": 38,
     "metadata": {},
     "output_type": "execute_result"
    }
   ],
   "source": [
    "c.price"
   ]
  },
  {
   "cell_type": "code",
   "execution_count": 42,
   "id": "058468a4",
   "metadata": {},
   "outputs": [],
   "source": [
    "class Car(Vechile): # vechile is super class car is child class\n",
    "    def __init__(self,mileage,price,wheels,hp):\n",
    "        super().__init__(mileage,price)\n",
    "        self.wheels=wheels\n",
    "        self.hp=hp\n",
    "        \n",
    "    def show_car_Deatils(self):\n",
    "        print(\"I am an Extra ordinary car \".center(50,\"-\"))\n",
    "        print(\"I am a method of child class(car) \") \n",
    "        print(\"I am just a car \")\n",
    "        "
   ]
  },
  {
   "cell_type": "code",
   "execution_count": 43,
   "id": "a6f27bd9",
   "metadata": {},
   "outputs": [],
   "source": [
    "c1=Car(500,20000,4,1000)"
   ]
  },
  {
   "cell_type": "code",
   "execution_count": 44,
   "id": "52135a80",
   "metadata": {},
   "outputs": [
    {
     "name": "stdout",
     "output_type": "stream",
     "text": [
      "Mileage of Vehicle is  500\n",
      "Price of Vehicle is 20000\n",
      "\n",
      "**********There details are for Vehicle **********\n"
     ]
    }
   ],
   "source": [
    "c1.Details_of_Vehicle()"
   ]
  },
  {
   "cell_type": "code",
   "execution_count": 45,
   "id": "5e5fa303",
   "metadata": {},
   "outputs": [
    {
     "name": "stdout",
     "output_type": "stream",
     "text": [
      "1000\n"
     ]
    }
   ],
   "source": [
    "print(c1.hp)"
   ]
  },
  {
   "cell_type": "code",
   "execution_count": 46,
   "id": "dc51ff04",
   "metadata": {},
   "outputs": [
    {
     "name": "stdout",
     "output_type": "stream",
     "text": [
      "4\n"
     ]
    }
   ],
   "source": [
    "print(c1.wheels)"
   ]
  },
  {
   "cell_type": "code",
   "execution_count": 48,
   "id": "5bf1a796",
   "metadata": {},
   "outputs": [
    {
     "name": "stdout",
     "output_type": "stream",
     "text": [
      "-----------I am an Extra ordinary car ------------\n",
      "I am a method of child class(car) \n",
      "I am just a car \n"
     ]
    }
   ],
   "source": [
    "c1.show_car_Deatils()"
   ]
  },
  {
   "cell_type": "code",
   "execution_count": 50,
   "id": "37542d91",
   "metadata": {},
   "outputs": [
    {
     "name": "stdout",
     "output_type": "stream",
     "text": [
      "Help on class Car in module __main__:\n",
      "\n",
      "class Car(Vechile)\n",
      " |  Car(mileage, price, wheels, hp)\n",
      " |  \n",
      " |  Method resolution order:\n",
      " |      Car\n",
      " |      Vechile\n",
      " |      builtins.object\n",
      " |  \n",
      " |  Methods defined here:\n",
      " |  \n",
      " |  __init__(self, mileage, price, wheels, hp)\n",
      " |      Initialize self.  See help(type(self)) for accurate signature.\n",
      " |  \n",
      " |  show_car_Deatils(self)\n",
      " |  \n",
      " |  ----------------------------------------------------------------------\n",
      " |  Methods inherited from Vechile:\n",
      " |  \n",
      " |  Details_of_Vehicle(self)\n",
      " |  \n",
      " |  ----------------------------------------------------------------------\n",
      " |  Data descriptors inherited from Vechile:\n",
      " |  \n",
      " |  __dict__\n",
      " |      dictionary for instance variables (if defined)\n",
      " |  \n",
      " |  __weakref__\n",
      " |      list of weak references to the object (if defined)\n",
      "\n"
     ]
    }
   ],
   "source": [
    "help(Car)"
   ]
  },
  {
   "cell_type": "markdown",
   "id": "85289b4b",
   "metadata": {},
   "source": [
    "# Python Multiple \n",
    "\n",
    "\n",
    "    `PARENT 1`                `PARENT 2`\n",
    "        |                          |\n",
    "        |                          |\n",
    "        |                          |\n",
    "        |__________________________|\n",
    "                     |\n",
    "                     |\n",
    "                     |\n",
    "                     |\n",
    "               `CHILD CLASS`(feature of parent1 and parent2+child class)\n",
    "\n",
    "\n",
    "\n"
   ]
  },
  {
   "cell_type": "code",
   "execution_count": 91,
   "id": "be96f619",
   "metadata": {},
   "outputs": [],
   "source": [
    "#PARENT1(BASE CLASS 1)\n",
    "class Employee:\n",
    "    def set1(self,empId,name,salary):\n",
    "        self.empId=empId\n",
    "        self.name=name\n",
    "        self.salary=salary\n",
    "        \n",
    "#PARENT2(BASE CLASS 2)      \n",
    "class Fitness:\n",
    "    def set2(self,height,weight, bloodGrp):\n",
    "        self.height=height\n",
    "        self.weight=weight\n",
    "        self.bloodGrp=bloodGrp\n",
    "        \n",
    "        \n",
    "#CHILD (DERVIED CLASS) \n",
    "class Company(Employee,Fitness): #multiple inheritance\n",
    "    def set3(self,company,dep):\n",
    "        self.company=company\n",
    "        self.dep=dep\n",
    "        \n",
    "    def display(self) :\n",
    "        print(\"ID: \",self.empId)\n",
    "        print(\"Name \",self.name)\n",
    "        print(\"Salary \",self.salary)\n",
    "        print(\"Height \",self.height)\n",
    "        print(\"Weight \",self.weight)\n",
    "        print(\"Blood Group \",self.bloodGrp)\n",
    "        print()\n",
    "        print(\"Company \",self.company)\n",
    "        print(\"Department\",self.dep)\n",
    "                 "
   ]
  },
  {
   "cell_type": "code",
   "execution_count": 92,
   "id": "7c12dd9b",
   "metadata": {},
   "outputs": [],
   "source": [
    "c=Company()"
   ]
  },
  {
   "cell_type": "code",
   "execution_count": 93,
   "id": "edf72116",
   "metadata": {},
   "outputs": [
    {
     "data": {
      "text/plain": [
       "__main__.Company"
      ]
     },
     "execution_count": 93,
     "metadata": {},
     "output_type": "execute_result"
    }
   ],
   "source": [
    "type(c)"
   ]
  },
  {
   "cell_type": "code",
   "execution_count": 94,
   "id": "758eb319",
   "metadata": {},
   "outputs": [],
   "source": [
    "c.set1(101,\"Pooja\",85000)\n",
    "c.set2(5.3,72,\"O-ve\")\n",
    "c.set3(\"TCS\",\"IT\")"
   ]
  },
  {
   "cell_type": "code",
   "execution_count": 95,
   "id": "afdf2594",
   "metadata": {},
   "outputs": [
    {
     "name": "stdout",
     "output_type": "stream",
     "text": [
      "ID:  101\n",
      "Name  Pooja\n",
      "Salary  85000\n",
      "Height  5.3\n",
      "Weight  72\n",
      "Blood Group  O-ve\n",
      "\n",
      "Company  TCS\n",
      "Department IT\n"
     ]
    }
   ],
   "source": [
    "c.display()"
   ]
  },
  {
   "cell_type": "markdown",
   "id": "cd3b9362",
   "metadata": {},
   "source": [
    "# Python Multi-Level\n",
    "\n",
    "                PARENT CLASS\n",
    "                     |\n",
    "                     |\n",
    "                     |\n",
    "                DERIVED CLASS 1 (feature of base class + derived class 1\n",
    "                     |\n",
    "                     |\n",
    "                     |\n",
    "                DERIVED CLASS 2\n",
    "                (Base class + derived class 1 +derived class2)\n"
   ]
  },
  {
   "cell_type": "code",
   "execution_count": 108,
   "id": "00657c9a",
   "metadata": {},
   "outputs": [],
   "source": [
    "#BASE CLASS\n",
    "class Student:    \n",
    "    def getStudent(self):\n",
    "        self.name=input(\"Name :\")\n",
    "        self.age=input(\"Age :\")\n",
    "        self.gender=input(\"Gender :\")\n",
    "        self.StudentClass=input(\"Class :\")\n",
    "\n",
    "#DERVIED CLASS 1        \n",
    "class subject(Student):\n",
    "    def getMarks(self):\n",
    "        print(\"Enter The marks of the respective subjects :\")\n",
    "        self.Programming=int(input(\"Programming :\"))\n",
    "        self.Maths=int(input(\"Maths :\"))\n",
    "        self.English=int(input(\"English :\"))\n",
    "        self.Physic=int(input(\"Physic :\"))\n",
    "        \n",
    "#DERVIED CLASS 2        \n",
    "class Marks(subject):\n",
    "    def display(self):\n",
    "        print(\"\\n Name :\",self.name)\n",
    "        print(\"\\n Age :\",self.age)\n",
    "        print(\"\\n Gender :\",self.gender)\n",
    "        print(\"\\n Class Name :\",self.StudentClass)\n",
    "        print(\"---------------------------------------------\")\n",
    "        print(\"\\n Total marks :\",self.Programming + self.Maths + self.English + self.Physic)\n",
    "        \n",
    "        \n",
    "    "
   ]
  },
  {
   "cell_type": "code",
   "execution_count": 109,
   "id": "0a5b868c",
   "metadata": {},
   "outputs": [],
   "source": [
    "m1=Marks()\n"
   ]
  },
  {
   "cell_type": "code",
   "execution_count": 110,
   "id": "c9d9203f",
   "metadata": {},
   "outputs": [
    {
     "name": "stdout",
     "output_type": "stream",
     "text": [
      "Name :Pooja\n",
      "Age :28\n",
      "Gender :Female\n",
      "Class :MCA\n"
     ]
    }
   ],
   "source": [
    "m1.getStudent()"
   ]
  },
  {
   "cell_type": "code",
   "execution_count": 111,
   "id": "a8e67ae6",
   "metadata": {},
   "outputs": [
    {
     "name": "stdout",
     "output_type": "stream",
     "text": [
      "Enter The marks of the respective subjects :\n",
      "Programming :99\n",
      "Maths :86\n",
      "English :95\n",
      "Physic :85\n"
     ]
    }
   ],
   "source": [
    "m1.getMarks()"
   ]
  },
  {
   "cell_type": "code",
   "execution_count": 112,
   "id": "a4214e16",
   "metadata": {},
   "outputs": [
    {
     "name": "stdout",
     "output_type": "stream",
     "text": [
      "\n",
      " Name : Pooja\n",
      "\n",
      " Age : 28\n",
      "\n",
      " Gender : Female\n",
      "\n",
      " Class Name : MCA\n",
      "---------------------------------------------\n",
      "\n",
      " Total marks : 365\n"
     ]
    }
   ],
   "source": [
    "m1.display()"
   ]
  },
  {
   "cell_type": "code",
   "execution_count": 151,
   "id": "99c8c26b",
   "metadata": {},
   "outputs": [],
   "source": [
    "#BASE CLASS\n",
    "class Student:\n",
    "    def __init__(self):\n",
    "        self.name=\"\"\n",
    "        self.age=\"\"\n",
    "        self.gender=\"\"\n",
    "        self.Student=\"\"\n",
    "        \n",
    "    def getStudent(self):\n",
    "        self.name=input(\"Name :\")\n",
    "        self.age=input(\"Age :\")\n",
    "        self.gender=input(\"Gender :\")\n",
    "        self.StudentClass=input(\"Class :\")\n",
    "\n",
    "#DERVIED CLASS 1        \n",
    "class subject(Student):\n",
    "    def __init__(self):\n",
    "        self.Programming=\"\"\n",
    "        self.Maths=\"\"\n",
    "        self.English=\"\"\n",
    "        self.Physic=\"\"\n",
    "        \n",
    "    def getMarks(self):\n",
    "        print(\"Enter The marks of the respective subjects :\")\n",
    "        self.Programming=int(input(\"Programming :\"))\n",
    "        self.Maths=int(input(\"Maths :\"))\n",
    "        self.English=int(input(\"English :\"))\n",
    "        self.Physic=int(input(\"Physic :\"))\n",
    "        \n",
    "#DERVIED CLASS 2        \n",
    "class Marks(subject):\n",
    "    def display(self):\n",
    "        print(\"\\n Name :\",self.name)\n",
    "        print(\"\\n Age :\",self.age)\n",
    "        print(\"\\n Gender :\",self.gender)\n",
    "        print(\"\\n Class Name :\",self.StudentClass)\n",
    "        print(\"---------------------------------------------\")\n",
    "        print(\"\\n Total marks :\",self.Programming + self.Maths + self.English + self.Physic)\n",
    "        \n",
    "        \n",
    "    "
   ]
  },
  {
   "cell_type": "code",
   "execution_count": 152,
   "id": "d92b4234",
   "metadata": {},
   "outputs": [
    {
     "name": "stdout",
     "output_type": "stream",
     "text": [
      "Name :Riya\n",
      "Age :26\n",
      "Gender :F\n",
      "Class :Bca\n",
      "Enter The marks of the respective subjects :\n",
      "Programming :85\n",
      "Maths :95\n",
      "English :74\n",
      "Physic :26\n",
      "\n",
      " Name : Riya\n",
      "\n",
      " Age : 26\n",
      "\n",
      " Gender : F\n",
      "\n",
      " Class Name : Bca\n",
      "---------------------------------------------\n",
      "\n",
      " Total marks : 280\n"
     ]
    }
   ],
   "source": [
    "m2=Marks()\n",
    "m2.getStudent()\n",
    "m2.getMarks()\n",
    "m2.display()"
   ]
  },
  {
   "cell_type": "markdown",
   "id": "92e012c3",
   "metadata": {},
   "source": [
    "# Python Hierarchical\n",
    "\n",
    "     ______________ CLASS A:(Base Class)____________\n",
    "    |                      |                       |\n",
    "    |                      |                       |\n",
    "    |                      |                       |\n",
    "    (class X(A)         (class Y(A)              (class Z(A)\n",
    "\n",
    "\n",
    "`X,Y,Z Derived from Base Class A`"
   ]
  },
  {
   "cell_type": "code",
   "execution_count": 143,
   "id": "56bfa77f",
   "metadata": {},
   "outputs": [],
   "source": [
    "class Details:\n",
    "    def __init__(self):\n",
    "        self.id=\"\"\n",
    "        self.name=\"\"\n",
    "    \n",
    "    def setData(self,id,name):\n",
    "        self.id=id\n",
    "        self.name=name\n",
    "    \n",
    "    def showData(self):\n",
    "        print(\"ID :\",self.id)\n",
    "        print(\"Name :\",self.name)\n",
    "        \n",
    "class Employee(Details) :\n",
    "    def __init__(self):\n",
    "        self.company=\"\"\n",
    "        self.dept=\"\"\n",
    "    \n",
    "    def setEmployee(self,id,name,company,dept):\n",
    "        self.setData(id,name)\n",
    "        self.company=company\n",
    "        self.dept=dept\n",
    "        \n",
    "    def showEmployee(self):\n",
    "        self.showData()\n",
    "        print(\"Company :\",self.company)\n",
    "        print(\"Department :\",self.dept)  \n",
    "        \n",
    "class Doctor(Details):\n",
    "    def __init__(self):\n",
    "        self.hospital=\"\"\n",
    "        self.dept=\"\"\n",
    "        \n",
    "    def setEmployee(self,id,name,hospital,dept) :\n",
    "        self.setData(id,name)\n",
    "        self.hospital=hospital\n",
    "        self.dept=dept\n",
    "    \n",
    "    def showHospital(self):\n",
    "        self.showData()\n",
    "        print(\"Hospital :\",self.hospital)\n",
    "        print(\"Department :\",self.dept) "
   ]
  },
  {
   "cell_type": "code",
   "execution_count": 144,
   "id": "aca0aa27",
   "metadata": {},
   "outputs": [],
   "source": [
    "e=Employee()\n"
   ]
  },
  {
   "cell_type": "code",
   "execution_count": 145,
   "id": "6d5e1ac7",
   "metadata": {},
   "outputs": [
    {
     "name": "stdout",
     "output_type": "stream",
     "text": [
      "ID : 106\n",
      "Name : Pooja\n"
     ]
    }
   ],
   "source": [
    "e.setData(106,\"Pooja\")\n",
    "e.showData()"
   ]
  },
  {
   "cell_type": "code",
   "execution_count": 150,
   "id": "05813aaf",
   "metadata": {},
   "outputs": [
    {
     "name": "stdout",
     "output_type": "stream",
     "text": [
      "ID : 107\n",
      "Name : Vivi\n",
      "Company : TCS\n",
      "Department : IT\n",
      "\n",
      "Doctor class object\n",
      "\n",
      "ID : 128\n",
      "Name : Riya\n",
      "Hospital : omhospital\n",
      "Department : ICU\n"
     ]
    }
   ],
   "source": [
    "# e.setData(106,\"Pooja\")\n",
    "e.setEmployee(107,\"Vivi\",\"TCS\",\"IT\")\n",
    "e.showEmployee()\n",
    "\n",
    "\n",
    "print(\"\\nDoctor class object\\n\")\n",
    "\n",
    "d=Doctor()\n",
    "d.setEmployee(128,\"Riya\",\"omhospital\",\"ICU\")\n",
    "d.showHospital()              "
   ]
  },
  {
   "cell_type": "markdown",
   "id": "020d84df",
   "metadata": {},
   "source": [
    "# Python Encapsulation\n",
    "\n",
    "\n",
    "        ______________________CLASS___________________________\n",
    "                         ___________\n",
    "                        |           |\n",
    "                        |  Methods  |\n",
    "                        |           |\n",
    "                        |           |\n",
    "                         \\         /\n",
    "                          \\       /\n",
    "                           \\     /\n",
    "                            \\   /\n",
    "                             \\ /\n",
    "                             / \\        \n",
    "                            /   \\       \n",
    "                           /     \\    \n",
    "                          /       \\   \n",
    "                         /         \\         \n",
    "                        |           |\n",
    "                        | Varibles  |\n",
    "                        |           |\n",
    "                        |___________|\n",
    "      _______________________________________________________\n",
    "        "
   ]
  },
  {
   "cell_type": "markdown",
   "id": "16c29940",
   "metadata": {},
   "source": [
    "    Public Modifier\n",
    "\n",
    "    Private Modifier\n",
    "\n",
    "    Protected Modifier"
   ]
  },
  {
   "cell_type": "code",
   "execution_count": 8,
   "id": "af4c6d31",
   "metadata": {},
   "outputs": [],
   "source": [
    "class Employee:\n",
    "    def __init__(self ,name, age):\n",
    "        self.name=name\n",
    "        self.age=age\n",
    "        \n",
    "    def DisplayDetails(self):\n",
    "        print(self.name)\n",
    "        print(self.age)\n",
    "        "
   ]
  },
  {
   "cell_type": "code",
   "execution_count": 9,
   "id": "7eddc2e1",
   "metadata": {},
   "outputs": [],
   "source": [
    "emp=Employee(\"Pooja\",28)\n"
   ]
  },
  {
   "cell_type": "code",
   "execution_count": 10,
   "id": "6888e1b3",
   "metadata": {},
   "outputs": [
    {
     "data": {
      "text/plain": [
       "'Pooja'"
      ]
     },
     "execution_count": 10,
     "metadata": {},
     "output_type": "execute_result"
    }
   ],
   "source": [
    "emp.name"
   ]
  },
  {
   "cell_type": "code",
   "execution_count": 11,
   "id": "9425f1ae",
   "metadata": {},
   "outputs": [
    {
     "data": {
      "text/plain": [
       "28"
      ]
     },
     "execution_count": 11,
     "metadata": {},
     "output_type": "execute_result"
    }
   ],
   "source": [
    "emp.age"
   ]
  },
  {
   "cell_type": "code",
   "execution_count": 12,
   "id": "64159598",
   "metadata": {},
   "outputs": [
    {
     "name": "stdout",
     "output_type": "stream",
     "text": [
      "Pooja\n",
      "28\n"
     ]
    }
   ],
   "source": [
    "emp.DisplayDetails()"
   ]
  },
  {
   "cell_type": "markdown",
   "id": "7159f6d3",
   "metadata": {},
   "source": [
    "### Encapsulation using Private member\n",
    "\n",
    "_(protected attribute)\n",
    "\n",
    "__(private attribute)"
   ]
  },
  {
   "cell_type": "code",
   "execution_count": 30,
   "id": "6a30d513",
   "metadata": {},
   "outputs": [],
   "source": [
    "class Employee():\n",
    "    company =\"TCS\" #public  varibles\n",
    "    __group=\"TATA\" #Private varibles\n",
    "    \n",
    "    def getDetails(self):\n",
    "        self.name=input(\"Name :\")\n",
    "        self.__salary = input(self.name+\"'s\"+\"Salary :\")\n",
    "        self.Progarmming=input(\"Programming :\")\n",
    "        \n",
    "    def Display(self):\n",
    "        print(\"Name :\",self.name)\n",
    "        print(\"Salary :\",self.salary)  # self.salary   (self.__self.salary)\n",
    "        print(\"Programming :\",self.Progarmming)\n",
    "        \n",
    "    def RevisedSalary(self):\n",
    "        print(\"Existing Salary :\",self.__salary)\n",
    "        self.__salary =60000\n",
    "        print(\"Revised Salary :\",self.__salary)\n",
    "        \n",
    "        "
   ]
  },
  {
   "cell_type": "code",
   "execution_count": 31,
   "id": "5c95affa",
   "metadata": {},
   "outputs": [],
   "source": [
    "e=Employee()"
   ]
  },
  {
   "cell_type": "code",
   "execution_count": 34,
   "id": "e16fb496",
   "metadata": {},
   "outputs": [
    {
     "name": "stdout",
     "output_type": "stream",
     "text": [
      "Name :Pooja\n",
      "Pooja'sSalary :50000\n",
      "Programming :Python\n"
     ]
    }
   ],
   "source": [
    "e.getDetails()"
   ]
  },
  {
   "cell_type": "code",
   "execution_count": 35,
   "id": "e3b604de",
   "metadata": {},
   "outputs": [
    {
     "ename": "AttributeError",
     "evalue": "'Employee' object has no attribute '__group'",
     "output_type": "error",
     "traceback": [
      "\u001b[1;31m---------------------------------------------------------------------------\u001b[0m",
      "\u001b[1;31mAttributeError\u001b[0m                            Traceback (most recent call last)",
      "\u001b[1;32m~\\AppData\\Local\\Temp/ipykernel_13176/3042467807.py\u001b[0m in \u001b[0;36m<module>\u001b[1;34m\u001b[0m\n\u001b[1;32m----> 1\u001b[1;33m \u001b[0me\u001b[0m\u001b[1;33m.\u001b[0m\u001b[0m__group\u001b[0m \u001b[1;31m# private\u001b[0m\u001b[1;33m\u001b[0m\u001b[1;33m\u001b[0m\u001b[0m\n\u001b[0m",
      "\u001b[1;31mAttributeError\u001b[0m: 'Employee' object has no attribute '__group'"
     ]
    }
   ],
   "source": [
    "e.__group # private"
   ]
  },
  {
   "cell_type": "code",
   "execution_count": 36,
   "id": "79de1eb1",
   "metadata": {},
   "outputs": [
    {
     "data": {
      "text/plain": [
       "'TCS'"
      ]
     },
     "execution_count": 36,
     "metadata": {},
     "output_type": "execute_result"
    }
   ],
   "source": [
    "e.company"
   ]
  },
  {
   "cell_type": "code",
   "execution_count": 37,
   "id": "b3216582",
   "metadata": {},
   "outputs": [
    {
     "name": "stdout",
     "output_type": "stream",
     "text": [
      "Name : Pooja\n"
     ]
    },
    {
     "ename": "AttributeError",
     "evalue": "'Employee' object has no attribute 'salary'",
     "output_type": "error",
     "traceback": [
      "\u001b[1;31m---------------------------------------------------------------------------\u001b[0m",
      "\u001b[1;31mAttributeError\u001b[0m                            Traceback (most recent call last)",
      "\u001b[1;32m~\\AppData\\Local\\Temp/ipykernel_13176/3321902681.py\u001b[0m in \u001b[0;36m<module>\u001b[1;34m\u001b[0m\n\u001b[1;32m----> 1\u001b[1;33m \u001b[0me\u001b[0m\u001b[1;33m.\u001b[0m\u001b[0mDisplay\u001b[0m\u001b[1;33m(\u001b[0m\u001b[1;33m)\u001b[0m\u001b[1;33m\u001b[0m\u001b[1;33m\u001b[0m\u001b[0m\n\u001b[0m",
      "\u001b[1;32m~\\AppData\\Local\\Temp/ipykernel_13176/3675691579.py\u001b[0m in \u001b[0;36mDisplay\u001b[1;34m(self)\u001b[0m\n\u001b[0;32m     10\u001b[0m     \u001b[1;32mdef\u001b[0m \u001b[0mDisplay\u001b[0m\u001b[1;33m(\u001b[0m\u001b[0mself\u001b[0m\u001b[1;33m)\u001b[0m\u001b[1;33m:\u001b[0m\u001b[1;33m\u001b[0m\u001b[1;33m\u001b[0m\u001b[0m\n\u001b[0;32m     11\u001b[0m         \u001b[0mprint\u001b[0m\u001b[1;33m(\u001b[0m\u001b[1;34m\"Name :\"\u001b[0m\u001b[1;33m,\u001b[0m\u001b[0mself\u001b[0m\u001b[1;33m.\u001b[0m\u001b[0mname\u001b[0m\u001b[1;33m)\u001b[0m\u001b[1;33m\u001b[0m\u001b[1;33m\u001b[0m\u001b[0m\n\u001b[1;32m---> 12\u001b[1;33m         \u001b[0mprint\u001b[0m\u001b[1;33m(\u001b[0m\u001b[1;34m\"Salary :\"\u001b[0m\u001b[1;33m,\u001b[0m\u001b[0mself\u001b[0m\u001b[1;33m.\u001b[0m\u001b[0msalary\u001b[0m\u001b[1;33m)\u001b[0m  \u001b[1;31m# self.salary   (self.__self.salary)\u001b[0m\u001b[1;33m\u001b[0m\u001b[1;33m\u001b[0m\u001b[0m\n\u001b[0m\u001b[0;32m     13\u001b[0m         \u001b[0mprint\u001b[0m\u001b[1;33m(\u001b[0m\u001b[1;34m\"Programming :\"\u001b[0m\u001b[1;33m,\u001b[0m\u001b[0mself\u001b[0m\u001b[1;33m.\u001b[0m\u001b[0mProgarmming\u001b[0m\u001b[1;33m)\u001b[0m\u001b[1;33m\u001b[0m\u001b[1;33m\u001b[0m\u001b[0m\n\u001b[0;32m     14\u001b[0m \u001b[1;33m\u001b[0m\u001b[0m\n",
      "\u001b[1;31mAttributeError\u001b[0m: 'Employee' object has no attribute 'salary'"
     ]
    }
   ],
   "source": [
    "e.Display()"
   ]
  },
  {
   "cell_type": "code",
   "execution_count": 38,
   "id": "8640da30",
   "metadata": {},
   "outputs": [
    {
     "name": "stdout",
     "output_type": "stream",
     "text": [
      "Existing Salary : 50000\n",
      "Revised Salary : 60000\n"
     ]
    }
   ],
   "source": [
    "e.RevisedSalary()"
   ]
  },
  {
   "cell_type": "markdown",
   "id": "611a3411",
   "metadata": {},
   "source": [
    "### Protected Members: (_)"
   ]
  },
  {
   "cell_type": "code",
   "execution_count": 48,
   "id": "26c78a8a",
   "metadata": {},
   "outputs": [],
   "source": [
    "class Shape:\n",
    "    _lenght=10\n",
    "    _width=20\n",
    "    \n",
    "class Circle(Shape):\n",
    "    def __init__(self):\n",
    "        print(self._lenght)\n",
    "        print(self._width)"
   ]
  },
  {
   "cell_type": "code",
   "execution_count": 49,
   "id": "a80dba9c",
   "metadata": {},
   "outputs": [
    {
     "name": "stdout",
     "output_type": "stream",
     "text": [
      "10\n",
      "20\n"
     ]
    }
   ],
   "source": [
    "cr=Circle()"
   ]
  },
  {
   "cell_type": "code",
   "execution_count": 50,
   "id": "2165446a",
   "metadata": {},
   "outputs": [
    {
     "ename": "AttributeError",
     "evalue": "'Circle' object has no attribute 'lenght'",
     "output_type": "error",
     "traceback": [
      "\u001b[1;31m---------------------------------------------------------------------------\u001b[0m",
      "\u001b[1;31mAttributeError\u001b[0m                            Traceback (most recent call last)",
      "\u001b[1;32m~\\AppData\\Local\\Temp/ipykernel_13176/3820802210.py\u001b[0m in \u001b[0;36m<module>\u001b[1;34m\u001b[0m\n\u001b[1;32m----> 1\u001b[1;33m \u001b[0mprint\u001b[0m\u001b[1;33m(\u001b[0m\u001b[0mcr\u001b[0m\u001b[1;33m.\u001b[0m\u001b[0mlenght\u001b[0m\u001b[1;33m)\u001b[0m\u001b[1;33m\u001b[0m\u001b[1;33m\u001b[0m\u001b[0m\n\u001b[0m",
      "\u001b[1;31mAttributeError\u001b[0m: 'Circle' object has no attribute 'lenght'"
     ]
    }
   ],
   "source": [
    "print(cr.lenght)"
   ]
  },
  {
   "cell_type": "code",
   "execution_count": 51,
   "id": "0d991c1b",
   "metadata": {},
   "outputs": [
    {
     "name": "stdout",
     "output_type": "stream",
     "text": [
      "10\n"
     ]
    }
   ],
   "source": [
    "print(cr._lenght)"
   ]
  },
  {
   "cell_type": "markdown",
   "id": "3e74b514",
   "metadata": {},
   "source": [
    "# Python PolyMorphism"
   ]
  },
  {
   "cell_type": "code",
   "execution_count": 53,
   "id": "0153c6e5",
   "metadata": {},
   "outputs": [
    {
     "data": {
      "text/plain": [
       "True"
      ]
     },
     "execution_count": 53,
     "metadata": {},
     "output_type": "execute_result"
    }
   ],
   "source": [
    "\"x\" in {\"a\",\"b\",\"x\",\"y\"}"
   ]
  },
  {
   "cell_type": "code",
   "execution_count": 56,
   "id": "f0f91ea1",
   "metadata": {},
   "outputs": [
    {
     "name": "stdout",
     "output_type": "stream",
     "text": [
      "True\n",
      "True\n",
      "True\n"
     ]
    }
   ],
   "source": [
    "print(\"x\" in [\"a\",\"b\",\"x\",\"y\"])\n",
    "print(\"x\" in (\"a\",\"b\",\"x\",\"y\"))\n",
    "print(\"x\" in {\"a\":1,\"b\":2,\"x\":3,\"y\":4})"
   ]
  },
  {
   "cell_type": "code",
   "execution_count": 57,
   "id": "1fe3f5d8",
   "metadata": {},
   "outputs": [
    {
     "data": {
      "text/plain": [
       "6"
      ]
     },
     "execution_count": 57,
     "metadata": {},
     "output_type": "execute_result"
    }
   ],
   "source": [
    "len(\"Python\")"
   ]
  },
  {
   "cell_type": "code",
   "execution_count": 58,
   "id": "31a8f53b",
   "metadata": {},
   "outputs": [
    {
     "data": {
      "text/plain": [
       "8"
      ]
     },
     "execution_count": 58,
     "metadata": {},
     "output_type": "execute_result"
    }
   ],
   "source": [
    "len(list(range(1,25,3)))"
   ]
  },
  {
   "cell_type": "markdown",
   "id": "7c57b56b",
   "metadata": {},
   "source": [
    "# Method Overridding \n",
    "\n",
    "    means two method have same name nd perfrom different task. thtz means one method overrides other.\n",
    "    \n",
    "     ____________Person----displayData()____________\n",
    "    |                                              |\n",
    "    |                                              |\n",
    "    |                                              |\n",
    "    Employee                                   Developer\n",
    "    displayData()                              displayData()\n",
    "   \n",
    "    "
   ]
  },
  {
   "cell_type": "code",
   "execution_count": 63,
   "id": "f731f77a",
   "metadata": {},
   "outputs": [
    {
     "name": "stdout",
     "output_type": "stream",
     "text": [
      "Parent class method\n",
      "Name : Pooja\n",
      "Age : 28\n",
      "____________________________________________\n",
      "\n",
      "Employee class displayData method\n",
      "Name : Pooja\n",
      "Age : 28\n",
      "Emp ID : 101\n",
      "____________________________________________\n",
      "\n",
      "Develper class displayData method\n",
      "Name : Pooja\n",
      "Age : 28\n",
      "Emp ID : 101\n",
      "Experience : 7\n"
     ]
    }
   ],
   "source": [
    "class Person:\n",
    "    def __init__(self,name,age):\n",
    "        self.name=name\n",
    "        self.age=age\n",
    "        \n",
    "    def displayData(self): #overridden method\n",
    "        print(\"Parent class method\")\n",
    "        print(\"Name :\",self.name)\n",
    "        print(\"Age :\",self.age)\n",
    "        \n",
    "\n",
    "class Employee(Person):\n",
    "    def __init__(self,name,age,ID):\n",
    "        super().__init__(name,age)\n",
    "        self.ID=ID\n",
    "        \n",
    "    def displayData(self): #overriding method\n",
    "        print(\"Employee class displayData method\")\n",
    "        print(\"Name :\",self.name)\n",
    "        print(\"Age :\",self.age)\n",
    "        print(\"Emp ID :\",self.ID) \n",
    "        \n",
    "        \n",
    "class Developer(Employee):\n",
    "    def __init__(self,name,age,ID,Experience):\n",
    "        super().__init__(name,age,ID)\n",
    "        self.Experience=Experience\n",
    "        \n",
    "    def displayData(self): #overriding method\n",
    "        print(\"Develper class displayData method\")\n",
    "        print(\"Name :\",self.name)\n",
    "        print(\"Age :\",self.age)\n",
    "        print(\"Emp ID :\",self.ID)\n",
    "        print(\"Experience :\",self.Experience)\n",
    "        \n",
    "# person class object\n",
    "\n",
    "person=Person(\"Pooja\",28)\n",
    "person.displayData()\n",
    "\n",
    "print(\"____________________________________________\\n\")\n",
    "\n",
    "# Employee class object\n",
    "emp=Employee(\"Pooja\",28,101)\n",
    "emp.displayData()\n",
    "\n",
    "print(\"____________________________________________\\n\")\n",
    "\n",
    "# Developer class object\n",
    "dev=Developer(\"Pooja\",28,101,7)\n",
    "dev.displayData()\n",
    "            \n",
    "    \n",
    "        "
   ]
  },
  {
   "cell_type": "markdown",
   "id": "9a6e3396",
   "metadata": {},
   "source": [
    "# Method Overloading\n",
    "\n",
    "    Python does not support truly Method Overloading Feature\n",
    "    \n",
    "    \n",
    "    mehod have same name but different different argument"
   ]
  },
  {
   "cell_type": "code",
   "execution_count": 68,
   "id": "f666d1cb",
   "metadata": {},
   "outputs": [],
   "source": [
    "class MethodOverloading:\n",
    "    def sum(self,a,b, c=0,d=0):\n",
    "        s=a+b+c+d\n",
    "        return s"
   ]
  },
  {
   "cell_type": "code",
   "execution_count": 69,
   "id": "04bd833c",
   "metadata": {},
   "outputs": [],
   "source": [
    "mo=MethodOverloading()"
   ]
  },
  {
   "cell_type": "code",
   "execution_count": 70,
   "id": "553599a5",
   "metadata": {},
   "outputs": [
    {
     "name": "stdout",
     "output_type": "stream",
     "text": [
      "Sum : 15\n",
      "Sum : 24\n",
      "Sum : 34\n"
     ]
    }
   ],
   "source": [
    "sum1=mo.sum(7,8)\n",
    "print(\"Sum :\",sum1)\n",
    "\n",
    "sum1=mo.sum(7,8,9)\n",
    "print(\"Sum :\",sum1)\n",
    "\n",
    "sum1=mo.sum(7,8,9,10)\n",
    "print(\"Sum :\",sum1)\n"
   ]
  },
  {
   "cell_type": "code",
   "execution_count": null,
   "id": "a5b2f5c7",
   "metadata": {},
   "outputs": [],
   "source": []
  }
 ],
 "metadata": {
  "kernelspec": {
   "display_name": "Python 3 (ipykernel)",
   "language": "python",
   "name": "python3"
  },
  "language_info": {
   "codemirror_mode": {
    "name": "ipython",
    "version": 3
   },
   "file_extension": ".py",
   "mimetype": "text/x-python",
   "name": "python",
   "nbconvert_exporter": "python",
   "pygments_lexer": "ipython3",
   "version": "3.9.7"
  }
 },
 "nbformat": 4,
 "nbformat_minor": 5
}
