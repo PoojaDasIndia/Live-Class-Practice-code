{
 "cells": [
  {
   "cell_type": "markdown",
   "id": "6e23a278",
   "metadata": {},
   "source": [
    "### Enumerate"
   ]
  },
  {
   "cell_type": "code",
   "execution_count": 1,
   "id": "42d16221",
   "metadata": {},
   "outputs": [],
   "source": [
    "number=[1,3,5,6,3,4,5,6,1,5,7,3,5,6]"
   ]
  },
  {
   "cell_type": "code",
   "execution_count": 2,
   "id": "5622c6a0",
   "metadata": {},
   "outputs": [
    {
     "data": {
      "text/plain": [
       "3"
      ]
     },
     "execution_count": 2,
     "metadata": {},
     "output_type": "execute_result"
    }
   ],
   "source": [
    "number.index(6)"
   ]
  },
  {
   "cell_type": "code",
   "execution_count": 3,
   "id": "2631682a",
   "metadata": {},
   "outputs": [],
   "source": [
    "#its provide an index of each element of list(iterables) and return an output in the forn of  tuple"
   ]
  },
  {
   "cell_type": "markdown",
   "id": "94b22e90",
   "metadata": {},
   "source": [
    "### Syntax:\n",
    "\n",
    "enumerate(iterables, start=0"
   ]
  },
  {
   "cell_type": "code",
   "execution_count": 4,
   "id": "a45dfd52",
   "metadata": {},
   "outputs": [
    {
     "data": {
      "text/plain": [
       "<enumerate at 0x17d65af8a80>"
      ]
     },
     "execution_count": 4,
     "metadata": {},
     "output_type": "execute_result"
    }
   ],
   "source": [
    "enumerate(number)"
   ]
  },
  {
   "cell_type": "code",
   "execution_count": 5,
   "id": "92f5085e",
   "metadata": {},
   "outputs": [
    {
     "data": {
      "text/plain": [
       "enumerate"
      ]
     },
     "execution_count": 5,
     "metadata": {},
     "output_type": "execute_result"
    }
   ],
   "source": [
    "type(enumerate(number))"
   ]
  },
  {
   "cell_type": "code",
   "execution_count": 7,
   "id": "aab32970",
   "metadata": {},
   "outputs": [
    {
     "data": {
      "text/plain": [
       "[1, 3, 5, 6, 3, 4, 5, 6, 1, 5, 7, 3, 5, 6]"
      ]
     },
     "execution_count": 7,
     "metadata": {},
     "output_type": "execute_result"
    }
   ],
   "source": [
    "number"
   ]
  },
  {
   "cell_type": "code",
   "execution_count": 6,
   "id": "54ddb5f3",
   "metadata": {},
   "outputs": [
    {
     "name": "stdout",
     "output_type": "stream",
     "text": [
      "[(0, 1), (1, 3), (2, 5), (3, 6), (4, 3), (5, 4), (6, 5), (7, 6), (8, 1), (9, 5), (10, 7), (11, 3), (12, 5), (13, 6)]\n"
     ]
    }
   ],
   "source": [
    "print(list(enumerate(number)))"
   ]
  },
  {
   "cell_type": "code",
   "execution_count": 16,
   "id": "39637e69",
   "metadata": {},
   "outputs": [
    {
     "name": "stdout",
     "output_type": "stream",
     "text": [
      "index of 6 is 3\n",
      "index of 6 is 7\n",
      "index of 6 is 13\n"
     ]
    }
   ],
   "source": [
    "for  i in enumerate(number):\n",
    "#     print(i)\n",
    "    if i[1]==6:\n",
    "        print(f\"index of {i[1]} is {i[0]}\")"
   ]
  },
  {
   "cell_type": "code",
   "execution_count": 17,
   "id": "59ecd14f",
   "metadata": {},
   "outputs": [
    {
     "name": "stdout",
     "output_type": "stream",
     "text": [
      "{0: 1, 1: 3, 2: 5, 3: 6, 4: 3, 5: 4, 6: 5, 7: 6, 8: 1, 9: 5, 10: 7, 11: 3, 12: 5, 13: 6}\n"
     ]
    }
   ],
   "source": [
    "\n",
    "print(dict(enumerate(number)))"
   ]
  },
  {
   "cell_type": "code",
   "execution_count": 19,
   "id": "11265656",
   "metadata": {},
   "outputs": [
    {
     "name": "stdout",
     "output_type": "stream",
     "text": [
      "[(5, 1), (6, 3), (7, 5), (8, 6), (9, 3), (10, 4), (11, 5), (12, 6), (13, 1), (14, 5), (15, 7), (16, 3), (17, 5), (18, 6)]\n"
     ]
    }
   ],
   "source": [
    "print(list(enumerate(number,start=5)))"
   ]
  },
  {
   "cell_type": "code",
   "execution_count": 20,
   "id": "35ec5ff5",
   "metadata": {},
   "outputs": [],
   "source": [
    "alpha={\"a\":4,\"b\":5,\"c\":6}"
   ]
  },
  {
   "cell_type": "code",
   "execution_count": 31,
   "id": "15dc0037",
   "metadata": {},
   "outputs": [
    {
     "name": "stdout",
     "output_type": "stream",
     "text": [
      "0 a\n",
      "1 b\n",
      "2 c\n"
     ]
    }
   ],
   "source": [
    "for index ,key in enumerate(alpha):\n",
    "    print(index,key)"
   ]
  },
  {
   "cell_type": "markdown",
   "id": "5cb36638",
   "metadata": {},
   "source": [
    "## Zip function"
   ]
  },
  {
   "cell_type": "code",
   "execution_count": 32,
   "id": "1fc60803",
   "metadata": {},
   "outputs": [],
   "source": [
    "#zip function takes iterables and these iterables can be zero or more\n",
    "#zip function will combine them and return it  in the form of tuple\n"
   ]
  },
  {
   "cell_type": "code",
   "execution_count": 33,
   "id": "ef2fdbd7",
   "metadata": {},
   "outputs": [],
   "source": [
    "result=zip()"
   ]
  },
  {
   "cell_type": "code",
   "execution_count": 35,
   "id": "0aeaf1a8",
   "metadata": {},
   "outputs": [
    {
     "data": {
      "text/plain": [
       "<zip at 0x17d67bac8c0>"
      ]
     },
     "execution_count": 35,
     "metadata": {},
     "output_type": "execute_result"
    }
   ],
   "source": [
    "result"
   ]
  },
  {
   "cell_type": "code",
   "execution_count": 36,
   "id": "f670a513",
   "metadata": {},
   "outputs": [
    {
     "data": {
      "text/plain": [
       "[]"
      ]
     },
     "execution_count": 36,
     "metadata": {},
     "output_type": "execute_result"
    }
   ],
   "source": [
    "listResult=list(result)\n",
    "listResult"
   ]
  },
  {
   "cell_type": "code",
   "execution_count": 38,
   "id": "fc7ee126",
   "metadata": {},
   "outputs": [],
   "source": [
    "l1=[4,5,6,7]\n",
    "sl=[\"Four\",\"Five\",\"Six\",\"Seven\"]\n",
    "tup=(\"IV\",\"V\",\"VI\",\"VII\")"
   ]
  },
  {
   "cell_type": "code",
   "execution_count": 42,
   "id": "971857ff",
   "metadata": {},
   "outputs": [
    {
     "name": "stdout",
     "output_type": "stream",
     "text": [
      "{(7, 'Seven'), (6, 'Six'), (5, 'Five'), (4, 'Four')}\n"
     ]
    }
   ],
   "source": [
    "result=zip(l1,sl)\n",
    "setResult=set(result)\n",
    "print(setResult)"
   ]
  },
  {
   "cell_type": "code",
   "execution_count": 43,
   "id": "81fa4eca",
   "metadata": {},
   "outputs": [
    {
     "name": "stdout",
     "output_type": "stream",
     "text": [
      "{(4, 'Four', 'IV'), (7, 'Seven', 'VII'), (5, 'Five', 'V'), (6, 'Six', 'VI')}\n"
     ]
    }
   ],
   "source": [
    "result=zip(l1,sl,tup)\n",
    "setResult=set(result)\n",
    "\n",
    "print(setResult)"
   ]
  },
  {
   "cell_type": "code",
   "execution_count": 44,
   "id": "ad0272c4",
   "metadata": {},
   "outputs": [],
   "source": [
    "l1=[4,5]\n",
    "sl=[\"Four\",\"Five\",\"Six\",\"Seven\"]\n",
    "tup=(\"IV\",\"V\",\"VI\",\"VII\")"
   ]
  },
  {
   "cell_type": "code",
   "execution_count": 45,
   "id": "5f8dfb76",
   "metadata": {},
   "outputs": [
    {
     "name": "stdout",
     "output_type": "stream",
     "text": [
      "{(4, 'Four', 'IV'), (5, 'Five', 'V')}\n"
     ]
    }
   ],
   "source": [
    "result=zip(l1,sl,tup)\n",
    "setResult=set(result)\n",
    "\n",
    "print(setResult)"
   ]
  },
  {
   "cell_type": "code",
   "execution_count": 66,
   "id": "cc500273",
   "metadata": {},
   "outputs": [],
   "source": [
    "pm = [\"modi\",\"putin\"]\n",
    "country=[\"india\",\"russia\"]"
   ]
  },
  {
   "cell_type": "code",
   "execution_count": 67,
   "id": "1a38f5fa",
   "metadata": {},
   "outputs": [
    {
     "name": "stdout",
     "output_type": "stream",
     "text": [
      "PM is modi Country is india\n",
      "PM is putin Country is russia\n"
     ]
    }
   ],
   "source": [
    "for pm, country in zip(pm,country):\n",
    "    print(\"PM is %s Country is %s\" %(pm,country))"
   ]
  },
  {
   "cell_type": "code",
   "execution_count": 70,
   "id": "9bc6dd1e",
   "metadata": {},
   "outputs": [],
   "source": [
    "pm = [\"modi\",\"putin\"]\n",
    "country=[\"india\",\"russia\"]\n",
    "v=list(zip(pm,country))"
   ]
  },
  {
   "cell_type": "code",
   "execution_count": 71,
   "id": "1eb96133",
   "metadata": {},
   "outputs": [
    {
     "data": {
      "text/plain": [
       "[('modi', 'india'), ('putin', 'russia')]"
      ]
     },
     "execution_count": 71,
     "metadata": {},
     "output_type": "execute_result"
    }
   ],
   "source": [
    "v"
   ]
  },
  {
   "cell_type": "code",
   "execution_count": 72,
   "id": "0b8a1aa3",
   "metadata": {},
   "outputs": [],
   "source": [
    "pm = [\"modi\",\"putin\"]\n",
    "country=[\"india\",\"russia\"]\n",
    "v=dict(zip(pm,country))"
   ]
  },
  {
   "cell_type": "code",
   "execution_count": null,
   "id": "04678649",
   "metadata": {},
   "outputs": [],
   "source": []
  },
  {
   "cell_type": "code",
   "execution_count": 73,
   "id": "d9c2a738",
   "metadata": {},
   "outputs": [
    {
     "data": {
      "text/plain": [
       "{'modi': 'india', 'putin': 'russia'}"
      ]
     },
     "execution_count": 73,
     "metadata": {},
     "output_type": "execute_result"
    }
   ],
   "source": [
    "v"
   ]
  },
  {
   "cell_type": "code",
   "execution_count": null,
   "id": "847d774e",
   "metadata": {},
   "outputs": [],
   "source": []
  }
 ],
 "metadata": {
  "kernelspec": {
   "display_name": "Python 3 (ipykernel)",
   "language": "python",
   "name": "python3"
  },
  "language_info": {
   "codemirror_mode": {
    "name": "ipython",
    "version": 3
   },
   "file_extension": ".py",
   "mimetype": "text/x-python",
   "name": "python",
   "nbconvert_exporter": "python",
   "pygments_lexer": "ipython3",
   "version": "3.9.7"
  }
 },
 "nbformat": 4,
 "nbformat_minor": 5
}
