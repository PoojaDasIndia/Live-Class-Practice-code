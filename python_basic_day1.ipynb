{
 "cells": [
  {
   "cell_type": "code",
   "execution_count": 2,
   "id": "ac0eba2b",
   "metadata": {},
   "outputs": [
    {
     "name": "stdout",
     "output_type": "stream",
     "text": [
      "[10, 20, 5]\n",
      "[5, 3]\n",
      "(5, 6)\n"
     ]
    }
   ],
   "source": [
    "l=[[10,20,5],[5,3],(5,6)]\n",
    "for i in l:\n",
    "    print(i)"
   ]
  },
  {
   "cell_type": "code",
   "execution_count": 7,
   "id": "6b6eea97",
   "metadata": {},
   "outputs": [
    {
     "name": "stdout",
     "output_type": "stream",
     "text": [
      "10 20 5 \n",
      "5 3 \n",
      "5 6 \n"
     ]
    }
   ],
   "source": [
    "for i in l:\n",
    "    for j in i:\n",
    "        print(j,end=\" \")\n",
    "    print()    \n",
    "\n",
    "\n",
    "\n"
   ]
  },
  {
   "cell_type": "code",
   "execution_count": 14,
   "id": "21172da3",
   "metadata": {},
   "outputs": [
    {
     "name": "stdout",
     "output_type": "stream",
     "text": [
      "* * * * * \n",
      "* * * * * \n",
      "* * * * * \n",
      "* * * * * \n",
      "* * * * * \n"
     ]
    }
   ],
   "source": [
    "n=5\n",
    "for i in range(n):\n",
    "    for j in range(n):\n",
    "        print(\"*\",end=\" \")\n",
    "    print()    \n",
    "\n",
    "\n",
    "\n",
    "\n"
   ]
  },
  {
   "cell_type": "code",
   "execution_count": 15,
   "id": "84cf4eb2",
   "metadata": {},
   "outputs": [
    {
     "name": "stdout",
     "output_type": "stream",
     "text": [
      "* * * * * \n",
      "* * * * \n",
      "* * * \n",
      "* * \n",
      "* \n"
     ]
    }
   ],
   "source": [
    "n=5\n",
    "for i in range(n):\n",
    "    for j in range(i,n):\n",
    "        print(\"*\",end=\" \")\n",
    "    print()"
   ]
  },
  {
   "cell_type": "code",
   "execution_count": 50,
   "id": "6bfbaaf1",
   "metadata": {},
   "outputs": [
    {
     "name": "stdout",
     "output_type": "stream",
     "text": [
      "* \n",
      "* * \n",
      "* * * \n",
      "* * * * \n",
      "* * * * * \n"
     ]
    }
   ],
   "source": [
    "n=5\n",
    "for i in range(n):\n",
    "    for j in range(i+1):\n",
    "        print(\"*\",end=\" \")\n",
    "    print()"
   ]
  },
  {
   "cell_type": "code",
   "execution_count": 51,
   "id": "166e1eb3",
   "metadata": {},
   "outputs": [
    {
     "data": {
      "text/plain": [
       "[0, 1, 2, 3, 4]"
      ]
     },
     "execution_count": 51,
     "metadata": {},
     "output_type": "execute_result"
    }
   ],
   "source": [
    "list(range(n))"
   ]
  },
  {
   "cell_type": "code",
   "execution_count": 52,
   "id": "eb9449f7",
   "metadata": {},
   "outputs": [
    {
     "name": "stdout",
     "output_type": "stream",
     "text": [
      "* "
     ]
    }
   ],
   "source": [
    "for j in range(1):\n",
    "        print(\"*\",end=\" \")"
   ]
  },
  {
   "cell_type": "code",
   "execution_count": 53,
   "id": "6b3e123e",
   "metadata": {},
   "outputs": [
    {
     "data": {
      "text/plain": [
       "[0]"
      ]
     },
     "execution_count": 53,
     "metadata": {},
     "output_type": "execute_result"
    }
   ],
   "source": [
    "list(range(1))"
   ]
  },
  {
   "cell_type": "code",
   "execution_count": 54,
   "id": "cf45b7c7",
   "metadata": {},
   "outputs": [
    {
     "name": "stdout",
     "output_type": "stream",
     "text": [
      "* * * * * \n",
      "* * * * \n",
      "* * * \n",
      "* * \n",
      "* \n"
     ]
    }
   ],
   "source": [
    "n=5\n",
    "for i in range (n):\n",
    "    for j in range(i,n):\n",
    "        print(\"*\",end=\" \")\n",
    "    print()    "
   ]
  },
  {
   "cell_type": "code",
   "execution_count": 55,
   "id": "0e8bc1b3",
   "metadata": {},
   "outputs": [
    {
     "name": "stdout",
     "output_type": "stream",
     "text": [
      "        * \n",
      "      * * * \n",
      "    * * * * * \n",
      "  * * * * * * * \n",
      "* * * * * * * * * \n"
     ]
    }
   ],
   "source": [
    "n=5\n",
    "for i in range (n):\n",
    "    for j in range (i,n-1):\n",
    "        print(\" \",end=\" \")\n",
    "    for j in range (i+1):\n",
    "        print(\"*\",end=\" \")\n",
    "    for j in range(i):\n",
    "        print(\"*\",end=\" \")  \n",
    "    print()    \n",
    "\n",
    "   \n",
    "   "
   ]
  },
  {
   "cell_type": "code",
   "execution_count": 56,
   "id": "758cdc0d",
   "metadata": {},
   "outputs": [
    {
     "data": {
      "text/plain": [
       "range(0, 0)"
      ]
     },
     "execution_count": 56,
     "metadata": {},
     "output_type": "execute_result"
    }
   ],
   "source": [
    "range(3*0)"
   ]
  },
  {
   "cell_type": "code",
   "execution_count": 57,
   "id": "d205a5ce",
   "metadata": {},
   "outputs": [
    {
     "name": "stdout",
     "output_type": "stream",
     "text": [
      "        * \n",
      "      * * * \n",
      "    * * * * * \n",
      "  * * * * * * * \n",
      "* * * * * * * * * \n"
     ]
    }
   ],
   "source": [
    "n=5\n",
    "for i in range (n):\n",
    "    for j in range (i,n-1):\n",
    "        print(\" \",end=\" \")\n",
    "    for j in range (2*i+1):\n",
    "        print(\"*\",end=\" \")\n",
    "    print()    "
   ]
  },
  {
   "cell_type": "code",
   "execution_count": 65,
   "id": "3e2f0be5",
   "metadata": {},
   "outputs": [
    {
     "name": "stdout",
     "output_type": "stream",
     "text": [
      "478536\n",
      "count of 478536is 6\n"
     ]
    }
   ],
   "source": [
    "#count of no. like 4567=4. 7=1,78=2\n",
    "n=int(input())\n",
    "m=n\n",
    "count=0\n",
    "while n>0:\n",
    "    n=n//10\n",
    "    count=count+1\n",
    "print(f\"count of {m} is {count}\")  \n",
    "    \n",
    "#print(\"count of is \"+str(count))    "
   ]
  },
  {
   "cell_type": "code",
   "execution_count": 66,
   "id": "f783f06c",
   "metadata": {},
   "outputs": [
    {
     "data": {
      "text/plain": [
       "5"
      ]
     },
     "execution_count": 66,
     "metadata": {},
     "output_type": "execute_result"
    }
   ],
   "source": [
    "#euclidean algoritn for gcd\n",
    "def fc(x,y):\n",
    "    while(y):\n",
    "        x,y=y,x%y\n",
    "    return x\n",
    "fc(10,15)\n",
    "    \n",
    "    "
   ]
  },
  {
   "cell_type": "code",
   "execution_count": 69,
   "id": "4c26d83b",
   "metadata": {},
   "outputs": [
    {
     "data": {
      "text/plain": [
       "5"
      ]
     },
     "execution_count": 69,
     "metadata": {},
     "output_type": "execute_result"
    }
   ],
   "source": [
    "x=15\n",
    "y=10\n",
    "x%y"
   ]
  },
  {
   "cell_type": "code",
   "execution_count": 70,
   "id": "68dc2337",
   "metadata": {},
   "outputs": [
    {
     "data": {
      "text/plain": [
       "5"
      ]
     },
     "execution_count": 70,
     "metadata": {},
     "output_type": "execute_result"
    }
   ],
   "source": [
    "5%10\n"
   ]
  },
  {
   "cell_type": "code",
   "execution_count": 71,
   "id": "437de585",
   "metadata": {},
   "outputs": [
    {
     "data": {
      "text/plain": [
       "10"
      ]
     },
     "execution_count": 71,
     "metadata": {},
     "output_type": "execute_result"
    }
   ],
   "source": [
    "10%15\n"
   ]
  },
  {
   "cell_type": "code",
   "execution_count": 76,
   "id": "721fcb8c",
   "metadata": {},
   "outputs": [
    {
     "name": "stdout",
     "output_type": "stream",
     "text": [
      "5\n"
     ]
    }
   ],
   "source": [
    "import math\n",
    "a=10\n",
    "b=15\n",
    "print(math.gcd(a,b))"
   ]
  },
  {
   "cell_type": "code",
   "execution_count": 79,
   "id": "ce8d8724",
   "metadata": {},
   "outputs": [
    {
     "name": "stdout",
     "output_type": "stream",
     "text": [
      "3\n",
      "18.0\n"
     ]
    }
   ],
   "source": [
    "#LCM\n",
    "import math\n",
    "a,b=6,9\n",
    "gcd=math.gcd(a,b)\n",
    "print (gcd)\n",
    "lcm=(a*b)/gcd\n",
    "print(lcm)"
   ]
  },
  {
   "cell_type": "code",
   "execution_count": 80,
   "id": "7d912354",
   "metadata": {},
   "outputs": [
    {
     "name": "stdout",
     "output_type": "stream",
     "text": [
      "18\n"
     ]
    }
   ],
   "source": [
    "res=max(a,b)\n",
    "while (res<=a*b):\n",
    "    if(res%a==0 and res%b==0):\n",
    "        break\n",
    "    res+=1\n",
    "print(res)    "
   ]
  },
  {
   "cell_type": "code",
   "execution_count": 81,
   "id": "74d4a07c",
   "metadata": {},
   "outputs": [
    {
     "data": {
      "text/plain": [
       "5"
      ]
     },
     "execution_count": 81,
     "metadata": {},
     "output_type": "execute_result"
    }
   ],
   "source": [
    "arr=[0,2,5]\n",
    "arr[-1]"
   ]
  },
  {
   "cell_type": "code",
   "execution_count": 53,
   "id": "25516f1f",
   "metadata": {},
   "outputs": [
    {
     "name": "stdout",
     "output_type": "stream",
     "text": [
      "ENTER NO.12\n",
      "1 1 2 3 5 8 13 21 34 55 89 144 233 "
     ]
    }
   ],
   "source": [
    "#Fibonacci\n",
    "n=int(input(\"ENTER NO.\"))\n",
    "if n==0:\n",
    "    print(1)\n",
    "elif n==1:\n",
    "    print(1,1)\n",
    "else:\n",
    "    print (1,1,end=\" \")\n",
    "    a=1\n",
    "    b=1\n",
    "    for i in range (2,n+1):\n",
    "        c=a+b\n",
    "        print(c,end=\" \")\n",
    "        a=b\n",
    "        b=c\n",
    "        "
   ]
  },
  {
   "cell_type": "code",
   "execution_count": 65,
   "id": "737fa093",
   "metadata": {},
   "outputs": [
    {
     "name": "stdout",
     "output_type": "stream",
     "text": [
      "1\n"
     ]
    },
    {
     "data": {
      "text/plain": [
       "1"
      ]
     },
     "execution_count": 65,
     "metadata": {},
     "output_type": "execute_result"
    }
   ],
   "source": [
    "def fibonacci(n):\n",
    "    if n==0:\n",
    "        return 1\n",
    "    elif n==1:\n",
    "        return 1\n",
    "    else:\n",
    "       \n",
    "        a,b=1,1\n",
    "        for i in range(2,n+1):\n",
    "            c=a+b\n",
    "        #return c\n",
    "            a=b\n",
    "            b=c\n",
    "            print(a,b,c)\n",
    "        return a,c# return  before value\n",
    "    \n",
    "n=int(input())   \n",
    "fibonacci(n)   "
   ]
  },
  {
   "cell_type": "code",
   "execution_count": 48,
   "id": "b80f706e",
   "metadata": {},
   "outputs": [
    {
     "name": "stdout",
     "output_type": "stream",
     "text": [
      "ENTER NO.5\n",
      "1 5 "
     ]
    }
   ],
   "source": [
    "#all the divisor\n",
    "n=int(input(\"ENTER NO.\"))\n",
    "if n==0:\n",
    "    print(1)\n",
    "else:\n",
    "    for i in range(1,n+1):\n",
    "        if n%i==0:\n",
    "            print(i,end=\" \")\n",
    "            \n",
    "            "
   ]
  },
  {
   "cell_type": "code",
   "execution_count": 120,
   "id": "89b5a8e5",
   "metadata": {},
   "outputs": [
    {
     "name": "stdout",
     "output_type": "stream",
     "text": [
      "ENTER NO.20\n",
      "1\n",
      "20\n",
      "2\n",
      "10\n",
      "4\n",
      "5\n"
     ]
    }
   ],
   "source": [
    "#optimized all divisor code\n",
    "n=int(input(\"ENTER NO.\"))\n",
    "x=1\n",
    "while x*x<n:\n",
    "    if n%x==0:\n",
    "        print(x)\n",
    "        print(n//x)\n",
    "    x=x+1\n",
    "    if x*x==n:\n",
    "        print(x,end=\" \")"
   ]
  },
  {
   "cell_type": "code",
   "execution_count": 122,
   "id": "947db73e",
   "metadata": {},
   "outputs": [
    {
     "name": "stdout",
     "output_type": "stream",
     "text": [
      "Enter n:\n",
      "20\n",
      "1\n",
      "2\n",
      "4\n"
     ]
    }
   ],
   "source": [
    "n = int(input(\"Enter n:\\n\"))\n",
    "\n",
    "x = 1\n",
    "while x*x<n:\n",
    "\n",
    "    if n%x ==0:\n",
    "        print(x)\n",
    "        print(n//x)\n",
    "\n",
    "    x=x+1\n",
    "\n",
    "    if x*x == n:\n",
    "        print(x)"
   ]
  },
  {
   "cell_type": "code",
   "execution_count": 127,
   "id": "73dfe3e8",
   "metadata": {
    "scrolled": true
   },
   "outputs": [
    {
     "name": "stdout",
     "output_type": "stream",
     "text": [
      "Enter n:\n",
      "7\n",
      "Yes\n"
     ]
    }
   ],
   "source": [
    "n = int(input(\"Enter n:\\n\"))\n",
    "\n",
    "if n <= 1:\n",
    "    print(\"No\")\n",
    "else:\n",
    "    x = 2\n",
    "    while x * x <= n:\n",
    "\n",
    "        if n % x == 0:\n",
    "            print(\"No\")\n",
    "            break\n",
    "        x = x + 1\n",
    "\n",
    "    else:\n",
    "        print(\"Yes\")"
   ]
  },
  {
   "cell_type": "code",
   "execution_count": 138,
   "id": "8de9cd7d",
   "metadata": {},
   "outputs": [
    {
     "name": "stdout",
     "output_type": "stream",
     "text": [
      "5 10 15 20 25 30 35 40 45 50 "
     ]
    }
   ],
   "source": [
    "n=5\n",
    "for i in range(n,n*10+1,n): ## i in range(x,y,z) means i goes from x to y-1 and increments z steps in each iteration\n",
    "    print(i, end=\" \")"
   ]
  },
  {
   "cell_type": "code",
   "execution_count": 11,
   "id": "03eedf11",
   "metadata": {},
   "outputs": [
    {
     "name": "stdout",
     "output_type": "stream",
     "text": [
      "pooja das\n",
      "poads"
     ]
    }
   ],
   "source": [
    "s=input().strip()\n",
    "for i in range(len(s)):\n",
    "    if i%2==0:## from 0 to length of str and skip 2\n",
    "        print(s[i], end=\"\")"
   ]
  },
  {
   "cell_type": "code",
   "execution_count": 4,
   "id": "bfe398bd",
   "metadata": {},
   "outputs": [
    {
     "data": {
      "text/plain": [
       "[1, 2, 3, 4]"
      ]
     },
     "execution_count": 4,
     "metadata": {},
     "output_type": "execute_result"
    }
   ],
   "source": [
    "list(range(1,5))"
   ]
  },
  {
   "cell_type": "code",
   "execution_count": 8,
   "id": "869a0fcd",
   "metadata": {},
   "outputs": [
    {
     "name": "stdout",
     "output_type": "stream",
     "text": [
      "0\n"
     ]
    },
    {
     "data": {
      "text/plain": [
       "1"
      ]
     },
     "execution_count": 8,
     "metadata": {},
     "output_type": "execute_result"
    }
   ],
   "source": [
    "#next prime no,\n",
    "def nextprime(n):\n",
    "    while True:\n",
    "        n=n+1\n",
    "        for i in range(2,n):\n",
    "            if(n%i==0):\n",
    "                break\n",
    "        else:\n",
    "            return n\n",
    "            \n",
    "            \n",
    "n=int(input())\n",
    "nextprime(n)"
   ]
  },
  {
   "cell_type": "code",
   "execution_count": 68,
   "id": "8de03a2f",
   "metadata": {},
   "outputs": [
    {
     "name": "stdout",
     "output_type": "stream",
     "text": [
      "10 15\n",
      "15 10\n",
      "*****************\n",
      "15 10\n",
      "10 5\n",
      "*****************\n",
      "10 5\n",
      "5 0\n",
      "*****************\n",
      "5\n"
     ]
    }
   ],
   "source": [
    "a=10\n",
    "b=15\n",
    "while b:\n",
    "    print(a,b)\n",
    "    a,b=b,a%b\n",
    "    print(a,b)\n",
    "    print(\"*****************\")\n",
    "    \n",
    "print(a)    "
   ]
  },
  {
   "cell_type": "code",
   "execution_count": 122,
   "id": "0500c4e4",
   "metadata": {
    "scrolled": true
   },
   "outputs": [
    {
     "name": "stdout",
     "output_type": "stream",
     "text": [
      "Xvzwdiroslsygspmkjvz Dxzyvsrsuvyfimeohwxxoqoobrqyibhwxgjfsblmcnttvcjjlr Rmbanz Jkmgsmfkkxgcgmtyonvcqtycujmigzvyrwphpfprdvlopyhssgavugqn Rehkd  Jnmsdpmpyzepjyhihrqqdrliouzvwbsqqwzsfz Cxrvblsmgbhdhnzkxreoguxqopxihgkyryxytmveyxgtbcc\n",
      "7\n",
      "7\n"
     ]
    }
   ],
   "source": [
    "def capCount(s):\n",
    "    \n",
    "    # Code here to print after captilizing first letter of all string\n",
    "    \n",
    "    print(s.title())\n",
    "    print(len(list(s.split())))\n",
    "    print(len(s.split()))\n",
    "    \n",
    "    # and then print the count of number of words\n",
    "    # Your code should provide a new line after printing\n",
    "capCount(\"xvzwdiroslsygspmkjvz dxzyvsrsuvyfimeohwxxoqoobrqyibhwxgjfsblmcnttvcjjlr rmbanz jkmgsmfkkxgcgmtyonvcqtycujmigzvyrwphpfprdvlopyhssgavugqn rehkd  jnmsdpmpyzepjyhihrqqdrliouzvwbsqqwzsfz cxrvblsmgbhdhnzkxreoguxqopxihgkyryxytmveyxgtbcc\")"
   ]
  },
  {
   "cell_type": "markdown",
   "id": "27901efc",
   "metadata": {},
   "source": [
    "xvzwdiroslsygspmkjvz dxzyvsrsuvyfimeohwxxoqoobrqyibhwxgjfsblmcnttvcjjlr rmbanz jkmgsmfkkxgcgmtyonvcqtycujmigzvyrwphpfprdvlopyhssgavugqn rehkd  jnmsdpmpyzepjyhihrqqdrliouzvwbsqqwzsfz cxrvblsmgbhdhnzkxreoguxqopxihgkyryxytmveyxgtbcc"
   ]
  },
  {
   "cell_type": "code",
   "execution_count": 130,
   "id": "0b880cbc",
   "metadata": {},
   "outputs": [],
   "source": [
    "s=\"xvzwdiroslsygspmkjvz dxzyvsrsuvyfimeohwxxoqoobrqyibhwxgjfsblmcnttvcjjlr rmbanz jkmgsmfkkxgcgmtyonvcqtycujmigzvyrwphpfprdvlopyhssgavugqn rehkd  jnmsdpmpyzepjyhihrqqdrliouzvwbsqqwzsfz cxrvblsmgbhdhnzkxreoguxqopxihgkyryxytmveyxgtbcc\"\n",
    "m=\"Xvzwdiroslsygspmkjvz Dxzyvsrsuvyfimeohwxxoqoobrqyibhwxgjfsblmcnttvcjjlr Rmbanz Jkmgsmfkkxgcgmtyonvcqtycujmigzvyrwphpfprdvlopyhssgavugqn Rehkd  Jnmsdpmpyzepjyhihrqqdrliouzvwbsqqwzsfz Cxrvblsmgbhdhnzkxreoguxqopxihgkyryxytmveyxgtbcc\"\n",
    "o=\"Xvzwdiroslsygspmkjvz Dxzyvsrsuvyfimeohwxxoqoobrqyibhwxgjfsblmcnttvcjjlr Rmbanz Jkmgsmfkkxgcgmtyonvcqtycujmigzvyrwphpfprdvlopyhssgavugqn Rehkd  Jnmsdpmpyzepjyhihrqqdrliouzvwbsqqwzsfz Cxrvblsmgbhdhnzkxreoguxqopxihgkyryxytmveyxgtbcc\""
   ]
  },
  {
   "cell_type": "code",
   "execution_count": 134,
   "id": "04cc99ac",
   "metadata": {},
   "outputs": [
    {
     "data": {
      "text/plain": [
       "True"
      ]
     },
     "execution_count": 134,
     "metadata": {},
     "output_type": "execute_result"
    }
   ],
   "source": [
    "len(s)==len(o)\n"
   ]
  },
  {
   "cell_type": "code",
   "execution_count": 132,
   "id": "613234b9",
   "metadata": {},
   "outputs": [
    {
     "data": {
      "text/plain": [
       "False"
      ]
     },
     "execution_count": 132,
     "metadata": {},
     "output_type": "execute_result"
    }
   ],
   "source": [
    "s==o"
   ]
  },
  {
   "cell_type": "code",
   "execution_count": 135,
   "id": "cab833d3",
   "metadata": {},
   "outputs": [
    {
     "data": {
      "text/plain": [
       "True"
      ]
     },
     "execution_count": 135,
     "metadata": {},
     "output_type": "execute_result"
    }
   ],
   "source": [
    "m==o"
   ]
  },
  {
   "cell_type": "code",
   "execution_count": 140,
   "id": "b658c0fc",
   "metadata": {},
   "outputs": [
    {
     "data": {
      "text/plain": [
       "7"
      ]
     },
     "execution_count": 140,
     "metadata": {},
     "output_type": "execute_result"
    }
   ],
   "source": [
    "len(s.split())"
   ]
  },
  {
   "cell_type": "code",
   "execution_count": 141,
   "id": "f1849deb",
   "metadata": {},
   "outputs": [
    {
     "data": {
      "text/plain": [
       "7"
      ]
     },
     "execution_count": 141,
     "metadata": {},
     "output_type": "execute_result"
    }
   ],
   "source": [
    "len(o.split())"
   ]
  },
  {
   "cell_type": "code",
   "execution_count": 139,
   "id": "ab7c737f",
   "metadata": {},
   "outputs": [
    {
     "data": {
      "text/plain": [
       "7"
      ]
     },
     "execution_count": 139,
     "metadata": {},
     "output_type": "execute_result"
    }
   ],
   "source": [
    "len(m.split())"
   ]
  },
  {
   "cell_type": "code",
   "execution_count": 145,
   "id": "9d0ae6cc",
   "metadata": {},
   "outputs": [
    {
     "name": "stdout",
     "output_type": "stream",
     "text": [
      "Xvzwdiroslsygspmkjvz Dxzyvsrsuvyfimeohwxxoqoobrqyibhwxgjfsblmcnttvcjjlr Rmbanz Jkmgsmfkkxgcgmtyonvcqtycujmigzvyrwphpfprdvlopyhssgavugqn Rehkd  Jnmsdpmpyzepjyhihrqqdrliouzvwbsqqwzsfz Cxrvblsmgbhdhnzkxreoguxqopxihgkyryxytmveyxgtbcc\n",
      "7\n"
     ]
    }
   ],
   "source": [
    "\n",
    "def capCount(s):\n",
    "    count=0\n",
    "    # Code here to print after captilizing first letter of all string\n",
    "    c=s.title()\n",
    "    print(c)\n",
    "    for i in c:\n",
    "        if(i.isupper()):\n",
    "            count=count+1\n",
    "    print(count) \n",
    "s=\"xvzwdiroslsygspmkjvz dxzyvsrsuvyfimeohwxxoqoobrqyibhwxgjfsblmcnttvcjjlr rmbanz jkmgsmfkkxgcgmtyonvcqtycujmigzvyrwphpfprdvlopyhssgavugqn rehkd  jnmsdpmpyzepjyhihrqqdrliouzvwbsqqwzsfz cxrvblsmgbhdhnzkxreoguxqopxihgkyryxytmveyxgtbcc\"\n",
    "    \n",
    "capCount(s)     "
   ]
  },
  {
   "cell_type": "code",
   "execution_count": 147,
   "id": "f43b98c4",
   "metadata": {},
   "outputs": [
    {
     "name": "stdout",
     "output_type": "stream",
     "text": [
      "34\n",
      "10\n"
     ]
    }
   ],
   "source": [
    "def capitalize_first_last_letters(str1):\n",
    "    str1 = result = str1.title()\n",
    "    result =  \"\"\n",
    "    for word in str1.split():\n",
    "        result += word[:-1] + word[-1].upper() + \" \"\n",
    "    return len(result[:-1])  \n",
    "     \n",
    "print(capitalize_first_last_letters(\"python exercises practice solution\"))\n",
    "print(capitalize_first_last_letters(\"w3resource\"))"
   ]
  },
  {
   "cell_type": "code",
   "execution_count": 148,
   "id": "1a7b2c38",
   "metadata": {},
   "outputs": [
    {
     "data": {
      "text/plain": [
       "3"
      ]
     },
     "execution_count": 148,
     "metadata": {},
     "output_type": "execute_result"
    }
   ],
   "source": [
    "3*1**3"
   ]
  },
  {
   "cell_type": "code",
   "execution_count": 149,
   "id": "a65fbc08",
   "metadata": {},
   "outputs": [
    {
     "name": "stdout",
     "output_type": "stream",
     "text": [
      "0\n",
      "1\n",
      "2\n"
     ]
    }
   ],
   "source": [
    "i = 0\n",
    "while i < 5:\n",
    "    print(i)\n",
    "    i += 1\n",
    "    if i == 3:\n",
    "        break\n",
    "else:\n",
    "    print(0)"
   ]
  },
  {
   "cell_type": "code",
   "execution_count": 164,
   "id": "e68e9a28",
   "metadata": {},
   "outputs": [
    {
     "ename": "IndentationError",
     "evalue": "expected an indented block (Temp/ipykernel_2276/695041236.py, line 2)",
     "output_type": "error",
     "traceback": [
      "\u001b[1;36m  File \u001b[1;32m\"C:\\Users\\HP\\AppData\\Local\\Temp/ipykernel_2276/695041236.py\"\u001b[1;36m, line \u001b[1;32m2\u001b[0m\n\u001b[1;33m    for num in range(1,n+1):\u001b[0m\n\u001b[1;37m    ^\u001b[0m\n\u001b[1;31mIndentationError\u001b[0m\u001b[1;31m:\u001b[0m expected an indented block\n"
     ]
    }
   ],
   "source": [
    "def prime(n):\n",
    "for num in range(1,n+1):\n",
    "    if num>1:\n",
    "        for i in range(2,num-1): \n",
    "            if num%i==0: \n",
    "                break\n",
    "        else:   \n",
    "            print(num,end=\" , \")\n",
    "n=int(input()\n",
    "prime(n)        "
   ]
  },
  {
   "cell_type": "code",
   "execution_count": 213,
   "id": "03ee1936",
   "metadata": {},
   "outputs": [
    {
     "name": "stdout",
     "output_type": "stream",
     "text": [
      "1\n"
     ]
    }
   ],
   "source": [
    "\n",
    "# for num in range(1,10+1):\n",
    "    \n",
    "    #checking number is greater than 1 or not\n",
    "#     if num>1:\n",
    "l=[]\n",
    "c=0\n",
    "for i in range(1,10+1): \n",
    "    if num%i==0: \n",
    "        \n",
    "        l.append(i)\n",
    "# print(l)\n",
    "for i in l:\n",
    "   \n",
    "    for j in range(1,i):\n",
    "        if i%j==0:\n",
    "            break\n",
    "    else:\n",
    "        c=c+1\n",
    "        print(c)\n",
    "\n",
    "    \n",
    "    \n",
    "   "
   ]
  },
  {
   "cell_type": "code",
   "execution_count": 211,
   "id": "5b8b482c",
   "metadata": {},
   "outputs": [
    {
     "name": "stdout",
     "output_type": "stream",
     "text": [
      "1\n"
     ]
    }
   ],
   "source": [
    "l=[1, 2, 5, 10]\n",
    "c=0\n",
    "for i in l:\n",
    "#     print(i)\n",
    "    \n",
    "    for j in range(1,i+):\n",
    "        if i%j==0:\n",
    "            break\n",
    "    else:\n",
    "        print(j)"
   ]
  },
  {
   "cell_type": "code",
   "execution_count": 204,
   "id": "bea03d18",
   "metadata": {},
   "outputs": [
    {
     "data": {
      "text/plain": [
       "[1]"
      ]
     },
     "execution_count": 204,
     "metadata": {},
     "output_type": "execute_result"
    }
   ],
   "source": [
    "list(range(1,2))"
   ]
  },
  {
   "cell_type": "code",
   "execution_count": 222,
   "id": "5e718533",
   "metadata": {},
   "outputs": [
    {
     "name": "stdout",
     "output_type": "stream",
     "text": [
      "[1, 2, 5, 10]\n",
      "2\n"
     ]
    }
   ],
   "source": [
    "def count_Primes_nums(n):\n",
    "    ctr = 0\n",
    "    l=[]\n",
    "    for i in range(1,n+1): \n",
    "        if n%i==0: \n",
    "            l.append(i)\n",
    "    print(l)\n",
    "    for num in l:\n",
    "        \n",
    "        if num <= 1:\n",
    "            continue\n",
    "        for i in range(2, num):\n",
    "            if (num % i) == 0:\n",
    "                break\n",
    "        else:\n",
    "            ctr += 1\n",
    "\n",
    "    return ctr\n",
    "\n",
    "print(count_Primes_nums(10))\n"
   ]
  },
  {
   "cell_type": "code",
   "execution_count": 227,
   "id": "7e642304",
   "metadata": {},
   "outputs": [
    {
     "data": {
      "text/plain": [
       "[2, 3, 4, 5, 6, 7, 8, 9]"
      ]
     },
     "execution_count": 227,
     "metadata": {},
     "output_type": "execute_result"
    }
   ],
   "source": [
    "list(range(2, 10))"
   ]
  },
  {
   "cell_type": "code",
   "execution_count": 228,
   "id": "4cc8fdc4",
   "metadata": {},
   "outputs": [
    {
     "data": {
      "text/plain": [
       "True"
      ]
     },
     "execution_count": 228,
     "metadata": {},
     "output_type": "execute_result"
    }
   ],
   "source": [
    "10%2==0"
   ]
  },
  {
   "cell_type": "code",
   "execution_count": 229,
   "id": "274a151c",
   "metadata": {},
   "outputs": [
    {
     "data": {
      "text/plain": [
       "False"
      ]
     },
     "execution_count": 229,
     "metadata": {},
     "output_type": "execute_result"
    }
   ],
   "source": [
    "10%3==0"
   ]
  },
  {
   "cell_type": "code",
   "execution_count": 264,
   "id": "30fc5aff",
   "metadata": {},
   "outputs": [
    {
     "name": "stdout",
     "output_type": "stream",
     "text": [
      "[1, 2, 3, 4, 5]\n",
      "0\n"
     ]
    }
   ],
   "source": [
    "def pa(n):\n",
    "#     rev=0\n",
    "    count=0\n",
    "    l=[]\n",
    "    for j in range(1,n+1):\n",
    "        l.append(j)\n",
    "    print(l)\n",
    "    for i in l:             \n",
    "  \n",
    "        # Find reverse of current number \n",
    "        t = i \n",
    "        rev = 0\n",
    "        while t > 0: \n",
    "            rev = rev * 10 + t % 10\n",
    "            t = t // 10\n",
    "  \n",
    "        # compare rev with the current number \n",
    "        if rev != i: \n",
    "            #print (i) \n",
    "            count = count + 1\n",
    "    print (count)\n",
    "#             if i != rev:\n",
    "#                 print(False)\n",
    "            \n",
    "\n",
    "\n",
    "pa(5)"
   ]
  },
  {
   "cell_type": "code",
   "execution_count": 256,
   "id": "7365ab1a",
   "metadata": {},
   "outputs": [
    {
     "data": {
      "text/plain": [
       "1"
      ]
     },
     "execution_count": 256,
     "metadata": {},
     "output_type": "execute_result"
    }
   ],
   "source": [
    "12//10\n"
   ]
  },
  {
   "cell_type": "code",
   "execution_count": 265,
   "id": "8fc58cab",
   "metadata": {},
   "outputs": [
    {
     "ename": "SyntaxError",
     "evalue": "invalid syntax (Temp/ipykernel_2276/2029582675.py, line 1)",
     "output_type": "error",
     "traceback": [
      "\u001b[1;36m  File \u001b[1;32m\"C:\\Users\\HP\\AppData\\Local\\Temp/ipykernel_2276/2029582675.py\"\u001b[1;36m, line \u001b[1;32m1\u001b[0m\n\u001b[1;33m    print ()'{0:-2%}'.format(1.0 / 3))\u001b[0m\n\u001b[1;37m            ^\u001b[0m\n\u001b[1;31mSyntaxError\u001b[0m\u001b[1;31m:\u001b[0m invalid syntax\n"
     ]
    }
   ],
   "source": [
    "print ()'0:-2%}'.format(1.0 / 3))"
   ]
  },
  {
   "cell_type": "code",
   "execution_count": 1,
   "id": "23ca0bd4",
   "metadata": {},
   "outputs": [
    {
     "data": {
      "text/plain": [
       "''"
      ]
     },
     "execution_count": 1,
     "metadata": {},
     "output_type": "execute_result"
    }
   ],
   "source": [
    "s=\"pooja\"\n",
    "s[:-1:-1]"
   ]
  },
  {
   "cell_type": "code",
   "execution_count": 10,
   "id": "2b7cde42",
   "metadata": {},
   "outputs": [
    {
     "data": {
      "text/plain": [
       "'ajoop'"
      ]
     },
     "execution_count": 10,
     "metadata": {},
     "output_type": "execute_result"
    }
   ],
   "source": [
    "s[-1::-1]"
   ]
  },
  {
   "cell_type": "code",
   "execution_count": 11,
   "id": "97135651",
   "metadata": {},
   "outputs": [
    {
     "data": {
      "text/plain": [
       "'pooja'"
      ]
     },
     "execution_count": 11,
     "metadata": {},
     "output_type": "execute_result"
    }
   ],
   "source": [
    "s[0::]"
   ]
  },
  {
   "cell_type": "code",
   "execution_count": 12,
   "id": "e0335950",
   "metadata": {},
   "outputs": [
    {
     "data": {
      "text/plain": [
       "5"
      ]
     },
     "execution_count": 12,
     "metadata": {},
     "output_type": "execute_result"
    }
   ],
   "source": [
    "len(s)"
   ]
  },
  {
   "cell_type": "code",
   "execution_count": 13,
   "id": "f6858a3c",
   "metadata": {},
   "outputs": [
    {
     "data": {
      "text/plain": [
       "'poo'"
      ]
     },
     "execution_count": 13,
     "metadata": {},
     "output_type": "execute_result"
    }
   ],
   "source": [
    "s[0:3]"
   ]
  },
  {
   "cell_type": "code",
   "execution_count": 17,
   "id": "39250854",
   "metadata": {},
   "outputs": [
    {
     "data": {
      "text/plain": [
       "2"
      ]
     },
     "execution_count": 17,
     "metadata": {},
     "output_type": "execute_result"
    }
   ],
   "source": [
    "s.count(\"o\")"
   ]
  },
  {
   "cell_type": "code",
   "execution_count": 19,
   "id": "b10b64d3",
   "metadata": {},
   "outputs": [
    {
     "data": {
      "text/plain": [
       "'joop'"
      ]
     },
     "execution_count": 19,
     "metadata": {},
     "output_type": "execute_result"
    }
   ],
   "source": [
    "s[-2::-1]"
   ]
  },
  {
   "cell_type": "code",
   "execution_count": 20,
   "id": "e02ed290",
   "metadata": {},
   "outputs": [
    {
     "data": {
      "text/plain": [
       "['p', '', 'ja']"
      ]
     },
     "execution_count": 20,
     "metadata": {},
     "output_type": "execute_result"
    }
   ],
   "source": [
    "s.split(\"o\")"
   ]
  },
  {
   "cell_type": "code",
   "execution_count": 23,
   "id": "c3fe97bf",
   "metadata": {},
   "outputs": [
    {
     "name": "stdout",
     "output_type": "stream",
     "text": [
      "<class 'list'>\n"
     ]
    }
   ],
   "source": [
    "print(type(s.split()))"
   ]
  },
  {
   "cell_type": "code",
   "execution_count": 28,
   "id": "cb7260cb",
   "metadata": {},
   "outputs": [],
   "source": [
    "s=\"\"\"... that The Archives of the Planet includes 72,000 color photographs (example pictured) of human cultures taken in 50 countries between 1908 and 1931?\n",
    "... that Port Jefferson village officials opposed the expansion of the Caithness Long Island Energy Center because they feared it would lead to the decommissioning of the Port Jefferson Power Station?\n",
    "... that Jusuf Muda Dalam is the only Indonesian politician to date to be sentenced to death for corruption?\n",
    "... that the construction of Washington State Route 512 included a new high school football stadium to replace a demolished one?\n",
    "... that journalist W. A. Hewitt refereed the first game played in the history of ice hockey at the Olympic Games?\n",
    "... that the 3rd Plurinational Legislative Assembly of Bolivia has suspended multiple sessions due to open brawls and fights between opposition and ruling party parliamentarians?\n",
    "... that Romy Golan's 2021 book Flashback, Eclipse is an exploration of Italian art of the 1960s that moved away from the art created under Italian fascism?\n",
    "... that in 1999, donors to the American Airlines Theatre could pay US$75,000 for their name on a bathroom?\"\"\""
   ]
  },
  {
   "cell_type": "code",
   "execution_count": 29,
   "id": "9de9e4fa",
   "metadata": {},
   "outputs": [
    {
     "data": {
      "text/plain": [
       "['...',\n",
       " 'that',\n",
       " 'The',\n",
       " 'Archives',\n",
       " 'of',\n",
       " 'the',\n",
       " 'Planet',\n",
       " 'includes',\n",
       " '72,000',\n",
       " 'color',\n",
       " 'photographs',\n",
       " '(example',\n",
       " 'pictured)',\n",
       " 'of',\n",
       " 'human',\n",
       " 'cultures',\n",
       " 'taken',\n",
       " 'in',\n",
       " '50',\n",
       " 'countries',\n",
       " 'between',\n",
       " '1908',\n",
       " 'and',\n",
       " '1931?',\n",
       " 'that',\n",
       " 'Port',\n",
       " 'Jefferson',\n",
       " 'village',\n",
       " 'officials',\n",
       " 'opposed',\n",
       " 'the',\n",
       " 'expansion',\n",
       " 'of',\n",
       " 'the',\n",
       " 'Caithness',\n",
       " 'Long',\n",
       " 'Island',\n",
       " 'Energy',\n",
       " 'Center',\n",
       " 'because',\n",
       " 'they',\n",
       " 'feared',\n",
       " 'it',\n",
       " 'would',\n",
       " 'lead',\n",
       " 'to',\n",
       " 'the',\n",
       " 'decommissioning',\n",
       " 'of',\n",
       " 'the',\n",
       " 'Port',\n",
       " 'Jefferson',\n",
       " 'Power',\n",
       " 'Station?',\n",
       " 'that',\n",
       " 'Jusuf',\n",
       " 'Muda',\n",
       " 'Dalam',\n",
       " 'is',\n",
       " 'the',\n",
       " 'only',\n",
       " 'Indonesian',\n",
       " 'politician',\n",
       " 'to',\n",
       " 'date',\n",
       " 'to',\n",
       " 'be',\n",
       " 'sentenced',\n",
       " 'to',\n",
       " 'death',\n",
       " 'for',\n",
       " 'corruption?',\n",
       " 'that',\n",
       " 'the',\n",
       " 'construction',\n",
       " 'of',\n",
       " 'Washington',\n",
       " 'State',\n",
       " 'Route',\n",
       " '512',\n",
       " 'included',\n",
       " 'a',\n",
       " 'new',\n",
       " 'high',\n",
       " 'school',\n",
       " 'football',\n",
       " 'stadium',\n",
       " 'to',\n",
       " 'replace',\n",
       " 'a',\n",
       " 'demolished',\n",
       " 'one?',\n",
       " 'that',\n",
       " 'journalist',\n",
       " 'W.',\n",
       " 'A.',\n",
       " 'Hewitt',\n",
       " 'refereed',\n",
       " 'the',\n",
       " 'first',\n",
       " 'game',\n",
       " 'played',\n",
       " 'in',\n",
       " 'the',\n",
       " 'history',\n",
       " 'of',\n",
       " 'ice',\n",
       " 'hockey',\n",
       " 'at',\n",
       " 'the',\n",
       " 'Olympic',\n",
       " 'Games?',\n",
       " 'that',\n",
       " 'the',\n",
       " '3rd',\n",
       " 'Plurinational',\n",
       " 'Legislative',\n",
       " 'Assembly',\n",
       " 'of',\n",
       " 'Bolivia',\n",
       " 'has',\n",
       " 'suspended',\n",
       " 'multiple',\n",
       " 'sessions',\n",
       " 'due',\n",
       " 'to',\n",
       " 'open',\n",
       " 'brawls',\n",
       " 'and',\n",
       " 'fights',\n",
       " 'between',\n",
       " 'opposition',\n",
       " 'and',\n",
       " 'ruling',\n",
       " 'party',\n",
       " 'parliamentarians?',\n",
       " 'that',\n",
       " 'Romy',\n",
       " \"Golan's\",\n",
       " '2021',\n",
       " 'book',\n",
       " 'Flashback,',\n",
       " 'Eclipse',\n",
       " 'is',\n",
       " 'an',\n",
       " 'exploration',\n",
       " 'of',\n",
       " 'Italian',\n",
       " 'art',\n",
       " 'of',\n",
       " 'the',\n",
       " '1960s',\n",
       " 'that',\n",
       " 'moved',\n",
       " 'away',\n",
       " 'from',\n",
       " 'the',\n",
       " 'art',\n",
       " 'created',\n",
       " 'under',\n",
       " 'Italian',\n",
       " 'fascism?',\n",
       " 'that',\n",
       " 'in',\n",
       " '1999,',\n",
       " 'donors',\n",
       " 'to',\n",
       " 'the',\n",
       " 'American',\n",
       " 'Airlines',\n",
       " 'Theatre',\n",
       " 'could',\n",
       " 'pay',\n",
       " 'US$75,000',\n",
       " 'for',\n",
       " 'their',\n",
       " 'name',\n",
       " 'on',\n",
       " 'a',\n",
       " 'bathroom?']"
      ]
     },
     "execution_count": 29,
     "metadata": {},
     "output_type": "execute_result"
    }
   ],
   "source": [
    "s.split()"
   ]
  },
  {
   "cell_type": "code",
   "execution_count": 30,
   "id": "3c089a56",
   "metadata": {},
   "outputs": [
    {
     "data": {
      "text/plain": [
       "\"... that The Archives of the Planet includes 72,000 color photographs (example pictured) of human cultures taken in 50 countries between 1908 and 1931?\\nthat Port Jefferson village officials opposed the expansion of the Caithness Long Island Energy Center because they feared it would lead to the decommissioning of the Port Jefferson Power Station?\\nthat Jusuf Muda Dalam is the only Indonesian politician to date to be sentenced to death for corruption?\\nthat the construction of Washington State Route 512 included a new high school football stadium to replace a demolished one?\\nthat journalist W. A. Hewitt refereed the first game played in the history of ice hockey at the Olympic Games?\\nthat the 3rd Plurinational Legislative Assembly of Bolivia has suspended multiple sessions due to open brawls and fights between opposition and ruling party parliamentarians?\\nthat Romy Golan's 2021 book Flashback, Eclipse is an exploration of Italian art of the 1960s that moved away from the art created under Italian fascism?\\nthat in 1999, donors to the American Airlines Theatre could pay US$75,000 for their name on a bathroom?\""
      ]
     },
     "execution_count": 30,
     "metadata": {},
     "output_type": "execute_result"
    }
   ],
   "source": [
    "s"
   ]
  },
  {
   "cell_type": "code",
   "execution_count": 31,
   "id": "8eee08bf",
   "metadata": {},
   "outputs": [
    {
     "data": {
      "text/plain": [
       "\"... THAT THE ARCHIVES OF THE PLANET INCLUDES 72,000 COLOR PHOTOGRAPHS (EXAMPLE PICTURED) OF HUMAN CULTURES TAKEN IN 50 COUNTRIES BETWEEN 1908 AND 1931?\\nTHAT PORT JEFFERSON VILLAGE OFFICIALS OPPOSED THE EXPANSION OF THE CAITHNESS LONG ISLAND ENERGY CENTER BECAUSE THEY FEARED IT WOULD LEAD TO THE DECOMMISSIONING OF THE PORT JEFFERSON POWER STATION?\\nTHAT JUSUF MUDA DALAM IS THE ONLY INDONESIAN POLITICIAN TO DATE TO BE SENTENCED TO DEATH FOR CORRUPTION?\\nTHAT THE CONSTRUCTION OF WASHINGTON STATE ROUTE 512 INCLUDED A NEW HIGH SCHOOL FOOTBALL STADIUM TO REPLACE A DEMOLISHED ONE?\\nTHAT JOURNALIST W. A. HEWITT REFEREED THE FIRST GAME PLAYED IN THE HISTORY OF ICE HOCKEY AT THE OLYMPIC GAMES?\\nTHAT THE 3RD PLURINATIONAL LEGISLATIVE ASSEMBLY OF BOLIVIA HAS SUSPENDED MULTIPLE SESSIONS DUE TO OPEN BRAWLS AND FIGHTS BETWEEN OPPOSITION AND RULING PARTY PARLIAMENTARIANS?\\nTHAT ROMY GOLAN'S 2021 BOOK FLASHBACK, ECLIPSE IS AN EXPLORATION OF ITALIAN ART OF THE 1960S THAT MOVED AWAY FROM THE ART CREATED UNDER ITALIAN FASCISM?\\nTHAT IN 1999, DONORS TO THE AMERICAN AIRLINES THEATRE COULD PAY US$75,000 FOR THEIR NAME ON A BATHROOM?\""
      ]
     },
     "execution_count": 31,
     "metadata": {},
     "output_type": "execute_result"
    }
   ],
   "source": [
    "s.upper()"
   ]
  },
  {
   "cell_type": "code",
   "execution_count": 32,
   "id": "b24ad512",
   "metadata": {},
   "outputs": [
    {
     "data": {
      "text/plain": [
       "\"... That The Archives Of The Planet Includes 72,000 Color Photographs (Example Pictured) Of Human Cultures Taken In 50 Countries Between 1908 And 1931?\\nThat Port Jefferson Village Officials Opposed The Expansion Of The Caithness Long Island Energy Center Because They Feared It Would Lead To The Decommissioning Of The Port Jefferson Power Station?\\nThat Jusuf Muda Dalam Is The Only Indonesian Politician To Date To Be Sentenced To Death For Corruption?\\nThat The Construction Of Washington State Route 512 Included A New High School Football Stadium To Replace A Demolished One?\\nThat Journalist W. A. Hewitt Refereed The First Game Played In The History Of Ice Hockey At The Olympic Games?\\nThat The 3Rd Plurinational Legislative Assembly Of Bolivia Has Suspended Multiple Sessions Due To Open Brawls And Fights Between Opposition And Ruling Party Parliamentarians?\\nThat Romy Golan'S 2021 Book Flashback, Eclipse Is An Exploration Of Italian Art Of The 1960S That Moved Away From The Art Created Under Italian Fascism?\\nThat In 1999, Donors To The American Airlines Theatre Could Pay Us$75,000 For Their Name On A Bathroom?\""
      ]
     },
     "execution_count": 32,
     "metadata": {},
     "output_type": "execute_result"
    }
   ],
   "source": [
    "s.title()"
   ]
  },
  {
   "cell_type": "code",
   "execution_count": 33,
   "id": "6ac02af5",
   "metadata": {},
   "outputs": [],
   "source": [
    "s=s.upper()"
   ]
  },
  {
   "cell_type": "code",
   "execution_count": 34,
   "id": "9beea2cc",
   "metadata": {},
   "outputs": [
    {
     "data": {
      "text/plain": [
       "\"... THAT THE ARCHIVES OF THE PLANET INCLUDES 72,000 COLOR PHOTOGRAPHS (EXAMPLE PICTURED) OF HUMAN CULTURES TAKEN IN 50 COUNTRIES BETWEEN 1908 AND 1931?\\nTHAT PORT JEFFERSON VILLAGE OFFICIALS OPPOSED THE EXPANSION OF THE CAITHNESS LONG ISLAND ENERGY CENTER BECAUSE THEY FEARED IT WOULD LEAD TO THE DECOMMISSIONING OF THE PORT JEFFERSON POWER STATION?\\nTHAT JUSUF MUDA DALAM IS THE ONLY INDONESIAN POLITICIAN TO DATE TO BE SENTENCED TO DEATH FOR CORRUPTION?\\nTHAT THE CONSTRUCTION OF WASHINGTON STATE ROUTE 512 INCLUDED A NEW HIGH SCHOOL FOOTBALL STADIUM TO REPLACE A DEMOLISHED ONE?\\nTHAT JOURNALIST W. A. HEWITT REFEREED THE FIRST GAME PLAYED IN THE HISTORY OF ICE HOCKEY AT THE OLYMPIC GAMES?\\nTHAT THE 3RD PLURINATIONAL LEGISLATIVE ASSEMBLY OF BOLIVIA HAS SUSPENDED MULTIPLE SESSIONS DUE TO OPEN BRAWLS AND FIGHTS BETWEEN OPPOSITION AND RULING PARTY PARLIAMENTARIANS?\\nTHAT ROMY GOLAN'S 2021 BOOK FLASHBACK, ECLIPSE IS AN EXPLORATION OF ITALIAN ART OF THE 1960S THAT MOVED AWAY FROM THE ART CREATED UNDER ITALIAN FASCISM?\\nTHAT IN 1999, DONORS TO THE AMERICAN AIRLINES THEATRE COULD PAY US$75,000 FOR THEIR NAME ON A BATHROOM?\""
      ]
     },
     "execution_count": 34,
     "metadata": {},
     "output_type": "execute_result"
    }
   ],
   "source": [
    "s"
   ]
  },
  {
   "cell_type": "code",
   "execution_count": 38,
   "id": "4c5477b1",
   "metadata": {},
   "outputs": [
    {
     "data": {
      "text/plain": [
       "\"... THAT THE ARCHIVES OF THE PLANET INCLUDES 72,000 COLOR PHOTOGRAPHS (EXAMPLE PICTURED) OF HUMAN CULTURES TAKEN IN 50 COUNTRIES BETWEEN 1908 AND 1931?\\nTHAT PORT JEFFERSON VILLAGE OFFICIALS OPPOSED THE EXPANSION OF THE CAITHNESS LONG ISLAND ENERGY CENTER BECAUSE THEY FEARED IT WOULD LEAD TO THE DECOMMISSIONING OF THE PORT JEFFERSON POWER STATION?\\nTHAT JUSUF MUDA DALAM IS THE ONLY INDONESIAN POLITICIAN TO DATE TO BE SENTENCED TO DEATH FOR CORRUPTION?\\nTHAT THE CONSTRUCTION OF WASHINGTON STATE ROUTE 512 INCLUDED A NEW HIGH SCHOOL FOOTBALL STADIUM TO REPLACE A DEMOLISHED ONE?\\nTHAT JOURNALIST W. A. HEWITT REFEREED THE FIRST GAME PLAYED IN THE HISTORY OF ICE HOCKEY AT THE OLYMPIC GAMES?\\nTHAT THE 3RD PLURINATIONAL LEGISLATIVE ASSEMBLY OF BOLIVIA HAS SUSPENDED MULTIPLE SESSIONS DUE TO OPEN BRAWLS AND FIGHTS BETWEEN OPPOSITION AND RULING PARTY PARLIAMENTARIANS?\\nTHAT ROMY GOLAN'S 2021 BOOK FLASHBACK, ECLIPSE IS AN EXPLORATION OF ITALIAN ART OF THE 1960S THAT MOVED AWAY FROM THE ART CREATED UNDER ITALIAN FASCISM?\\nTHAT IN 1999, DONORS TO THE AMERICAN AIRLINES THEATRE COULD PAY US$75,000 FOR THEIR NAME ON A BATHROOM?\""
      ]
     },
     "execution_count": 38,
     "metadata": {},
     "output_type": "execute_result"
    }
   ],
   "source": [
    "s.title()\n"
   ]
  },
  {
   "cell_type": "code",
   "execution_count": 44,
   "id": "a631da6b",
   "metadata": {},
   "outputs": [],
   "source": [
    "s=\"poOja dAs\""
   ]
  },
  {
   "cell_type": "code",
   "execution_count": 45,
   "id": "7107e1dc",
   "metadata": {},
   "outputs": [
    {
     "data": {
      "text/plain": [
       "'Pooja Das'"
      ]
     },
     "execution_count": 45,
     "metadata": {},
     "output_type": "execute_result"
    }
   ],
   "source": [
    "s.title()"
   ]
  },
  {
   "cell_type": "code",
   "execution_count": 46,
   "id": "a6bbe81c",
   "metadata": {},
   "outputs": [
    {
     "data": {
      "text/plain": [
       "'POoJA DaS'"
      ]
     },
     "execution_count": 46,
     "metadata": {},
     "output_type": "execute_result"
    }
   ],
   "source": [
    "s.swapcase()"
   ]
  },
  {
   "cell_type": "code",
   "execution_count": 47,
   "id": "c3c21dc9",
   "metadata": {},
   "outputs": [
    {
     "data": {
      "text/plain": [
       "<reversed at 0x14a24b42d00>"
      ]
     },
     "execution_count": 47,
     "metadata": {},
     "output_type": "execute_result"
    }
   ],
   "source": [
    "reversed(s)"
   ]
  },
  {
   "cell_type": "code",
   "execution_count": 48,
   "id": "1e396fb6",
   "metadata": {},
   "outputs": [
    {
     "data": {
      "text/plain": [
       "<reversed at 0x14a24b42b50>"
      ]
     },
     "execution_count": 48,
     "metadata": {},
     "output_type": "execute_result"
    }
   ],
   "source": [
    "l=reversed(s)\n",
    "l"
   ]
  },
  {
   "cell_type": "code",
   "execution_count": 53,
   "id": "c5c9affa",
   "metadata": {},
   "outputs": [
    {
     "data": {
      "text/plain": [
       "' SaD AJoOP '"
      ]
     },
     "execution_count": 53,
     "metadata": {},
     "output_type": "execute_result"
    }
   ],
   "source": [
    "\"\".join(reversed(s))"
   ]
  },
  {
   "cell_type": "code",
   "execution_count": 49,
   "id": "6937f0db",
   "metadata": {},
   "outputs": [
    {
     "data": {
      "text/plain": [
       "'sAd ajOop'"
      ]
     },
     "execution_count": 49,
     "metadata": {},
     "output_type": "execute_result"
    }
   ],
   "source": [
    "s[::-1]"
   ]
  },
  {
   "cell_type": "code",
   "execution_count": 52,
   "id": "1af96fad",
   "metadata": {},
   "outputs": [
    {
     "data": {
      "text/plain": [
       "'POoJA DaS'"
      ]
     },
     "execution_count": 52,
     "metadata": {},
     "output_type": "execute_result"
    }
   ],
   "source": [
    "s=' POoJA DaS '\n",
    "s.strip()"
   ]
  },
  {
   "cell_type": "code",
   "execution_count": 54,
   "id": "e61d000f",
   "metadata": {},
   "outputs": [
    {
     "data": {
      "text/plain": [
       "'POoJA DaS '"
      ]
     },
     "execution_count": 54,
     "metadata": {},
     "output_type": "execute_result"
    }
   ],
   "source": [
    "s.lstrip()"
   ]
  },
  {
   "cell_type": "code",
   "execution_count": 55,
   "id": "d971723d",
   "metadata": {},
   "outputs": [
    {
     "data": {
      "text/plain": [
       "' @P@O@o@J@A@ @D@a@S@ '"
      ]
     },
     "execution_count": 55,
     "metadata": {},
     "output_type": "execute_result"
    }
   ],
   "source": [
    "\"@\".join(s)"
   ]
  },
  {
   "cell_type": "code",
   "execution_count": 56,
   "id": "1e8c22f2",
   "metadata": {},
   "outputs": [
    {
     "data": {
      "text/plain": [
       "'@@@@ POoJA DaS @@@@@'"
      ]
     },
     "execution_count": 56,
     "metadata": {},
     "output_type": "execute_result"
    }
   ],
   "source": [
    "s.center(20,\"@\")"
   ]
  },
  {
   "cell_type": "code",
   "execution_count": 57,
   "id": "dd2db394",
   "metadata": {},
   "outputs": [
    {
     "data": {
      "text/plain": [
       "False"
      ]
     },
     "execution_count": 57,
     "metadata": {},
     "output_type": "execute_result"
    }
   ],
   "source": [
    "s.islower()"
   ]
  },
  {
   "cell_type": "code",
   "execution_count": 58,
   "id": "2d0cfbf4",
   "metadata": {},
   "outputs": [
    {
     "data": {
      "text/plain": [
       "False"
      ]
     },
     "execution_count": 58,
     "metadata": {},
     "output_type": "execute_result"
    }
   ],
   "source": [
    "s.isupper()"
   ]
  },
  {
   "cell_type": "code",
   "execution_count": 61,
   "id": "fe831fdb",
   "metadata": {},
   "outputs": [
    {
     "data": {
      "text/plain": [
       "True"
      ]
     },
     "execution_count": 61,
     "metadata": {},
     "output_type": "execute_result"
    }
   ],
   "source": [
    "s=s.upper()\n",
    "s.isupper()"
   ]
  },
  {
   "cell_type": "code",
   "execution_count": 62,
   "id": "41486b26",
   "metadata": {},
   "outputs": [
    {
     "data": {
      "text/plain": [
       "False"
      ]
     },
     "execution_count": 62,
     "metadata": {},
     "output_type": "execute_result"
    }
   ],
   "source": [
    "s.isspace()"
   ]
  },
  {
   "cell_type": "code",
   "execution_count": 63,
   "id": "7e533427",
   "metadata": {},
   "outputs": [
    {
     "data": {
      "text/plain": [
       "True"
      ]
     },
     "execution_count": 63,
     "metadata": {},
     "output_type": "execute_result"
    }
   ],
   "source": [
    "l=\" \"\n",
    "l.isspace()"
   ]
  },
  {
   "cell_type": "code",
   "execution_count": 65,
   "id": "b351ac28",
   "metadata": {},
   "outputs": [
    {
     "data": {
      "text/plain": [
       "True"
      ]
     },
     "execution_count": 65,
     "metadata": {},
     "output_type": "execute_result"
    }
   ],
   "source": [
    "s=\"pooja\"\n",
    "s.isalnum()"
   ]
  },
  {
   "cell_type": "code",
   "execution_count": 66,
   "id": "5611017c",
   "metadata": {},
   "outputs": [
    {
     "data": {
      "text/plain": [
       "True"
      ]
     },
     "execution_count": 66,
     "metadata": {},
     "output_type": "execute_result"
    }
   ],
   "source": [
    "s.isalpha()"
   ]
  },
  {
   "cell_type": "code",
   "execution_count": 67,
   "id": "b184037b",
   "metadata": {},
   "outputs": [],
   "source": [
    "s=\"addd7\""
   ]
  },
  {
   "cell_type": "code",
   "execution_count": 68,
   "id": "c7222bc5",
   "metadata": {},
   "outputs": [
    {
     "data": {
      "text/plain": [
       "True"
      ]
     },
     "execution_count": 68,
     "metadata": {},
     "output_type": "execute_result"
    }
   ],
   "source": [
    "s.isalnum()"
   ]
  },
  {
   "cell_type": "code",
   "execution_count": 70,
   "id": "0d06814c",
   "metadata": {},
   "outputs": [
    {
     "data": {
      "text/plain": [
       "False"
      ]
     },
     "execution_count": 70,
     "metadata": {},
     "output_type": "execute_result"
    }
   ],
   "source": [
    "s.startswith(\"d\")"
   ]
  },
  {
   "cell_type": "code",
   "execution_count": 71,
   "id": "9d0a9e6c",
   "metadata": {},
   "outputs": [
    {
     "data": {
      "text/plain": [
       "True"
      ]
     },
     "execution_count": 71,
     "metadata": {},
     "output_type": "execute_result"
    }
   ],
   "source": [
    "s.startswith(\"a\")"
   ]
  },
  {
   "cell_type": "code",
   "execution_count": 72,
   "id": "4298cc34",
   "metadata": {},
   "outputs": [
    {
     "data": {
      "text/plain": [
       "True"
      ]
     },
     "execution_count": 72,
     "metadata": {},
     "output_type": "execute_result"
    }
   ],
   "source": [
    "s.endswith(\"7\")"
   ]
  },
  {
   "cell_type": "code",
   "execution_count": 99,
   "id": "e8dbb847",
   "metadata": {},
   "outputs": [
    {
     "name": "stdout",
     "output_type": "stream",
     "text": [
      "True\n",
      "True\n"
     ]
    }
   ],
   "source": [
    "p=\"751117852\"\n",
    "print(p.isdigit())#true\n",
    "print(p.isnumeric())#true\n",
    "\n",
    "#sir what is difference"
   ]
  },
  {
   "cell_type": "code",
   "execution_count": 91,
   "id": "c77a9cbb",
   "metadata": {},
   "outputs": [
    {
     "data": {
      "text/plain": [
       "True"
      ]
     },
     "execution_count": 91,
     "metadata": {},
     "output_type": "execute_result"
    }
   ],
   "source": [
    "p.isalnum()"
   ]
  },
  {
   "cell_type": "code",
   "execution_count": 92,
   "id": "7876ac8f",
   "metadata": {},
   "outputs": [
    {
     "data": {
      "text/plain": [
       "True"
      ]
     },
     "execution_count": 92,
     "metadata": {},
     "output_type": "execute_result"
    }
   ],
   "source": [
    "p.isdigit()"
   ]
  },
  {
   "cell_type": "code",
   "execution_count": 93,
   "id": "508cd8fd",
   "metadata": {},
   "outputs": [
    {
     "data": {
      "text/plain": [
       "True"
      ]
     },
     "execution_count": 93,
     "metadata": {},
     "output_type": "execute_result"
    }
   ],
   "source": [
    "p.isnumeric()"
   ]
  },
  {
   "cell_type": "code",
   "execution_count": 100,
   "id": "14615848",
   "metadata": {},
   "outputs": [],
   "source": [
    "s=\"pooja\""
   ]
  },
  {
   "cell_type": "code",
   "execution_count": 101,
   "id": "027689c8",
   "metadata": {},
   "outputs": [
    {
     "data": {
      "text/plain": [
       "<reversed at 0x14a254f03d0>"
      ]
     },
     "execution_count": 101,
     "metadata": {},
     "output_type": "execute_result"
    }
   ],
   "source": [
    "reversed(s)"
   ]
  },
  {
   "cell_type": "code",
   "execution_count": 106,
   "id": "cf2c3fb9",
   "metadata": {},
   "outputs": [
    {
     "data": {
      "text/plain": [
       "'a@j@o@o@p'"
      ]
     },
     "execution_count": 106,
     "metadata": {},
     "output_type": "execute_result"
    }
   ],
   "source": [
    "\"@\".join(reversed(s))"
   ]
  },
  {
   "cell_type": "code",
   "execution_count": 107,
   "id": "779d18ed",
   "metadata": {},
   "outputs": [],
   "source": [
    "p=\"pooja\\t852\\tgfff\""
   ]
  },
  {
   "cell_type": "code",
   "execution_count": 108,
   "id": "a51f21a2",
   "metadata": {},
   "outputs": [
    {
     "data": {
      "text/plain": [
       "'pooja   852     gfff'"
      ]
     },
     "execution_count": 108,
     "metadata": {},
     "output_type": "execute_result"
    }
   ],
   "source": [
    "p.expandtabs()"
   ]
  },
  {
   "cell_type": "markdown",
   "id": "7be1420c",
   "metadata": {},
   "source": [
    "s = \"this is My First Python programming class and i am learNING python string and its function\"\n",
    "1 . Try to extract data from index one to index 300 with a jump of 3 \n",
    "print\n",
    "2. Try to reverse a string without using reverse function \n",
    "3. Try to split a string after conversion of entire string in uppercase \n",
    "4. try to convert the whole string into lower case \n",
    "5 . Try to capitalize the whole string \n",
    "6 . Write a diference between isalnum() and isalpha()\n",
    "7. Try to give an example of expand tab\n",
    "8 . Give an example of strip , lstrip and rstrip \n",
    "9.  Replace a string charecter by another charector by taking your own example \n",
    "\"sudhanshu\"\n",
    "10 . Try  to give a defination of string center function with and exmple \n",
    "11 . Write your own definition of compiler and interpretor without copy paste form internet in your own language\n",
    "12 . Python is a interpreted of compiled language give a clear ans with your understanding \n",
    "13 . Try to write a usecase of python with your understanding "
   ]
  },
  {
   "cell_type": "code",
   "execution_count": 113,
   "id": "6d919efb",
   "metadata": {},
   "outputs": [
    {
     "data": {
      "text/plain": [
       "False"
      ]
     },
     "execution_count": 113,
     "metadata": {},
     "output_type": "execute_result"
    }
   ],
   "source": [
    "s='/pooja'\n",
    "s.isspace()"
   ]
  },
  {
   "cell_type": "code",
   "execution_count": 131,
   "id": "e9d7667d",
   "metadata": {},
   "outputs": [
    {
     "data": {
      "text/plain": [
       "True"
      ]
     },
     "execution_count": 131,
     "metadata": {},
     "output_type": "execute_result"
    }
   ],
   "source": [
    "#Mr.Deepak's answer\n",
    "# s='/pooja'\n",
    "# s.isspace()#false coz no space\n",
    "s='\\15'\n",
    "s.isspace() # True ---sir \"\\13\" is ascii code of carriage return so is it nthng one space"
   ]
  },
  {
   "cell_type": "code",
   "execution_count": null,
   "id": "ea50b36f",
   "metadata": {},
   "outputs": [],
   "source": []
  }
 ],
 "metadata": {
  "kernelspec": {
   "display_name": "Python 3 (ipykernel)",
   "language": "python",
   "name": "python3"
  },
  "language_info": {
   "codemirror_mode": {
    "name": "ipython",
    "version": 3
   },
   "file_extension": ".py",
   "mimetype": "text/x-python",
   "name": "python",
   "nbconvert_exporter": "python",
   "pygments_lexer": "ipython3",
   "version": "3.9.7"
  }
 },
 "nbformat": 4,
 "nbformat_minor": 5
}
