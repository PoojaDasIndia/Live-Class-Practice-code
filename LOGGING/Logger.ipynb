{
 "cells": [
  {
   "cell_type": "code",
   "execution_count": 1,
   "id": "3ae00748",
   "metadata": {},
   "outputs": [
    {
     "name": "stdout",
     "output_type": "stream",
     "text": [
      "Requirement already satisfied: loguru in c:\\programdata\\anaconda3\\lib\\site-packages (0.6.0)\n",
      "Requirement already satisfied: colorama>=0.3.4 in c:\\programdata\\anaconda3\\lib\\site-packages (from loguru) (0.4.4)\n",
      "Requirement already satisfied: win32-setctime>=1.0.0 in c:\\programdata\\anaconda3\\lib\\site-packages (from loguru) (1.1.0)\n",
      "Note: you may need to restart the kernel to use updated packages.\n"
     ]
    }
   ],
   "source": [
    "pip install loguru"
   ]
  },
  {
   "cell_type": "code",
   "execution_count": 2,
   "id": "cfd837a9",
   "metadata": {},
   "outputs": [],
   "source": [
    "from loguru import logger"
   ]
  },
  {
   "cell_type": "code",
   "execution_count": 3,
   "id": "fe738d4a",
   "metadata": {},
   "outputs": [
    {
     "name": "stderr",
     "output_type": "stream",
     "text": [
      "2022-05-27 22:47:50.048 | DEBUG    | __main__:<module>:1 - The debug\n"
     ]
    }
   ],
   "source": [
    "logger.debug(\"The debug\")\n"
   ]
  },
  {
   "cell_type": "code",
   "execution_count": 4,
   "id": "051b3c14",
   "metadata": {},
   "outputs": [
    {
     "name": "stderr",
     "output_type": "stream",
     "text": [
      "2022-05-27 22:49:38.167 | DEBUG    | __main__:<module>:1 - The debug\n"
     ]
    },
    {
     "name": "stdout",
     "output_type": "stream",
     "text": [
      "This is print\n"
     ]
    }
   ],
   "source": [
    "logger.debug(\"The debug\")\n",
    "print(\"This is print\")"
   ]
  },
  {
   "cell_type": "code",
   "execution_count": 5,
   "id": "31f2d70d",
   "metadata": {},
   "outputs": [
    {
     "name": "stderr",
     "output_type": "stream",
     "text": [
      "2022-05-27 23:05:58.411 | DEBUG    | __main__:<module>:1 - The debug\n",
      "2022-05-27 23:05:58.414 | INFO     | __main__:<module>:2 - The info\n",
      "2022-05-27 23:05:58.416 | SUCCESS  | __main__:<module>:3 - The success\n",
      "2022-05-27 23:05:58.417 | WARNING  | __main__:<module>:4 - The warning\n",
      "2022-05-27 23:05:58.419 | ERROR    | __main__:<module>:5 - The error\n",
      "2022-05-27 23:05:58.420 | CRITICAL | __main__:<module>:6 - The critical\n"
     ]
    }
   ],
   "source": [
    "logger.debug(\"The debug\")\n",
    "logger.info(\"The info\")\n",
    "logger.success(\"The success\")\n",
    "logger.warning(\"The warning\")\n",
    "logger.error(\"The error\")\n",
    "logger.critical(\"The critical\")"
   ]
  },
  {
   "cell_type": "code",
   "execution_count": 12,
   "id": "60a04ceb",
   "metadata": {},
   "outputs": [
    {
     "data": {
      "text/plain": [
       "3"
      ]
     },
     "execution_count": 12,
     "metadata": {},
     "output_type": "execute_result"
    }
   ],
   "source": [
    "logger.add(\"File_{time}.log\",level=\"TRACE\",rotation=\"100 MB\")"
   ]
  },
  {
   "cell_type": "code",
   "execution_count": 13,
   "id": "7074e0d8",
   "metadata": {},
   "outputs": [
    {
     "name": "stderr",
     "output_type": "stream",
     "text": [
      "2022-05-27 23:10:39.654 | DEBUG    | __main__:<module>:1 - The debug\n",
      "2022-05-27 23:10:39.658 | INFO     | __main__:<module>:2 - The info\n",
      "2022-05-27 23:10:39.738 | SUCCESS  | __main__:<module>:3 - The success\n",
      "2022-05-27 23:10:39.740 | WARNING  | __main__:<module>:4 - The warning\n",
      "2022-05-27 23:10:39.743 | ERROR    | __main__:<module>:5 - The error\n",
      "2022-05-27 23:10:39.746 | CRITICAL | __main__:<module>:6 - The critical\n"
     ]
    }
   ],
   "source": [
    "logger.debug(\"The debug\")\n",
    "logger.info(\"The info\")\n",
    "logger.success(\"The success\")\n",
    "logger.warning(\"The warning\")\n",
    "logger.error(\"The error\")\n",
    "logger.critical(\"The critical\")"
   ]
  },
  {
   "cell_type": "code",
   "execution_count": 14,
   "id": "f140d3b2",
   "metadata": {},
   "outputs": [
    {
     "ename": "ZeroDivisionError",
     "evalue": "division by zero",
     "output_type": "error",
     "traceback": [
      "\u001b[1;31m---------------------------------------------------------------------------\u001b[0m",
      "\u001b[1;31mZeroDivisionError\u001b[0m                         Traceback (most recent call last)",
      "\u001b[1;32m~\\AppData\\Local\\Temp/ipykernel_6460/3768240801.py\u001b[0m in \u001b[0;36m<module>\u001b[1;34m\u001b[0m\n\u001b[0;32m      3\u001b[0m \u001b[1;33m\u001b[0m\u001b[0m\n\u001b[0;32m      4\u001b[0m \u001b[0mdev_by_zero\u001b[0m\u001b[1;33m(\u001b[0m\u001b[1;36m100\u001b[0m\u001b[1;33m)\u001b[0m\u001b[1;33m\u001b[0m\u001b[1;33m\u001b[0m\u001b[0m\n\u001b[1;32m----> 5\u001b[1;33m \u001b[0mdev_by_zero\u001b[0m\u001b[1;33m(\u001b[0m\u001b[1;36m0\u001b[0m\u001b[1;33m)\u001b[0m\u001b[1;33m\u001b[0m\u001b[1;33m\u001b[0m\u001b[0m\n\u001b[0m\u001b[0;32m      6\u001b[0m \u001b[1;33m\u001b[0m\u001b[0m\n",
      "\u001b[1;32m~\\AppData\\Local\\Temp/ipykernel_6460/3768240801.py\u001b[0m in \u001b[0;36mdev_by_zero\u001b[1;34m(num)\u001b[0m\n\u001b[0;32m      1\u001b[0m \u001b[1;32mdef\u001b[0m \u001b[0mdev_by_zero\u001b[0m\u001b[1;33m(\u001b[0m\u001b[0mnum\u001b[0m\u001b[1;33m)\u001b[0m\u001b[1;33m:\u001b[0m\u001b[1;33m\u001b[0m\u001b[1;33m\u001b[0m\u001b[0m\n\u001b[1;32m----> 2\u001b[1;33m     \u001b[1;32mreturn\u001b[0m \u001b[1;36m100\u001b[0m\u001b[1;33m/\u001b[0m\u001b[0mnum\u001b[0m\u001b[1;33m\u001b[0m\u001b[1;33m\u001b[0m\u001b[0m\n\u001b[0m\u001b[0;32m      3\u001b[0m \u001b[1;33m\u001b[0m\u001b[0m\n\u001b[0;32m      4\u001b[0m \u001b[0mdev_by_zero\u001b[0m\u001b[1;33m(\u001b[0m\u001b[1;36m100\u001b[0m\u001b[1;33m)\u001b[0m\u001b[1;33m\u001b[0m\u001b[1;33m\u001b[0m\u001b[0m\n\u001b[0;32m      5\u001b[0m \u001b[0mdev_by_zero\u001b[0m\u001b[1;33m(\u001b[0m\u001b[1;36m0\u001b[0m\u001b[1;33m)\u001b[0m\u001b[1;33m\u001b[0m\u001b[1;33m\u001b[0m\u001b[0m\n",
      "\u001b[1;31mZeroDivisionError\u001b[0m: division by zero"
     ]
    }
   ],
   "source": [
    "def dev_by_zero(num):\n",
    "    return 100/num\n",
    "\n",
    "dev_by_zero(100)\n",
    "dev_by_zero(0)\n",
    "    "
   ]
  },
  {
   "cell_type": "code",
   "execution_count": 16,
   "id": "c14a47e8",
   "metadata": {},
   "outputs": [
    {
     "name": "stderr",
     "output_type": "stream",
     "text": [
      "2022-05-27 23:14:31.664 | ERROR    | __main__:<module>:7 - An error has been caught in function '<module>', process 'MainProcess' (6460), thread 'MainThread' (8204):\n",
      "Traceback (most recent call last):\n",
      "\n",
      "  File \"C:\\ProgramData\\Anaconda3\\lib\\runpy.py\", line 197, in _run_module_as_main\n",
      "    return _run_code(code, main_globals, None,\n",
      "           │         │     └ {'__name__': '__main__', '__doc__': 'Entry point for launching an IPython kernel.\\n\\nThis is separate from the ipykernel pack...\n",
      "           │         └ <code object <module> at 0x0000020A8FC18C90, file \"C:\\ProgramData\\Anaconda3\\lib\\site-packages\\ipykernel_launcher.py\", line 1>\n",
      "           └ <function _run_code at 0x0000020A8FF099D0>\n",
      "\n",
      "  File \"C:\\ProgramData\\Anaconda3\\lib\\runpy.py\", line 87, in _run_code\n",
      "    exec(code, run_globals)\n",
      "         │     └ {'__name__': '__main__', '__doc__': 'Entry point for launching an IPython kernel.\\n\\nThis is separate from the ipykernel pack...\n",
      "         └ <code object <module> at 0x0000020A8FC18C90, file \"C:\\ProgramData\\Anaconda3\\lib\\site-packages\\ipykernel_launcher.py\", line 1>\n",
      "\n",
      "  File \"C:\\ProgramData\\Anaconda3\\lib\\site-packages\\ipykernel_launcher.py\", line 16, in <module>\n",
      "    app.launch_new_instance()\n",
      "    │   └ <bound method Application.launch_instance of <class 'ipykernel.kernelapp.IPKernelApp'>>\n",
      "    └ <module 'ipykernel.kernelapp' from 'C:\\\\ProgramData\\\\Anaconda3\\\\lib\\\\site-packages\\\\ipykernel\\\\kernelapp.py'>\n",
      "\n",
      "  File \"C:\\ProgramData\\Anaconda3\\lib\\site-packages\\traitlets\\config\\application.py\", line 846, in launch_instance\n",
      "    app.start()\n",
      "    │   └ <function IPKernelApp.start at 0x0000020A94242DC0>\n",
      "    └ <ipykernel.kernelapp.IPKernelApp object at 0x0000020A8FB990A0>\n",
      "\n",
      "  File \"C:\\ProgramData\\Anaconda3\\lib\\site-packages\\ipykernel\\kernelapp.py\", line 677, in start\n",
      "    self.io_loop.start()\n",
      "    │    │       └ <function BaseAsyncIOLoop.start at 0x0000020A92487C10>\n",
      "    │    └ <tornado.platform.asyncio.AsyncIOMainLoop object at 0x0000020A9424F850>\n",
      "    └ <ipykernel.kernelapp.IPKernelApp object at 0x0000020A8FB990A0>\n",
      "\n",
      "  File \"C:\\ProgramData\\Anaconda3\\lib\\site-packages\\tornado\\platform\\asyncio.py\", line 199, in start\n",
      "    self.asyncio_loop.run_forever()\n",
      "    │    │            └ <function BaseEventLoop.run_forever at 0x0000020A91E52160>\n",
      "    │    └ <_WindowsSelectorEventLoop running=True closed=False debug=False>\n",
      "    └ <tornado.platform.asyncio.AsyncIOMainLoop object at 0x0000020A9424F850>\n",
      "\n",
      "  File \"C:\\ProgramData\\Anaconda3\\lib\\asyncio\\base_events.py\", line 596, in run_forever\n",
      "    self._run_once()\n",
      "    │    └ <function BaseEventLoop._run_once at 0x0000020A91E53CA0>\n",
      "    └ <_WindowsSelectorEventLoop running=True closed=False debug=False>\n",
      "\n",
      "  File \"C:\\ProgramData\\Anaconda3\\lib\\asyncio\\base_events.py\", line 1890, in _run_once\n",
      "    handle._run()\n",
      "    │      └ <function Handle._run at 0x0000020A91DE4940>\n",
      "    └ <Handle <TaskWakeupMethWrapper object at 0x0000020A943CADC0>(<Future finis...460>, ...],))>)>\n",
      "\n",
      "  File \"C:\\ProgramData\\Anaconda3\\lib\\asyncio\\events.py\", line 80, in _run\n",
      "    self._context.run(self._callback, *self._args)\n",
      "    │    │            │    │           │    └ <member '_args' of 'Handle' objects>\n",
      "    │    │            │    │           └ <Handle <TaskWakeupMethWrapper object at 0x0000020A943CADC0>(<Future finis...460>, ...],))>)>\n",
      "    │    │            │    └ <member '_callback' of 'Handle' objects>\n",
      "    │    │            └ <Handle <TaskWakeupMethWrapper object at 0x0000020A943CADC0>(<Future finis...460>, ...],))>)>\n",
      "    │    └ <member '_context' of 'Handle' objects>\n",
      "    └ <Handle <TaskWakeupMethWrapper object at 0x0000020A943CADC0>(<Future finis...460>, ...],))>)>\n",
      "\n",
      "  File \"C:\\ProgramData\\Anaconda3\\lib\\site-packages\\ipykernel\\kernelbase.py\", line 457, in dispatch_queue\n",
      "    await self.process_one()\n",
      "          │    └ <function Kernel.process_one at 0x0000020A93B021F0>\n",
      "          └ <ipykernel.ipkernel.IPythonKernel object at 0x0000020A9426BAC0>\n",
      "\n",
      "  File \"C:\\ProgramData\\Anaconda3\\lib\\site-packages\\ipykernel\\kernelbase.py\", line 446, in process_one\n",
      "    await dispatch(*args)\n",
      "          │         └ ([<zmq.sugar.frame.Frame object at 0x0000020A94264EB0>, <zmq.sugar.frame.Frame object at 0x0000020A94264A90>, <zmq.sugar.fram...\n",
      "          └ <bound method Kernel.dispatch_shell of <ipykernel.ipkernel.IPythonKernel object at 0x0000020A9426BAC0>>\n",
      "\n",
      "  File \"C:\\ProgramData\\Anaconda3\\lib\\site-packages\\ipykernel\\kernelbase.py\", line 353, in dispatch_shell\n",
      "    await result\n",
      "          └ <coroutine object Kernel.execute_request at 0x0000020A94299D40>\n",
      "\n",
      "  File \"C:\\ProgramData\\Anaconda3\\lib\\site-packages\\ipykernel\\kernelbase.py\", line 648, in execute_request\n",
      "    reply_content = await reply_content\n",
      "                          └ <coroutine object IPythonKernel.do_execute at 0x0000020A94299AC0>\n",
      "\n",
      "  File \"C:\\ProgramData\\Anaconda3\\lib\\site-packages\\ipykernel\\ipkernel.py\", line 353, in do_execute\n",
      "    res = shell.run_cell(code, store_history=store_history, silent=silent)\n",
      "          │     │        │                   │                     └ False\n",
      "          │     │        │                   └ True\n",
      "          │     │        └ '@logger.catch\\n\\ndef dev_by_zero(num):\\n    return 100/num\\n\\ndev_by_zero(100)\\ndev_by_zero(0)'\n",
      "          │     └ <function ZMQInteractiveShell.run_cell at 0x0000020A93B2A790>\n",
      "          └ <ipykernel.zmqshell.ZMQInteractiveShell object at 0x0000020A94285190>\n",
      "\n",
      "  File \"C:\\ProgramData\\Anaconda3\\lib\\site-packages\\ipykernel\\zmqshell.py\", line 533, in run_cell\n",
      "    return super(ZMQInteractiveShell, self).run_cell(*args, **kwargs)\n",
      "                 │                    │               │       └ {'store_history': True, 'silent': False}\n",
      "                 │                    │               └ ('@logger.catch\\n\\ndef dev_by_zero(num):\\n    return 100/num\\n\\ndev_by_zero(100)\\ndev_by_zero(0)',)\n",
      "                 │                    └ <ipykernel.zmqshell.ZMQInteractiveShell object at 0x0000020A94285190>\n",
      "                 └ <class 'ipykernel.zmqshell.ZMQInteractiveShell'>\n",
      "\n",
      "  File \"C:\\ProgramData\\Anaconda3\\lib\\site-packages\\IPython\\core\\interactiveshell.py\", line 2901, in run_cell\n",
      "    result = self._run_cell(\n",
      "             │    └ <function InteractiveShell._run_cell at 0x0000020A92820820>\n",
      "             └ <ipykernel.zmqshell.ZMQInteractiveShell object at 0x0000020A94285190>\n",
      "\n",
      "  File \"C:\\ProgramData\\Anaconda3\\lib\\site-packages\\IPython\\core\\interactiveshell.py\", line 2947, in _run_cell\n",
      "    return runner(coro)\n",
      "           │      └ <coroutine object InteractiveShell.run_cell_async at 0x0000020A942998C0>\n",
      "           └ <function _pseudo_sync_runner at 0x0000020A92807E50>\n",
      "\n",
      "  File \"C:\\ProgramData\\Anaconda3\\lib\\site-packages\\IPython\\core\\async_helpers.py\", line 68, in _pseudo_sync_runner\n",
      "    coro.send(None)\n",
      "    │    └ <method 'send' of 'coroutine' objects>\n",
      "    └ <coroutine object InteractiveShell.run_cell_async at 0x0000020A942998C0>\n",
      "\n",
      "  File \"C:\\ProgramData\\Anaconda3\\lib\\site-packages\\IPython\\core\\interactiveshell.py\", line 3172, in run_cell_async\n",
      "    has_raised = await self.run_ast_nodes(code_ast.body, cell_name,\n",
      "                       │    │             │        │     └ 'C:\\\\Users\\\\HP\\\\AppData\\\\Local\\\\Temp/ipykernel_6460/2181402084.py'\n",
      "                       │    │             │        └ [<ast.FunctionDef object at 0x0000020A971DFEE0>, <ast.Expr object at 0x0000020A971DF550>, <ast.Expr object at 0x0000020A971DF...\n",
      "                       │    │             └ <ast.Module object at 0x0000020A971DF640>\n",
      "                       │    └ <function InteractiveShell.run_ast_nodes at 0x0000020A92820AF0>\n",
      "                       └ <ipykernel.zmqshell.ZMQInteractiveShell object at 0x0000020A94285190>\n",
      "\n",
      "  File \"C:\\ProgramData\\Anaconda3\\lib\\site-packages\\IPython\\core\\interactiveshell.py\", line 3364, in run_ast_nodes\n",
      "    if (await self.run_code(code, result,  async_=asy)):\n",
      "              │    │        │     │               └ False\n",
      "              │    │        │     └ <ExecutionResult object at 20a971df100, execution_count=16 error_before_exec=None error_in_exec=None info=<ExecutionInfo obje...\n",
      "              │    │        └ <code object <module> at 0x0000020A96564BE0, file \"C:\\Users\\HP\\AppData\\Local\\Temp/ipykernel_6460/2181402084.py\", line 7>\n",
      "              │    └ <function InteractiveShell.run_code at 0x0000020A92820C10>\n",
      "              └ <ipykernel.zmqshell.ZMQInteractiveShell object at 0x0000020A94285190>\n",
      "\n",
      "  File \"C:\\ProgramData\\Anaconda3\\lib\\site-packages\\IPython\\core\\interactiveshell.py\", line 3444, in run_code\n",
      "    exec(code_obj, self.user_global_ns, self.user_ns)\n",
      "         │         │    │               │    └ {'__name__': '__main__', '__doc__': 'Automatically created module for IPython interactive environment', '__package__': None, ...\n",
      "         │         │    │               └ <ipykernel.zmqshell.ZMQInteractiveShell object at 0x0000020A94285190>\n",
      "         │         │    └ <property object at 0x0000020A9280CF90>\n",
      "         │         └ <ipykernel.zmqshell.ZMQInteractiveShell object at 0x0000020A94285190>\n",
      "         └ <code object <module> at 0x0000020A96564BE0, file \"C:\\Users\\HP\\AppData\\Local\\Temp/ipykernel_6460/2181402084.py\", line 7>\n",
      "\n",
      "> File \"C:\\Users\\HP\\AppData\\Local\\Temp/ipykernel_6460/2181402084.py\", line 7, in <module>\n",
      "    dev_by_zero(0)\n",
      "    └ <function dev_by_zero at 0x0000020A9663A430>\n",
      "\n",
      "  File \"C:\\Users\\HP\\AppData\\Local\\Temp/ipykernel_6460/2181402084.py\", line 4, in dev_by_zero\n",
      "    return 100/num\n",
      "               └ 0\n",
      "\n",
      "ZeroDivisionError: division by zero\n"
     ]
    }
   ],
   "source": [
    "@logger.catch\n",
    "\n",
    "def dev_by_zero(num):\n",
    "    return 100/num\n",
    "\n",
    "dev_by_zero(100)\n",
    "dev_by_zero(0)"
   ]
  },
  {
   "cell_type": "code",
   "execution_count": 17,
   "id": "cffb3c88",
   "metadata": {},
   "outputs": [],
   "source": [
    "from logging import * "
   ]
  },
  {
   "cell_type": "code",
   "execution_count": 19,
   "id": "b6c42099",
   "metadata": {},
   "outputs": [],
   "source": [
    "info(\"hii\")"
   ]
  },
  {
   "cell_type": "code",
   "execution_count": 20,
   "id": "6dfaac2c",
   "metadata": {},
   "outputs": [
    {
     "ename": "NameError",
     "evalue": "name 'level' is not defined",
     "output_type": "error",
     "traceback": [
      "\u001b[1;31m---------------------------------------------------------------------------\u001b[0m",
      "\u001b[1;31mNameError\u001b[0m                                 Traceback (most recent call last)",
      "\u001b[1;32m~\\AppData\\Local\\Temp/ipykernel_6460/3418864965.py\u001b[0m in \u001b[0;36m<module>\u001b[1;34m\u001b[0m\n\u001b[1;32m----> 1\u001b[1;33m \u001b[0mprint\u001b[0m\u001b[1;33m(\u001b[0m\u001b[0mlevel\u001b[0m\u001b[1;33m)\u001b[0m\u001b[1;33m\u001b[0m\u001b[1;33m\u001b[0m\u001b[0m\n\u001b[0m",
      "\u001b[1;31mNameError\u001b[0m: name 'level' is not defined"
     ]
    }
   ],
   "source": [
    "print(level)"
   ]
  },
  {
   "cell_type": "code",
   "execution_count": null,
   "id": "603bc0a3",
   "metadata": {},
   "outputs": [],
   "source": []
  }
 ],
 "metadata": {
  "kernelspec": {
   "display_name": "Python 3 (ipykernel)",
   "language": "python",
   "name": "python3"
  },
  "language_info": {
   "codemirror_mode": {
    "name": "ipython",
    "version": 3
   },
   "file_extension": ".py",
   "mimetype": "text/x-python",
   "name": "python",
   "nbconvert_exporter": "python",
   "pygments_lexer": "ipython3",
   "version": "3.9.7"
  }
 },
 "nbformat": 4,
 "nbformat_minor": 5
}
