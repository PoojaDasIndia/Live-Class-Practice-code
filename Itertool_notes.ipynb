{
 "cells": [
  {
   "cell_type": "code",
   "execution_count": 1,
   "id": "11495cc0",
   "metadata": {},
   "outputs": [],
   "source": [
    "number=[4,8,6,3,2,7,89,15,7,83,56]"
   ]
  },
  {
   "cell_type": "code",
   "execution_count": 2,
   "id": "53113193",
   "metadata": {},
   "outputs": [],
   "source": [
    "import itertools"
   ]
  },
  {
   "cell_type": "code",
   "execution_count": 3,
   "id": "0a35ffe5",
   "metadata": {},
   "outputs": [
    {
     "name": "stdout",
     "output_type": "stream",
     "text": [
      "['__doc__', '__loader__', '__name__', '__package__', '__spec__', '_grouper', '_tee', '_tee_dataobject', 'accumulate', 'chain', 'combinations', 'combinations_with_replacement', 'compress', 'count', 'cycle', 'dropwhile', 'filterfalse', 'groupby', 'islice', 'permutations', 'product', 'repeat', 'starmap', 'takewhile', 'tee', 'zip_longest']\n"
     ]
    }
   ],
   "source": [
    "print(dir(itertools))"
   ]
  },
  {
   "cell_type": "code",
   "execution_count": 5,
   "id": "de30c1a1",
   "metadata": {},
   "outputs": [
    {
     "name": "stdout",
     "output_type": "stream",
     "text": [
      "4 12 18 21 23 30 119 134 141 224 280 "
     ]
    }
   ],
   "source": [
    "for i in itertools.accumulate(number): #adding each digit\n",
    "    print(i,end=\" \")"
   ]
  },
  {
   "cell_type": "code",
   "execution_count": 7,
   "id": "1bc06993",
   "metadata": {},
   "outputs": [
    {
     "name": "stdout",
     "output_type": "stream",
     "text": [
      "10 12 14 16 18 20 22 24 26 28 "
     ]
    }
   ],
   "source": [
    "for i in itertools.count(10,2):\n",
    "    if i ==30:\n",
    "        break\n",
    "    else:\n",
    "        print(i,end=\" \")"
   ]
  },
  {
   "cell_type": "code",
   "execution_count": 9,
   "id": "41fa0790",
   "metadata": {},
   "outputs": [],
   "source": [
    "from itertools import *"
   ]
  },
  {
   "cell_type": "code",
   "execution_count": 12,
   "id": "16faf42d",
   "metadata": {},
   "outputs": [
    {
     "name": "stdout",
     "output_type": "stream",
     "text": [
      "Help on class cycle in module itertools:\n",
      "\n",
      "class cycle(builtins.object)\n",
      " |  cycle(iterable, /)\n",
      " |  \n",
      " |  Return elements from the iterable until it is exhausted. Then repeat the sequence indefinitely.\n",
      " |  \n",
      " |  Methods defined here:\n",
      " |  \n",
      " |  __getattribute__(self, name, /)\n",
      " |      Return getattr(self, name).\n",
      " |  \n",
      " |  __iter__(self, /)\n",
      " |      Implement iter(self).\n",
      " |  \n",
      " |  __next__(self, /)\n",
      " |      Implement next(self).\n",
      " |  \n",
      " |  __reduce__(...)\n",
      " |      Return state information for pickling.\n",
      " |  \n",
      " |  __setstate__(...)\n",
      " |      Set state information for unpickling.\n",
      " |  \n",
      " |  ----------------------------------------------------------------------\n",
      " |  Static methods defined here:\n",
      " |  \n",
      " |  __new__(*args, **kwargs) from builtins.type\n",
      " |      Create and return a new object.  See help(type) for accurate signature.\n",
      "\n"
     ]
    }
   ],
   "source": [
    "help(cycle)"
   ]
  },
  {
   "cell_type": "code",
   "execution_count": 18,
   "id": "9fc8643d",
   "metadata": {},
   "outputs": [
    {
     "name": "stdout",
     "output_type": "stream",
     "text": [
      "p o o j a p o o j a p o o j a "
     ]
    }
   ],
   "source": [
    "j=0\n",
    "for i in cycle (\"pooja\"):\n",
    "    if j>=15:\n",
    "        break\n",
    "    else:\n",
    "        print(i,end=\" \")\n",
    "        j+=1"
   ]
  },
  {
   "cell_type": "code",
   "execution_count": 19,
   "id": "7571121c",
   "metadata": {},
   "outputs": [
    {
     "name": "stdout",
     "output_type": "stream",
     "text": [
      "['pooja', 'pooja', 'pooja', 'pooja', 'pooja']\n"
     ]
    }
   ],
   "source": [
    "print(list(repeat(\"pooja\",5)))"
   ]
  },
  {
   "cell_type": "code",
   "execution_count": 21,
   "id": "58577786",
   "metadata": {},
   "outputs": [
    {
     "name": "stdout",
     "output_type": "stream",
     "text": [
      "repeat('pooja', 5)\n"
     ]
    }
   ],
   "source": [
    "print(repeat(\"pooja\",5))"
   ]
  },
  {
   "cell_type": "markdown",
   "id": "569e7b04",
   "metadata": {},
   "source": [
    "### Combinatoric Iterators:"
   ]
  },
  {
   "cell_type": "code",
   "execution_count": 22,
   "id": "f69484d5",
   "metadata": {},
   "outputs": [
    {
     "name": "stdout",
     "output_type": "stream",
     "text": [
      "The cartesain product: \n",
      "[('A', 1), ('A', 2), ('A', 3), ('B', 1), ('B', 2), ('B', 3), ('C', 1), ('C', 2), ('C', 3)]\n"
     ]
    }
   ],
   "source": [
    "print(\"The cartesain product: \")\n",
    "print(list(product(\"ABC\",[1,2,3])))"
   ]
  },
  {
   "cell_type": "code",
   "execution_count": 24,
   "id": "9865cf2d",
   "metadata": {},
   "outputs": [
    {
     "name": "stdout",
     "output_type": "stream",
     "text": [
      "[('A', 'B', 'C', 0), ('A', 'B', 'C', 1)]\n"
     ]
    }
   ],
   "source": [
    "print(list(product(\"A\",\"B\",\"C\",range(2))))"
   ]
  },
  {
   "cell_type": "code",
   "execution_count": 25,
   "id": "5640698c",
   "metadata": {},
   "outputs": [
    {
     "name": "stdout",
     "output_type": "stream",
     "text": [
      "[('A', 0), ('A', 1), ('B', 0), ('B', 1), ('C', 0), ('C', 1)]\n"
     ]
    }
   ],
   "source": [
    "print(list(product([\"A\",\"B\",\"C\"],range(2))))"
   ]
  },
  {
   "cell_type": "code",
   "execution_count": 26,
   "id": "b409ae3e",
   "metadata": {},
   "outputs": [
    {
     "data": {
      "text/plain": [
       "[4, 8, 6, 3, 2, 7, 89, 15, 7, 83, 56]"
      ]
     },
     "execution_count": 26,
     "metadata": {},
     "output_type": "execute_result"
    }
   ],
   "source": [
    "number"
   ]
  },
  {
   "cell_type": "code",
   "execution_count": 28,
   "id": "de216049",
   "metadata": {},
   "outputs": [
    {
     "name": "stdout",
     "output_type": "stream",
     "text": [
      "[(4, 'a'), (4, 'b'), (4, 'c'), (8, 'a'), (8, 'b'), (8, 'c'), (6, 'a'), (6, 'b'), (6, 'c'), (3, 'a'), (3, 'b'), (3, 'c'), (2, 'a'), (2, 'b'), (2, 'c'), (7, 'a'), (7, 'b'), (7, 'c'), (89, 'a'), (89, 'b'), (89, 'c'), (15, 'a'), (15, 'b'), (15, 'c'), (7, 'a'), (7, 'b'), (7, 'c'), (83, 'a'), (83, 'b'), (83, 'c'), (56, 'a'), (56, 'b'), (56, 'c')]\n"
     ]
    }
   ],
   "source": [
    "print(list(product(number,[\"a\",\"b\",\"c\"])))"
   ]
  },
  {
   "cell_type": "markdown",
   "id": "065e91b5",
   "metadata": {},
   "source": [
    "### Permutation"
   ]
  },
  {
   "cell_type": "code",
   "execution_count": 29,
   "id": "8aedb07d",
   "metadata": {},
   "outputs": [
    {
     "name": "stdout",
     "output_type": "stream",
     "text": [
      "[('x', 'y'), ('x', 'z'), ('y', 'x'), ('y', 'z'), ('z', 'x'), ('z', 'y')]\n"
     ]
    }
   ],
   "source": [
    "print(list(permutations(\"xyz\",2)))"
   ]
  },
  {
   "cell_type": "code",
   "execution_count": 36,
   "id": "b06b361c",
   "metadata": {},
   "outputs": [
    {
     "name": "stdout",
     "output_type": "stream",
     "text": [
      "[(1, 2, 3), (1, 3, 2), (2, 1, 3), (2, 3, 1), (3, 1, 2), (3, 2, 1)]\n"
     ]
    }
   ],
   "source": [
    "print(list(permutations(range(1,4),3)))"
   ]
  },
  {
   "cell_type": "code",
   "execution_count": 37,
   "id": "21742274",
   "metadata": {},
   "outputs": [
    {
     "name": "stdout",
     "output_type": "stream",
     "text": [
      "[]\n"
     ]
    }
   ],
   "source": [
    "print(list(permutations(range(1,4),4)))"
   ]
  },
  {
   "cell_type": "code",
   "execution_count": 38,
   "id": "dcfc0ab2",
   "metadata": {},
   "outputs": [
    {
     "name": "stdout",
     "output_type": "stream",
     "text": [
      "('A', 'B', 'C') ('A', 'C', 'B') ('B', 'A', 'C') ('B', 'C', 'A') ('C', 'A', 'B') ('C', 'B', 'A') "
     ]
    }
   ],
   "source": [
    "for i in permutations([\"A\",\"B\",\"C\"]):\n",
    "    print(i,end=\" \")"
   ]
  },
  {
   "cell_type": "markdown",
   "id": "8bb3a8bd",
   "metadata": {},
   "source": [
    "###  Combinations"
   ]
  },
  {
   "cell_type": "code",
   "execution_count": 39,
   "id": "0289df7d",
   "metadata": {},
   "outputs": [
    {
     "name": "stdout",
     "output_type": "stream",
     "text": [
      "[('A', 'B'), ('A', 'C'), ('B', 'C')]\n"
     ]
    }
   ],
   "source": [
    "print(list(combinations(\"ABC\",2)))"
   ]
  },
  {
   "cell_type": "code",
   "execution_count": 44,
   "id": "34ead889",
   "metadata": {},
   "outputs": [
    {
     "name": "stdout",
     "output_type": "stream",
     "text": [
      "[('A', 'B'), ('A', 'C'), ('B', 'A'), ('B', 'C'), ('C', 'A'), ('C', 'B')]\n"
     ]
    }
   ],
   "source": [
    "print(list(permutations(\"ABC\",2)))"
   ]
  },
  {
   "cell_type": "code",
   "execution_count": 41,
   "id": "74bdf048",
   "metadata": {},
   "outputs": [
    {
     "name": "stdout",
     "output_type": "stream",
     "text": [
      "[('A', 'A'), ('A', 'B'), ('A', 'C'), ('B', 'B'), ('B', 'C'), ('C', 'C')]\n"
     ]
    }
   ],
   "source": [
    "print(list(combinations_with_replacement(\"ABC\",2)))"
   ]
  },
  {
   "cell_type": "code",
   "execution_count": 45,
   "id": "55b6c1eb",
   "metadata": {},
   "outputs": [],
   "source": [
    "lst=[1,2,3,4,5,6]"
   ]
  },
  {
   "cell_type": "code",
   "execution_count": 50,
   "id": "6ecaffb9",
   "metadata": {},
   "outputs": [
    {
     "data": {
      "text/plain": [
       "[(1, 3, 6), (1, 4, 5), (2, 2, 6), (2, 3, 5), (2, 4, 4), (3, 3, 4)]"
      ]
     },
     "execution_count": 50,
     "metadata": {},
     "output_type": "execute_result"
    }
   ],
   "source": [
    "[i for i in list(combinations_with_replacement(lst,3)) if sum(i)==10]"
   ]
  },
  {
   "cell_type": "code",
   "execution_count": 51,
   "id": "0264f4e8",
   "metadata": {},
   "outputs": [
    {
     "data": {
      "text/plain": [
       "[(1, 3, 6), (1, 4, 5), (2, 3, 5)]"
      ]
     },
     "execution_count": 51,
     "metadata": {},
     "output_type": "execute_result"
    }
   ],
   "source": [
    "[i for i in list(combinations(lst,3)) if sum(i)==10]"
   ]
  },
  {
   "cell_type": "code",
   "execution_count": 53,
   "id": "be839e6a",
   "metadata": {},
   "outputs": [
    {
     "name": "stdout",
     "output_type": "stream",
     "text": [
      "[(1, 3, 6), (1, 4, 5), (1, 5, 4), (1, 6, 3), (2, 3, 5), (2, 5, 3), (3, 1, 6), (3, 2, 5), (3, 5, 2), (3, 6, 1), (4, 1, 5), (4, 5, 1), (5, 1, 4), (5, 2, 3), (5, 3, 2), (5, 4, 1), (6, 1, 3), (6, 3, 1)]\n"
     ]
    }
   ],
   "source": [
    "print([i for i in list(permutations(lst,3)) if sum(i)==10])"
   ]
  },
  {
   "cell_type": "code",
   "execution_count": 54,
   "id": "e7d9c96a",
   "metadata": {},
   "outputs": [],
   "source": [
    "x=[1,2,3,4,5]\n",
    "y=[\"A\",\"B\",\"C\"]"
   ]
  },
  {
   "cell_type": "code",
   "execution_count": 55,
   "id": "a03093b2",
   "metadata": {},
   "outputs": [
    {
     "name": "stdout",
     "output_type": "stream",
     "text": [
      "[(1, 'A'), (2, 'B'), (3, 'C'), (4, None), (5, None)]\n"
     ]
    }
   ],
   "source": [
    "print(list(zip_longest(x,y)))"
   ]
  },
  {
   "cell_type": "code",
   "execution_count": 56,
   "id": "ffc228c1",
   "metadata": {},
   "outputs": [
    {
     "name": "stdout",
     "output_type": "stream",
     "text": [
      "[(1, 'A'), (2, 'B'), (3, 'C')]\n"
     ]
    }
   ],
   "source": [
    "print(list(zip(x,y)))"
   ]
  },
  {
   "cell_type": "code",
   "execution_count": 57,
   "id": "25b7ab86",
   "metadata": {},
   "outputs": [
    {
     "name": "stdout",
     "output_type": "stream",
     "text": [
      "[(1, 'A'), (2, 'B'), (3, 'C'), (4, 'N/A'), (5, 'N/A')]\n"
     ]
    }
   ],
   "source": [
    "print(list(zip_longest(x,y,fillvalue=\"N/A\")))"
   ]
  },
  {
   "cell_type": "code",
   "execution_count": 58,
   "id": "b7696e49",
   "metadata": {},
   "outputs": [
    {
     "data": {
      "text/plain": [
       "[4, 8, 6, 3, 2, 7, 89, 15, 7, 83, 56]"
      ]
     },
     "execution_count": 58,
     "metadata": {},
     "output_type": "execute_result"
    }
   ],
   "source": [
    "number"
   ]
  },
  {
   "cell_type": "code",
   "execution_count": 60,
   "id": "0bd129dc",
   "metadata": {},
   "outputs": [
    {
     "name": "stdout",
     "output_type": "stream",
     "text": [
      "4\n",
      "8\n",
      "6\n",
      "3\n"
     ]
    }
   ],
   "source": [
    "part_numbr=islice(number,4)\n",
    "for i in part_numbr:\n",
    "    print(i)"
   ]
  },
  {
   "cell_type": "code",
   "execution_count": 62,
   "id": "5383ef94",
   "metadata": {},
   "outputs": [
    {
     "name": "stdout",
     "output_type": "stream",
     "text": [
      "6\n",
      "7\n"
     ]
    }
   ],
   "source": [
    "part_numbr=islice(number,2,6,3)\n",
    "for i in part_numbr:\n",
    "    print(i)"
   ]
  },
  {
   "cell_type": "code",
   "execution_count": 63,
   "id": "5ddc9fcf",
   "metadata": {},
   "outputs": [],
   "source": [
    "import operator"
   ]
  },
  {
   "cell_type": "code",
   "execution_count": 70,
   "id": "bc7065e2",
   "metadata": {},
   "outputs": [
    {
     "name": "stdout",
     "output_type": "stream",
     "text": [
      "81 25 16 "
     ]
    }
   ],
   "source": [
    "lst=[(3,4),(5,2),(2,4)]\n",
    "\n",
    "x=starmap(operator.pow,lst)\n",
    "\n",
    "for i in x:\n",
    "    print(i,end=\" \")"
   ]
  },
  {
   "cell_type": "code",
   "execution_count": null,
   "id": "787648a0",
   "metadata": {},
   "outputs": [],
   "source": []
  }
 ],
 "metadata": {
  "kernelspec": {
   "display_name": "Python 3 (ipykernel)",
   "language": "python",
   "name": "python3"
  },
  "language_info": {
   "codemirror_mode": {
    "name": "ipython",
    "version": 3
   },
   "file_extension": ".py",
   "mimetype": "text/x-python",
   "name": "python",
   "nbconvert_exporter": "python",
   "pygments_lexer": "ipython3",
   "version": "3.9.7"
  }
 },
 "nbformat": 4,
 "nbformat_minor": 5
}
