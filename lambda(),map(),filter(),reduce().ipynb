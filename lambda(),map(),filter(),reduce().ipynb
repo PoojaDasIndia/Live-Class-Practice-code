{
 "cells": [
  {
   "cell_type": "markdown",
   "id": "74c3660c",
   "metadata": {},
   "source": [
    "### lambda"
   ]
  },
  {
   "cell_type": "code",
   "execution_count": 16,
   "id": "eb22b121",
   "metadata": {},
   "outputs": [
    {
     "data": {
      "text/plain": [
       "(<function __main__.<lambda>(x)>, [2, 4, 6])"
      ]
     },
     "execution_count": 16,
     "metadata": {},
     "output_type": "execute_result"
    }
   ],
   "source": [
    "lambda x:x*x,[2,4,6]"
   ]
  },
  {
   "cell_type": "code",
   "execution_count": 17,
   "id": "c42413af",
   "metadata": {},
   "outputs": [],
   "source": [
    "y=lambda x:x*x"
   ]
  },
  {
   "cell_type": "code",
   "execution_count": 18,
   "id": "e271a7de",
   "metadata": {},
   "outputs": [
    {
     "data": {
      "text/plain": [
       "36"
      ]
     },
     "execution_count": 18,
     "metadata": {},
     "output_type": "execute_result"
    }
   ],
   "source": [
    "y(6)"
   ]
  },
  {
   "cell_type": "code",
   "execution_count": 19,
   "id": "4f426cd9",
   "metadata": {},
   "outputs": [],
   "source": [
    "even=lambda x:x%2==0"
   ]
  },
  {
   "cell_type": "code",
   "execution_count": 20,
   "id": "37c5a0a8",
   "metadata": {},
   "outputs": [
    {
     "data": {
      "text/plain": [
       "True"
      ]
     },
     "execution_count": 20,
     "metadata": {},
     "output_type": "execute_result"
    }
   ],
   "source": [
    "even(8)"
   ]
  },
  {
   "cell_type": "code",
   "execution_count": 21,
   "id": "bd3c055f",
   "metadata": {},
   "outputs": [],
   "source": [
    "def add(n,m):\n",
    "    return n+m"
   ]
  },
  {
   "cell_type": "code",
   "execution_count": 22,
   "id": "48fa4c76",
   "metadata": {},
   "outputs": [],
   "source": [
    "y=lambda n,m:n+m"
   ]
  },
  {
   "cell_type": "code",
   "execution_count": 23,
   "id": "bd1e6293",
   "metadata": {},
   "outputs": [
    {
     "data": {
      "text/plain": [
       "10"
      ]
     },
     "execution_count": 23,
     "metadata": {},
     "output_type": "execute_result"
    }
   ],
   "source": [
    "y(4,6)"
   ]
  },
  {
   "cell_type": "code",
   "execution_count": 24,
   "id": "5e7b29ad",
   "metadata": {},
   "outputs": [
    {
     "data": {
      "text/plain": [
       "13"
      ]
     },
     "execution_count": 24,
     "metadata": {},
     "output_type": "execute_result"
    }
   ],
   "source": [
    "add(5,8)"
   ]
  },
  {
   "cell_type": "markdown",
   "id": "25525f14",
   "metadata": {},
   "source": [
    "### map()"
   ]
  },
  {
   "cell_type": "code",
   "execution_count": 25,
   "id": "dcb191c0",
   "metadata": {},
   "outputs": [
    {
     "data": {
      "text/plain": [
       "<map at 0x26e8b3ee5e0>"
      ]
     },
     "execution_count": 25,
     "metadata": {},
     "output_type": "execute_result"
    }
   ],
   "source": [
    "map(lambda n,m:n+m,[4,6,7],[8,9,6])"
   ]
  },
  {
   "cell_type": "code",
   "execution_count": 26,
   "id": "293e7885",
   "metadata": {},
   "outputs": [
    {
     "data": {
      "text/plain": [
       "[12, 15, 13]"
      ]
     },
     "execution_count": 26,
     "metadata": {},
     "output_type": "execute_result"
    }
   ],
   "source": [
    "list(map(lambda n,m:n+m,[4,6,7],[8,9,6]))"
   ]
  },
  {
   "cell_type": "code",
   "execution_count": 27,
   "id": "b8718416",
   "metadata": {},
   "outputs": [
    {
     "data": {
      "text/plain": [
       "[12, 15, 13]"
      ]
     },
     "execution_count": 27,
     "metadata": {},
     "output_type": "execute_result"
    }
   ],
   "source": [
    "list(map(add,[4,6,7],[8,9,6]))"
   ]
  },
  {
   "cell_type": "markdown",
   "id": "3f5f339e",
   "metadata": {},
   "source": [
    "### Filter"
   ]
  },
  {
   "cell_type": "code",
   "execution_count": 28,
   "id": "0302db84",
   "metadata": {},
   "outputs": [],
   "source": [
    "import random"
   ]
  },
  {
   "cell_type": "code",
   "execution_count": 29,
   "id": "8610a709",
   "metadata": {},
   "outputs": [],
   "source": [
    "num=[random.randint(1,100) for i in range(20)]"
   ]
  },
  {
   "cell_type": "code",
   "execution_count": 30,
   "id": "663821ca",
   "metadata": {},
   "outputs": [
    {
     "data": {
      "text/plain": [
       "[24, 6, 85, 60, 79, 18, 89, 14, 67, 38, 14, 93, 35, 28, 27, 6, 43, 49, 1, 3]"
      ]
     },
     "execution_count": 30,
     "metadata": {},
     "output_type": "execute_result"
    }
   ],
   "source": [
    "num"
   ]
  },
  {
   "cell_type": "code",
   "execution_count": 31,
   "id": "4e1ffa8f",
   "metadata": {},
   "outputs": [
    {
     "data": {
      "text/plain": [
       "[85, 60, 79, 89, 67, 93]"
      ]
     },
     "execution_count": 31,
     "metadata": {},
     "output_type": "execute_result"
    }
   ],
   "source": [
    "list(filter(lambda x:x>50,num))"
   ]
  },
  {
   "cell_type": "code",
   "execution_count": 32,
   "id": "f7b8feb0",
   "metadata": {},
   "outputs": [],
   "source": [
    "mixed=[4,8,9,3,\"\",{},[],7,False,True]"
   ]
  },
  {
   "cell_type": "code",
   "execution_count": 33,
   "id": "2c8b2ac9",
   "metadata": {},
   "outputs": [
    {
     "data": {
      "text/plain": [
       "[4, 8, 9, 3, 7, True]"
      ]
     },
     "execution_count": 33,
     "metadata": {},
     "output_type": "execute_result"
    }
   ],
   "source": [
    "list(filter(None,mixed))"
   ]
  },
  {
   "cell_type": "markdown",
   "id": "b73bf620",
   "metadata": {},
   "source": [
    "## reduce()"
   ]
  },
  {
   "cell_type": "code",
   "execution_count": 34,
   "id": "6a3dd759",
   "metadata": {},
   "outputs": [],
   "source": [
    "from functools import reduce"
   ]
  },
  {
   "cell_type": "code",
   "execution_count": 35,
   "id": "08b87a84",
   "metadata": {},
   "outputs": [
    {
     "data": {
      "text/plain": [
       "26"
      ]
     },
     "execution_count": 35,
     "metadata": {},
     "output_type": "execute_result"
    }
   ],
   "source": [
    "reduce(add,[4,8,9,5])"
   ]
  },
  {
   "cell_type": "code",
   "execution_count": 36,
   "id": "c250689f",
   "metadata": {},
   "outputs": [
    {
     "data": {
      "text/plain": [
       "10"
      ]
     },
     "execution_count": 36,
     "metadata": {},
     "output_type": "execute_result"
    }
   ],
   "source": [
    "reduce(lambda x,y:x+y,[1,2,3,4])"
   ]
  },
  {
   "cell_type": "code",
   "execution_count": 37,
   "id": "9a71abda",
   "metadata": {},
   "outputs": [
    {
     "data": {
      "text/plain": [
       "4950"
      ]
     },
     "execution_count": 37,
     "metadata": {},
     "output_type": "execute_result"
    }
   ],
   "source": [
    "reduce(lambda x,y:x+y,range(100))"
   ]
  },
  {
   "cell_type": "code",
   "execution_count": 38,
   "id": "401f3c9e",
   "metadata": {},
   "outputs": [
    {
     "data": {
      "text/plain": [
       "[24, 6, 85, 60, 79, 18, 89, 14, 67, 38, 14, 93, 35, 28, 27, 6, 43, 49, 1, 3]"
      ]
     },
     "execution_count": 38,
     "metadata": {},
     "output_type": "execute_result"
    }
   ],
   "source": [
    "num"
   ]
  },
  {
   "cell_type": "code",
   "execution_count": 39,
   "id": "d7013a6d",
   "metadata": {},
   "outputs": [
    {
     "data": {
      "text/plain": [
       "[170, 120, 158, 178, 134, 186, 86, 98]"
      ]
     },
     "execution_count": 39,
     "metadata": {},
     "output_type": "execute_result"
    }
   ],
   "source": [
    "list(map(lambda x:x+x,filter(lambda x:x>40,num)))"
   ]
  },
  {
   "cell_type": "code",
   "execution_count": 40,
   "id": "7df0d597",
   "metadata": {},
   "outputs": [
    {
     "data": {
      "text/plain": [
       "[85, 60, 79, 89, 67, 93, 43, 49]"
      ]
     },
     "execution_count": 40,
     "metadata": {},
     "output_type": "execute_result"
    }
   ],
   "source": [
    "\n",
    "\n",
    "list(filter(lambda x:x>40,num))"
   ]
  },
  {
   "cell_type": "code",
   "execution_count": 41,
   "id": "a2720085",
   "metadata": {},
   "outputs": [
    {
     "data": {
      "text/plain": [
       "[154, 200, 128, 144, 158, 88, 96, 82, 198]"
      ]
     },
     "execution_count": 41,
     "metadata": {},
     "output_type": "execute_result"
    }
   ],
   "source": [
    "list(map(lambda x:x+x,[77, 100, 64, 72, 79, 44, 48, 41, 99]))"
   ]
  },
  {
   "cell_type": "code",
   "execution_count": 42,
   "id": "803dec48",
   "metadata": {},
   "outputs": [
    {
     "data": {
      "text/plain": [
       "488"
      ]
     },
     "execution_count": 42,
     "metadata": {},
     "output_type": "execute_result"
    }
   ],
   "source": [
    "reduce(lambda x,y:x+y ,map(lambda x:x+x,filter(lambda x:x>=20 and x<=50,num)))"
   ]
  },
  {
   "cell_type": "code",
   "execution_count": 47,
   "id": "958b12d8",
   "metadata": {},
   "outputs": [
    {
     "ename": "TypeError",
     "evalue": "<lambda>() takes 1 positional argument but 2 were given",
     "output_type": "error",
     "traceback": [
      "\u001b[1;31m---------------------------------------------------------------------------\u001b[0m",
      "\u001b[1;31mTypeError\u001b[0m                                 Traceback (most recent call last)",
      "\u001b[1;32m~\\AppData\\Local\\Temp/ipykernel_6544/1815839137.py\u001b[0m in \u001b[0;36m<module>\u001b[1;34m\u001b[0m\n\u001b[1;32m----> 1\u001b[1;33m \u001b[0mreduce\u001b[0m\u001b[1;33m(\u001b[0m\u001b[1;32mlambda\u001b[0m \u001b[0mx\u001b[0m\u001b[1;33m:\u001b[0m\u001b[0msum\u001b[0m\u001b[1;33m(\u001b[0m\u001b[0mx\u001b[0m\u001b[1;33m)\u001b[0m \u001b[1;33m,\u001b[0m\u001b[0mmap\u001b[0m\u001b[1;33m(\u001b[0m\u001b[1;32mlambda\u001b[0m \u001b[0mx\u001b[0m\u001b[1;33m:\u001b[0m\u001b[0mx\u001b[0m\u001b[1;33m+\u001b[0m\u001b[0mx\u001b[0m\u001b[1;33m,\u001b[0m\u001b[0mfilter\u001b[0m\u001b[1;33m(\u001b[0m\u001b[1;32mlambda\u001b[0m \u001b[0mx\u001b[0m\u001b[1;33m:\u001b[0m\u001b[0mx\u001b[0m\u001b[1;33m>\u001b[0m\u001b[1;36m40\u001b[0m\u001b[1;33m,\u001b[0m\u001b[0mnum\u001b[0m\u001b[1;33m)\u001b[0m\u001b[1;33m)\u001b[0m\u001b[1;33m)\u001b[0m\u001b[1;33m\u001b[0m\u001b[1;33m\u001b[0m\u001b[0m\n\u001b[0m",
      "\u001b[1;31mTypeError\u001b[0m: <lambda>() takes 1 positional argument but 2 were given"
     ]
    }
   ],
   "source": [
    "reduce(lambda x:sum(x) ,map(lambda x:x+x,filter(lambda x:x>40,num)))"
   ]
  },
  {
   "cell_type": "code",
   "execution_count": 44,
   "id": "ffe06cb0",
   "metadata": {
    "scrolled": true
   },
   "outputs": [
    {
     "name": "stdout",
     "output_type": "stream",
     "text": [
      "4 5\n"
     ]
    }
   ],
   "source": [
    "b,a=map(str,input().strip().split())"
   ]
  },
  {
   "cell_type": "code",
   "execution_count": 6,
   "id": "e8cab590",
   "metadata": {},
   "outputs": [
    {
     "data": {
      "text/plain": [
       "'jio'"
      ]
     },
     "execution_count": 6,
     "metadata": {},
     "output_type": "execute_result"
    }
   ],
   "source": [
    "a"
   ]
  },
  {
   "cell_type": "code",
   "execution_count": 7,
   "id": "9567b126",
   "metadata": {},
   "outputs": [
    {
     "data": {
      "text/plain": [
       "'pooja'"
      ]
     },
     "execution_count": 7,
     "metadata": {},
     "output_type": "execute_result"
    }
   ],
   "source": [
    "b"
   ]
  },
  {
   "cell_type": "code",
   "execution_count": 2,
   "id": "90459a15",
   "metadata": {},
   "outputs": [
    {
     "name": "stdout",
     "output_type": "stream",
     "text": [
      "45 8 96\n"
     ]
    }
   ],
   "source": [
    " numbers=[int(x) for x in input().strip().split()]"
   ]
  },
  {
   "cell_type": "code",
   "execution_count": 4,
   "id": "8e64392c",
   "metadata": {},
   "outputs": [
    {
     "data": {
      "text/plain": [
       "[45, 8, 96]"
      ]
     },
     "execution_count": 4,
     "metadata": {},
     "output_type": "execute_result"
    }
   ],
   "source": [
    "numbers"
   ]
  },
  {
   "cell_type": "code",
   "execution_count": 8,
   "id": "1a9b672b",
   "metadata": {},
   "outputs": [
    {
     "name": "stdout",
     "output_type": "stream",
     "text": [
      "45 56\n"
     ]
    }
   ],
   "source": [
    "a=map(float,input().split())"
   ]
  },
  {
   "cell_type": "code",
   "execution_count": 9,
   "id": "c3a1cd6b",
   "metadata": {},
   "outputs": [
    {
     "data": {
      "text/plain": [
       "<map at 0x1c1f31d0550>"
      ]
     },
     "execution_count": 9,
     "metadata": {},
     "output_type": "execute_result"
    }
   ],
   "source": [
    "a"
   ]
  },
  {
   "cell_type": "code",
   "execution_count": 10,
   "id": "f7f9c41e",
   "metadata": {},
   "outputs": [
    {
     "data": {
      "text/plain": [
       "[45.0, 56.0]"
      ]
     },
     "execution_count": 10,
     "metadata": {},
     "output_type": "execute_result"
    }
   ],
   "source": [
    "list(a)"
   ]
  },
  {
   "cell_type": "code",
   "execution_count": 12,
   "id": "a31efcf1",
   "metadata": {},
   "outputs": [
    {
     "name": "stdout",
     "output_type": "stream",
     "text": [
      "45 66\n"
     ]
    }
   ],
   "source": [
    "a=list(map(float,input().split()))"
   ]
  },
  {
   "cell_type": "code",
   "execution_count": 13,
   "id": "47aab8c9",
   "metadata": {},
   "outputs": [
    {
     "data": {
      "text/plain": [
       "[45.0, 66.0]"
      ]
     },
     "execution_count": 13,
     "metadata": {},
     "output_type": "execute_result"
    }
   ],
   "source": [
    "a"
   ]
  },
  {
   "cell_type": "code",
   "execution_count": null,
   "id": "c75e5dd8",
   "metadata": {},
   "outputs": [],
   "source": []
  }
 ],
 "metadata": {
  "kernelspec": {
   "display_name": "Python 3 (ipykernel)",
   "language": "python",
   "name": "python3"
  },
  "language_info": {
   "codemirror_mode": {
    "name": "ipython",
    "version": 3
   },
   "file_extension": ".py",
   "mimetype": "text/x-python",
   "name": "python",
   "nbconvert_exporter": "python",
   "pygments_lexer": "ipython3",
   "version": "3.9.7"
  }
 },
 "nbformat": 4,
 "nbformat_minor": 5
}
