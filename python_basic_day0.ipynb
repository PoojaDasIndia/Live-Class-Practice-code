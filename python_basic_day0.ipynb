{
 "cells": [
  {
   "cell_type": "code",
   "execution_count": 1,
   "id": "78f2a870",
   "metadata": {},
   "outputs": [
    {
     "name": "stdout",
     "output_type": "stream",
     "text": [
      "This is my fisrt python program\n"
     ]
    }
   ],
   "source": [
    "#First code using \" \" & '' for syntax print\n",
    "print(\"This is my fisrt python program\") \n",
    "\n"
   ]
  },
  {
   "cell_type": "code",
   "execution_count": 2,
   "id": "56a0df92",
   "metadata": {},
   "outputs": [
    {
     "ename": "SyntaxError",
     "evalue": "EOL while scanning string literal (Temp/ipykernel_11068/3332176165.py, line 2)",
     "output_type": "error",
     "traceback": [
      "\u001b[1;36m  File \u001b[1;32m\"C:\\Users\\HP\\AppData\\Local\\Temp/ipykernel_11068/3332176165.py\"\u001b[1;36m, line \u001b[1;32m2\u001b[0m\n\u001b[1;33m    print(\"This is my Fisrt python program)\u001b[0m\n\u001b[1;37m                                             ^\u001b[0m\n\u001b[1;31mSyntaxError\u001b[0m\u001b[1;31m:\u001b[0m EOL while scanning string literal\n"
     ]
    }
   ],
   "source": [
    "#Creating Error # giveing SyntaxError\n",
    "print(\"This is my Fisrt python program)  "
   ]
  },
  {
   "cell_type": "code",
   "execution_count": 3,
   "id": "72b2e6e7",
   "metadata": {
    "scrolled": true
   },
   "outputs": [
    {
     "ename": "SyntaxError",
     "evalue": "Missing parentheses in call to 'print'. Did you mean print(\"Hello World\")? (Temp/ipykernel_11068/2104545901.py, line 2)",
     "output_type": "error",
     "traceback": [
      "\u001b[1;36m  File \u001b[1;32m\"C:\\Users\\HP\\AppData\\Local\\Temp/ipykernel_11068/2104545901.py\"\u001b[1;36m, line \u001b[1;32m2\u001b[0m\n\u001b[1;33m    print \"Hello World\"\u001b[0m\n\u001b[1;37m          ^\u001b[0m\n\u001b[1;31mSyntaxError\u001b[0m\u001b[1;31m:\u001b[0m Missing parentheses in call to 'print'. Did you mean print(\"Hello World\")?\n"
     ]
    }
   ],
   "source": [
    " #print function can be print \"Hello World\" but it ok with python 2.X version not with Python 3.X\n",
    "print \"Hello World\" "
   ]
  },
  {
   "cell_type": "code",
   "execution_count": 4,
   "id": "27a16e4d",
   "metadata": {},
   "outputs": [],
   "source": [
    " # single line comment"
   ]
  },
  {
   "cell_type": "code",
   "execution_count": 5,
   "id": "3b9a9d25",
   "metadata": {},
   "outputs": [
    {
     "data": {
      "text/plain": [
       "'gdvv\\nfyh\\nbhgbnv\\n\\nMultiline comment\\n\\ncgdbvb vf\\nhtdccdvvv\\n'"
      ]
     },
     "execution_count": 5,
     "metadata": {},
     "output_type": "execute_result"
    }
   ],
   "source": [
    "\"\"\"gdvv\n",
    "fyh\n",
    "bhgbnv\n",
    "\n",
    "Multiline comment\n",
    "\n",
    "cgdbvb vf\n",
    "htdccdvvv\n",
    "\"\"\""
   ]
  },
  {
   "cell_type": "code",
   "execution_count": 6,
   "id": "5ec6beef",
   "metadata": {},
   "outputs": [],
   "source": [
    "a=10 #varibles  and varible namee is \"a\""
   ]
  },
  {
   "cell_type": "code",
   "execution_count": 7,
   "id": "15c346b7",
   "metadata": {},
   "outputs": [
    {
     "data": {
      "text/plain": [
       "10"
      ]
     },
     "execution_count": 7,
     "metadata": {},
     "output_type": "execute_result"
    }
   ],
   "source": [
    "a # calling varible"
   ]
  },
  {
   "cell_type": "code",
   "execution_count": 8,
   "id": "d4f5a108",
   "metadata": {},
   "outputs": [
    {
     "data": {
      "text/plain": [
       "int"
      ]
     },
     "execution_count": 8,
     "metadata": {},
     "output_type": "execute_result"
    }
   ],
   "source": [
    "type(a) # type() function use know datatype of the varible "
   ]
  },
  {
   "cell_type": "code",
   "execution_count": 9,
   "id": "5abc0c1d",
   "metadata": {},
   "outputs": [],
   "source": [
    "b=\"Pooja\"\n",
    "c='Das'\n"
   ]
  },
  {
   "cell_type": "code",
   "execution_count": 10,
   "id": "5814de5c",
   "metadata": {},
   "outputs": [
    {
     "data": {
      "text/plain": [
       "'Pooja'"
      ]
     },
     "execution_count": 10,
     "metadata": {},
     "output_type": "execute_result"
    }
   ],
   "source": [
    "b"
   ]
  },
  {
   "cell_type": "code",
   "execution_count": 11,
   "id": "2df25a70",
   "metadata": {},
   "outputs": [
    {
     "name": "stdout",
     "output_type": "stream",
     "text": [
      "Pooja\n",
      "Das\n"
     ]
    }
   ],
   "source": [
    "print(b)\n",
    "print(c)"
   ]
  },
  {
   "cell_type": "code",
   "execution_count": 12,
   "id": "06db6046",
   "metadata": {},
   "outputs": [
    {
     "data": {
      "text/plain": [
       "str"
      ]
     },
     "execution_count": 12,
     "metadata": {},
     "output_type": "execute_result"
    }
   ],
   "source": [
    "type(b) #string"
   ]
  },
  {
   "cell_type": "code",
   "execution_count": 13,
   "id": "6e15e14c",
   "metadata": {},
   "outputs": [
    {
     "name": "stdout",
     "output_type": "stream",
     "text": [
      "10 Pooja Das Hello\n"
     ]
    }
   ],
   "source": [
    "print(a,b,c,\"Hello\")"
   ]
  },
  {
   "cell_type": "code",
   "execution_count": 14,
   "id": "9cb232c1",
   "metadata": {},
   "outputs": [],
   "source": [
    "a=15\n",
    "b=\"Dodo\""
   ]
  },
  {
   "cell_type": "code",
   "execution_count": 15,
   "id": "3cb28aba",
   "metadata": {},
   "outputs": [],
   "source": [
    "a,b,c=41,\"Das\", 4.3  #single line varible"
   ]
  },
  {
   "cell_type": "code",
   "execution_count": 16,
   "id": "7f97bd74",
   "metadata": {},
   "outputs": [
    {
     "name": "stdout",
     "output_type": "stream",
     "text": [
      "41 Das 4.3\n"
     ]
    }
   ],
   "source": [
    "print(a,b,c)"
   ]
  },
  {
   "cell_type": "code",
   "execution_count": 17,
   "id": "134e9d13",
   "metadata": {},
   "outputs": [
    {
     "data": {
      "text/plain": [
       "int"
      ]
     },
     "execution_count": 17,
     "metadata": {},
     "output_type": "execute_result"
    }
   ],
   "source": [
    "type(a)"
   ]
  },
  {
   "cell_type": "code",
   "execution_count": 18,
   "id": "98c6be62",
   "metadata": {},
   "outputs": [
    {
     "data": {
      "text/plain": [
       "str"
      ]
     },
     "execution_count": 18,
     "metadata": {},
     "output_type": "execute_result"
    }
   ],
   "source": [
    "type(b)"
   ]
  },
  {
   "cell_type": "code",
   "execution_count": 19,
   "id": "231afd91",
   "metadata": {},
   "outputs": [
    {
     "data": {
      "text/plain": [
       "float"
      ]
     },
     "execution_count": 19,
     "metadata": {},
     "output_type": "execute_result"
    }
   ],
   "source": [
    "\n",
    "\n",
    "type(c)"
   ]
  },
  {
   "cell_type": "code",
   "execution_count": 20,
   "id": "2251091e",
   "metadata": {},
   "outputs": [
    {
     "data": {
      "text/plain": [
       "(41, 'Das', 4.3)"
      ]
     },
     "execution_count": 20,
     "metadata": {},
     "output_type": "execute_result"
    }
   ],
   "source": [
    "a,b,c # print turples which start with () symbols "
   ]
  },
  {
   "cell_type": "code",
   "execution_count": 21,
   "id": "7f2a66b4",
   "metadata": {},
   "outputs": [
    {
     "ename": "TypeError",
     "evalue": "type.__new__() argument 1 must be str, not int",
     "output_type": "error",
     "traceback": [
      "\u001b[1;31m---------------------------------------------------------------------------\u001b[0m",
      "\u001b[1;31mTypeError\u001b[0m                                 Traceback (most recent call last)",
      "\u001b[1;32m~\\AppData\\Local\\Temp/ipykernel_11068/335045458.py\u001b[0m in \u001b[0;36m<module>\u001b[1;34m\u001b[0m\n\u001b[1;32m----> 1\u001b[1;33m \u001b[0mtype\u001b[0m\u001b[1;33m(\u001b[0m\u001b[0ma\u001b[0m\u001b[1;33m,\u001b[0m\u001b[0mb\u001b[0m\u001b[1;33m,\u001b[0m\u001b[0mc\u001b[0m\u001b[1;33m)\u001b[0m\u001b[1;33m\u001b[0m\u001b[1;33m\u001b[0m\u001b[0m\n\u001b[0m",
      "\u001b[1;31mTypeError\u001b[0m: type.__new__() argument 1 must be str, not int"
     ]
    }
   ],
   "source": [
    "type(a,b,c) "
   ]
  },
  {
   "cell_type": "code",
   "execution_count": null,
   "id": "d966f881",
   "metadata": {},
   "outputs": [],
   "source": [
    "print('\"Hello World,i am testing world\"') #printing \" statement\""
   ]
  },
  {
   "cell_type": "code",
   "execution_count": null,
   "id": "661f55cb",
   "metadata": {},
   "outputs": [],
   "source": [
    "#varible name can't be start with  numeric, symbol , keyword or ya space in between name we can use underscores_\n",
    "\n",
    "2a=10 #2a=10 SyntaxError: invalid syntax\n",
    "\n"
   ]
  },
  {
   "cell_type": "code",
   "execution_count": null,
   "id": "64fd050e",
   "metadata": {},
   "outputs": [],
   "source": [
    "#a=10 # took as comment\n",
    "_b=153 #_undrscore vaid"
   ]
  },
  {
   "cell_type": "code",
   "execution_count": null,
   "id": "b0f4c26b",
   "metadata": {},
   "outputs": [],
   "source": [
    "_b"
   ]
  },
  {
   "cell_type": "code",
   "execution_count": null,
   "id": "b28f6d76",
   "metadata": {},
   "outputs": [],
   "source": [
    "testing_varible=123"
   ]
  },
  {
   "cell_type": "code",
   "execution_count": null,
   "id": "4089df31",
   "metadata": {},
   "outputs": [],
   "source": [
    "testing_varible"
   ]
  },
  {
   "cell_type": "code",
   "execution_count": null,
   "id": "105a7838",
   "metadata": {},
   "outputs": [],
   "source": [
    "Name=\"Pooja\"\n",
    "User_ID= \"N001\"\n",
    "Password=\"bjbghjj\"\n",
    "mail_Id=\"poojadas93@outlook.com\""
   ]
  },
  {
   "cell_type": "markdown",
   "id": "4a353d3e",
   "metadata": {},
   "source": [
    "<b>Class Task 1<b>"
   ]
  },
  {
   "cell_type": "code",
   "execution_count": 22,
   "id": "4ac34511",
   "metadata": {},
   "outputs": [],
   "source": [
    "#Class Task yes sir  we all knw True=1 nad Flase=0 so it adding 1+1+1+0+1=4\n",
    "a=True+ True+ True+False+True  #1+1+1+0+1=4\n",
    "b=False-True+True # 0-1+1=0"
   ]
  },
  {
   "cell_type": "code",
   "execution_count": 23,
   "id": "2a93ad6c",
   "metadata": {},
   "outputs": [],
   "source": [
    "a=True"
   ]
  },
  {
   "cell_type": "code",
   "execution_count": 24,
   "id": "ff3ac8b1",
   "metadata": {},
   "outputs": [
    {
     "data": {
      "text/plain": [
       "bool"
      ]
     },
     "execution_count": 24,
     "metadata": {},
     "output_type": "execute_result"
    }
   ],
   "source": [
    "type(a)"
   ]
  },
  {
   "cell_type": "code",
   "execution_count": 25,
   "id": "46636dba",
   "metadata": {},
   "outputs": [
    {
     "name": "stdout",
     "output_type": "stream",
     "text": [
      "True 0\n"
     ]
    }
   ],
   "source": [
    "print(a,b)"
   ]
  },
  {
   "cell_type": "code",
   "execution_count": 26,
   "id": "274fd8f8",
   "metadata": {},
   "outputs": [
    {
     "data": {
      "text/plain": [
       "-1"
      ]
     },
     "execution_count": 26,
     "metadata": {},
     "output_type": "execute_result"
    }
   ],
   "source": [
    "0-1"
   ]
  },
  {
   "cell_type": "code",
   "execution_count": 27,
   "id": "91632b33",
   "metadata": {},
   "outputs": [
    {
     "data": {
      "text/plain": [
       "0"
      ]
     },
     "execution_count": 27,
     "metadata": {},
     "output_type": "execute_result"
    }
   ],
   "source": [
    "0-1+1"
   ]
  },
  {
   "cell_type": "code",
   "execution_count": 28,
   "id": "b41cdaa1",
   "metadata": {},
   "outputs": [
    {
     "name": "stdout",
     "output_type": "stream",
     "text": [
      "2\n"
     ]
    }
   ],
   "source": [
    "print(True+True+False)"
   ]
  },
  {
   "cell_type": "code",
   "execution_count": 29,
   "id": "da767187",
   "metadata": {},
   "outputs": [
    {
     "data": {
      "text/plain": [
       "1"
      ]
     },
     "execution_count": 29,
     "metadata": {},
     "output_type": "execute_result"
    }
   ],
   "source": [
    "True*True #1*1"
   ]
  },
  {
   "cell_type": "code",
   "execution_count": 30,
   "id": "5bbff5c9",
   "metadata": {},
   "outputs": [
    {
     "ename": "ZeroDivisionError",
     "evalue": "division by zero",
     "output_type": "error",
     "traceback": [
      "\u001b[1;31m---------------------------------------------------------------------------\u001b[0m",
      "\u001b[1;31mZeroDivisionError\u001b[0m                         Traceback (most recent call last)",
      "\u001b[1;32m~\\AppData\\Local\\Temp/ipykernel_11068/4034765966.py\u001b[0m in \u001b[0;36m<module>\u001b[1;34m\u001b[0m\n\u001b[1;32m----> 1\u001b[1;33m \u001b[1;32mTrue\u001b[0m\u001b[1;33m/\u001b[0m\u001b[1;32mFalse\u001b[0m \u001b[1;31m#1/0 error coz ZeroDivisionError: division by zero we cant divde by 0\u001b[0m\u001b[1;33m\u001b[0m\u001b[1;33m\u001b[0m\u001b[0m\n\u001b[0m\u001b[0;32m      2\u001b[0m \u001b[1;33m\u001b[0m\u001b[0m\n\u001b[0;32m      3\u001b[0m \u001b[1;31m# if we used numpy package it not give error it give \"inf\"\u001b[0m\u001b[1;33m\u001b[0m\u001b[1;33m\u001b[0m\u001b[0m\n",
      "\u001b[1;31mZeroDivisionError\u001b[0m: division by zero"
     ]
    }
   ],
   "source": [
    "True/False #1/0 error coz ZeroDivisionError: division by zero we cant divde by 0\n",
    "\n",
    "# if we used numpy package it not give error it give \"inf\""
   ]
  },
  {
   "cell_type": "code",
   "execution_count": 31,
   "id": "898baf75",
   "metadata": {},
   "outputs": [
    {
     "data": {
      "text/plain": [
       "0.0"
      ]
     },
     "execution_count": 31,
     "metadata": {},
     "output_type": "execute_result"
    }
   ],
   "source": [
    "False/True #0/1"
   ]
  },
  {
   "cell_type": "code",
   "execution_count": 32,
   "id": "1d0616a6",
   "metadata": {},
   "outputs": [],
   "source": [
    "#complex number =real_number +imaginary_number\n",
    "n=45+6j   # we cant used any aplha in imaginary  we only use \"j\""
   ]
  },
  {
   "cell_type": "code",
   "execution_count": 33,
   "id": "afe0ef34",
   "metadata": {},
   "outputs": [
    {
     "data": {
      "text/plain": [
       "complex"
      ]
     },
     "execution_count": 33,
     "metadata": {},
     "output_type": "execute_result"
    }
   ],
   "source": [
    "type(n)"
   ]
  },
  {
   "cell_type": "code",
   "execution_count": 34,
   "id": "64409dcc",
   "metadata": {},
   "outputs": [
    {
     "name": "stdout",
     "output_type": "stream",
     "text": [
      "(45+6j)\n"
     ]
    }
   ],
   "source": [
    "print(n) # print complex no."
   ]
  },
  {
   "cell_type": "code",
   "execution_count": 35,
   "id": "1111ea39",
   "metadata": {},
   "outputs": [
    {
     "name": "stdout",
     "output_type": "stream",
     "text": [
      "45.0\n",
      "6.0\n"
     ]
    }
   ],
   "source": [
    "print(n.real)\n",
    "print(n.imag)"
   ]
  },
  {
   "cell_type": "code",
   "execution_count": 36,
   "id": "dc727c8c",
   "metadata": {},
   "outputs": [
    {
     "ename": "SyntaxError",
     "evalue": "invalid syntax (Temp/ipykernel_11068/1277063930.py, line 1)",
     "output_type": "error",
     "traceback": [
      "\u001b[1;36m  File \u001b[1;32m\"C:\\Users\\HP\\AppData\\Local\\Temp/ipykernel_11068/1277063930.py\"\u001b[1;36m, line \u001b[1;32m1\u001b[0m\n\u001b[1;33m    complex_no=56+74i #syntax error coz we only have to use \"j\" as it built or fun like that only\u001b[0m\n\u001b[1;37m                    ^\u001b[0m\n\u001b[1;31mSyntaxError\u001b[0m\u001b[1;31m:\u001b[0m invalid syntax\n"
     ]
    }
   ],
   "source": [
    "complex_no=56+74i #syntax error coz we only have to use \"j\" as it built or fun like that only"
   ]
  },
  {
   "cell_type": "code",
   "execution_count": 37,
   "id": "7d9ada2d",
   "metadata": {},
   "outputs": [],
   "source": [
    "n1=78+7j\n",
    "n2=95+8j"
   ]
  },
  {
   "cell_type": "code",
   "execution_count": 38,
   "id": "9a140890",
   "metadata": {},
   "outputs": [
    {
     "name": "stdout",
     "output_type": "stream",
     "text": [
      "(7354+1289j)\n",
      "(173+15j)\n"
     ]
    }
   ],
   "source": [
    "print(n1*n2)\n",
    "print(n1+n2)"
   ]
  },
  {
   "cell_type": "code",
   "execution_count": 39,
   "id": "c91cdec8",
   "metadata": {},
   "outputs": [
    {
     "data": {
      "text/plain": [
       "str"
      ]
     },
     "execution_count": 39,
     "metadata": {},
     "output_type": "execute_result"
    }
   ],
   "source": [
    "#dynamic typing  where i should not tell my compiler what data type is this it autimatically understand\n",
    "a=\"life\"\n",
    "type(a)"
   ]
  },
  {
   "cell_type": "code",
   "execution_count": 40,
   "id": "07fd09e2",
   "metadata": {},
   "outputs": [
    {
     "ename": "TypeError",
     "evalue": "unsupported operand type(s) for +: 'int' and 'str'",
     "output_type": "error",
     "traceback": [
      "\u001b[1;31m---------------------------------------------------------------------------\u001b[0m",
      "\u001b[1;31mTypeError\u001b[0m                                 Traceback (most recent call last)",
      "\u001b[1;32m~\\AppData\\Local\\Temp/ipykernel_11068/808232009.py\u001b[0m in \u001b[0;36m<module>\u001b[1;34m\u001b[0m\n\u001b[1;32m----> 1\u001b[1;33m \u001b[1;36m1\u001b[0m\u001b[1;33m+\u001b[0m\u001b[1;34m\"pooja\"\u001b[0m \u001b[1;31m#typeError we can't add int +str #hetrogenes datatype\u001b[0m\u001b[1;33m\u001b[0m\u001b[1;33m\u001b[0m\u001b[0m\n\u001b[0m",
      "\u001b[1;31mTypeError\u001b[0m: unsupported operand type(s) for +: 'int' and 'str'"
     ]
    }
   ],
   "source": [
    "1+\"pooja\" #typeError we can't add int +str #hetrogenes datatype"
   ]
  },
  {
   "cell_type": "code",
   "execution_count": 41,
   "id": "30b88821",
   "metadata": {},
   "outputs": [
    {
     "data": {
      "text/plain": [
       "'1Pooja'"
      ]
     },
     "execution_count": 41,
     "metadata": {},
     "output_type": "execute_result"
    }
   ],
   "source": [
    "str(1)+\"Pooja\" #typecaste where i convert mt integer into string by str()"
   ]
  },
  {
   "cell_type": "code",
   "execution_count": 42,
   "id": "d3b87185",
   "metadata": {},
   "outputs": [
    {
     "data": {
      "text/plain": [
       "'1Pooja'"
      ]
     },
     "execution_count": 42,
     "metadata": {},
     "output_type": "execute_result"
    }
   ],
   "source": [
    "\"1\"+ \"Pooja\" # this is all strong  typing"
   ]
  },
  {
   "cell_type": "code",
   "execution_count": 43,
   "id": "54e5bcb2",
   "metadata": {},
   "outputs": [
    {
     "data": {
      "text/plain": [
       "2.0"
      ]
     },
     "execution_count": 43,
     "metadata": {},
     "output_type": "execute_result"
    }
   ],
   "source": [
    "1+1.0 #upcasting  if it is inteeger no.s thn it perfrom Upcasting as float take more space our result will be float"
   ]
  },
  {
   "cell_type": "code",
   "execution_count": 44,
   "id": "80d3fe1c",
   "metadata": {},
   "outputs": [
    {
     "data": {
      "text/plain": [
       "'poojapoojapooja'"
      ]
     },
     "execution_count": 44,
     "metadata": {},
     "output_type": "execute_result"
    }
   ],
   "source": [
    "\"pooja\"+\"pooja\"+\"pooja\" #concatenate"
   ]
  },
  {
   "cell_type": "code",
   "execution_count": 45,
   "id": "d7846962",
   "metadata": {},
   "outputs": [
    {
     "data": {
      "text/plain": [
       "'poojapoojapooja'"
      ]
     },
     "execution_count": 45,
     "metadata": {},
     "output_type": "execute_result"
    }
   ],
   "source": [
    "\"pooja\"*3 #concatenate"
   ]
  },
  {
   "cell_type": "code",
   "execution_count": 46,
   "id": "f87aec8b",
   "metadata": {},
   "outputs": [
    {
     "data": {
      "text/plain": [
       "'pooja'"
      ]
     },
     "execution_count": 46,
     "metadata": {},
     "output_type": "execute_result"
    }
   ],
   "source": [
    "\n",
    "\n",
    "\n",
    "\n",
    "'pooja'"
   ]
  },
  {
   "cell_type": "code",
   "execution_count": 47,
   "id": "95016d71",
   "metadata": {},
   "outputs": [
    {
     "data": {
      "text/plain": [
       "123"
      ]
     },
     "execution_count": 47,
     "metadata": {},
     "output_type": "execute_result"
    }
   ],
   "source": [
    "int(\"123\")"
   ]
  },
  {
   "cell_type": "code",
   "execution_count": 48,
   "id": "350d2576",
   "metadata": {},
   "outputs": [
    {
     "ename": "ValueError",
     "evalue": "invalid literal for int() with base 10: 'pooja'",
     "output_type": "error",
     "traceback": [
      "\u001b[1;31m---------------------------------------------------------------------------\u001b[0m",
      "\u001b[1;31mValueError\u001b[0m                                Traceback (most recent call last)",
      "\u001b[1;32m~\\AppData\\Local\\Temp/ipykernel_11068/625282946.py\u001b[0m in \u001b[0;36m<module>\u001b[1;34m\u001b[0m\n\u001b[1;32m----> 1\u001b[1;33m \u001b[0mint\u001b[0m\u001b[1;33m(\u001b[0m\u001b[1;34m\"pooja\"\u001b[0m\u001b[1;33m)\u001b[0m\u001b[1;33m\u001b[0m\u001b[1;33m\u001b[0m\u001b[0m\n\u001b[0m",
      "\u001b[1;31mValueError\u001b[0m: invalid literal for int() with base 10: 'pooja'"
     ]
    }
   ],
   "source": [
    "int(\"pooja\")"
   ]
  },
  {
   "cell_type": "code",
   "execution_count": 49,
   "id": "0c45fbef",
   "metadata": {},
   "outputs": [
    {
     "data": {
      "text/plain": [
       "10"
      ]
     },
     "execution_count": 49,
     "metadata": {},
     "output_type": "execute_result"
    }
   ],
   "source": [
    "a=10\n",
    "a"
   ]
  },
  {
   "cell_type": "code",
   "execution_count": 50,
   "id": "cfea3c0a",
   "metadata": {},
   "outputs": [
    {
     "name": "stdout",
     "output_type": "stream",
     "text": [
      "Enter a interger=\n",
      "Answer is = \n"
     ]
    }
   ],
   "source": [
    "a=input(\"Enter a interger=\") # input() inbuilt fun used to tak0e input frm user\n",
    "print(\"Answer is =\",a)"
   ]
  },
  {
   "cell_type": "code",
   "execution_count": 51,
   "id": "05e56d14",
   "metadata": {},
   "outputs": [
    {
     "data": {
      "text/plain": [
       "str"
      ]
     },
     "execution_count": 51,
     "metadata": {},
     "output_type": "execute_result"
    }
   ],
   "source": [
    "type(a)"
   ]
  },
  {
   "cell_type": "markdown",
   "id": "32e261dd",
   "metadata": {},
   "source": [
    "<b>class Task 2</b>\n",
    " <h3> Q1. Take 3 Interger input from user  using input() only \n",
    "     a,b,c than we have to do 3 step  <br>\n",
    "    <b>o=(a+b)/c</b><br>\n",
    "    <b>o1=o+ complex  varible by our choice</b> <br>\n",
    "    <b> o2=o1+\"with ur name\" </b></h3>\n",
    "     "
   ]
  },
  {
   "cell_type": "code",
   "execution_count": 52,
   "id": "572745c8",
   "metadata": {},
   "outputs": [
    {
     "name": "stdout",
     "output_type": "stream",
     "text": [
      "Enter first interger a=\n"
     ]
    },
    {
     "ename": "ValueError",
     "evalue": "invalid literal for int() with base 10: ''",
     "output_type": "error",
     "traceback": [
      "\u001b[1;31m---------------------------------------------------------------------------\u001b[0m",
      "\u001b[1;31mValueError\u001b[0m                                Traceback (most recent call last)",
      "\u001b[1;32m~\\AppData\\Local\\Temp/ipykernel_11068/1136200636.py\u001b[0m in \u001b[0;36m<module>\u001b[1;34m\u001b[0m\n\u001b[1;32m----> 1\u001b[1;33m \u001b[0ma\u001b[0m\u001b[1;33m=\u001b[0m\u001b[0mint\u001b[0m\u001b[1;33m(\u001b[0m\u001b[0minput\u001b[0m\u001b[1;33m(\u001b[0m\u001b[1;34m\"Enter first interger a=\"\u001b[0m\u001b[1;33m)\u001b[0m\u001b[1;33m)\u001b[0m\u001b[1;33m\u001b[0m\u001b[1;33m\u001b[0m\u001b[0m\n\u001b[0m\u001b[0;32m      2\u001b[0m \u001b[0mb\u001b[0m\u001b[1;33m=\u001b[0m\u001b[0mint\u001b[0m\u001b[1;33m(\u001b[0m\u001b[0minput\u001b[0m\u001b[1;33m(\u001b[0m\u001b[1;34m\"Enter first interger b=\"\u001b[0m\u001b[1;33m)\u001b[0m\u001b[1;33m)\u001b[0m\u001b[1;33m\u001b[0m\u001b[1;33m\u001b[0m\u001b[0m\n\u001b[0;32m      3\u001b[0m \u001b[0mc\u001b[0m\u001b[1;33m=\u001b[0m\u001b[0mint\u001b[0m\u001b[1;33m(\u001b[0m\u001b[0minput\u001b[0m\u001b[1;33m(\u001b[0m\u001b[1;34m\"Enter first interger c=\"\u001b[0m\u001b[1;33m)\u001b[0m\u001b[1;33m)\u001b[0m\u001b[1;33m\u001b[0m\u001b[1;33m\u001b[0m\u001b[0m\n",
      "\u001b[1;31mValueError\u001b[0m: invalid literal for int() with base 10: ''"
     ]
    }
   ],
   "source": [
    "a=int(input(\"Enter first interger a=\"))\n",
    "b=int(input(\"Enter first interger b=\"))\n",
    "c=int(input(\"Enter first interger c=\"))\n"
   ]
  },
  {
   "cell_type": "code",
   "execution_count": null,
   "id": "05634450",
   "metadata": {},
   "outputs": [],
   "source": [
    "O=(a+b)/c\n",
    "print(O)"
   ]
  },
  {
   "cell_type": "code",
   "execution_count": null,
   "id": "33edae57",
   "metadata": {},
   "outputs": [],
   "source": [
    "complex_no=10+5j\n",
    "O1=O+complex_no # add 4.0+10+5j =14+5j\n",
    "print(O1)\n",
    "type(O1)"
   ]
  },
  {
   "cell_type": "code",
   "execution_count": null,
   "id": "5fcdacb3",
   "metadata": {},
   "outputs": [],
   "source": [
    "O2=str(O1)+\"Pooja Das\"\n",
    "print(O2)\n",
    "type(O2)"
   ]
  },
  {
   "cell_type": "code",
   "execution_count": 53,
   "id": "68ad409a",
   "metadata": {},
   "outputs": [
    {
     "name": "stdout",
     "output_type": "stream",
     "text": [
      "Input a number lesser  then 34 =\n"
     ]
    },
    {
     "ename": "ValueError",
     "evalue": "invalid literal for int() with base 10: ''",
     "output_type": "error",
     "traceback": [
      "\u001b[1;31m---------------------------------------------------------------------------\u001b[0m",
      "\u001b[1;31mValueError\u001b[0m                                Traceback (most recent call last)",
      "\u001b[1;32m~\\AppData\\Local\\Temp/ipykernel_11068/2727852124.py\u001b[0m in \u001b[0;36m<module>\u001b[1;34m\u001b[0m\n\u001b[1;32m----> 1\u001b[1;33m \u001b[0ma\u001b[0m\u001b[1;33m=\u001b[0m\u001b[0mint\u001b[0m\u001b[1;33m(\u001b[0m\u001b[0minput\u001b[0m\u001b[1;33m(\u001b[0m\u001b[1;34m\"Input a number lesser  then 34 =\"\u001b[0m\u001b[1;33m)\u001b[0m\u001b[1;33m)\u001b[0m\u001b[1;33m\u001b[0m\u001b[1;33m\u001b[0m\u001b[0m\n\u001b[0m",
      "\u001b[1;31mValueError\u001b[0m: invalid literal for int() with base 10: ''"
     ]
    }
   ],
   "source": [
    "a=int(input(\"Input a number lesser  then 34 =\"))"
   ]
  },
  {
   "cell_type": "code",
   "execution_count": null,
   "id": "27fa42f2",
   "metadata": {},
   "outputs": [],
   "source": [
    "if a<34:\n",
    "    pass\n"
   ]
  },
  {
   "cell_type": "code",
   "execution_count": 54,
   "id": "12bfcb0d",
   "metadata": {},
   "outputs": [
    {
     "name": "stdout",
     "output_type": "stream",
     "text": [
      "Input a number=\n"
     ]
    },
    {
     "ename": "ValueError",
     "evalue": "invalid literal for int() with base 10: ''",
     "output_type": "error",
     "traceback": [
      "\u001b[1;31m---------------------------------------------------------------------------\u001b[0m",
      "\u001b[1;31mValueError\u001b[0m                                Traceback (most recent call last)",
      "\u001b[1;32m~\\AppData\\Local\\Temp/ipykernel_11068/1042324906.py\u001b[0m in \u001b[0;36m<module>\u001b[1;34m\u001b[0m\n\u001b[1;32m----> 1\u001b[1;33m \u001b[0ma\u001b[0m\u001b[1;33m=\u001b[0m\u001b[0mint\u001b[0m\u001b[1;33m(\u001b[0m\u001b[0minput\u001b[0m\u001b[1;33m(\u001b[0m\u001b[1;34m\"Input a number=\"\u001b[0m\u001b[1;33m)\u001b[0m\u001b[1;33m)\u001b[0m\u001b[1;33m\u001b[0m\u001b[1;33m\u001b[0m\u001b[0m\n\u001b[0m\u001b[0;32m      2\u001b[0m \u001b[1;32mif\u001b[0m \u001b[0ma\u001b[0m\u001b[1;33m<\u001b[0m\u001b[1;36m34\u001b[0m\u001b[1;33m:\u001b[0m\u001b[1;33m\u001b[0m\u001b[1;33m\u001b[0m\u001b[0m\n\u001b[0;32m      3\u001b[0m     \u001b[0mprint\u001b[0m\u001b[1;33m(\u001b[0m\u001b[1;34m\"data input is lesser than 34 and it is fine\"\u001b[0m\u001b[1;33m)\u001b[0m\u001b[1;33m\u001b[0m\u001b[1;33m\u001b[0m\u001b[0m\n",
      "\u001b[1;31mValueError\u001b[0m: invalid literal for int() with base 10: ''"
     ]
    }
   ],
   "source": [
    "a=int(input(\"Input a number=\"))\n",
    "if a<34:\n",
    "    print(\"data input is lesser than 34 and it is fine\")"
   ]
  },
  {
   "cell_type": "code",
   "execution_count": null,
   "id": "c6ef4005",
   "metadata": {},
   "outputs": [],
   "source": [
    "b=int(input(\"Input a number=\"))\n",
    "if b<34:\n",
    "    print(\"data input is lesser than 34 and it is fine\")\n",
    "else:\n",
    "    print(\"data input is not lesser than 34\")\n",
    "    "
   ]
  },
  {
   "cell_type": "code",
   "execution_count": null,
   "id": "88fa244d",
   "metadata": {},
   "outputs": [],
   "source": [
    "b=int(input(\"Input a number=\"))\n",
    "if b<34:\n",
    "print(\"data input is lesser than 34 and it is fine\")  #indentation error to give indentation we use tab"
   ]
  },
  {
   "cell_type": "code",
   "execution_count": 55,
   "id": "6c4011d2",
   "metadata": {},
   "outputs": [
    {
     "name": "stdout",
     "output_type": "stream",
     "text": [
      "Input a number=\n"
     ]
    },
    {
     "ename": "ValueError",
     "evalue": "invalid literal for int() with base 10: ''",
     "output_type": "error",
     "traceback": [
      "\u001b[1;31m---------------------------------------------------------------------------\u001b[0m",
      "\u001b[1;31mValueError\u001b[0m                                Traceback (most recent call last)",
      "\u001b[1;32m~\\AppData\\Local\\Temp/ipykernel_11068/3726122030.py\u001b[0m in \u001b[0;36m<module>\u001b[1;34m\u001b[0m\n\u001b[1;32m----> 1\u001b[1;33m \u001b[0mb\u001b[0m\u001b[1;33m=\u001b[0m\u001b[0mint\u001b[0m\u001b[1;33m(\u001b[0m\u001b[0minput\u001b[0m\u001b[1;33m(\u001b[0m\u001b[1;34m\"Input a number=\"\u001b[0m\u001b[1;33m)\u001b[0m\u001b[1;33m)\u001b[0m\u001b[1;33m\u001b[0m\u001b[1;33m\u001b[0m\u001b[0m\n\u001b[0m\u001b[0;32m      2\u001b[0m \u001b[1;32mif\u001b[0m \u001b[0mb\u001b[0m\u001b[1;33m<\u001b[0m\u001b[1;36m34\u001b[0m\u001b[1;33m:\u001b[0m\u001b[1;33m\u001b[0m\u001b[1;33m\u001b[0m\u001b[0m\n\u001b[0;32m      3\u001b[0m     \u001b[0mprint\u001b[0m\u001b[1;33m(\u001b[0m\u001b[1;34m\"data input is lesser than 34 and it is fine\"\u001b[0m\u001b[1;33m)\u001b[0m\u001b[1;33m\u001b[0m\u001b[1;33m\u001b[0m\u001b[0m\n\u001b[0;32m      4\u001b[0m \u001b[1;32melif\u001b[0m \u001b[0ma\u001b[0m\u001b[1;33m<\u001b[0m\u001b[1;36m100\u001b[0m\u001b[1;33m:\u001b[0m\u001b[1;33m\u001b[0m\u001b[1;33m\u001b[0m\u001b[0m\n\u001b[0;32m      5\u001b[0m     \u001b[0mprint\u001b[0m\u001b[1;33m(\u001b[0m\u001b[1;34m\"data is lesser than 100\"\u001b[0m\u001b[1;33m)\u001b[0m\u001b[1;33m\u001b[0m\u001b[1;33m\u001b[0m\u001b[0m\n",
      "\u001b[1;31mValueError\u001b[0m: invalid literal for int() with base 10: ''"
     ]
    }
   ],
   "source": [
    "b=int(input(\"Input a number=\"))\n",
    "if b<34:\n",
    "    print(\"data input is lesser than 34 and it is fine\")\n",
    "elif a<100:\n",
    "    print(\"data is lesser than 100\")\n",
    "else:\n",
    "    print(\"data input is not lesser than 34\")"
   ]
  },
  {
   "cell_type": "code",
   "execution_count": null,
   "id": "3cb4ad51",
   "metadata": {},
   "outputs": [],
   "source": [
    "salary =int(input(\"Enter Your salary -\"))\n",
    "if salary <1000:\n",
    "    print(\"I will buy a car\")\n",
    "elif salary <500:\n",
    "    print(\"I will buy a bike\")\n",
    "elif salary<100:\n",
    "    print(\"I will  not buy anything\")\n",
    "else:\n",
    "    print(\"I will go for saving\")\n",
    "    \n",
    "    #put any no. less than 1000 it only check nd excute first line satisfy print and exit simple"
   ]
  },
  {
   "cell_type": "code",
   "execution_count": 56,
   "id": "6c1277fd",
   "metadata": {},
   "outputs": [
    {
     "name": "stdout",
     "output_type": "stream",
     "text": [
      "Enter Your salary -\n"
     ]
    },
    {
     "ename": "ValueError",
     "evalue": "invalid literal for int() with base 10: ''",
     "output_type": "error",
     "traceback": [
      "\u001b[1;31m---------------------------------------------------------------------------\u001b[0m",
      "\u001b[1;31mValueError\u001b[0m                                Traceback (most recent call last)",
      "\u001b[1;32m~\\AppData\\Local\\Temp/ipykernel_11068/466033213.py\u001b[0m in \u001b[0;36m<module>\u001b[1;34m\u001b[0m\n\u001b[1;32m----> 1\u001b[1;33m \u001b[0msalary\u001b[0m \u001b[1;33m=\u001b[0m\u001b[0mint\u001b[0m\u001b[1;33m(\u001b[0m\u001b[0minput\u001b[0m\u001b[1;33m(\u001b[0m\u001b[1;34m\"Enter Your salary -\"\u001b[0m\u001b[1;33m)\u001b[0m\u001b[1;33m)\u001b[0m\u001b[1;33m\u001b[0m\u001b[1;33m\u001b[0m\u001b[0m\n\u001b[0m\u001b[0;32m      2\u001b[0m \u001b[1;32mif\u001b[0m \u001b[1;33m(\u001b[0m\u001b[0msalary\u001b[0m \u001b[1;33m>=\u001b[0m\u001b[1;36m1000\u001b[0m\u001b[1;33m)\u001b[0m\u001b[1;33m:\u001b[0m\u001b[1;33m\u001b[0m\u001b[1;33m\u001b[0m\u001b[0m\n\u001b[0;32m      3\u001b[0m     \u001b[0mprint\u001b[0m\u001b[1;33m(\u001b[0m\u001b[1;34m\"I will buy a car\"\u001b[0m\u001b[1;33m)\u001b[0m\u001b[1;33m\u001b[0m\u001b[1;33m\u001b[0m\u001b[0m\n\u001b[0;32m      4\u001b[0m \u001b[1;32melif\u001b[0m \u001b[0msalary\u001b[0m \u001b[1;33m>=\u001b[0m\u001b[1;36m500\u001b[0m\u001b[1;33m:\u001b[0m\u001b[1;33m\u001b[0m\u001b[1;33m\u001b[0m\u001b[0m\n\u001b[0;32m      5\u001b[0m     \u001b[0mprint\u001b[0m\u001b[1;33m(\u001b[0m\u001b[1;34m\"I will buy a bike\"\u001b[0m\u001b[1;33m)\u001b[0m\u001b[1;33m\u001b[0m\u001b[1;33m\u001b[0m\u001b[0m\n",
      "\u001b[1;31mValueError\u001b[0m: invalid literal for int() with base 10: ''"
     ]
    }
   ],
   "source": [
    "salary =int(input(\"Enter Your salary -\"))\n",
    "if (salary >=1000):\n",
    "    print(\"I will buy a car\")\n",
    "elif salary >=500:\n",
    "    print(\"I will buy a bike\")\n",
    "elif salary>=100:\n",
    "    print(\"I will  not buy anything\")\n",
    "else:\n",
    "    print(\"I will go for saving\")"
   ]
  },
  {
   "cell_type": "code",
   "execution_count": 57,
   "id": "bc78f355",
   "metadata": {},
   "outputs": [
    {
     "name": "stdout",
     "output_type": "stream",
     "text": [
      "Enter Your salary -\n"
     ]
    },
    {
     "ename": "ValueError",
     "evalue": "invalid literal for int() with base 10: ''",
     "output_type": "error",
     "traceback": [
      "\u001b[1;31m---------------------------------------------------------------------------\u001b[0m",
      "\u001b[1;31mValueError\u001b[0m                                Traceback (most recent call last)",
      "\u001b[1;32m~\\AppData\\Local\\Temp/ipykernel_11068/875333436.py\u001b[0m in \u001b[0;36m<module>\u001b[1;34m\u001b[0m\n\u001b[1;32m----> 1\u001b[1;33m \u001b[0msalary\u001b[0m \u001b[1;33m=\u001b[0m\u001b[0mint\u001b[0m\u001b[1;33m(\u001b[0m\u001b[0minput\u001b[0m\u001b[1;33m(\u001b[0m\u001b[1;34m\"Enter Your salary -\"\u001b[0m\u001b[1;33m)\u001b[0m\u001b[1;33m)\u001b[0m\u001b[1;33m\u001b[0m\u001b[1;33m\u001b[0m\u001b[0m\n\u001b[0m\u001b[0;32m      2\u001b[0m \u001b[1;32mif\u001b[0m \u001b[1;33m(\u001b[0m\u001b[0msalary\u001b[0m \u001b[1;33m>=\u001b[0m\u001b[1;36m1000\u001b[0m\u001b[1;33m)\u001b[0m\u001b[1;33m:\u001b[0m\u001b[1;33m\u001b[0m\u001b[1;33m\u001b[0m\u001b[0m\n\u001b[0;32m      3\u001b[0m     \u001b[0mprint\u001b[0m\u001b[1;33m(\u001b[0m\u001b[1;34m\"I will  good salary\"\u001b[0m\u001b[1;33m)\u001b[0m\u001b[1;33m\u001b[0m\u001b[1;33m\u001b[0m\u001b[0m\n\u001b[0;32m      4\u001b[0m     \u001b[1;32mif\u001b[0m \u001b[0msalary\u001b[0m \u001b[1;33m<=\u001b[0m\u001b[1;36m5000\u001b[0m\u001b[1;33m:\u001b[0m\u001b[1;33m\u001b[0m\u001b[1;33m\u001b[0m\u001b[0m\n\u001b[0;32m      5\u001b[0m         \u001b[0mprint\u001b[0m\u001b[1;33m(\u001b[0m\u001b[1;34m\"i will buy Tata Nano\"\u001b[0m\u001b[1;33m)\u001b[0m\u001b[1;33m\u001b[0m\u001b[1;33m\u001b[0m\u001b[0m\n",
      "\u001b[1;31mValueError\u001b[0m: invalid literal for int() with base 10: ''"
     ]
    }
   ],
   "source": [
    "salary =int(input(\"Enter Your salary -\"))\n",
    "if (salary >=1000):\n",
    "    print(\"I will  good salary\")\n",
    "    if salary <=5000:\n",
    "        print(\"i will buy Tata Nano\")\n",
    "        if True:\n",
    "            print(\"party\")\n",
    "    elif salary <=10000:\n",
    "        print(\"i will buy maruti\")\n",
    "    elif salary <=50000:\n",
    "        print(\"I will buy toyota\")\n",
    "    else :\n",
    "        print(\" I will buy audi\")\n",
    "elif salary >=500:\n",
    "    print(\"I will buy a bike\")\n",
    "elif salary>=100:\n",
    "    print(\"I will  not buy anything\")\n",
    "else:\n",
    "    print(\"I will go for saving\")"
   ]
  },
  {
   "cell_type": "code",
   "execution_count": null,
   "id": "8b2df057",
   "metadata": {},
   "outputs": [],
   "source": [
    "a=10\n",
    "b=20\n",
    "\n",
    "if a==10 and b==20:\n",
    "    print(\"this valid statement\")"
   ]
  },
  {
   "cell_type": "code",
   "execution_count": null,
   "id": "73ae7584",
   "metadata": {},
   "outputs": [],
   "source": [
    " a==10 and b==20"
   ]
  },
  {
   "cell_type": "code",
   "execution_count": 58,
   "id": "1ce77275",
   "metadata": {},
   "outputs": [
    {
     "data": {
      "text/plain": [
       "False"
      ]
     },
     "execution_count": 58,
     "metadata": {},
     "output_type": "execute_result"
    }
   ],
   "source": [
    "a==10"
   ]
  },
  {
   "cell_type": "code",
   "execution_count": 59,
   "id": "2a0d511f",
   "metadata": {},
   "outputs": [
    {
     "data": {
      "text/plain": [
       "False"
      ]
     },
     "execution_count": 59,
     "metadata": {},
     "output_type": "execute_result"
    }
   ],
   "source": [
    "b==20"
   ]
  },
  {
   "cell_type": "code",
   "execution_count": 60,
   "id": "b73e1643",
   "metadata": {},
   "outputs": [
    {
     "name": "stdout",
     "output_type": "stream",
     "text": [
      "not valid\n"
     ]
    }
   ],
   "source": [
    "if a==30 and b==20:\n",
    "    print(\"this valid statement\")\n",
    "else :\n",
    "    print(\"not valid\")"
   ]
  },
  {
   "cell_type": "code",
   "execution_count": 61,
   "id": "6cfa3858",
   "metadata": {},
   "outputs": [
    {
     "ename": "TypeError",
     "evalue": "'<' not supported between instances of 'str' and 'int'",
     "output_type": "error",
     "traceback": [
      "\u001b[1;31m---------------------------------------------------------------------------\u001b[0m",
      "\u001b[1;31mTypeError\u001b[0m                                 Traceback (most recent call last)",
      "\u001b[1;32m~\\AppData\\Local\\Temp/ipykernel_11068/403162976.py\u001b[0m in \u001b[0;36m<module>\u001b[1;34m\u001b[0m\n\u001b[1;32m----> 1\u001b[1;33m \u001b[1;32mif\u001b[0m \u001b[0ma\u001b[0m\u001b[1;33m<\u001b[0m\u001b[1;36m30\u001b[0m \u001b[1;32mand\u001b[0m \u001b[0mb\u001b[0m\u001b[1;33m<\u001b[0m\u001b[1;36m50\u001b[0m\u001b[1;33m:\u001b[0m\u001b[1;33m\u001b[0m\u001b[1;33m\u001b[0m\u001b[0m\n\u001b[0m\u001b[0;32m      2\u001b[0m     \u001b[0mprint\u001b[0m\u001b[1;33m(\u001b[0m\u001b[1;34m\"this valid statement\"\u001b[0m\u001b[1;33m)\u001b[0m\u001b[1;33m\u001b[0m\u001b[1;33m\u001b[0m\u001b[0m\n\u001b[0;32m      3\u001b[0m \u001b[1;32melse\u001b[0m \u001b[1;33m:\u001b[0m\u001b[1;33m\u001b[0m\u001b[1;33m\u001b[0m\u001b[0m\n\u001b[0;32m      4\u001b[0m     \u001b[0mprint\u001b[0m\u001b[1;33m(\u001b[0m\u001b[1;34m\"not valid\"\u001b[0m\u001b[1;33m)\u001b[0m\u001b[1;33m\u001b[0m\u001b[1;33m\u001b[0m\u001b[0m\n",
      "\u001b[1;31mTypeError\u001b[0m: '<' not supported between instances of 'str' and 'int'"
     ]
    }
   ],
   "source": [
    "if a<30 and b<50:\n",
    "    print(\"this valid statement\")\n",
    "else :\n",
    "    print(\"not valid\")"
   ]
  },
  {
   "cell_type": "code",
   "execution_count": 62,
   "id": "d403baa3",
   "metadata": {},
   "outputs": [
    {
     "name": "stdout",
     "output_type": "stream",
     "text": [
      "not valid\n"
     ]
    }
   ],
   "source": [
    "if a==10 and b>20:\n",
    "    print(\"this valid statement\")\n",
    "elif a==10 and b>=20:\n",
    "    print(\"valid in elif\")\n",
    "else :\n",
    "    print(\"not valid\")"
   ]
  },
  {
   "cell_type": "code",
   "execution_count": 63,
   "id": "4866971a",
   "metadata": {},
   "outputs": [
    {
     "name": "stdout",
     "output_type": "stream",
     "text": [
      "not valid\n"
     ]
    }
   ],
   "source": [
    "if a==30 or b==20:\n",
    "    print(\"this valid statement\")\n",
    "else :\n",
    "    print(\"not valid\")"
   ]
  },
  {
   "cell_type": "code",
   "execution_count": 64,
   "id": "0827ccb8",
   "metadata": {},
   "outputs": [
    {
     "name": "stdout",
     "output_type": "stream",
     "text": [
      "not valid\n"
     ]
    }
   ],
   "source": [
    "if a==10 or b>20:\n",
    "    print(\"this valid statement\")\n",
    "elif a==10 and b>=20:\n",
    "    print(\"valid in elif\")\n",
    "else :\n",
    "    print(\"not valid\")"
   ]
  },
  {
   "cell_type": "markdown",
   "id": "c0ad5dee",
   "metadata": {},
   "source": [
    "Task :\n",
    "     take a input from your keyboard as first name and last name and than try to validate of write multiple condition by yourself"
   ]
  },
  {
   "cell_type": "code",
   "execution_count": 65,
   "id": "221e1bd3",
   "metadata": {},
   "outputs": [
    {
     "name": "stdout",
     "output_type": "stream",
     "text": [
      "Enter your firstname  :\n",
      "Enter yourlastname  :\n",
      "Not Valid\n"
     ]
    }
   ],
   "source": [
    "a=input(\"Enter your firstname  :\")\n",
    "b=input(\"Enter yourlastname  :\")\n",
    "if a==\"Pooja\" and b==\"Das\":\n",
    "    print(\"Valide  name\")\n",
    "else:\n",
    "    print (\"Not Valid\")"
   ]
  },
  {
   "cell_type": "code",
   "execution_count": 66,
   "id": "4bf34525",
   "metadata": {},
   "outputs": [
    {
     "name": "stdout",
     "output_type": "stream",
     "text": [
      "Enter your Firstname  :\n",
      "Enter your Lastname  :\n",
      "Not Valid\n"
     ]
    }
   ],
   "source": [
    "a=input(\"Enter your Firstname  :\")\n",
    "b=input(\"Enter your Lastname  :\")\n",
    "if a==\"Pooja\" and b==\"Das\":\n",
    "    print(\"Valide  name\")\n",
    "elif a==\"pooja\" and b==\"das\":\n",
    "    print(\"Valide  name\")\n",
    "elif a==\"POOJA\" and b==\"DAS\":\n",
    "    print(\"Valide  name\")    \n",
    "else:\n",
    "    print (\"Not Valid\")"
   ]
  },
  {
   "cell_type": "code",
   "execution_count": 67,
   "id": "7846761b",
   "metadata": {},
   "outputs": [
    {
     "name": "stdout",
     "output_type": "stream",
     "text": [
      "0 this is speed\n",
      "1 this is speed\n",
      "2 this is speed\n",
      "3 this is speed\n",
      "4 this is speed\n",
      "5 this is speed\n",
      "6 this is speed\n",
      "7 this is speed\n",
      "8 this is speed\n",
      "9 this is speed\n"
     ]
    }
   ],
   "source": [
    "#while loop\n",
    "initial_speed=0\n",
    "final_speed=100\n",
    "count=0\n",
    "while initial_speed < final_speed:\n",
    "    print(count,\"this is speed\")\n",
    "    count=count+1\n",
    "    if (count==10):\n",
    "        break\n",
    "        \n",
    "    "
   ]
  },
  {
   "cell_type": "code",
   "execution_count": 68,
   "id": "bc8ac4c3",
   "metadata": {},
   "outputs": [
    {
     "data": {
      "text/plain": [
       "True"
      ]
     },
     "execution_count": 68,
     "metadata": {},
     "output_type": "execute_result"
    }
   ],
   "source": [
    "initial_speed < final_speed"
   ]
  },
  {
   "cell_type": "code",
   "execution_count": 69,
   "id": "de6ae784",
   "metadata": {},
   "outputs": [
    {
     "name": "stdout",
     "output_type": "stream",
     "text": [
      "0 this is speed\n",
      "1 this is speed\n",
      "2 this is speed\n",
      "3 this is speed\n",
      "4 this is speed\n",
      "5 this is speed\n"
     ]
    }
   ],
   "source": [
    "initial_speed=0\n",
    "final_speed=5\n",
    "\n",
    "while final_speed>=initial_speed: # if true than only excute\n",
    "    print(initial_speed,\"this is speed\")\n",
    "    initial_speed=initial_speed+1"
   ]
  },
  {
   "cell_type": "code",
   "execution_count": 70,
   "id": "e76e2192",
   "metadata": {},
   "outputs": [
    {
     "data": {
      "text/plain": [
       "23"
      ]
     },
     "execution_count": 70,
     "metadata": {},
     "output_type": "execute_result"
    }
   ],
   "source": [
    "bacon = 22\n",
    "bacon + 1"
   ]
  },
  {
   "cell_type": "code",
   "execution_count": 71,
   "id": "bdded0cf",
   "metadata": {},
   "outputs": [
    {
     "name": "stdout",
     "output_type": "stream",
     "text": [
      "spamspamspam\n",
      "spamspamspam\n"
     ]
    }
   ],
   "source": [
    "print('spam'+'spamspam')\n",
    "print('spam'*3)"
   ]
  },
  {
   "cell_type": "code",
   "execution_count": 72,
   "id": "d035cf72",
   "metadata": {},
   "outputs": [
    {
     "name": "stdout",
     "output_type": "stream",
     "text": [
      "1\n",
      "2\n",
      "3\n",
      "4\n",
      "5\n",
      " no notes are availble\n"
     ]
    }
   ],
   "source": [
    "# while-else only exit in python\n",
    "notes= 5\n",
    "i=1\n",
    "while i<=notes: # when it become false thn only else  excute\n",
    "    print(i)\n",
    "    i+=1\n",
    "else:\n",
    "    print(\" no notes are availble\")\n",
    "    "
   ]
  },
  {
   "cell_type": "code",
   "execution_count": 73,
   "id": "31a83a19",
   "metadata": {},
   "outputs": [
    {
     "name": "stdout",
     "output_type": "stream",
     "text": [
      "1\n",
      "2\n",
      "3\n",
      "4\n",
      "5\n",
      "1\n",
      "2\n",
      " no notes are availble\n"
     ]
    }
   ],
   "source": [
    "notes= 5\n",
    "i=1\n",
    "j=1\n",
    "while i<=notes: # when it become false thn only else  excute\n",
    "    print(i)\n",
    "    i+=1\n",
    "else:\n",
    "    while j<=2:\n",
    "        print(j)\n",
    "        \n",
    "        j+=1\n",
    "    print(\" no notes are availble\")"
   ]
  },
  {
   "cell_type": "code",
   "execution_count": 74,
   "id": "607d21dd",
   "metadata": {},
   "outputs": [],
   "source": [
    "s=\"pooja\""
   ]
  },
  {
   "cell_type": "code",
   "execution_count": 75,
   "id": "fc5b4be6",
   "metadata": {},
   "outputs": [
    {
     "data": {
      "text/plain": [
       "'pooja'"
      ]
     },
     "execution_count": 75,
     "metadata": {},
     "output_type": "execute_result"
    }
   ],
   "source": [
    "s"
   ]
  },
  {
   "cell_type": "code",
   "execution_count": 76,
   "id": "ea0ccd62",
   "metadata": {},
   "outputs": [
    {
     "data": {
      "text/plain": [
       "'p'"
      ]
     },
     "execution_count": 76,
     "metadata": {},
     "output_type": "execute_result"
    }
   ],
   "source": [
    "s[0]"
   ]
  },
  {
   "cell_type": "code",
   "execution_count": 77,
   "id": "ed3a6bb2",
   "metadata": {},
   "outputs": [
    {
     "ename": "IndexError",
     "evalue": "string index out of range",
     "output_type": "error",
     "traceback": [
      "\u001b[1;31m---------------------------------------------------------------------------\u001b[0m",
      "\u001b[1;31mIndexError\u001b[0m                                Traceback (most recent call last)",
      "\u001b[1;32m~\\AppData\\Local\\Temp/ipykernel_11068/2611755890.py\u001b[0m in \u001b[0;36m<module>\u001b[1;34m\u001b[0m\n\u001b[1;32m----> 1\u001b[1;33m \u001b[0ms\u001b[0m\u001b[1;33m[\u001b[0m\u001b[1;36m5\u001b[0m\u001b[1;33m]\u001b[0m \u001b[1;31m# as index doesnot exit\u001b[0m\u001b[1;33m\u001b[0m\u001b[1;33m\u001b[0m\u001b[0m\n\u001b[0m",
      "\u001b[1;31mIndexError\u001b[0m: string index out of range"
     ]
    }
   ],
   "source": [
    "s[5] # as index doesnot exit"
   ]
  },
  {
   "cell_type": "code",
   "execution_count": 78,
   "id": "ebe55624",
   "metadata": {},
   "outputs": [],
   "source": [
    "s=\"My name is Pooja Das\""
   ]
  },
  {
   "cell_type": "code",
   "execution_count": 79,
   "id": "d81d4098",
   "metadata": {},
   "outputs": [
    {
     "data": {
      "text/plain": [
       "'My name is Pooja Das'"
      ]
     },
     "execution_count": 79,
     "metadata": {},
     "output_type": "execute_result"
    }
   ],
   "source": [
    "s"
   ]
  },
  {
   "cell_type": "code",
   "execution_count": 80,
   "id": "3dd12a0b",
   "metadata": {},
   "outputs": [
    {
     "data": {
      "text/plain": [
       "'name is'"
      ]
     },
     "execution_count": 80,
     "metadata": {},
     "output_type": "execute_result"
    }
   ],
   "source": [
    "s[3:10] # start : end but exclude end position"
   ]
  },
  {
   "cell_type": "code",
   "execution_count": 81,
   "id": "35bf7e91",
   "metadata": {},
   "outputs": [
    {
     "data": {
      "text/plain": [
       "'ame is Pooja Das'"
      ]
     },
     "execution_count": 81,
     "metadata": {},
     "output_type": "execute_result"
    }
   ],
   "source": [
    "s[4:]"
   ]
  },
  {
   "cell_type": "code",
   "execution_count": 82,
   "id": "44867ba8",
   "metadata": {},
   "outputs": [
    {
     "data": {
      "text/plain": [
       "'My n'"
      ]
     },
     "execution_count": 82,
     "metadata": {},
     "output_type": "execute_result"
    }
   ],
   "source": [
    "s[:4]"
   ]
  },
  {
   "cell_type": "code",
   "execution_count": 83,
   "id": "ab673d42",
   "metadata": {},
   "outputs": [
    {
     "data": {
      "text/plain": [
       "'My'"
      ]
     },
     "execution_count": 83,
     "metadata": {},
     "output_type": "execute_result"
    }
   ],
   "source": [
    "s[0:2]"
   ]
  },
  {
   "cell_type": "code",
   "execution_count": 84,
   "id": "3171c51c",
   "metadata": {},
   "outputs": [
    {
     "data": {
      "text/plain": [
       "'nm s'"
      ]
     },
     "execution_count": 84,
     "metadata": {},
     "output_type": "execute_result"
    }
   ],
   "source": [
    "s[3:10:2]# start : end but exclude end position: jump step"
   ]
  },
  {
   "cell_type": "code",
   "execution_count": 85,
   "id": "e094501e",
   "metadata": {},
   "outputs": [
    {
     "data": {
      "text/plain": [
       "'a  o s'"
      ]
     },
     "execution_count": 85,
     "metadata": {},
     "output_type": "execute_result"
    }
   ],
   "source": [
    "s[4::3]"
   ]
  },
  {
   "cell_type": "code",
   "execution_count": 86,
   "id": "f8efa519",
   "metadata": {},
   "outputs": [
    {
     "data": {
      "text/plain": [
       "' iea'"
      ]
     },
     "execution_count": 86,
     "metadata": {},
     "output_type": "execute_result"
    }
   ],
   "source": [
    "s[10:3:-2]"
   ]
  },
  {
   "cell_type": "code",
   "execution_count": 87,
   "id": "4767022f",
   "metadata": {},
   "outputs": [
    {
     "data": {
      "text/plain": [
       "' iea'"
      ]
     },
     "execution_count": 87,
     "metadata": {},
     "output_type": "execute_result"
    }
   ],
   "source": [
    "s[10:3:-2]\n"
   ]
  },
  {
   "cell_type": "code",
   "execution_count": 88,
   "id": "689eec51",
   "metadata": {},
   "outputs": [
    {
     "data": {
      "text/plain": [
       "' nam'"
      ]
     },
     "execution_count": 88,
     "metadata": {},
     "output_type": "execute_result"
    }
   ],
   "source": [
    "s[2:6]"
   ]
  },
  {
   "cell_type": "code",
   "execution_count": 89,
   "id": "3025bc7e",
   "metadata": {},
   "outputs": [
    {
     "data": {
      "text/plain": [
       "'saD ajooP si eman y'"
      ]
     },
     "execution_count": 89,
     "metadata": {},
     "output_type": "execute_result"
    }
   ],
   "source": [
    "s[:0:-1]"
   ]
  },
  {
   "cell_type": "code",
   "execution_count": 90,
   "id": "41e80062",
   "metadata": {},
   "outputs": [
    {
     "data": {
      "text/plain": [
       "'My name is Pooja Das'"
      ]
     },
     "execution_count": 90,
     "metadata": {},
     "output_type": "execute_result"
    }
   ],
   "source": [
    "s"
   ]
  },
  {
   "cell_type": "code",
   "execution_count": 91,
   "id": "3f99588a",
   "metadata": {},
   "outputs": [
    {
     "name": "stdout",
     "output_type": "stream",
     "text": [
      "M\n",
      "y\n",
      " \n",
      "n\n",
      "i got a as string\n",
      "a\n",
      "m\n",
      "e\n",
      " \n",
      "i\n",
      "s\n",
      " \n",
      "P\n",
      "o\n",
      "o\n",
      "j\n",
      "i got a as string\n",
      "a\n",
      " \n",
      "D\n",
      "i got a as string\n",
      "a\n",
      "s\n",
      "Else execute\n"
     ]
    }
   ],
   "source": [
    "for i in s:# i =0 ,i<=s than i++\n",
    "    if i==\"a\":\n",
    "        print(\"i got a as string\")\n",
    "    print (i)\n",
    "else :\n",
    "    print(\"Else execute\")\n"
   ]
  },
  {
   "cell_type": "code",
   "execution_count": 92,
   "id": "c7ff605d",
   "metadata": {},
   "outputs": [
    {
     "name": "stdout",
     "output_type": "stream",
     "text": [
      "M\n",
      "y\n",
      " \n",
      "n\n"
     ]
    }
   ],
   "source": [
    "for i in s:# i =0 ,i<=s than i++\n",
    "    if i==\"a\":\n",
    "        break\n",
    "        print(\"i got a as string\")\n",
    "    print (i)\n",
    "else :  # for else execute only when for complete  not by break\n",
    "    print(\"Else execute\")"
   ]
  },
  {
   "cell_type": "code",
   "execution_count": 93,
   "id": "f13686ed",
   "metadata": {},
   "outputs": [
    {
     "name": "stdout",
     "output_type": "stream",
     "text": [
      "M\n",
      "y\n",
      " \n",
      "n\n",
      "m\n",
      "e\n",
      " \n",
      "i\n",
      "s\n",
      " \n",
      "P\n",
      "o\n",
      "o\n",
      "j\n",
      " \n",
      "D\n",
      "s\n",
      "Else execute\n"
     ]
    }
   ],
   "source": [
    "for i in s:# i =\"M\" \n",
    "    if i==\"a\":\n",
    "        continue # print a coz it go back to for loop not evern execute other\n",
    "        print(\"i got a as string\")\n",
    "    print (i)\n",
    "else :  # for else execute only when for complete  not by break\n",
    "    print(\"Else execute\")"
   ]
  },
  {
   "cell_type": "code",
   "execution_count": 94,
   "id": "5a86da3e",
   "metadata": {},
   "outputs": [
    {
     "name": "stdout",
     "output_type": "stream",
     "text": [
      "i\n",
      "e\n",
      "u\n",
      "r\n",
      "o\n"
     ]
    }
   ],
   "source": [
    "s=\"ineuron\"\n",
    "ss=\"\"\n",
    "for i in range(len(s)): # i=0 in this case\n",
    "   # print(i)\n",
    "    if s[i]==\"n\":\n",
    "        continue\n",
    "    print(s[i])\n"
   ]
  },
  {
   "cell_type": "code",
   "execution_count": 95,
   "id": "a52bd61a",
   "metadata": {},
   "outputs": [
    {
     "data": {
      "text/plain": [
       "7"
      ]
     },
     "execution_count": 95,
     "metadata": {},
     "output_type": "execute_result"
    }
   ],
   "source": [
    "len(s) # used to find length of a string"
   ]
  },
  {
   "cell_type": "code",
   "execution_count": 96,
   "id": "adf09b99",
   "metadata": {},
   "outputs": [
    {
     "data": {
      "text/plain": [
       "''"
      ]
     },
     "execution_count": 96,
     "metadata": {},
     "output_type": "execute_result"
    }
   ],
   "source": [
    "ss"
   ]
  },
  {
   "cell_type": "code",
   "execution_count": 97,
   "id": "e0297734",
   "metadata": {},
   "outputs": [
    {
     "data": {
      "text/plain": [
       "range(0, 8)"
      ]
     },
     "execution_count": 97,
     "metadata": {},
     "output_type": "execute_result"
    }
   ],
   "source": [
    "range(8) # used to find  range 0 to n "
   ]
  },
  {
   "cell_type": "code",
   "execution_count": 98,
   "id": "d10dcc07",
   "metadata": {},
   "outputs": [
    {
     "data": {
      "text/plain": [
       "range(0, 7)"
      ]
     },
     "execution_count": 98,
     "metadata": {},
     "output_type": "execute_result"
    }
   ],
   "source": [
    "range(len(s))"
   ]
  },
  {
   "cell_type": "code",
   "execution_count": 99,
   "id": "76314eec",
   "metadata": {},
   "outputs": [
    {
     "data": {
      "text/plain": [
       "'n'"
      ]
     },
     "execution_count": 99,
     "metadata": {},
     "output_type": "execute_result"
    }
   ],
   "source": [
    "s[i]"
   ]
  },
  {
   "cell_type": "code",
   "execution_count": 100,
   "id": "eb2fec7b",
   "metadata": {},
   "outputs": [
    {
     "name": "stdout",
     "output_type": "stream",
     "text": [
      "\n",
      "i\n",
      "n\n",
      "n\n",
      " \n",
      "e\n",
      "u\n",
      "r\n",
      "o\n",
      "n\n",
      "n\n"
     ]
    }
   ],
   "source": [
    "s=\"in euron\"\n",
    "ss=\"\"\n",
    "print(ss)\n",
    "for i in range(len(s)): # i=0 in this case\n",
    "    print(s[i])\n",
    "    if s[i]==\"n\":\n",
    "        print(s[i])\n",
    "        continue\n",
    "    else:\n",
    "        ss=ss+s[i]"
   ]
  },
  {
   "cell_type": "code",
   "execution_count": 101,
   "id": "3a102a96",
   "metadata": {},
   "outputs": [
    {
     "name": "stdout",
     "output_type": "stream",
     "text": [
      "+ \r\n",
      "+ + \r\n",
      "+ + + \r\n",
      "+ + + + \r\n",
      "+ + + + + \r\n",
      "+ + + + + + \r\n",
      "+ + + + + + + \r\n"
     ]
    }
   ],
   "source": [
    "n=7\n",
    "for i in range(0,n):\n",
    "    for j in range(0,i+1):\n",
    "        print(\"+\", end =\" \")\n",
    "    print(\"\\r\")    "
   ]
  },
  {
   "cell_type": "code",
   "execution_count": 102,
   "id": "fc626b44",
   "metadata": {},
   "outputs": [
    {
     "name": "stdout",
     "output_type": "stream",
     "text": [
      "+ \r\n",
      "+ + \r\n",
      "+ + + \r\n",
      "+ + + + \r\n",
      "+ + + + + \r\n",
      "+ + + + + + \r\n",
      "+ + + + + + + \r\n"
     ]
    }
   ],
   "source": [
    "n=7\n",
    "for i in range(0,n):\n",
    "    for j in range(0,i+1):\n",
    "        print(\"+\", end =\" \")\n",
    "    print(\"\\r\") "
   ]
  },
  {
   "cell_type": "code",
   "execution_count": 103,
   "id": "b1d06843",
   "metadata": {},
   "outputs": [
    {
     "data": {
      "text/plain": [
       "1"
      ]
     },
     "execution_count": 103,
     "metadata": {},
     "output_type": "execute_result"
    }
   ],
   "source": [
    "a=\"a\"\n",
    "len(a)"
   ]
  },
  {
   "cell_type": "code",
   "execution_count": 104,
   "id": "5e06083e",
   "metadata": {},
   "outputs": [
    {
     "data": {
      "text/plain": [
       "range(0, 1)"
      ]
     },
     "execution_count": 104,
     "metadata": {},
     "output_type": "execute_result"
    }
   ],
   "source": [
    "range(0,len(a))"
   ]
  },
  {
   "cell_type": "code",
   "execution_count": 105,
   "id": "4b613855",
   "metadata": {},
   "outputs": [
    {
     "name": "stdout",
     "output_type": "stream",
     "text": [
      "0 \r\n",
      "0 1 \r\n",
      "0 1 2 \r\n",
      "0 1 2 3 \r\n",
      "0 1 2 3 4 \r\n"
     ]
    }
   ],
   "source": [
    "n=5\n",
    "for i in range(0,n):\n",
    "    for j in range(0,i+1):\n",
    "        print(j, end =\" \")\n",
    "    print(\"\\r\") "
   ]
  },
  {
   "cell_type": "code",
   "execution_count": 106,
   "id": "48404264",
   "metadata": {},
   "outputs": [
    {
     "name": "stdout",
     "output_type": "stream",
     "text": [
      "5 5 5 5 5 \r\n",
      "4 4 4 4 \r\n",
      "3 3 3 \r\n",
      "2 2 \r\n",
      "1 \r\n"
     ]
    }
   ],
   "source": [
    "n=5\n",
    "for i in range(n,0,-1):\n",
    "    for j in range(i,0,-1):\n",
    "        print(i, end =\" \")         \n",
    "    print(\"\\r\") "
   ]
  },
  {
   "cell_type": "code",
   "execution_count": 107,
   "id": "415f9b41",
   "metadata": {},
   "outputs": [
    {
     "name": "stdout",
     "output_type": "stream",
     "text": [
      "5 4 3 2 1 \r\n",
      "4 3 2 1 \r\n",
      "3 2 1 \r\n",
      "2 1 \r\n",
      "1 \r\n"
     ]
    }
   ],
   "source": [
    "n=5\n",
    "for i in range(n,0,-1):\n",
    "    for j in range(i,0,-1):\n",
    "        print(j, end =\" \") \n",
    "    \n",
    "    print(\"\\r\")"
   ]
  },
  {
   "cell_type": "code",
   "execution_count": 108,
   "id": "63b094d5",
   "metadata": {},
   "outputs": [
    {
     "name": "stdout",
     "output_type": "stream",
     "text": [
      "5 4 3 2 1 \r\n",
      "4 3 2 1 \r\n",
      "3 2 1 \r\n",
      "2 1 \r\n",
      "1 \r\n"
     ]
    }
   ],
   "source": [
    "n=5\n",
    "for i in range(n,0,-1):\n",
    "    for j in range(i,0,-1):\n",
    "        print(j, end =\" \") \n",
    "    \n",
    "    print(\"\\r\")"
   ]
  },
  {
   "cell_type": "code",
   "execution_count": 109,
   "id": "6affad32",
   "metadata": {},
   "outputs": [
    {
     "name": "stdout",
     "output_type": "stream",
     "text": [
      "    0 \r\n",
      "   0 1 \r\n",
      "  0 1 2 \r\n",
      " 0 1 2 3 \r\n",
      "0 1 2 3 4 \r\n"
     ]
    }
   ],
   "source": [
    "n=5\n",
    "for i in range(0,n):\n",
    "    for j in range(0,n-i-1):\n",
    "            print(end =\" \")\n",
    "    for j in range(0,i+1):\n",
    "        print(j, end =\" \")         \n",
    "    print(\"\\r\")"
   ]
  },
  {
   "cell_type": "code",
   "execution_count": 110,
   "id": "7e96e37c",
   "metadata": {},
   "outputs": [
    {
     "name": "stdout",
     "output_type": "stream",
     "text": [
      "    0 \r\n",
      "   1 1 \r\n",
      "  2 2 2 \r\n",
      " 3 3 3 3 \r\n",
      "4 4 4 4 4 \r\n"
     ]
    }
   ],
   "source": [
    "n=5\n",
    "for i in range(0,n):\n",
    "    for j in range(0,n-i-1):\n",
    "            print(end =\" \")\n",
    "    for j in range(0,i+1):\n",
    "        print(i, end =\" \")         \n",
    "    print(\"\\r\")"
   ]
  },
  {
   "cell_type": "code",
   "execution_count": 111,
   "id": "85c9ca88",
   "metadata": {},
   "outputs": [
    {
     "name": "stdout",
     "output_type": "stream",
     "text": [
      " *  *  *  *  * \n"
     ]
    }
   ],
   "source": [
    "n=5\n",
    "print(\" * \"*5)"
   ]
  },
  {
   "cell_type": "code",
   "execution_count": 112,
   "id": "8cc25d6b",
   "metadata": {},
   "outputs": [
    {
     "name": "stdout",
     "output_type": "stream",
     "text": [
      "* * * * * "
     ]
    }
   ],
   "source": [
    "n=5\n",
    "for i in range(0,n):\n",
    "    print(\"*\", end=\" \")"
   ]
  },
  {
   "cell_type": "code",
   "execution_count": 113,
   "id": "9526bbdb",
   "metadata": {},
   "outputs": [
    {
     "name": "stdout",
     "output_type": "stream",
     "text": [
      "*\n",
      "*\n",
      "*\n",
      "*\n",
      "*\n"
     ]
    }
   ],
   "source": [
    "n=5\n",
    "for j in range(0,n):\n",
    "    print(\"*\") #  as all print in next line for this we use end use for one linr"
   ]
  },
  {
   "cell_type": "code",
   "execution_count": 114,
   "id": "07ea4454",
   "metadata": {},
   "outputs": [
    {
     "name": "stdout",
     "output_type": "stream",
     "text": [
      "* * * * * * * * * * * * * * * * * * * * * * * * * "
     ]
    }
   ],
   "source": [
    "n=5\n",
    "for i in range(0,n):\n",
    "    for i in range(0,n):\n",
    "        print(\"*\", end=\" \")"
   ]
  },
  {
   "cell_type": "code",
   "execution_count": 115,
   "id": "59001e3f",
   "metadata": {},
   "outputs": [
    {
     "name": "stdout",
     "output_type": "stream",
     "text": [
      "0 0 0 0 0 \n",
      "1 1 1 1 1 \n",
      "2 2 2 2 2 \n",
      "3 3 3 3 3 \n",
      "4 4 4 4 4 \n",
      "* * * * * \n",
      "* * * * * \n",
      "* * * * * \n",
      "* * * * * \n",
      "* * * * * \n",
      "0 1 2 3 4 \n",
      "0 1 2 3 4 \n",
      "0 1 2 3 4 \n",
      "0 1 2 3 4 \n",
      "0 1 2 3 4 \n"
     ]
    }
   ],
   "source": [
    "n=5\n",
    "for i in range(0,n):\n",
    "    for j in range(0,n):\n",
    "        print(i, end=\" \")\n",
    "    print()  \n",
    "\n",
    "for i in range(0,n):\n",
    "    for j in range(0,n):\n",
    "        print(\"*\", end=\" \")\n",
    "    print()\n",
    "for i in range(0,n):\n",
    "    for j in range(0,n):\n",
    "        print(j, end=\" \")\n",
    "    print()     \n",
    "    "
   ]
  },
  {
   "cell_type": "code",
   "execution_count": 116,
   "id": "1c11fc5c",
   "metadata": {},
   "outputs": [
    {
     "name": "stdout",
     "output_type": "stream",
     "text": [
      "0 \n",
      "1 1 \n",
      "2 2 2 \n",
      "3 3 3 3 \n",
      "4 4 4 4 4 \n",
      "* \n",
      "* * \n",
      "* * * \n",
      "* * * * \n",
      "* * * * * \n",
      "0 \n",
      "0 1 \n",
      "0 1 2 \n",
      "0 1 2 3 \n",
      "0 1 2 3 4 \n"
     ]
    }
   ],
   "source": [
    "n=5\n",
    "for i in range(0,n):\n",
    "    for j in range(0,i+1):\n",
    "        print(i, end=\" \")\n",
    "    print()\n",
    "\n",
    "for i in range(0,n):\n",
    "    for j in range(0,i+1):\n",
    "        print(\"*\", end=\" \")\n",
    "    print() \n",
    "for i in range(0,n):\n",
    "    for j in range(0,i+1):\n",
    "        print(j, end=\" \")\n",
    "    print()     "
   ]
  },
  {
   "cell_type": "code",
   "execution_count": 117,
   "id": "1dc53165",
   "metadata": {},
   "outputs": [
    {
     "name": "stdout",
     "output_type": "stream",
     "text": [
      "0 0 0 0 0 \n",
      "1 1 1 1 \n",
      "2 2 2 \n",
      "3 3 \n",
      "4 \n",
      "* * * * * \n",
      "* * * * \n",
      "* * * \n",
      "* * \n",
      "* \n",
      "0 1 2 3 4 \n",
      "1 2 3 4 \n",
      "2 3 4 \n",
      "3 4 \n",
      "4 \n"
     ]
    }
   ],
   "source": [
    "n=5\n",
    "for i in range(0,n):\n",
    "    for j in range(i,n):\n",
    "        print(i, end=\" \")\n",
    "    print()  \n",
    "\n",
    "for i in range(0,n):\n",
    "    for j in range(i,n):\n",
    "        print(\"*\", end=\" \")\n",
    "    print()\n",
    "for i in range(0,n):\n",
    "    for j in range(i,n):\n",
    "        print(j, end=\" \")\n",
    "    print()"
   ]
  },
  {
   "cell_type": "code",
   "execution_count": 118,
   "id": "18dcd681",
   "metadata": {},
   "outputs": [
    {
     "name": "stdout",
     "output_type": "stream",
     "text": [
      "     * \n",
      "    * * \n",
      "   * * * \n",
      "  * * * * \n",
      " * * * * * \n"
     ]
    }
   ],
   "source": [
    "n=5\n",
    "for i in range(0,n):\n",
    "    for j in range(i,n):\n",
    "        print(\"\",end=\" \")\n",
    "    for j in range(0,i+1):\n",
    "        print(\"*\", end=\" \")\n",
    "    print()"
   ]
  },
  {
   "cell_type": "code",
   "execution_count": 119,
   "id": "6e529442",
   "metadata": {},
   "outputs": [
    {
     "name": "stdout",
     "output_type": "stream",
     "text": [
      "$ $ $ $ $ * \n",
      "$ $ $ $ * * \n",
      "$ $ $ * * * \n",
      "$ $ * * * * \n",
      "$ * * * * * \n"
     ]
    }
   ],
   "source": [
    "n=5\n",
    "for i in range(0,n):\n",
    "    for j in range(i,n):\n",
    "        print(\"$\",end=\" \")\n",
    "    for j in range(0,i+1):\n",
    "        print(\"*\", end=\" \")\n",
    "    print()"
   ]
  },
  {
   "cell_type": "code",
   "execution_count": null,
   "id": "e1fd6015",
   "metadata": {},
   "outputs": [],
   "source": []
  },
  {
   "cell_type": "code",
   "execution_count": 120,
   "id": "accccb46",
   "metadata": {},
   "outputs": [
    {
     "name": "stdout",
     "output_type": "stream",
     "text": [
      "$ $ $ $ * \n",
      "$ $ $ * * \n",
      "$ $ * * * \n",
      "$ * * * * \n",
      "* * * * * \n"
     ]
    }
   ],
   "source": [
    "n=5\n",
    "for i in range(0,n):\n",
    "    for j in range(i,n-1):\n",
    "        print(\"$\",end=\" \")\n",
    "    for j in range(0,i+1):\n",
    "        print(\"*\", end=\" \")\n",
    "    print()"
   ]
  },
  {
   "cell_type": "code",
   "execution_count": 121,
   "id": "c1a5b6ec",
   "metadata": {},
   "outputs": [
    {
     "name": "stdout",
     "output_type": "stream",
     "text": [
      "* * * * * \n",
      "$ * * * * \n",
      "$ $ * * * \n",
      "$ $ $ * * \n",
      "$ $ $ $ * \n"
     ]
    }
   ],
   "source": [
    "n=5\n",
    "for i in range(0,n):\n",
    "    \n",
    "    for j in range(0,i):\n",
    "        print(\"$\", end=\" \")\n",
    "    for j in range(i,n):\n",
    "        print(\"*\",end=\" \")    \n",
    "    print()"
   ]
  },
  {
   "cell_type": "markdown",
   "id": "fe96fb7a",
   "metadata": {},
   "source": [
    "# Right side Trinangle"
   ]
  },
  {
   "cell_type": "code",
   "execution_count": 122,
   "id": "87d88a6e",
   "metadata": {},
   "outputs": [
    {
     "name": "stdout",
     "output_type": "stream",
     "text": [
      "$ $ $ $ $ * \n",
      "$ $ $ $ * * \n",
      "$ $ $ * * * \n",
      "$ $ * * * * \n",
      "$ * * * * * \n"
     ]
    }
   ],
   "source": [
    "n=5\n",
    "for i in range(0,n):\n",
    "    for j in range(i,n):\n",
    "        print(\"$\",end=\" \")\n",
    "    for j in range(0,i+1):\n",
    "        print(\"*\", end=\" \")\n",
    "    print()"
   ]
  },
  {
   "cell_type": "code",
   "execution_count": 123,
   "id": "df2fe192",
   "metadata": {},
   "outputs": [
    {
     "name": "stdout",
     "output_type": "stream",
     "text": [
      "          * * \n",
      "        * * * * \n",
      "      * * * * * * \n",
      "    * * * * * * * * \n",
      "  * * * * * * * * * * \n"
     ]
    }
   ],
   "source": [
    "n=5\n",
    "for i in range(0,n):\n",
    "    for j in range(i,n):\n",
    "        print(\" \",end=\" \")\n",
    "    for j in range(0,i+1):\n",
    "        print(\"*\", end=\" \")\n",
    "    for j in range(0,i+1):\n",
    "        print(\"*\", end=\" \")\n",
    "    print()"
   ]
  },
  {
   "cell_type": "markdown",
   "id": "b05afbf7",
   "metadata": {},
   "source": [
    "# Hill Pattern"
   ]
  },
  {
   "cell_type": "code",
   "execution_count": 124,
   "id": "f32bf6be",
   "metadata": {},
   "outputs": [
    {
     "name": "stdout",
     "output_type": "stream",
     "text": [
      "          * \n",
      "        * * * \n",
      "      * * * * * \n",
      "    * * * * * * * \n",
      "  * * * * * * * * * \n"
     ]
    }
   ],
   "source": [
    " \n",
    "n=5\n",
    "for i in range(0,n):\n",
    "    for j in range(i,n):\n",
    "        print(\" \",end=\" \")\n",
    "    for j in range(0,i+1):\n",
    "        print(\"*\", end=\" \")\n",
    "    for j in range(0,i):\n",
    "        print(\"*\", end=\" \")\n",
    "    print()"
   ]
  },
  {
   "cell_type": "markdown",
   "id": "aca5a802",
   "metadata": {},
   "source": [
    "# Reversed Hill"
   ]
  },
  {
   "cell_type": "code",
   "execution_count": 125,
   "id": "4753dcd7",
   "metadata": {},
   "outputs": [
    {
     "name": "stdout",
     "output_type": "stream",
     "text": [
      "* * * * * * * * * * \n",
      "  * * * * * * * * \n",
      "    * * * * * * \n",
      "      * * * * \n",
      "        * * \n"
     ]
    }
   ],
   "source": [
    "n=5\n",
    "for i in range(0,n):\n",
    "    for j in range(0,i):\n",
    "        print(\" \", end=\" \")\n",
    "    for j in range(i,n):\n",
    "        print(\"*\",end=\" \")\n",
    "    for j in range(i,n):\n",
    "        print(\"*\", end=\" \")\n",
    "    print()"
   ]
  },
  {
   "cell_type": "code",
   "execution_count": 126,
   "id": "4bde08fb",
   "metadata": {},
   "outputs": [
    {
     "name": "stdout",
     "output_type": "stream",
     "text": [
      "* * * * * * * * * \n",
      "  * * * * * * * \n",
      "    * * * * * \n",
      "      * * * \n",
      "        * \n"
     ]
    }
   ],
   "source": [
    "n=5\n",
    "for i in range(0,n):\n",
    "    for j in range(0,i):\n",
    "        print(\" \", end=\" \")\n",
    "    for j in range(i,n):\n",
    "        print(\"*\",end=\" \")\n",
    "    for j in range(i,n-1):\n",
    "        print(\"*\", end=\" \")\n",
    "    print()"
   ]
  },
  {
   "cell_type": "markdown",
   "id": "dce7f896",
   "metadata": {},
   "source": [
    "# Diamond Pattern"
   ]
  },
  {
   "cell_type": "code",
   "execution_count": 127,
   "id": "26c3abbe",
   "metadata": {},
   "outputs": [
    {
     "name": "stdout",
     "output_type": "stream",
     "text": [
      "        * \n",
      "* * * * * * * * * \n",
      "      * * * \n",
      "  * * * * * * * \n",
      "    * * * * * \n",
      "    * * * * * \n",
      "  * * * * * * * \n",
      "      * * * \n",
      "* * * * * * * * * \n",
      "        * \n"
     ]
    }
   ],
   "source": [
    "n=5\n",
    "for i in range(0,n):\n",
    "    for j in range(i,n-1):\n",
    "        print(\" \",end=\" \")\n",
    "    for j in range(0,i+1):\n",
    "        print(\"*\", end=\" \")\n",
    "    for j in range(0,i):\n",
    "        print(\"*\", end=\" \")\n",
    "    print()\n",
    "#for i in range(0,n):\n",
    "    for j in range(0,i):\n",
    "        print(\" \", end=\" \")\n",
    "    for j in range(i,n):\n",
    "        print(\"*\",end=\" \")\n",
    "    for j in range(i,n-1):\n",
    "        print(\"*\", end=\" \")\n",
    "    print()"
   ]
  },
  {
   "cell_type": "code",
   "execution_count": 128,
   "id": "cdd00eec",
   "metadata": {},
   "outputs": [
    {
     "name": "stdout",
     "output_type": "stream",
     "text": [
      "        * \n",
      "      * * * \n",
      "    * * * * * \n",
      "  * * * * * * * \n",
      "* * * * * * * * * \n",
      "* * * * * * * * * \n",
      "  * * * * * * * \n",
      "    * * * * * \n",
      "      * * * \n",
      "        * \n"
     ]
    }
   ],
   "source": [
    "n=5\n",
    "for i in range(0,n):\n",
    "    for j in range(i,n-1):\n",
    "        print(\" \",end=\" \")\n",
    "    for j in range(0,i+1):\n",
    "        print(\"*\", end=\" \")\n",
    "    for j in range(0,i):\n",
    "        print(\"*\", end=\" \")\n",
    "    print()\n",
    "for i in range(0,n):\n",
    "    for j in range(0,i):\n",
    "        print(\" \", end=\" \")\n",
    "    for j in range(i,n):\n",
    "        print(\"*\",end=\" \")\n",
    "    for j in range(i,n-1):\n",
    "        print(\"*\", end=\" \")\n",
    "    print()"
   ]
  },
  {
   "cell_type": "code",
   "execution_count": 129,
   "id": "52c76df0",
   "metadata": {},
   "outputs": [
    {
     "name": "stdout",
     "output_type": "stream",
     "text": [
      "          * \n",
      "        * * * \n",
      "      * * * * * \n",
      "    * * * * * * * \n",
      "  * * * * * * * * * \n",
      "    * * * * * * * \n",
      "      * * * * * \n",
      "        * * * \n",
      "          * \n"
     ]
    }
   ],
   "source": [
    "n=5\n",
    "for i in range(0,n-1):\n",
    "    for j in range(i,n):\n",
    "        print(\" \",end=\" \")\n",
    "    for j in range(0,i+1):\n",
    "        print(\"*\", end=\" \")\n",
    "    for j in range(0,i):\n",
    "        print(\"*\", end=\" \")\n",
    "    print()\n",
    "for i in range(0,n):\n",
    "    for j in range(0,i+1):# by add space here in down\n",
    "        print(\" \", end=\" \")\n",
    "    for j in range(i,n):\n",
    "        print(\"*\",end=\" \")\n",
    "    for j in range(i,n-1):\n",
    "        print(\"*\", end=\" \")\n",
    "    print()"
   ]
  },
  {
   "cell_type": "code",
   "execution_count": 130,
   "id": "2be1806b",
   "metadata": {},
   "outputs": [
    {
     "name": "stdout",
     "output_type": "stream",
     "text": [
      "        * \n",
      "      * * * \n",
      "    * * * * * \n",
      "  * * * * * * * \n",
      "* * * * * * * * * \n",
      "  * * * * * * * \n",
      "    * * * * * \n",
      "      * * * \n",
      "        * \n"
     ]
    }
   ],
   "source": [
    "n=5\n",
    "for i in range(0,n-1):\n",
    "    for j in range(i,n-1):# or by descrease n frm here\n",
    "        print(\" \",end=\" \")\n",
    "    for j in range(0,i+1):\n",
    "        print(\"*\", end=\" \")\n",
    "    for j in range(0,i):\n",
    "        print(\"*\", end=\" \")\n",
    "    print()\n",
    "for i in range(0,n):\n",
    "    for j in range(0,i):\n",
    "        print(\" \", end=\" \")\n",
    "    for j in range(i,n):\n",
    "        print(\"*\",end=\" \")\n",
    "    for j in range(i,n-1):\n",
    "        print(\"*\", end=\" \")\n",
    "    print()"
   ]
  },
  {
   "cell_type": "code",
   "execution_count": 131,
   "id": "4088506d",
   "metadata": {},
   "outputs": [
    {
     "name": "stdout",
     "output_type": "stream",
     "text": [
      "        * \n",
      "      * * * \n",
      "    * * * * * \n",
      "  * * * * * * * \n",
      "* * * * * * * * * \n"
     ]
    }
   ],
   "source": [
    "n=5 \n",
    "for i in range (0,n):\n",
    "    for j in range (i,n-1):\n",
    "        print(\" \", end=\" \")\n",
    "    for j in range ( i+1):\n",
    "        print(\"*\",end=\" \")\n",
    "    for j in range (0,i):\n",
    "        print(\"*\",end=\" \")\n",
    "    print()    "
   ]
  },
  {
   "cell_type": "code",
   "execution_count": 132,
   "id": "5462c78b",
   "metadata": {},
   "outputs": [
    {
     "name": "stdout",
     "output_type": "stream",
     "text": [
      "* \n",
      "* * \n",
      "* * * \n",
      "* * * * \n",
      "* * * * * \n"
     ]
    }
   ],
   "source": [
    "n=5\n",
    "i=0\n",
    "while (i<n):\n",
    "    j=0\n",
    "    while(j<=i):\n",
    "        print(\"*\", end=\" \")\n",
    "        j+=1\n",
    "        \n",
    "    print() \n",
    "    i+=1 \n",
    "    "
   ]
  },
  {
   "cell_type": "code",
   "execution_count": 133,
   "id": "074739e2",
   "metadata": {},
   "outputs": [
    {
     "name": "stdout",
     "output_type": "stream",
     "text": [
      "* * * * *                   \n",
      "* * * *               \n",
      "* * *           \n",
      "* *       \n",
      "*   \n",
      "* * * *   \n",
      "* * *       \n",
      "* *           \n",
      "*               \n",
      "                  \n"
     ]
    }
   ],
   "source": [
    "n=5\n",
    "i=0\n",
    "while (i<n):\n",
    "    j=i\n",
    "    while(j<n):\n",
    "        print(\"*\", end=\" \")\n",
    "        j+=1\n",
    "    j=i\n",
    "    while(j<n):\n",
    "        print(\" \", end=\" \")\n",
    "        j+=1 \n",
    "    j=i\n",
    "    while(j<n-1):\n",
    "        print(\" \", end=\" \")\n",
    "        j+=1    \n",
    "        \n",
    "    print() \n",
    "    i+=1 \n",
    "i=0\n",
    "while (i<n):\n",
    "    j=i\n",
    "    while(j<n-1):\n",
    "        print(\"*\", end=\" \")\n",
    "        j+=1\n",
    "    j=0\n",
    "    while(j<i+1):\n",
    "        print(\" \", end=\" \")\n",
    "        j+=1 \n",
    "    j=0\n",
    "    while(j<i):\n",
    "        print(\" \", end=\" \")\n",
    "        j+=1    \n",
    "        \n",
    "    print() \n",
    "    i+=1"
   ]
  },
  {
   "cell_type": "code",
   "execution_count": 134,
   "id": "d16f64b2",
   "metadata": {},
   "outputs": [
    {
     "name": "stdout",
     "output_type": "stream",
     "text": [
      "b b b b * \n",
      "b b b * * \n",
      "b b * * * \n",
      "b * * * * \n",
      "* * * * * \n"
     ]
    }
   ],
   "source": [
    "n=5\n",
    "for i in range(0,n):\n",
    "    for j in range (i,n-1):\n",
    "        print(\"b\", end=\" \")\n",
    "    for j in range (0,i+1):\n",
    "        print(\"*\", end=\" \")    \n",
    "    print()    \n",
    "    "
   ]
  },
  {
   "cell_type": "code",
   "execution_count": 135,
   "id": "bd3fdccf",
   "metadata": {},
   "outputs": [
    {
     "name": "stdout",
     "output_type": "stream",
     "text": [
      "b b b b * \n",
      "b b b * * * \n",
      "b b * * * * * \n",
      "b * * * * * * * \n",
      "* * * * * * * * * \n"
     ]
    }
   ],
   "source": [
    "n=5\n",
    "i=0\n",
    "while (i<n):\n",
    "    j=i\n",
    "    while(j<n-1):\n",
    "        print(\"b\", end=\" \")\n",
    "        j+=1\n",
    "    j=0\n",
    "    while(j<i+1):\n",
    "        print(\"*\", end=\" \")\n",
    "        j+=1 \n",
    "    j=0\n",
    "    while(j<i):\n",
    "        print(\"*\", end=\" \")\n",
    "        j+=1    \n",
    "        \n",
    "    print() \n",
    "    i+=1 "
   ]
  },
  {
   "cell_type": "code",
   "execution_count": 136,
   "id": "bd630537",
   "metadata": {},
   "outputs": [
    {
     "name": "stdout",
     "output_type": "stream",
     "text": [
      "* * * * * * * * * \n",
      "b * * * * * * * \n",
      "b b * * * * * \n",
      "b b b * * * \n",
      "b b b b * \n"
     ]
    }
   ],
   "source": [
    "n=5\n",
    "i=0\n",
    "while (i<n):\n",
    "    j=0\n",
    "    while(j<i):\n",
    "        print(\"b\", end=\" \")\n",
    "        j+=1\n",
    "    j=i\n",
    "    while(j<n):\n",
    "        print(\"*\", end=\" \")\n",
    "        j+=1 \n",
    "    j=i\n",
    "    while(j<n-1):\n",
    "        print(\"*\", end=\" \")\n",
    "        j+=1    \n",
    "        \n",
    "    print() \n",
    "    i+=1 "
   ]
  },
  {
   "cell_type": "code",
   "execution_count": 137,
   "id": "ebd8903a",
   "metadata": {},
   "outputs": [
    {
     "name": "stdout",
     "output_type": "stream",
     "text": [
      "    * \n",
      "   * * \n",
      "  * * * \n",
      " * * * * \n",
      "* * * * * \n"
     ]
    }
   ],
   "source": [
    "n=5\n",
    "i=0\n",
    "while (i<n):\n",
    "    print (\" \" *(n-i-1)+ \"* \"*(i+1))\n",
    "    i+=1"
   ]
  },
  {
   "cell_type": "code",
   "execution_count": 138,
   "id": "d004437b",
   "metadata": {},
   "outputs": [],
   "source": [
    "name=\"pooja\"\n",
    "phone=4535552\n",
    "address=\"dguu\"\n",
    "\n",
    "name,phone,address=\"pooja\",452255,\"cfdghfhh\""
   ]
  },
  {
   "cell_type": "code",
   "execution_count": 139,
   "id": "23ac73a6",
   "metadata": {},
   "outputs": [],
   "source": [
    "l=[\"pooja\",452255,\"cfdghfhh\",45+4j,4.5,96,\"list\",True,[3,5,10+5j,\"hi\",4.5,50]] # list like arry it hold multi value in single varible"
   ]
  },
  {
   "cell_type": "code",
   "execution_count": 140,
   "id": "46b827ac",
   "metadata": {},
   "outputs": [
    {
     "data": {
      "text/plain": [
       "['pooja',\n",
       " 452255,\n",
       " 'cfdghfhh',\n",
       " (45+4j),\n",
       " 4.5,\n",
       " 96,\n",
       " 'list',\n",
       " True,\n",
       " [3, 5, (10+5j), 'hi', 4.5, 50]]"
      ]
     },
     "execution_count": 140,
     "metadata": {},
     "output_type": "execute_result"
    }
   ],
   "source": [
    "l"
   ]
  },
  {
   "cell_type": "code",
   "execution_count": 141,
   "id": "03d3430f",
   "metadata": {},
   "outputs": [
    {
     "data": {
      "text/plain": [
       "list"
      ]
     },
     "execution_count": 141,
     "metadata": {},
     "output_type": "execute_result"
    }
   ],
   "source": [
    "type(l)"
   ]
  },
  {
   "cell_type": "code",
   "execution_count": 142,
   "id": "52de0824",
   "metadata": {},
   "outputs": [
    {
     "data": {
      "text/plain": [
       "'pooja'"
      ]
     },
     "execution_count": 142,
     "metadata": {},
     "output_type": "execute_result"
    }
   ],
   "source": [
    "l[0]"
   ]
  },
  {
   "cell_type": "code",
   "execution_count": 143,
   "id": "94a64d69",
   "metadata": {},
   "outputs": [
    {
     "data": {
      "text/plain": [
       "452255"
      ]
     },
     "execution_count": 143,
     "metadata": {},
     "output_type": "execute_result"
    }
   ],
   "source": [
    "l[1]"
   ]
  },
  {
   "cell_type": "code",
   "execution_count": 144,
   "id": "3b36ca72",
   "metadata": {},
   "outputs": [
    {
     "data": {
      "text/plain": [
       "[452255, 'cfdghfhh', (45+4j), 4.5]"
      ]
     },
     "execution_count": 144,
     "metadata": {},
     "output_type": "execute_result"
    }
   ],
   "source": [
    "l[1:5]"
   ]
  },
  {
   "cell_type": "code",
   "execution_count": 145,
   "id": "80ff85bb",
   "metadata": {},
   "outputs": [
    {
     "data": {
      "text/plain": [
       "['list', 96, 4.5, (45+4j)]"
      ]
     },
     "execution_count": 145,
     "metadata": {},
     "output_type": "execute_result"
    }
   ],
   "source": [
    "l[6:2:-1]"
   ]
  },
  {
   "cell_type": "code",
   "execution_count": 146,
   "id": "1cf72946",
   "metadata": {},
   "outputs": [],
   "source": [
    "l1=[]"
   ]
  },
  {
   "cell_type": "code",
   "execution_count": 147,
   "id": "463becb6",
   "metadata": {},
   "outputs": [
    {
     "data": {
      "text/plain": [
       "list"
      ]
     },
     "execution_count": 147,
     "metadata": {},
     "output_type": "execute_result"
    }
   ],
   "source": [
    "type(l1)"
   ]
  },
  {
   "cell_type": "code",
   "execution_count": 148,
   "id": "f28d853e",
   "metadata": {},
   "outputs": [],
   "source": [
    "l2=list()"
   ]
  },
  {
   "cell_type": "code",
   "execution_count": 149,
   "id": "dc1c4dae",
   "metadata": {},
   "outputs": [
    {
     "data": {
      "text/plain": [
       "list"
      ]
     },
     "execution_count": 149,
     "metadata": {},
     "output_type": "execute_result"
    }
   ],
   "source": [
    "type(l2)"
   ]
  },
  {
   "cell_type": "code",
   "execution_count": 150,
   "id": "bb9b4b9d",
   "metadata": {},
   "outputs": [
    {
     "name": "stdout",
     "output_type": "stream",
     "text": [
      "<class 'str'>\n",
      "<class 'int'>\n",
      "<class 'str'>\n",
      "<class 'complex'>\n",
      "<class 'float'>\n",
      "<class 'int'>\n",
      "<class 'str'>\n",
      "<class 'bool'>\n",
      "<class 'list'>\n"
     ]
    }
   ],
   "source": [
    "for i in l:\n",
    "    print(type(i))"
   ]
  },
  {
   "cell_type": "code",
   "execution_count": 151,
   "id": "00e5a7a8",
   "metadata": {},
   "outputs": [
    {
     "name": "stdout",
     "output_type": "stream",
     "text": [
      "pooja\n",
      "cfdghfhh\n",
      "list\n"
     ]
    }
   ],
   "source": [
    "for i in l:\n",
    "    if type(i)== str:\n",
    "        print(i)    \n",
    "    "
   ]
  },
  {
   "cell_type": "code",
   "execution_count": 152,
   "id": "e9c94160",
   "metadata": {},
   "outputs": [
    {
     "name": "stdout",
     "output_type": "stream",
     "text": [
      "<class 'int'>\n",
      "<class 'int'>\n",
      "<class 'complex'>\n",
      "<class 'str'>\n",
      "<class 'float'>\n",
      "<class 'int'>\n",
      "[3, 5, (10+5j), 'hi', 4.5, 50]\n"
     ]
    }
   ],
   "source": [
    "for i in l:\n",
    "    if type(i)==list:\n",
    "        for j in i:\n",
    "            print(type(j))\n",
    "        print(i)\n",
    "        "
   ]
  },
  {
   "cell_type": "code",
   "execution_count": 153,
   "id": "c972ce11",
   "metadata": {},
   "outputs": [
    {
     "name": "stdout",
     "output_type": "stream",
     "text": [
      "58\n",
      "[3, 5, (10+5j), 'hi', 4.5, 50]\n",
      "<class 'int'>\n",
      "<class 'int'>\n"
     ]
    }
   ],
   "source": [
    "for i in l:\n",
    "    if type(i)==list:\n",
    "        n=0\n",
    "        for j in i:\n",
    "            if type(j)==int:\n",
    "                n=n+j\n",
    "                \n",
    "        print(n)\n",
    "        print(i)\n",
    "        print(type(n))\n",
    "        print(type(j))\n",
    "        "
   ]
  },
  {
   "cell_type": "code",
   "execution_count": 154,
   "id": "a5f6d23b",
   "metadata": {},
   "outputs": [
    {
     "data": {
      "text/plain": [
       "9"
      ]
     },
     "execution_count": 154,
     "metadata": {},
     "output_type": "execute_result"
    }
   ],
   "source": [
    "len(l)"
   ]
  },
  {
   "cell_type": "code",
   "execution_count": 155,
   "id": "16b7c6cc",
   "metadata": {},
   "outputs": [
    {
     "data": {
      "text/plain": [
       "range(0, 9)"
      ]
     },
     "execution_count": 155,
     "metadata": {},
     "output_type": "execute_result"
    }
   ],
   "source": [
    "range(len(l))"
   ]
  },
  {
   "cell_type": "code",
   "execution_count": 156,
   "id": "21757183",
   "metadata": {},
   "outputs": [
    {
     "data": {
      "text/plain": [
       "[2, 4, 6, 8, 10, 12, 14, 16, 18, 20]"
      ]
     },
     "execution_count": 156,
     "metadata": {},
     "output_type": "execute_result"
    }
   ],
   "source": [
    "list(range(2,22,2))"
   ]
  },
  {
   "cell_type": "code",
   "execution_count": 157,
   "id": "01d23437",
   "metadata": {},
   "outputs": [
    {
     "data": {
      "text/plain": [
       "[25, 23, 21, 19, 17, 15, 13, 11, 9, 7, 5, 3, 1]"
      ]
     },
     "execution_count": 157,
     "metadata": {},
     "output_type": "execute_result"
    }
   ],
   "source": [
    "list(range(25,0,-2))"
   ]
  },
  {
   "cell_type": "code",
   "execution_count": 158,
   "id": "5cea91b9",
   "metadata": {},
   "outputs": [
    {
     "data": {
      "text/plain": [
       "9"
      ]
     },
     "execution_count": 158,
     "metadata": {},
     "output_type": "execute_result"
    }
   ],
   "source": [
    "len(l)"
   ]
  },
  {
   "cell_type": "code",
   "execution_count": 159,
   "id": "e7d76c6e",
   "metadata": {},
   "outputs": [
    {
     "name": "stdout",
     "output_type": "stream",
     "text": [
      "6\n",
      "[3, 5, (10+5j), 'hi', 4.5, 50]\n"
     ]
    }
   ],
   "source": [
    "for i in l:\n",
    "    if type(i)== list:\n",
    "        print(len(i))\n",
    "        print(i)\n",
    "        \n",
    "\n",
    "    "
   ]
  },
  {
   "cell_type": "code",
   "execution_count": 160,
   "id": "47be5fe0",
   "metadata": {},
   "outputs": [
    {
     "name": "stdout",
     "output_type": "stream",
     "text": [
      "P\n",
      "o\n",
      "o\n",
      "j\n",
      "a\n"
     ]
    }
   ],
   "source": [
    "name=\"Pooja\"\n",
    "for i in name:\n",
    "    print(i)"
   ]
  },
  {
   "cell_type": "code",
   "execution_count": 161,
   "id": "790fcfa3",
   "metadata": {},
   "outputs": [
    {
     "name": "stdout",
     "output_type": "stream",
     "text": [
      "Pooja"
     ]
    }
   ],
   "source": [
    "name=\"Pooja\"\n",
    "for i in name:\n",
    "    print(i,end=\"\")"
   ]
  },
  {
   "cell_type": "code",
   "execution_count": 162,
   "id": "470c21ee",
   "metadata": {},
   "outputs": [
    {
     "name": "stdout",
     "output_type": "stream",
     "text": [
      "Enter the no. of the parimid-- 5\n",
      "* * * * * * * * * \n",
      "  * * * * * * * \n",
      "    * * * * * \n",
      "      * * * \n",
      "        * \n"
     ]
    }
   ],
   "source": [
    "n=int(input(\"Enter the no. of the parimid-- \"))\n",
    "\n",
    "for i in range(0,n):\n",
    "    for j in range( 0,i):\n",
    "        print (\" \", end=\" \")\n",
    "    for j in range(i,n):\n",
    "        print (\"*\", end=\" \") \n",
    "    for j in range(i,n-1):\n",
    "        print (\"*\", end=\" \")\n",
    "    print()    \n",
    "        "
   ]
  },
  {
   "cell_type": "code",
   "execution_count": 163,
   "id": "bda79089",
   "metadata": {},
   "outputs": [
    {
     "data": {
      "text/plain": [
       "[3, 4]"
      ]
     },
     "execution_count": 163,
     "metadata": {},
     "output_type": "execute_result"
    }
   ],
   "source": [
    "lst=[1,2,3,4]\n",
    "lst[2:50]"
   ]
  },
  {
   "cell_type": "code",
   "execution_count": 164,
   "id": "b163ecef",
   "metadata": {},
   "outputs": [
    {
     "data": {
      "text/plain": [
       "[]"
      ]
     },
     "execution_count": 164,
     "metadata": {},
     "output_type": "execute_result"
    }
   ],
   "source": [
    "lst[50:2:1]"
   ]
  },
  {
   "cell_type": "code",
   "execution_count": 165,
   "id": "2fe0df98",
   "metadata": {},
   "outputs": [
    {
     "data": {
      "text/plain": [
       "[4]"
      ]
     },
     "execution_count": 165,
     "metadata": {},
     "output_type": "execute_result"
    }
   ],
   "source": [
    "lst[50:2:-1]"
   ]
  },
  {
   "cell_type": "code",
   "execution_count": 166,
   "id": "cda46af8",
   "metadata": {},
   "outputs": [],
   "source": [
    "s=\"Master*Python\""
   ]
  },
  {
   "cell_type": "code",
   "execution_count": 167,
   "id": "79fe3835",
   "metadata": {},
   "outputs": [
    {
     "data": {
      "text/plain": [
       "'nohtyP*'"
      ]
     },
     "execution_count": 167,
     "metadata": {},
     "output_type": "execute_result"
    }
   ],
   "source": [
    "s[-1:5:-1]"
   ]
  },
  {
   "cell_type": "code",
   "execution_count": 168,
   "id": "a70126af",
   "metadata": {},
   "outputs": [
    {
     "data": {
      "text/plain": [
       "'nohtyP*'"
      ]
     },
     "execution_count": 168,
     "metadata": {},
     "output_type": "execute_result"
    }
   ],
   "source": [
    "s[12:5:-1]"
   ]
  },
  {
   "cell_type": "code",
   "execution_count": 169,
   "id": "9845b1c2",
   "metadata": {},
   "outputs": [
    {
     "data": {
      "text/plain": [
       "'noht'"
      ]
     },
     "execution_count": 169,
     "metadata": {},
     "output_type": "execute_result"
    }
   ],
   "source": [
    "s[-1:-5:-1]"
   ]
  },
  {
   "cell_type": "code",
   "execution_count": 170,
   "id": "85d78094",
   "metadata": {},
   "outputs": [],
   "source": [
    "c=\"This is my first's full stack class\""
   ]
  },
  {
   "cell_type": "code",
   "execution_count": 171,
   "id": "de4c4929",
   "metadata": {},
   "outputs": [
    {
     "data": {
      "text/plain": [
       "\"This is my first's full stack class\""
      ]
     },
     "execution_count": 171,
     "metadata": {},
     "output_type": "execute_result"
    }
   ],
   "source": [
    "c"
   ]
  },
  {
   "cell_type": "code",
   "execution_count": 172,
   "id": "1caba186",
   "metadata": {},
   "outputs": [
    {
     "ename": "SyntaxError",
     "evalue": "invalid syntax (Temp/ipykernel_11068/1202703072.py, line 1)",
     "output_type": "error",
     "traceback": [
      "\u001b[1;36m  File \u001b[1;32m\"C:\\Users\\HP\\AppData\\Local\\Temp/ipykernel_11068/1202703072.py\"\u001b[1;36m, line \u001b[1;32m1\u001b[0m\n\u001b[1;33m    c='This is my first's full stack class'\u001b[0m\n\u001b[1;37m                        ^\u001b[0m\n\u001b[1;31mSyntaxError\u001b[0m\u001b[1;31m:\u001b[0m invalid syntax\n"
     ]
    }
   ],
   "source": [
    "c='This is my first's full stack class'"
   ]
  },
  {
   "cell_type": "code",
   "execution_count": null,
   "id": "a76d9661",
   "metadata": {},
   "outputs": [],
   "source": [
    "c='This is my first\"s full stack class'\n"
   ]
  },
  {
   "cell_type": "code",
   "execution_count": null,
   "id": "88645794",
   "metadata": {},
   "outputs": [],
   "source": [
    "c"
   ]
  },
  {
   "cell_type": "code",
   "execution_count": null,
   "id": "368acd32",
   "metadata": {},
   "outputs": [],
   "source": [
    "c[0]"
   ]
  },
  {
   "cell_type": "code",
   "execution_count": null,
   "id": "48201155",
   "metadata": {},
   "outputs": [],
   "source": [
    "c[-1]"
   ]
  },
  {
   "cell_type": "code",
   "execution_count": null,
   "id": "31c6ef18",
   "metadata": {},
   "outputs": [],
   "source": [
    "c[-1::-1]"
   ]
  },
  {
   "cell_type": "code",
   "execution_count": null,
   "id": "cbca3c91",
   "metadata": {},
   "outputs": [],
   "source": [
    "len(c)"
   ]
  },
  {
   "cell_type": "code",
   "execution_count": null,
   "id": "fae26a13",
   "metadata": {},
   "outputs": [],
   "source": [
    "len(s)"
   ]
  },
  {
   "cell_type": "code",
   "execution_count": null,
   "id": "b7bc2589",
   "metadata": {},
   "outputs": [],
   "source": [
    "l=[\"pooja\",4.5,\"ggu\"]"
   ]
  },
  {
   "cell_type": "code",
   "execution_count": null,
   "id": "c5107a05",
   "metadata": {},
   "outputs": [],
   "source": [
    "l"
   ]
  },
  {
   "cell_type": "code",
   "execution_count": null,
   "id": "b96f2230",
   "metadata": {},
   "outputs": [],
   "source": [
    "l[0]"
   ]
  },
  {
   "cell_type": "code",
   "execution_count": null,
   "id": "f6dd5c49",
   "metadata": {},
   "outputs": [],
   "source": [
    "l[0]=78"
   ]
  },
  {
   "cell_type": "code",
   "execution_count": null,
   "id": "de5daadc",
   "metadata": {},
   "outputs": [],
   "source": [
    "l"
   ]
  },
  {
   "cell_type": "code",
   "execution_count": null,
   "id": "47f7bc2e",
   "metadata": {},
   "outputs": [],
   "source": [
    "s=\"I am Pooja\""
   ]
  },
  {
   "cell_type": "code",
   "execution_count": null,
   "id": "ca169cc4",
   "metadata": {},
   "outputs": [],
   "source": [
    "s[0]"
   ]
  },
  {
   "cell_type": "code",
   "execution_count": null,
   "id": "e77f8afd",
   "metadata": {},
   "outputs": [],
   "source": [
    "s[0]=\"s\""
   ]
  },
  {
   "cell_type": "code",
   "execution_count": null,
   "id": "244bf7e6",
   "metadata": {},
   "outputs": [],
   "source": [
    "s.find(\"o\")\n"
   ]
  },
  {
   "cell_type": "code",
   "execution_count": null,
   "id": "0ee84bde",
   "metadata": {},
   "outputs": [],
   "source": [
    "s.find(\"oi\")"
   ]
  },
  {
   "cell_type": "code",
   "execution_count": null,
   "id": "232d415a",
   "metadata": {},
   "outputs": [],
   "source": [
    "s.find(\"am\")"
   ]
  },
  {
   "cell_type": "code",
   "execution_count": null,
   "id": "ffe69a20",
   "metadata": {},
   "outputs": [],
   "source": [
    "s=\"my name is pooja, my Name ok\""
   ]
  },
  {
   "cell_type": "code",
   "execution_count": null,
   "id": "f8737b17",
   "metadata": {},
   "outputs": [],
   "source": [
    "s.find(\"name\")"
   ]
  },
  {
   "cell_type": "code",
   "execution_count": null,
   "id": "4cd810df",
   "metadata": {},
   "outputs": [],
   "source": [
    "b=s.find(\"name\")\n",
    "for i in range(len(\"name\")):\n",
    "    print(b+i)\n",
    "   \n",
    "        "
   ]
  },
  {
   "cell_type": "code",
   "execution_count": null,
   "id": "4bc5c147",
   "metadata": {},
   "outputs": [],
   "source": [
    "len(\"name\")"
   ]
  },
  {
   "cell_type": "code",
   "execution_count": null,
   "id": "a99a1998",
   "metadata": {},
   "outputs": [],
   "source": [
    "s.count(\"m\")"
   ]
  },
  {
   "cell_type": "code",
   "execution_count": null,
   "id": "8798971c",
   "metadata": {},
   "outputs": [],
   "source": [
    "s.count(\"name\")"
   ]
  },
  {
   "cell_type": "code",
   "execution_count": null,
   "id": "e226e479",
   "metadata": {},
   "outputs": [],
   "source": [
    "s.capitalize()"
   ]
  },
  {
   "cell_type": "code",
   "execution_count": null,
   "id": "dfa90195",
   "metadata": {},
   "outputs": [],
   "source": [
    "s.split()"
   ]
  },
  {
   "cell_type": "code",
   "execution_count": null,
   "id": "d549d9ec",
   "metadata": {
    "scrolled": true
   },
   "outputs": [],
   "source": [
    "type(s.split())"
   ]
  },
  {
   "cell_type": "code",
   "execution_count": null,
   "id": "7798d708",
   "metadata": {},
   "outputs": [],
   "source": [
    "s.split(\",\")"
   ]
  },
  {
   "cell_type": "code",
   "execution_count": null,
   "id": "c662fce4",
   "metadata": {},
   "outputs": [],
   "source": [
    "s.split(\"n\")"
   ]
  },
  {
   "cell_type": "code",
   "execution_count": null,
   "id": "4c2b5d92",
   "metadata": {},
   "outputs": [],
   "source": [
    "s.split(\"na\")"
   ]
  },
  {
   "cell_type": "code",
   "execution_count": null,
   "id": "c22973b5",
   "metadata": {},
   "outputs": [],
   "source": [
    "s.split(sep= \"(None)\", maxsplit=0)"
   ]
  },
  {
   "cell_type": "code",
   "execution_count": null,
   "id": "d0cdb677",
   "metadata": {},
   "outputs": [],
   "source": [
    "s.upper()"
   ]
  },
  {
   "cell_type": "code",
   "execution_count": null,
   "id": "d1a9ccf8",
   "metadata": {},
   "outputs": [],
   "source": [
    "s.lower()"
   ]
  },
  {
   "cell_type": "code",
   "execution_count": null,
   "id": "a5428158",
   "metadata": {},
   "outputs": [],
   "source": [
    "s.swapcase()"
   ]
  },
  {
   "cell_type": "code",
   "execution_count": null,
   "id": "3a8c4106",
   "metadata": {},
   "outputs": [],
   "source": [
    "\" \".join(s)"
   ]
  },
  {
   "cell_type": "code",
   "execution_count": null,
   "id": "9683666e",
   "metadata": {},
   "outputs": [],
   "source": [
    "\" * \".join(s)"
   ]
  },
  {
   "cell_type": "code",
   "execution_count": null,
   "id": "e1424074",
   "metadata": {},
   "outputs": [],
   "source": [
    "reversed(s)"
   ]
  },
  {
   "cell_type": "code",
   "execution_count": null,
   "id": "c03ef3ee",
   "metadata": {},
   "outputs": [],
   "source": [
    "list(reversed(s))"
   ]
  },
  {
   "cell_type": "code",
   "execution_count": null,
   "id": "2435cb58",
   "metadata": {},
   "outputs": [],
   "source": [
    "s[::-1]"
   ]
  },
  {
   "cell_type": "code",
   "execution_count": null,
   "id": "43bc6d39",
   "metadata": {},
   "outputs": [],
   "source": [
    "for i in reversed(s):\n",
    "    print(i,end=\" \")"
   ]
  },
  {
   "cell_type": "code",
   "execution_count": null,
   "id": "5eb6376e",
   "metadata": {},
   "outputs": [],
   "source": [
    "s=\"         poo   ja\""
   ]
  },
  {
   "cell_type": "code",
   "execution_count": null,
   "id": "c4488273",
   "metadata": {},
   "outputs": [],
   "source": [
    "s"
   ]
  },
  {
   "cell_type": "code",
   "execution_count": null,
   "id": "86b24a61",
   "metadata": {},
   "outputs": [],
   "source": [
    "s=\" Greeting from Ineuron \""
   ]
  },
  {
   "cell_type": "code",
   "execution_count": null,
   "id": "c2294161",
   "metadata": {},
   "outputs": [],
   "source": [
    "s.removeprefix(\" \")"
   ]
  },
  {
   "cell_type": "code",
   "execution_count": null,
   "id": "2fde748c",
   "metadata": {},
   "outputs": [],
   "source": [
    "s.removesuffix(\" \")"
   ]
  },
  {
   "cell_type": "code",
   "execution_count": null,
   "id": "d75a9475",
   "metadata": {},
   "outputs": [],
   "source": [
    "s.rindex(\"G\")"
   ]
  },
  {
   "cell_type": "code",
   "execution_count": null,
   "id": "76e88cbe",
   "metadata": {},
   "outputs": [],
   "source": [
    "s.rfind(\"G\")"
   ]
  },
  {
   "cell_type": "code",
   "execution_count": null,
   "id": "c43c1500",
   "metadata": {},
   "outputs": [],
   "source": [
    "s1=s.replace(\"Gre\",\"xxx\")"
   ]
  },
  {
   "cell_type": "code",
   "execution_count": null,
   "id": "62937572",
   "metadata": {},
   "outputs": [],
   "source": [
    "s1"
   ]
  },
  {
   "cell_type": "code",
   "execution_count": null,
   "id": "d804e49e",
   "metadata": {},
   "outputs": [],
   "source": [
    "s"
   ]
  },
  {
   "cell_type": "code",
   "execution_count": null,
   "id": "9f3210e8",
   "metadata": {},
   "outputs": [],
   "source": [
    "c=\"pooja\""
   ]
  },
  {
   "cell_type": "code",
   "execution_count": null,
   "id": "7e6a286f",
   "metadata": {},
   "outputs": [],
   "source": [
    "c.center(20,\" \")"
   ]
  },
  {
   "cell_type": "code",
   "execution_count": null,
   "id": "87c06682",
   "metadata": {},
   "outputs": [],
   "source": [
    "c.center(20,\"@\")"
   ]
  },
  {
   "cell_type": "code",
   "execution_count": 173,
   "id": "6e341a3f",
   "metadata": {},
   "outputs": [],
   "source": [
    "c=\"pooja\\tkumar\""
   ]
  },
  {
   "cell_type": "code",
   "execution_count": 174,
   "id": "7effd413",
   "metadata": {},
   "outputs": [
    {
     "data": {
      "text/plain": [
       "'pooja\\tkumar'"
      ]
     },
     "execution_count": 174,
     "metadata": {},
     "output_type": "execute_result"
    }
   ],
   "source": [
    "c"
   ]
  },
  {
   "cell_type": "code",
   "execution_count": 175,
   "id": "dbbead0d",
   "metadata": {},
   "outputs": [
    {
     "data": {
      "text/plain": [
       "'pooja   kumar'"
      ]
     },
     "execution_count": 175,
     "metadata": {},
     "output_type": "execute_result"
    }
   ],
   "source": [
    "c.expandtabs()"
   ]
  },
  {
   "cell_type": "markdown",
   "id": "2c74653e",
   "metadata": {},
   "source": [
    "### class task\n",
    "         \n",
    "         a=\"we all are apart of Full Stack\"\n",
    "         \n",
    "         1.Normallize all the string in lower?\n",
    "         2.Find no. of occurences of \"a\" in entire data\n",
    "         3.Find all the location/index of \"a\" in string\n",
    "         4.Replace all the \"a\" with \"iNeuron\"\n",
    "         5.Print all the word  as a list"
   ]
  },
  {
   "cell_type": "code",
   "execution_count": 176,
   "id": "f2973d4e",
   "metadata": {
    "scrolled": true
   },
   "outputs": [
    {
     "name": "stdout",
     "output_type": "stream",
     "text": [
      "1.Normallize all the string in lower?\n",
      "we all are apart of full stack\n",
      "-------------------------------------------------\n",
      "2.Find no. of occurences of 'a' in entire data\n",
      "5\n",
      "--------------------------------------------------------------------------------------------------\n",
      "3.Find all the location/index of 'a' in string\n",
      "3 7 11 13 27 \n",
      "-------------------------------------------------\n",
      "4.Replace all the \"a\" with \"iNeuron\"\n",
      "we iNeuronll iNeuronre iNeuronpiNeuronrt of Full StiNeuronck\n",
      "-------------------------------------------------\n",
      "5.Print all the word  as a list\n",
      "['we all are apart of Full Stack']\n"
     ]
    }
   ],
   "source": [
    "a=\"we all are apart of Full Stack\"\n",
    "print(\"1.Normallize all the string in lower?\")\n",
    "print(a.lower())\n",
    "print(\"-------------------------------------------------\")\n",
    "print(\"2.Find no. of occurences of 'a' in entire data\")\n",
    "print(a.count(\"a\"))\n",
    "print(\"-------------------------------------------------\"\"-------------------------------------------------\")\n",
    "print(\"3.Find all the location/index of 'a' in string\")\n",
    "b=a.index(\"a\")\n",
    "for i in  range(b,len(a)):\n",
    "    if a[i]==\"a\":\n",
    "        print(i,end=\" \")\n",
    "    \n",
    "print()\n",
    "print(\"-------------------------------------------------\") \n",
    "print('4.Replace all the \"a\" with \"iNeuron\"')\n",
    "print(a.replace(\"a\",\"iNeuron\"))\n",
    "print(\"-------------------------------------------------\")\n",
    "print('5.Print all the word  as a list')\n",
    "print(a.split(sep= \"  \")) "
   ]
  },
  {
   "cell_type": "code",
   "execution_count": 177,
   "id": "b8f003fd",
   "metadata": {},
   "outputs": [
    {
     "data": {
      "text/plain": [
       "[3, 7, 11, 13, 27]"
      ]
     },
     "execution_count": 177,
     "metadata": {},
     "output_type": "execute_result"
    }
   ],
   "source": [
    "l=[]\n",
    "for i in range(len(a)):\n",
    "    if a[i]==\"a\":\n",
    "        l.append(i)\n",
    "l"
   ]
  },
  {
   "cell_type": "code",
   "execution_count": 178,
   "id": "1e7c17f3",
   "metadata": {},
   "outputs": [
    {
     "name": "stdout",
     "output_type": "stream",
     "text": [
      "[1, 2, 3]\n",
      "[1, 2, 3, 4]\n"
     ]
    },
    {
     "data": {
      "text/plain": [
       "[1, 2, 3, 4, [4, 5, 'ooo']]"
      ]
     },
     "execution_count": 178,
     "metadata": {},
     "output_type": "execute_result"
    }
   ],
   "source": [
    "lst=[1,2,3]\n",
    "print(lst)\n",
    "lst.append(4)\n",
    "print(lst)\n",
    "a=[4,5,\"ooo\"]\n",
    "lst.append(a)\n",
    "lst"
   ]
  },
  {
   "cell_type": "code",
   "execution_count": 179,
   "id": "b22e5ac2",
   "metadata": {},
   "outputs": [
    {
     "name": "stdout",
     "output_type": "stream",
     "text": [
      "[1, 5, 'pooja', [4, 8]]\n"
     ]
    },
    {
     "data": {
      "text/plain": [
       "[1, 5, 'pooja', [4, 8], 4, 8]"
      ]
     },
     "execution_count": 179,
     "metadata": {},
     "output_type": "execute_result"
    }
   ],
   "source": [
    "lst=[1,5,\"pooja\"]\n",
    "a=[4,8]\n",
    "\n",
    "lst.append(a)\n",
    "print(lst)\n",
    "lst.extend(a)\n",
    "lst"
   ]
  },
  {
   "cell_type": "code",
   "execution_count": 180,
   "id": "b921c467",
   "metadata": {},
   "outputs": [],
   "source": [
    "s=\"pooja\""
   ]
  },
  {
   "cell_type": "code",
   "execution_count": 181,
   "id": "140a4a33",
   "metadata": {},
   "outputs": [
    {
     "data": {
      "text/plain": [
       "False"
      ]
     },
     "execution_count": 181,
     "metadata": {},
     "output_type": "execute_result"
    }
   ],
   "source": [
    "s.isupper()"
   ]
  },
  {
   "cell_type": "code",
   "execution_count": 182,
   "id": "0801f908",
   "metadata": {},
   "outputs": [
    {
     "data": {
      "text/plain": [
       "False"
      ]
     },
     "execution_count": 182,
     "metadata": {},
     "output_type": "execute_result"
    }
   ],
   "source": [
    "s.isnumeric()"
   ]
  },
  {
   "cell_type": "code",
   "execution_count": 183,
   "id": "10558d0c",
   "metadata": {},
   "outputs": [
    {
     "data": {
      "text/plain": [
       "True"
      ]
     },
     "execution_count": 183,
     "metadata": {},
     "output_type": "execute_result"
    }
   ],
   "source": [
    "s.islower()"
   ]
  },
  {
   "cell_type": "code",
   "execution_count": 184,
   "id": "50283ec7",
   "metadata": {},
   "outputs": [],
   "source": [
    "s=\"pooja123\""
   ]
  },
  {
   "cell_type": "code",
   "execution_count": 185,
   "id": "45b53c8e",
   "metadata": {},
   "outputs": [
    {
     "data": {
      "text/plain": [
       "True"
      ]
     },
     "execution_count": 185,
     "metadata": {},
     "output_type": "execute_result"
    }
   ],
   "source": [
    "s.isalnum()"
   ]
  },
  {
   "cell_type": "code",
   "execution_count": 186,
   "id": "4103d12c",
   "metadata": {},
   "outputs": [
    {
     "name": "stdout",
     "output_type": "stream",
     "text": [
      "False\n",
      "True\n"
     ]
    }
   ],
   "source": [
    "b=\"pooja das\"\n",
    "print(b.isspace())\n",
    "c=\" \"\n",
    "print(c.isspace())"
   ]
  },
  {
   "cell_type": "code",
   "execution_count": 187,
   "id": "a6419dce",
   "metadata": {},
   "outputs": [
    {
     "data": {
      "text/plain": [
       "False"
      ]
     },
     "execution_count": 187,
     "metadata": {},
     "output_type": "execute_result"
    }
   ],
   "source": [
    "s.endswith(\"p\")"
   ]
  },
  {
   "cell_type": "code",
   "execution_count": 188,
   "id": "b443c927",
   "metadata": {},
   "outputs": [
    {
     "data": {
      "text/plain": [
       "False"
      ]
     },
     "execution_count": 188,
     "metadata": {},
     "output_type": "execute_result"
    }
   ],
   "source": [
    "s.isnumeric()"
   ]
  },
  {
   "cell_type": "code",
   "execution_count": 189,
   "id": "2941b351",
   "metadata": {},
   "outputs": [
    {
     "data": {
      "text/plain": [
       "False"
      ]
     },
     "execution_count": 189,
     "metadata": {},
     "output_type": "execute_result"
    }
   ],
   "source": [
    "s.isdigit()"
   ]
  },
  {
   "cell_type": "code",
   "execution_count": 190,
   "id": "3cc54d43",
   "metadata": {},
   "outputs": [
    {
     "data": {
      "text/plain": [
       "True"
      ]
     },
     "execution_count": 190,
     "metadata": {},
     "output_type": "execute_result"
    }
   ],
   "source": [
    "s.startswith(\"p\")"
   ]
  },
  {
   "cell_type": "code",
   "execution_count": 191,
   "id": "3d482251",
   "metadata": {},
   "outputs": [
    {
     "data": {
      "text/plain": [
       "False"
      ]
     },
     "execution_count": 191,
     "metadata": {},
     "output_type": "execute_result"
    }
   ],
   "source": [
    "b.isalpha()"
   ]
  },
  {
   "cell_type": "code",
   "execution_count": 192,
   "id": "4c81da7e",
   "metadata": {},
   "outputs": [
    {
     "name": "stdout",
     "output_type": "stream",
     "text": [
      "True\n",
      "False\n"
     ]
    }
   ],
   "source": [
    "b=\"Pooja\"\n",
    "print(b.istitle())\n",
    "c=\"pooja\"\n",
    "\n",
    "print(c.istitle())\n"
   ]
  },
  {
   "cell_type": "code",
   "execution_count": 193,
   "id": "dba6bb8a",
   "metadata": {},
   "outputs": [
    {
     "name": "stdout",
     "output_type": "stream",
     "text": [
      "this is a full strack batch"
     ]
    }
   ],
   "source": [
    "s=\"this is a full strack batch\"\n",
    "for i in s:\n",
    "    \n",
    "    print(i,end=\"\")"
   ]
  },
  {
   "cell_type": "code",
   "execution_count": 194,
   "id": "331915cc",
   "metadata": {},
   "outputs": [
    {
     "name": "stdout",
     "output_type": "stream",
     "text": [
      "27\n"
     ]
    }
   ],
   "source": [
    "count= 0\n",
    "for i in s:\n",
    "    count = count +1\n",
    "print(count)    "
   ]
  },
  {
   "cell_type": "code",
   "execution_count": 195,
   "id": "bd63ec6e",
   "metadata": {},
   "outputs": [
    {
     "name": "stdout",
     "output_type": "stream",
     "text": [
      "hctab kcarts lluf a si sih"
     ]
    }
   ],
   "source": [
    "s=\"this is a full strack batch\"\n",
    "for i in range(1,len(s)):\n",
    "    print(s[-i],end=\"\")"
   ]
  },
  {
   "cell_type": "code",
   "execution_count": 196,
   "id": "412ec92c",
   "metadata": {},
   "outputs": [
    {
     "name": "stdout",
     "output_type": "stream",
     "text": [
      "ajooP"
     ]
    }
   ],
   "source": [
    "s=\"Pooja\"\n",
    "i=1\n",
    "while i<=len(s):\n",
    "    print(s[-i],end=\"\")\n",
    "    i+=1"
   ]
  },
  {
   "cell_type": "code",
   "execution_count": 197,
   "id": "eb63ac46",
   "metadata": {},
   "outputs": [
    {
     "name": "stdout",
     "output_type": "stream",
     "text": [
      "hctab kcarts lluf a si siht"
     ]
    }
   ],
   "source": [
    "s=\"this is a full strack batch\"\n",
    "i=1\n",
    "while i<=len(s):\n",
    "    print(s[-i],end=\"\")\n",
    "    i+=1"
   ]
  },
  {
   "cell_type": "code",
   "execution_count": 198,
   "id": "7b5df58d",
   "metadata": {},
   "outputs": [
    {
     "name": "stdout",
     "output_type": "stream",
     "text": [
      "i is vowels\n",
      "N is not vowel\n",
      "e is vowels\n",
      "u is vowels\n",
      "R is not vowel\n",
      "o is vowels\n",
      "n is not vowel\n"
     ]
    }
   ],
   "source": [
    "s=\"iNeuRon\"\n",
    "vowels=\"AaEeIiOoUu\"\n",
    "for i in s:\n",
    "    if i in vowels:\n",
    "        print(f\"{i} is vowels\")\n",
    "    else:\n",
    "        print(\"{} is not vowel\".format(i))"
   ]
  },
  {
   "cell_type": "code",
   "execution_count": 199,
   "id": "3b688c3e",
   "metadata": {},
   "outputs": [
    {
     "data": {
      "text/plain": [
       "'this is A bat'"
      ]
     },
     "execution_count": 199,
     "metadata": {},
     "output_type": "execute_result"
    }
   ],
   "source": [
    "\"{} is A bat\".format(\"this\")"
   ]
  },
  {
   "cell_type": "code",
   "execution_count": 200,
   "id": "10fcaede",
   "metadata": {},
   "outputs": [
    {
     "data": {
      "text/plain": [
       "'this is a bat'"
      ]
     },
     "execution_count": 200,
     "metadata": {},
     "output_type": "execute_result"
    }
   ],
   "source": [
    "\"{} is {} bat\".format(\"this\",\"a\")"
   ]
  },
  {
   "cell_type": "code",
   "execution_count": 201,
   "id": "ff9d0522",
   "metadata": {},
   "outputs": [
    {
     "data": {
      "text/plain": [
       "'4 is 5 bat text'"
      ]
     },
     "execution_count": 201,
     "metadata": {},
     "output_type": "execute_result"
    }
   ],
   "source": [
    "a=4\n",
    "b=5\n",
    "\"{} is {} bat {}\".format(a,b,\"text\")"
   ]
  },
  {
   "cell_type": "code",
   "execution_count": 202,
   "id": "44c6f66e",
   "metadata": {},
   "outputs": [],
   "source": [
    "a=\"xyx\"\n",
    "b=2002\n",
    "c=\"nitin\"\n"
   ]
  },
  {
   "cell_type": "code",
   "execution_count": 203,
   "id": "2bec1029",
   "metadata": {},
   "outputs": [
    {
     "name": "stdout",
     "output_type": "stream",
     "text": [
      "Enter any data to check its palindrom  2002\n",
      "\n",
      "2002 is palindrom\n"
     ]
    }
   ],
   "source": [
    "s=input(\"Enter any data to check its palindrom  \")\n",
    "c=s[len(s)::-1]\n",
    "print()\n",
    "if s==c:\n",
    "    print(\"{} is palindrom\".format(s))\n",
    "else:\n",
    "    print(\"{} is not palindrom\".format(s))"
   ]
  },
  {
   "cell_type": "code",
   "execution_count": 204,
   "id": "79702819",
   "metadata": {},
   "outputs": [
    {
     "data": {
      "text/plain": [
       "'2002'"
      ]
     },
     "execution_count": 204,
     "metadata": {},
     "output_type": "execute_result"
    }
   ],
   "source": [
    "c"
   ]
  },
  {
   "cell_type": "code",
   "execution_count": 205,
   "id": "0b31423d",
   "metadata": {},
   "outputs": [
    {
     "data": {
      "text/plain": [
       "'2002'"
      ]
     },
     "execution_count": 205,
     "metadata": {},
     "output_type": "execute_result"
    }
   ],
   "source": [
    "s[len(s)::-1]"
   ]
  },
  {
   "cell_type": "code",
   "execution_count": 209,
   "id": "f3c691d6",
   "metadata": {},
   "outputs": [],
   "source": [
    "s1=list(reversed(s))"
   ]
  },
  {
   "cell_type": "code",
   "execution_count": 214,
   "id": "0454f0e9",
   "metadata": {},
   "outputs": [
    {
     "name": "stdout",
     "output_type": "stream",
     "text": [
      "['2', '0', '0', '2']\n"
     ]
    }
   ],
   "source": [
    "print(s1)"
   ]
  },
  {
   "cell_type": "code",
   "execution_count": 215,
   "id": "4710d7f2",
   "metadata": {},
   "outputs": [],
   "source": [
    "l=[\"pooja\",4,4.65,[\"abc\",7,3.5],\"list\"]"
   ]
  },
  {
   "cell_type": "code",
   "execution_count": 216,
   "id": "ec2160a3",
   "metadata": {},
   "outputs": [
    {
     "data": {
      "text/plain": [
       "['pooja', 4, 4.65, ['abc', 7, 3.5], 'list']"
      ]
     },
     "execution_count": 216,
     "metadata": {},
     "output_type": "execute_result"
    }
   ],
   "source": [
    "l"
   ]
  },
  {
   "cell_type": "code",
   "execution_count": 217,
   "id": "cb999105",
   "metadata": {},
   "outputs": [
    {
     "data": {
      "text/plain": [
       "['abc', 7, 3.5]"
      ]
     },
     "execution_count": 217,
     "metadata": {},
     "output_type": "execute_result"
    }
   ],
   "source": [
    "l[3]"
   ]
  },
  {
   "cell_type": "code",
   "execution_count": 218,
   "id": "53c210f3",
   "metadata": {},
   "outputs": [
    {
     "data": {
      "text/plain": [
       "['pooja', 4, 4.65, ['abc', 7, 3.5]]"
      ]
     },
     "execution_count": 218,
     "metadata": {},
     "output_type": "execute_result"
    }
   ],
   "source": [
    "l[0:4]"
   ]
  },
  {
   "cell_type": "code",
   "execution_count": 225,
   "id": "baffc7f8",
   "metadata": {},
   "outputs": [
    {
     "data": {
      "text/plain": [
       "['list', ['abc', 7, 3.5], 4.65, 4, 'pooja']"
      ]
     },
     "execution_count": 225,
     "metadata": {},
     "output_type": "execute_result"
    }
   ],
   "source": [
    "l[len(l)::-1]"
   ]
  },
  {
   "cell_type": "code",
   "execution_count": 226,
   "id": "58375271",
   "metadata": {},
   "outputs": [
    {
     "data": {
      "text/plain": [
       "['list', ['abc', 7, 3.5], 4.65, 4, 'pooja']"
      ]
     },
     "execution_count": 226,
     "metadata": {},
     "output_type": "execute_result"
    }
   ],
   "source": [
    "l[::-1]"
   ]
  },
  {
   "cell_type": "code",
   "execution_count": 227,
   "id": "d1c648f7",
   "metadata": {},
   "outputs": [
    {
     "data": {
      "text/plain": [
       "['list', ['abc', 7, 3.5], 4.65, 4, 'pooja']"
      ]
     },
     "execution_count": 227,
     "metadata": {},
     "output_type": "execute_result"
    }
   ],
   "source": [
    "l[len(l)-1::-1]"
   ]
  },
  {
   "cell_type": "code",
   "execution_count": 230,
   "id": "531baf8f",
   "metadata": {},
   "outputs": [
    {
     "name": "stdout",
     "output_type": "stream",
     "text": [
      "[0, 1, 2, 3, 4, 5, 6, 7, 8, 9]\n"
     ]
    }
   ],
   "source": [
    "a=range(10)\n",
    "print(list(a))"
   ]
  },
  {
   "cell_type": "code",
   "execution_count": 235,
   "id": "e0215cb2",
   "metadata": {},
   "outputs": [
    {
     "data": {
      "text/plain": [
       "[9, 8, 7, 6, 5, 4, 3, 2, 1, 0]"
      ]
     },
     "execution_count": 235,
     "metadata": {},
     "output_type": "execute_result"
    }
   ],
   "source": [
    "list(a[10::-1])"
   ]
  },
  {
   "cell_type": "code",
   "execution_count": 236,
   "id": "75f614e9",
   "metadata": {},
   "outputs": [
    {
     "data": {
      "text/plain": [
       "[9, 8, 7, 6, 5, 4, 3, 2, 1, 0]"
      ]
     },
     "execution_count": 236,
     "metadata": {},
     "output_type": "execute_result"
    }
   ],
   "source": [
    "list(a[::-1])"
   ]
  },
  {
   "cell_type": "code",
   "execution_count": 237,
   "id": "cddcb683",
   "metadata": {},
   "outputs": [
    {
     "data": {
      "text/plain": [
       "[9, 8, 7, 6, 5, 4, 3, 2, 1, 0]"
      ]
     },
     "execution_count": 237,
     "metadata": {},
     "output_type": "execute_result"
    }
   ],
   "source": [
    "list(a[-1::-1])"
   ]
  },
  {
   "cell_type": "code",
   "execution_count": 245,
   "id": "e7db9d9a",
   "metadata": {},
   "outputs": [
    {
     "data": {
      "text/plain": [
       "['p', 'o', 'o', 'j', 'a']"
      ]
     },
     "execution_count": 245,
     "metadata": {},
     "output_type": "execute_result"
    }
   ],
   "source": [
    "s=\"pooja\"\n",
    "s1=list(s)\n",
    "s1"
   ]
  },
  {
   "cell_type": "code",
   "execution_count": 246,
   "id": "4d5e3b6c",
   "metadata": {},
   "outputs": [
    {
     "data": {
      "text/plain": [
       "['pooja', 4, 4.65, ['abc', 7, 3.5], 'list', 'p', 'o', 'o', 'j', 'a']"
      ]
     },
     "execution_count": 246,
     "metadata": {},
     "output_type": "execute_result"
    }
   ],
   "source": [
    "l+s1"
   ]
  },
  {
   "cell_type": "code",
   "execution_count": 247,
   "id": "eb93fc3f",
   "metadata": {},
   "outputs": [
    {
     "ename": "TypeError",
     "evalue": "can only concatenate list (not \"str\") to list",
     "output_type": "error",
     "traceback": [
      "\u001b[1;31m---------------------------------------------------------------------------\u001b[0m",
      "\u001b[1;31mTypeError\u001b[0m                                 Traceback (most recent call last)",
      "\u001b[1;32m~\\AppData\\Local\\Temp/ipykernel_11068/1140923193.py\u001b[0m in \u001b[0;36m<module>\u001b[1;34m\u001b[0m\n\u001b[1;32m----> 1\u001b[1;33m \u001b[0ml\u001b[0m\u001b[1;33m+\u001b[0m\u001b[0ms\u001b[0m\u001b[1;33m\u001b[0m\u001b[1;33m\u001b[0m\u001b[0m\n\u001b[0m",
      "\u001b[1;31mTypeError\u001b[0m: can only concatenate list (not \"str\") to list"
     ]
    }
   ],
   "source": [
    "l+s"
   ]
  },
  {
   "cell_type": "code",
   "execution_count": 248,
   "id": "8f268816",
   "metadata": {},
   "outputs": [
    {
     "data": {
      "text/plain": [
       "['pooja', 4, 4.65, ['abc', 7, 3.5], 'list', 'pooja']"
      ]
     },
     "execution_count": 248,
     "metadata": {},
     "output_type": "execute_result"
    }
   ],
   "source": [
    "s=[\"pooja\"]\n",
    "l+s"
   ]
  },
  {
   "cell_type": "code",
   "execution_count": 249,
   "id": "76a9ee1b",
   "metadata": {},
   "outputs": [],
   "source": [
    "l.append(\"xyx\")"
   ]
  },
  {
   "cell_type": "code",
   "execution_count": 250,
   "id": "918c817c",
   "metadata": {},
   "outputs": [
    {
     "data": {
      "text/plain": [
       "['pooja', 4, 4.65, ['abc', 7, 3.5], 'list', 'xyx']"
      ]
     },
     "execution_count": 250,
     "metadata": {},
     "output_type": "execute_result"
    }
   ],
   "source": [
    "l"
   ]
  },
  {
   "cell_type": "code",
   "execution_count": 251,
   "id": "a40ee803",
   "metadata": {},
   "outputs": [
    {
     "data": {
      "text/plain": [
       "['pooja',\n",
       " 4,\n",
       " 4.65,\n",
       " ['abc', 7, 3.5],\n",
       " 'list',\n",
       " 'xyx',\n",
       " 'pooja',\n",
       " 4,\n",
       " 4.65,\n",
       " ['abc', 7, 3.5],\n",
       " 'list',\n",
       " 'xyx']"
      ]
     },
     "execution_count": 251,
     "metadata": {},
     "output_type": "execute_result"
    }
   ],
   "source": [
    "l*2"
   ]
  },
  {
   "cell_type": "code",
   "execution_count": 252,
   "id": "8cfa1df4",
   "metadata": {},
   "outputs": [
    {
     "data": {
      "text/plain": [
       "6"
      ]
     },
     "execution_count": 252,
     "metadata": {},
     "output_type": "execute_result"
    }
   ],
   "source": [
    "len(l)"
   ]
  },
  {
   "cell_type": "code",
   "execution_count": 253,
   "id": "c5f25a9a",
   "metadata": {},
   "outputs": [
    {
     "data": {
      "text/plain": [
       "True"
      ]
     },
     "execution_count": 253,
     "metadata": {},
     "output_type": "execute_result"
    }
   ],
   "source": [
    "\"pooja\"in l"
   ]
  },
  {
   "cell_type": "code",
   "execution_count": 254,
   "id": "06753e43",
   "metadata": {},
   "outputs": [
    {
     "data": {
      "text/plain": [
       "True"
      ]
     },
     "execution_count": 254,
     "metadata": {},
     "output_type": "execute_result"
    }
   ],
   "source": [
    "4 in l"
   ]
  },
  {
   "cell_type": "code",
   "execution_count": 256,
   "id": "7b81adb4",
   "metadata": {},
   "outputs": [
    {
     "data": {
      "text/plain": [
       "False"
      ]
     },
     "execution_count": 256,
     "metadata": {},
     "output_type": "execute_result"
    }
   ],
   "source": [
    "\"xyzx\" in l"
   ]
  },
  {
   "cell_type": "code",
   "execution_count": 23,
   "id": "8d79a758",
   "metadata": {},
   "outputs": [
    {
     "name": "stdout",
     "output_type": "stream",
     "text": [
      "-1 t\n",
      "-2 a\n",
      "-3 c\n",
      "-4  \n",
      "-5 s\n",
      "-6 i\n",
      "-7  \n",
      "-8 s\n",
      "-9 i\n",
      "-10 h\n",
      "-11 T\n"
     ]
    }
   ],
   "source": [
    "s=\"This is cat\"\n",
    "for i in range(1,len(s)+1):\n",
    "    print(-i ,s[-i])\n",
    "    #print(s[-i])"
   ]
  },
  {
   "cell_type": "code",
   "execution_count": 14,
   "id": "54abd913",
   "metadata": {},
   "outputs": [
    {
     "data": {
      "text/plain": [
       "[-1, 0, 1, 2, 3, 4, 5, 6, 7, 8, 9, 10]"
      ]
     },
     "execution_count": 14,
     "metadata": {},
     "output_type": "execute_result"
    }
   ],
   "source": [
    "list(range(-1,len(s)))"
   ]
  },
  {
   "cell_type": "code",
   "execution_count": 38,
   "id": "f818d1d3",
   "metadata": {
    "scrolled": true
   },
   "outputs": [
    {
     "name": "stdout",
     "output_type": "stream",
     "text": [
      "3\n",
      "4\n",
      "5\n",
      "6\n",
      "17\n",
      "18\n",
      "19\n",
      "20\n"
     ]
    }
   ],
   "source": [
    "s=\"my name is shared ,and name of the org is name  ineuron\"\n",
    "\n",
    "\n",
    "c1=s.index(\"name\")\n",
    "for i in range(len(\"name\")):\n",
    "    print(c1+i)\n",
    "c2=s[c1+i:len(s)].find(\"name\")\n",
    "for i in range(len(\"name\")):\n",
    "    print(c2+i)\n",
    "   \n"
   ]
  },
  {
   "cell_type": "code",
   "execution_count": 39,
   "id": "85869a6d",
   "metadata": {},
   "outputs": [
    {
     "data": {
      "text/plain": [
       "['pooj', ' d', 's']"
      ]
     },
     "execution_count": 39,
     "metadata": {},
     "output_type": "execute_result"
    }
   ],
   "source": [
    "s=\"pooja das\"\n",
    "s.split(\"a\")"
   ]
  },
  {
   "cell_type": "code",
   "execution_count": 48,
   "id": "68ab1bd7",
   "metadata": {},
   "outputs": [
    {
     "name": "stdout",
     "output_type": "stream",
     "text": [
      "['pooj', ' d', 's']\n",
      "['pooj', ' d', 's']\n"
     ]
    }
   ],
   "source": [
    "for i in range(len(s)):\n",
    "    if s[i]==\"a\":\n",
    "         print(s.split(\"a\"))  "
   ]
  },
  {
   "cell_type": "code",
   "execution_count": null,
   "id": "024b7be0",
   "metadata": {},
   "outputs": [],
   "source": []
  }
 ],
 "metadata": {
  "kernelspec": {
   "display_name": "Python 3 (ipykernel)",
   "language": "python",
   "name": "python3"
  },
  "language_info": {
   "codemirror_mode": {
    "name": "ipython",
    "version": 3
   },
   "file_extension": ".py",
   "mimetype": "text/x-python",
   "name": "python",
   "nbconvert_exporter": "python",
   "pygments_lexer": "ipython3",
   "version": "3.9.7"
  }
 },
 "nbformat": 4,
 "nbformat_minor": 5
}
