{
 "cells": [
  {
   "cell_type": "code",
   "execution_count": 1,
   "id": "aa24c2d6",
   "metadata": {},
   "outputs": [],
   "source": [
    "import os\n",
    "import logging\n",
    "class data:\n",
    "    \n",
    " \n",
    "    def __init__(self,file_name, file_type,date,size):\n",
    "        self.file_name=file_name\n",
    "        self.file_type=file_type\n",
    "        self.date=date\n",
    "        self.size=size\n",
    "        \n",
    "    def log(self,msg):\n",
    "        os.system('cls')\n",
    "        logging.getLogger().setLevel(logging.DEBUG)\n",
    "        ch=logging.StreamHandler()\n",
    "        formatter=logging.Formatter('%(asctime)s-%(levelname)s-%(message)s',datefmt='%d-%B-%y|%A|')\n",
    "        ch.setFormatter(formatter)\n",
    "        logging.getLogger().addHandler(ch)\n",
    "        logging.info(msg)\n",
    "        \n",
    "    def File_open(self):\n",
    "        \n",
    "        try:\n",
    "            file =  open(self.file_name+\".\"+self.file_type,\"w\")\n",
    "            file.write(\"Hello Python...........\")\n",
    "            \n",
    "        except Exception as e:\n",
    "            self.log(e)\n",
    "            \n",
    "    def File_read(self):\n",
    "        try:\n",
    "            file =  open(self.file_name+\".\"+self.file_type,\"r\")\n",
    "            file.seek(0)\n",
    "            self.log(file.read())\n",
    "            \n",
    "                \n",
    "            \n",
    "        except Exception as e:\n",
    "            self.log(e)\n",
    "    \n",
    "    def File_append(self):\n",
    "        try:\n",
    "            file =  open(self.file_name+\".\"+self.file_type,\"a\")\n",
    "            file.write(\"hii. test Hello Python\")\n",
    "            \n",
    "        except Exception as e:\n",
    "            self.log(e)\n"
   ]
  },
  {
   "cell_type": "code",
   "execution_count": 2,
   "id": "cf6b2a8c",
   "metadata": {},
   "outputs": [
    {
     "name": "stderr",
     "output_type": "stream",
     "text": [
      "14-June-22|Tuesday|-INFO-Hello Python...........\n"
     ]
    }
   ],
   "source": [
    "d=data(\"python\",\"txt\",\"25/9/2022\",52)\n",
    "d.File_open()\n",
    "d.File_read()\n",
    "d.File_append()\n",
    "# d.File_read()"
   ]
  },
  {
   "cell_type": "code",
   "execution_count": 3,
   "id": "623cdb14",
   "metadata": {},
   "outputs": [
    {
     "name": "stderr",
     "output_type": "stream",
     "text": [
      "14-June-22|Tuesday|-INFO-Hello Python...........hii. test Hello Python\n",
      "14-June-22|Tuesday|-INFO-Hello Python...........hii. test Hello Python\n"
     ]
    }
   ],
   "source": [
    "d.File_read()"
   ]
  },
  {
   "cell_type": "code",
   "execution_count": null,
   "id": "ffc57808",
   "metadata": {},
   "outputs": [],
   "source": [
    "import os\n",
    "import logging\n",
    "os.system('cls')\n",
    "logging.getLogger().setLevel(logging.DEBUG)\n",
    "ch=logging.StreamHandler()\n",
    "formatter=logging.Formatter('%(asctime)s-%(levelname)s-%(message)s',datefmt='%d-%B-%y|%A|')\n",
    "ch.setFormatter(formatter)\n",
    "logging.getLogger().addHandler(ch)\n",
    "# logging.getLogger().removeHandler(sys.stderr)\n",
    "logging.info(\"pooja\")\n",
    "\n",
    "\n",
    "\n"
   ]
  },
  {
   "cell_type": "code",
   "execution_count": null,
   "id": "79518512",
   "metadata": {},
   "outputs": [],
   "source": []
  },
  {
   "cell_type": "code",
   "execution_count": null,
   "id": "b5a2a2ac",
   "metadata": {},
   "outputs": [],
   "source": []
  }
 ],
 "metadata": {
  "kernelspec": {
   "display_name": "Python 3 (ipykernel)",
   "language": "python",
   "name": "python3"
  },
  "language_info": {
   "codemirror_mode": {
    "name": "ipython",
    "version": 3
   },
   "file_extension": ".py",
   "mimetype": "text/x-python",
   "name": "python",
   "nbconvert_exporter": "python",
   "pygments_lexer": "ipython3",
   "version": "3.9.7"
  }
 },
 "nbformat": 4,
 "nbformat_minor": 5
}
