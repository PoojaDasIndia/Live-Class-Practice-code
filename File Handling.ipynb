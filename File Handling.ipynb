{
 "cells": [
  {
   "cell_type": "code",
   "execution_count": 1,
   "id": "eb602a4b",
   "metadata": {},
   "outputs": [],
   "source": [
    "import os"
   ]
  },
  {
   "cell_type": "code",
   "execution_count": 3,
   "id": "0c0e4fa7",
   "metadata": {},
   "outputs": [
    {
     "data": {
      "text/plain": [
       "'C:\\\\Users\\\\HP\\\\Desktop\\\\Python\\\\Live Class Practice code'"
      ]
     },
     "execution_count": 3,
     "metadata": {},
     "output_type": "execute_result"
    }
   ],
   "source": [
    "os.getcwd()"
   ]
  },
  {
   "cell_type": "code",
   "execution_count": 4,
   "id": "7f4a7ba6",
   "metadata": {},
   "outputs": [
    {
     "data": {
      "text/plain": [
       "['.ipynb_checkpoints',\n",
       " 'Calendar.ipynb',\n",
       " 'conditional(if-elif-else),loop(while, for).ipynb',\n",
       " 'Date,Time Module.ipynb',\n",
       " 'File Handling.ipynb',\n",
       " 'Function,Iterator,Generator,File handling.ipynb',\n",
       " 'Function.ipynb',\n",
       " 'geek for geek practices.ipynb',\n",
       " 'geek practices.ipynb',\n",
       " 'lambda(),map(),filter(),reduce().ipynb',\n",
       " 'LIST COMPREHENSION.ipynb',\n",
       " 'List,tuple,dictionary.ipynb',\n",
       " 'Logfile.log',\n",
       " 'LOGGING',\n",
       " 'Logging ,Debugging.ipynb',\n",
       " 'mycal.html',\n",
       " 'New Text Document.txt',\n",
       " 'OS(Operating  System).ipynb',\n",
       " 'PYRAMID_PATTERN.ipynb',\n",
       " 'Python Enumerate and Zip Function.ipynb',\n",
       " 'python_basic_day0.ipynb',\n",
       " 'python_basic_day1.ipynb',\n",
       " 'sample_inpect.py',\n",
       " 'Task.log',\n",
       " 'Task1.log',\n",
       " 'Task2.log',\n",
       " 'Task2022-05-28_14-01-09_129493.log',\n",
       " 'Task2022-05-28_14-44-16_381529.log',\n",
       " 'Task2022-05-28_23-01-39_343918.log',\n",
       " 'Task2022-05-28_23-03-45_456088.log',\n",
       " 'Task3.log',\n",
       " 'tempCodeRunnerFile.py',\n",
       " 'Untitled.ipynb',\n",
       " '__pycache__']"
      ]
     },
     "execution_count": 4,
     "metadata": {},
     "output_type": "execute_result"
    }
   ],
   "source": [
    "os.listdir()"
   ]
  },
  {
   "cell_type": "code",
   "execution_count": 5,
   "id": "e0b42cf2",
   "metadata": {},
   "outputs": [],
   "source": [
    "f=open(\"New Text Document.txt\")"
   ]
  },
  {
   "cell_type": "code",
   "execution_count": 6,
   "id": "186df90f",
   "metadata": {},
   "outputs": [
    {
     "data": {
      "text/plain": [
       "_io.TextIOWrapper"
      ]
     },
     "execution_count": 6,
     "metadata": {},
     "output_type": "execute_result"
    }
   ],
   "source": [
    "type(f)"
   ]
  },
  {
   "cell_type": "code",
   "execution_count": 7,
   "id": "a6ced1a2",
   "metadata": {},
   "outputs": [
    {
     "name": "stdout",
     "output_type": "stream",
     "text": [
      "<_io.TextIOWrapper name='New Text Document.txt' mode='r' encoding='cp1252'>\n"
     ]
    }
   ],
   "source": [
    "print(f)"
   ]
  },
  {
   "cell_type": "code",
   "execution_count": 19,
   "id": "ddcfe82d",
   "metadata": {},
   "outputs": [
    {
     "name": "stdout",
     "output_type": "stream",
     "text": [
      "RegularExpression.text\n"
     ]
    }
   ],
   "source": [
    "for i in os.listdir():\n",
    "     if i.endswith(\"text\"):\n",
    "        print(i)"
   ]
  },
  {
   "cell_type": "code",
   "execution_count": 37,
   "id": "f146cb20",
   "metadata": {},
   "outputs": [],
   "source": [
    "f=open(\"RegularExpression.txt\",\"a\")"
   ]
  },
  {
   "cell_type": "code",
   "execution_count": 38,
   "id": "e6581b06",
   "metadata": {},
   "outputs": [
    {
     "data": {
      "text/plain": [
       "_io.TextIOWrapper"
      ]
     },
     "execution_count": 38,
     "metadata": {},
     "output_type": "execute_result"
    }
   ],
   "source": [
    "type(f)"
   ]
  },
  {
   "cell_type": "code",
   "execution_count": 39,
   "id": "14ed237e",
   "metadata": {},
   "outputs": [
    {
     "name": "stdout",
     "output_type": "stream",
     "text": [
      "<_io.TextIOWrapper name='RegularExpression.txt' mode='a' encoding='cp1252'>\n"
     ]
    }
   ],
   "source": [
    "print(f)"
   ]
  },
  {
   "cell_type": "code",
   "execution_count": 40,
   "id": "3a60ec2a",
   "metadata": {},
   "outputs": [
    {
     "data": {
      "text/plain": [
       "7"
      ]
     },
     "execution_count": 40,
     "metadata": {},
     "output_type": "execute_result"
    }
   ],
   "source": [
    "f.write(\"j=hello\")"
   ]
  },
  {
   "cell_type": "code",
   "execution_count": 41,
   "id": "b6d54d62",
   "metadata": {},
   "outputs": [
    {
     "data": {
      "text/plain": [
       "7"
      ]
     },
     "execution_count": 41,
     "metadata": {},
     "output_type": "execute_result"
    }
   ],
   "source": [
    "f.tell()"
   ]
  },
  {
   "cell_type": "code",
   "execution_count": 42,
   "id": "9991e07e",
   "metadata": {},
   "outputs": [],
   "source": [
    "f.close()"
   ]
  },
  {
   "cell_type": "code",
   "execution_count": 43,
   "id": "b10c93bb",
   "metadata": {},
   "outputs": [],
   "source": [
    "f=open(\"RegularExpression.txt\")"
   ]
  },
  {
   "cell_type": "code",
   "execution_count": 44,
   "id": "6cba32c1",
   "metadata": {},
   "outputs": [
    {
     "data": {
      "text/plain": [
       "'j=\\nre â€” Regular expression operations\\nSource code: Lib/re.py\\n\\nThis module provides regular expression matching operations similar to those found in Perl.\\n\\nBoth patterns and strings to be searched can be Unicode strings (str) as well as 8-bit strings (bytes). However, Unicode strings and 8-bit strings cannot be mixed: that is, you cannot match a Unicode string with a byte pattern or vice-versa; similarly, when asking for a substitution, the replacement string must be of the same type as both the pattern and the search string.\\n\\nRegular expressions use the backslash character (\\'\\\\\\') to indicate special forms or to allow special characters to be used without invoking their special meaning. This collides with Pythonâ€™s usage of the same character for the same purpose in string literals; for example, to match a literal backslash, one might have to write \\'\\\\\\\\\\\\\\\\\\' as the pattern string, because the regular expression must be \\\\\\\\, and each backslash must be expressed as \\\\\\\\ inside a regular Python string literal. Also, please note that any invalid escape sequences in Pythonâ€™s usage of the backslash in string literals now generate a DeprecationWarning and in the future this will become a SyntaxError. This behaviour will happen even if it is a valid escape sequence for a regular expression.\\n\\nThe solution is to use Pythonâ€™s raw string notation for regular expression patterns; backslashes are not handled in any special way in a string literal prefixed with \\'r\\'. So r\"\\\\n\" is a two-character string containing \\'\\\\\\' and \\'n\\', while \"\\\\n\" is a one-character string containing a newline. Usually patterns will be expressed in Python code using this raw string notation.\\n\\nIt is important to note that most regular expression operations are available as module-level functions and methods on compiled regular expressions. The functions are shortcuts that donâ€™t require you to compile a regex object first, but miss some fine-tuning parameters.\\n\\nSee also The third-party regex module, which has an API compatible with the standard library re module, but offers additional functionality and a more thorough Unicode support.\\nRegular Expression Syntax\\nA regular expression (or RE) specifies a set of strings that matches it; the functions in this module let you check if a particular string matches a given regular expression (or if a given regular expression m'"
      ]
     },
     "execution_count": 44,
     "metadata": {},
     "output_type": "execute_result"
    }
   ],
   "source": [
    "f.read()"
   ]
  },
  {
   "cell_type": "code",
   "execution_count": 45,
   "id": "fc452c09",
   "metadata": {},
   "outputs": [
    {
     "data": {
      "text/plain": [
       "''"
      ]
     },
     "execution_count": 45,
     "metadata": {},
     "output_type": "execute_result"
    }
   ],
   "source": [
    "f.read()"
   ]
  },
  {
   "cell_type": "code",
   "execution_count": 46,
   "id": "47d8003b",
   "metadata": {},
   "outputs": [
    {
     "data": {
      "text/plain": [
       "2362"
      ]
     },
     "execution_count": 46,
     "metadata": {},
     "output_type": "execute_result"
    }
   ],
   "source": [
    "f.tell()"
   ]
  },
  {
   "cell_type": "code",
   "execution_count": 47,
   "id": "1a22cc89",
   "metadata": {},
   "outputs": [
    {
     "data": {
      "text/plain": [
       "0"
      ]
     },
     "execution_count": 47,
     "metadata": {},
     "output_type": "execute_result"
    }
   ],
   "source": [
    "f.seek(0)"
   ]
  },
  {
   "cell_type": "code",
   "execution_count": 48,
   "id": "3e675e6c",
   "metadata": {},
   "outputs": [
    {
     "data": {
      "text/plain": [
       "'j=\\nre â€” '"
      ]
     },
     "execution_count": 48,
     "metadata": {},
     "output_type": "execute_result"
    }
   ],
   "source": [
    "f.read(10)"
   ]
  },
  {
   "cell_type": "code",
   "execution_count": 53,
   "id": "48e0b709",
   "metadata": {},
   "outputs": [
    {
     "name": "stdout",
     "output_type": "stream",
     "text": [
      "j=\n",
      "re â€” Regular expression operations\n",
      "Source code: Lib/re.py\n",
      "\n",
      "This module provides regular expression matching operations similar to those found in Perl.\n",
      "\n",
      "Both patterns and strings to be searched can be Unicode strings (str) as well as 8-bit strings (bytes). However, Unicode strings and 8-bit strings cannot be mixed: that is, you cannot match a Unicode string with a byte pattern or vice-versa; similarly, when asking for a substitution, the replacement string must be of the same type as both the pattern and the search string.\n",
      "\n",
      "Regular expressions use the backslash character ('\\') to indicate special forms or to allow special characters to be used without invoking their special meaning. This collides with Pythonâ€™s usage of the same character for the same purpose in string literals; for example, to match a literal backslash, one might have to write '\\\\\\\\' as the pattern string, because the regular expression must be \\\\, and each backslash must be expressed as \\\\ inside a regular Pytho\n"
     ]
    }
   ],
   "source": [
    "f.seek(0)\n",
    "print(f.read(1000),sep=\"\\n\")"
   ]
  },
  {
   "cell_type": "code",
   "execution_count": 54,
   "id": "3ae99d17",
   "metadata": {},
   "outputs": [
    {
     "data": {
      "text/plain": [
       "'j=\\n'"
      ]
     },
     "execution_count": 54,
     "metadata": {},
     "output_type": "execute_result"
    }
   ],
   "source": [
    "f.seek(0)\n",
    "f.readline()"
   ]
  },
  {
   "cell_type": "code",
   "execution_count": 57,
   "id": "7d020b4c",
   "metadata": {},
   "outputs": [
    {
     "data": {
      "text/plain": [
       "'\\n'"
      ]
     },
     "execution_count": 57,
     "metadata": {},
     "output_type": "execute_result"
    }
   ],
   "source": [
    "f.readline()"
   ]
  },
  {
   "cell_type": "code",
   "execution_count": 58,
   "id": "d8a8efca",
   "metadata": {},
   "outputs": [
    {
     "data": {
      "text/plain": [
       "['This module provides regular expression matching operations similar to those found in Perl.\\n',\n",
       " '\\n',\n",
       " 'Both patterns and strings to be searched can be Unicode strings (str) as well as 8-bit strings (bytes). However, Unicode strings and 8-bit strings cannot be mixed: that is, you cannot match a Unicode string with a byte pattern or vice-versa; similarly, when asking for a substitution, the replacement string must be of the same type as both the pattern and the search string.\\n',\n",
       " '\\n',\n",
       " \"Regular expressions use the backslash character ('\\\\') to indicate special forms or to allow special characters to be used without invoking their special meaning. This collides with Pythonâ€™s usage of the same character for the same purpose in string literals; for example, to match a literal backslash, one might have to write '\\\\\\\\\\\\\\\\' as the pattern string, because the regular expression must be \\\\\\\\, and each backslash must be expressed as \\\\\\\\ inside a regular Python string literal. Also, please note that any invalid escape sequences in Pythonâ€™s usage of the backslash in string literals now generate a DeprecationWarning and in the future this will become a SyntaxError. This behaviour will happen even if it is a valid escape sequence for a regular expression.\\n\",\n",
       " '\\n',\n",
       " 'The solution is to use Pythonâ€™s raw string notation for regular expression patterns; backslashes are not handled in any special way in a string literal prefixed with \\'r\\'. So r\"\\\\n\" is a two-character string containing \\'\\\\\\' and \\'n\\', while \"\\\\n\" is a one-character string containing a newline. Usually patterns will be expressed in Python code using this raw string notation.\\n',\n",
       " '\\n',\n",
       " 'It is important to note that most regular expression operations are available as module-level functions and methods on compiled regular expressions. The functions are shortcuts that donâ€™t require you to compile a regex object first, but miss some fine-tuning parameters.\\n',\n",
       " '\\n',\n",
       " 'See also The third-party regex module, which has an API compatible with the standard library re module, but offers additional functionality and a more thorough Unicode support.\\n',\n",
       " 'Regular Expression Syntax\\n',\n",
       " 'A regular expression (or RE) specifies a set of strings that matches it; the functions in this module let you check if a particular string matches a given regular expression (or if a given regular expression m']"
      ]
     },
     "execution_count": 58,
     "metadata": {},
     "output_type": "execute_result"
    }
   ],
   "source": [
    "f.readlines()"
   ]
  },
  {
   "cell_type": "code",
   "execution_count": 59,
   "id": "2691ea0b",
   "metadata": {},
   "outputs": [
    {
     "data": {
      "text/plain": [
       "['.ipynb_checkpoints',\n",
       " 'Calendar.ipynb',\n",
       " 'conditional(if-elif-else),loop(while, for).ipynb',\n",
       " 'Date,Time Module.ipynb',\n",
       " 'File Handling.ipynb',\n",
       " 'Function,Iterator,Generator,File handling.ipynb',\n",
       " 'Function.ipynb',\n",
       " 'geek for geek practices.ipynb',\n",
       " 'geek practices.ipynb',\n",
       " 'lambda(),map(),filter(),reduce().ipynb',\n",
       " 'LIST COMPREHENSION.ipynb',\n",
       " 'List,tuple,dictionary.ipynb',\n",
       " 'Logfile.log',\n",
       " 'LOGGING',\n",
       " 'Logging ,Debugging.ipynb',\n",
       " 'mycal.html',\n",
       " 'New Text Document.txt',\n",
       " 'OS(Operating  System).ipynb',\n",
       " 'PYRAMID_PATTERN.ipynb',\n",
       " 'Python Enumerate and Zip Function.ipynb',\n",
       " 'python_basic_day0.ipynb',\n",
       " 'python_basic_day1.ipynb',\n",
       " 'RegularExpression.text',\n",
       " 'RegularExpression.txt',\n",
       " 'sample_inpect.py',\n",
       " 'Task.log',\n",
       " 'Task1.log',\n",
       " 'Task2.log',\n",
       " 'Task2022-05-28_14-01-09_129493.log',\n",
       " 'Task2022-05-28_14-44-16_381529.log',\n",
       " 'Task2022-05-28_23-01-39_343918.log',\n",
       " 'Task2022-05-28_23-03-45_456088.log',\n",
       " 'Task3.log',\n",
       " 'tempCodeRunnerFile.py',\n",
       " 'Untitled.ipynb',\n",
       " 'Untitled1.ipynb',\n",
       " '__pycache__']"
      ]
     },
     "execution_count": 59,
     "metadata": {},
     "output_type": "execute_result"
    }
   ],
   "source": [
    "os.listdir()"
   ]
  },
  {
   "cell_type": "code",
   "execution_count": 2,
   "id": "ba1ba6cb",
   "metadata": {},
   "outputs": [],
   "source": [
    "os.remove('New Text Document.txt')"
   ]
  },
  {
   "cell_type": "code",
   "execution_count": 4,
   "id": "08107e52",
   "metadata": {},
   "outputs": [],
   "source": [
    "os.remove(\"RegularExpression.text\")"
   ]
  },
  {
   "cell_type": "code",
   "execution_count": 6,
   "id": "d8dc6191",
   "metadata": {},
   "outputs": [
    {
     "data": {
      "text/plain": [
       "['.ipynb_checkpoints',\n",
       " 'Calendar.ipynb',\n",
       " 'conditional(if-elif-else),loop(while, for).ipynb',\n",
       " 'Date,Time Module.ipynb',\n",
       " 'File Handling.ipynb',\n",
       " 'Function,Iterator,Generator,File handling.ipynb',\n",
       " 'Function.ipynb',\n",
       " 'geek for geek practices.ipynb',\n",
       " 'geek practices.ipynb',\n",
       " 'lambda(),map(),filter(),reduce().ipynb',\n",
       " 'LIST COMPREHENSION.ipynb',\n",
       " 'List,tuple,dictionary.ipynb',\n",
       " 'Logfile.log',\n",
       " 'LOGGING',\n",
       " 'Logging ,Debugging.ipynb',\n",
       " 'mycal.html',\n",
       " 'OS(Operating  System).ipynb',\n",
       " 'PYRAMID_PATTERN.ipynb',\n",
       " 'Python Enumerate and Zip Function.ipynb',\n",
       " 'python_basic_day0.ipynb',\n",
       " 'python_basic_day1.ipynb',\n",
       " 'RegularExpression.txt',\n",
       " 'sample_inpect.py',\n",
       " 'Task.log',\n",
       " 'Task1.log',\n",
       " 'Task2.log',\n",
       " 'Task2022-05-28_14-01-09_129493.log',\n",
       " 'Task2022-05-28_14-44-16_381529.log',\n",
       " 'Task2022-05-28_23-01-39_343918.log',\n",
       " 'Task2022-05-28_23-03-45_456088.log',\n",
       " 'Task3.log',\n",
       " 'tempCodeRunnerFile.py',\n",
       " 'Untitled.ipynb',\n",
       " 'Untitled1.ipynb',\n",
       " '__pycache__']"
      ]
     },
     "execution_count": 6,
     "metadata": {},
     "output_type": "execute_result"
    }
   ],
   "source": [
    "os.listdir()"
   ]
  },
  {
   "cell_type": "code",
   "execution_count": null,
   "id": "21214b3a",
   "metadata": {},
   "outputs": [],
   "source": []
  }
 ],
 "metadata": {
  "kernelspec": {
   "display_name": "Python 3 (ipykernel)",
   "language": "python",
   "name": "python3"
  },
  "language_info": {
   "codemirror_mode": {
    "name": "ipython",
    "version": 3
   },
   "file_extension": ".py",
   "mimetype": "text/x-python",
   "name": "python",
   "nbconvert_exporter": "python",
   "pygments_lexer": "ipython3",
   "version": "3.9.7"
  }
 },
 "nbformat": 4,
 "nbformat_minor": 5
}
