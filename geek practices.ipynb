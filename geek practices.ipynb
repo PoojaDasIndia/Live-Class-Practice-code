{
 "cells": [
  {
   "cell_type": "code",
   "execution_count": 47,
   "id": "56d8d1f7",
   "metadata": {},
   "outputs": [
    {
     "name": "stdout",
     "output_type": "stream",
     "text": [
      "[7, 4, 8, 0, 1, 9, 7, 2, 3, 6]\n",
      "[7, 4, 8, 0, 1, 9, 2, 3, 6]\n",
      "9\n",
      "{9: 0}\n",
      "{9: 0, 8: 0}\n",
      "{9: 0, 8: 0, 7: 0}\n",
      "{9: 0, 8: 0, 7: 0, 6: 0}\n",
      "{9: 0, 8: 0, 7: 0, 6: 0, 4: 0}\n",
      "[9, 7, 6, 4, 8]\n"
     ]
    }
   ],
   "source": [
    "\n",
    "arr1=[7, 4, 8, 0, 1]\n",
    "arr2=[9, 7, 2, 3, 6]\n",
    "n=5\n",
    "arr3 = arr1 + arr2\n",
    "print(arr3)\n",
    "arr3 = list(dict.fromkeys(arr3))\n",
    "print(arr3)\n",
    "arr3.sort(reverse=True)\n",
    "print(len(arr3))\n",
    "temp = {}\n",
    "for i in range(min(n,len(arr3))):\n",
    "    temp[arr3[i]] = 0\n",
    "    print(temp)\n",
    "for i in range(len(arr2)):\n",
    "    if arr2[i] in temp and temp[arr2[i]]==0:\n",
    "        temp[arr2[i]] = i+1\n",
    "r_temp={}\n",
    "for i in temp:\n",
    "    if temp[i]>0:\n",
    "        r_temp[i]=temp[i]\n",
    "r_temp = sorted(r_temp.items(), key=lambda x: x[1])\n",
    "ans=[]\n",
    "for i in r_temp:\n",
    "    ans.append(i[0])\n",
    "r_temp.clear()\n",
    "r_temp={}\n",
    "for i in range(len(arr1)):\n",
    "    if arr1[i] in temp and temp[arr1[i]]==0:\n",
    "        temp[arr1[i]]+=1\n",
    "        r_temp[arr1[i]]=i+1\n",
    "r_temp=sorted(r_temp.items(),key=lambda x:x[1])\n",
    "for i in r_temp:\n",
    "    ans.append(i[0])\n",
    "print(ans)\n"
   ]
  },
  {
   "cell_type": "code",
   "execution_count": 2,
   "id": "dc4365a1",
   "metadata": {},
   "outputs": [
    {
     "data": {
      "text/plain": [
       "'Hello World'"
      ]
     },
     "execution_count": 2,
     "metadata": {},
     "output_type": "execute_result"
    }
   ],
   "source": [
    "txt = \" Hello World \"\n",
    "txt.strip()"
   ]
  },
  {
   "cell_type": "code",
   "execution_count": 4,
   "id": "7c226e6e",
   "metadata": {},
   "outputs": [
    {
     "name": "stdout",
     "output_type": "stream",
     "text": [
      "My name is John, and I am 36\n"
     ]
    }
   ],
   "source": [
    "age = 36\n",
    "txt = \"My name is John, and I am {}\"\n",
    "print(txt.format(age))"
   ]
  },
  {
   "cell_type": "code",
   "execution_count": 88,
   "id": "75bf54d9",
   "metadata": {},
   "outputs": [
    {
     "ename": "SyntaxError",
     "evalue": "closing parenthesis ')' does not match opening parenthesis '{' (Temp/ipykernel_9148/480518753.py, line 1)",
     "output_type": "error",
     "traceback": [
      "\u001b[1;36m  File \u001b[1;32m\"C:\\Users\\HP\\AppData\\Local\\Temp/ipykernel_9148/480518753.py\"\u001b[1;36m, line \u001b[1;32m1\u001b[0m\n\u001b[1;33m    l=tuple({{\"id\":1,\"date\":\"20/5/2022\"},{\"id\":1,\"date\":\"19/5/2022\"})})\u001b[0m\n\u001b[1;37m                                                                    ^\u001b[0m\n\u001b[1;31mSyntaxError\u001b[0m\u001b[1;31m:\u001b[0m closing parenthesis ')' does not match opening parenthesis '{'\n"
     ]
    }
   ],
   "source": [
    "l=tuple({{\"id\":1,\"date\":\"20/5/2022\"},{\"id\":1,\"date\":\"19/5/2022\"})})\n",
    "l[1]\n"
   ]
  },
  {
   "cell_type": "code",
   "execution_count": 24,
   "id": "ec6f1306",
   "metadata": {},
   "outputs": [
    {
     "data": {
      "text/plain": [
       "{'apple', 'banana', 'cherry', 'grapes', 'mango', 'orange'}"
      ]
     },
     "execution_count": 24,
     "metadata": {},
     "output_type": "execute_result"
    }
   ],
   "source": [
    "fruits = {\"apple\", \"banana\", \"cherry\"}\n",
    "more_fruits = [\"orange\", \"mango\", \"grapes\"]\n",
    "\n",
    "fruits.update(more_fruits)\n",
    "fruits"
   ]
  },
  {
   "cell_type": "code",
   "execution_count": 10,
   "id": "a210359b",
   "metadata": {},
   "outputs": [
    {
     "data": {
      "text/plain": [
       "3"
      ]
     },
     "execution_count": 10,
     "metadata": {},
     "output_type": "execute_result"
    }
   ],
   "source": [
    "import math\n",
    "math.ceil(5/2)"
   ]
  },
  {
   "cell_type": "code",
   "execution_count": 124,
   "id": "11613606",
   "metadata": {},
   "outputs": [
    {
     "name": "stdout",
     "output_type": "stream",
     "text": [
      "3\n",
      "4\n",
      "['A']\n",
      "['A', 'B']\n",
      "['A', 'B', 'C', 'A', 'B']\n",
      "['A', 'B', 'C', 'A', 'B', 'C', 'A']\n"
     ]
    }
   ],
   "source": [
    "from math import pow\n",
    "  \n",
    "def printSubsequences(str):\n",
    "    n = len(str)\n",
    "    l=[]\n",
    "    print(n)\n",
    "    opsize = int(pow(2, n - 1))\n",
    "    print(opsize)\n",
    "#     t=[str[j] for counter in range(opsize-1,-1,-1) for j in range(n) if((counter & (1 << j)) > 0) ]\n",
    "#     print(t)\n",
    "    for counter in range(opsize-1,-1,-1):\n",
    "  \n",
    "         for j in range(n):\n",
    "            l.append(str[j])\n",
    "#             print(str[j],end=\"\")\n",
    "            if((counter & (1 << j)) > 0):\n",
    "#                 l.append(\" \")\n",
    "#                 print(\" \", end =\"\")\n",
    "  \n",
    "#          l.append(\"\")\n",
    "                    print(l)\n",
    "  \n",
    "# Driver code\n",
    "if __name__ == '__main__':\n",
    "    str = \"ABC\"\n",
    "    printSubsequences(str)"
   ]
  },
  {
   "cell_type": "code",
   "execution_count": 4,
   "id": "6755b446",
   "metadata": {},
   "outputs": [
    {
     "ename": "NameError",
     "evalue": "name 'solution' is not defined",
     "output_type": "error",
     "traceback": [
      "\u001b[1;31m---------------------------------------------------------------------------\u001b[0m",
      "\u001b[1;31mNameError\u001b[0m                                 Traceback (most recent call last)",
      "\u001b[1;32m~\\AppData\\Local\\Temp/ipykernel_9552/1324103495.py\u001b[0m in \u001b[0;36m<module>\u001b[1;34m\u001b[0m\n\u001b[0;32m     16\u001b[0m         \u001b[1;32mreturn\u001b[0m \u001b[0mans\u001b[0m\u001b[1;33m\u001b[0m\u001b[1;33m\u001b[0m\u001b[0m\n\u001b[0;32m     17\u001b[0m \u001b[0ms\u001b[0m\u001b[1;33m=\u001b[0m\u001b[1;33m[\u001b[0m\u001b[1;34m\"a\"\u001b[0m\u001b[1;33m,\u001b[0m\u001b[1;34m\"b\"\u001b[0m\u001b[1;33m,\u001b[0m\u001b[1;34m\"c\"\u001b[0m\u001b[1;33m,\u001b[0m\u001b[1;34m\"d\"\u001b[0m\u001b[1;33m]\u001b[0m\u001b[1;33m\u001b[0m\u001b[1;33m\u001b[0m\u001b[0m\n\u001b[1;32m---> 18\u001b[1;33m \u001b[0monj\u001b[0m\u001b[1;33m=\u001b[0m\u001b[0msolution\u001b[0m\u001b[1;33m(\u001b[0m\u001b[1;33m)\u001b[0m\u001b[1;33m\u001b[0m\u001b[1;33m\u001b[0m\u001b[0m\n\u001b[0m\u001b[0;32m     19\u001b[0m \u001b[0mprint\u001b[0m\u001b[1;33m(\u001b[0m\u001b[0monj\u001b[0m\u001b[1;33m.\u001b[0m\u001b[0mpermulation\u001b[0m\u001b[1;33m(\u001b[0m\u001b[0ms\u001b[0m\u001b[1;33m)\u001b[0m\u001b[1;33m)\u001b[0m\u001b[1;33m\u001b[0m\u001b[1;33m\u001b[0m\u001b[0m\n",
      "\u001b[1;31mNameError\u001b[0m: name 'solution' is not defined"
     ]
    }
   ],
   "source": [
    "\n",
    "def permutation (self, S):\n",
    "    n =  len(S)\n",
    "    ans = []\n",
    "        if n == 1:\n",
    "            return [S]\n",
    "        def util(index, op):\n",
    "            if index == n - 1:\n",
    "                op = op + S[index]\n",
    "                ans.append(op)\n",
    "                return\n",
    "            util(index + 1,op + S[index])\n",
    "            util(index + 1,op + S[index] + \" \")\n",
    "        util(0,\"\")\n",
    "        ans.sort()\n",
    "        return ans\n",
    "s=[\"a\",\"b\",\"c\",\"d\"]    \n",
    "onj=solution()\n",
    "print(onj.permulation(s))"
   ]
  },
  {
   "cell_type": "code",
   "execution_count": 104,
   "id": "fc9a3e37",
   "metadata": {},
   "outputs": [
    {
     "data": {
      "text/plain": [
       "[3, 2, 1, 0]"
      ]
     },
     "execution_count": 104,
     "metadata": {},
     "output_type": "execute_result"
    }
   ],
   "source": [
    "list(range(3,-1,-1))"
   ]
  },
  {
   "cell_type": "code",
   "execution_count": 82,
   "id": "74f98ca1",
   "metadata": {},
   "outputs": [
    {
     "name": "stdout",
     "output_type": "stream",
     "text": [
      "ABC\n",
      "A BC\n",
      "AB C\n",
      "A B C\n"
     ]
    }
   ],
   "source": [
    "from math import pow\n",
    "  \n",
    "def printSubsequences(str):\n",
    "    n = len(str)\n",
    "    opsize = int(pow(2, n - 1))\n",
    "  \n",
    "    for counter in range(opsize):\n",
    "        for j in range(n):\n",
    "            print(str[j], end = \"\")\n",
    "            if() (counter & (1 << j))):\n",
    "                print(\" \", end = \"\")\n",
    "  \n",
    "        print(\"\\n\", end = \"\")\n",
    "  \n",
    "# Driver code\n",
    "if __name__ == '__main__':\n",
    "    str = \"ABC\"\n",
    "    printSubsequences(str)"
   ]
  },
  {
   "cell_type": "code",
   "execution_count": 71,
   "id": "be3ce42f",
   "metadata": {},
   "outputs": [
    {
     "name": "stdout",
     "output_type": "stream",
     "text": [
      "\n",
      "a\n",
      "b\n",
      "ab\n",
      "c\n",
      "ac\n",
      "bc\n",
      "abc\n"
     ]
    }
   ],
   "source": [
    "import math\n",
    "def printPowerSet(set,set_size):\n",
    "     \n",
    "    # set_size of power set of a set\n",
    "    # with set_size n is (2**n -1)\n",
    "    pow_set_size = (int) (math.pow(2, set_size));\n",
    "    counter = 0;\n",
    "    j = 0;\n",
    "    l=\"\" \n",
    "    # Run from counter 000..0 to 111..1\n",
    "    for counter in range(0, pow_set_size):\n",
    "        for j in range(0, set_size):\n",
    "             \n",
    "            # Check if jth bit in the\n",
    "            # counter is set If set then\n",
    "            # print jth element from set\n",
    "            if((counter & (1 << j)) > 0):\n",
    "                \n",
    "                print(set[j], end = \"\");\n",
    "        print(\"\");\n",
    "        \n",
    "# Driver program to test printPowerSet\n",
    "set = ['a', 'b', 'c'];\n",
    "printPowerSet(set, 3);"
   ]
  },
  {
   "cell_type": "code",
   "execution_count": null,
   "id": "9169d4ef",
   "metadata": {},
   "outputs": [],
   "source": [
    "class Solution:\n",
    "    \n",
    "    def isPalindrome(self, S):\n",
    "       # code here\n",
    "        if S == S[-1::-1]:\n",
    "            return 1\n",
    "        else:\n",
    "             return 0\n",
    "\n",
    "#{ \n",
    "#  Driver Code Starts\n",
    "#Initial Template for Python 3\n",
    "\n",
    "if __name__ == '__main__':\n",
    "    T=int(input())\n",
    "    for i in range(T):\n",
    "        S = input()\n",
    "        ob = Solution()\n",
    "        answer = ob.isPalindrome(S)\n",
    "        print(answer)"
   ]
  },
  {
   "cell_type": "code",
   "execution_count": null,
   "id": "79af7ba9",
   "metadata": {},
   "outputs": [],
   "source": [
    "S=\"nitin\"\n",
    "S==S[-1::-1]\n"
   ]
  },
  {
   "cell_type": "code",
   "execution_count": 91,
   "id": "5e3a74ca",
   "metadata": {},
   "outputs": [
    {
     "name": "stdout",
     "output_type": "stream",
     "text": [
      "1\n",
      "2 2\n",
      "1 2\n",
      "3 4\n",
      "3\n",
      "[1, 2]\n",
      "6\n"
     ]
    }
   ],
   "source": [
    "#User function Template for python3\n",
    "\n",
    "class Solution:\n",
    "    def nthItem(self, L1, L2, A, B, N):\n",
    "        # code here\n",
    "      \n",
    "        print(A)\n",
    "        ans = []\n",
    "        for i in range(L1):\n",
    "            for j in range(L2):\n",
    "                ans.append(A[i]+B[j])\n",
    "                # make set for make it unique than again make it list and sorted\n",
    "                ans=sorted(list(set(ans)))\n",
    "                     \n",
    "                \n",
    "#cheaking the length if greater than set return -1 else return nth element of set\n",
    "        if N> len(ans):\n",
    "            return -1\n",
    "        else:\n",
    "             return ans[N-1]\n",
    "\n",
    "      \n",
    "       \n",
    "\n",
    "#{ \n",
    "#  Driver Code Starts\n",
    "#Initial Template for Python 3\n",
    "\n",
    "if __name__ == '__main__':\n",
    "    t = int(input())\n",
    "    for _ in range(t):\n",
    "        L1, L2 = [int(x) for x in input().split()]\n",
    "        A = input().split()\n",
    "        for itr in range(L1):\n",
    "            A[itr] = int(A[itr])\n",
    "        B = input().split()\n",
    "        for it in range(L2):\n",
    "            B[it] = int(B[it])\n",
    "        N = int(input())\n",
    "        ob = Solution()\n",
    "        print(ob.nthItem(L1, L2, A, B, N))\n",
    "        \n",
    "# } Driver Code Ends"
   ]
  },
  {
   "cell_type": "code",
   "execution_count": 6,
   "id": "a0914307",
   "metadata": {},
   "outputs": [
    {
     "name": "stdout",
     "output_type": "stream",
     "text": [
      "1\n",
      "3\n",
      "[3]\n"
     ]
    }
   ],
   "source": [
    "t = int(input())\n",
    "for _ in range(t):\n",
    "    L1 = [int(x) for x in input().split()]\n",
    "    print(L1)"
   ]
  },
  {
   "cell_type": "code",
   "execution_count": null,
   "id": "c6ab2aef",
   "metadata": {},
   "outputs": [],
   "source": [
    "if __name__ == '__main__':\n",
    "    T=int(input())\n",
    "    for i in range(T):\n",
    "        L1,L2 = [int(x) for x in input().split()]\n",
    "        print(L1,L2)\n",
    "        A = input().split()\n",
    "        for itr in range(L1):\n",
    "            A[itr] = int(A[itr])\n",
    "            print(A[itr])\n",
    "        B = input().split()\n",
    "        for it in range(L2):\n",
    "            B[it] = int(B[it])\n",
    "            print(B[it])\n",
    "\n"
   ]
  },
  {
   "cell_type": "code",
   "execution_count": null,
   "id": "29a0c7ee",
   "metadata": {},
   "outputs": [],
   "source": [
    "for x in input().split():\n",
    "    int(x)"
   ]
  },
  {
   "cell_type": "code",
   "execution_count": null,
   "id": "3f960c09",
   "metadata": {},
   "outputs": [],
   "source": [
    "rom math import prod\n",
    "\n",
    "w = prod(int(x) for x in input().split())\n",
    "print(w)"
   ]
  },
  {
   "cell_type": "code",
   "execution_count": null,
   "id": "cc1d057f",
   "metadata": {},
   "outputs": [],
   "source": [
    "L1,L2 = [int(x) for x in input().split()]"
   ]
  },
  {
   "cell_type": "code",
   "execution_count": null,
   "id": "ac291043",
   "metadata": {},
   "outputs": [],
   "source": [
    "A = [1, 3, 4, 8, 10]\n",
    "B = [20, 22, 30, 40]\n",
    "N = 4\n",
    "\n",
    "ans = []\n",
    "for i in range(5):\n",
    "    for j in range(4):\n",
    "        ans.append(A[i]+B[j])\n",
    "        ans=sorted(list(set(ans)))\n",
    "# if N>len(ans):\n",
    "#     print(\"list index out of range,nth is greater thn length \")\n",
    "# else :\n",
    "#     print(ans[N-1])\n",
    "                    \n",
    "print(ans)           \n",
    "    \n",
    "\n"
   ]
  },
  {
   "cell_type": "code",
   "execution_count": null,
   "id": "c04c5f34",
   "metadata": {},
   "outputs": [],
   "source": [
    "lt1 = [5, 10, 15, 20, 25, 30]  \n",
    "lt2 = [2, 4, 6, 8, 10, 12]  \n",
    "  \n",
    "# print the original list element  \n",
    "print ( \" Python Original list 1: \" + str (lt1))  \n",
    "print ( \"Python Original list 2: \" + str (lt2))  \n",
    "  \n",
    "# use naive method to add two list.  \n",
    "res_lt = [] # declaration of the list  \n",
    "for x in range (0, len (lt1)):  #6\n",
    "    res_lt.append( lt1[x] + lt2[x])  \n",
    "  \n",
    "# Display the sum of two list in Python  \n",
    "print ( \" Addition of the list lt1 and lt2 is: \" + str (res_lt))"
   ]
  },
  {
   "cell_type": "code",
   "execution_count": null,
   "id": "98f7a432",
   "metadata": {},
   "outputs": [],
   "source": [
    "L1=6\n",
    "L1\n",
    "B=[2, 4, 6, 8, 10, 12]\n",
    "A=[5, 10, 15, 20, 25, 30]\n",
    "ans = []\n",
    "for i in range(L1):\n",
    "            # for j in range(L2):\n",
    "    ans.append(A[i] + B[i])\n",
    "                # make set for make it unique than again make it list and sorted\n",
    "    ans=sorted(list(set(ans)))\n",
    "    print(ans)"
   ]
  },
  {
   "cell_type": "code",
   "execution_count": null,
   "id": "d1218190",
   "metadata": {},
   "outputs": [],
   "source": [
    "ans=[4, 5, 6]\n",
    "len(ans)\n",
    "ans[3]"
   ]
  },
  {
   "cell_type": "code",
   "execution_count": null,
   "id": "637db0e0",
   "metadata": {},
   "outputs": [],
   "source": [
    "# Storing of all sum values in 'ans' is done.\n",
    "        # Now lets remove duplicacy by making it as set.\n",
    "        # For getting Nth value we will make 'ans' as list.\n",
    "        # Before getting Nth value, we will sort the list.\n",
    "\n",
    "\n",
    "        ans=sorted(list(set(ans)))\n",
    "\n",
    "'''    \n",
    "If Nth value is more than length of 'ans' then we will get error hence I wrote if I get error return -1 ('except' part) otherwise return our required answer ('try' part).\n",
    "'''\n",
    "        \n",
    "\n",
    "        try:\n",
    "            return ans[N-1]\n",
    "        except:\n",
    "            return -1+1"
   ]
  },
  {
   "cell_type": "code",
   "execution_count": null,
   "id": "0c2f3b12",
   "metadata": {},
   "outputs": [],
   "source": [
    "#User function Template for python3\n",
    "\n",
    "class Solution:\n",
    "    def nthItem(self, L1, L2, A, B, N):\n",
    "        # code here\n",
    "        \n",
    "        ans = []\n",
    "        \n",
    "#         for i,j in range(L1*L2):\n",
    "        ans=[(A[i] + B[j]) for i in range(L1) for j in range(L2) ]\n",
    "            # for j in range(L2):\n",
    "#             ans.append(A[i] + B[j])\n",
    "        #print(ans)\n",
    "                # make set for make it unique than again make it list and sorted\n",
    "        ans=sorted(list(set(ans)))\n",
    "                     \n",
    "        #print(ans1)         \n",
    "#cheaking the length if greater than set return -1 else return nth element of set\n",
    "        if N> len(ans):\n",
    "            return -1\n",
    "        else:\n",
    "             return ans[N-1]\n",
    "\n",
    "\n",
    "\n",
    "#{ \n",
    "#  Driver Code Starts\n",
    "#Initial Template for Python 3\n",
    "\n",
    "if __name__ == '__main__':\n",
    "    t = int(input())\n",
    "    for _ in range(t):\n",
    "        L1, L2 = [int(x) for x in input().split()]\n",
    "        A = input().split()\n",
    "        for itr in range(L1):\n",
    "            A[itr] = int(A[itr])\n",
    "        B = input().split()\n",
    "        for it in range(L2):\n",
    "            B[it] = int(B[it])\n",
    "        N = int(input())\n",
    "        \n",
    "        ob = Solution()\n",
    "        print(ob.nthItem(L1, L2, A, B, N))\n",
    "# } Driver Code Ends"
   ]
  },
  {
   "cell_type": "code",
   "execution_count": null,
   "id": "b734b78a",
   "metadata": {},
   "outputs": [],
   "source": [
    "# #User function Template for python3\n",
    "\n",
    "# class Solution:\n",
    "#     def nthItem(self, L1, L2, A, B, N):\n",
    "#         # code here\n",
    "      \n",
    "# #         print(A)\n",
    "# #         ans = []\n",
    "# #         for i in range(L1):\n",
    "# #             for j in range(L2):\n",
    "# #                 ans.append(A[i]+B[j])\n",
    "# #                 # make set for make it unique than again make it list and sorted\n",
    "# #                 ans=sorted(list(set(ans)))\n",
    "                     \n",
    "                \n",
    "# #cheaking the length if greater than set return -1 else return nth element of set\n",
    "#         if N> len(ans):\n",
    "#             return -1\n",
    "#         else:\n",
    "#              return ans[N-1]\n",
    "\n",
    "      \n",
    "       \n",
    "\n",
    "# #{ \n",
    "# #  Driver Code Starts\n",
    "# #Initial Template for Python 3\n",
    "\n",
    "# if __name__ == '__main__':\n",
    "#     t = int(input())\n",
    "#     for _ in range(t):\n",
    "#         L1, L2 = [int(x) for x in input().split()]\n",
    "#         A = input().split()\n",
    "#         for itr in range(L1):\n",
    "#             A[itr] = int(A[itr])\n",
    "#         B = input().split()\n",
    "#         for it in range(L2):\n",
    "#             B[it] = int(B[it])\n",
    "#         N = int(input())\n",
    "#         ob = Solution()\n",
    "#         print(ob.nthItem(L1, L2, A, B, N))\n",
    "        \n",
    "# # } Driver Code Ends"
   ]
  },
  {
   "cell_type": "code",
   "execution_count": null,
   "id": "3ab2f87e",
   "metadata": {},
   "outputs": [],
   "source": [
    "A=[1,2]\n",
    "B=[3,4]\n",
    "\n",
    "ans=[]       \n",
    "#         for i,j in range(L1*L2):\n",
    "ans=[ans.append(A[i] + B[j])\n",
    "print(ans1) for i in range(L1) for j in range(L2) ]\n",
    "            # for j in range(L2):\n",
    "# ans.append(A[i] + B[j])\n",
    "print(ans1)"
   ]
  },
  {
   "cell_type": "code",
   "execution_count": null,
   "id": "18a2932c",
   "metadata": {},
   "outputs": [],
   "source": [
    "#User function Template for python3\n",
    "\n",
    "class Solution:\n",
    "    def nthItem(self, L1, L2, A, B, N):\n",
    "        # code here\n",
    "        \n",
    "        ans = []\n",
    "            \n",
    "        ans=[(A[i] + B[j]) for i in range(L1) for j in range(L2) ]\n",
    "           \n",
    "        ans=sorted(list(set(ans)))\n",
    "            \n",
    "        if N> len(ans):\n",
    "            return -1\n",
    "        else:\n",
    "             return ans[N-1]\n",
    "\n",
    "\n",
    "\n",
    "#{ \n",
    "#  Driver Code Starts\n",
    "#Initial Template for Python 3\n",
    "\n",
    "if __name__ == '__main__':\n",
    "    t = int(input())\n",
    "    for _ in range(t):\n",
    "        L1, L2 = [int(x) for x in input().split()]\n",
    "        A = input().split()\n",
    "        for itr in range(L1):\n",
    "            A[itr] = int(A[itr])\n",
    "        B = input().split()\n",
    "        for it in range(L2):\n",
    "            B[it] = int(B[it])\n",
    "        N = int(input())\n",
    "        \n",
    "        ob = Solution()\n",
    "        print(ob.nthItem(L1, L2, A, B, N))\n",
    "# } Driver Code Ends"
   ]
  },
  {
   "cell_type": "code",
   "execution_count": null,
   "id": "ff4ea164",
   "metadata": {},
   "outputs": [],
   "source": [
    "\n",
    "# User function Template for python3\n",
    "\n",
    "class Solution:\n",
    "    \n",
    "    #Function to reverse words in a given string.\n",
    "    def reverseWords(self,S):\n",
    "        S = S.split('.') \n",
    "        rev='.'.join(reversed(S))\n",
    "    \n",
    "        return rev             \n",
    "        # code here \n",
    "                     \n",
    "\n",
    "#{ \n",
    "#  Driver Code Starts\n",
    "# Initial Template for Python 3\n",
    "\n",
    "if __name__ == '__main__':\n",
    "    t = int(input())\n",
    "    for i in range(t):\n",
    "        s = str(input())\n",
    "        obj = Solution()\n",
    "        print(obj.reverseWords(s))\n",
    "\n",
    "# } Driver Code Ends"
   ]
  },
  {
   "cell_type": "code",
   "execution_count": null,
   "id": "b1f04ef7",
   "metadata": {
    "scrolled": true
   },
   "outputs": [],
   "source": [
    "#User function Template for python3\n",
    "class Solution:\n",
    "    def removeDups(self, S):\n",
    "        \n",
    "#         return(S.index)\n",
    "#         return(''.join(sorted(set(S), key=S.index)))\n",
    "#         S=sorted(frozenset(S),reverse=True)\n",
    "        return(\"\".join(sorted(frozenset(S),reverse=True)))   \n",
    "#         S1=\"\"\n",
    "#         return(\"\".join(S))\n",
    "        \n",
    "\n",
    "#{ \n",
    "#  Driver Code Starts\n",
    "#Initial Template for Python 3\n",
    "\n",
    "if __name__ == '__main__':\n",
    "    T=int(input())\n",
    "    for i in range(T):\n",
    "        s = input()\n",
    "        \n",
    "        ob = Solution()    \n",
    "        answer = ob.removeDups(s)\n",
    "        \n",
    "        print(answer)\n",
    "\n",
    "\n",
    "# } Driver Code Ends"
   ]
  },
  {
   "cell_type": "code",
   "execution_count": null,
   "id": "507bc80c",
   "metadata": {},
   "outputs": [],
   "source": [
    "S=\"zvvo\"\n",
    "S=sorted(set(S), key=S.index)\n",
    "S"
   ]
  },
  {
   "cell_type": "code",
   "execution_count": null,
   "id": "ef9ccc50",
   "metadata": {},
   "outputs": [],
   "source": [
    "def reverseWord(s):\n",
    "    return s[-1::-1]\n",
    "    \n",
    "\n",
    "\n",
    "#{ \n",
    "#  Driver Code Starts\n",
    "#Initial Template for Python 3\n",
    "\n",
    "if __name__ == \"__main__\":\n",
    "    t = int(input())\n",
    "    while(t>0):\n",
    "        s = input()\n",
    "        print(reverseWord(s))\n",
    "        t = t-1\n",
    "\n",
    "# } Driver Code Ends"
   ]
  },
  {
   "cell_type": "code",
   "execution_count": 3,
   "id": "f0d4943d",
   "metadata": {},
   "outputs": [
    {
     "name": "stdout",
     "output_type": "stream",
     "text": [
      "1\n",
      "acvb adghb\n",
      "NO\n"
     ]
    }
   ],
   "source": [
    "#User function Template for python3\n",
    "\n",
    "\n",
    "class Solution:\n",
    "    \n",
    "    #Function is to check whether two strings are anagram of each other or not.\n",
    "    def isAnagram(self,a,b):\n",
    "        #code here\n",
    "        sorted(a)== sorted(b)\n",
    "        return\n",
    "\n",
    "#{ \n",
    "#  Driver Code Starts\n",
    "#Initial Template for Python 3\n",
    "\n",
    "if __name__=='__main__':\n",
    "    t = int(input())\n",
    "    for i in range(t):\n",
    "        a,b=map(str,input().strip().split())\n",
    "        if(Solution().isAnagram(a,b)):\n",
    "            print(\"YES\")\n",
    "        else:\n",
    "            print(\"NO\") \n",
    "# } Driver Code Ends  "
   ]
  },
  {
   "cell_type": "code",
   "execution_count": null,
   "id": "6627ad23",
   "metadata": {},
   "outputs": [],
   "source": [
    "def firstDigit(n):\n",
    "    while n>=10:\n",
    "        n=n//10\n",
    "    return n\n",
    "n=int(input())\n",
    "firstDigit(n)"
   ]
  },
  {
   "cell_type": "code",
   "execution_count": null,
   "id": "eca6d7fb",
   "metadata": {},
   "outputs": [],
   "source": [
    "def primeFactoized(n):\n",
    "    l=[]\n",
    "    for  num in range(1,n+1):\n",
    "        if num>1:\n",
    "            for i in range (2,num-1):\n",
    "                if num%i==0:\n",
    "                    break\n",
    "            else:\n",
    "                l.append(num)\n",
    "# factor\n",
    "    l1=[]\n",
    "    for i in l:\n",
    "        x=i\n",
    "        while n%x==0:\n",
    "            l1.append(i)\n",
    "            x=x*i\n",
    "    return l1 \n",
    "            \n",
    "n=int(input())\n",
    "print(primeFactoized(n))\n",
    "        "
   ]
  },
  {
   "cell_type": "code",
   "execution_count": 65,
   "id": "04d0afd1",
   "metadata": {},
   "outputs": [
    {
     "name": "stdout",
     "output_type": "stream",
     "text": [
      "5 6 3 7 8 35\n"
     ]
    },
    {
     "ename": "ValueError",
     "evalue": "invalid literal for int() with base 10: '5 6 3 7 8 35'",
     "output_type": "error",
     "traceback": [
      "\u001b[1;31m---------------------------------------------------------------------------\u001b[0m",
      "\u001b[1;31mValueError\u001b[0m                                Traceback (most recent call last)",
      "\u001b[1;32m~\\AppData\\Local\\Temp/ipykernel_9552/2823243799.py\u001b[0m in \u001b[0;36m<module>\u001b[1;34m\u001b[0m\n\u001b[0;32m     21\u001b[0m     \u001b[1;32mreturn\u001b[0m \u001b[0ml\u001b[0m\u001b[1;33m\u001b[0m\u001b[1;33m\u001b[0m\u001b[0m\n\u001b[0;32m     22\u001b[0m \u001b[1;33m\u001b[0m\u001b[0m\n\u001b[1;32m---> 23\u001b[1;33m \u001b[0mn\u001b[0m\u001b[1;33m=\u001b[0m\u001b[0mint\u001b[0m\u001b[1;33m(\u001b[0m\u001b[0minput\u001b[0m\u001b[1;33m(\u001b[0m\u001b[1;33m)\u001b[0m\u001b[1;33m)\u001b[0m\u001b[1;33m\u001b[0m\u001b[1;33m\u001b[0m\u001b[0m\n\u001b[0m\u001b[0;32m     24\u001b[0m \u001b[0mprint\u001b[0m\u001b[1;33m(\u001b[0m\u001b[0mprimefactor\u001b[0m\u001b[1;33m(\u001b[0m\u001b[0mn\u001b[0m\u001b[1;33m)\u001b[0m\u001b[1;33m)\u001b[0m\u001b[1;33m\u001b[0m\u001b[1;33m\u001b[0m\u001b[0m\n",
      "\u001b[1;31mValueError\u001b[0m: invalid literal for int() with base 10: '5 6 3 7 8 35'"
     ]
    }
   ],
   "source": [
    "# for prime\n",
    "def Prime(num):\n",
    "    if num==1:\n",
    "        return 1\n",
    "    else:\n",
    "        for i in range(2,num-1): \n",
    "                if num%i==0: \n",
    "                    return False\n",
    "                    break\n",
    "        else:   \n",
    "             return True\n",
    "#for prime factor\n",
    "def primefactor(n):\n",
    "    l=[]\n",
    "    for i in range(2,n+1):\n",
    "        if Prime(i):\n",
    "            x=i\n",
    "            while n%x==0:\n",
    "                l.append(i)\n",
    "                x=x*i\n",
    "    return l         \n",
    "            \n",
    "n=int(input())            \n",
    "print(primefactor(n))            "
   ]
  },
  {
   "cell_type": "code",
   "execution_count": null,
   "id": "f8b6e2d1",
   "metadata": {},
   "outputs": [],
   "source": [
    "for num in range(1,100):\n",
    "    \n",
    "    #checking number is greater than 1 or not\n",
    "        if num>1:\n",
    "            for i in range(2,num-1): \n",
    "                if num%i==0: \n",
    "                    break\n",
    "            else:   \n",
    "                    print(num,end=\" , \")"
   ]
  },
  {
   "cell_type": "code",
   "execution_count": null,
   "id": "87268272",
   "metadata": {},
   "outputs": [],
   "source": [
    "bin(12)[2:]"
   ]
  },
  {
   "cell_type": "code",
   "execution_count": null,
   "id": "0938825b",
   "metadata": {},
   "outputs": [],
   "source": [
    "c1=\"a\"\n",
    "c2=\"z\"\n",
    "\n",
    "l=[chr(x) for x in range(ord(c1),ord(c2)+1)]\n",
    "print(c1,c2)\n",
    "print(l)"
   ]
  },
  {
   "cell_type": "code",
   "execution_count": null,
   "id": "a6bc2347",
   "metadata": {},
   "outputs": [],
   "source": [
    "numbers = [54, 43, 2, 1, 5]\n",
    "lr=list(reversed(numbers))\n",
    "for i in lr:\n",
    "    print(i-1,end=\" \")"
   ]
  },
  {
   "cell_type": "code",
   "execution_count": null,
   "id": "e0e9190d",
   "metadata": {},
   "outputs": [],
   "source": [
    "numbers = [-12, 8, -7, 6, 12, -9, 14]\n",
    "l=[i for i in numbers if i>=0]\n",
    "print(sum(l)/len(l))    "
   ]
  },
  {
   "cell_type": "code",
   "execution_count": null,
   "id": "2f9677fd",
   "metadata": {},
   "outputs": [],
   "source": [
    "\n",
    "def posAverage(numbers):\n",
    "    \n",
    "    #Write your code to find average of positive numbers in number list\n",
    "    #Return the answer\n",
    "    avg=[i for i in numbers if i>=0]\n",
    "    avg=sum(l)/len(l)    \n",
    "    return avg \n",
    "\n",
    "if __name__ == '__main__':\n",
    "    \n",
    "    t= int(input())\n",
    "    \n",
    "    for _ in range(t):\n",
    "        \n",
    "        numbers=[int(x) for x in input().strip().split()]\n",
    "        \n",
    "        avg = posAverage(numbers)\n",
    "        avg = (int)(avg*100)/100.0\n",
    "        print ('%.2f'%avg)\n"
   ]
  },
  {
   "cell_type": "code",
   "execution_count": 61,
   "id": "cfb1da79",
   "metadata": {},
   "outputs": [
    {
     "name": "stdout",
     "output_type": "stream",
     "text": [
      "54.00\n"
     ]
    }
   ],
   "source": [
    "avg=54\n",
    "avg = (int)(avg*100)/100.0\n",
    "print ('%.2f'%avg)"
   ]
  },
  {
   "cell_type": "code",
   "execution_count": null,
   "id": "10b22ed6",
   "metadata": {},
   "outputs": [],
   "source": [
    "numbers = ( 1 ,5, 9, 13, 17 )\n",
    "k=3\n",
    "numbers=list(numbers)\n",
    "n=numbers[1]-numbers[0]\n",
    "\n",
    "for i in range(k):\n",
    "    numbers.append(numbers[len(numbers)-1]+n)\n",
    "print(numbers)    \n",
    "\n",
    "    \n",
    "\n",
    "\n",
    "\n"
   ]
  },
  {
   "cell_type": "code",
   "execution_count": null,
   "id": "b2f33981",
   "metadata": {},
   "outputs": [],
   "source": [
    "numbers = ( 1 ,5, 9, 13, 17 )\n",
    "l=list(numbers)\n",
    "diff=l[1]-l[0]\n",
    "le=len(l)\n",
    "for i in range(3):\n",
    "    l.append(l[le-1+i]+diff)\n",
    "tuple(l)"
   ]
  },
  {
   "cell_type": "code",
   "execution_count": null,
   "id": "e73c05cc",
   "metadata": {},
   "outputs": [],
   "source": [
    "numbers = [1 ,5, 9, 13, 17]\n",
    "numbers[len(numbers)-1]\n"
   ]
  },
  {
   "cell_type": "code",
   "execution_count": null,
   "id": "710aca79",
   "metadata": {},
   "outputs": [],
   "source": [
    "\n",
    "9//2"
   ]
  },
  {
   "cell_type": "code",
   "execution_count": null,
   "id": "166fd768",
   "metadata": {},
   "outputs": [],
   "source": [
    "n=13\n",
    "if\n"
   ]
  },
  {
   "cell_type": "code",
   "execution_count": null,
   "id": "ab0788d3",
   "metadata": {},
   "outputs": [],
   "source": [
    "n<=10*count"
   ]
  },
  {
   "cell_type": "code",
   "execution_count": null,
   "id": "46bc8d4d",
   "metadata": {},
   "outputs": [],
   "source": [
    "10*count"
   ]
  },
  {
   "cell_type": "code",
   "execution_count": null,
   "id": "b7068002",
   "metadata": {},
   "outputs": [],
   "source": [
    "13-10"
   ]
  },
  {
   "cell_type": "code",
   "execution_count": null,
   "id": "a484e9a0",
   "metadata": {},
   "outputs": [],
   "source": [
    "25-10*2"
   ]
  },
  {
   "cell_type": "code",
   "execution_count": null,
   "id": "ada65832",
   "metadata": {},
   "outputs": [],
   "source": [
    "for i in range(0,10):\n",
    "    print(10*i+3)"
   ]
  },
  {
   "cell_type": "code",
   "execution_count": null,
   "id": "b1b5e966",
   "metadata": {},
   "outputs": [],
   "source": [
    "n=173%10"
   ]
  },
  {
   "cell_type": "code",
   "execution_count": null,
   "id": "d0e8e4bf",
   "metadata": {},
   "outputs": [],
   "source": [
    "#with in range 3 in of the multiple of 10\n",
    "n=int(input())\n",
    "n=n%10\n",
    "if  n in [0,1,2,3,7,8,9]:\n",
    "    print (True)\n",
    "else:\n",
    "    print(False) "
   ]
  },
  {
   "cell_type": "code",
   "execution_count": null,
   "id": "0e55a8bb",
   "metadata": {},
   "outputs": [],
   "source": [
    "def withinTheRange(n):\n",
    "    #Return True or False according to the n\n",
    "    n=n%10\n",
    "    if  n in [0,1,2,3,7,8,9]:\n",
    "        return True\n",
    "    else:\n",
    "        return False "
   ]
  },
  {
   "cell_type": "code",
   "execution_count": null,
   "id": "cab4e33d",
   "metadata": {},
   "outputs": [],
   "source": [
    "~~~~~~5 "
   ]
  },
  {
   "cell_type": "code",
   "execution_count": null,
   "id": "119a0203",
   "metadata": {},
   "outputs": [],
   "source": [
    "9//2"
   ]
  },
  {
   "cell_type": "markdown",
   "id": "33e17d34",
   "metadata": {},
   "source": [
    "s = \"abcdefghijklmnopqrstuvwxyzabcjia\"\n",
    "Output:\n",
    "True\n",
    "Explanation:\n",
    "All the alphabets from a to z are present."
   ]
  },
  {
   "cell_type": "code",
   "execution_count": 63,
   "id": "b21af710",
   "metadata": {},
   "outputs": [
    {
     "name": "stdout",
     "output_type": "stream",
     "text": [
      "[97, 98, 99, 100, 101, 102, 103, 104, 105, 106, 107, 108, 109, 110, 111, 112, 113, 114, 115, 116, 117, 118, 119, 120, 121, 122]\n",
      "[]\n"
     ]
    }
   ],
   "source": [
    "s = \"abcdefghijklmnopqrstuvwxyzabcjia\"\n",
    "l2=list(s)\n",
    "l=[]\n",
    "l2=[]\n",
    "for i in range(97,123):\n",
    "    l.append(i)\n",
    "print(l) \n",
    "# for i in range(s):\n",
    "#     l2.append(ord(i))\n",
    "print(l2)    \n",
    "    "
   ]
  },
  {
   "cell_type": "code",
   "execution_count": null,
   "id": "e2bdae6c",
   "metadata": {},
   "outputs": [],
   "source": [
    "s = \"abcdefghijklmnopqrstuvwxyzabcjia\"\n",
    "l2=list(s)\n",
    "l3=[]\n",
    "print(l2,end=\" \")\n",
    "for i in l2:\n",
    "    l3.append(ord(i))\n",
    "    \n",
    "print(l3)    \n",
    "    "
   ]
  },
  {
   "cell_type": "code",
   "execution_count": null,
   "id": "dc601386",
   "metadata": {},
   "outputs": [],
   "source": [
    "if sorted(l)==set(sorted(l3)):\n",
    "    print(True)\n",
    "else:\n",
    "    print(False)"
   ]
  },
  {
   "cell_type": "code",
   "execution_count": null,
   "id": "2e52d4ff",
   "metadata": {},
   "outputs": [],
   "source": [
    "set(sorted(l))"
   ]
  },
  {
   "cell_type": "code",
   "execution_count": null,
   "id": "0cd5a4eb",
   "metadata": {},
   "outputs": [],
   "source": [
    "set(sorted(l3))"
   ]
  },
  {
   "cell_type": "code",
   "execution_count": null,
   "id": "02715667",
   "metadata": {},
   "outputs": [],
   "source": [
    "if set(l)==set(sorted(l3)):\n",
    "    print(True)\n",
    "else:\n",
    "    Print(False)"
   ]
  },
  {
   "cell_type": "code",
   "execution_count": 62,
   "id": "4a4fcd3b",
   "metadata": {},
   "outputs": [],
   "source": [
    "def completeString(s):\n",
    "    # list for a to z ascii no 97 to 122\n",
    "    l=[]\n",
    "    for i in range(97,123):\n",
    "        l.append(i)\n",
    "    \n",
    "    # converting s to ord in ascii\n",
    "    s=list(s)\n",
    "    ls=[]\n",
    "    for i in s:\n",
    "        ls.append(ord(i))\n",
    "    \n",
    "    #checking two list l and ls by typecaste to set\n",
    "    if set(l)==set(sorted(ls)):\n",
    "        return True\n",
    "    else:\n",
    "        return False"
   ]
  },
  {
   "cell_type": "code",
   "execution_count": null,
   "id": "40bdd3f1",
   "metadata": {},
   "outputs": [],
   "source": [
    "Input:\n",
    "s1 = \"abcd\"\n",
    "s2 = \"ca\"\n",
    "Output:\n",
    "True"
   ]
  },
  {
   "cell_type": "code",
   "execution_count": null,
   "id": "82e6f540",
   "metadata": {},
   "outputs": [],
   "source": [
    "s1 = set(\"abcd\")\n",
    "s2 = set(\"cd\")\n",
    "if s1>=s2:\n",
    "    print(True)\n",
    "else:\n",
    "    print(False)"
   ]
  },
  {
   "cell_type": "code",
   "execution_count": null,
   "id": "3638ebaa",
   "metadata": {},
   "outputs": [],
   "source": [
    "s2"
   ]
  },
  {
   "cell_type": "code",
   "execution_count": null,
   "id": "05e861b1",
   "metadata": {},
   "outputs": [],
   "source": [
    "\"abcd\" in \"bccd\""
   ]
  },
  {
   "cell_type": "code",
   "execution_count": null,
   "id": "c063f165",
   "metadata": {},
   "outputs": [],
   "source": [
    "def canMakeAnagrams(s1,s2):\n",
    "    #Your code below\n",
    "    s1 = set(s1)\n",
    "    s2 = set(s2)\n",
    "    if s1>=s2:\n",
    "        return True\n",
    "    else:\n",
    "        return False\n"
   ]
  },
  {
   "cell_type": "code",
   "execution_count": null,
   "id": "e5079643",
   "metadata": {},
   "outputs": [],
   "source": [
    "l=[3, 4, 5, 20, 5, 25, 1, 3]\n",
    "l.pop(1)"
   ]
  },
  {
   "cell_type": "code",
   "execution_count": null,
   "id": "26af3333",
   "metadata": {},
   "outputs": [],
   "source": [
    "l"
   ]
  },
  {
   "cell_type": "code",
   "execution_count": null,
   "id": "e87cf567",
   "metadata": {},
   "outputs": [],
   "source": [
    "k = 2 + 3J\n",
    "type(k)"
   ]
  },
  {
   "cell_type": "code",
   "execution_count": null,
   "id": "977e9e09",
   "metadata": {},
   "outputs": [],
   "source": [
    "\n",
    "k = 2 + 3l\n",
    "type(k)"
   ]
  },
  {
   "cell_type": "code",
   "execution_count": null,
   "id": "7d02bfe7",
   "metadata": {},
   "outputs": [],
   "source": [
    "print( 'abcefd'.replace('cd', '12'))"
   ]
  },
  {
   "cell_type": "code",
   "execution_count": null,
   "id": "2fa5e1d4",
   "metadata": {},
   "outputs": [],
   "source": [
    "def f(value, values):\n",
    "    \n",
    "    v = 2\n",
    "    print(v)\n",
    "    values[1] = 44\n",
    "t = 3\n",
    "v = [1, 2, 3]\n",
    "f(t, v)\n",
    "print(t, v[1])\n",
    "\n"
   ]
  },
  {
   "cell_type": "code",
   "execution_count": null,
   "id": "7b6c2cfa",
   "metadata": {},
   "outputs": [],
   "source": [
    "numbers = [6,5,3,1]\n",
    "mx=max(numbers)"
   ]
  },
  {
   "cell_type": "code",
   "execution_count": 3,
   "id": "815f0a82",
   "metadata": {},
   "outputs": [
    {
     "name": "stdout",
     "output_type": "stream",
     "text": [
      "6\n"
     ]
    }
   ],
   "source": [
    "numbers = [6,5,3,1]\n",
    "mx=max(numbers)\n",
    "print(mx)\n",
    "# x=[1, 3, 5, 6]\n",
    "# l=[]\n",
    "# for i in range(1,mx+1):\n",
    "#     l.append(i)\n",
    "\n",
    "# print(l)\n",
    "# l2=sorted(numbers)\n",
    "\n",
    "# print(l2)\n",
    "# for i in l2:\n",
    "#     if l==l2:\n",
    "#         l2.append(l2[-1]+1)\n",
    "#         print(l2)\n",
    "#     else:\n",
    "#         if l[i]!=l2[i]:\n",
    "#             print(i)\n",
    "        \n",
    "        \n",
    "    "
   ]
  },
  {
   "cell_type": "code",
   "execution_count": null,
   "id": "a75730cf",
   "metadata": {},
   "outputs": [],
   "source": [
    "range(len(sorted(numbers)))"
   ]
  },
  {
   "cell_type": "code",
   "execution_count": null,
   "id": "d648a3a1",
   "metadata": {},
   "outputs": [],
   "source": [
    "L[1]==l2[1]\n"
   ]
  },
  {
   "cell_type": "code",
   "execution_count": null,
   "id": "2e35dd7f",
   "metadata": {},
   "outputs": [],
   "source": [
    "Input:\n",
    "s = \"k0a4\"\n",
    "Output:\n",
    "ke"
   ]
  },
  {
   "cell_type": "code",
   "execution_count": null,
   "id": "8062b225",
   "metadata": {},
   "outputs": [],
   "source": [
    "s = \"k0a4\"\n",
    "s=list(s)"
   ]
  },
  {
   "cell_type": "code",
   "execution_count": null,
   "id": "fd905711",
   "metadata": {},
   "outputs": [],
   "source": [
    "\n",
    "\n",
    "l=[ord(i) for i in s]\n",
    "\n",
    "   "
   ]
  },
  {
   "cell_type": "code",
   "execution_count": null,
   "id": "32d4f7c0",
   "metadata": {},
   "outputs": [],
   "source": [
    "s = \"k0a4\".split()"
   ]
  },
  {
   "cell_type": "code",
   "execution_count": null,
   "id": "507a1bf1",
   "metadata": {},
   "outputs": [],
   "source": [
    "s"
   ]
  },
  {
   "cell_type": "code",
   "execution_count": 87,
   "id": "861a0d0f",
   "metadata": {},
   "outputs": [
    {
     "name": "stdout",
     "output_type": "stream",
     "text": [
      "<class 'str'>\n",
      "22\n",
      "[121, 107]\n",
      "[2, 2]\n",
      "['{', 'm']\n",
      "am\n"
     ]
    }
   ],
   "source": [
    "s =\"y2k2\"\n",
    "# l=[ord(i) for i in s]\n",
    "# print(l)\n",
    "num = \" \"\n",
    "p=[]\n",
    "for c in s:\n",
    "    if c.isdigit():\n",
    "#         num.append[c]\n",
    "         num = num+c\n",
    "print(type(num))\n",
    "num=num.lstrip() \n",
    "print(num)\n",
    "# print(type(num))\n",
    "# print(int(num))\n",
    "p=[ord(s[i]) for i in range(len(s)) if i%2==0]\n",
    "print(p)\n",
    "a=[int(num[i]) for i in range(len(num))] \n",
    "print(a)\n",
    "l=[chr(a[i]+p[i])for i in range(len(p))]\n",
    "print(l)\n",
    "j=\"\"\n",
    "\n",
    "for i in l:\n",
    "    if ord(i)>122:\n",
    "        j=j+chr(ord(i)-26)\n",
    "        \n",
    "    else: \n",
    "        j=j+i\n",
    "        \n",
    "print(j)\n",
    "\n",
    "        "
   ]
  },
  {
   "cell_type": "code",
   "execution_count": 88,
   "id": "fe77f3ed",
   "metadata": {},
   "outputs": [
    {
     "ename": "AttributeError",
     "evalue": "'int' object has no attribute 'isdigit'",
     "output_type": "error",
     "traceback": [
      "\u001b[1;31m---------------------------------------------------------------------------\u001b[0m",
      "\u001b[1;31mAttributeError\u001b[0m                            Traceback (most recent call last)",
      "\u001b[1;32m~\\AppData\\Local\\Temp/ipykernel_9552/2383643315.py\u001b[0m in \u001b[0;36m<module>\u001b[1;34m\u001b[0m\n\u001b[0;32m      1\u001b[0m \u001b[0ms\u001b[0m\u001b[1;33m=\u001b[0m\u001b[1;34m\"d8g899k6\"\u001b[0m\u001b[1;33m\u001b[0m\u001b[1;33m\u001b[0m\u001b[0m\n\u001b[0;32m      2\u001b[0m \u001b[1;32mfor\u001b[0m \u001b[0mc\u001b[0m \u001b[1;32min\u001b[0m \u001b[0mrange\u001b[0m\u001b[1;33m(\u001b[0m\u001b[0mlen\u001b[0m\u001b[1;33m(\u001b[0m\u001b[0ms\u001b[0m\u001b[1;33m)\u001b[0m\u001b[1;33m)\u001b[0m\u001b[1;33m:\u001b[0m\u001b[1;33m\u001b[0m\u001b[1;33m\u001b[0m\u001b[0m\n\u001b[1;32m----> 3\u001b[1;33m     \u001b[1;32mif\u001b[0m \u001b[0mc\u001b[0m\u001b[1;33m.\u001b[0m\u001b[0misdigit\u001b[0m\u001b[1;33m(\u001b[0m\u001b[1;33m)\u001b[0m\u001b[1;33m:\u001b[0m\u001b[1;33m\u001b[0m\u001b[1;33m\u001b[0m\u001b[0m\n\u001b[0m\u001b[0;32m      4\u001b[0m \u001b[1;31m#         num.append[c]\u001b[0m\u001b[1;33m\u001b[0m\u001b[1;33m\u001b[0m\u001b[0m\n\u001b[0;32m      5\u001b[0m          \u001b[0mnum\u001b[0m \u001b[1;33m=\u001b[0m \u001b[0mnum\u001b[0m\u001b[1;33m+\u001b[0m\u001b[0mc\u001b[0m\u001b[1;33m\u001b[0m\u001b[1;33m\u001b[0m\u001b[0m\n",
      "\u001b[1;31mAttributeError\u001b[0m: 'int' object has no attribute 'isdigit'"
     ]
    }
   ],
   "source": [
    "s=\"d8g899k6\"\n",
    "for c in range(len(s)):\n",
    "    if c.isdigit():\n",
    "#         num.append[c]\n",
    "         num = num+c\n",
    "print(type(num))"
   ]
  },
  {
   "cell_type": "code",
   "execution_count": 90,
   "id": "78a2e223",
   "metadata": {},
   "outputs": [
    {
     "data": {
      "text/plain": [
       "True"
      ]
     },
     "execution_count": 90,
     "metadata": {},
     "output_type": "execute_result"
    }
   ],
   "source": [
    "def completeString(s):\n",
    "    s=set(s)\n",
    "    if len(s)==26:\n",
    "        return True\n",
    "    else:\n",
    "        return False\n",
    "s = \"abcdefghijklmnopqrstuvwxyzabcjia\"\n",
    "completeString(s)"
   ]
  },
  {
   "cell_type": "code",
   "execution_count": null,
   "id": "29e795b8",
   "metadata": {},
   "outputs": [],
   "source": [
    "chr(int(num[0])+l[0])"
   ]
  },
  {
   "cell_type": "code",
   "execution_count": null,
   "id": "03141943",
   "metadata": {},
   "outputs": [],
   "source": [
    "ord(i)-25"
   ]
  },
  {
   "cell_type": "code",
   "execution_count": null,
   "id": "6ad7a76c",
   "metadata": {},
   "outputs": [],
   "source": [
    "l[0]"
   ]
  },
  {
   "cell_type": "code",
   "execution_count": 4,
   "id": "d3c3af09",
   "metadata": {},
   "outputs": [
    {
     "name": "stdout",
     "output_type": "stream",
     "text": [
      "1\n",
      "pooj hjjk\n"
     ]
    },
    {
     "ename": "IndexError",
     "evalue": "list index out of range",
     "output_type": "error",
     "traceback": [
      "\u001b[1;31m---------------------------------------------------------------------------\u001b[0m",
      "\u001b[1;31mIndexError\u001b[0m                                Traceback (most recent call last)",
      "\u001b[1;32m~\\AppData\\Local\\Temp/ipykernel_4116/812488598.py\u001b[0m in \u001b[0;36m<module>\u001b[1;34m\u001b[0m\n\u001b[0;32m     48\u001b[0m \u001b[1;33m\u001b[0m\u001b[0m\n\u001b[0;32m     49\u001b[0m \u001b[1;32mif\u001b[0m \u001b[0m__name__\u001b[0m\u001b[1;33m==\u001b[0m\u001b[1;34m'__main__'\u001b[0m\u001b[1;33m:\u001b[0m\u001b[1;33m\u001b[0m\u001b[1;33m\u001b[0m\u001b[0m\n\u001b[1;32m---> 50\u001b[1;33m     \u001b[0mmain\u001b[0m\u001b[1;33m(\u001b[0m\u001b[1;33m)\u001b[0m\u001b[1;33m\u001b[0m\u001b[1;33m\u001b[0m\u001b[0m\n\u001b[0m\u001b[0;32m     51\u001b[0m \u001b[1;31m#} Driver Code Endsj=\"\"\u001b[0m\u001b[1;33m\u001b[0m\u001b[1;33m\u001b[0m\u001b[0m\n\u001b[0;32m     52\u001b[0m \u001b[1;33m\u001b[0m\u001b[0m\n",
      "\u001b[1;32m~\\AppData\\Local\\Temp/ipykernel_4116/812488598.py\u001b[0m in \u001b[0;36mmain\u001b[1;34m()\u001b[0m\n\u001b[0;32m     42\u001b[0m     \u001b[1;32mwhile\u001b[0m\u001b[1;33m(\u001b[0m\u001b[0mtestcases\u001b[0m\u001b[1;33m>\u001b[0m\u001b[1;36m0\u001b[0m\u001b[1;33m)\u001b[0m\u001b[1;33m:\u001b[0m\u001b[1;33m\u001b[0m\u001b[1;33m\u001b[0m\u001b[0m\n\u001b[0;32m     43\u001b[0m         \u001b[0ms\u001b[0m\u001b[1;33m=\u001b[0m\u001b[0minput\u001b[0m\u001b[1;33m(\u001b[0m\u001b[1;33m)\u001b[0m\u001b[1;33m.\u001b[0m\u001b[0mstrip\u001b[0m\u001b[1;33m(\u001b[0m\u001b[1;33m)\u001b[0m\u001b[1;33m\u001b[0m\u001b[1;33m\u001b[0m\u001b[0m\n\u001b[1;32m---> 44\u001b[1;33m         \u001b[0mprint\u001b[0m\u001b[1;33m(\u001b[0m\u001b[0mmanipulateIt\u001b[0m\u001b[1;33m(\u001b[0m\u001b[0ms\u001b[0m\u001b[1;33m)\u001b[0m\u001b[1;33m)\u001b[0m\u001b[1;31m#Function call and print\u001b[0m\u001b[1;33m\u001b[0m\u001b[1;33m\u001b[0m\u001b[0m\n\u001b[0m\u001b[0;32m     45\u001b[0m         \u001b[0mtestcases\u001b[0m\u001b[1;33m-=\u001b[0m\u001b[1;36m1\u001b[0m\u001b[1;33m\u001b[0m\u001b[1;33m\u001b[0m\u001b[0m\n\u001b[0;32m     46\u001b[0m \u001b[1;33m\u001b[0m\u001b[0m\n",
      "\u001b[1;32m~\\AppData\\Local\\Temp/ipykernel_4116/812488598.py\u001b[0m in \u001b[0;36mmanipulateIt\u001b[1;34m(s)\u001b[0m\n\u001b[0;32m     17\u001b[0m     \u001b[0ma\u001b[0m\u001b[1;33m=\u001b[0m\u001b[1;33m[\u001b[0m\u001b[0mint\u001b[0m\u001b[1;33m(\u001b[0m\u001b[0mnum\u001b[0m\u001b[1;33m[\u001b[0m\u001b[0mi\u001b[0m\u001b[1;33m]\u001b[0m\u001b[1;33m)\u001b[0m \u001b[1;32mfor\u001b[0m \u001b[0mi\u001b[0m \u001b[1;32min\u001b[0m \u001b[0mrange\u001b[0m\u001b[1;33m(\u001b[0m\u001b[0mlen\u001b[0m\u001b[1;33m(\u001b[0m\u001b[0mnum\u001b[0m\u001b[1;33m)\u001b[0m\u001b[1;33m)\u001b[0m\u001b[1;33m]\u001b[0m\u001b[1;33m\u001b[0m\u001b[1;33m\u001b[0m\u001b[0m\n\u001b[0;32m     18\u001b[0m \u001b[1;33m\u001b[0m\u001b[0m\n\u001b[1;32m---> 19\u001b[1;33m     \u001b[0ml\u001b[0m\u001b[1;33m=\u001b[0m\u001b[1;33m[\u001b[0m\u001b[0mchr\u001b[0m\u001b[1;33m(\u001b[0m\u001b[0ma\u001b[0m\u001b[1;33m[\u001b[0m\u001b[0mi\u001b[0m\u001b[1;33m]\u001b[0m\u001b[1;33m+\u001b[0m\u001b[0mp\u001b[0m\u001b[1;33m[\u001b[0m\u001b[0mi\u001b[0m\u001b[1;33m]\u001b[0m\u001b[1;33m)\u001b[0m\u001b[1;32mfor\u001b[0m \u001b[0mi\u001b[0m \u001b[1;32min\u001b[0m \u001b[0mrange\u001b[0m\u001b[1;33m(\u001b[0m\u001b[0mlen\u001b[0m\u001b[1;33m(\u001b[0m\u001b[0mp\u001b[0m\u001b[1;33m)\u001b[0m\u001b[1;33m)\u001b[0m\u001b[1;33m]\u001b[0m\u001b[1;33m\u001b[0m\u001b[1;33m\u001b[0m\u001b[0m\n\u001b[0m\u001b[0;32m     20\u001b[0m \u001b[1;33m\u001b[0m\u001b[0m\n\u001b[0;32m     21\u001b[0m     \u001b[0mj\u001b[0m\u001b[1;33m=\u001b[0m\u001b[1;34m\"\"\u001b[0m\u001b[1;33m\u001b[0m\u001b[1;33m\u001b[0m\u001b[0m\n",
      "\u001b[1;32m~\\AppData\\Local\\Temp/ipykernel_4116/812488598.py\u001b[0m in \u001b[0;36m<listcomp>\u001b[1;34m(.0)\u001b[0m\n\u001b[0;32m     17\u001b[0m     \u001b[0ma\u001b[0m\u001b[1;33m=\u001b[0m\u001b[1;33m[\u001b[0m\u001b[0mint\u001b[0m\u001b[1;33m(\u001b[0m\u001b[0mnum\u001b[0m\u001b[1;33m[\u001b[0m\u001b[0mi\u001b[0m\u001b[1;33m]\u001b[0m\u001b[1;33m)\u001b[0m \u001b[1;32mfor\u001b[0m \u001b[0mi\u001b[0m \u001b[1;32min\u001b[0m \u001b[0mrange\u001b[0m\u001b[1;33m(\u001b[0m\u001b[0mlen\u001b[0m\u001b[1;33m(\u001b[0m\u001b[0mnum\u001b[0m\u001b[1;33m)\u001b[0m\u001b[1;33m)\u001b[0m\u001b[1;33m]\u001b[0m\u001b[1;33m\u001b[0m\u001b[1;33m\u001b[0m\u001b[0m\n\u001b[0;32m     18\u001b[0m \u001b[1;33m\u001b[0m\u001b[0m\n\u001b[1;32m---> 19\u001b[1;33m     \u001b[0ml\u001b[0m\u001b[1;33m=\u001b[0m\u001b[1;33m[\u001b[0m\u001b[0mchr\u001b[0m\u001b[1;33m(\u001b[0m\u001b[0ma\u001b[0m\u001b[1;33m[\u001b[0m\u001b[0mi\u001b[0m\u001b[1;33m]\u001b[0m\u001b[1;33m+\u001b[0m\u001b[0mp\u001b[0m\u001b[1;33m[\u001b[0m\u001b[0mi\u001b[0m\u001b[1;33m]\u001b[0m\u001b[1;33m)\u001b[0m\u001b[1;32mfor\u001b[0m \u001b[0mi\u001b[0m \u001b[1;32min\u001b[0m \u001b[0mrange\u001b[0m\u001b[1;33m(\u001b[0m\u001b[0mlen\u001b[0m\u001b[1;33m(\u001b[0m\u001b[0mp\u001b[0m\u001b[1;33m)\u001b[0m\u001b[1;33m)\u001b[0m\u001b[1;33m]\u001b[0m\u001b[1;33m\u001b[0m\u001b[1;33m\u001b[0m\u001b[0m\n\u001b[0m\u001b[0;32m     20\u001b[0m \u001b[1;33m\u001b[0m\u001b[0m\n\u001b[0;32m     21\u001b[0m     \u001b[0mj\u001b[0m\u001b[1;33m=\u001b[0m\u001b[1;34m\"\"\u001b[0m\u001b[1;33m\u001b[0m\u001b[1;33m\u001b[0m\u001b[0m\n",
      "\u001b[1;31mIndexError\u001b[0m: list index out of range"
     ]
    }
   ],
   "source": [
    "# } Driver Code Ends\n",
    "#User function Template for python3\n",
    "\n",
    "#Complete the function\n",
    "#s is the argument\n",
    "#Return the manipulated string\n",
    "def manipulateIt(s):\n",
    "    num = \"\"\n",
    "    \n",
    "    for c in s:\n",
    "        if c.isdigit():\n",
    "            num = num+c\n",
    "    num=num.lstrip()    \n",
    "    # print(type(num))\n",
    "    # print(int(num))\n",
    "    p=[ord(s[i]) for i in range(len(s))if i%2==0]\n",
    "    a=[int(num[i]) for i in range(len(num))] \n",
    "\n",
    "    l=[chr(a[i]+p[i])for i in range(len(p))]\n",
    "    \n",
    "    j=\"\"\n",
    "\n",
    "    for i in l:\n",
    "        if ord(i)>122:\n",
    "            j=j+chr(ord(i)-26)\n",
    "        \n",
    "        else: \n",
    "            j=j+i\n",
    "    return j\n",
    "\n",
    "    \n",
    "\n",
    "    #Your code below\n",
    "\n",
    "\n",
    "#{ \n",
    "#Driver Code Starts.\n",
    "\n",
    "\n",
    "def main():\n",
    "    testcases=int(input()) #testcases\n",
    "    while(testcases>0):\n",
    "        s=input().strip()\n",
    "        print(manipulateIt(s))#Function call and print\n",
    "        testcases-=1\n",
    "        \n",
    "\n",
    "\n",
    "if __name__=='__main__':\n",
    "    main()\n",
    "#} Driver Code Endsj=\"\"\n",
    "\n",
    "\n"
   ]
  },
  {
   "cell_type": "code",
   "execution_count": 31,
   "id": "8bfcfc5d",
   "metadata": {},
   "outputs": [
    {
     "name": "stdout",
     "output_type": "stream",
     "text": [
      "7\n"
     ]
    }
   ],
   "source": [
    "numbers = [6,5,3,4,2,1]\n",
    "mx=max(numbers)\n",
    "# print(mx)\n",
    "# print(list(range(1,mx+1)))\n",
    "l=[x for x in range(1,mx+1)]\n",
    "ls=sorted(numbers)\n",
    "# print(ls)\n",
    "if ls==l:\n",
    "    print(mx+1)\n",
    "else:\n",
    "    for i in range(mx):\n",
    "        if l[i] not in ls:\n",
    "            print(l[i])\n",
    "             \n",
    "   \n"
   ]
  },
  {
   "cell_type": "code",
   "execution_count": 32,
   "id": "0047971c",
   "metadata": {},
   "outputs": [
    {
     "data": {
      "text/plain": [
       "False"
      ]
     },
     "execution_count": 32,
     "metadata": {},
     "output_type": "execute_result"
    }
   ],
   "source": [
    "numbers==l"
   ]
  },
  {
   "cell_type": "code",
   "execution_count": 45,
   "id": "60a8f4e9",
   "metadata": {},
   "outputs": [
    {
     "data": {
      "text/plain": [
       "True"
      ]
     },
     "execution_count": 45,
     "metadata": {},
     "output_type": "execute_result"
    }
   ],
   "source": [
    "min!=l[0]"
   ]
  },
  {
   "cell_type": "code",
   "execution_count": 21,
   "id": "9635079b",
   "metadata": {},
   "outputs": [
    {
     "data": {
      "text/plain": [
       "False"
      ]
     },
     "execution_count": 21,
     "metadata": {},
     "output_type": "execute_result"
    }
   ],
   "source": [
    "4 in ls\n",
    "   "
   ]
  },
  {
   "cell_type": "code",
   "execution_count": 25,
   "id": "86d5ed7f",
   "metadata": {},
   "outputs": [
    {
     "name": "stdout",
     "output_type": "stream",
     "text": [
      "4\n"
     ]
    }
   ],
   "source": [
    "for i in range(mx):\n",
    "        if l[i] not in ls:\n",
    "            print(l[i])"
   ]
  },
  {
   "cell_type": "code",
   "execution_count": 32,
   "id": "a22cf30c",
   "metadata": {},
   "outputs": [
    {
     "ename": "SyntaxError",
     "evalue": "invalid syntax (Temp/ipykernel_11116/847524526.py, line 2)",
     "output_type": "error",
     "traceback": [
      "\u001b[1;36m  File \u001b[1;32m\"C:\\Users\\HP\\AppData\\Local\\Temp/ipykernel_11116/847524526.py\"\u001b[1;36m, line \u001b[1;32m2\u001b[0m\n\u001b[1;33m    arr[] = {2,3,4,5,6,7,8,9,10,1}\u001b[0m\n\u001b[1;37m        ^\u001b[0m\n\u001b[1;31mSyntaxError\u001b[0m\u001b[1;31m:\u001b[0m invalid syntax\n"
     ]
    }
   ],
   "source": [
    "N = 10\n",
    "l= {2,3,4,5,6,7,8,9,10,1}\n",
    "Output: 1\n",
    "Explanation: The array is rotated \n",
    "once anti-clockwise. So minium \n",
    "element is at last index (n-1) \n",
    "which is 1"
   ]
  },
  {
   "cell_type": "code",
   "execution_count": 45,
   "id": "c4e2fd0d",
   "metadata": {},
   "outputs": [
    {
     "name": "stdout",
     "output_type": "stream",
     "text": [
      "1\n",
      "1\n",
      "1\n",
      "1\n",
      "1\n"
     ]
    }
   ],
   "source": [
    "n=5\n",
    "l=0\n",
    "a=[1, 2, 3, 4, 5]\n",
    "h=n-1\n",
    "var = a[0]\n",
    "for i in a:\n",
    "    if i < var:\n",
    "        var = i\n",
    "    print(var)"
   ]
  },
  {
   "cell_type": "code",
   "execution_count": 35,
   "id": "fea30b3d",
   "metadata": {},
   "outputs": [
    {
     "data": {
      "text/plain": [
       "[0, 1, 2, 3, 4, 5, 6, 7, 8, 9]"
      ]
     },
     "execution_count": 35,
     "metadata": {},
     "output_type": "execute_result"
    }
   ],
   "source": [
    "list(range(N))"
   ]
  },
  {
   "cell_type": "code",
   "execution_count": 68,
   "id": "01262214",
   "metadata": {},
   "outputs": [
    {
     "name": "stdout",
     "output_type": "stream",
     "text": [
      "1\n",
      "5\n",
      "5 8 3 7 6 8 23 74 5 9\n",
      "3\n"
     ]
    }
   ],
   "source": [
    "#User function Template for python3\n",
    "\n",
    "\n",
    "class Solution:\n",
    "    \n",
    "    #Function to find the minimum element in sorted and rotated array.\n",
    "    def minNumber(self, arr,low,high):\n",
    "        #Your code here\n",
    "        # print(min([i for i in range(low,high+1)]))\n",
    "#         print(arr)\n",
    "        \n",
    "        \n",
    "        \n",
    "        return int(str(min(arr)))\n",
    "            \n",
    "#             \n",
    "#         var = arr[0]\n",
    "#         for i in arr:\n",
    "#             print(i)\n",
    "#             if i < var:\n",
    "#                 var = i\n",
    "#         return var\n",
    "        \n",
    "        \n",
    "#{ \n",
    "#  Driver Code Starts\n",
    "#Initial Template for Python 3\n",
    "\n",
    "import math\n",
    "\n",
    "\n",
    "def main():\n",
    "        T=int(input())\n",
    "        while(T>0):\n",
    "            \n",
    "            N=int(input())\n",
    "\n",
    "            A=[int(x) for x in input().strip().split()]\n",
    "            obj = Solution()\n",
    "            print(obj.minNumber(A,0,N-1))\n",
    "            \n",
    "            T-=1\n",
    "\n",
    "\n",
    "if __name__ == \"__main__\":\n",
    "    main()\n",
    "# } Driver Code Ends"
   ]
  },
  {
   "cell_type": "code",
   "execution_count": 71,
   "id": "29b4601d",
   "metadata": {},
   "outputs": [
    {
     "data": {
      "text/plain": [
       "7"
      ]
     },
     "execution_count": 71,
     "metadata": {},
     "output_type": "execute_result"
    }
   ],
   "source": [
    "def ar(array):\n",
    "# array = [6,5,3,4,2,1]\n",
    "    mx=max(array)\n",
    "# print(mx)\n",
    "# print(list(range(1,mx+1)))\n",
    "    l=[x for x in range(1,mx+1)]\n",
    "        # ls=sorted(array)\n",
    "# print(ls)\n",
    "    if sorted(array)==l:\n",
    "        return mx+1\n",
    "    else:\n",
    "        p=[l[i] for i in range(mx) if l[i] not in sorted(array)]\n",
    "                # if l[i] not in sorted(array):\n",
    "        return int(str(p))\n",
    "array = [6,5,3,4,2,1]\n",
    "ar(array)\n"
   ]
  },
  {
   "cell_type": "code",
   "execution_count": 115,
   "id": "27c3381a",
   "metadata": {
    "scrolled": true
   },
   "outputs": [
    {
     "name": "stdout",
     "output_type": "stream",
     "text": [
      "1\n",
      "6\n",
      "1 3 4 5 6\n",
      "2\n"
     ]
    }
   ],
   "source": [
    "#User function Template for python3\n",
    "\n",
    "\n",
    "class Solution:\n",
    "    def MissingNumber(self,array,n):\n",
    "#         mx=max(array)\n",
    "\n",
    "#         l=[x for x in range(1,mx+1)]\n",
    "       \n",
    "#         if sorted(array)==l:\n",
    "#             return mx+1\n",
    "#         else:\n",
    "#             p=[l[i] for i in range(mx) if l[i] not in sorted(array)]\n",
    "                \n",
    "#             return int(str(p))\n",
    "ss = n*(n+1)//2\n",
    "       return ss-sum(array)\n",
    "             \n",
    "\n",
    "#{ \n",
    "#  Driver Code Starts\n",
    "#Initial Template for Python 3\n",
    "\n",
    "\n",
    "\n",
    "\n",
    "t=int(input())\n",
    "for _ in range(0,t):\n",
    "    n=int(input())\n",
    "    a=list(map(int,input().split()))\n",
    "    s=Solution().MissingNumber(a,n)\n",
    "    print(s)\n",
    "# } Driver Code Ends"
   ]
  },
  {
   "cell_type": "code",
   "execution_count": 112,
   "id": "6758607d",
   "metadata": {},
   "outputs": [
    {
     "data": {
      "text/plain": [
       "45"
      ]
     },
     "execution_count": 112,
     "metadata": {},
     "output_type": "execute_result"
    }
   ],
   "source": [
    "array=[5,7,3,2,4,9,1,6,8]\n",
    "sum(array)\n"
   ]
  },
  {
   "cell_type": "code",
   "execution_count": 119,
   "id": "b17b057d",
   "metadata": {},
   "outputs": [
    {
     "name": "stdout",
     "output_type": "stream",
     "text": [
      "2\n",
      "4\n"
     ]
    },
    {
     "data": {
      "text/plain": [
       "3"
      ]
     },
     "execution_count": 119,
     "metadata": {},
     "output_type": "execute_result"
    }
   ],
   "source": [
    "def prime(n):\n",
    "    if n>1:\n",
    "        for i in range(2,n-1):\n",
    "            if n%i==0:\n",
    "                break\n",
    "        return n    \n",
    "def nearestPrime(A, B):\n",
    "    ##Your code here\n",
    "   \n",
    "    \n",
    "    l=[i for i in range(A,B)  if prime(i)]\n",
    "    return l[1]\n",
    "A=int(input())\n",
    "B=int(input())\n",
    "nearestPower(A, B)"
   ]
  },
  {
   "cell_type": "code",
   "execution_count": 147,
   "id": "5f019faf",
   "metadata": {},
   "outputs": [
    {
     "name": "stdout",
     "output_type": "stream",
     "text": [
      "7\n",
      "32\n",
      "7\n"
     ]
    }
   ],
   "source": [
    "def power(A,B):\n",
    "#     l=list(range(1,A+1))\n",
    "#     print(l)\n",
    "    \n",
    "    \n",
    "    \n",
    "    l=[A**i for i in range(A)  if(A**i)<=B]\n",
    "    print(l[-1])\n",
    "    \n",
    "A=int(input())\n",
    "B=int(input())\n",
    "power(A, B)    \n"
   ]
  },
  {
   "cell_type": "code",
   "execution_count": 142,
   "id": "9bd1d671",
   "metadata": {},
   "outputs": [
    {
     "name": "stdout",
     "output_type": "stream",
     "text": [
      "[1, 2, 3, 4, 5, 6, 7, 8, 9, 10, 11, 12, 13, 14, 15, 16, 17, 18, 19, 20, 21, 22, 23, 24, 25, 26, 27, 28, 29, 30, 31, 32]"
     ]
    }
   ],
   "source": [
    "# l=list(range(1,32+1))\n",
    "# print(l,end=\"\")"
   ]
  },
  {
   "cell_type": "code",
   "execution_count": 234,
   "id": "91a6d8b9",
   "metadata": {},
   "outputs": [
    {
     "name": "stdout",
     "output_type": "stream",
     "text": [
      "[[0, 0, 0], [0, 0, 1], [0, 1, 0], [0, 1, 1], [1, 0, 0], [1, 0, 1], [1, 1, 0], [1, 1, 1]]\n"
     ]
    },
    {
     "ename": "TypeError",
     "evalue": "'bool' object is not iterable",
     "output_type": "error",
     "traceback": [
      "\u001b[1;31m---------------------------------------------------------------------------\u001b[0m",
      "\u001b[1;31mTypeError\u001b[0m                                 Traceback (most recent call last)",
      "\u001b[1;32m~\\AppData\\Local\\Temp/ipykernel_11116/3872559729.py\u001b[0m in \u001b[0;36m<module>\u001b[1;34m\u001b[0m\n\u001b[0;32m      2\u001b[0m \u001b[0ml\u001b[0m\u001b[1;33m=\u001b[0m\u001b[1;33m[\u001b[0m\u001b[1;33m[\u001b[0m\u001b[0mi\u001b[0m\u001b[1;33m,\u001b[0m\u001b[0mj\u001b[0m\u001b[1;33m,\u001b[0m\u001b[0mk\u001b[0m\u001b[1;33m]\u001b[0m \u001b[1;32mfor\u001b[0m \u001b[0mi\u001b[0m \u001b[1;32min\u001b[0m \u001b[0mrange\u001b[0m\u001b[1;33m(\u001b[0m\u001b[0mn\u001b[0m\u001b[1;33m)\u001b[0m \u001b[1;32mfor\u001b[0m \u001b[0mj\u001b[0m \u001b[1;32min\u001b[0m \u001b[0mrange\u001b[0m\u001b[1;33m(\u001b[0m\u001b[0mn\u001b[0m\u001b[1;33m)\u001b[0m \u001b[1;32mfor\u001b[0m \u001b[0mk\u001b[0m \u001b[1;32min\u001b[0m \u001b[0mrange\u001b[0m\u001b[1;33m(\u001b[0m\u001b[0mn\u001b[0m\u001b[1;33m)\u001b[0m\u001b[1;33m]\u001b[0m\u001b[1;33m\u001b[0m\u001b[1;33m\u001b[0m\u001b[0m\n\u001b[0;32m      3\u001b[0m \u001b[0mprint\u001b[0m\u001b[1;33m(\u001b[0m\u001b[0ml\u001b[0m\u001b[1;33m)\u001b[0m\u001b[1;33m\u001b[0m\u001b[1;33m\u001b[0m\u001b[0m\n\u001b[1;32m----> 4\u001b[1;33m \u001b[0mln\u001b[0m\u001b[1;33m=\u001b[0m\u001b[1;33m[\u001b[0m\u001b[0mlist\u001b[0m\u001b[1;33m[\u001b[0m\u001b[0mi\u001b[0m\u001b[1;33m]\u001b[0m \u001b[1;32mfor\u001b[0m \u001b[0mi\u001b[0m \u001b[1;32min\u001b[0m \u001b[0ml\u001b[0m \u001b[1;32mfor\u001b[0m \u001b[0mj\u001b[0m \u001b[1;32min\u001b[0m \u001b[0mi\u001b[0m \u001b[1;32mif\u001b[0m \u001b[0msum\u001b[0m\u001b[1;33m(\u001b[0m\u001b[0mi\u001b[0m\u001b[1;33m[\u001b[0m\u001b[0mj\u001b[0m\u001b[1;33m]\u001b[0m\u001b[1;33m!=\u001b[0m\u001b[1;36m2\u001b[0m\u001b[1;33m)\u001b[0m\u001b[1;33m]\u001b[0m\u001b[1;33m\u001b[0m\u001b[1;33m\u001b[0m\u001b[0m\n\u001b[0m\u001b[0;32m      5\u001b[0m \u001b[0mprint\u001b[0m\u001b[1;33m(\u001b[0m\u001b[0mln\u001b[0m\u001b[1;33m)\u001b[0m\u001b[1;33m\u001b[0m\u001b[1;33m\u001b[0m\u001b[0m\n\u001b[0;32m      6\u001b[0m \u001b[0mprint\u001b[0m\u001b[1;33m(\u001b[0m\u001b[0mlen\u001b[0m\u001b[1;33m(\u001b[0m\u001b[0ml\u001b[0m\u001b[1;33m)\u001b[0m\u001b[1;33m)\u001b[0m\u001b[1;33m\u001b[0m\u001b[1;33m\u001b[0m\u001b[0m\n",
      "\u001b[1;32m~\\AppData\\Local\\Temp/ipykernel_11116/3872559729.py\u001b[0m in \u001b[0;36m<listcomp>\u001b[1;34m(.0)\u001b[0m\n\u001b[0;32m      2\u001b[0m \u001b[0ml\u001b[0m\u001b[1;33m=\u001b[0m\u001b[1;33m[\u001b[0m\u001b[1;33m[\u001b[0m\u001b[0mi\u001b[0m\u001b[1;33m,\u001b[0m\u001b[0mj\u001b[0m\u001b[1;33m,\u001b[0m\u001b[0mk\u001b[0m\u001b[1;33m]\u001b[0m \u001b[1;32mfor\u001b[0m \u001b[0mi\u001b[0m \u001b[1;32min\u001b[0m \u001b[0mrange\u001b[0m\u001b[1;33m(\u001b[0m\u001b[0mn\u001b[0m\u001b[1;33m)\u001b[0m \u001b[1;32mfor\u001b[0m \u001b[0mj\u001b[0m \u001b[1;32min\u001b[0m \u001b[0mrange\u001b[0m\u001b[1;33m(\u001b[0m\u001b[0mn\u001b[0m\u001b[1;33m)\u001b[0m \u001b[1;32mfor\u001b[0m \u001b[0mk\u001b[0m \u001b[1;32min\u001b[0m \u001b[0mrange\u001b[0m\u001b[1;33m(\u001b[0m\u001b[0mn\u001b[0m\u001b[1;33m)\u001b[0m\u001b[1;33m]\u001b[0m\u001b[1;33m\u001b[0m\u001b[1;33m\u001b[0m\u001b[0m\n\u001b[0;32m      3\u001b[0m \u001b[0mprint\u001b[0m\u001b[1;33m(\u001b[0m\u001b[0ml\u001b[0m\u001b[1;33m)\u001b[0m\u001b[1;33m\u001b[0m\u001b[1;33m\u001b[0m\u001b[0m\n\u001b[1;32m----> 4\u001b[1;33m \u001b[0mln\u001b[0m\u001b[1;33m=\u001b[0m\u001b[1;33m[\u001b[0m\u001b[0mlist\u001b[0m\u001b[1;33m[\u001b[0m\u001b[0mi\u001b[0m\u001b[1;33m]\u001b[0m \u001b[1;32mfor\u001b[0m \u001b[0mi\u001b[0m \u001b[1;32min\u001b[0m \u001b[0ml\u001b[0m \u001b[1;32mfor\u001b[0m \u001b[0mj\u001b[0m \u001b[1;32min\u001b[0m \u001b[0mi\u001b[0m \u001b[1;32mif\u001b[0m \u001b[0msum\u001b[0m\u001b[1;33m(\u001b[0m\u001b[0mi\u001b[0m\u001b[1;33m[\u001b[0m\u001b[0mj\u001b[0m\u001b[1;33m]\u001b[0m\u001b[1;33m!=\u001b[0m\u001b[1;36m2\u001b[0m\u001b[1;33m)\u001b[0m\u001b[1;33m]\u001b[0m\u001b[1;33m\u001b[0m\u001b[1;33m\u001b[0m\u001b[0m\n\u001b[0m\u001b[0;32m      5\u001b[0m \u001b[0mprint\u001b[0m\u001b[1;33m(\u001b[0m\u001b[0mln\u001b[0m\u001b[1;33m)\u001b[0m\u001b[1;33m\u001b[0m\u001b[1;33m\u001b[0m\u001b[0m\n\u001b[0;32m      6\u001b[0m \u001b[0mprint\u001b[0m\u001b[1;33m(\u001b[0m\u001b[0mlen\u001b[0m\u001b[1;33m(\u001b[0m\u001b[0ml\u001b[0m\u001b[1;33m)\u001b[0m\u001b[1;33m)\u001b[0m\u001b[1;33m\u001b[0m\u001b[1;33m\u001b[0m\u001b[0m\n",
      "\u001b[1;31mTypeError\u001b[0m: 'bool' object is not iterable"
     ]
    }
   ],
   "source": [
    "n=2\n",
    "l=[[i,j,k] for i in range(n) for j in range(n) for k in range(n)]\n",
    "print(l)\n",
    "ln=[list[i] for i in l for j in i if sum(i[j]!=2)]\n",
    "print(ln)\n",
    "print(len(l))"
   ]
  },
  {
   "cell_type": "code",
   "execution_count": 244,
   "id": "58dc810c",
   "metadata": {},
   "outputs": [
    {
     "name": "stdout",
     "output_type": "stream",
     "text": [
      "[[0, 0, 0], [0, 0, 1], [0, 1, 0], [1, 0, 0], [1, 1, 1]]\n"
     ]
    }
   ],
   "source": [
    "print([i for i in l if sum(i)!=2])\n",
    "    \n",
    "\n",
    "        "
   ]
  },
  {
   "cell_type": "code",
   "execution_count": 36,
   "id": "64468cb6",
   "metadata": {
    "scrolled": true
   },
   "outputs": [
    {
     "name": "stdout",
     "output_type": "stream",
     "text": [
      "string before split a Blue MOON\n",
      "word after split a Blue MOON\n",
      "1.line nthng have  \n",
      "i = a\n",
      "2.line after word for loop   a and len of i 1\n",
      "6.line after j loop     a \n",
      "i = Blue\n",
      "2.line after word for loop   a B and len of i 4\n",
      "i[j-1].lower() b and i[j].lower() l\n",
      "i[j-1].lower()<i[j].lower() True\n",
      "3.line after if   a BL\n",
      "i[j-1].lower() l and i[j].lower() u\n",
      "i[j-1].lower()<i[j].lower() True\n",
      "3.line after if   a BLU\n",
      "i[j-1].lower() u and i[j].lower() e\n",
      "i[j-1].lower()>i[j].lower() True\n",
      "4.line after elif   a BLUe\n",
      "6.line after j loop     a BLUe \n",
      "i = MOON\n",
      "2.line after word for loop   a BLUe M and len of i 4\n",
      "i[j-1].lower() m and i[j].lower() o\n",
      "i[j-1].lower()<i[j].lower() True\n",
      "3.line after if   a BLUe MO\n",
      "5.line after else    a BLUe MOO\n",
      "i[j-1].lower() o and i[j].lower() n\n",
      "i[j-1].lower()>i[j].lower() True\n",
      "4.line after elif   a BLUe MOOn\n",
      "6.line after j loop     a BLUe MOOn \n",
      " a BLUe MOOn \n"
     ]
    }
   ],
   "source": [
    "def xyz(s):\n",
    "    print(\"string before split\",s)\n",
    "    w=s.split()\n",
    "    print(\"word after split\",s)\n",
    "    l=\" \"\n",
    "    print(\"1.line nthng have\",l)\n",
    "    for i in w:\n",
    "        l+=i[0]\n",
    "        print(\"i =\",i)\n",
    "        print(\"2.line after word for loop \",l,\"and len of i\",len(i))\n",
    "        \n",
    "        for j in range(1,len(i)):\n",
    "            if i[j-1].lower()<i[j].lower():\n",
    "                print(\"i[j-1].lower()\",i[j-1].lower(),\"and i[j].lower()\",i[j].lower())\n",
    "                print(\"i[j-1].lower()<i[j].lower()\",i[j-1].lower()<i[j].lower())\n",
    "                l+=i[j].upper()\n",
    "                print(\"3.line after if \",l)\n",
    "            elif i[j-1].lower()>i[j].lower():\n",
    "                print(\"i[j-1].lower()\",i[j-1].lower(),\"and i[j].lower()\",i[j].lower())\n",
    "                print(\"i[j-1].lower()>i[j].lower()\",i[j-1].lower()>i[j].lower())\n",
    "                l+=i[j].lower()\n",
    "                print(\"4.line after elif \",l)\n",
    "            else:\n",
    "                l+=i[j]\n",
    "                print(\"5.line after else  \",l)\n",
    "        l+=\" \"\n",
    "        print(\"6.line after j loop   \",l)\n",
    "    print( l[::]  )       \n",
    "    \n",
    "        \n",
    "    \n",
    "#     print(k)\n",
    "    \n",
    "    \n",
    "s=\"a Blue MOON\" \n",
    "xyz(s)"
   ]
  },
  {
   "cell_type": "code",
   "execution_count": null,
   "id": "c6254a9e",
   "metadata": {},
   "outputs": [],
   "source": [
    "string before split coOL dog\n",
    "word after split coOL dog\n",
    "1.line nthng have  \n",
    "i = coOL\n",
    "2.line after word for loop   c and len of i 4\n",
    "i[j-1].lower() c and i[j].lower() o\n",
    "i[j-1].lower()<i[j].lower() True\n",
    "3.line after if   cO\n",
    "5.line after else    cOO\n",
    "i[j-1].lower() o and i[j].lower() l\n",
    "i[j-1].lower()>i[j].lower() True\n",
    "4.line after elif   cOOl\n",
    "6.line after j loop     cOOl \n",
    "i = dog\n",
    "2.line after word for loop   cOOl d and len of i 3\n",
    "i[j-1].lower() d and i[j].lower() o\n",
    "i[j-1].lower()<i[j].lower() True\n",
    "3.line after if   cOOl dO\n",
    "i[j-1].lower() o and i[j].lower() g\n",
    "i[j-1].lower()>i[j].lower() True\n",
    "4.line after elif   cOOl dOg\n",
    "6.line after j loop     cOOl dOg \n",
    " cOOl dOg"
   ]
  },
  {
   "cell_type": "code",
   "execution_count": null,
   "id": "88d1b80e",
   "metadata": {},
   "outputs": [],
   "source": [
    "string before split a Blue MOON\n",
    "word after split a Blue MOON\n",
    "1.line nthng have  \n",
    "i = a\n",
    "2.line after word for loop   a and len of i 1\n",
    "6.line after j loop     a \n",
    "i = Blue\n",
    "2.line after word for loop   a B and len of i 4\n",
    "i[j-1].lower() b and i[j].lower() l\n",
    "i[j-1].lower()<i[j].lower() True\n",
    "3.line after if   a BL\n",
    "i[j-1].lower() l and i[j].lower() u\n",
    "i[j-1].lower()<i[j].lower() True\n",
    "3.line after if   a BLU\n",
    "i[j-1].lower() u and i[j].lower() e\n",
    "i[j-1].lower()>i[j].lower() True\n",
    "4.line after elif   a BLUe\n",
    "6.line after j loop     a BLUe \n",
    "i = MOON\n",
    "2.line after word for loop   a BLUe M and len of i 4\n",
    "i[j-1].lower() m and i[j].lower() o\n",
    "i[j-1].lower()<i[j].lower() True\n",
    "3.line after if   a BLUe MO\n",
    "5.line after else    a BLUe MOO\n",
    "i[j-1].lower() o and i[j].lower() n\n",
    "i[j-1].lower()>i[j].lower() True\n",
    "4.line after elif   a BLUe MOOn\n",
    "6.line after j loop     a BLUe MOOn \n",
    " a BLUe MOOn"
   ]
  },
  {
   "cell_type": "code",
   "execution_count": 34,
   "id": "2e9cd42f",
   "metadata": {},
   "outputs": [
    {
     "data": {
      "text/plain": [
       "'a Blue MOON'"
      ]
     },
     "execution_count": 34,
     "metadata": {},
     "output_type": "execute_result"
    }
   ],
   "source": [
    "s=\"a Blue MOON\"\n",
    "s[::]"
   ]
  },
  {
   "cell_type": "code",
   "execution_count": null,
   "id": "454ad1da",
   "metadata": {},
   "outputs": [],
   "source": [
    "def xyz(s):\n",
    "    for i in s:\n",
    "        \n",
    "        x=s[0]\n",
    "        y=s[1]\n",
    "        if s[]\n",
    "        \n",
    "    \n",
    "        \n",
    "    \n",
    "s=\"a Blue MOON\" \n",
    "xyz(s)    "
   ]
  },
  {
   "cell_type": "code",
   "execution_count": 168,
   "id": "75c97dad",
   "metadata": {},
   "outputs": [
    {
     "data": {
      "text/plain": [
       "[0]"
      ]
     },
     "execution_count": 168,
     "metadata": {},
     "output_type": "execute_result"
    }
   ],
   "source": [
    "list(range(0,1))"
   ]
  },
  {
   "cell_type": "code",
   "execution_count": 167,
   "id": "149b7ee0",
   "metadata": {
    "scrolled": true
   },
   "outputs": [
    {
     "data": {
      "text/plain": [
       "1"
      ]
     },
     "execution_count": 167,
     "metadata": {},
     "output_type": "execute_result"
    }
   ],
   "source": [
    "len('a')"
   ]
  },
  {
   "cell_type": "code",
   "execution_count": 182,
   "id": "0d4dac7c",
   "metadata": {},
   "outputs": [
    {
     "data": {
      "text/plain": [
       "'l'"
      ]
     },
     "execution_count": 182,
     "metadata": {},
     "output_type": "execute_result"
    }
   ],
   "source": [
    "s=['a', 'Blue', 'MOON']\n",
    "s[1][1]"
   ]
  },
  {
   "cell_type": "code",
   "execution_count": 32,
   "id": "b82eb23b",
   "metadata": {},
   "outputs": [
    {
     "name": "stdout",
     "output_type": "stream",
     "text": [
      "5 6 7 8\n",
      "6.50\n"
     ]
    }
   ],
   "source": [
    "def average(a):\n",
    "    \n",
    "    return sum(a)/len(a)\n",
    "\n",
    "# n=int(input())\n",
    "a=list(map(float,input().split()))\n",
    "\n",
    "s=average(a)\n",
    "print(format(s,\".2f\"))"
   ]
  },
  {
   "cell_type": "code",
   "execution_count": 38,
   "id": "03b9575f",
   "metadata": {},
   "outputs": [
    {
     "ename": "KeyError",
     "evalue": "'OUTPUT_PATH'",
     "output_type": "error",
     "traceback": [
      "\u001b[1;31m---------------------------------------------------------------------------\u001b[0m",
      "\u001b[1;31mKeyError\u001b[0m                                  Traceback (most recent call last)",
      "\u001b[1;32m~\\AppData\\Local\\Temp/ipykernel_9656/3102391664.py\u001b[0m in \u001b[0;36m<module>\u001b[1;34m\u001b[0m\n\u001b[0;32m      8\u001b[0m \u001b[1;32mif\u001b[0m \u001b[0m__name__\u001b[0m \u001b[1;33m==\u001b[0m \u001b[1;34m'__main__'\u001b[0m\u001b[1;33m:\u001b[0m\u001b[1;33m\u001b[0m\u001b[1;33m\u001b[0m\u001b[0m\n\u001b[0;32m      9\u001b[0m \u001b[1;33m\u001b[0m\u001b[0m\n\u001b[1;32m---> 10\u001b[1;33m     \u001b[0mfptr\u001b[0m \u001b[1;33m=\u001b[0m \u001b[0mopen\u001b[0m\u001b[1;33m(\u001b[0m\u001b[0mos\u001b[0m\u001b[1;33m.\u001b[0m\u001b[0menviron\u001b[0m\u001b[1;33m[\u001b[0m\u001b[1;34m'OUTPUT_PATH'\u001b[0m\u001b[1;33m]\u001b[0m\u001b[1;33m,\u001b[0m \u001b[1;34m'w'\u001b[0m\u001b[1;33m)\u001b[0m\u001b[1;33m\u001b[0m\u001b[1;33m\u001b[0m\u001b[0m\n\u001b[0m\u001b[0;32m     11\u001b[0m \u001b[1;33m\u001b[0m\u001b[0m\n\u001b[0;32m     12\u001b[0m     \u001b[0ma_count\u001b[0m \u001b[1;33m=\u001b[0m \u001b[0mint\u001b[0m\u001b[1;33m(\u001b[0m\u001b[0minput\u001b[0m\u001b[1;33m(\u001b[0m\u001b[1;33m)\u001b[0m\u001b[1;33m.\u001b[0m\u001b[0mstrip\u001b[0m\u001b[1;33m(\u001b[0m\u001b[1;33m)\u001b[0m\u001b[1;33m)\u001b[0m\u001b[1;33m\u001b[0m\u001b[1;33m\u001b[0m\u001b[0m\n",
      "\u001b[1;32mC:\\ProgramData\\Anaconda3\\lib\\os.py\u001b[0m in \u001b[0;36m__getitem__\u001b[1;34m(self, key)\u001b[0m\n\u001b[0;32m    677\u001b[0m         \u001b[1;32mexcept\u001b[0m \u001b[0mKeyError\u001b[0m\u001b[1;33m:\u001b[0m\u001b[1;33m\u001b[0m\u001b[1;33m\u001b[0m\u001b[0m\n\u001b[0;32m    678\u001b[0m             \u001b[1;31m# raise KeyError with the original key value\u001b[0m\u001b[1;33m\u001b[0m\u001b[1;33m\u001b[0m\u001b[0m\n\u001b[1;32m--> 679\u001b[1;33m             \u001b[1;32mraise\u001b[0m \u001b[0mKeyError\u001b[0m\u001b[1;33m(\u001b[0m\u001b[0mkey\u001b[0m\u001b[1;33m)\u001b[0m \u001b[1;32mfrom\u001b[0m \u001b[1;32mNone\u001b[0m\u001b[1;33m\u001b[0m\u001b[1;33m\u001b[0m\u001b[0m\n\u001b[0m\u001b[0;32m    680\u001b[0m         \u001b[1;32mreturn\u001b[0m \u001b[0mself\u001b[0m\u001b[1;33m.\u001b[0m\u001b[0mdecodevalue\u001b[0m\u001b[1;33m(\u001b[0m\u001b[0mvalue\u001b[0m\u001b[1;33m)\u001b[0m\u001b[1;33m\u001b[0m\u001b[1;33m\u001b[0m\u001b[0m\n\u001b[0;32m    681\u001b[0m \u001b[1;33m\u001b[0m\u001b[0m\n",
      "\u001b[1;31mKeyError\u001b[0m: 'OUTPUT_PATH'"
     ]
    }
   ],
   "source": [
    "import os\n",
    "def sortedSum(a):\n",
    "    pass\n",
    "    # Write your code here\n",
    "    \n",
    "    return (a*(a+1))/2\n",
    "\n"
   ]
  },
  {
   "cell_type": "code",
   "execution_count": 73,
   "id": "36ac6968",
   "metadata": {},
   "outputs": [
    {
     "name": "stdout",
     "output_type": "stream",
     "text": [
      "[9, 8, 5, 4, 2]\n"
     ]
    },
    {
     "ename": "IndexError",
     "evalue": "list index out of range",
     "output_type": "error",
     "traceback": [
      "\u001b[1;31m---------------------------------------------------------------------------\u001b[0m",
      "\u001b[1;31mIndexError\u001b[0m                                Traceback (most recent call last)",
      "\u001b[1;32m~\\AppData\\Local\\Temp/ipykernel_9656/2357306650.py\u001b[0m in \u001b[0;36m<module>\u001b[1;34m\u001b[0m\n\u001b[0;32m      7\u001b[0m \u001b[0mn\u001b[0m\u001b[1;33m=\u001b[0m\u001b[1;36m5\u001b[0m\u001b[1;33m\u001b[0m\u001b[1;33m\u001b[0m\u001b[0m\n\u001b[0;32m      8\u001b[0m \u001b[1;32mwhile\u001b[0m \u001b[0mn\u001b[0m\u001b[1;33m>\u001b[0m\u001b[1;36m1\u001b[0m\u001b[1;33m:\u001b[0m\u001b[1;33m\u001b[0m\u001b[1;33m\u001b[0m\u001b[0m\n\u001b[1;32m----> 9\u001b[1;33m     \u001b[0ml\u001b[0m\u001b[1;33m.\u001b[0m\u001b[0mappend\u001b[0m\u001b[1;33m(\u001b[0m\u001b[0ma\u001b[0m\u001b[1;33m[\u001b[0m\u001b[0mn\u001b[0m\u001b[1;33m]\u001b[0m\u001b[1;33m*\u001b[0m\u001b[0mn\u001b[0m\u001b[1;33m)\u001b[0m\u001b[1;33m\u001b[0m\u001b[1;33m\u001b[0m\u001b[0m\n\u001b[0m\u001b[0;32m     10\u001b[0m \u001b[1;33m\u001b[0m\u001b[0m\n\u001b[0;32m     11\u001b[0m     \u001b[0mn\u001b[0m\u001b[1;33m-=\u001b[0m\u001b[1;36m1\u001b[0m\u001b[1;33m\u001b[0m\u001b[1;33m\u001b[0m\u001b[0m\n",
      "\u001b[1;31mIndexError\u001b[0m: list index out of range"
     ]
    }
   ],
   "source": [
    "import math\n",
    "a=[4,2,8,9,5]\n",
    "a1=sorted(a)\n",
    "a1=a1[::-1]\n",
    "print(a1)\n",
    "l=[]\n",
    "c\n",
    "l.append(a1[0]*math.factorial(i))  "
   ]
  },
  {
   "cell_type": "code",
   "execution_count": 79,
   "id": "13c36ba2",
   "metadata": {},
   "outputs": [
    {
     "name": "stdout",
     "output_type": "stream",
     "text": [
      "ab\n"
     ]
    }
   ],
   "source": [
    "l=[\"a\",\"b\"]\n",
    "s=\"\"\n",
    "for i in l:\n",
    "    s+=i\n",
    "# s+=\" \" \n",
    "print(s)"
   ]
  },
  {
   "cell_type": "code",
   "execution_count": 82,
   "id": "edf8ff68",
   "metadata": {},
   "outputs": [
    {
     "name": "stdout",
     "output_type": "stream",
     "text": [
      "0\n"
     ]
    }
   ],
   "source": [
    "s=\"I am an Indian, by birth.\"\n",
    "sb=\"Birth\"\n",
    "count = 0\n",
    "for i in range(len(s)):\n",
    "    if s[i:].startswith(sb):\n",
    "        count += 1\n",
    "print(count)"
   ]
  },
  {
   "cell_type": "code",
   "execution_count": 83,
   "id": "e44adb20",
   "metadata": {},
   "outputs": [
    {
     "data": {
      "text/plain": [
       "25"
      ]
     },
     "execution_count": 83,
     "metadata": {},
     "output_type": "execute_result"
    }
   ],
   "source": [
    "len(s)"
   ]
  },
  {
   "cell_type": "code",
   "execution_count": 92,
   "id": "82f1f2b4",
   "metadata": {},
   "outputs": [
    {
     "data": {
      "text/plain": [
       "'Indian, by birth.'"
      ]
     },
     "execution_count": 92,
     "metadata": {},
     "output_type": "execute_result"
    }
   ],
   "source": [
    "s[:]"
   ]
  },
  {
   "cell_type": "code",
   "execution_count": 87,
   "id": "209f0c11",
   "metadata": {},
   "outputs": [
    {
     "data": {
      "text/plain": [
       "False"
      ]
     },
     "execution_count": 87,
     "metadata": {},
     "output_type": "execute_result"
    }
   ],
   "source": [
    "s.startswith(sb)"
   ]
  },
  {
   "cell_type": "code",
   "execution_count": 94,
   "id": "239b42c7",
   "metadata": {},
   "outputs": [
    {
     "name": "stdout",
     "output_type": "stream",
     "text": [
      "12\n",
      "4.0\n",
      "is the best place to learn and practice coding!\n",
      "16\n",
      "8.0\n",
      "HackerRank is the best place to learn and practice coding!\n"
     ]
    }
   ],
   "source": [
    "i = 4\n",
    "d = 4.0\n",
    "s = 'HackerRank '\n",
    "# Declare second integer, double, and String variables.\n",
    "j=int(input())\n",
    "# Read and save an integer, double, and String to your variables.\n",
    "e=float(input())\n",
    "# Print the sum of both integer variables on a new line.\n",
    "t=input()\n",
    "print (i+j)\n",
    "# Print the sum of the double variables on a new line.\n",
    "print(d+e) \n",
    "# Concatenate and print the String variables on a new line\n",
    "# The 's' variable above should be printed first.\n",
    "print (s+t)"
   ]
  },
  {
   "cell_type": "code",
   "execution_count": 102,
   "id": "567a08c3",
   "metadata": {},
   "outputs": [
    {
     "name": "stdout",
     "output_type": "stream",
     "text": [
      "[2, 3, 5, 6, 6, 7, 9]\n",
      "[9, 7, 6, 6, 5, 3, 2]\n",
      "[2, 3, 5]\n",
      "[9, 7, 6]\n",
      "7\n"
     ]
    }
   ],
   "source": [
    "a=[5,7,9,6,3,2,6]\n",
    "k=2\n",
    "am=sorted(a)\n",
    "print(am)\n",
    "an=am[::-1]\n",
    "print(an)\n",
    "lm=[am[i] for i in range(0,k+1) ]\n",
    "ln=[an[i] for i in range(0,k+1)]\n",
    "\n",
    "print(lm)\n",
    "print(ln)\n",
    "print(max(ln)-min(lm))"
   ]
  },
  {
   "cell_type": "code",
   "execution_count": 118,
   "id": "fa25b328",
   "metadata": {},
   "outputs": [
    {
     "name": "stdout",
     "output_type": "stream",
     "text": [
      "5\n",
      "    H    \n",
      "   HHH   \n",
      "  HHHHH  \n",
      " HHHHHHH \n",
      "HHHHHHHHH\n",
      "  HHHHH               HHHHH             \n",
      "  HHHHH               HHHHH             \n",
      "  HHHHH               HHHHH             \n",
      "  HHHHH               HHHHH             \n",
      "  HHHHH               HHHHH             \n",
      "  HHHHH               HHHHH             \n",
      "  HHHHHHHHHHHHHHHHHHHHHHHHH   \n",
      "  HHHHHHHHHHHHHHHHHHHHHHHHH   \n",
      "  HHHHHHHHHHHHHHHHHHHHHHHHH   \n",
      "  HHHHH               HHHHH             \n",
      "  HHHHH               HHHHH             \n",
      "  HHHHH               HHHHH             \n",
      "  HHHHH               HHHHH             \n",
      "  HHHHH               HHHHH             \n",
      "  HHHHH               HHHHH             \n",
      "                    HHHHHHHHH \n",
      "                     HHHHHHH  \n",
      "                      HHHHH   \n",
      "                       HHH    \n",
      "                        H     \n"
     ]
    }
   ],
   "source": [
    "thickness = int(input()) #This must be an odd number\n",
    "c = 'H'\n",
    "\n",
    "#Top Cone\n",
    "for i in range(thickness):\n",
    "    print((c*i).rjust(thickness-1)+c+(c*i).ljust(thickness-1))\n",
    "\n",
    "#Top Pillars\n",
    "for i in range(thickness+1):\n",
    "    print((c*thickness).center(thickness*2)+(c*thickness).center(thickness*6))\n",
    "\n",
    "#Middle Belt\n",
    "for i in range((thickness+1)//2):\n",
    "    print((c*thickness*5).center(thickness*6))    \n",
    "\n",
    "#Bottom Pillars\n",
    "for i in range(thickness+1):\n",
    "    print((c*thickness).center(thickness*2)+(c*thickness).center(thickness*6))    \n",
    "\n",
    "#Bottom Cone\n",
    "for i in range(thickness):\n",
    "    print(((c*(thickness-i-1)).rjust(thickness)+c+(c*(thickness-i-1)).ljust(thickness)).rjust(thickness*6))"
   ]
  },
  {
   "cell_type": "code",
   "execution_count": 119,
   "id": "5904287f",
   "metadata": {},
   "outputs": [
    {
     "name": "stdout",
     "output_type": "stream",
     "text": [
      "abcdefghijklmnopqrstuvwxyz\n",
      "4\n",
      "abcd\n",
      "efgh\n",
      "ijkl\n",
      "mnop\n",
      "qrst\n",
      "uvwx\n",
      "yz\n"
     ]
    }
   ],
   "source": [
    "def wrap(string, max_width):\n",
    "    x=[string[i:i+max_width] for i in range(0, len(string), max_width)]\n",
    "    return \"\\n\".join(x)\n",
    "\n",
    "if __name__ == '__main__':\n",
    "    string, max_width = input(), int(input())\n",
    "    result = wrap(string, max_width)\n",
    "    print(result)"
   ]
  },
  {
   "cell_type": "code",
   "execution_count": 120,
   "id": "64768743",
   "metadata": {},
   "outputs": [
    {
     "data": {
      "text/plain": [
       "'efgh'"
      ]
     },
     "execution_count": 120,
     "metadata": {},
     "output_type": "execute_result"
    }
   ],
   "source": [
    "string[i:i+4]"
   ]
  },
  {
   "cell_type": "code",
   "execution_count": 136,
   "id": "c17fff85",
   "metadata": {},
   "outputs": [
    {
     "name": "stdout",
     "output_type": "stream",
     "text": [
      "1\t1\t1\t1\n",
      "2\t2\t2\t10\n",
      "3\t3\t3\t11\n",
      "4\t4\t4\t100\n",
      "5\t5\t5\t101\n",
      "6\t6\t6\t110\n",
      "7\t7\t7\t111\n",
      "8\t10\t8\t1000\n",
      "9\t11\t9\t1001\n",
      "10\t12\ta\t1010\n",
      "11\t13\tb\t1011\n",
      "12\t14\tc\t1100\n",
      "13\t15\td\t1101\n",
      "14\t16\te\t1110\n",
      "15\t17\tf\t1111\n",
      "16\t20\t10\t10000\n",
      "17\t21\t11\t10001\n"
     ]
    }
   ],
   "source": [
    "number=17\n",
    "\n",
    "\n",
    "\n",
    "for i in range(1,number+1):\n",
    "        print(f\"{i}\\t{oct(i).replace('0o','')}\\t{hex(i).replace('0x','')}\\t{bin(i).replace('0b','')}\")"
   ]
  },
  {
   "cell_type": "code",
   "execution_count": 148,
   "id": "007baba1",
   "metadata": {},
   "outputs": [
    {
     "name": "stdout",
     "output_type": "stream",
     "text": [
      "5\n",
      "2 3 6 6 5\n",
      "[2, 3, 6, 6, 5]\n",
      "6\n",
      "5\n"
     ]
    }
   ],
   "source": [
    "n = int(input())\n",
    "arr = list(map(int, input().split()))\n",
    "print(arr)\n",
    "m=max(arr)\n",
    "print(m)\n",
    "s=list(set(sorted(arr)))\n",
    "s=s[::-1]\n",
    "print(s[1])\n"
   ]
  },
  {
   "cell_type": "code",
   "execution_count": 157,
   "id": "9d11fa0d",
   "metadata": {},
   "outputs": [
    {
     "name": "stdout",
     "output_type": "stream",
     "text": [
      "123\n",
      "<class 'int'>\n"
     ]
    }
   ],
   "source": [
    "l = [1, 2, 3]\n",
    "\n",
    "res = [str(item) for item in l]\n",
    "a = \"\".join(res)\n",
    "a=int(a)\n",
    "print(a)\n",
    "print(type(a))"
   ]
  },
  {
   "cell_type": "code",
   "execution_count": 158,
   "id": "a654092a",
   "metadata": {},
   "outputs": [
    {
     "data": {
      "text/plain": [
       "123"
      ]
     },
     "execution_count": 158,
     "metadata": {},
     "output_type": "execute_result"
    }
   ],
   "source": [
    "a"
   ]
  },
  {
   "cell_type": "code",
   "execution_count": 42,
   "id": "17e6ad5c",
   "metadata": {},
   "outputs": [
    {
     "data": {
      "text/plain": [
       "3"
      ]
     },
     "execution_count": 42,
     "metadata": {},
     "output_type": "execute_result"
    }
   ],
   "source": [
    "A = \"GeeksForGeeks\"\n",
    "B = \"ForGeeksGeeks\"\n",
    "def che(A,B):\n",
    "    count=0\n",
    "    if A==B:\n",
    "        return 0\n",
    "    elif A[0]==B[0]:\n",
    "        return -1\n",
    "    for i in range(len(A)):\n",
    "        if A[i] not in B:\n",
    "            return -1\n",
    "            \n",
    "        elif A[0]!=B[i]:\n",
    "            count+=1 \n",
    "               \n",
    "        else: \n",
    "            break\n",
    "    return count  \n",
    "che(A,B)\n",
    "\n",
    "        "
   ]
  },
  {
   "cell_type": "code",
   "execution_count": 60,
   "id": "a9e740b3",
   "metadata": {},
   "outputs": [
    {
     "name": "stdout",
     "output_type": "stream",
     "text": [
      "5 F\n",
      "6 o\n",
      "7 r\n",
      "0 G\n",
      "1 e\n",
      "1 e\n",
      "3 k\n",
      "4 s\n"
     ]
    },
    {
     "data": {
      "text/plain": [
       "8"
      ]
     },
     "execution_count": 60,
     "metadata": {},
     "output_type": "execute_result"
    }
   ],
   "source": [
    "A = \"GeeksForGeeks\"\n",
    "B = \"ForGeeksGeeks\"\n",
    "def che(A,B):\n",
    "    count=0\n",
    "    for i in range(len(A)):\n",
    "        if A[i]!=B[i]:\n",
    "            x=A.find(B[i]) \n",
    "            \n",
    "            \n",
    "            print(x,B[i])\n",
    "            count+=1\n",
    "    \n",
    "    return count  \n",
    "che(A,B)\n"
   ]
  },
  {
   "cell_type": "code",
   "execution_count": 1,
   "id": "0032e0bf",
   "metadata": {},
   "outputs": [],
   "source": [
    "from collections import Counter\n",
    "class Solution:\n",
    "    def transform(self, A, B): \n",
    "        #failure cases\n",
    "        if len(A) != len(B):\n",
    "            return -1\n",
    "        #failure cases \n",
    "        resA = Counter(A)\n",
    "        resB = Counter(B)\n",
    "        if resA != resB:\n",
    "            return -1\n",
    "        #ans case\n",
    "        #trverse kar rha hu dono string me form back\n",
    "        #and if char in both string matches i-1 j -1\n",
    "        #since me sif string A me hi change kar saktha hu\n",
    "        #toh agar match nhi kar rha toh string A me decrease karuga\n",
    "        ans = 0\n",
    "        i = len(A)-1\n",
    "        j = len(B)-1\n",
    "        while i >= 0 and j >= 0:\n",
    "            if A[i] == B[j]:\n",
    "                i -= 1\n",
    "                j -= 1\n",
    "            else:\n",
    "                i -= 1\n",
    "                ans += 1\n",
    "        return ans"
   ]
  },
  {
   "cell_type": "code",
   "execution_count": 13,
   "id": "340420e7",
   "metadata": {},
   "outputs": [
    {
     "name": "stdout",
     "output_type": "stream",
     "text": [
      "256\n"
     ]
    }
   ],
   "source": [
    "print((2 ** 4) ** 2)\n"
   ]
  },
  {
   "cell_type": "code",
   "execution_count": 15,
   "id": "bfcaec48",
   "metadata": {},
   "outputs": [
    {
     "ename": "SyntaxError",
     "evalue": "invalid syntax (Temp/ipykernel_8468/2281467895.py, line 1)",
     "output_type": "error",
     "traceback": [
      "\u001b[1;36m  File \u001b[1;32m\"C:\\Users\\HP\\AppData\\Local\\Temp/ipykernel_8468/2281467895.py\"\u001b[1;36m, line \u001b[1;32m1\u001b[0m\n\u001b[1;33m    Python Exercise:\u001b[0m\n\u001b[1;37m           ^\u001b[0m\n\u001b[1;31mSyntaxError\u001b[0m\u001b[1;31m:\u001b[0m invalid syntax\n"
     ]
    }
   ],
   "source": [
    "Python Exercise:\n",
    "Q-1:What is the output of the following code?\n",
    "x = 45\n",
    "y = x + '5'\n",
    "print(y)\n",
    "\n",
    "a) Error  \n",
    "b) 50  \n",
    "c) 45+'5'  \n",
    "d) 455   \n",
    "Ans:_a)___\n",
    "\n",
    "Q-2: What is the output of the following code?\n",
    "print(type(10))\n",
    "\n",
    "a) float  \n",
    "b) Whole number  \n",
    "c) int  \n",
    "d) number\n",
    "Ans:__int_\n",
    "Q-3: which is the correct code to print \"Programming\"?\n",
    "a.) print(\"\"Programming\"\")   \n",
    "b.) print('\"Programming\"')   \n",
    "c.) print(\"\\'Programming \\'\")  \n",
    "d.) print(\"\\\"Programming\\\"\")  \n",
    "Ans:_print('\"Programming\"')   __\n",
    "Q-4 Python programming works on compiler.\n",
    "a) True\n",
    "b) False\n",
    "Ans:_false_\n",
    "Q-5 What will be output of following code?\n",
    "output = \"=\" * 10   \n",
    "print(output)\n",
    "Ans:__==========__\n",
    "Q-6 What will be ouput of following code?\n",
    "print(int(5.4533333))\n",
    "5\n",
    "a) 5.4     \n",
    "b) 5.0   \n",
    "c) 5  \n",
    "d) Error  \n",
    "Ans:___\n",
    "Q-7 What will be output of following code?\n",
    "a = 80\n",
    "b = 50\n",
    "print(a and b)\n",
    "\n",
    "a) False  \n",
    "b) 80  \n",
    "c) True  \n",
    "d) 50 \n",
    "Ans:_50__\n",
    "Q-8 What will be output of following code?\n",
    "print(2 ** 4) ** 2\n",
    "\n",
    "a) 32\n",
    "b) 64\n",
    "c) 128\n",
    "d) 256\n",
    "Ans:_256_\n",
    "Q-9 what is the output of print(2 ** 4 ** 2) ?\n",
    "a) 64\n",
    "b) 256\n",
    "c) 512\n",
    "d) 65526\n",
    "Ans:_65526__\n",
    "Q-10 is Python Case-Sensitive and Dynamically typed language?\n",
    "a.) True\n",
    "b.) False\n",
    "Ans:__true"
   ]
  },
  {
   "cell_type": "code",
   "execution_count": 21,
   "id": "c856033f",
   "metadata": {},
   "outputs": [
    {
     "name": "stdout",
     "output_type": "stream",
     "text": [
      "[10, 30, 40, 56, 70, 80, 'C', '+', '+']\n"
     ]
    }
   ],
   "source": [
    "numbers = [10,30,40,56,70,80,90,20,44,67,57,48]\n",
    "numbers[6:] = \"C++\"\n",
    "print(numbers)"
   ]
  },
  {
   "cell_type": "code",
   "execution_count": 27,
   "id": "699d923c",
   "metadata": {},
   "outputs": [
    {
     "ename": "ValueError",
     "evalue": "attempt to assign sequence of size 3 to extended slice of size 5",
     "output_type": "error",
     "traceback": [
      "\u001b[1;31m---------------------------------------------------------------------------\u001b[0m",
      "\u001b[1;31mValueError\u001b[0m                                Traceback (most recent call last)",
      "\u001b[1;32m~\\AppData\\Local\\Temp/ipykernel_8468/3907378893.py\u001b[0m in \u001b[0;36m<module>\u001b[1;34m\u001b[0m\n\u001b[0;32m      1\u001b[0m \u001b[0mnumbers\u001b[0m \u001b[1;33m=\u001b[0m \u001b[1;33m[\u001b[0m\u001b[1;36m10\u001b[0m\u001b[1;33m,\u001b[0m\u001b[1;36m30\u001b[0m\u001b[1;33m,\u001b[0m\u001b[1;36m40\u001b[0m\u001b[1;33m,\u001b[0m\u001b[1;36m56\u001b[0m\u001b[1;33m,\u001b[0m\u001b[1;36m70\u001b[0m\u001b[1;33m,\u001b[0m\u001b[1;36m80\u001b[0m\u001b[1;33m,\u001b[0m\u001b[1;36m90\u001b[0m\u001b[1;33m,\u001b[0m\u001b[1;36m20\u001b[0m\u001b[1;33m,\u001b[0m\u001b[1;36m44\u001b[0m\u001b[1;33m,\u001b[0m\u001b[1;36m67\u001b[0m\u001b[1;33m,\u001b[0m\u001b[1;36m57\u001b[0m\u001b[1;33m,\u001b[0m\u001b[1;36m48\u001b[0m\u001b[1;33m]\u001b[0m\u001b[1;33m\u001b[0m\u001b[1;33m\u001b[0m\u001b[0m\n\u001b[1;32m----> 2\u001b[1;33m \u001b[0mnumbers\u001b[0m\u001b[1;33m[\u001b[0m\u001b[1;36m3\u001b[0m\u001b[1;33m:\u001b[0m\u001b[1;33m:\u001b[0m\u001b[1;36m2\u001b[0m\u001b[1;33m]\u001b[0m \u001b[1;33m=\u001b[0m \u001b[1;34m\"C++\"\u001b[0m\u001b[1;33m\u001b[0m\u001b[1;33m\u001b[0m\u001b[0m\n\u001b[0m\u001b[0;32m      3\u001b[0m \u001b[0mnumbers\u001b[0m\u001b[1;33m[\u001b[0m\u001b[1;36m3\u001b[0m\u001b[1;33m:\u001b[0m\u001b[1;33m:\u001b[0m\u001b[1;36m2\u001b[0m\u001b[1;33m]\u001b[0m\u001b[1;33m\u001b[0m\u001b[1;33m\u001b[0m\u001b[0m\n",
      "\u001b[1;31mValueError\u001b[0m: attempt to assign sequence of size 3 to extended slice of size 5"
     ]
    }
   ],
   "source": [
    "numbers = [10,30,40,56,70,80,90,20,44,67,57,48]\n",
    "numbers[3::2] = \"C++\"\n",
    "numbers[3::2]"
   ]
  },
  {
   "cell_type": "code",
   "execution_count": 31,
   "id": "36666847",
   "metadata": {},
   "outputs": [
    {
     "data": {
      "text/plain": [
       "[10, 30, 40, 56, 70, 80, 90, 20, 44, 67, 57, 48]"
      ]
     },
     "execution_count": 31,
     "metadata": {},
     "output_type": "execute_result"
    }
   ],
   "source": [
    "numbers = [10,30,40,56,70,80,90,20,44,67,57,48]\n",
    "# numbers = [3,3,3]\n",
    "numbers"
   ]
  },
  {
   "cell_type": "code",
   "execution_count": 32,
   "id": "e4deb78f",
   "metadata": {},
   "outputs": [
    {
     "ename": "SyntaxError",
     "evalue": "unmatched ')' (Temp/ipykernel_8468/1702620731.py, line 61)",
     "output_type": "error",
     "traceback": [
      "\u001b[1;36m  File \u001b[1;32m\"C:\\Users\\HP\\AppData\\Local\\Temp/ipykernel_8468/1702620731.py\"\u001b[1;36m, line \u001b[1;32m61\u001b[0m\n\u001b[1;33m    a.) True\u001b[0m\n\u001b[1;37m      ^\u001b[0m\n\u001b[1;31mSyntaxError\u001b[0m\u001b[1;31m:\u001b[0m unmatched ')'\n"
     ]
    }
   ],
   "source": [
    "### List Exercise:\n",
    "\n",
    "numbers = [10,30,40,56,70,80,90,20,44,67,57,48]\n",
    "\n",
    "#-----------------------------------------------------------------------------------------\n",
    "\n",
    "### Q-1.) print(numbers[1:-4:2])\n",
    "\n",
    "#### Ans:__[30, 56, 80, 20]____\n",
    "#### Ans:______\n",
    "\n",
    "#-----------------------------------------------------------------------------------------\n",
    "\n",
    "### Q-2.) print(numbers[::5-3])\n",
    "\n",
    "#### Ans:___[10, 40, 70, 90, 44, 57]_\n",
    "\n",
    "#-----------------------------------------------------------------------------------------\n",
    "\n",
    "### Q-3.) print(numbers[::-2*2])\n",
    "\n",
    "#### Ans:_[48, 20, 56]__\n",
    "\n",
    "\n",
    "### Q-4.) what will be the output of this statement numbers[3::2] = \"C++\"\n",
    "\n",
    "### Ans:____\n",
    "\n",
    "#-----------------------------------------------------------------------------------------\n",
    "\n",
    "### Q-5.) numbers = [10,30,40,56,70,80,90,20,44,67,57,48]\n",
    "###          numbers[6:] = \"C++\"\n",
    "###          print(numbers)\n",
    "\n",
    "\n",
    "#### Ans: ____\n",
    "\n",
    "#-----------------------------------------------------------------------------------------\n",
    "\n",
    "### Q-6.) numbers = [10,30,40,56,70,80,90,20,44,67,57,48]\n",
    "###          numbers[::3] = [3,3,3]\n",
    "\n",
    "#### Ans:_____\n",
    "\n",
    "#-----------------------------------------------------------------------------------------\n",
    "\n",
    "### Q-7.) what is difference between append and extend of the list?\n",
    "\n",
    "#### Ans:____\n",
    "\n",
    "#-----------------------------------------------------------------------------------------\n",
    "\n",
    "### Q-8.) What is difference between remove, pop?\n",
    "\n",
    "### Ans:__remove () delet value we pass and pop()_ remove last we insert_\n",
    "\n",
    "#-----------------------------------------------------------------------------------------\n",
    "\n",
    "### Q-9) List is mutable data structure.\n",
    "\n",
    "a.) True     \n",
    "b.) False\n",
    "\n",
    "#### Ans:__true__\n",
    "   \n",
    "\n",
    "#-----------------------------------------------------------------------------------------\n",
    "\n",
    "### Q-10) We can store integer, float, string or other data structure in the list.\n",
    "\n",
    "a.) True   \n",
    "b.) False\n",
    "\n",
    "#### Ans:__True____"
   ]
  },
  {
   "cell_type": "code",
   "execution_count": 35,
   "id": "affd78c1",
   "metadata": {},
   "outputs": [
    {
     "name": "stdout",
     "output_type": "stream",
     "text": [
      "[30, 50, 50, 60, 70]\n",
      "['abc', '12.23', 'xyz', 'ProgrammingIsFun']\n"
     ]
    }
   ],
   "source": [
    "# Question1:\n",
    "# a.) Extract numbers from the list which are greater than 5 and saved into the new list\n",
    "lst = [1,2,3,4,5,'a','abc','ba',\"12.23\",34.45,\"xyz\",30,50,50,60,70,'ProgrammingIsFun']\n",
    "l=[]\n",
    "for  i in lst:\n",
    "    if type(i)==int and i>5:\n",
    "        l.append(i)\n",
    "print(l)\n",
    "# b.) Extract string from the list which string length greater than 2 and saved into the new list\n",
    "lst = [1,2,3,4,5,'a','abc','ba',\"12.23\",34.45,\"xyz\",30,50,50,60,70,'ProgrammingIsFun']\n",
    "ls=[]\n",
    "for i in lst:\n",
    "     if type(i)==str and len(i)>2:\n",
    "        ls.append(i)\n",
    "print(ls)    \n"
   ]
  },
  {
   "cell_type": "code",
   "execution_count": null,
   "id": "e8a0ee84",
   "metadata": {},
   "outputs": [],
   "source": [
    "Question1:\n",
    "a.) Extract numbers from the list which are greater than 5 and saved into the new list\n",
    "\n",
    "b.) Extract string from the list which string length greater than 2 and saved into the new list\n",
    "lst = [1,2,3,4,5,'a','abc','ba',\"12.23\",34.45,\"xyz\",30,50,50,60,70,'ProgrammingIsFun']\n",
    "-------------------------------------------------------------------------------------------------------------------------\n",
    "\n",
    "Question2:\n",
    "Find valid mobile number from the list:\n",
    "\n",
    "Rules for valid mobile number:\n",
    "\n",
    "a.) Your number should be start from 60 or 65 \n",
    "b.) Your number length should be 10 \n",
    "c.) All should be number.\n",
    "\n",
    "mobileNum = [889999999,\"9000000X000\", 90992189584, 6545678987,\n",
    "             6598976700,\"65X965456\",6598976700,605657585]\n",
    "# note: these are random numbers.\n",
    "--------------------------------------------------------------------------------------------------------------------------\n",
    "Question3: Masking Emails IDs\n",
    "for an example: \n",
    "\n",
    "ProgrammingisFun@youtube.com -- Masking Email should be: P**************n@y******.com\n",
    "abc@gmail.co.in  --  Masking Email should be: \"a*c@g*******.in\n",
    "\n",
    "EmailList = ['testsample@gmail.com',\"test.sample12@gmail.com\",\"sample.test@yahoo.co.in\",\n",
    "            'abc@rediffmail.com','abc@programmingisfun',\"ProgrammingIsfun@youtube.com\"]\n"
   ]
  },
  {
   "cell_type": "code",
   "execution_count": 36,
   "id": "2e01171c",
   "metadata": {},
   "outputs": [],
   "source": [
    "# Question2:\n",
    "# Find valid mobile number from the list:\n",
    "\n",
    "# Rules for valid mobile number:\n",
    "\n",
    "# a.) Your number should be start from 60 or 65 \n",
    "# b.) Your number length should be 10 \n",
    "# c.) All should be number.\n"
   ]
  },
  {
   "cell_type": "code",
   "execution_count": 53,
   "id": "2f05e177",
   "metadata": {},
   "outputs": [
    {
     "name": "stdout",
     "output_type": "stream",
     "text": [
      "6545678987\n",
      "6598976700\n"
     ]
    }
   ],
   "source": [
    "mobileNum = [889999999,\"9000000X000\", 90992189584, 6545678987, 7598976700,\"65X965456\",6598976700,605657585]\n",
    "for i in mobileNum:\n",
    "    if type(i)==int and len(str(i))==10 and str(i)[0]==\"6\" and (str(i)[1]==\"5\" or \"0\"): \n",
    "        print(i)"
   ]
  },
  {
   "cell_type": "code",
   "execution_count": 41,
   "id": "9a2607c0",
   "metadata": {},
   "outputs": [
    {
     "name": "stdout",
     "output_type": "stream",
     "text": [
      "889999999 is 9\n",
      "9000000X000 is 11\n",
      "90992189584 is 11\n",
      "6545678987 is 10\n",
      "6598976700 is 10\n",
      "65X965456 is 9\n",
      "6598976700 is 10\n",
      "605657585 is 9\n"
     ]
    }
   ],
   "source": [
    "mobileNum = [889999999,\"9000000X000\", 90992189584, 6545678987, 6598976700,\"65X965456\",6598976700,605657585]\n",
    "for i in mobileNum:\n",
    "    print(i,\"is\",len(str(i)))\n",
    "        \n",
    "    "
   ]
  },
  {
   "cell_type": "code",
   "execution_count": 52,
   "id": "ea1bccd8",
   "metadata": {},
   "outputs": [
    {
     "data": {
      "text/plain": [
       "True"
      ]
     },
     "execution_count": 52,
     "metadata": {},
     "output_type": "execute_result"
    }
   ],
   "source": [
    "i=6598976700\n",
    "str(i)[0]==\"6\""
   ]
  },
  {
   "cell_type": "code",
   "execution_count": 54,
   "id": "4c10c7fe",
   "metadata": {},
   "outputs": [],
   "source": [
    "# Question3: Masking Emails IDs for an example:\n",
    "\n",
    "# ProgrammingisFun@youtube.com -- Masking Email should be: P**n@y**.com abc@gmail.co.in -- Masking Email should be: \"ac@g**.in\n",
    "\n",
    "# EmailList = ['testsample@gmail.com',\"test.sample12@gmail.com\",\"sample.test@yahoo.co.in\", 'abc@rediffmail.com','abc@programmingisfun',\"ProgrammingIsfun@youtube.com\"]"
   ]
  },
  {
   "cell_type": "code",
   "execution_count": 105,
   "id": "b1251158",
   "metadata": {},
   "outputs": [],
   "source": [
    "EmailList = ['testsample@gmail.com',\"test.sample12@gmail.com\",\"sample.test@yahoo.co.in\", 'abc@rediffmail.com','abc@programmingisfun.com',\"ProgrammingIsfun@youtube.com\"]"
   ]
  },
  {
   "cell_type": "code",
   "execution_count": 110,
   "id": "cd93e839",
   "metadata": {},
   "outputs": [
    {
     "name": "stdout",
     "output_type": "stream",
     "text": [
      "t********e@g****.com\n",
      "t***********2@g****.com\n",
      "s*********t@y****.co.in\n",
      "a*c@r*********.com\n",
      "a*c@p***************.com\n",
      "P**************n@y******.com\n"
     ]
    }
   ],
   "source": [
    "for i in EmailList:\n",
    "#     print(i)\n",
    "    a1=i.find(\"@\")\n",
    "#     print(a1)\n",
    "    a=a1-2\n",
    "    b1=i.find(\".\",i.find(\"@\"))\n",
    "#     print(b1)\n",
    "    b=(b1-a1)-2\n",
    "#     print(b)\n",
    "#     print(a)\n",
    "    print(i[0]   +   \"*\"*a   +   i[a1-1]   +  \"@\"  + i[a1+1]   +  \"*\"*b +  i[b1:])"
   ]
  },
  {
   "cell_type": "code",
   "execution_count": 114,
   "id": "a6b139f7",
   "metadata": {},
   "outputs": [
    {
     "name": "stdout",
     "output_type": "stream",
     "text": [
      "abc@gmail.com\n",
      "3\n",
      "9\n",
      "4\n",
      "1\n",
      "a*c@g****.com\n"
     ]
    }
   ],
   "source": [
    "m=[\"abc@gmail.com\"]\n",
    "for i in m:\n",
    "    print(i)\n",
    "    a1=i.find(\"@\")\n",
    "    print(a1)\n",
    "    a=a1-2\n",
    "    b1=i.find(\".\",i.find(\"@\"))\n",
    "    print(b1)\n",
    "    b=(b1-a1)-2\n",
    "    print(b)\n",
    "    print(a)\n",
    "    print(i[0]   +   \"*\"*a   +   i[a1-1]   +  \"@\"  + i[a1+1]   +  \"*\"*b +  i[b1:])"
   ]
  },
  {
   "cell_type": "code",
   "execution_count": null,
   "id": "1853a0e6",
   "metadata": {},
   "outputs": [],
   "source": []
  }
 ],
 "metadata": {
  "kernelspec": {
   "display_name": "Python 3 (ipykernel)",
   "language": "python",
   "name": "python3"
  },
  "language_info": {
   "codemirror_mode": {
    "name": "ipython",
    "version": 3
   },
   "file_extension": ".py",
   "mimetype": "text/x-python",
   "name": "python",
   "nbconvert_exporter": "python",
   "pygments_lexer": "ipython3",
   "version": "3.9.7"
  }
 },
 "nbformat": 4,
 "nbformat_minor": 5
}
