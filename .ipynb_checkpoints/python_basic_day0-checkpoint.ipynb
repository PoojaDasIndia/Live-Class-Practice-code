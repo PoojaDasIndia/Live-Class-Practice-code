{
 "cells": [
  {
   "cell_type": "code",
   "execution_count": null,
   "id": "78f2a870",
   "metadata": {},
   "outputs": [],
   "source": [
    "#First code using \" \" & '' for syntax print\n",
    "print(\"This is my fisrt python program\") \n",
    "\n"
   ]
  },
  {
   "cell_type": "code",
   "execution_count": null,
   "id": "56a0df92",
   "metadata": {},
   "outputs": [],
   "source": [
    "#Creating Error # giveing SyntaxError\n",
    "print(\"This is my Fisrt python program)  "
   ]
  },
  {
   "cell_type": "code",
   "execution_count": null,
   "id": "72b2e6e7",
   "metadata": {},
   "outputs": [],
   "source": [
    " #print function can be print \"Hello World\" but it ok with python 2.X version not with Python 3.X\n",
    "print \"Hello World\" "
   ]
  },
  {
   "cell_type": "code",
   "execution_count": null,
   "id": "27a16e4d",
   "metadata": {},
   "outputs": [],
   "source": [
    " # single line comment"
   ]
  },
  {
   "cell_type": "code",
   "execution_count": null,
   "id": "3b9a9d25",
   "metadata": {},
   "outputs": [],
   "source": [
    "\"\"\"gdvv\n",
    "fyh\n",
    "bhgbnv\n",
    "\n",
    "Multiline comment\n",
    "\n",
    "cgdbvb vf\n",
    "htdccdvvv\n",
    "\"\"\""
   ]
  },
  {
   "cell_type": "code",
   "execution_count": null,
   "id": "5ec6beef",
   "metadata": {},
   "outputs": [],
   "source": [
    "a=10 #varibles  and varible namee is \"a\""
   ]
  },
  {
   "cell_type": "code",
   "execution_count": null,
   "id": "15c346b7",
   "metadata": {},
   "outputs": [],
   "source": [
    "a # calling varible"
   ]
  },
  {
   "cell_type": "code",
   "execution_count": null,
   "id": "d4f5a108",
   "metadata": {},
   "outputs": [],
   "source": [
    "type(a) # type() function use know datatype of the varible "
   ]
  },
  {
   "cell_type": "code",
   "execution_count": null,
   "id": "5abc0c1d",
   "metadata": {},
   "outputs": [],
   "source": [
    "b=\"Pooja\"\n",
    "c='Das'\n"
   ]
  },
  {
   "cell_type": "code",
   "execution_count": null,
   "id": "5814de5c",
   "metadata": {},
   "outputs": [],
   "source": [
    "b"
   ]
  },
  {
   "cell_type": "code",
   "execution_count": null,
   "id": "2df25a70",
   "metadata": {},
   "outputs": [],
   "source": [
    "print(b)\n",
    "print(c)"
   ]
  },
  {
   "cell_type": "code",
   "execution_count": null,
   "id": "06db6046",
   "metadata": {},
   "outputs": [],
   "source": [
    "type(b) #string"
   ]
  },
  {
   "cell_type": "code",
   "execution_count": null,
   "id": "6e15e14c",
   "metadata": {},
   "outputs": [],
   "source": [
    "print(a,b,c,\"Hello\")"
   ]
  },
  {
   "cell_type": "code",
   "execution_count": null,
   "id": "9cb232c1",
   "metadata": {},
   "outputs": [],
   "source": [
    "a=15\n",
    "b=\"Dodo\""
   ]
  },
  {
   "cell_type": "code",
   "execution_count": null,
   "id": "3cb28aba",
   "metadata": {},
   "outputs": [],
   "source": [
    "a,b,c=41,\"Das\", 4.3  #single line varible"
   ]
  },
  {
   "cell_type": "code",
   "execution_count": null,
   "id": "7f97bd74",
   "metadata": {},
   "outputs": [],
   "source": [
    "print(a,b,c)"
   ]
  },
  {
   "cell_type": "code",
   "execution_count": null,
   "id": "134e9d13",
   "metadata": {},
   "outputs": [],
   "source": [
    "type(a)"
   ]
  },
  {
   "cell_type": "code",
   "execution_count": null,
   "id": "98c6be62",
   "metadata": {},
   "outputs": [],
   "source": [
    "type(b)"
   ]
  },
  {
   "cell_type": "code",
   "execution_count": null,
   "id": "231afd91",
   "metadata": {},
   "outputs": [],
   "source": [
    "type(c)"
   ]
  },
  {
   "cell_type": "code",
   "execution_count": null,
   "id": "2251091e",
   "metadata": {},
   "outputs": [],
   "source": [
    "a,b,c # print turples which start with () symbols "
   ]
  },
  {
   "cell_type": "code",
   "execution_count": null,
   "id": "7f2a66b4",
   "metadata": {},
   "outputs": [],
   "source": [
    "type(a,b,c) "
   ]
  },
  {
   "cell_type": "code",
   "execution_count": null,
   "id": "d966f881",
   "metadata": {},
   "outputs": [],
   "source": [
    "print('\"Hello World,i am testing world\"') #printing \" statement\""
   ]
  },
  {
   "cell_type": "code",
   "execution_count": null,
   "id": "661f55cb",
   "metadata": {},
   "outputs": [],
   "source": [
    "#varible name can't be start with  numeric, symbol , keyword or ya space in between name we can use underscores_\n",
    "\n",
    "2a=10 #2a=10 SyntaxError: invalid syntax\n",
    "\n"
   ]
  },
  {
   "cell_type": "code",
   "execution_count": null,
   "id": "64fd050e",
   "metadata": {},
   "outputs": [],
   "source": [
    "#a=10 # took as comment\n",
    "_b=153 #_undrscore vaid"
   ]
  },
  {
   "cell_type": "code",
   "execution_count": null,
   "id": "b0f4c26b",
   "metadata": {},
   "outputs": [],
   "source": [
    "_b"
   ]
  },
  {
   "cell_type": "code",
   "execution_count": null,
   "id": "b28f6d76",
   "metadata": {},
   "outputs": [],
   "source": [
    "testing_varible=123"
   ]
  },
  {
   "cell_type": "code",
   "execution_count": null,
   "id": "4089df31",
   "metadata": {},
   "outputs": [],
   "source": [
    "testing_varible"
   ]
  },
  {
   "cell_type": "code",
   "execution_count": null,
   "id": "105a7838",
   "metadata": {},
   "outputs": [],
   "source": [
    "Name=\"Pooja\"\n",
    "User_ID= \"N001\"\n",
    "Password=\"bjbghjj\"\n",
    "mail_Id=\"poojadas93@outlook.com\""
   ]
  },
  {
   "cell_type": "markdown",
   "id": "4a353d3e",
   "metadata": {},
   "source": [
    "<b>Class Task 1<b>"
   ]
  },
  {
   "cell_type": "code",
   "execution_count": null,
   "id": "4ac34511",
   "metadata": {},
   "outputs": [],
   "source": [
    "#Class Task yes sir  we all knw True=1 nad Flase=0 so it adding 1+1+1+0+1=4\n",
    "a=True+ True+ True+False+True  #1+1+1+0+1=4\n",
    "b=False-True+True # 0-1+1=0"
   ]
  },
  {
   "cell_type": "code",
   "execution_count": null,
   "id": "2a93ad6c",
   "metadata": {},
   "outputs": [],
   "source": [
    "a=True"
   ]
  },
  {
   "cell_type": "code",
   "execution_count": null,
   "id": "ff3ac8b1",
   "metadata": {},
   "outputs": [],
   "source": [
    "type(a)"
   ]
  },
  {
   "cell_type": "code",
   "execution_count": null,
   "id": "46636dba",
   "metadata": {},
   "outputs": [],
   "source": [
    "print(a,b)"
   ]
  },
  {
   "cell_type": "code",
   "execution_count": null,
   "id": "274fd8f8",
   "metadata": {},
   "outputs": [],
   "source": [
    "0-1"
   ]
  },
  {
   "cell_type": "code",
   "execution_count": null,
   "id": "91632b33",
   "metadata": {},
   "outputs": [],
   "source": [
    "0-1+1"
   ]
  },
  {
   "cell_type": "code",
   "execution_count": null,
   "id": "b41cdaa1",
   "metadata": {},
   "outputs": [],
   "source": [
    "print(True+True+False)"
   ]
  },
  {
   "cell_type": "code",
   "execution_count": null,
   "id": "da767187",
   "metadata": {},
   "outputs": [],
   "source": [
    "True*True #1*1"
   ]
  },
  {
   "cell_type": "code",
   "execution_count": null,
   "id": "5bbff5c9",
   "metadata": {},
   "outputs": [],
   "source": [
    "True/False #1/0 error coz ZeroDivisionError: division by zero we cant divde by 0\n",
    "\n",
    "# if we used numpy package it not give error it give \"inf\""
   ]
  },
  {
   "cell_type": "code",
   "execution_count": null,
   "id": "898baf75",
   "metadata": {},
   "outputs": [],
   "source": [
    "False/True #0/1"
   ]
  },
  {
   "cell_type": "code",
   "execution_count": null,
   "id": "1d0616a6",
   "metadata": {},
   "outputs": [],
   "source": [
    "#complex number =real_number +imaginary_number\n",
    "n=45+6j   # we cant used any aplha in imaginary  we only use \"j\""
   ]
  },
  {
   "cell_type": "code",
   "execution_count": null,
   "id": "afe0ef34",
   "metadata": {},
   "outputs": [],
   "source": [
    "type(n)"
   ]
  },
  {
   "cell_type": "code",
   "execution_count": null,
   "id": "64409dcc",
   "metadata": {},
   "outputs": [],
   "source": [
    "print(n) # print complex no."
   ]
  },
  {
   "cell_type": "code",
   "execution_count": null,
   "id": "1111ea39",
   "metadata": {},
   "outputs": [],
   "source": [
    "print(n.real)\n",
    "print(n.imag)"
   ]
  },
  {
   "cell_type": "code",
   "execution_count": null,
   "id": "dc727c8c",
   "metadata": {},
   "outputs": [],
   "source": [
    "complex_no=56+74i #syntax error coz we only have to use \"j\" as it built or fun like that only"
   ]
  },
  {
   "cell_type": "code",
   "execution_count": null,
   "id": "7d9ada2d",
   "metadata": {},
   "outputs": [],
   "source": [
    "n1=78+7j\n",
    "n2=95+8j"
   ]
  },
  {
   "cell_type": "code",
   "execution_count": null,
   "id": "9a140890",
   "metadata": {},
   "outputs": [],
   "source": [
    "print(n1*n2)\n",
    "print(n1+n2)"
   ]
  },
  {
   "cell_type": "code",
   "execution_count": null,
   "id": "c91cdec8",
   "metadata": {},
   "outputs": [],
   "source": [
    "#dynamic typing  where i should not tell my compiler what data type is this it autimatically understand\n",
    "a=\"life\"\n",
    "type(a)"
   ]
  },
  {
   "cell_type": "code",
   "execution_count": null,
   "id": "07fd09e2",
   "metadata": {},
   "outputs": [],
   "source": [
    "1+\"pooja\" #typeError we can't add int +str #hetrogenes datatype"
   ]
  },
  {
   "cell_type": "code",
   "execution_count": null,
   "id": "30b88821",
   "metadata": {},
   "outputs": [],
   "source": [
    "str(1)+\"Pooja\" #typecaste where i convert mt integer into string by str()"
   ]
  },
  {
   "cell_type": "code",
   "execution_count": null,
   "id": "d3b87185",
   "metadata": {},
   "outputs": [],
   "source": [
    "\"1\"+ \"Pooja\" # this is all strong  typing"
   ]
  },
  {
   "cell_type": "code",
   "execution_count": null,
   "id": "54e5bcb2",
   "metadata": {},
   "outputs": [],
   "source": [
    "1+1.0 #upcasting  if it is inteeger no.s thn it perfrom Upcasting as float take more space our result will be float"
   ]
  },
  {
   "cell_type": "code",
   "execution_count": null,
   "id": "80d3fe1c",
   "metadata": {},
   "outputs": [],
   "source": [
    "\"pooja\"+\"pooja\"+\"pooja\" #concatenate"
   ]
  },
  {
   "cell_type": "code",
   "execution_count": null,
   "id": "d7846962",
   "metadata": {},
   "outputs": [],
   "source": [
    "\"pooja\"*3 #concatenate"
   ]
  },
  {
   "cell_type": "code",
   "execution_count": null,
   "id": "f87aec8b",
   "metadata": {},
   "outputs": [],
   "source": [
    "'pooja'"
   ]
  },
  {
   "cell_type": "code",
   "execution_count": null,
   "id": "95016d71",
   "metadata": {},
   "outputs": [],
   "source": [
    "int(\"123\")"
   ]
  },
  {
   "cell_type": "code",
   "execution_count": null,
   "id": "350d2576",
   "metadata": {},
   "outputs": [],
   "source": [
    "int(\"pooja\")"
   ]
  },
  {
   "cell_type": "code",
   "execution_count": null,
   "id": "0c45fbef",
   "metadata": {},
   "outputs": [],
   "source": [
    "a=10\n",
    "a"
   ]
  },
  {
   "cell_type": "code",
   "execution_count": null,
   "id": "cfea3c0a",
   "metadata": {},
   "outputs": [],
   "source": [
    "a=input(\"Enter a interger=\") # input() inbuilt fun used to tak0e input frm user\n",
    "print(\"Answer is =\",a)"
   ]
  },
  {
   "cell_type": "code",
   "execution_count": null,
   "id": "05e56d14",
   "metadata": {},
   "outputs": [],
   "source": [
    "type(a)"
   ]
  },
  {
   "cell_type": "markdown",
   "id": "32e261dd",
   "metadata": {},
   "source": [
    "<b>class Task 2</b>\n",
    " <h3> Q1. Take 3 Interger input from user  using input() only \n",
    "     a,b,c than we have to do 3 step  <br>\n",
    "    <b>o=(a+b)/c</b><br>\n",
    "    <b>o1=o+ complex  varible by our choice</b> <br>\n",
    "    <b> o2=o1+\"with ur name\" </b></h3>\n",
    "     "
   ]
  },
  {
   "cell_type": "code",
   "execution_count": null,
   "id": "572745c8",
   "metadata": {},
   "outputs": [],
   "source": [
    "a=int(input(\"Enter first interger a=\"))\n",
    "b=int(input(\"Enter first interger b=\"))\n",
    "c=int(input(\"Enter first interger c=\"))\n"
   ]
  },
  {
   "cell_type": "code",
   "execution_count": null,
   "id": "05634450",
   "metadata": {},
   "outputs": [],
   "source": [
    "O=(a+b)/c\n",
    "print(O)"
   ]
  },
  {
   "cell_type": "code",
   "execution_count": null,
   "id": "33edae57",
   "metadata": {},
   "outputs": [],
   "source": [
    "complex_no=10+5j\n",
    "O1=O+complex_no # add 4.0+10+5j =14+5j\n",
    "print(O1)\n",
    "type(O1)"
   ]
  },
  {
   "cell_type": "code",
   "execution_count": null,
   "id": "5fcdacb3",
   "metadata": {},
   "outputs": [],
   "source": [
    "O2=str(O1)+\"Pooja Das\"\n",
    "print(O2)\n",
    "type(O2)"
   ]
  },
  {
   "cell_type": "code",
   "execution_count": null,
   "id": "68ad409a",
   "metadata": {},
   "outputs": [],
   "source": [
    "a=int(input(\"Input a number lesser  then 34 =\"))"
   ]
  },
  {
   "cell_type": "code",
   "execution_count": null,
   "id": "27fa42f2",
   "metadata": {},
   "outputs": [],
   "source": [
    "if a<34:\n",
    "    pass\n"
   ]
  },
  {
   "cell_type": "code",
   "execution_count": null,
   "id": "12bfcb0d",
   "metadata": {},
   "outputs": [],
   "source": [
    "a=int(input(\"Input a number=\"))\n",
    "if a<34:\n",
    "    print(\"data input is lesser than 34 and it is fine\")"
   ]
  },
  {
   "cell_type": "code",
   "execution_count": null,
   "id": "c6ef4005",
   "metadata": {},
   "outputs": [],
   "source": [
    "b=int(input(\"Input a number=\"))\n",
    "if b<34:\n",
    "    print(\"data input is lesser than 34 and it is fine\")\n",
    "else:\n",
    "    print(\"data input is not lesser than 34\")\n",
    "    "
   ]
  },
  {
   "cell_type": "code",
   "execution_count": null,
   "id": "88fa244d",
   "metadata": {},
   "outputs": [],
   "source": [
    "b=int(input(\"Input a number=\"))\n",
    "if b<34:\n",
    "print(\"data input is lesser than 34 and it is fine\")  #indentation error to give indentation we use tab"
   ]
  },
  {
   "cell_type": "code",
   "execution_count": null,
   "id": "6c4011d2",
   "metadata": {},
   "outputs": [],
   "source": [
    "b=int(input(\"Input a number=\"))\n",
    "if b<34:\n",
    "    print(\"data input is lesser than 34 and it is fine\")\n",
    "elif a<100:\n",
    "    print(\"data is lesser than 100\")\n",
    "else:\n",
    "    print(\"data input is not lesser than 34\")"
   ]
  },
  {
   "cell_type": "code",
   "execution_count": null,
   "id": "3cb4ad51",
   "metadata": {},
   "outputs": [],
   "source": [
    "salary =int(input(\"Enter Your salary -\"))\n",
    "if salary <1000:\n",
    "    print(\"I will buy a car\")\n",
    "elif salary <500:\n",
    "    print(\"I will buy a bike\")\n",
    "elif salary<100:\n",
    "    print(\"I will  not buy anything\")\n",
    "else:\n",
    "    print(\"I will go for saving\")\n",
    "    \n",
    "    #put any no. less than 1000 it only check nd excute first line satisfy print and exit simple"
   ]
  },
  {
   "cell_type": "code",
   "execution_count": null,
   "id": "6c1277fd",
   "metadata": {},
   "outputs": [],
   "source": [
    "salary =int(input(\"Enter Your salary -\"))\n",
    "if (salary >=1000):\n",
    "    print(\"I will buy a car\")\n",
    "elif salary >=500:\n",
    "    print(\"I will buy a bike\")\n",
    "elif salary>=100:\n",
    "    print(\"I will  not buy anything\")\n",
    "else:\n",
    "    print(\"I will go for saving\")"
   ]
  },
  {
   "cell_type": "code",
   "execution_count": null,
   "id": "bc78f355",
   "metadata": {},
   "outputs": [],
   "source": [
    "salary =int(input(\"Enter Your salary -\"))\n",
    "if (salary >=1000):\n",
    "    print(\"I will  good salary\")\n",
    "    if salary <=5000:\n",
    "        print(\"i will buy Tata Nano\")\n",
    "        if True:\n",
    "            print(\"party\")\n",
    "    elif salary <=10000:\n",
    "        print(\"i will buy maruti\")\n",
    "    elif salary <=50000:\n",
    "        print(\"I will buy toyota\")\n",
    "    else :\n",
    "        print(\" I will buy audi\")\n",
    "elif salary >=500:\n",
    "    print(\"I will buy a bike\")\n",
    "elif salary>=100:\n",
    "    print(\"I will  not buy anything\")\n",
    "else:\n",
    "    print(\"I will go for saving\")"
   ]
  },
  {
   "cell_type": "code",
   "execution_count": null,
   "id": "8b2df057",
   "metadata": {},
   "outputs": [],
   "source": [
    "a=10\n",
    "b=20\n",
    "\n",
    "if a==10 and b==20:\n",
    "    print(\"this valid statement\")"
   ]
  },
  {
   "cell_type": "code",
   "execution_count": null,
   "id": "73ae7584",
   "metadata": {},
   "outputs": [],
   "source": [
    " a==10 and b==20"
   ]
  },
  {
   "cell_type": "code",
   "execution_count": null,
   "id": "1ce77275",
   "metadata": {},
   "outputs": [],
   "source": [
    "a==10"
   ]
  },
  {
   "cell_type": "code",
   "execution_count": null,
   "id": "2a0d511f",
   "metadata": {},
   "outputs": [],
   "source": [
    "b==20"
   ]
  },
  {
   "cell_type": "code",
   "execution_count": null,
   "id": "b73e1643",
   "metadata": {},
   "outputs": [],
   "source": [
    "if a==30 and b==20:\n",
    "    print(\"this valid statement\")\n",
    "else :\n",
    "    print(\"not valid\")"
   ]
  },
  {
   "cell_type": "code",
   "execution_count": null,
   "id": "6cfa3858",
   "metadata": {},
   "outputs": [],
   "source": [
    "if a<30 and b<50:\n",
    "    print(\"this valid statement\")\n",
    "else :\n",
    "    print(\"not valid\")"
   ]
  },
  {
   "cell_type": "code",
   "execution_count": null,
   "id": "d403baa3",
   "metadata": {},
   "outputs": [],
   "source": [
    "if a==10 and b>20:\n",
    "    print(\"this valid statement\")\n",
    "elif a==10 and b>=20:\n",
    "    print(\"valid in elif\")\n",
    "else :\n",
    "    print(\"not valid\")"
   ]
  },
  {
   "cell_type": "code",
   "execution_count": null,
   "id": "4866971a",
   "metadata": {},
   "outputs": [],
   "source": [
    "if a==30 or b==20:\n",
    "    print(\"this valid statement\")\n",
    "else :\n",
    "    print(\"not valid\")"
   ]
  },
  {
   "cell_type": "code",
   "execution_count": null,
   "id": "0827ccb8",
   "metadata": {},
   "outputs": [],
   "source": [
    "if a==10 or b>20:\n",
    "    print(\"this valid statement\")\n",
    "elif a==10 and b>=20:\n",
    "    print(\"valid in elif\")\n",
    "else :\n",
    "    print(\"not valid\")"
   ]
  },
  {
   "cell_type": "markdown",
   "id": "c0ad5dee",
   "metadata": {},
   "source": [
    "Task :\n",
    "     take a input from your keyboard as first name and last name and than try to validate of write multiple condition by yourself"
   ]
  },
  {
   "cell_type": "code",
   "execution_count": null,
   "id": "221e1bd3",
   "metadata": {},
   "outputs": [],
   "source": [
    "a=input(\"Enter your firstname  :\")\n",
    "b=input(\"Enter yourlastname  :\")\n",
    "if a==\"Pooja\" and b==\"Das\":\n",
    "    print(\"Valide  name\")\n",
    "else:\n",
    "    print (\"Not Valid\")"
   ]
  },
  {
   "cell_type": "code",
   "execution_count": null,
   "id": "4bf34525",
   "metadata": {},
   "outputs": [],
   "source": [
    "a=input(\"Enter your Firstname  :\")\n",
    "b=input(\"Enter your Lastname  :\")\n",
    "if a==\"Pooja\" and b==\"Das\":\n",
    "    print(\"Valide  name\")\n",
    "elif a==\"pooja\" and b==\"das\":\n",
    "    print(\"Valide  name\")\n",
    "elif a==\"POOJA\" and b==\"DAS\":\n",
    "    print(\"Valide  name\")    \n",
    "else:\n",
    "    print (\"Not Valid\")"
   ]
  },
  {
   "cell_type": "code",
   "execution_count": null,
   "id": "7846761b",
   "metadata": {},
   "outputs": [],
   "source": [
    "#while loop\n",
    "initial_speed=0\n",
    "final_speed=100\n",
    "count=0\n",
    "while initial_speed < final_speed:\n",
    "    print(count,\"this is speed\")\n",
    "    count=count+1\n",
    "    if (count==10):\n",
    "        break\n",
    "        \n",
    "    "
   ]
  },
  {
   "cell_type": "code",
   "execution_count": null,
   "id": "bc8ac4c3",
   "metadata": {},
   "outputs": [],
   "source": [
    "initial_speed < final_speed"
   ]
  },
  {
   "cell_type": "code",
   "execution_count": null,
   "id": "de6ae784",
   "metadata": {},
   "outputs": [],
   "source": [
    "initial_speed=0\n",
    "final_speed=5\n",
    "\n",
    "while final_speed>=initial_speed: # if true than only excute\n",
    "    print(initial_speed,\"this is speed\")\n",
    "    initial_speed=initial_speed+1"
   ]
  },
  {
   "cell_type": "code",
   "execution_count": null,
   "id": "e76e2192",
   "metadata": {},
   "outputs": [],
   "source": [
    "bacon = 22\n",
    "bacon + 1"
   ]
  },
  {
   "cell_type": "code",
   "execution_count": null,
   "id": "bdded0cf",
   "metadata": {},
   "outputs": [],
   "source": [
    "print('spam'+'spamspam')\n",
    "print('spam'*3)"
   ]
  },
  {
   "cell_type": "code",
   "execution_count": null,
   "id": "d035cf72",
   "metadata": {},
   "outputs": [],
   "source": [
    "# while-else only exit in python\n",
    "notes= 5\n",
    "i=1\n",
    "while i<=notes: # when it become false thn only else  excute\n",
    "    print(i)\n",
    "    i+=1\n",
    "else:\n",
    "    print(\" no notes are availble\")\n",
    "    "
   ]
  },
  {
   "cell_type": "code",
   "execution_count": null,
   "id": "31a83a19",
   "metadata": {},
   "outputs": [],
   "source": [
    "notes= 5\n",
    "i=1\n",
    "j=1\n",
    "while i<=notes: # when it become false thn only else  excute\n",
    "    print(i)\n",
    "    i+=1\n",
    "else:\n",
    "    while j<=2:\n",
    "        print(j)\n",
    "        \n",
    "        j+=1\n",
    "    print(\" no notes are availble\")"
   ]
  },
  {
   "cell_type": "code",
   "execution_count": null,
   "id": "607d21dd",
   "metadata": {},
   "outputs": [],
   "source": [
    "s=\"pooja\""
   ]
  },
  {
   "cell_type": "code",
   "execution_count": null,
   "id": "fc5b4be6",
   "metadata": {},
   "outputs": [],
   "source": [
    "s"
   ]
  },
  {
   "cell_type": "code",
   "execution_count": null,
   "id": "ea0ccd62",
   "metadata": {},
   "outputs": [],
   "source": [
    "s[0]"
   ]
  },
  {
   "cell_type": "code",
   "execution_count": null,
   "id": "ed3a6bb2",
   "metadata": {},
   "outputs": [],
   "source": [
    "s[5] # as index doesnot exit"
   ]
  },
  {
   "cell_type": "code",
   "execution_count": null,
   "id": "ebe55624",
   "metadata": {},
   "outputs": [],
   "source": [
    "s=\"My name is Pooja Das\""
   ]
  },
  {
   "cell_type": "code",
   "execution_count": null,
   "id": "d81d4098",
   "metadata": {},
   "outputs": [],
   "source": [
    "s"
   ]
  },
  {
   "cell_type": "code",
   "execution_count": null,
   "id": "3dd12a0b",
   "metadata": {},
   "outputs": [],
   "source": [
    "s[3:10] # start : end but exclude end position"
   ]
  },
  {
   "cell_type": "code",
   "execution_count": null,
   "id": "35bf7e91",
   "metadata": {},
   "outputs": [],
   "source": [
    "s[4:]"
   ]
  },
  {
   "cell_type": "code",
   "execution_count": null,
   "id": "44867ba8",
   "metadata": {},
   "outputs": [],
   "source": [
    "s[:4]"
   ]
  },
  {
   "cell_type": "code",
   "execution_count": null,
   "id": "ab673d42",
   "metadata": {},
   "outputs": [],
   "source": [
    "s[0:2]"
   ]
  },
  {
   "cell_type": "code",
   "execution_count": null,
   "id": "3171c51c",
   "metadata": {},
   "outputs": [],
   "source": [
    "s[3:10:2]# start : end but exclude end position: jump step"
   ]
  },
  {
   "cell_type": "code",
   "execution_count": null,
   "id": "e094501e",
   "metadata": {},
   "outputs": [],
   "source": [
    "s[4::3]"
   ]
  },
  {
   "cell_type": "code",
   "execution_count": null,
   "id": "f8efa519",
   "metadata": {},
   "outputs": [],
   "source": [
    "s[10:3:-2]"
   ]
  },
  {
   "cell_type": "code",
   "execution_count": null,
   "id": "4767022f",
   "metadata": {},
   "outputs": [],
   "source": [
    "s[10:3:-2]\n"
   ]
  },
  {
   "cell_type": "code",
   "execution_count": null,
   "id": "689eec51",
   "metadata": {},
   "outputs": [],
   "source": [
    "s[2:6]"
   ]
  },
  {
   "cell_type": "code",
   "execution_count": null,
   "id": "3025bc7e",
   "metadata": {},
   "outputs": [],
   "source": [
    "s[:0:-1]"
   ]
  },
  {
   "cell_type": "code",
   "execution_count": null,
   "id": "41e80062",
   "metadata": {},
   "outputs": [],
   "source": [
    "s"
   ]
  },
  {
   "cell_type": "code",
   "execution_count": null,
   "id": "3f99588a",
   "metadata": {},
   "outputs": [],
   "source": [
    "for i in s:# i =0 ,i<=s than i++\n",
    "    if i==\"a\":\n",
    "        print(\"i got a as string\")\n",
    "    print (i)\n",
    "else :\n",
    "    print(\"Else execute\")\n"
   ]
  },
  {
   "cell_type": "code",
   "execution_count": null,
   "id": "c7ff605d",
   "metadata": {},
   "outputs": [],
   "source": [
    "for i in s:# i =0 ,i<=s than i++\n",
    "    if i==\"a\":\n",
    "        break\n",
    "        print(\"i got a as string\")\n",
    "    print (i)\n",
    "else :  # for else execute only when for complete  not by break\n",
    "    print(\"Else execute\")"
   ]
  },
  {
   "cell_type": "code",
   "execution_count": null,
   "id": "f13686ed",
   "metadata": {},
   "outputs": [],
   "source": [
    "for i in s:# i =\"M\" \n",
    "    if i==\"a\":\n",
    "        continue # print a coz it go back to for loop not evern execute other\n",
    "        print(\"i got a as string\")\n",
    "    print (i)\n",
    "else :  # for else execute only when for complete  not by break\n",
    "    print(\"Else execute\")"
   ]
  },
  {
   "cell_type": "code",
   "execution_count": null,
   "id": "5a86da3e",
   "metadata": {},
   "outputs": [],
   "source": [
    "s=\"ineuron\"\n",
    "ss=\"\"\n",
    "for i in range(len(s)): # i=0 in this case\n",
    "   # print(i)\n",
    "    if s[i]==\"n\":\n",
    "        continue\n",
    "    print(s[i])\n"
   ]
  },
  {
   "cell_type": "code",
   "execution_count": null,
   "id": "a52bd61a",
   "metadata": {},
   "outputs": [],
   "source": [
    "len(s) # used to find length of a string"
   ]
  },
  {
   "cell_type": "code",
   "execution_count": null,
   "id": "adf09b99",
   "metadata": {},
   "outputs": [],
   "source": [
    "ss"
   ]
  },
  {
   "cell_type": "code",
   "execution_count": null,
   "id": "e0297734",
   "metadata": {},
   "outputs": [],
   "source": [
    "range(8) # used to find  range 0 to n "
   ]
  },
  {
   "cell_type": "code",
   "execution_count": null,
   "id": "d10dcc07",
   "metadata": {},
   "outputs": [],
   "source": [
    "range(len(s))"
   ]
  },
  {
   "cell_type": "code",
   "execution_count": null,
   "id": "76314eec",
   "metadata": {},
   "outputs": [],
   "source": [
    "s[i]"
   ]
  },
  {
   "cell_type": "code",
   "execution_count": null,
   "id": "eb2fec7b",
   "metadata": {},
   "outputs": [],
   "source": [
    "s=\"in euron\"\n",
    "ss=\"\"\n",
    "print(ss)\n",
    "for i in range(len(s)): # i=0 in this case\n",
    "    print(s[i])\n",
    "    if s[i]==\"n\":\n",
    "        print(s[i])\n",
    "        continue\n",
    "    else:\n",
    "        ss=ss+s[i]"
   ]
  },
  {
   "cell_type": "code",
   "execution_count": null,
   "id": "3a102a96",
   "metadata": {},
   "outputs": [],
   "source": [
    "n=7\n",
    "for i in range(0,n):\n",
    "    for j in range(0,i+1):\n",
    "        print(\"+\", end =\" \")\n",
    "    print(\"\\r\")    "
   ]
  },
  {
   "cell_type": "code",
   "execution_count": null,
   "id": "fc626b44",
   "metadata": {},
   "outputs": [],
   "source": [
    "n=7\n",
    "for i in range(0,n):\n",
    "    for j in range(0,i+1):\n",
    "        print(\"+\", end =\" \")\n",
    "    print(\"\\r\") "
   ]
  },
  {
   "cell_type": "code",
   "execution_count": null,
   "id": "b1d06843",
   "metadata": {},
   "outputs": [],
   "source": [
    "a=\"a\"\n",
    "len(a)"
   ]
  },
  {
   "cell_type": "code",
   "execution_count": null,
   "id": "5e06083e",
   "metadata": {},
   "outputs": [],
   "source": [
    "range(0,len(a))"
   ]
  },
  {
   "cell_type": "code",
   "execution_count": null,
   "id": "4b613855",
   "metadata": {},
   "outputs": [],
   "source": [
    "n=5\n",
    "for i in range(0,n):\n",
    "    for j in range(0,i+1):\n",
    "        print(j, end =\" \")\n",
    "    print(\"\\r\") "
   ]
  },
  {
   "cell_type": "code",
   "execution_count": null,
   "id": "48404264",
   "metadata": {},
   "outputs": [],
   "source": [
    "n=5\n",
    "for i in range(n,0,-1):\n",
    "    for j in range(i,0,-1):\n",
    "        print(i, end =\" \")         \n",
    "    print(\"\\r\") "
   ]
  },
  {
   "cell_type": "code",
   "execution_count": null,
   "id": "415f9b41",
   "metadata": {},
   "outputs": [],
   "source": [
    "n=5\n",
    "for i in range(n,0,-1):\n",
    "    for j in range(i,0,-1):\n",
    "        print(j, end =\" \") \n",
    "    \n",
    "    print(\"\\r\")"
   ]
  },
  {
   "cell_type": "code",
   "execution_count": null,
   "id": "63b094d5",
   "metadata": {},
   "outputs": [],
   "source": [
    "n=5\n",
    "for i in range(n,0,-1):\n",
    "    for j in range(i,0,-1):\n",
    "        print(j, end =\" \") \n",
    "    \n",
    "    print(\"\\r\")"
   ]
  },
  {
   "cell_type": "code",
   "execution_count": null,
   "id": "6affad32",
   "metadata": {},
   "outputs": [],
   "source": [
    "n=5\n",
    "for i in range(0,n):\n",
    "    for j in range(0,n-i-1):\n",
    "            print(end =\" \")\n",
    "    for j in range(0,i+1):\n",
    "        print(j, end =\" \")         \n",
    "    print(\"\\r\")"
   ]
  },
  {
   "cell_type": "code",
   "execution_count": null,
   "id": "7e96e37c",
   "metadata": {},
   "outputs": [],
   "source": [
    "n=5\n",
    "for i in range(0,n):\n",
    "    for j in range(0,n-i-1):\n",
    "            print(end =\" \")\n",
    "    for j in range(0,i+1):\n",
    "        print(i, end =\" \")         \n",
    "    print(\"\\r\")"
   ]
  },
  {
   "cell_type": "code",
   "execution_count": null,
   "id": "85c9ca88",
   "metadata": {},
   "outputs": [],
   "source": [
    "n=5\n",
    "print(\" * \"*5)"
   ]
  },
  {
   "cell_type": "code",
   "execution_count": null,
   "id": "8cc25d6b",
   "metadata": {},
   "outputs": [],
   "source": [
    "n=5\n",
    "for i in range(0,n):\n",
    "    print(\"*\", end=\" \")"
   ]
  },
  {
   "cell_type": "code",
   "execution_count": null,
   "id": "9526bbdb",
   "metadata": {},
   "outputs": [],
   "source": [
    "n=5\n",
    "for j in range(0,n):\n",
    "    print(\"*\") #  as all print in next line for this we use end use for one linr"
   ]
  },
  {
   "cell_type": "code",
   "execution_count": null,
   "id": "07ea4454",
   "metadata": {},
   "outputs": [],
   "source": [
    "n=5\n",
    "for i in range(0,n):\n",
    "    for i in range(0,n):\n",
    "        print(\"*\", end=\" \")"
   ]
  },
  {
   "cell_type": "code",
   "execution_count": null,
   "id": "59001e3f",
   "metadata": {},
   "outputs": [],
   "source": [
    "n=5\n",
    "for i in range(0,n):\n",
    "    for j in range(0,n):\n",
    "        print(i, end=\" \")\n",
    "    print()  \n",
    "\n",
    "for i in range(0,n):\n",
    "    for j in range(0,n):\n",
    "        print(\"*\", end=\" \")\n",
    "    print()\n",
    "for i in range(0,n):\n",
    "    for j in range(0,n):\n",
    "        print(j, end=\" \")\n",
    "    print()     \n",
    "    "
   ]
  },
  {
   "cell_type": "code",
   "execution_count": null,
   "id": "1c11fc5c",
   "metadata": {},
   "outputs": [],
   "source": [
    "n=5\n",
    "for i in range(0,n):\n",
    "    for j in range(0,i+1):\n",
    "        print(i, end=\" \")\n",
    "    print()\n",
    "\n",
    "for i in range(0,n):\n",
    "    for j in range(0,i+1):\n",
    "        print(\"*\", end=\" \")\n",
    "    print() \n",
    "for i in range(0,n):\n",
    "    for j in range(0,i+1):\n",
    "        print(j, end=\" \")\n",
    "    print()     "
   ]
  },
  {
   "cell_type": "code",
   "execution_count": null,
   "id": "1dc53165",
   "metadata": {},
   "outputs": [],
   "source": [
    "n=5\n",
    "for i in range(0,n):\n",
    "    for j in range(i,n):\n",
    "        print(i, end=\" \")\n",
    "    print()  \n",
    "\n",
    "for i in range(0,n):\n",
    "    for j in range(i,n):\n",
    "        print(\"*\", end=\" \")\n",
    "    print()\n",
    "for i in range(0,n):\n",
    "    for j in range(i,n):\n",
    "        print(j, end=\" \")\n",
    "    print()"
   ]
  },
  {
   "cell_type": "code",
   "execution_count": null,
   "id": "18dcd681",
   "metadata": {},
   "outputs": [],
   "source": [
    "n=5\n",
    "for i in range(0,n):\n",
    "    for j in range(i,n):\n",
    "        print(\"\",end=\" \")\n",
    "    for j in range(0,i+1):\n",
    "        print(\"*\", end=\" \")\n",
    "    print()"
   ]
  },
  {
   "cell_type": "code",
   "execution_count": null,
   "id": "6e529442",
   "metadata": {},
   "outputs": [],
   "source": [
    "n=5\n",
    "for i in range(0,n):\n",
    "    for j in range(i,n):\n",
    "        print(\"$\",end=\" \")\n",
    "    for j in range(0,i+1):\n",
    "        print(\"*\", end=\" \")\n",
    "    print()"
   ]
  },
  {
   "cell_type": "code",
   "execution_count": null,
   "id": "e1fd6015",
   "metadata": {},
   "outputs": [],
   "source": []
  },
  {
   "cell_type": "code",
   "execution_count": null,
   "id": "accccb46",
   "metadata": {},
   "outputs": [],
   "source": [
    "n=5\n",
    "for i in range(0,n):\n",
    "    for j in range(i,n-1):\n",
    "        print(\"$\",end=\" \")\n",
    "    for j in range(0,i+1):\n",
    "        print(\"*\", end=\" \")\n",
    "    print()"
   ]
  },
  {
   "cell_type": "code",
   "execution_count": null,
   "id": "c1a5b6ec",
   "metadata": {},
   "outputs": [],
   "source": [
    "n=5\n",
    "for i in range(0,n):\n",
    "    \n",
    "    for j in range(0,i):\n",
    "        print(\"$\", end=\" \")\n",
    "    for j in range(i,n):\n",
    "        print(\"*\",end=\" \")    \n",
    "    print()"
   ]
  },
  {
   "cell_type": "markdown",
   "id": "fe96fb7a",
   "metadata": {},
   "source": [
    "# Right side Trinangle"
   ]
  },
  {
   "cell_type": "code",
   "execution_count": null,
   "id": "87d88a6e",
   "metadata": {},
   "outputs": [],
   "source": [
    "n=5\n",
    "for i in range(0,n):\n",
    "    for j in range(i,n):\n",
    "        print(\"$\",end=\" \")\n",
    "    for j in range(0,i+1):\n",
    "        print(\"*\", end=\" \")\n",
    "    print()"
   ]
  },
  {
   "cell_type": "code",
   "execution_count": null,
   "id": "df2fe192",
   "metadata": {},
   "outputs": [],
   "source": [
    "n=5\n",
    "for i in range(0,n):\n",
    "    for j in range(i,n):\n",
    "        print(\" \",end=\" \")\n",
    "    for j in range(0,i+1):\n",
    "        print(\"*\", end=\" \")\n",
    "    for j in range(0,i+1):\n",
    "        print(\"*\", end=\" \")\n",
    "    print()"
   ]
  },
  {
   "cell_type": "markdown",
   "id": "b05afbf7",
   "metadata": {},
   "source": [
    "# Hill Pattern"
   ]
  },
  {
   "cell_type": "code",
   "execution_count": null,
   "id": "f32bf6be",
   "metadata": {},
   "outputs": [],
   "source": [
    " \n",
    "n=5\n",
    "for i in range(0,n):\n",
    "    for j in range(i,n):\n",
    "        print(\" \",end=\" \")\n",
    "    for j in range(0,i+1):\n",
    "        print(\"*\", end=\" \")\n",
    "    for j in range(0,i):\n",
    "        print(\"*\", end=\" \")\n",
    "    print()"
   ]
  },
  {
   "cell_type": "markdown",
   "id": "aca5a802",
   "metadata": {},
   "source": [
    "# Reversed Hill"
   ]
  },
  {
   "cell_type": "code",
   "execution_count": null,
   "id": "4753dcd7",
   "metadata": {},
   "outputs": [],
   "source": [
    "n=5\n",
    "for i in range(0,n):\n",
    "    for j in range(0,i):\n",
    "        print(\" \", end=\" \")\n",
    "    for j in range(i,n):\n",
    "        print(\"*\",end=\" \")\n",
    "    for j in range(i,n):\n",
    "        print(\"*\", end=\" \")\n",
    "    print()"
   ]
  },
  {
   "cell_type": "code",
   "execution_count": null,
   "id": "4bde08fb",
   "metadata": {},
   "outputs": [],
   "source": [
    "n=5\n",
    "for i in range(0,n):\n",
    "    for j in range(0,i):\n",
    "        print(\" \", end=\" \")\n",
    "    for j in range(i,n):\n",
    "        print(\"*\",end=\" \")\n",
    "    for j in range(i,n-1):\n",
    "        print(\"*\", end=\" \")\n",
    "    print()"
   ]
  },
  {
   "cell_type": "markdown",
   "id": "dce7f896",
   "metadata": {},
   "source": [
    "# Diamond Pattern"
   ]
  },
  {
   "cell_type": "code",
   "execution_count": null,
   "id": "26c3abbe",
   "metadata": {},
   "outputs": [],
   "source": [
    "n=5\n",
    "for i in range(0,n):\n",
    "    for j in range(i,n-1):\n",
    "        print(\" \",end=\" \")\n",
    "    for j in range(0,i+1):\n",
    "        print(\"*\", end=\" \")\n",
    "    for j in range(0,i):\n",
    "        print(\"*\", end=\" \")\n",
    "    print()\n",
    "#for i in range(0,n):\n",
    "    for j in range(0,i):\n",
    "        print(\" \", end=\" \")\n",
    "    for j in range(i,n):\n",
    "        print(\"*\",end=\" \")\n",
    "    for j in range(i,n-1):\n",
    "        print(\"*\", end=\" \")\n",
    "    print()"
   ]
  },
  {
   "cell_type": "code",
   "execution_count": null,
   "id": "cdd00eec",
   "metadata": {},
   "outputs": [],
   "source": [
    "n=5\n",
    "for i in range(0,n):\n",
    "    for j in range(i,n-1):\n",
    "        print(\" \",end=\" \")\n",
    "    for j in range(0,i+1):\n",
    "        print(\"*\", end=\" \")\n",
    "    for j in range(0,i):\n",
    "        print(\"*\", end=\" \")\n",
    "    print()\n",
    "for i in range(0,n):\n",
    "    for j in range(0,i):\n",
    "        print(\" \", end=\" \")\n",
    "    for j in range(i,n):\n",
    "        print(\"*\",end=\" \")\n",
    "    for j in range(i,n-1):\n",
    "        print(\"*\", end=\" \")\n",
    "    print()"
   ]
  },
  {
   "cell_type": "code",
   "execution_count": null,
   "id": "52c76df0",
   "metadata": {},
   "outputs": [],
   "source": [
    "n=5\n",
    "for i in range(0,n-1):\n",
    "    for j in range(i,n):\n",
    "        print(\" \",end=\" \")\n",
    "    for j in range(0,i+1):\n",
    "        print(\"*\", end=\" \")\n",
    "    for j in range(0,i):\n",
    "        print(\"*\", end=\" \")\n",
    "    print()\n",
    "for i in range(0,n):\n",
    "    for j in range(0,i+1):# by add space here in down\n",
    "        print(\" \", end=\" \")\n",
    "    for j in range(i,n):\n",
    "        print(\"*\",end=\" \")\n",
    "    for j in range(i,n-1):\n",
    "        print(\"*\", end=\" \")\n",
    "    print()"
   ]
  },
  {
   "cell_type": "code",
   "execution_count": null,
   "id": "2be1806b",
   "metadata": {},
   "outputs": [],
   "source": [
    "n=5\n",
    "for i in range(0,n-1):\n",
    "    for j in range(i,n-1):# or by descrease n frm here\n",
    "        print(\" \",end=\" \")\n",
    "    for j in range(0,i+1):\n",
    "        print(\"*\", end=\" \")\n",
    "    for j in range(0,i):\n",
    "        print(\"*\", end=\" \")\n",
    "    print()\n",
    "for i in range(0,n):\n",
    "    for j in range(0,i):\n",
    "        print(\" \", end=\" \")\n",
    "    for j in range(i,n):\n",
    "        print(\"*\",end=\" \")\n",
    "    for j in range(i,n-1):\n",
    "        print(\"*\", end=\" \")\n",
    "    print()"
   ]
  },
  {
   "cell_type": "code",
   "execution_count": null,
   "id": "4088506d",
   "metadata": {},
   "outputs": [],
   "source": [
    "n=5 \n",
    "for i in range (0,n):\n",
    "    for j in range (i,n-1):\n",
    "        print(\" \", end=\" \")\n",
    "    for j in range ( i+1):\n",
    "        print(\"*\",end=\" \")\n",
    "    for j in range (0,i):\n",
    "        print(\"*\",end=\" \")\n",
    "    print()    "
   ]
  },
  {
   "cell_type": "code",
   "execution_count": null,
   "id": "5462c78b",
   "metadata": {},
   "outputs": [],
   "source": [
    "n=5\n",
    "i=0\n",
    "while (i<n):\n",
    "    j=0\n",
    "    while(j<=i):\n",
    "        print(\"*\", end=\" \")\n",
    "        j+=1\n",
    "        \n",
    "    print() \n",
    "    i+=1 \n",
    "    "
   ]
  },
  {
   "cell_type": "code",
   "execution_count": null,
   "id": "074739e2",
   "metadata": {},
   "outputs": [],
   "source": [
    "n=5\n",
    "i=0\n",
    "while (i<n):\n",
    "    j=i\n",
    "    while(j<n):\n",
    "        print(\"*\", end=\" \")\n",
    "        j+=1\n",
    "    j=i\n",
    "    while(j<n):\n",
    "        print(\" \", end=\" \")\n",
    "        j+=1 \n",
    "    j=i\n",
    "    while(j<n-1):\n",
    "        print(\" \", end=\" \")\n",
    "        j+=1    \n",
    "        \n",
    "    print() \n",
    "    i+=1 \n",
    "i=0\n",
    "while (i<n):\n",
    "    j=i\n",
    "    while(j<n-1):\n",
    "        print(\"*\", end=\" \")\n",
    "        j+=1\n",
    "    j=0\n",
    "    while(j<i+1):\n",
    "        print(\" \", end=\" \")\n",
    "        j+=1 \n",
    "    j=0\n",
    "    while(j<i):\n",
    "        print(\" \", end=\" \")\n",
    "        j+=1    \n",
    "        \n",
    "    print() \n",
    "    i+=1"
   ]
  },
  {
   "cell_type": "code",
   "execution_count": null,
   "id": "d16f64b2",
   "metadata": {},
   "outputs": [],
   "source": [
    "n=5\n",
    "for i in range(0,n):\n",
    "    for j in range (i,n-1):\n",
    "        print(\"b\", end=\" \")\n",
    "    for j in range (0,i+1):\n",
    "        print(\"*\", end=\" \")    \n",
    "    print()    \n",
    "    "
   ]
  },
  {
   "cell_type": "code",
   "execution_count": null,
   "id": "bd3fdccf",
   "metadata": {},
   "outputs": [],
   "source": [
    "n=5\n",
    "i=0\n",
    "while (i<n):\n",
    "    j=i\n",
    "    while(j<n-1):\n",
    "        print(\"b\", end=\" \")\n",
    "        j+=1\n",
    "    j=0\n",
    "    while(j<i+1):\n",
    "        print(\"*\", end=\" \")\n",
    "        j+=1 \n",
    "    j=0\n",
    "    while(j<i):\n",
    "        print(\"*\", end=\" \")\n",
    "        j+=1    \n",
    "        \n",
    "    print() \n",
    "    i+=1 "
   ]
  },
  {
   "cell_type": "code",
   "execution_count": null,
   "id": "bd630537",
   "metadata": {},
   "outputs": [],
   "source": [
    "n=5\n",
    "i=0\n",
    "while (i<n):\n",
    "    j=0\n",
    "    while(j<i):\n",
    "        print(\"b\", end=\" \")\n",
    "        j+=1\n",
    "    j=i\n",
    "    while(j<n):\n",
    "        print(\"*\", end=\" \")\n",
    "        j+=1 \n",
    "    j=i\n",
    "    while(j<n-1):\n",
    "        print(\"*\", end=\" \")\n",
    "        j+=1    \n",
    "        \n",
    "    print() \n",
    "    i+=1 "
   ]
  },
  {
   "cell_type": "code",
   "execution_count": null,
   "id": "ebd8903a",
   "metadata": {},
   "outputs": [],
   "source": [
    "n=5\n",
    "i=0\n",
    "while (i<n):\n",
    "    print (\" \" *(n-i-1)+ \"* \"*(i+1))\n",
    "    i+=1"
   ]
  },
  {
   "cell_type": "code",
   "execution_count": null,
   "id": "d004437b",
   "metadata": {},
   "outputs": [],
   "source": [
    "name=\"pooja\"\n",
    "phone=4535552\n",
    "address=\"dguu\"\n",
    "\n",
    "name,phone,address=\"pooja\",452255,\"cfdghfhh\""
   ]
  },
  {
   "cell_type": "code",
   "execution_count": null,
   "id": "23ac73a6",
   "metadata": {},
   "outputs": [],
   "source": [
    "l=[\"pooja\",452255,\"cfdghfhh\",45+4j,4.5,96,\"list\",True,[3,5,10+5j,\"hi\",4.5,50]] # list like arry it hold multi value in single varible"
   ]
  },
  {
   "cell_type": "code",
   "execution_count": null,
   "id": "46b827ac",
   "metadata": {},
   "outputs": [],
   "source": [
    "l"
   ]
  },
  {
   "cell_type": "code",
   "execution_count": null,
   "id": "03d3430f",
   "metadata": {},
   "outputs": [],
   "source": [
    "type(l)"
   ]
  },
  {
   "cell_type": "code",
   "execution_count": null,
   "id": "52de0824",
   "metadata": {},
   "outputs": [],
   "source": [
    "l[0]"
   ]
  },
  {
   "cell_type": "code",
   "execution_count": null,
   "id": "94a64d69",
   "metadata": {},
   "outputs": [],
   "source": [
    "l[1]"
   ]
  },
  {
   "cell_type": "code",
   "execution_count": null,
   "id": "3b36ca72",
   "metadata": {},
   "outputs": [],
   "source": [
    "l[1:5]"
   ]
  },
  {
   "cell_type": "code",
   "execution_count": null,
   "id": "80ff85bb",
   "metadata": {},
   "outputs": [],
   "source": [
    "l[6:2:-1]"
   ]
  },
  {
   "cell_type": "code",
   "execution_count": null,
   "id": "1cf72946",
   "metadata": {},
   "outputs": [],
   "source": [
    "l1=[]"
   ]
  },
  {
   "cell_type": "code",
   "execution_count": null,
   "id": "463becb6",
   "metadata": {},
   "outputs": [],
   "source": [
    "type(l1)"
   ]
  },
  {
   "cell_type": "code",
   "execution_count": null,
   "id": "f28d853e",
   "metadata": {},
   "outputs": [],
   "source": [
    "l2=list()"
   ]
  },
  {
   "cell_type": "code",
   "execution_count": null,
   "id": "dc1c4dae",
   "metadata": {},
   "outputs": [],
   "source": [
    "type(l2)"
   ]
  },
  {
   "cell_type": "code",
   "execution_count": null,
   "id": "bb9b4b9d",
   "metadata": {},
   "outputs": [],
   "source": [
    "for i in l:\n",
    "    print(type(i))"
   ]
  },
  {
   "cell_type": "code",
   "execution_count": null,
   "id": "00e5a7a8",
   "metadata": {},
   "outputs": [],
   "source": [
    "for i in l:\n",
    "    if type(i)== str:\n",
    "        print(i)    \n",
    "    "
   ]
  },
  {
   "cell_type": "code",
   "execution_count": null,
   "id": "e9c94160",
   "metadata": {},
   "outputs": [],
   "source": [
    "for i in l:\n",
    "    if type(i)==list:\n",
    "        for j in i:\n",
    "            print(type(j))\n",
    "        print(i)\n",
    "        "
   ]
  },
  {
   "cell_type": "code",
   "execution_count": null,
   "id": "c972ce11",
   "metadata": {},
   "outputs": [],
   "source": [
    "for i in l:\n",
    "    if type(i)==list:\n",
    "        n=0\n",
    "        for j in i:\n",
    "            if type(j)==int:\n",
    "                n=n+j\n",
    "                \n",
    "        print(n)\n",
    "        print(i)\n",
    "        print(type(n))\n",
    "        print(type(j))\n",
    "        "
   ]
  },
  {
   "cell_type": "code",
   "execution_count": null,
   "id": "a5f6d23b",
   "metadata": {},
   "outputs": [],
   "source": [
    "len(l)"
   ]
  },
  {
   "cell_type": "code",
   "execution_count": null,
   "id": "16b7c6cc",
   "metadata": {},
   "outputs": [],
   "source": [
    "range(len(l))"
   ]
  },
  {
   "cell_type": "code",
   "execution_count": null,
   "id": "21757183",
   "metadata": {},
   "outputs": [],
   "source": [
    "list(range(2,22,2))"
   ]
  },
  {
   "cell_type": "code",
   "execution_count": null,
   "id": "01d23437",
   "metadata": {},
   "outputs": [],
   "source": [
    "list(range(25,0,-2))"
   ]
  },
  {
   "cell_type": "code",
   "execution_count": null,
   "id": "5cea91b9",
   "metadata": {},
   "outputs": [],
   "source": [
    "len(l)"
   ]
  },
  {
   "cell_type": "code",
   "execution_count": null,
   "id": "e7d76c6e",
   "metadata": {},
   "outputs": [],
   "source": [
    "for i in l:\n",
    "    if type(i)== list:\n",
    "        print(len(i))\n",
    "        print(i)\n",
    "        \n",
    "\n",
    "    "
   ]
  },
  {
   "cell_type": "code",
   "execution_count": null,
   "id": "47be5fe0",
   "metadata": {},
   "outputs": [],
   "source": [
    "name=\"Pooja\"\n",
    "for i in name:\n",
    "    print(i)"
   ]
  },
  {
   "cell_type": "code",
   "execution_count": null,
   "id": "790fcfa3",
   "metadata": {},
   "outputs": [],
   "source": [
    "name=\"Pooja\"\n",
    "for i in name:\n",
    "    print(i,end=\"\")"
   ]
  },
  {
   "cell_type": "code",
   "execution_count": null,
   "id": "470c21ee",
   "metadata": {},
   "outputs": [],
   "source": [
    "n=int(input(\"Enter the no. of the parimid-- \"))\n",
    "\n",
    "for i in range(0,n):\n",
    "    for j in range( 0,i):\n",
    "        print (\" \", end=\" \")\n",
    "    for j in range(i,n):\n",
    "        print (\"*\", end=\" \") \n",
    "    for j in range(i,n-1):\n",
    "        print (\"*\", end=\" \")\n",
    "    print()    \n",
    "        "
   ]
  },
  {
   "cell_type": "code",
   "execution_count": null,
   "id": "bda79089",
   "metadata": {},
   "outputs": [],
   "source": [
    "lst=[1,2,3,4]\n",
    "lst[2:50]"
   ]
  },
  {
   "cell_type": "code",
   "execution_count": null,
   "id": "b163ecef",
   "metadata": {},
   "outputs": [],
   "source": [
    "lst[50:2:1]"
   ]
  },
  {
   "cell_type": "code",
   "execution_count": null,
   "id": "2fe0df98",
   "metadata": {},
   "outputs": [],
   "source": [
    "lst[50:2:-1]"
   ]
  },
  {
   "cell_type": "code",
   "execution_count": null,
   "id": "cda46af8",
   "metadata": {},
   "outputs": [],
   "source": [
    "s=\"Master*Python\""
   ]
  },
  {
   "cell_type": "code",
   "execution_count": null,
   "id": "79fe3835",
   "metadata": {},
   "outputs": [],
   "source": [
    "s[-1:5:-1]"
   ]
  },
  {
   "cell_type": "code",
   "execution_count": null,
   "id": "a70126af",
   "metadata": {},
   "outputs": [],
   "source": [
    "s[12:5:-1]"
   ]
  },
  {
   "cell_type": "code",
   "execution_count": null,
   "id": "9845b1c2",
   "metadata": {},
   "outputs": [],
   "source": [
    "s[-1:-5:-1]"
   ]
  },
  {
   "cell_type": "code",
   "execution_count": null,
   "id": "85d78094",
   "metadata": {},
   "outputs": [],
   "source": [
    "c=\"This is my first's full stack class\""
   ]
  },
  {
   "cell_type": "code",
   "execution_count": null,
   "id": "de4c4929",
   "metadata": {},
   "outputs": [],
   "source": [
    "c"
   ]
  },
  {
   "cell_type": "code",
   "execution_count": null,
   "id": "1caba186",
   "metadata": {},
   "outputs": [],
   "source": [
    "c='This is my first's full stack class'"
   ]
  },
  {
   "cell_type": "code",
   "execution_count": null,
   "id": "a76d9661",
   "metadata": {},
   "outputs": [],
   "source": [
    "c='This is my first\"s full stack class'\n"
   ]
  },
  {
   "cell_type": "code",
   "execution_count": null,
   "id": "88645794",
   "metadata": {},
   "outputs": [],
   "source": [
    "c"
   ]
  },
  {
   "cell_type": "code",
   "execution_count": null,
   "id": "368acd32",
   "metadata": {},
   "outputs": [],
   "source": [
    "c[0]"
   ]
  },
  {
   "cell_type": "code",
   "execution_count": null,
   "id": "48201155",
   "metadata": {},
   "outputs": [],
   "source": [
    "c[-1]"
   ]
  },
  {
   "cell_type": "code",
   "execution_count": null,
   "id": "31c6ef18",
   "metadata": {},
   "outputs": [],
   "source": [
    "c[-1::-1]"
   ]
  },
  {
   "cell_type": "code",
   "execution_count": null,
   "id": "cbca3c91",
   "metadata": {},
   "outputs": [],
   "source": [
    "len(c)"
   ]
  },
  {
   "cell_type": "code",
   "execution_count": null,
   "id": "fae26a13",
   "metadata": {},
   "outputs": [],
   "source": [
    "len(s)"
   ]
  },
  {
   "cell_type": "code",
   "execution_count": null,
   "id": "b7bc2589",
   "metadata": {},
   "outputs": [],
   "source": [
    "l=[\"pooja\",4.5,\"ggu\"]"
   ]
  },
  {
   "cell_type": "code",
   "execution_count": null,
   "id": "c5107a05",
   "metadata": {},
   "outputs": [],
   "source": [
    "l"
   ]
  },
  {
   "cell_type": "code",
   "execution_count": null,
   "id": "b96f2230",
   "metadata": {},
   "outputs": [],
   "source": [
    "l[0]"
   ]
  },
  {
   "cell_type": "code",
   "execution_count": null,
   "id": "f6dd5c49",
   "metadata": {},
   "outputs": [],
   "source": [
    "l[0]=78"
   ]
  },
  {
   "cell_type": "code",
   "execution_count": null,
   "id": "de5daadc",
   "metadata": {},
   "outputs": [],
   "source": [
    "l"
   ]
  },
  {
   "cell_type": "code",
   "execution_count": null,
   "id": "47f7bc2e",
   "metadata": {},
   "outputs": [],
   "source": [
    "s=\"I am Pooja\""
   ]
  },
  {
   "cell_type": "code",
   "execution_count": null,
   "id": "ca169cc4",
   "metadata": {},
   "outputs": [],
   "source": [
    "s[0]"
   ]
  },
  {
   "cell_type": "code",
   "execution_count": null,
   "id": "e77f8afd",
   "metadata": {},
   "outputs": [],
   "source": [
    "s[0]=\"s\""
   ]
  },
  {
   "cell_type": "code",
   "execution_count": null,
   "id": "244bf7e6",
   "metadata": {},
   "outputs": [],
   "source": [
    "s.find(\"o\")\n"
   ]
  },
  {
   "cell_type": "code",
   "execution_count": null,
   "id": "0ee84bde",
   "metadata": {},
   "outputs": [],
   "source": [
    "s.find(\"oi\")"
   ]
  },
  {
   "cell_type": "code",
   "execution_count": null,
   "id": "232d415a",
   "metadata": {},
   "outputs": [],
   "source": [
    "s.find(\"am\")"
   ]
  },
  {
   "cell_type": "code",
   "execution_count": null,
   "id": "ffe69a20",
   "metadata": {},
   "outputs": [],
   "source": [
    "s=\"my name is pooja, my Name ok\""
   ]
  },
  {
   "cell_type": "code",
   "execution_count": null,
   "id": "f8737b17",
   "metadata": {},
   "outputs": [],
   "source": [
    "s.find(\"name\")"
   ]
  },
  {
   "cell_type": "code",
   "execution_count": null,
   "id": "4cd810df",
   "metadata": {},
   "outputs": [],
   "source": [
    "b=s.find(\"name\")\n",
    "for i in range(len(\"name\")):\n",
    "    print(b+i)\n",
    "   \n",
    "        "
   ]
  },
  {
   "cell_type": "code",
   "execution_count": null,
   "id": "4bc5c147",
   "metadata": {},
   "outputs": [],
   "source": [
    "len(\"name\")"
   ]
  },
  {
   "cell_type": "code",
   "execution_count": null,
   "id": "a99a1998",
   "metadata": {},
   "outputs": [],
   "source": [
    "s.count(\"m\")"
   ]
  },
  {
   "cell_type": "code",
   "execution_count": null,
   "id": "8798971c",
   "metadata": {},
   "outputs": [],
   "source": [
    "s.count(\"name\")"
   ]
  },
  {
   "cell_type": "code",
   "execution_count": null,
   "id": "e226e479",
   "metadata": {},
   "outputs": [],
   "source": [
    "s.capitalize()"
   ]
  },
  {
   "cell_type": "code",
   "execution_count": null,
   "id": "dfa90195",
   "metadata": {},
   "outputs": [],
   "source": [
    "s.split()"
   ]
  },
  {
   "cell_type": "code",
   "execution_count": null,
   "id": "d549d9ec",
   "metadata": {
    "scrolled": true
   },
   "outputs": [],
   "source": [
    "type(s.split())"
   ]
  },
  {
   "cell_type": "code",
   "execution_count": null,
   "id": "7798d708",
   "metadata": {},
   "outputs": [],
   "source": [
    "s.split(\",\")"
   ]
  },
  {
   "cell_type": "code",
   "execution_count": null,
   "id": "c662fce4",
   "metadata": {},
   "outputs": [],
   "source": [
    "s.split(\"n\")"
   ]
  },
  {
   "cell_type": "code",
   "execution_count": null,
   "id": "4c2b5d92",
   "metadata": {},
   "outputs": [],
   "source": [
    "s.split(\"na\")"
   ]
  },
  {
   "cell_type": "code",
   "execution_count": null,
   "id": "c22973b5",
   "metadata": {},
   "outputs": [],
   "source": [
    "s.split(sep= \"(None)\", maxsplit=0)"
   ]
  },
  {
   "cell_type": "code",
   "execution_count": null,
   "id": "d0cdb677",
   "metadata": {},
   "outputs": [],
   "source": [
    "s.upper()"
   ]
  },
  {
   "cell_type": "code",
   "execution_count": null,
   "id": "d1a9ccf8",
   "metadata": {},
   "outputs": [],
   "source": [
    "s.lower()"
   ]
  },
  {
   "cell_type": "code",
   "execution_count": null,
   "id": "a5428158",
   "metadata": {},
   "outputs": [],
   "source": [
    "s.swapcase()"
   ]
  },
  {
   "cell_type": "code",
   "execution_count": null,
   "id": "3a8c4106",
   "metadata": {},
   "outputs": [],
   "source": [
    "\" \".join(s)"
   ]
  },
  {
   "cell_type": "code",
   "execution_count": null,
   "id": "9683666e",
   "metadata": {},
   "outputs": [],
   "source": [
    "\" * \".join(s)"
   ]
  },
  {
   "cell_type": "code",
   "execution_count": null,
   "id": "e1424074",
   "metadata": {},
   "outputs": [],
   "source": [
    "reversed(s)"
   ]
  },
  {
   "cell_type": "code",
   "execution_count": null,
   "id": "c03ef3ee",
   "metadata": {},
   "outputs": [],
   "source": [
    "list(reversed(s))"
   ]
  },
  {
   "cell_type": "code",
   "execution_count": null,
   "id": "2435cb58",
   "metadata": {},
   "outputs": [],
   "source": [
    "s[::-1]"
   ]
  },
  {
   "cell_type": "code",
   "execution_count": null,
   "id": "43bc6d39",
   "metadata": {},
   "outputs": [],
   "source": [
    "for i in reversed(s):\n",
    "    print(i,end=\" \")"
   ]
  },
  {
   "cell_type": "code",
   "execution_count": null,
   "id": "5eb6376e",
   "metadata": {},
   "outputs": [],
   "source": [
    "s=\"         poo   ja\""
   ]
  },
  {
   "cell_type": "code",
   "execution_count": null,
   "id": "c4488273",
   "metadata": {},
   "outputs": [],
   "source": [
    "s"
   ]
  },
  {
   "cell_type": "code",
   "execution_count": null,
   "id": "86b24a61",
   "metadata": {},
   "outputs": [],
   "source": [
    "s=\" Greeting from Ineuron \""
   ]
  },
  {
   "cell_type": "code",
   "execution_count": null,
   "id": "c2294161",
   "metadata": {},
   "outputs": [],
   "source": [
    "s.removeprefix(\" \")"
   ]
  },
  {
   "cell_type": "code",
   "execution_count": null,
   "id": "2fde748c",
   "metadata": {},
   "outputs": [],
   "source": [
    "s.removesuffix(\" \")"
   ]
  },
  {
   "cell_type": "code",
   "execution_count": null,
   "id": "d75a9475",
   "metadata": {},
   "outputs": [],
   "source": [
    "s.rindex(\"G\")"
   ]
  },
  {
   "cell_type": "code",
   "execution_count": null,
   "id": "76e88cbe",
   "metadata": {},
   "outputs": [],
   "source": [
    "s.rfind(\"G\")"
   ]
  },
  {
   "cell_type": "code",
   "execution_count": null,
   "id": "c43c1500",
   "metadata": {},
   "outputs": [],
   "source": [
    "s1=s.replace(\"Gre\",\"xxx\")"
   ]
  },
  {
   "cell_type": "code",
   "execution_count": null,
   "id": "62937572",
   "metadata": {},
   "outputs": [],
   "source": [
    "s1"
   ]
  },
  {
   "cell_type": "code",
   "execution_count": null,
   "id": "d804e49e",
   "metadata": {},
   "outputs": [],
   "source": [
    "s"
   ]
  },
  {
   "cell_type": "code",
   "execution_count": null,
   "id": "9f3210e8",
   "metadata": {},
   "outputs": [],
   "source": [
    "c=\"pooja\""
   ]
  },
  {
   "cell_type": "code",
   "execution_count": null,
   "id": "7e6a286f",
   "metadata": {},
   "outputs": [],
   "source": [
    "c.center(20,\" \")"
   ]
  },
  {
   "cell_type": "code",
   "execution_count": null,
   "id": "87c06682",
   "metadata": {},
   "outputs": [],
   "source": [
    "c.center(20,\"@\")"
   ]
  },
  {
   "cell_type": "code",
   "execution_count": null,
   "id": "6e341a3f",
   "metadata": {},
   "outputs": [],
   "source": [
    "c=\"pooja\\tkumar\""
   ]
  },
  {
   "cell_type": "code",
   "execution_count": null,
   "id": "7effd413",
   "metadata": {},
   "outputs": [],
   "source": [
    "c"
   ]
  },
  {
   "cell_type": "code",
   "execution_count": null,
   "id": "dbbead0d",
   "metadata": {},
   "outputs": [],
   "source": [
    "c.expandtabs()"
   ]
  },
  {
   "cell_type": "markdown",
   "id": "2c74653e",
   "metadata": {},
   "source": [
    "### class task\n",
    "         \n",
    "         a=\"we all are apart of Full Stack\"\n",
    "         \n",
    "         1.Normallize all the string in lower?\n",
    "         2.Find no. of occurences of \"a\" in entire data\n",
    "         3.Find all the location/index of \"a\" in string\n",
    "         4.Replace all the \"a\" with \"iNeuron\"\n",
    "         5.Print all the word  as a list"
   ]
  },
  {
   "cell_type": "code",
   "execution_count": null,
   "id": "f2973d4e",
   "metadata": {
    "scrolled": true
   },
   "outputs": [],
   "source": [
    "a=\"we all are apart of Full Stack\"\n",
    "print(\"1.Normallize all the string in lower?\")\n",
    "print(a.lower())\n",
    "print(\"-------------------------------------------------\")\n",
    "print(\"2.Find no. of occurences of 'a' in entire data\")\n",
    "print(a.count(\"a\"))\n",
    "print(\"-------------------------------------------------\"\"-------------------------------------------------\")\n",
    "print(\"3.Find all the location/index of 'a' in string\")\n",
    "b=a.index(\"a\")\n",
    "for i in  range(b,len(a)):\n",
    "    if a[i]==\"a\":\n",
    "        print(i,end=\" \")\n",
    "    \n",
    "print()\n",
    "print(\"-------------------------------------------------\") \n",
    "print('4.Replace all the \"a\" with \"iNeuron\"')\n",
    "print(a.replace(\"a\",\"iNeuron\"))\n",
    "print(\"-------------------------------------------------\")\n",
    "print('5.Print all the word  as a list')\n",
    "print(a.split(sep= \"  \")) "
   ]
  },
  {
   "cell_type": "code",
   "execution_count": null,
   "id": "b8f003fd",
   "metadata": {},
   "outputs": [],
   "source": [
    "l=[]\n",
    "for i in range(len(a)):\n",
    "    if a[i]==\"a\":\n",
    "        l.append(i)\n",
    "l"
   ]
  },
  {
   "cell_type": "code",
   "execution_count": null,
   "id": "1e7c17f3",
   "metadata": {},
   "outputs": [],
   "source": [
    "lst=[1,2,3]\n",
    "print(lst)\n",
    "lst.append(4)\n",
    "print(lst)\n",
    "a=[4,5,\"ooo\"]\n",
    "lst.append(a)\n",
    "lst"
   ]
  },
  {
   "cell_type": "code",
   "execution_count": null,
   "id": "b22e5ac2",
   "metadata": {},
   "outputs": [],
   "source": [
    "lst=[1,5,\"pooja\"]\n",
    "a=[4,8]\n",
    "\n",
    "lst.append(a)\n",
    "print(lst)\n",
    "lst.extend(a)\n",
    "lst"
   ]
  },
  {
   "cell_type": "code",
   "execution_count": null,
   "id": "b921c467",
   "metadata": {},
   "outputs": [],
   "source": [
    "s=\"pooja\""
   ]
  },
  {
   "cell_type": "code",
   "execution_count": null,
   "id": "140a4a33",
   "metadata": {},
   "outputs": [],
   "source": [
    "s.isupper()"
   ]
  },
  {
   "cell_type": "code",
   "execution_count": null,
   "id": "0801f908",
   "metadata": {},
   "outputs": [],
   "source": [
    "s.isnumeric()"
   ]
  },
  {
   "cell_type": "code",
   "execution_count": null,
   "id": "10558d0c",
   "metadata": {},
   "outputs": [],
   "source": [
    "s.islower()"
   ]
  },
  {
   "cell_type": "code",
   "execution_count": null,
   "id": "50283ec7",
   "metadata": {},
   "outputs": [],
   "source": [
    "s=\"pooja123\""
   ]
  },
  {
   "cell_type": "code",
   "execution_count": null,
   "id": "45b53c8e",
   "metadata": {},
   "outputs": [],
   "source": [
    "s.isalnum()"
   ]
  },
  {
   "cell_type": "code",
   "execution_count": null,
   "id": "4103d12c",
   "metadata": {},
   "outputs": [],
   "source": [
    "b=\"pooja das\"\n",
    "print(b.isspace())\n",
    "c=\" \"\n",
    "print(c.isspace())"
   ]
  },
  {
   "cell_type": "code",
   "execution_count": null,
   "id": "a6419dce",
   "metadata": {},
   "outputs": [],
   "source": [
    "s.endswith(\"p\")"
   ]
  },
  {
   "cell_type": "code",
   "execution_count": null,
   "id": "b443c927",
   "metadata": {},
   "outputs": [],
   "source": [
    "s.isnumeric()"
   ]
  },
  {
   "cell_type": "code",
   "execution_count": null,
   "id": "2941b351",
   "metadata": {},
   "outputs": [],
   "source": [
    "s.isdigit()"
   ]
  },
  {
   "cell_type": "code",
   "execution_count": null,
   "id": "3cc54d43",
   "metadata": {},
   "outputs": [],
   "source": [
    "s.startswith(\"p\")"
   ]
  },
  {
   "cell_type": "code",
   "execution_count": null,
   "id": "3d482251",
   "metadata": {},
   "outputs": [],
   "source": [
    "b.isalpha()"
   ]
  },
  {
   "cell_type": "code",
   "execution_count": null,
   "id": "4c81da7e",
   "metadata": {},
   "outputs": [],
   "source": [
    "b=\"Pooja\"\n",
    "print(b.istitle())\n",
    "c=\"pooja\"\n",
    "\n",
    "print(c.istitle())\n"
   ]
  },
  {
   "cell_type": "code",
   "execution_count": null,
   "id": "dba6bb8a",
   "metadata": {},
   "outputs": [],
   "source": [
    "s=\"this is a full strack batch\"\n",
    "for i in s:\n",
    "    \n",
    "    print(i,end=\"\")"
   ]
  },
  {
   "cell_type": "code",
   "execution_count": null,
   "id": "331915cc",
   "metadata": {},
   "outputs": [],
   "source": [
    "count= 0\n",
    "for i in s:\n",
    "    count = count +1\n",
    "print(count)    "
   ]
  },
  {
   "cell_type": "code",
   "execution_count": null,
   "id": "bd63ec6e",
   "metadata": {},
   "outputs": [],
   "source": [
    "s=\"this is a full strack batch\"\n",
    "for i in range(1,len(s)):\n",
    "    print(s[-i],end=\"\")"
   ]
  },
  {
   "cell_type": "code",
   "execution_count": null,
   "id": "412ec92c",
   "metadata": {},
   "outputs": [],
   "source": [
    "s=\"Pooja\"\n",
    "i=1\n",
    "while i<=len(s):\n",
    "    print(s[-i],end=\"\")\n",
    "    i+=1"
   ]
  },
  {
   "cell_type": "code",
   "execution_count": null,
   "id": "eb63ac46",
   "metadata": {},
   "outputs": [],
   "source": [
    "s=\"this is a full strack batch\"\n",
    "i=1\n",
    "while i<=len(s):\n",
    "    print(s[-i],end=\"\")\n",
    "    i+=1"
   ]
  },
  {
   "cell_type": "code",
   "execution_count": null,
   "id": "7b5df58d",
   "metadata": {},
   "outputs": [],
   "source": [
    "s=\"iNeuRon\"\n",
    "vowels=\"AaEeIiOoUu\"\n",
    "for i in s:\n",
    "    if i in vowels:\n",
    "        print(f\"{i} is vowels\")\n",
    "    else:\n",
    "        print(\"{} is not vowel\".format(i))"
   ]
  },
  {
   "cell_type": "code",
   "execution_count": null,
   "id": "8995b1d7",
   "metadata": {},
   "outputs": [],
   "source": [
    "\"{} is A bat\".format(\"this\")"
   ]
  },
  {
   "cell_type": "code",
   "execution_count": null,
   "id": "86627fbd",
   "metadata": {},
   "outputs": [],
   "source": [
    "\"{} is {} bat\".format(\"this\",\"a\")"
   ]
  },
  {
   "cell_type": "code",
   "execution_count": null,
   "id": "9c66ede5",
   "metadata": {},
   "outputs": [],
   "source": [
    "a=4\n",
    "b=5\n",
    "\"{} is {} bat {}\".format(a,b,\"text\")"
   ]
  },
  {
   "cell_type": "code",
   "execution_count": null,
   "id": "72d6755b",
   "metadata": {},
   "outputs": [],
   "source": [
    "a=\"xyx\"\n",
    "b=2002\n",
    "c=\"nitin\"\n"
   ]
  },
  {
   "cell_type": "code",
   "execution_count": null,
   "id": "53538cf1",
   "metadata": {},
   "outputs": [],
   "source": [
    "s=input(\"Enter any data to check its palindrom  \")\n",
    "c=s[len(s)::-1]\n",
    "print()\n",
    "if s==c:\n",
    "    print(\"{} is palindrom\".format(s))\n",
    "else:\n",
    "    print(\"{} is not palindrom\".format(s))"
   ]
  },
  {
   "cell_type": "code",
   "execution_count": null,
   "id": "da7bda0d",
   "metadata": {},
   "outputs": [],
   "source": [
    "c"
   ]
  },
  {
   "cell_type": "code",
   "execution_count": null,
   "id": "ec45e4dd",
   "metadata": {},
   "outputs": [],
   "source": [
    "s[len(s)::-1]"
   ]
  },
  {
   "cell_type": "code",
   "execution_count": null,
   "id": "fe21473b",
   "metadata": {},
   "outputs": [],
   "source": [
    "s1=s.r"
   ]
  },
  {
   "cell_type": "code",
   "execution_count": null,
   "id": "d1c424f2",
   "metadata": {},
   "outputs": [],
   "source": []
  },
  {
   "cell_type": "code",
   "execution_count": null,
   "id": "05dffa2b",
   "metadata": {},
   "outputs": [],
   "source": []
  },
  {
   "cell_type": "code",
   "execution_count": null,
   "id": "7c31f330",
   "metadata": {},
   "outputs": [],
   "source": []
  }
 ],
 "metadata": {
  "kernelspec": {
   "display_name": "Python 3 (ipykernel)",
   "language": "python",
   "name": "python3"
  },
  "language_info": {
   "codemirror_mode": {
    "name": "ipython",
    "version": 3
   },
   "file_extension": ".py",
   "mimetype": "text/x-python",
   "name": "python",
   "nbconvert_exporter": "python",
   "pygments_lexer": "ipython3",
   "version": "3.9.7"
  }
 },
 "nbformat": 4,
 "nbformat_minor": 5
}
