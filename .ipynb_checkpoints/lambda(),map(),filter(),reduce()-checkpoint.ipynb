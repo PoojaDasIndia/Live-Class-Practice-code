{
 "cells": [
  {
   "cell_type": "markdown",
   "id": "74c3660c",
   "metadata": {},
   "source": [
    "### lambda"
   ]
  },
  {
   "cell_type": "code",
   "execution_count": 1,
   "id": "eb22b121",
   "metadata": {},
   "outputs": [
    {
     "data": {
      "text/plain": [
       "(<function __main__.<lambda>(x)>, [2, 4, 6])"
      ]
     },
     "execution_count": 1,
     "metadata": {},
     "output_type": "execute_result"
    }
   ],
   "source": [
    "lambda x:x*x,[2,4,6]"
   ]
  },
  {
   "cell_type": "code",
   "execution_count": 7,
   "id": "c42413af",
   "metadata": {},
   "outputs": [],
   "source": [
    "y=lambda x:x*x"
   ]
  },
  {
   "cell_type": "code",
   "execution_count": 9,
   "id": "e271a7de",
   "metadata": {},
   "outputs": [
    {
     "data": {
      "text/plain": [
       "36"
      ]
     },
     "execution_count": 9,
     "metadata": {},
     "output_type": "execute_result"
    }
   ],
   "source": [
    "y(6)"
   ]
  },
  {
   "cell_type": "code",
   "execution_count": 10,
   "id": "4f426cd9",
   "metadata": {},
   "outputs": [],
   "source": [
    "even=lambda x:x%2==0"
   ]
  },
  {
   "cell_type": "code",
   "execution_count": 12,
   "id": "37c5a0a8",
   "metadata": {},
   "outputs": [
    {
     "data": {
      "text/plain": [
       "True"
      ]
     },
     "execution_count": 12,
     "metadata": {},
     "output_type": "execute_result"
    }
   ],
   "source": [
    "even(8)"
   ]
  },
  {
   "cell_type": "code",
   "execution_count": 13,
   "id": "bd3c055f",
   "metadata": {},
   "outputs": [],
   "source": [
    "def add(n,m):\n",
    "    return n+m"
   ]
  },
  {
   "cell_type": "code",
   "execution_count": 14,
   "id": "48fa4c76",
   "metadata": {},
   "outputs": [],
   "source": [
    "y=lambda n,m:n+m"
   ]
  },
  {
   "cell_type": "code",
   "execution_count": 15,
   "id": "bd1e6293",
   "metadata": {},
   "outputs": [
    {
     "data": {
      "text/plain": [
       "10"
      ]
     },
     "execution_count": 15,
     "metadata": {},
     "output_type": "execute_result"
    }
   ],
   "source": [
    "y(4,6)"
   ]
  },
  {
   "cell_type": "code",
   "execution_count": 16,
   "id": "5e7b29ad",
   "metadata": {},
   "outputs": [
    {
     "data": {
      "text/plain": [
       "13"
      ]
     },
     "execution_count": 16,
     "metadata": {},
     "output_type": "execute_result"
    }
   ],
   "source": [
    "add(5,8)"
   ]
  },
  {
   "cell_type": "markdown",
   "id": "25525f14",
   "metadata": {},
   "source": [
    "### map()"
   ]
  },
  {
   "cell_type": "code",
   "execution_count": 18,
   "id": "dcb191c0",
   "metadata": {},
   "outputs": [
    {
     "data": {
      "text/plain": [
       "<map at 0x148dd3cd7f0>"
      ]
     },
     "execution_count": 18,
     "metadata": {},
     "output_type": "execute_result"
    }
   ],
   "source": [
    "map(lambda n,m:n+m,[4,6,7],[8,9,6])"
   ]
  },
  {
   "cell_type": "code",
   "execution_count": 19,
   "id": "293e7885",
   "metadata": {},
   "outputs": [
    {
     "data": {
      "text/plain": [
       "[12, 15, 13]"
      ]
     },
     "execution_count": 19,
     "metadata": {},
     "output_type": "execute_result"
    }
   ],
   "source": [
    "list(map(lambda n,m:n+m,[4,6,7],[8,9,6]))"
   ]
  },
  {
   "cell_type": "code",
   "execution_count": 20,
   "id": "b8718416",
   "metadata": {},
   "outputs": [
    {
     "data": {
      "text/plain": [
       "[12, 15, 13]"
      ]
     },
     "execution_count": 20,
     "metadata": {},
     "output_type": "execute_result"
    }
   ],
   "source": [
    "list(map(add,[4,6,7],[8,9,6]))"
   ]
  },
  {
   "cell_type": "markdown",
   "id": "3f5f339e",
   "metadata": {},
   "source": [
    "### Filter"
   ]
  },
  {
   "cell_type": "code",
   "execution_count": 21,
   "id": "0302db84",
   "metadata": {},
   "outputs": [],
   "source": [
    "import random"
   ]
  },
  {
   "cell_type": "code",
   "execution_count": 25,
   "id": "8610a709",
   "metadata": {},
   "outputs": [],
   "source": [
    "num=[random.randint(1,100) for i in range(20)]"
   ]
  },
  {
   "cell_type": "code",
   "execution_count": 26,
   "id": "663821ca",
   "metadata": {},
   "outputs": [
    {
     "data": {
      "text/plain": [
       "[18, 77, 100, 23, 64, 38, 72, 79, 44, 9, 26, 48, 14, 9, 41, 8, 99, 14, 32, 21]"
      ]
     },
     "execution_count": 26,
     "metadata": {},
     "output_type": "execute_result"
    }
   ],
   "source": [
    "num"
   ]
  },
  {
   "cell_type": "code",
   "execution_count": 29,
   "id": "4e1ffa8f",
   "metadata": {},
   "outputs": [
    {
     "data": {
      "text/plain": [
       "[77, 100, 64, 72, 79, 99]"
      ]
     },
     "execution_count": 29,
     "metadata": {},
     "output_type": "execute_result"
    }
   ],
   "source": [
    "list(filter(lambda x:x>50,num))"
   ]
  },
  {
   "cell_type": "code",
   "execution_count": 30,
   "id": "f7b8feb0",
   "metadata": {},
   "outputs": [],
   "source": [
    "mixed=[4,8,9,3,\"\",{},[],7,False,True]"
   ]
  },
  {
   "cell_type": "code",
   "execution_count": 31,
   "id": "2c8b2ac9",
   "metadata": {},
   "outputs": [
    {
     "data": {
      "text/plain": [
       "[4, 8, 9, 3, 7, True]"
      ]
     },
     "execution_count": 31,
     "metadata": {},
     "output_type": "execute_result"
    }
   ],
   "source": [
    "list(filter(None,mixed))"
   ]
  },
  {
   "cell_type": "markdown",
   "id": "b73bf620",
   "metadata": {},
   "source": [
    "## reduce()"
   ]
  },
  {
   "cell_type": "code",
   "execution_count": 35,
   "id": "6a3dd759",
   "metadata": {},
   "outputs": [],
   "source": [
    "from functools import reduce"
   ]
  },
  {
   "cell_type": "code",
   "execution_count": 37,
   "id": "08b87a84",
   "metadata": {},
   "outputs": [
    {
     "data": {
      "text/plain": [
       "26"
      ]
     },
     "execution_count": 37,
     "metadata": {},
     "output_type": "execute_result"
    }
   ],
   "source": [
    "reduce(add,[4,8,9,5])"
   ]
  },
  {
   "cell_type": "code",
   "execution_count": 42,
   "id": "c250689f",
   "metadata": {},
   "outputs": [
    {
     "data": {
      "text/plain": [
       "10"
      ]
     },
     "execution_count": 42,
     "metadata": {},
     "output_type": "execute_result"
    }
   ],
   "source": [
    "reduce(lambda x,y:x+y,[1,2,3,4])"
   ]
  },
  {
   "cell_type": "code",
   "execution_count": 43,
   "id": "9a71abda",
   "metadata": {},
   "outputs": [
    {
     "data": {
      "text/plain": [
       "4950"
      ]
     },
     "execution_count": 43,
     "metadata": {},
     "output_type": "execute_result"
    }
   ],
   "source": [
    "reduce(lambda x,y:x+y,range(100))"
   ]
  },
  {
   "cell_type": "code",
   "execution_count": 44,
   "id": "401f3c9e",
   "metadata": {},
   "outputs": [
    {
     "data": {
      "text/plain": [
       "[18, 77, 100, 23, 64, 38, 72, 79, 44, 9, 26, 48, 14, 9, 41, 8, 99, 14, 32, 21]"
      ]
     },
     "execution_count": 44,
     "metadata": {},
     "output_type": "execute_result"
    }
   ],
   "source": [
    "num"
   ]
  },
  {
   "cell_type": "code",
   "execution_count": 46,
   "id": "d7013a6d",
   "metadata": {},
   "outputs": [
    {
     "data": {
      "text/plain": [
       "[154, 200, 128, 144, 158, 88, 96, 82, 198]"
      ]
     },
     "execution_count": 46,
     "metadata": {},
     "output_type": "execute_result"
    }
   ],
   "source": [
    "list(map(lambda x:x+x,filter(lambda x:x>40,num)))"
   ]
  },
  {
   "cell_type": "code",
   "execution_count": 47,
   "id": "7df0d597",
   "metadata": {},
   "outputs": [
    {
     "data": {
      "text/plain": [
       "[77, 100, 64, 72, 79, 44, 48, 41, 99]"
      ]
     },
     "execution_count": 47,
     "metadata": {},
     "output_type": "execute_result"
    }
   ],
   "source": [
    "list(filter(lambda x:x>40,num))"
   ]
  },
  {
   "cell_type": "code",
   "execution_count": 48,
   "id": "a2720085",
   "metadata": {},
   "outputs": [
    {
     "data": {
      "text/plain": [
       "[154, 200, 128, 144, 158, 88, 96, 82, 198]"
      ]
     },
     "execution_count": 48,
     "metadata": {},
     "output_type": "execute_result"
    }
   ],
   "source": [
    "list(map(lambda x:x+x,[77, 100, 64, 72, 79, 44, 48, 41, 99]))"
   ]
  },
  {
   "cell_type": "code",
   "execution_count": 51,
   "id": "803dec48",
   "metadata": {},
   "outputs": [
    {
     "data": {
      "text/plain": [
       "546"
      ]
     },
     "execution_count": 51,
     "metadata": {},
     "output_type": "execute_result"
    }
   ],
   "source": [
    "reduce(lambda x,y:x+y ,map(lambda x:x+x,filter(lambda x:x>=20 and x<=50,num)))"
   ]
  },
  {
   "cell_type": "code",
   "execution_count": null,
   "id": "ffe06cb0",
   "metadata": {},
   "outputs": [],
   "source": []
  }
 ],
 "metadata": {
  "kernelspec": {
   "display_name": "Python 3 (ipykernel)",
   "language": "python",
   "name": "python3"
  },
  "language_info": {
   "codemirror_mode": {
    "name": "ipython",
    "version": 3
   },
   "file_extension": ".py",
   "mimetype": "text/x-python",
   "name": "python",
   "nbconvert_exporter": "python",
   "pygments_lexer": "ipython3",
   "version": "3.9.7"
  }
 },
 "nbformat": 4,
 "nbformat_minor": 5
}
