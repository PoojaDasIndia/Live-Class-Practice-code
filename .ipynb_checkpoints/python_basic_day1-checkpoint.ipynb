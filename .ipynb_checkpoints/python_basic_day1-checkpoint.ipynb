{
 "cells": [
  {
   "cell_type": "code",
   "execution_count": 2,
   "id": "ac0eba2b",
   "metadata": {},
   "outputs": [
    {
     "name": "stdout",
     "output_type": "stream",
     "text": [
      "[10, 20, 5]\n",
      "[5, 3]\n",
      "(5, 6)\n"
     ]
    }
   ],
   "source": [
    "l=[[10,20,5],[5,3],(5,6)]\n",
    "for i in l:\n",
    "    print(i)"
   ]
  },
  {
   "cell_type": "code",
   "execution_count": 7,
   "id": "6b6eea97",
   "metadata": {},
   "outputs": [
    {
     "name": "stdout",
     "output_type": "stream",
     "text": [
      "10 20 5 \n",
      "5 3 \n",
      "5 6 \n"
     ]
    }
   ],
   "source": [
    "for i in l:\n",
    "    for j in i:\n",
    "        print(j,end=\" \")\n",
    "    print()    \n",
    "\n",
    "\n",
    "\n"
   ]
  },
  {
   "cell_type": "code",
   "execution_count": 14,
   "id": "21172da3",
   "metadata": {},
   "outputs": [
    {
     "name": "stdout",
     "output_type": "stream",
     "text": [
      "* * * * * \n",
      "* * * * * \n",
      "* * * * * \n",
      "* * * * * \n",
      "* * * * * \n"
     ]
    }
   ],
   "source": [
    "n=5\n",
    "for i in range(n):\n",
    "    for j in range(n):\n",
    "        print(\"*\",end=\" \")\n",
    "    print()    \n",
    "\n",
    "\n",
    "\n",
    "\n"
   ]
  },
  {
   "cell_type": "code",
   "execution_count": 15,
   "id": "84cf4eb2",
   "metadata": {},
   "outputs": [
    {
     "name": "stdout",
     "output_type": "stream",
     "text": [
      "* * * * * \n",
      "* * * * \n",
      "* * * \n",
      "* * \n",
      "* \n"
     ]
    }
   ],
   "source": [
    "n=5\n",
    "for i in range(n):\n",
    "    for j in range(i,n):\n",
    "        print(\"*\",end=\" \")\n",
    "    print()"
   ]
  },
  {
   "cell_type": "code",
   "execution_count": 50,
   "id": "6bfbaaf1",
   "metadata": {},
   "outputs": [
    {
     "name": "stdout",
     "output_type": "stream",
     "text": [
      "* \n",
      "* * \n",
      "* * * \n",
      "* * * * \n",
      "* * * * * \n"
     ]
    }
   ],
   "source": [
    "n=5\n",
    "for i in range(n):\n",
    "    for j in range(i+1):\n",
    "        print(\"*\",end=\" \")\n",
    "    print()"
   ]
  },
  {
   "cell_type": "code",
   "execution_count": 51,
   "id": "166e1eb3",
   "metadata": {},
   "outputs": [
    {
     "data": {
      "text/plain": [
       "[0, 1, 2, 3, 4]"
      ]
     },
     "execution_count": 51,
     "metadata": {},
     "output_type": "execute_result"
    }
   ],
   "source": [
    "list(range(n))"
   ]
  },
  {
   "cell_type": "code",
   "execution_count": 52,
   "id": "eb9449f7",
   "metadata": {},
   "outputs": [
    {
     "name": "stdout",
     "output_type": "stream",
     "text": [
      "* "
     ]
    }
   ],
   "source": [
    "for j in range(1):\n",
    "        print(\"*\",end=\" \")"
   ]
  },
  {
   "cell_type": "code",
   "execution_count": 53,
   "id": "6b3e123e",
   "metadata": {},
   "outputs": [
    {
     "data": {
      "text/plain": [
       "[0]"
      ]
     },
     "execution_count": 53,
     "metadata": {},
     "output_type": "execute_result"
    }
   ],
   "source": [
    "list(range(1))"
   ]
  },
  {
   "cell_type": "code",
   "execution_count": 54,
   "id": "cf45b7c7",
   "metadata": {},
   "outputs": [
    {
     "name": "stdout",
     "output_type": "stream",
     "text": [
      "* * * * * \n",
      "* * * * \n",
      "* * * \n",
      "* * \n",
      "* \n"
     ]
    }
   ],
   "source": [
    "n=5\n",
    "for i in range (n):\n",
    "    for j in range(i,n):\n",
    "        print(\"*\",end=\" \")\n",
    "    print()    "
   ]
  },
  {
   "cell_type": "code",
   "execution_count": 55,
   "id": "0e8bc1b3",
   "metadata": {},
   "outputs": [
    {
     "name": "stdout",
     "output_type": "stream",
     "text": [
      "        * \n",
      "      * * * \n",
      "    * * * * * \n",
      "  * * * * * * * \n",
      "* * * * * * * * * \n"
     ]
    }
   ],
   "source": [
    "n=5\n",
    "for i in range (n):\n",
    "    for j in range (i,n-1):\n",
    "        print(\" \",end=\" \")\n",
    "    for j in range (i+1):\n",
    "        print(\"*\",end=\" \")\n",
    "    for j in range(i):\n",
    "        print(\"*\",end=\" \")  \n",
    "    print()    \n",
    "\n",
    "   \n",
    "   "
   ]
  },
  {
   "cell_type": "code",
   "execution_count": 56,
   "id": "758cdc0d",
   "metadata": {},
   "outputs": [
    {
     "data": {
      "text/plain": [
       "range(0, 0)"
      ]
     },
     "execution_count": 56,
     "metadata": {},
     "output_type": "execute_result"
    }
   ],
   "source": [
    "range(3*0)"
   ]
  },
  {
   "cell_type": "code",
   "execution_count": 57,
   "id": "d205a5ce",
   "metadata": {},
   "outputs": [
    {
     "name": "stdout",
     "output_type": "stream",
     "text": [
      "        * \n",
      "      * * * \n",
      "    * * * * * \n",
      "  * * * * * * * \n",
      "* * * * * * * * * \n"
     ]
    }
   ],
   "source": [
    "n=5\n",
    "for i in range (n):\n",
    "    for j in range (i,n-1):\n",
    "        print(\" \",end=\" \")\n",
    "    for j in range (2*i+1):\n",
    "        print(\"*\",end=\" \")\n",
    "    print()    "
   ]
  },
  {
   "cell_type": "code",
   "execution_count": 65,
   "id": "3e2f0be5",
   "metadata": {},
   "outputs": [
    {
     "name": "stdout",
     "output_type": "stream",
     "text": [
      "478536\n",
      "count of 478536is 6\n"
     ]
    }
   ],
   "source": [
    "#count of no. like 4567=4. 7=1,78=2\n",
    "n=int(input())\n",
    "m=n\n",
    "count=0\n",
    "while n>0:\n",
    "    n=n//10\n",
    "    count=count+1\n",
    "print(f\"count of {m} is {count}\")  \n",
    "    \n",
    "#print(\"count of is \"+str(count))    "
   ]
  },
  {
   "cell_type": "code",
   "execution_count": 66,
   "id": "f783f06c",
   "metadata": {},
   "outputs": [
    {
     "data": {
      "text/plain": [
       "5"
      ]
     },
     "execution_count": 66,
     "metadata": {},
     "output_type": "execute_result"
    }
   ],
   "source": [
    "#euclidean algoritn for gcd\n",
    "def fc(x,y):\n",
    "    while(y):\n",
    "        x,y=y,x%y\n",
    "    return x\n",
    "fc(10,15)\n",
    "    \n",
    "    "
   ]
  },
  {
   "cell_type": "code",
   "execution_count": 69,
   "id": "4c26d83b",
   "metadata": {},
   "outputs": [
    {
     "data": {
      "text/plain": [
       "5"
      ]
     },
     "execution_count": 69,
     "metadata": {},
     "output_type": "execute_result"
    }
   ],
   "source": [
    "x=15\n",
    "y=10\n",
    "x%y"
   ]
  },
  {
   "cell_type": "code",
   "execution_count": 70,
   "id": "68dc2337",
   "metadata": {},
   "outputs": [
    {
     "data": {
      "text/plain": [
       "5"
      ]
     },
     "execution_count": 70,
     "metadata": {},
     "output_type": "execute_result"
    }
   ],
   "source": [
    "5%10\n"
   ]
  },
  {
   "cell_type": "code",
   "execution_count": 71,
   "id": "437de585",
   "metadata": {},
   "outputs": [
    {
     "data": {
      "text/plain": [
       "10"
      ]
     },
     "execution_count": 71,
     "metadata": {},
     "output_type": "execute_result"
    }
   ],
   "source": [
    "10%15\n"
   ]
  },
  {
   "cell_type": "code",
   "execution_count": 76,
   "id": "721fcb8c",
   "metadata": {},
   "outputs": [
    {
     "name": "stdout",
     "output_type": "stream",
     "text": [
      "5\n"
     ]
    }
   ],
   "source": [
    "import math\n",
    "a=10\n",
    "b=15\n",
    "print(math.gcd(a,b))"
   ]
  },
  {
   "cell_type": "code",
   "execution_count": 79,
   "id": "ce8d8724",
   "metadata": {},
   "outputs": [
    {
     "name": "stdout",
     "output_type": "stream",
     "text": [
      "3\n",
      "18.0\n"
     ]
    }
   ],
   "source": [
    "#LCM\n",
    "import math\n",
    "a,b=6,9\n",
    "gcd=math.gcd(a,b)\n",
    "print (gcd)\n",
    "lcm=(a*b)/gcd\n",
    "print(lcm)"
   ]
  },
  {
   "cell_type": "code",
   "execution_count": 80,
   "id": "7d912354",
   "metadata": {},
   "outputs": [
    {
     "name": "stdout",
     "output_type": "stream",
     "text": [
      "18\n"
     ]
    }
   ],
   "source": [
    "res=max(a,b)\n",
    "while (res<=a*b):\n",
    "    if(res%a==0 and res%b==0):\n",
    "        break\n",
    "    res+=1\n",
    "print(res)    "
   ]
  },
  {
   "cell_type": "code",
   "execution_count": 81,
   "id": "74d4a07c",
   "metadata": {},
   "outputs": [
    {
     "data": {
      "text/plain": [
       "5"
      ]
     },
     "execution_count": 81,
     "metadata": {},
     "output_type": "execute_result"
    }
   ],
   "source": [
    "arr=[0,2,5]\n",
    "arr[-1]"
   ]
  },
  {
   "cell_type": "code",
   "execution_count": 53,
   "id": "25516f1f",
   "metadata": {},
   "outputs": [
    {
     "name": "stdout",
     "output_type": "stream",
     "text": [
      "ENTER NO.12\n",
      "1 1 2 3 5 8 13 21 34 55 89 144 233 "
     ]
    }
   ],
   "source": [
    "#Fibonacci\n",
    "n=int(input(\"ENTER NO.\"))\n",
    "if n==0:\n",
    "    print(1)\n",
    "elif n==1:\n",
    "    print(1,1)\n",
    "else:\n",
    "    print (1,1,end=\" \")\n",
    "    a=1\n",
    "    b=1\n",
    "    for i in range (2,n+1):\n",
    "        c=a+b\n",
    "        print(c,end=\" \")\n",
    "        a=b\n",
    "        b=c\n",
    "        "
   ]
  },
  {
   "cell_type": "code",
   "execution_count": 65,
   "id": "737fa093",
   "metadata": {},
   "outputs": [
    {
     "name": "stdout",
     "output_type": "stream",
     "text": [
      "1\n"
     ]
    },
    {
     "data": {
      "text/plain": [
       "1"
      ]
     },
     "execution_count": 65,
     "metadata": {},
     "output_type": "execute_result"
    }
   ],
   "source": [
    "def fibonacci(n):\n",
    "    if n==0:\n",
    "        return 1\n",
    "    elif n==1:\n",
    "        return 1\n",
    "    else:\n",
    "       \n",
    "        a,b=1,1\n",
    "        for i in range(2,n+1):\n",
    "            c=a+b\n",
    "        #return c\n",
    "            a=b\n",
    "            b=c\n",
    "            print(a,b,c)\n",
    "        return a,c# return  before value\n",
    "    \n",
    "n=int(input())   \n",
    "fibonacci(n)   "
   ]
  },
  {
   "cell_type": "code",
   "execution_count": 48,
   "id": "b80f706e",
   "metadata": {},
   "outputs": [
    {
     "name": "stdout",
     "output_type": "stream",
     "text": [
      "ENTER NO.5\n",
      "1 5 "
     ]
    }
   ],
   "source": [
    "#all the divisor\n",
    "n=int(input(\"ENTER NO.\"))\n",
    "if n==0:\n",
    "    print(1)\n",
    "else:\n",
    "    for i in range(1,n+1):\n",
    "        if n%i==0:\n",
    "            print(i,end=\" \")\n",
    "            \n",
    "            "
   ]
  },
  {
   "cell_type": "code",
   "execution_count": 120,
   "id": "89b5a8e5",
   "metadata": {},
   "outputs": [
    {
     "name": "stdout",
     "output_type": "stream",
     "text": [
      "ENTER NO.20\n",
      "1\n",
      "20\n",
      "2\n",
      "10\n",
      "4\n",
      "5\n"
     ]
    }
   ],
   "source": [
    "#optimized all divisor code\n",
    "n=int(input(\"ENTER NO.\"))\n",
    "x=1\n",
    "while x*x<n:\n",
    "    if n%x==0:\n",
    "        print(x)\n",
    "        print(n//x)\n",
    "    x=x+1\n",
    "    if x*x==n:\n",
    "        print(x,end=\" \")"
   ]
  },
  {
   "cell_type": "code",
   "execution_count": 122,
   "id": "947db73e",
   "metadata": {},
   "outputs": [
    {
     "name": "stdout",
     "output_type": "stream",
     "text": [
      "Enter n:\n",
      "20\n",
      "1\n",
      "2\n",
      "4\n"
     ]
    }
   ],
   "source": [
    "n = int(input(\"Enter n:\\n\"))\n",
    "\n",
    "x = 1\n",
    "while x*x<n:\n",
    "\n",
    "    if n%x ==0:\n",
    "        print(x)\n",
    "        print(n//x)\n",
    "\n",
    "    x=x+1\n",
    "\n",
    "    if x*x == n:\n",
    "        print(x)"
   ]
  },
  {
   "cell_type": "code",
   "execution_count": 127,
   "id": "73dfe3e8",
   "metadata": {
    "scrolled": true
   },
   "outputs": [
    {
     "name": "stdout",
     "output_type": "stream",
     "text": [
      "Enter n:\n",
      "7\n",
      "Yes\n"
     ]
    }
   ],
   "source": [
    "n = int(input(\"Enter n:\\n\"))\n",
    "\n",
    "if n <= 1:\n",
    "    print(\"No\")\n",
    "else:\n",
    "    x = 2\n",
    "    while x * x <= n:\n",
    "\n",
    "        if n % x == 0:\n",
    "            print(\"No\")\n",
    "            break\n",
    "        x = x + 1\n",
    "\n",
    "    else:\n",
    "        print(\"Yes\")"
   ]
  },
  {
   "cell_type": "code",
   "execution_count": 138,
   "id": "8de9cd7d",
   "metadata": {},
   "outputs": [
    {
     "name": "stdout",
     "output_type": "stream",
     "text": [
      "5 10 15 20 25 30 35 40 45 50 "
     ]
    }
   ],
   "source": [
    "n=5\n",
    "for i in range(n,n*10+1,n): ## i in range(x,y,z) means i goes from x to y-1 and increments z steps in each iteration\n",
    "    print(i, end=\" \")"
   ]
  },
  {
   "cell_type": "code",
   "execution_count": 11,
   "id": "03eedf11",
   "metadata": {},
   "outputs": [
    {
     "name": "stdout",
     "output_type": "stream",
     "text": [
      "pooja das\n",
      "poads"
     ]
    }
   ],
   "source": [
    "s=input().strip()\n",
    "for i in range(len(s)):\n",
    "    if i%2==0:## from 0 to length of str and skip 2\n",
    "        print(s[i], end=\"\")"
   ]
  },
  {
   "cell_type": "code",
   "execution_count": 4,
   "id": "bfe398bd",
   "metadata": {},
   "outputs": [
    {
     "data": {
      "text/plain": [
       "[1, 2, 3, 4]"
      ]
     },
     "execution_count": 4,
     "metadata": {},
     "output_type": "execute_result"
    }
   ],
   "source": [
    "list(range(1,5))"
   ]
  },
  {
   "cell_type": "code",
   "execution_count": 8,
   "id": "869a0fcd",
   "metadata": {},
   "outputs": [
    {
     "name": "stdout",
     "output_type": "stream",
     "text": [
      "0\n"
     ]
    },
    {
     "data": {
      "text/plain": [
       "1"
      ]
     },
     "execution_count": 8,
     "metadata": {},
     "output_type": "execute_result"
    }
   ],
   "source": [
    "#next prime no,\n",
    "def nextprime(n):\n",
    "    while True:\n",
    "        n=n+1\n",
    "        for i in range(2,n):\n",
    "            if(n%i==0):\n",
    "                break\n",
    "        else:\n",
    "            return n\n",
    "            \n",
    "            \n",
    "n=int(input())\n",
    "nextprime(n)"
   ]
  },
  {
   "cell_type": "code",
   "execution_count": 68,
   "id": "8de03a2f",
   "metadata": {},
   "outputs": [
    {
     "name": "stdout",
     "output_type": "stream",
     "text": [
      "10 15\n",
      "15 10\n",
      "*****************\n",
      "15 10\n",
      "10 5\n",
      "*****************\n",
      "10 5\n",
      "5 0\n",
      "*****************\n",
      "5\n"
     ]
    }
   ],
   "source": [
    "a=10\n",
    "b=15\n",
    "while b:\n",
    "    print(a,b)\n",
    "    a,b=b,a%b\n",
    "    print(a,b)\n",
    "    print(\"*****************\")\n",
    "    \n",
    "print(a)    "
   ]
  },
  {
   "cell_type": "code",
   "execution_count": 122,
   "id": "0500c4e4",
   "metadata": {
    "scrolled": true
   },
   "outputs": [
    {
     "name": "stdout",
     "output_type": "stream",
     "text": [
      "Xvzwdiroslsygspmkjvz Dxzyvsrsuvyfimeohwxxoqoobrqyibhwxgjfsblmcnttvcjjlr Rmbanz Jkmgsmfkkxgcgmtyonvcqtycujmigzvyrwphpfprdvlopyhssgavugqn Rehkd  Jnmsdpmpyzepjyhihrqqdrliouzvwbsqqwzsfz Cxrvblsmgbhdhnzkxreoguxqopxihgkyryxytmveyxgtbcc\n",
      "7\n",
      "7\n"
     ]
    }
   ],
   "source": [
    "def capCount(s):\n",
    "    \n",
    "    # Code here to print after captilizing first letter of all string\n",
    "    \n",
    "    print(s.title())\n",
    "    print(len(list(s.split())))\n",
    "    print(len(s.split()))\n",
    "    \n",
    "    # and then print the count of number of words\n",
    "    # Your code should provide a new line after printing\n",
    "capCount(\"xvzwdiroslsygspmkjvz dxzyvsrsuvyfimeohwxxoqoobrqyibhwxgjfsblmcnttvcjjlr rmbanz jkmgsmfkkxgcgmtyonvcqtycujmigzvyrwphpfprdvlopyhssgavugqn rehkd  jnmsdpmpyzepjyhihrqqdrliouzvwbsqqwzsfz cxrvblsmgbhdhnzkxreoguxqopxihgkyryxytmveyxgtbcc\")"
   ]
  },
  {
   "cell_type": "markdown",
   "id": "27901efc",
   "metadata": {},
   "source": [
    "xvzwdiroslsygspmkjvz dxzyvsrsuvyfimeohwxxoqoobrqyibhwxgjfsblmcnttvcjjlr rmbanz jkmgsmfkkxgcgmtyonvcqtycujmigzvyrwphpfprdvlopyhssgavugqn rehkd  jnmsdpmpyzepjyhihrqqdrliouzvwbsqqwzsfz cxrvblsmgbhdhnzkxreoguxqopxihgkyryxytmveyxgtbcc"
   ]
  },
  {
   "cell_type": "code",
   "execution_count": 130,
   "id": "0b880cbc",
   "metadata": {},
   "outputs": [],
   "source": [
    "s=\"xvzwdiroslsygspmkjvz dxzyvsrsuvyfimeohwxxoqoobrqyibhwxgjfsblmcnttvcjjlr rmbanz jkmgsmfkkxgcgmtyonvcqtycujmigzvyrwphpfprdvlopyhssgavugqn rehkd  jnmsdpmpyzepjyhihrqqdrliouzvwbsqqwzsfz cxrvblsmgbhdhnzkxreoguxqopxihgkyryxytmveyxgtbcc\"\n",
    "m=\"Xvzwdiroslsygspmkjvz Dxzyvsrsuvyfimeohwxxoqoobrqyibhwxgjfsblmcnttvcjjlr Rmbanz Jkmgsmfkkxgcgmtyonvcqtycujmigzvyrwphpfprdvlopyhssgavugqn Rehkd  Jnmsdpmpyzepjyhihrqqdrliouzvwbsqqwzsfz Cxrvblsmgbhdhnzkxreoguxqopxihgkyryxytmveyxgtbcc\"\n",
    "o=\"Xvzwdiroslsygspmkjvz Dxzyvsrsuvyfimeohwxxoqoobrqyibhwxgjfsblmcnttvcjjlr Rmbanz Jkmgsmfkkxgcgmtyonvcqtycujmigzvyrwphpfprdvlopyhssgavugqn Rehkd  Jnmsdpmpyzepjyhihrqqdrliouzvwbsqqwzsfz Cxrvblsmgbhdhnzkxreoguxqopxihgkyryxytmveyxgtbcc\""
   ]
  },
  {
   "cell_type": "code",
   "execution_count": 134,
   "id": "04cc99ac",
   "metadata": {},
   "outputs": [
    {
     "data": {
      "text/plain": [
       "True"
      ]
     },
     "execution_count": 134,
     "metadata": {},
     "output_type": "execute_result"
    }
   ],
   "source": [
    "len(s)==len(o)\n"
   ]
  },
  {
   "cell_type": "code",
   "execution_count": 132,
   "id": "613234b9",
   "metadata": {},
   "outputs": [
    {
     "data": {
      "text/plain": [
       "False"
      ]
     },
     "execution_count": 132,
     "metadata": {},
     "output_type": "execute_result"
    }
   ],
   "source": [
    "s==o"
   ]
  },
  {
   "cell_type": "code",
   "execution_count": 135,
   "id": "cab833d3",
   "metadata": {},
   "outputs": [
    {
     "data": {
      "text/plain": [
       "True"
      ]
     },
     "execution_count": 135,
     "metadata": {},
     "output_type": "execute_result"
    }
   ],
   "source": [
    "m==o"
   ]
  },
  {
   "cell_type": "code",
   "execution_count": 140,
   "id": "b658c0fc",
   "metadata": {},
   "outputs": [
    {
     "data": {
      "text/plain": [
       "7"
      ]
     },
     "execution_count": 140,
     "metadata": {},
     "output_type": "execute_result"
    }
   ],
   "source": [
    "len(s.split())"
   ]
  },
  {
   "cell_type": "code",
   "execution_count": 141,
   "id": "f1849deb",
   "metadata": {},
   "outputs": [
    {
     "data": {
      "text/plain": [
       "7"
      ]
     },
     "execution_count": 141,
     "metadata": {},
     "output_type": "execute_result"
    }
   ],
   "source": [
    "len(o.split())"
   ]
  },
  {
   "cell_type": "code",
   "execution_count": 139,
   "id": "ab7c737f",
   "metadata": {},
   "outputs": [
    {
     "data": {
      "text/plain": [
       "7"
      ]
     },
     "execution_count": 139,
     "metadata": {},
     "output_type": "execute_result"
    }
   ],
   "source": [
    "len(m.split())"
   ]
  },
  {
   "cell_type": "code",
   "execution_count": 145,
   "id": "9d0ae6cc",
   "metadata": {},
   "outputs": [
    {
     "name": "stdout",
     "output_type": "stream",
     "text": [
      "Xvzwdiroslsygspmkjvz Dxzyvsrsuvyfimeohwxxoqoobrqyibhwxgjfsblmcnttvcjjlr Rmbanz Jkmgsmfkkxgcgmtyonvcqtycujmigzvyrwphpfprdvlopyhssgavugqn Rehkd  Jnmsdpmpyzepjyhihrqqdrliouzvwbsqqwzsfz Cxrvblsmgbhdhnzkxreoguxqopxihgkyryxytmveyxgtbcc\n",
      "7\n"
     ]
    }
   ],
   "source": [
    "\n",
    "def capCount(s):\n",
    "    count=0\n",
    "    # Code here to print after captilizing first letter of all string\n",
    "    c=s.title()\n",
    "    print(c)\n",
    "    for i in c:\n",
    "        if(i.isupper()):\n",
    "            count=count+1\n",
    "    print(count) \n",
    "s=\"xvzwdiroslsygspmkjvz dxzyvsrsuvyfimeohwxxoqoobrqyibhwxgjfsblmcnttvcjjlr rmbanz jkmgsmfkkxgcgmtyonvcqtycujmigzvyrwphpfprdvlopyhssgavugqn rehkd  jnmsdpmpyzepjyhihrqqdrliouzvwbsqqwzsfz cxrvblsmgbhdhnzkxreoguxqopxihgkyryxytmveyxgtbcc\"\n",
    "    \n",
    "capCount(s)     "
   ]
  },
  {
   "cell_type": "code",
   "execution_count": 147,
   "id": "f43b98c4",
   "metadata": {},
   "outputs": [
    {
     "name": "stdout",
     "output_type": "stream",
     "text": [
      "34\n",
      "10\n"
     ]
    }
   ],
   "source": [
    "def capitalize_first_last_letters(str1):\n",
    "    str1 = result = str1.title()\n",
    "    result =  \"\"\n",
    "    for word in str1.split():\n",
    "        result += word[:-1] + word[-1].upper() + \" \"\n",
    "    return len(result[:-1])  \n",
    "     \n",
    "print(capitalize_first_last_letters(\"python exercises practice solution\"))\n",
    "print(capitalize_first_last_letters(\"w3resource\"))"
   ]
  },
  {
   "cell_type": "code",
   "execution_count": 148,
   "id": "1a7b2c38",
   "metadata": {},
   "outputs": [
    {
     "data": {
      "text/plain": [
       "3"
      ]
     },
     "execution_count": 148,
     "metadata": {},
     "output_type": "execute_result"
    }
   ],
   "source": [
    "3*1**3"
   ]
  },
  {
   "cell_type": "code",
   "execution_count": 149,
   "id": "a65fbc08",
   "metadata": {},
   "outputs": [
    {
     "name": "stdout",
     "output_type": "stream",
     "text": [
      "0\n",
      "1\n",
      "2\n"
     ]
    }
   ],
   "source": [
    "i = 0\n",
    "while i < 5:\n",
    "    print(i)\n",
    "    i += 1\n",
    "    if i == 3:\n",
    "        break\n",
    "else:\n",
    "    print(0)"
   ]
  },
  {
   "cell_type": "code",
   "execution_count": 164,
   "id": "e68e9a28",
   "metadata": {},
   "outputs": [
    {
     "ename": "IndentationError",
     "evalue": "expected an indented block (Temp/ipykernel_2276/695041236.py, line 2)",
     "output_type": "error",
     "traceback": [
      "\u001b[1;36m  File \u001b[1;32m\"C:\\Users\\HP\\AppData\\Local\\Temp/ipykernel_2276/695041236.py\"\u001b[1;36m, line \u001b[1;32m2\u001b[0m\n\u001b[1;33m    for num in range(1,n+1):\u001b[0m\n\u001b[1;37m    ^\u001b[0m\n\u001b[1;31mIndentationError\u001b[0m\u001b[1;31m:\u001b[0m expected an indented block\n"
     ]
    }
   ],
   "source": [
    "def prime(n):\n",
    "for num in range(1,n+1):\n",
    "    if num>1:\n",
    "        for i in range(2,num-1): \n",
    "            if num%i==0: \n",
    "                break\n",
    "        else:   \n",
    "            print(num,end=\" , \")\n",
    "n=int(input()\n",
    "prime(n)        "
   ]
  },
  {
   "cell_type": "code",
   "execution_count": 213,
   "id": "03ee1936",
   "metadata": {},
   "outputs": [
    {
     "name": "stdout",
     "output_type": "stream",
     "text": [
      "1\n"
     ]
    }
   ],
   "source": [
    "\n",
    "# for num in range(1,10+1):\n",
    "    \n",
    "    #checking number is greater than 1 or not\n",
    "#     if num>1:\n",
    "l=[]\n",
    "c=0\n",
    "for i in range(1,10+1): \n",
    "    if num%i==0: \n",
    "        \n",
    "        l.append(i)\n",
    "# print(l)\n",
    "for i in l:\n",
    "   \n",
    "    for j in range(1,i):\n",
    "        if i%j==0:\n",
    "            break\n",
    "    else:\n",
    "        c=c+1\n",
    "        print(c)\n",
    "\n",
    "    \n",
    "    \n",
    "   "
   ]
  },
  {
   "cell_type": "code",
   "execution_count": 211,
   "id": "5b8b482c",
   "metadata": {},
   "outputs": [
    {
     "name": "stdout",
     "output_type": "stream",
     "text": [
      "1\n"
     ]
    }
   ],
   "source": [
    "l=[1, 2, 5, 10]\n",
    "c=0\n",
    "for i in l:\n",
    "#     print(i)\n",
    "    \n",
    "    for j in range(1,i+):\n",
    "        if i%j==0:\n",
    "            break\n",
    "    else:\n",
    "        print(j)"
   ]
  },
  {
   "cell_type": "code",
   "execution_count": 204,
   "id": "bea03d18",
   "metadata": {},
   "outputs": [
    {
     "data": {
      "text/plain": [
       "[1]"
      ]
     },
     "execution_count": 204,
     "metadata": {},
     "output_type": "execute_result"
    }
   ],
   "source": [
    "list(range(1,2))"
   ]
  },
  {
   "cell_type": "code",
   "execution_count": 222,
   "id": "5e718533",
   "metadata": {},
   "outputs": [
    {
     "name": "stdout",
     "output_type": "stream",
     "text": [
      "[1, 2, 5, 10]\n",
      "2\n"
     ]
    }
   ],
   "source": [
    "def count_Primes_nums(n):\n",
    "    ctr = 0\n",
    "    l=[]\n",
    "    for i in range(1,n+1): \n",
    "        if n%i==0: \n",
    "            l.append(i)\n",
    "    print(l)\n",
    "    for num in l:\n",
    "        \n",
    "        if num <= 1:\n",
    "            continue\n",
    "        for i in range(2, num):\n",
    "            if (num % i) == 0:\n",
    "                break\n",
    "        else:\n",
    "            ctr += 1\n",
    "\n",
    "    return ctr\n",
    "\n",
    "print(count_Primes_nums(10))\n"
   ]
  },
  {
   "cell_type": "code",
   "execution_count": 227,
   "id": "7e642304",
   "metadata": {},
   "outputs": [
    {
     "data": {
      "text/plain": [
       "[2, 3, 4, 5, 6, 7, 8, 9]"
      ]
     },
     "execution_count": 227,
     "metadata": {},
     "output_type": "execute_result"
    }
   ],
   "source": [
    "list(range(2, 10))"
   ]
  },
  {
   "cell_type": "code",
   "execution_count": 228,
   "id": "4cc8fdc4",
   "metadata": {},
   "outputs": [
    {
     "data": {
      "text/plain": [
       "True"
      ]
     },
     "execution_count": 228,
     "metadata": {},
     "output_type": "execute_result"
    }
   ],
   "source": [
    "10%2==0"
   ]
  },
  {
   "cell_type": "code",
   "execution_count": 229,
   "id": "274a151c",
   "metadata": {},
   "outputs": [
    {
     "data": {
      "text/plain": [
       "False"
      ]
     },
     "execution_count": 229,
     "metadata": {},
     "output_type": "execute_result"
    }
   ],
   "source": [
    "10%3==0"
   ]
  },
  {
   "cell_type": "code",
   "execution_count": 264,
   "id": "30fc5aff",
   "metadata": {},
   "outputs": [
    {
     "name": "stdout",
     "output_type": "stream",
     "text": [
      "[1, 2, 3, 4, 5]\n",
      "0\n"
     ]
    }
   ],
   "source": [
    "def pa(n):\n",
    "#     rev=0\n",
    "    count=0\n",
    "    l=[]\n",
    "    for j in range(1,n+1):\n",
    "        l.append(j)\n",
    "    print(l)\n",
    "    for i in l:             \n",
    "  \n",
    "        # Find reverse of current number \n",
    "        t = i \n",
    "        rev = 0\n",
    "        while t > 0: \n",
    "            rev = rev * 10 + t % 10\n",
    "            t = t // 10\n",
    "  \n",
    "        # compare rev with the current number \n",
    "        if rev != i: \n",
    "            #print (i) \n",
    "            count = count + 1\n",
    "    print (count)\n",
    "#             if i != rev:\n",
    "#                 print(False)\n",
    "            \n",
    "\n",
    "\n",
    "pa(5)"
   ]
  },
  {
   "cell_type": "code",
   "execution_count": 256,
   "id": "7365ab1a",
   "metadata": {},
   "outputs": [
    {
     "data": {
      "text/plain": [
       "1"
      ]
     },
     "execution_count": 256,
     "metadata": {},
     "output_type": "execute_result"
    }
   ],
   "source": [
    "12//10\n"
   ]
  },
  {
   "cell_type": "code",
   "execution_count": 265,
   "id": "8fc58cab",
   "metadata": {},
   "outputs": [
    {
     "ename": "SyntaxError",
     "evalue": "invalid syntax (Temp/ipykernel_2276/2029582675.py, line 1)",
     "output_type": "error",
     "traceback": [
      "\u001b[1;36m  File \u001b[1;32m\"C:\\Users\\HP\\AppData\\Local\\Temp/ipykernel_2276/2029582675.py\"\u001b[1;36m, line \u001b[1;32m1\u001b[0m\n\u001b[1;33m    print ()'{0:-2%}'.format(1.0 / 3))\u001b[0m\n\u001b[1;37m            ^\u001b[0m\n\u001b[1;31mSyntaxError\u001b[0m\u001b[1;31m:\u001b[0m invalid syntax\n"
     ]
    }
   ],
   "source": [
    "print ()'0:-2%}'.format(1.0 / 3))"
   ]
  },
  {
   "cell_type": "code",
   "execution_count": 1,
   "id": "23ca0bd4",
   "metadata": {},
   "outputs": [
    {
     "data": {
      "text/plain": [
       "''"
      ]
     },
     "execution_count": 1,
     "metadata": {},
     "output_type": "execute_result"
    }
   ],
   "source": [
    "s=\"pooja\"\n",
    "s[:-1:-1]"
   ]
  },
  {
   "cell_type": "code",
   "execution_count": 10,
   "id": "11757c8e",
   "metadata": {},
   "outputs": [
    {
     "data": {
      "text/plain": [
       "'ajoop'"
      ]
     },
     "execution_count": 10,
     "metadata": {},
     "output_type": "execute_result"
    }
   ],
   "source": [
    "s[-1::-1]"
   ]
  },
  {
   "cell_type": "code",
   "execution_count": null,
   "id": "ea6d9158",
   "metadata": {},
   "outputs": [],
   "source": []
  }
 ],
 "metadata": {
  "kernelspec": {
   "display_name": "Python 3 (ipykernel)",
   "language": "python",
   "name": "python3"
  },
  "language_info": {
   "codemirror_mode": {
    "name": "ipython",
    "version": 3
   },
   "file_extension": ".py",
   "mimetype": "text/x-python",
   "name": "python",
   "nbconvert_exporter": "python",
   "pygments_lexer": "ipython3",
   "version": "3.9.7"
  }
 },
 "nbformat": 4,
 "nbformat_minor": 5
}
